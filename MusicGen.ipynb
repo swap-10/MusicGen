{
  "nbformat": 4,
  "nbformat_minor": 0,
  "metadata": {
    "accelerator": "GPU",
    "colab": {
      "name": "NigelDataMusicGen.ipynb",
      "provenance": [],
      "collapsed_sections": [],
      "mount_file_id": "1Skh5Vx4K7QZmrkm61fO7XkuluRm4s8CH",
      "authorship_tag": "ABX9TyNLKVvXkltfqmAx0jlnpGq2",
      "include_colab_link": true
    },
    "kernelspec": {
      "display_name": "Python 3",
      "name": "python3"
    },
    "language_info": {
      "name": "python"
    }
  },
  "cells": [
    {
      "cell_type": "markdown",
      "metadata": {
        "id": "view-in-github",
        "colab_type": "text"
      },
      "source": [
        "<a href=\"https://colab.research.google.com/github/swap-10/MusicGen/blob/main/NigelDataMusicGen.ipynb\" target=\"_parent\"><img src=\"https://colab.research.google.com/assets/colab-badge.svg\" alt=\"Open In Colab\"/></a>"
      ]
    },
    {
      "cell_type": "markdown",
      "metadata": {
        "id": "nPueHkTCTkPw"
      },
      "source": [
        "# Music Generation using LSTMs"
      ]
    },
    {
      "cell_type": "markdown",
      "metadata": {
        "id": "ys_d38ukTrUS"
      },
      "source": [
        "\n",
        "\n",
        "---\n",
        "\n"
      ]
    },
    {
      "cell_type": "markdown",
      "metadata": {
        "id": "FrpBn2fWT0M1"
      },
      "source": [
        "# Getting and organizing the dataset"
      ]
    },
    {
      "cell_type": "code",
      "metadata": {
        "colab": {
          "base_uri": "https://localhost:8080/"
        },
        "id": "FvWWRgH6A3QE",
        "outputId": "d222fb34-80c0-40ab-e9ac-062f3bf32701"
      },
      "source": [
        "%%bash\n",
        "mkdir abcdownloads\n",
        "for i in {1..21}\n",
        "do\n",
        "foo=$(printf \"http://www.nigelgatherer.com/tunes/abc/tb%02d.abc\" $i)\n",
        "name=$(printf \"tb%02d.abc\" $i)\n",
        "wget -O ./abcdownloads/$name \"${foo}\"\n",
        "done"
      ],
      "execution_count": 3,
      "outputs": [
        {
          "output_type": "stream",
          "name": "stderr",
          "text": [
            "--2021-10-04 10:01:36--  http://www.nigelgatherer.com/tunes/abc/tb01.abc\n",
            "Resolving www.nigelgatherer.com (www.nigelgatherer.com)... 185.195.15.60\n",
            "Connecting to www.nigelgatherer.com (www.nigelgatherer.com)|185.195.15.60|:80... connected.\n",
            "HTTP request sent, awaiting response... 200 OK\n",
            "Length: 15248 (15K) [text/plain]\n",
            "Saving to: ‘./abcdownloads/tb01.abc’\n",
            "\n",
            "     0K .......... ....                                       100% 65.1K=0.2s\n",
            "\n",
            "2021-10-04 10:01:37 (65.1 KB/s) - ‘./abcdownloads/tb01.abc’ saved [15248/15248]\n",
            "\n",
            "--2021-10-04 10:01:37--  http://www.nigelgatherer.com/tunes/abc/tb02.abc\n",
            "Resolving www.nigelgatherer.com (www.nigelgatherer.com)... 185.195.15.60\n",
            "Connecting to www.nigelgatherer.com (www.nigelgatherer.com)|185.195.15.60|:80... connected.\n",
            "HTTP request sent, awaiting response... 200 OK\n",
            "Length: 15999 (16K) [text/plain]\n",
            "Saving to: ‘./abcdownloads/tb02.abc’\n",
            "\n",
            "     0K .......... .....                                      100% 68.4K=0.2s\n",
            "\n",
            "2021-10-04 10:01:38 (68.4 KB/s) - ‘./abcdownloads/tb02.abc’ saved [15999/15999]\n",
            "\n",
            "--2021-10-04 10:01:38--  http://www.nigelgatherer.com/tunes/abc/tb03.abc\n",
            "Resolving www.nigelgatherer.com (www.nigelgatherer.com)... 185.195.15.60\n",
            "Connecting to www.nigelgatherer.com (www.nigelgatherer.com)|185.195.15.60|:80... connected.\n",
            "HTTP request sent, awaiting response... 200 OK\n",
            "Length: 13699 (13K) [text/plain]\n",
            "Saving to: ‘./abcdownloads/tb03.abc’\n",
            "\n",
            "     0K .......... ...                                        100% 53.6M=0s\n",
            "\n",
            "2021-10-04 10:01:39 (53.6 MB/s) - ‘./abcdownloads/tb03.abc’ saved [13699/13699]\n",
            "\n",
            "--2021-10-04 10:01:39--  http://www.nigelgatherer.com/tunes/abc/tb04.abc\n",
            "Resolving www.nigelgatherer.com (www.nigelgatherer.com)... 185.195.15.60\n",
            "Connecting to www.nigelgatherer.com (www.nigelgatherer.com)|185.195.15.60|:80... connected.\n",
            "HTTP request sent, awaiting response... 200 OK\n",
            "Length: 15399 (15K) [text/plain]\n",
            "Saving to: ‘./abcdownloads/tb04.abc’\n",
            "\n",
            "     0K .......... .....                                      100% 64.0K=0.2s\n",
            "\n",
            "2021-10-04 10:01:39 (64.0 KB/s) - ‘./abcdownloads/tb04.abc’ saved [15399/15399]\n",
            "\n",
            "--2021-10-04 10:01:39--  http://www.nigelgatherer.com/tunes/abc/tb05.abc\n",
            "Resolving www.nigelgatherer.com (www.nigelgatherer.com)... 185.195.15.60\n",
            "Connecting to www.nigelgatherer.com (www.nigelgatherer.com)|185.195.15.60|:80... connected.\n",
            "HTTP request sent, awaiting response... 200 OK\n",
            "Length: 15914 (16K) [text/plain]\n",
            "Saving to: ‘./abcdownloads/tb05.abc’\n",
            "\n",
            "     0K .......... .....                                      100% 67.8K=0.2s\n",
            "\n",
            "2021-10-04 10:01:40 (67.8 KB/s) - ‘./abcdownloads/tb05.abc’ saved [15914/15914]\n",
            "\n",
            "--2021-10-04 10:01:40--  http://www.nigelgatherer.com/tunes/abc/tb06.abc\n",
            "Resolving www.nigelgatherer.com (www.nigelgatherer.com)... 185.195.15.60\n",
            "Connecting to www.nigelgatherer.com (www.nigelgatherer.com)|185.195.15.60|:80... connected.\n",
            "HTTP request sent, awaiting response... 200 OK\n",
            "Length: 16068 (16K) [text/plain]\n",
            "Saving to: ‘./abcdownloads/tb06.abc’\n",
            "\n",
            "     0K .......... .....                                      100% 68.6K=0.2s\n",
            "\n",
            "2021-10-04 10:01:41 (68.6 KB/s) - ‘./abcdownloads/tb06.abc’ saved [16068/16068]\n",
            "\n",
            "--2021-10-04 10:01:41--  http://www.nigelgatherer.com/tunes/abc/tb07.abc\n",
            "Resolving www.nigelgatherer.com (www.nigelgatherer.com)... 185.195.15.60\n",
            "Connecting to www.nigelgatherer.com (www.nigelgatherer.com)|185.195.15.60|:80... connected.\n",
            "HTTP request sent, awaiting response... 200 OK\n",
            "Length: 14672 (14K) [text/plain]\n",
            "Saving to: ‘./abcdownloads/tb07.abc’\n",
            "\n",
            "     0K .......... ....                                       100% 60.7K=0.2s\n",
            "\n",
            "2021-10-04 10:01:42 (60.7 KB/s) - ‘./abcdownloads/tb07.abc’ saved [14672/14672]\n",
            "\n",
            "--2021-10-04 10:01:42--  http://www.nigelgatherer.com/tunes/abc/tb08.abc\n",
            "Resolving www.nigelgatherer.com (www.nigelgatherer.com)... 185.195.15.60\n",
            "Connecting to www.nigelgatherer.com (www.nigelgatherer.com)|185.195.15.60|:80... connected.\n",
            "HTTP request sent, awaiting response... 200 OK\n",
            "Length: 15919 (16K) [text/plain]\n",
            "Saving to: ‘./abcdownloads/tb08.abc’\n",
            "\n",
            "     0K .......... .....                                      100% 66.0K=0.2s\n",
            "\n",
            "2021-10-04 10:01:42 (66.0 KB/s) - ‘./abcdownloads/tb08.abc’ saved [15919/15919]\n",
            "\n",
            "--2021-10-04 10:01:43--  http://www.nigelgatherer.com/tunes/abc/tb09.abc\n",
            "Resolving www.nigelgatherer.com (www.nigelgatherer.com)... 185.195.15.60\n",
            "Connecting to www.nigelgatherer.com (www.nigelgatherer.com)|185.195.15.60|:80... connected.\n",
            "HTTP request sent, awaiting response... 200 OK\n",
            "Length: 18287 (18K) [text/plain]\n",
            "Saving to: ‘./abcdownloads/tb09.abc’\n",
            "\n",
            "     0K .......... .......                                    100% 77.8K=0.2s\n",
            "\n",
            "2021-10-04 10:01:44 (77.8 KB/s) - ‘./abcdownloads/tb09.abc’ saved [18287/18287]\n",
            "\n",
            "--2021-10-04 10:01:44--  http://www.nigelgatherer.com/tunes/abc/tb10.abc\n",
            "Resolving www.nigelgatherer.com (www.nigelgatherer.com)... 185.195.15.60\n",
            "Connecting to www.nigelgatherer.com (www.nigelgatherer.com)|185.195.15.60|:80... connected.\n",
            "HTTP request sent, awaiting response... 200 OK\n",
            "Length: 16867 (16K) [text/plain]\n",
            "Saving to: ‘./abcdownloads/tb10.abc’\n",
            "\n",
            "     0K .......... ......                                     100% 71.6K=0.2s\n",
            "\n",
            "2021-10-04 10:01:44 (71.6 KB/s) - ‘./abcdownloads/tb10.abc’ saved [16867/16867]\n",
            "\n",
            "--2021-10-04 10:01:44--  http://www.nigelgatherer.com/tunes/abc/tb11.abc\n",
            "Resolving www.nigelgatherer.com (www.nigelgatherer.com)... 185.195.15.60\n",
            "Connecting to www.nigelgatherer.com (www.nigelgatherer.com)|185.195.15.60|:80... connected.\n",
            "HTTP request sent, awaiting response... 200 OK\n",
            "Length: 18083 (18K) [text/plain]\n",
            "Saving to: ‘./abcdownloads/tb11.abc’\n",
            "\n",
            "     0K .......... .......                                    100% 74.5K=0.2s\n",
            "\n",
            "2021-10-04 10:01:45 (74.5 KB/s) - ‘./abcdownloads/tb11.abc’ saved [18083/18083]\n",
            "\n",
            "--2021-10-04 10:01:45--  http://www.nigelgatherer.com/tunes/abc/tb12.abc\n",
            "Resolving www.nigelgatherer.com (www.nigelgatherer.com)... 185.195.15.60\n",
            "Connecting to www.nigelgatherer.com (www.nigelgatherer.com)|185.195.15.60|:80... connected.\n",
            "HTTP request sent, awaiting response... 200 OK\n",
            "Length: 16510 (16K) [text/plain]\n",
            "Saving to: ‘./abcdownloads/tb12.abc’\n",
            "\n",
            "     0K .......... ......                                     100% 70.1K=0.2s\n",
            "\n",
            "2021-10-04 10:01:46 (70.1 KB/s) - ‘./abcdownloads/tb12.abc’ saved [16510/16510]\n",
            "\n",
            "--2021-10-04 10:01:46--  http://www.nigelgatherer.com/tunes/abc/tb13.abc\n",
            "Resolving www.nigelgatherer.com (www.nigelgatherer.com)... 185.195.15.60\n",
            "Connecting to www.nigelgatherer.com (www.nigelgatherer.com)|185.195.15.60|:80... connected.\n",
            "HTTP request sent, awaiting response... 200 OK\n",
            "Length: 19171 (19K) [text/plain]\n",
            "Saving to: ‘./abcdownloads/tb13.abc’\n",
            "\n",
            "     0K .......... ........                                   100% 79.4K=0.2s\n",
            "\n",
            "2021-10-04 10:01:47 (79.4 KB/s) - ‘./abcdownloads/tb13.abc’ saved [19171/19171]\n",
            "\n",
            "--2021-10-04 10:01:47--  http://www.nigelgatherer.com/tunes/abc/tb14.abc\n",
            "Resolving www.nigelgatherer.com (www.nigelgatherer.com)... 185.195.15.60\n",
            "Connecting to www.nigelgatherer.com (www.nigelgatherer.com)|185.195.15.60|:80... connected.\n",
            "HTTP request sent, awaiting response... 200 OK\n",
            "Length: 16861 (16K) [text/plain]\n",
            "Saving to: ‘./abcdownloads/tb14.abc’\n",
            "\n",
            "     0K .......... ......                                     100% 71.9K=0.2s\n",
            "\n",
            "2021-10-04 10:01:48 (71.9 KB/s) - ‘./abcdownloads/tb14.abc’ saved [16861/16861]\n",
            "\n",
            "--2021-10-04 10:01:48--  http://www.nigelgatherer.com/tunes/abc/tb15.abc\n",
            "Resolving www.nigelgatherer.com (www.nigelgatherer.com)... 185.195.15.60\n",
            "Connecting to www.nigelgatherer.com (www.nigelgatherer.com)|185.195.15.60|:80... connected.\n",
            "HTTP request sent, awaiting response... 200 OK\n",
            "Length: 16272 (16K) [text/plain]\n",
            "Saving to: ‘./abcdownloads/tb15.abc’\n",
            "\n",
            "     0K .......... .....                                      100% 67.3K=0.2s\n",
            "\n",
            "2021-10-04 10:01:49 (67.3 KB/s) - ‘./abcdownloads/tb15.abc’ saved [16272/16272]\n",
            "\n",
            "--2021-10-04 10:01:49--  http://www.nigelgatherer.com/tunes/abc/tb16.abc\n",
            "Resolving www.nigelgatherer.com (www.nigelgatherer.com)... 185.195.15.60\n",
            "Connecting to www.nigelgatherer.com (www.nigelgatherer.com)|185.195.15.60|:80... connected.\n",
            "HTTP request sent, awaiting response... 200 OK\n",
            "Length: 17605 (17K) [text/plain]\n",
            "Saving to: ‘./abcdownloads/tb16.abc’\n",
            "\n",
            "     0K .......... .......                                    100% 75.0K=0.2s\n",
            "\n",
            "2021-10-04 10:01:50 (75.0 KB/s) - ‘./abcdownloads/tb16.abc’ saved [17605/17605]\n",
            "\n",
            "--2021-10-04 10:01:50--  http://www.nigelgatherer.com/tunes/abc/tb17.abc\n",
            "Resolving www.nigelgatherer.com (www.nigelgatherer.com)... 185.195.15.60\n",
            "Connecting to www.nigelgatherer.com (www.nigelgatherer.com)|185.195.15.60|:80... connected.\n",
            "HTTP request sent, awaiting response... 200 OK\n",
            "Length: 15555 (15K) [text/plain]\n",
            "Saving to: ‘./abcdownloads/tb17.abc’\n",
            "\n",
            "     0K .......... .....                                      100% 66.5K=0.2s\n",
            "\n",
            "2021-10-04 10:01:50 (66.5 KB/s) - ‘./abcdownloads/tb17.abc’ saved [15555/15555]\n",
            "\n",
            "--2021-10-04 10:01:50--  http://www.nigelgatherer.com/tunes/abc/tb18.abc\n",
            "Resolving www.nigelgatherer.com (www.nigelgatherer.com)... 185.195.15.60\n",
            "Connecting to www.nigelgatherer.com (www.nigelgatherer.com)|185.195.15.60|:80... connected.\n",
            "HTTP request sent, awaiting response... 200 OK\n",
            "Length: 9449 (9.2K) [text/plain]\n",
            "Saving to: ‘./abcdownloads/tb18.abc’\n",
            "\n",
            "     0K .........                                             100%  100M=0s\n",
            "\n",
            "2021-10-04 10:01:51 (100 MB/s) - ‘./abcdownloads/tb18.abc’ saved [9449/9449]\n",
            "\n",
            "--2021-10-04 10:01:51--  http://www.nigelgatherer.com/tunes/abc/tb19.abc\n",
            "Resolving www.nigelgatherer.com (www.nigelgatherer.com)... 185.195.15.60\n",
            "Connecting to www.nigelgatherer.com (www.nigelgatherer.com)|185.195.15.60|:80... connected.\n",
            "HTTP request sent, awaiting response... 200 OK\n",
            "Length: 14730 (14K) [text/plain]\n",
            "Saving to: ‘./abcdownloads/tb19.abc’\n",
            "\n",
            "     0K .......... ....                                       100% 60.5K=0.2s\n",
            "\n",
            "2021-10-04 10:01:51 (60.5 KB/s) - ‘./abcdownloads/tb19.abc’ saved [14730/14730]\n",
            "\n",
            "--2021-10-04 10:01:51--  http://www.nigelgatherer.com/tunes/abc/tb20.abc\n",
            "Resolving www.nigelgatherer.com (www.nigelgatherer.com)... 185.195.15.60\n",
            "Connecting to www.nigelgatherer.com (www.nigelgatherer.com)|185.195.15.60|:80... connected.\n",
            "HTTP request sent, awaiting response... 200 OK\n",
            "Length: 17814 (17K) [text/plain]\n",
            "Saving to: ‘./abcdownloads/tb20.abc’\n",
            "\n",
            "     0K .......... .......                                    100% 73.4K=0.2s\n",
            "\n",
            "2021-10-04 10:01:52 (73.4 KB/s) - ‘./abcdownloads/tb20.abc’ saved [17814/17814]\n",
            "\n",
            "--2021-10-04 10:01:52--  http://www.nigelgatherer.com/tunes/abc/tb21.abc\n",
            "Resolving www.nigelgatherer.com (www.nigelgatherer.com)... 185.195.15.60\n",
            "Connecting to www.nigelgatherer.com (www.nigelgatherer.com)|185.195.15.60|:80... connected.\n",
            "HTTP request sent, awaiting response... 200 OK\n",
            "Length: 26306 (26K) [text/plain]\n",
            "Saving to: ‘./abcdownloads/tb21.abc’\n",
            "\n",
            "     0K .......... .......... .....                           100%  109K=0.2s\n",
            "\n",
            "2021-10-04 10:01:53 (109 KB/s) - ‘./abcdownloads/tb21.abc’ saved [26306/26306]\n",
            "\n"
          ]
        }
      ]
    },
    {
      "cell_type": "markdown",
      "metadata": {
        "id": "9-R-F1ssUAuO"
      },
      "source": [
        "<h2>Careful! This will delete the downloaded dataset. For experimentation, to re-download data\n",
        "<h2>"
      ]
    },
    {
      "cell_type": "code",
      "metadata": {
        "id": "zqFKFM7v3khE"
      },
      "source": [
        "# Careful !\n",
        "\n",
        "\n",
        "!rm -rf abcdownloads"
      ],
      "execution_count": null,
      "outputs": []
    },
    {
      "cell_type": "markdown",
      "metadata": {
        "id": "cBGd_JG6UO-9"
      },
      "source": [
        "Importing and installing requirements"
      ]
    },
    {
      "cell_type": "code",
      "metadata": {
        "id": "bF-tc11Q_67Y"
      },
      "source": [
        "%tensorflow_version 2.x\n",
        "# Sets the tensorflow version to 2.x (choosing from 1.x and 2.x)"
      ],
      "execution_count": null,
      "outputs": []
    },
    {
      "cell_type": "code",
      "metadata": {
        "colab": {
          "base_uri": "https://localhost:8080/"
        },
        "id": "tRmJfSOeB4X-",
        "outputId": "cfa980bd-a65a-4585-f2d9-37956c2a3148"
      },
      "source": [
        "import tensorflow as tf\n",
        "import numpy as np\n",
        "import matplotlib.pyplot as plt\n",
        "\n",
        "!pip install mitdeeplearning\n",
        "import mitdeeplearning as mdl\n",
        "\n",
        "import os\n",
        "import time\n",
        "import functools\n",
        "from IPython import display as ipythondisplay\n",
        "from tqdm import tqdm\n",
        "!apt-get install abcmidi timidity"
      ],
      "execution_count": 1,
      "outputs": [
        {
          "output_type": "stream",
          "name": "stdout",
          "text": [
            "Collecting mitdeeplearning\n",
            "  Downloading mitdeeplearning-0.2.0.tar.gz (2.1 MB)\n",
            "\u001b[K     |████████████████████████████████| 2.1 MB 2.7 MB/s \n",
            "\u001b[?25hRequirement already satisfied: numpy in /usr/local/lib/python3.7/dist-packages (from mitdeeplearning) (1.19.5)\n",
            "Requirement already satisfied: regex in /usr/local/lib/python3.7/dist-packages (from mitdeeplearning) (2019.12.20)\n",
            "Requirement already satisfied: tqdm in /usr/local/lib/python3.7/dist-packages (from mitdeeplearning) (4.62.3)\n",
            "Requirement already satisfied: gym in /usr/local/lib/python3.7/dist-packages (from mitdeeplearning) (0.17.3)\n",
            "Requirement already satisfied: pyglet<=1.5.0,>=1.4.0 in /usr/local/lib/python3.7/dist-packages (from gym->mitdeeplearning) (1.5.0)\n",
            "Requirement already satisfied: cloudpickle<1.7.0,>=1.2.0 in /usr/local/lib/python3.7/dist-packages (from gym->mitdeeplearning) (1.3.0)\n",
            "Requirement already satisfied: scipy in /usr/local/lib/python3.7/dist-packages (from gym->mitdeeplearning) (1.4.1)\n",
            "Requirement already satisfied: future in /usr/local/lib/python3.7/dist-packages (from pyglet<=1.5.0,>=1.4.0->gym->mitdeeplearning) (0.16.0)\n",
            "Building wheels for collected packages: mitdeeplearning\n",
            "  Building wheel for mitdeeplearning (setup.py) ... \u001b[?25l\u001b[?25hdone\n",
            "  Created wheel for mitdeeplearning: filename=mitdeeplearning-0.2.0-py3-none-any.whl size=2115442 sha256=03f9c183db4fe16c5fd50eeaa0b2b68808bdbace30cf9780f8223750087e584b\n",
            "  Stored in directory: /root/.cache/pip/wheels/9a/b9/4f/99b7c8c5c75355550b83e1fcfc02956fb40c35eb01e2262877\n",
            "Successfully built mitdeeplearning\n",
            "Installing collected packages: mitdeeplearning\n",
            "Successfully installed mitdeeplearning-0.2.0\n",
            "Reading package lists... Done\n",
            "Building dependency tree       \n",
            "Reading state information... Done\n",
            "The following additional packages will be installed:\n",
            "  freepats libaudio2 timidity-daemon\n",
            "Suggested packages:\n",
            "  abcm2ps postscript-viewer nas fluid-soundfont-gm fluid-soundfont-gs pmidi\n",
            "The following NEW packages will be installed:\n",
            "  abcmidi freepats libaudio2 timidity timidity-daemon\n",
            "0 upgraded, 5 newly installed, 0 to remove and 37 not upgraded.\n",
            "Need to get 29.9 MB of archives.\n",
            "After this operation, 36.6 MB of additional disk space will be used.\n",
            "Get:1 http://archive.ubuntu.com/ubuntu bionic/universe amd64 abcmidi amd64 20180222-1 [280 kB]\n",
            "Get:2 http://archive.ubuntu.com/ubuntu bionic/universe amd64 freepats all 20060219-1 [29.0 MB]\n",
            "Get:3 http://archive.ubuntu.com/ubuntu bionic/main amd64 libaudio2 amd64 1.9.4-6 [50.3 kB]\n",
            "Get:4 http://archive.ubuntu.com/ubuntu bionic/universe amd64 timidity amd64 2.13.2-41 [585 kB]\n",
            "Get:5 http://archive.ubuntu.com/ubuntu bionic/universe amd64 timidity-daemon all 2.13.2-41 [5,984 B]\n",
            "Fetched 29.9 MB in 5s (5,964 kB/s)\n",
            "Selecting previously unselected package abcmidi.\n",
            "(Reading database ... 155047 files and directories currently installed.)\n",
            "Preparing to unpack .../abcmidi_20180222-1_amd64.deb ...\n",
            "Unpacking abcmidi (20180222-1) ...\n",
            "Selecting previously unselected package freepats.\n",
            "Preparing to unpack .../freepats_20060219-1_all.deb ...\n",
            "Unpacking freepats (20060219-1) ...\n",
            "Selecting previously unselected package libaudio2:amd64.\n",
            "Preparing to unpack .../libaudio2_1.9.4-6_amd64.deb ...\n",
            "Unpacking libaudio2:amd64 (1.9.4-6) ...\n",
            "Selecting previously unselected package timidity.\n",
            "Preparing to unpack .../timidity_2.13.2-41_amd64.deb ...\n",
            "Unpacking timidity (2.13.2-41) ...\n",
            "Selecting previously unselected package timidity-daemon.\n",
            "Preparing to unpack .../timidity-daemon_2.13.2-41_all.deb ...\n",
            "Unpacking timidity-daemon (2.13.2-41) ...\n",
            "Setting up abcmidi (20180222-1) ...\n",
            "Setting up freepats (20060219-1) ...\n",
            "Setting up libaudio2:amd64 (1.9.4-6) ...\n",
            "Setting up timidity (2.13.2-41) ...\n",
            "Setting up timidity-daemon (2.13.2-41) ...\n",
            "Adding group timidity....done\n",
            "Adding system user timidity....done\n",
            "Adding user `timidity' to group `audio' ...\n",
            "Adding user timidity to group audio\n",
            "Done.\n",
            "invoke-rc.d: could not determine current runlevel\n",
            "invoke-rc.d: policy-rc.d denied execution of stop.\n",
            "invoke-rc.d: could not determine current runlevel\n",
            "invoke-rc.d: policy-rc.d denied execution of start.\n",
            "Processing triggers for man-db (2.8.3-2ubuntu0.1) ...\n",
            "Processing triggers for libc-bin (2.27-3ubuntu1.3) ...\n",
            "/sbin/ldconfig.real: /usr/local/lib/python3.7/dist-packages/ideep4py/lib/libmkldnn.so.0 is not a symbolic link\n",
            "\n",
            "Processing triggers for systemd (237-3ubuntu10.52) ...\n"
          ]
        }
      ]
    },
    {
      "cell_type": "markdown",
      "metadata": {
        "id": "TiHYn_hnUwMm"
      },
      "source": [
        "GPU Not Necessary, but strongly recommended. On one instance, Training times observed were 8 minutes (GPU) v 7 hours (CPU)"
      ]
    },
    {
      "cell_type": "code",
      "metadata": {
        "id": "fB-IA1-nHQNE"
      },
      "source": [
        "assert len(tf.config.list_physical_devices('GPU'))>0 \n",
        "# Throws assertion error if no GPU"
      ],
      "execution_count": null,
      "outputs": []
    },
    {
      "cell_type": "markdown",
      "metadata": {
        "id": "zzL7wgxbUYZQ"
      },
      "source": [
        "# Data Cleaning, Preparation and Checking"
      ]
    },
    {
      "cell_type": "code",
      "metadata": {
        "id": "Fx30hVNFzwAL"
      },
      "source": [
        "for i in range(1,2):\n",
        "  with open('./abcdownloads/tb%02d.abc' %(i), \"r+\", encoding = \"utf-8\") as file:\n",
        "\n",
        "      # Move the pointer (similar to a cursor in a text editor) to the end of the file\n",
        "      file.seek(0, os.SEEK_END)\n",
        "\n",
        "      # This code means the following code skips the very last character in the file -\n",
        "      # i.e. in the case the last line is null we delete the last line\n",
        "      # and the penultimate one\n",
        "      pos = file.tell() - 2 \n",
        "      if pos > 0:\n",
        "          file.seek(pos, os.SEEK_SET)\n",
        "          file.truncate()\n",
        "for i in range(2,22):\n",
        "  with open('./abcdownloads/tb%02d.abc' %(i), \"r+\", encoding = \"utf-8\") as file:\n",
        "\n",
        "      # Move the pointer (similar to a cursor in a text editor) to the end of the file\n",
        "      file.seek(0, os.SEEK_END)\n",
        "\n",
        "      # This code means the following code skips the very last character in the file -\n",
        "      # i.e. in the case the last line is null we delete the last line\n",
        "      # and the penultimate one\n",
        "      pos = file.tell() - 2 \n",
        "      if pos > 0:\n",
        "          file.seek(pos, os.SEEK_SET)\n",
        "          file.truncate()\n",
        "      file.seek(0, os.SEEK_END)\n",
        "      file.write('\\n')"
      ],
      "execution_count": 4,
      "outputs": []
    },
    {
      "cell_type": "code",
      "metadata": {
        "id": "MHAq5m1RBd71",
        "colab": {
          "base_uri": "https://localhost:8080/"
        },
        "outputId": "cb1d97ac-a989-45d6-c17f-003315d9903a"
      },
      "source": [
        "a = ''\n",
        "for i in range(1,22):\n",
        "  print(i)\n",
        "  with open('./abcdownloads/tb%02d.abc' %(i), encoding='latin-1') as f:\n",
        "    a = a + f.read()\n",
        "a = a.split('\\n\\n')\n",
        "print(\"No. of songs:\", len(a))"
      ],
      "execution_count": 12,
      "outputs": [
        {
          "output_type": "stream",
          "name": "stdout",
          "text": [
            "1\n",
            "2\n",
            "3\n",
            "4\n",
            "5\n",
            "6\n",
            "7\n",
            "8\n",
            "9\n",
            "10\n",
            "11\n",
            "12\n",
            "13\n",
            "14\n",
            "15\n",
            "16\n",
            "17\n",
            "18\n",
            "19\n",
            "20\n",
            "21\n",
            "No. of songs: 1036\n"
          ]
        }
      ]
    },
    {
      "cell_type": "code",
      "metadata": {
        "colab": {
          "base_uri": "https://localhost:8080/"
        },
        "id": "sIKdnkF9Ct1u",
        "outputId": "7f1e1476-3783-487e-ecdf-a2d9aa045bd7"
      },
      "source": [
        "a = '\\n\\n'.join(a)\n",
        "mdl.lab1.extract_song_snippet(a)[:50]"
      ],
      "execution_count": 13,
      "outputs": [
        {
          "output_type": "stream",
          "name": "stdout",
          "text": [
            "Found 1041 songs in text\n"
          ]
        },
        {
          "output_type": "execute_result",
          "data": {
            "text/plain": [
              "[\"X:001\\nT:The Duke of Buccleugh's Tune\\nB:Apollo's Banquet, 1990, via... \\nB:The Popular Songs and Melodies of Scotland\\nZ:Nigel Gatherer\\nM:2/4\\nL:1/8\\nK:G\\nG<EG<E|A>GAB|G<EG>A|B2 d z|\\nGE/F/ GE|A>GAB|G<EG>A|B2 d z|]\",\n",
              " \"X:002\\nT:I Fee'd a Lad at Michaelmas\\nT:O Can You Labour Lea\\nB:Johnson's Scots Musical Museum, via...\\nB:The Popular Songs and Melodies of Scotland\\nZ:Nigel Gatherer\\nM:2/4\\nL:1/8\\nK:G\\nG>GGB|A>GAB|G<GGB|e3 g|\\nG>GGB|A>GAB|G<EE>D|G3|]\",\n",
              " \"X:003\\nT:The Miller's Wedding\\nT:The Miller's Daughter\\nB:Cumming's Collection, 1780, via...\\nB:The Popular Songs and Melodies of Scotland\\nZ:Nigel Gatherer\\nM:2/4\\nL:1/8\\nK:G\\nD|G<GG>E|A>GAB|D<DE>D|G3 B|\\nG<GG>E|A>GAB|D<DE>D|G3 z|]\",\n",
              " \"X:004\\nT:John O'Groats Jig\\nB:Kohlers Violin repository - slightly adapted\\nC:John Bain, Wick\\nZ:Nigel Gatherer\\nM:6/8\\nL:1/8\\nO:Scottish\\nR:jig\\nK:Dm\\nA/G/|FGA DFA|dfd ecA|Agf edc|=Bed c=BA|\\nFGA DFA|dfd ecA|Bgf ed^c|dDD D2:|\\nA|dfa afd|gbg ecA|dfa afd|=Bed c=BA|\\ndfa afd|gbg ecA|Bgf ed^c|dDD D2:|\",\n",
              " 'X:005\\nT:Miss Wharton Duff\\nC:William Marshall\\nZ:Nigel Gatherer\\nM:4/4\\nL:1/8\\nR:march\\nK:Bb\\nB,|B2 c2 d/f/d/B/ A/c/A/F/|EgDf Ce/c/ d/B/A/F/|\\nB2 c2 d/f/d/B/ A/c/A/F/|EgBb d/B/c/A/ B:|\\nf/g/4a/4|bf e/d/c/B/ b/f/e/d/ e/d/c/B/|egGc e/c/d/B/ B/A/G/F/|\\nEgDf Ce/c/ d/B/A/F/|b/f/d/B/ e/c/d/B/ F/B/A/c/ B:|',\n",
              " 'X:006\\nT:The Five Stringed Fiddle\\nC:Nigel Gatherer\\nN:In honour of Dick Rutter, violin\\nN:maker, Edinburgh\\nM:3/4\\nL:1/8\\nK:D\\nA,2|D4 FG|A4 D2|B2 c2 d2|F A3 D2|G3 ABG|F4 D2|B, E3 D2|C2 A2 A,2|\\nD4 FG|A4 D2|B2 c2 d2|F A3 D2|G3 ABG|F3 EDF|E3 DCE|D4:|\\nAB/c/|d2 f3 d|c2 e3 c|B3 cdB|A F3 D2|G3 ABG|F4 D2|B,2 E3 d|C2 A3 G|\\nF2 d3 F|G2 e3 G|A3 ceg|f3 dAF|G3 Beg|f3 edc|e2 d3 d|d4:|',\n",
              " 'X:007\\nT:The Skye Gathering\\nB:\"Ceol Na Fidhle\" Vol.I (Skye 1985)\\nZ:Nigel Gatherer\\nM:2/4\\nL:1/16\\nK:D\\nA>d|f>ed>e f<aA>d|f>gf>e d4|e2 e>f g>ef>d|\\ne4 A2 d>e|f>ed>e f<aA>d|B<GB>d A2 g2|f2 f<a e>Ae<f|d4 d2:|\\nf>g|a>Aa>g f>ed>e|f>Ad>e f4|g>fe>g f>ed>f|\\ne4 A2 f>g|a>Aa>g f>ed>c|B<dB<d A2 g2|f2 f<a e>Ae<f|d4 d2:|',\n",
              " \"X:008\\nT:The Boy's Lament for his Dragon\\nT:The 72nd's Farewell to Aberdeen\\nB:The Jimmy Shand Bagpipe March Book\\nZ:Nigel Gatherer\\nL:1/8\\nM:2/4\\nK:D\\nf|Ad de/>f/|g/>f/e/>d/ f2|gB Bc/>d/|e/>f/e/>c/ A2|Ad de/>f/|\\ng/>f/e/>d/ f2|gB f/>e/d/>c/ d2 d::f/g/|aA A=c|BG A>B|\\nAd Ad|e/>d/c/>B/ Af/>g/|aA A=c|BG A>B|Ad f/>e/d/>c/ d2 d:|\",\n",
              " 'X:009\\nT:Dark Island\\nC:Ian Maclachlan\\nS:Various records\\nZ:Nigel Gatherer\\nM:3/4\\nL:1/8\\nK:Dmix\\nE|A3 E A2|G3 A G2|E3 D C2|D4 GA|\\nB3 A G2|B d3 D2|B3 d B2|A4 DE|\\nA3 E A2|G3 A G2|E3 D C2|D4 GA|\\nB3 DdB|A3 DBA|G6|G4|]\\nBc|d3 D D2|B3 A G2|E C3 E2|D4 GA|\\nB3 A G2|B d3 D2|B3 d B2|A4 DE|\\nA3 E A2|G3 A G2|E3 D C2|D4 GA|\\nB3 DdB|A3 DBA|G6|G4|]',\n",
              " \"X:010\\nT:Dudley Street\\nC:Dan R MacDonald\\nB:The Trip to Windsor Collection\\nM:6/8\\nL:1/8\\nK:E\\nF|EFE EGB|eba gfe|fdB Bdf|agf AGF|EFE EGB|eba gfe|\\nfdB agf|e3 e2::g|bge Beg|Bba gfe|fdB Bdf|agf AGF|1bge Beg|\\nBba gfe|fdB agf|e3 e2:|2EGB Ace|Bdf egb|eac' bd'f'|e'3 e'2|]\",\n",
              " \"X:011\\nT:Andy Dejarlis Jig\\nB:Jerry Holland's Collection\\nM:6/8\\nL:1/8\\nK:E\\nz|EGB EGB|EGB c2 B|EBG EBG|=DFA B2 A|EGB EGB|\\nEGB c2 a|g2 f Bcd|e3 e2::a|gbg efg|b2 a c3|\\nf2 g f2 e|dcB c2 B|gbg efg|b2 a c2 g|g2 f Bcd|e3 e2:|\",\n",
              " \"X:012\\nT:New Year's Day\\nS:Gow's Complete Repository, c.1810\\nN:Transposed from F; 1st bar\\nN:changed from d/e/fe to dfe\\nZ:Nigel Gatherer\\nM:6/8 jig\\nL:1/8\\nK:D\\nF|D>ED dfe|dDD D2 F|D>ED d>ef|eEE E2 F|DEF dcB|\\nA2 g f2 e|d>cB AFd|AFD D2::F/G/|A>BA FAF|ABA F2 G|\\nABc d>ef|eEE E2 F|A>BA FAF|A2 g f2 e|dcB AFd|AFD D2:|\",\n",
              " \"X:013\\nT:The Shakin's o' the Pocky\\nC:James Scott Skinner and Peter Milne\\nB:adapted from The Caledonian Companion\\nN:as played by Aly Bain\\nZ:Nigel Gatherer\\nM:4/4\\nL:1/8\\nK:Bb \\nB,>DF>G F<D B,>A|B>A G/A/B/c/ d4|e>cd>B c>A BG|F<D B>D C2 C>D|\\nB,>DF>G F<D B,>A|B>A G/A/B/c/ d4|e>cd>B c>AB>G|G/F/E/D/ F/E/D/C/ B,2 B|]\\na|b>f d<B g<e c>a|b>f e/d/c/B/ f3 g/a/|b>f d<B g<ec>B|A>B c<f B2 B>a|\\nb>f d<B g<e c>a|b>f e/d/c/B/ f2 f>e|d>Be>c d/c/B/A/ B>G|\\\\\\nG/F/E/D/ F/E/D/C/ B,2 B|]\",\n",
              " 'X:014\\nT:Silver Wings Polka\\nC:Adam Rennie?\\nS:78rpm record\\nZ:Nigel Gatherer\\nM:4/4\\nL:1/8\\nK:F\\nc|a/>a/a/>a/ fA ed c2|F/>F/E/>F/ Ac ed B2|\\\\\\ne/>e/e/>e/ dd ee f2|g/>f/e/>f/ g/>a/g/>f/ ecde|\\na/>a/a/>a/ fA ed c2|F/>F/E/>F/ Ac d3 f|\\\\\\ne/>g/d/>f/ ee  e/>g/d/>f/ ee|1 e/>c/=B/>c/ de fc f:|\\\\\\n[2 e/>c/=B/>c/ fc f4|]\\nc2- c/>d/=B/>d/ c2- c/>d/B/>d/|cdef fe e2|\\\\\\nB2- B/>A/G/>A/ B2- B/>A/G/>A/|Bcde eA A2|\\nc2- c/>d/=B/>d/ c2- c/>d/=B/>d/|cdef ag d2|\\\\\\ng/>f/d/>f/ ee G/>F/D/>F/ EE|e/>c/=B/>c/ de fc f2:|\\na/>f/e/>g/ ff a/>f/e/>g/ ff|a/>f/e/>f/ bg d4|\\\\\\ng/>f/e/>f/ ee g/>f/e/>f/ ee|e/>c/=B/>c/ dc Fcde| \\na/>f/e/>g/ ff a/>f/e/>g/ ff|a/>f/e/>f/ bg d4|\\\\\\ng/>f/e/>f/ ee g/>f/e/>f/ ee|e/>c/=B/>c/ cd fc f2:|',\n",
              " 'X:015\\nT:The Old Man\\nS:Straloch MS, 1627\\nZ:Nigel Gatherer\\nO:Scottish\\nL:1/8\\nM:2/4\\nK:G\\ng2 g2|fg a2|g2 gd|B2 d2::e2 dB|A2 A2|BG dB|G2D2:|',\n",
              " 'X:016\\nT:Long Er Onie Old Man\\nB:Skene MS (Lute tablature), c1640\\nO:Scottish\\nZ:Nigel Gatherer\\nL:1/8\\nM:2/4\\nK:G\\nga ge|=fg a^f|ga gd|B2 d2:|ed Bd|=f3 A|\\nGG d2|GG d2|ed Bd|=f3 a|GG dG|AB d|]',\n",
              " \"X:017\\nT:Edinburgh Jigg\\nS:Gatherer's Musical Museum\\nZ:Nigel Gatherer\\nM:6/8\\nL:1/8\\nK:G\\nB|D2E G2A|Bdg dBG|gag efg|dBG A2B|D2E G2A|\\nege dBG|g2e dBG|AGG G2::d|gfg b2g|fef a2f|e^de gdB|\\nBee e2f|gfe dcB|ABG FED|GBd gdc|BGG G2:|\",\n",
              " 'X:018\\nT:Flowers of Edinburgh\\nS:from the playing of Dave Swarbrick\\nZ:Nigel Gatherer\\nM:2/4\\nL:1/8\\nK:G\\nD|GG BG/B/|dB g>e|dB B/A/G/A/|BG ED|\\nGG BG/B/|dB g>e|dB B/A/G/A/|BG G:|\\nd|g2 f>e|Be e>f|g2 f/g/f/e/|Be eg/e/|\\nd/B/G/B/ dd|e/d/e/f/ gg/e/|dB B/A/G/A/|BG G:|',\n",
              " 'X:019\\nT:The Tailor Made\\nC:Nigel Gatherer\\nM:6/8\\nL:1/8\\nK:Bminor\\nB/c/|dcB f2 B|F2 B Bcd|efg fed|cBA edc|dcB f2 B|F2 B Bcd|\\nefg f2 e|dBB B2::f|b2 f gfe|d2 B Bcd|cBA eAA|fAA e2 a|\\nb2 f gfe|fdB Bcd|cBA f2 e|dBB B2 f|b2 f gfe|d2 B Bcd|\\ncBA eAA|fAA e2 c|dcB edc|fed cde|fed cBA|FBB B2:|',\n",
              " \"X:020\\nT:Dunnigall's Rant\\nS:Andrew Adam's Music Book (ms)\\nZ:Nigel Gatherer\\nM:6/4\\nL:1/8\\nK:D\\nA3 G F2 E2 C2 E2|D2 F2 A2 D4 F2|DEFDdA F4 B2|\\nABAG F2 E2 C2 E2|DEFD F2 EFGE G2|DEFD F2 EFGE G2|\\nd2 a2 a2 a4 f2|defgaf cdefge|defgab a4 f2|\\nagfgaf gfefge|agfgab agfgaf|gabagf g2 fedc|\\nd3 c B2 A2 G2 F2|G3 A G2 E2 C2 E2|D3 A F2 D3 d F2|\\nD3 A F2 E2 C2 E2|D3 A F2 d2 A2 B2|A3 G F2 E2 C2 E2|\\nd2 A2 D2 d2 A2 F2|d2 A2 E2 dcBA F2|dcBA D2 dcBA E2|\\ndcdcdc dcBAGF|E2 A2 A2 A4 G2|F2 A2 A2 C2 E2 E2|\\nD2 A2 A2 A4 G2|F3 G A2 E2 C2 E2|]\",\n",
              " \"X:021\\nT:Ane Irish Tune\\nS:Andrew Adam's Music Book (ms) 1710\\nZ:Nigel Gatherer\\nM:6/4\\nL:1/8\\nK:G\\nDE G2 G2 G4 G2|A3 BAG E4 D2|DE G2 G2 Bc d2 G2|A4 G2 G6|\\nc2 dcBA B2 cBAG|A3 BAG E4 D2|DE G2 G2 Bc d2 G2|A4 G2 G4 z2|]\\nf4 f2 f4 g2|e3 deg e2 d2 B2|d2 e2 g2 d4 BA|G4 G2 G2 E2 D2|\\nfefg f2 edef e2|dBde d2 G2 E2 D2|DE G2 G2 Bc d2 G2|A4 G2 G4 z2|]\",\n",
              " \"X:022\\nT:Gallways Lament\\nS:Andrew Adam's Music Book (ms) 1710\\nZ:Nigel Gatherer\\nM:3/4\\nL:1/8\\nK:Bb\\nd2|g2 g2 a2|g3 f d2|f2 gagf|f3 gaf|d2 g2 ga|g4 f2|d2 ca ca|G4|]\",\n",
              " 'X:023\\nT:Trip to Kilkenny\\nC:John McCusker\\nS:Travelling Folk, Radio Scotland\\nM:6/8\\nL:1/8\\nK:A\\ncB|ABA Aca|f2f fef|a2f ecA|fec Bcd|\\ncBA cee|f2f fef|a2f ecA|BcB A:|\\ncd|efe Ace|f>ff dfa|g>gg egb|agf ecd|\\nefe Ace|f>ff dfa|g>gg egb|aec Acd|\\nefe Ace|f2f dfa|g2g egb|agf ecB|',\n",
              " \"X:024\\nT:Charlie Hunter\\nC:Bobby MacLeod\\nS:Bobby MacLeod's Selection of Country Dance Tunes\\nM:6/8\\nL:1/8\\nK:D\\nA|DFA GBd|Adf a2g|fed Bcd|ecA GFE|\\nDFA GBd|Adf a2g|fef gec|1edd d2:|2edd d|]\\nfg|afd d2c|BGG G2F|E^GB e2d|cAA Aag|\\nfdA FDF|GBd g2g|fef gec|1edd d:|2edd d2|]\",\n",
              " 'X:025\\nT:Waverley Steps\\nC:R Black\\nS:Radio Scotland, Dec 1991\\nN:As played by the Iain MacPhail Band\\nZ:Nigel Gatherer\\nM:4/4\\nL:1/8\\nK:D\\n(3ABc|d2 de dcBA|B3 c BAGF|A3 B AGFA|G2 E2 E2 (3ABc|\\nd2 de dcBA|B3 c BAGF|A2 Bc d2 AG|F2 D2 D2:|\\nFE|D2 d2 d2 cB|c2 e2 e2 de|f2 d2 d2 f2|edcB AGFE|\\nD2 d2 d2 cB|c2 e2 e2 dc|BABc dBAG|F2 D2 DGFE|\\nD2 d2 d2 cB|c2 e2 e2 de|f2 d2 d2 f2|edcB AGFE|\\nDEFG A2 de|fedB A2 GF|EFGA Bcde|f2 d2 d2|]',\n",
              " 'X:026\\nT:The New Town of Edinburgh\\nC:Iain MacPhail (?)\\nS:Radio Scotland, Dec 1991\\nN:As played by the Iain MacPhail Band\\nZ:Nigel Gatherer\\nM:4/4\\nL:1/8\\nK:E\\nz2|e2 de ceBA|GABA GEBd|e2 de ceBe|AeGe F3 B|\\ne2 de ceBA|GABA GBGE|CEAc dBcd|eEED E2:|\\nB2|G2 =G^G FGEF|GEGB AGFE|A2 GA =GAF^G|AGAB cBce|\\nG2 =G^G FGEF|GEGB AGFE|CEAc dBcd|eEED E2:|',\n",
              " 'X:027\\nT:The Golden Pheasant\\nS:78rpm record (Adam Rennie & his Band)\\nZ:Nigel Gatherer\\nM:6/8\\nL:1/8\\nK:A\\nC/D/|E2A E2A|E2A c2A|E2A d2c|cBA B2E|E2A E2A|E2A c2d|\\ne2A F2A|ABG A2:|A|G2B B2e|A2c c2e|B2e e2g|fe^d e2B|\\nG2B B2e|A2c c2e|B2e c2a|gf^d e2=d|c2B A2d|c2B A2E|\\nF2A E2e|edc B2d|cdB A2d|cdB A2a|e2a fad|cdB A2|]',\n",
              " 'X:028\\nT:Sir Torquil Monroe\\nC:Adam Rennie (?)\\nS:78rpm record\\nZ:Nigel Gatherer\\nM:6/8\\nL:1/8\\nK:A\\nE|EAA A2B|cAA A2G|FBB BcA|GEE E2E|EAA A2B|cAA A2G|\\nFcB GFG|A3 A2:|d|cde ecA|dff f2A|GAB BGE|cee e2d|\\ncde ecA|dff f2A|GAB EFG|A3 A2d|cde ecA|dff f2A|\\nGAB BGE|cee e2e|efg agf|edc BAG|FGA BGE|A3 A2|]',\n",
              " 'X:029\\nT:Elizabeth Donald\\nC:Adam Rennie (?)\\nS:78rpm record\\nZ:Nigel Gatherer\\nM:6/8\\nL:1/8\\nK:A\\ne|c2A AGA|F2A E2A|F2A E2A|GAB B2e|c2A AGA|F2A E2f|\\ndBG EFG|A3 A2:|c/B/|A2c cBc|A2c E3|F2B BcB|G2B e3|\\nc2A AGA|F2A D2f|dBG EFG|A3 A2 c/B/|A2c cBc|A2c E3|\\nF2B BcB|G2B e3|AGA cBA|FDE F2f|dBG EFG|A3 A2|]',\n",
              " 'X:030\\nT:Mrs Grace Bowie\\nC:Adam Rennie (?)\\nS:78rpm record\\nZ:Nigel Gatherer\\nM:6/8\\nL:1/8\\nK:A\\nA2 c E2 c|A2 c E2 c|AGA cBA|G2 B F3|G2 B F2 A|G2 B F2 G|ABA G2 F|\\nECD EFG|A2 E c2 E|A2 E c2 E|AGA cBA|G2 B F3|G2 B F2 A|G2 B F2 A|\\nGFE c2 B|A3 A3::ECD E2 A|c2 c c3|c=c^c d2 c|B3 F2 A|1 G2 G F2 E|\\nG2 G G3|d2 d c2 B|AGF E3:|2 G2 B F2 A|GAB F2 f|gfe dcB|A3 A2|]',\n",
              " 'X:031\\nT:Inverary Castle\\nS:MS from 1850s\\nZ:Nigel Gatherer\\nM:4/4\\nL:1/8\\nK:Eminor\\nz|B,>E E2 B,>EG<E|B,<EE<F G<A B2|B,>E E2 B,>EG<E|D>B,G,>A, B,>DD>^C|\\nB,>E E2 B,>EG<E|B,<EE<F G<A B2|B,>E E2 B,>EG<E|D>B,G,>A, B,>D D|]\\nB/A/|G>AB<g e>BB>A|G>AB>d Be e2|G>AB<e d<eB<e|d>AF<D F<A A2|\\nG>A B/e/B B/g/B B/e/B|G>AB>e g/f/e/^d/ e>f|g>BA>G F>ED>C|\\\\\\nB,>G,D>G, B,>D D|]',\n",
              " '\\nX:032\\nT:Blodam Drain\\nT:The Flowers Of the Thorn\\nS:Dick Rutter, Edinburgh\\nZ:Nigel Gatherer\\nM:3/4\\nL:1/8\\nK:Am\\nE2|A4 B2|c2 B2 A2|e2 dcBA|B4 B2|A2 AcBd|c2 B2 A2|^G2 GBAc|B4:|\\nB2|c4 c2|d4 d2|e2 e2 f2|e4 d2|cBcd c2|dcde d2|efefef|g3 fed|\\ncBcdec|dcdefd|e2 e2 a2|^g4 a2|a2 e2 c2|f2 e2 d2|c2 dcBc|A4|]',\n",
              " 'X:032\\nT:Blodam Drain\\nT:The Flowers Of the Thorn\\nS:Dick Rutter, Edinburgh\\nZ:Nigel Gatherer\\nM:3/4\\nL:1/8\\nK:Am\\nE2|A4 B2|c2 B2 A2|e2 dcBA|B4 B2|A2 AcBd|c2 B2 A2|^G2 GBAc|B4:|\\nB2|c4 c2|d4 d2|e2 e2 f2|e4 d2|cBcd c2|dcde d2|efefef|g3 fed|\\ncBcdec|dcdefd|e2 e2 a2|^g4 a2|a2 e2 c2|f2 e2 d2|c2 dcBc|A4|]',\n",
              " \"X:033\\nT:The Battle of Sherrifmuir\\nT:Here's a Health To Them Far Awa'\\nD:Billy Jackson & John Martin: The Braes of Lochiel\\nZ:Nigel Gatherer\\nM:6/8\\nL:1/8\\nK:A\\nE|A>GF FEF|A3 A2B|c>BA dcd|e3 e2a|c'ba agf|e>dc def|\\nedc BAB|A3 A2::c|edc BAB|A3 A2c|edc def|e3 e2a|\\nc'ba agf|e>dc def|edc BAB|A3 A2::e|a>ec a>ec|e3 efg|\\nagf edc|B3 B2a|c'ba agf|e>dc def|edc BAB|A3 A2:|\",\n",
              " \"X:034\\nT:The Dram Shell\\nT:Am Botal dubh 's an t-slige chreachann\\nB:Simon Fraser Collection, 1874 edition\\nZ:Nigel Gatherer\\nM:4/4\\nL:1/8\\nK:F# minor\\nC|F3a fecA|ce^dc BAGE|F3a fecf|ecBG AFF:|\\ng|afcf cfaf|gebe gbeg|afcf cfaf|ecBG AFFg|\\nafcf cfaf|gebe gbeg|agfg efcf|ecBG AFF|]\",\n",
              " 'X:035\\nT:The Thornton Jig\\nC:Donald Cameron\\nD:Smalltalk (Greentrax 1994)\\nZ:Nigel Gatherer\\nM:6/8\\nL:1/8\\nK:G\\nA2G|:F2D DED|G2A BAG|F2D DED|E2c cGE|F2D DED|\\nG2A BAF|GBG FdF|E2c cGE::F2A ABA|ABc dAG|\\nF2A ABc|E2c cGE|F2A ABA|ABc dAF|GBG FdF|E2c cGE:|',\n",
              " 'To: IrTrad Posting <IRTRAD-L@LISTSERV.HEANET.IE>\\nSubject: Re: Bernard Flaherty\\'s \"Trip to Sligo\"\\nDate: Thu, 15 Apr 1999 14:20:00\\nSource: mail.irtrad-l@listserv.heanet.ie',\n",
              " \"X:036\\nT:The Boys of Mallin\\nD:Buttons and Bows: 'Grace Notes' 1991\\nZ:Nigel Gatherer\\nM:4/4\\nL:1/8\\nK:Bm\\nBfdf Bfdf|Bfdf e2 dc|Bfdf Bfdf|ecAc ecdc:|\\nBcde f2df|g2eg fedc|Bcde f2df|ecAc ecdc|\\nBcde f2df|g2eg fedc|Bcde f2df|ecAc efga||\\nbB B/B/B fBdF|b2ba fefa|bB B/B/B fBdf|ecAc efga|\\nbB B/B/B fBdF|b2ba fefa|bgaf gefd|ecAc e2dc|]\",\n",
              " 'X:037\\nT:Oot Pik Waltz\\nT:Ook Pick Waltz\\nT:Uke Pick\\nT:Eskimo Waltz\\nC:Frank Rogers\\nM:3/4\\nL:1/4\\nK:G\\n(3D/E/F/|G> F G/B/|A G E/D/|E G> A| G B d|e>d e/f/|e d B/G/|B d>e| \\nd2 B/d/|e>d e/g/|e d B/A/|B d B/A/|G E D|C> B, C/E/|D F E/D/|E G> A| \\nG B d|e B> A|B2 e|d B> A|B2 B|A> G A/B/|A G E/D/|E G A|G B d|e B> A|\\nB2 f/e/|d B>G|B2 B|A> G A/B/|A G E/D/|E G E|D2|]',\n",
              " 'X:038\\nT:Fang the Fiddlers\\nC:J R Findlater\\nS:Manuscript collection\\nZ:Nigel Gatherer\\nL:1/8\\nM:C|\\nR:Reel\\nK:Aminor\\nz|A/A/A eA cAAc|B/B/B gd BGGB|A/A/A eA cAAc|dGdB A2 a:|\\nc|Aaag aeea|gage dBGB|Aaag aeea|gegB A2 a:|',\n",
              " \"X:039\\nT:The Princes Royal\\nT:The Princess Royal\\nB:Gow's 2nd Repository, early 1800s\\nN:transposed from Gm\\nM:4/4\\nL:1/8\\nK:Dm\\nDE|F2 EF D2 AG|FGEF D3 A|B3 A G2 cB|ABGA F4|\\nF2 dF E2 cE|DEFD A,2 AG|FEFD A,D^CE|D2 D2 D2:|\\nA2|d^cde d^cde|f2 F2 F2 de|fedc BAGF|EFGE C4|\\nF2 EF G2 FG|A2 A2 d4|c2 F2 B4|A2 D2 G4|\\nFGFE DEFD|^CDEC A,2 AG|FEFD A,D^CE|D2 D2 D2:|\",\n",
              " 'X:040\\nT:Lament for the Death of the Rev. Archie Beaton\\nC:John Mason\\nS:loose sheet from fiddle club\\nM:4/4\\nL:1/8\\nK:G\\nBc|d3d dcBA|G2 B2 D3 G|E2 GE D2 B,2|A6 Bc|\\nd3d dcBA|G2 B2 D3 G|E2 cA F3 D|G6:|\\nB,A,|G,3 B, D3 D|B3 A G3 E|D2 GE D2 B,2|A,6 B,A,|\\nG,3 B, D3 D|B3 A G3 E|D2 GB, A,3 B,|G,6 B,A,|\\nG,B,DG Bdga|b3 a g3 e|d2 ga d3 B|a6 Bc|\\nd3d dcBA|G2 B2 D3 G|E2 cA FdCA,|G6|]',\n",
              " 'X:041\\nT:American Hornpipe\\nD:First of May by James Bryan\\nZ:Nigel Gatherer\\nM:4/4\\nL:1/8\\nK:D\\nFG|ABAG F2AF|G2Bc dAFD|GABA GFED|CDEF E2FG|ABAG F2AF|G2Bc dAFA|\\ndfeg (3fgf ec|dz dc d2::(3ABc|d2 d2 fedf|edef dAFA|dcde fgaf|\\nedef e2 (3ABc|dcde (3fgf df|edef dAFA|(3B=CB GB Age^c|d2 d2 d2:|',\n",
              " 'X:042\\nT:Marchmont House\\nB:The Gow Collection (New York, 1986)\\nN:1st note in bar 4 changed from \"d\".\\nN:Orig. publ. in Bremner\\'s Coll (1751-61)\\nZ:Nigel Gatherer\\nM:6/8\\nL:1/8\\nK:D\\nA|F/G/AF D2A|d>ed dAG|F/G/AF D2f|eEE E2G|\\nF/G/AF D2A|d>ed dAG|FdF Edc|dAF D2::g|f/g/af d2f|\\naba afd|f/g/af d>ef|eEE E2g|f/g/af dfa|bag fed|\\nB/c/dB AFd|AFD D2::A|FAd FAd|dAF dAF|FAd d>ef|\\neEE E2g|FAd FAd|fed cBA|B/c/dB AFd|AFD D2::f|\\ndfa dfa|afd afd|dfadef|eEE E2f|\\ndfa dfa|bag fed|B/c/dB AFB|AFD D2:|',\n",
              " \"X:043\\nT:Charlie Gore's Birthday\\nC:John Turner\\nB:John Turners Melodies (W Virginia 1984)\\nZ:Nigel Gatherer\\nN:\\nM:6/8\\nL:1/8\\nK:D\\nf/g/|a>gf g>fe|d2f A2d|B>AG A>FD|E2C A,2G|\\nA>FA d>cd|B>dg b2^g|a>=gf gfe|dAF D2:|\\nA|d>Ad eA=c|B2A G2B|e>^de f>ed|c>AE A,2G|\\nFAF D>EF|G>Bd g2 f/e/|dcA GEz|D3 D2:|\",\n",
              " 'X:044\\nT:Elsie Marley\\nB:Robin Williamson, \"Fiddle Tunes\" (New York 1976)\\nN:\"printed by Robert Petrie in 1796 and is\\nN:\"described by him as a \\'bumpkin\\'.\"\\nZ:Nigel Gatherer\\nM:6/8\\nL:1/8\\nK:G\\nBAB G2G|G2g gdc|BAB G2G|=F2f fcA|\\nBAB G2G|G2g gdB|c2a B2g|A2=f fcA:|',\n",
              " 'X:045\\nT:McKenzie Hay\\nC:James Scott Skinner\\nZ:Nigel Gatherer\\nM:4/4\\nL:1/8\\nK:D\\nG|F<DF>A d2 d>f|e>cd>b c<aa>=c|B<Gd>B A2 F>D|\\nE>A^G>B (3ABA (3=GFE|F<DF>A d2 d>f|e>cd>b c<aa>=c|\\n(3BGB (3dcB (3Afe (3dcB|(3ABA (3GFE F<D D||\\ng|f<dg>e a2 f>d|e>cd>B c<AA>g|fdge afbg|a>fg>f f<dd>e|\\nf<dg>e a2 f>d|e>cd>B c<AA=c|(3BGB (3dcB (3Aag (3fed|\\n(3cBA (3GFE f<D D|]',\n",
              " 'X:046\\nT:The Spey In Spate\\nC:James Scott Skinner\\nZ:Nigel Gatherer\\nM:4/4\\nL:1/8\\nK:D\\nD2 FD A,DFA|dcBA ^GAFD|E2 GE B,EGB|gecA GECA,|\\nD2 FD A,DFA|dDcD BDAf|gefd ecdB|AFGE DABc||\\nd/d/d fd AdFA|DFAd fagf|e/e/e ge BeGB|CEAc egfe|\\nd/d/d fd AdFA|DFAd fagf|gefd ecdB|AFGE D4|]',\n",
              " 'X:047\\nT:Highland Fling\\nD:Peter Wyper 78rpm (Columbia Double Face D202)\\nZ:Nigel Gatherer\\nM:4/4\\nL:1/8\\nK:D\\nF|:D2 F<D G<E A2|D/D/D F<D G2 E<=C|D2 F<D G<E A2|\\\\\\n(3GFE d>B A2 G<E:|\\nd>B (3cBA B<^G A2|d>B (3cBA B<^G A2|d>B (3cBA B<^G A<F|\\\\\\nG<ED>B A2 G<E:|',\n",
              " 'X:048\\nT:Irish Jig\\nD:Peter Wyper 78rpm \\nZ:Nigel Gatherer\\nM:6/8\\nL:1/8\\nK:D\\nB|ADD FED|ADD D2B|ADD FED|CEE E2B|ADD FED|\\nFGA BAG|FAA ABc|dDD D2::A|dcB AGF|GFE D2A,-|A,DD EDE|\\nFBB B2c|dcB AGF|GFE D2A,-|A,DD EDE|FDD D2:|']"
            ]
          },
          "metadata": {},
          "execution_count": 13
        }
      ]
    },
    {
      "cell_type": "code",
      "metadata": {
        "colab": {
          "base_uri": "https://localhost:8080/"
        },
        "id": "1gI41Y7iHdXL",
        "outputId": "96b2cd51-998f-4b69-f0a1-dceaf111ad0b"
      },
      "source": [
        "a = a.split('\\n\\n')\n",
        "songs  = a\n",
        "print(len(songs))\n",
        "example_song = songs[3]\n",
        "print(\"\\nExample song: \\n\", example_song, sep='')"
      ],
      "execution_count": null,
      "outputs": [
        {
          "output_type": "stream",
          "name": "stdout",
          "text": [
            "1036\n",
            "\n",
            "Example song: \n",
            "X:004\n",
            "T:John O'Groats Jig\n",
            "B:Kohlers Violin repository - slightly adapted\n",
            "C:John Bain, Wick\n",
            "Z:Nigel Gatherer\n",
            "M:6/8\n",
            "L:1/8\n",
            "O:Scottish\n",
            "R:jig\n",
            "K:Dm\n",
            "A/G/|FGA DFA|dfd ecA|Agf edc|=Bed c=BA|\n",
            "FGA DFA|dfd ecA|Bgf ed^c|dDD D2:|\n",
            "A|dfa afd|gbg ecA|dfa afd|=Bed c=BA|\n",
            "dfa afd|gbg ecA|Bgf ed^c|dDD D2:|\n"
          ]
        }
      ]
    },
    {
      "cell_type": "code",
      "metadata": {
        "id": "dWw-v650C9Bs"
      },
      "source": [
        "mdl.lab1.play_song(a[5])"
      ],
      "execution_count": null,
      "outputs": []
    },
    {
      "cell_type": "code",
      "metadata": {
        "colab": {
          "base_uri": "https://localhost:8080/"
        },
        "id": "zQqOPwXvIKFG",
        "outputId": "8fd29818-98cd-434a-9c83-41abe6539831"
      },
      "source": [
        "# Join list of songs into a single string containing all songs\n",
        "songs_all = \"\\n\\n\".join(songs)\n",
        "\n",
        "# Unique characters\n",
        "print(\"Total characters:\", len(songs_all))\n",
        "vocab = sorted(set(songs_all))\n",
        "print(\"There are\", len(vocab), \"unique characters in the dataset\")"
      ],
      "execution_count": null,
      "outputs": [
        {
          "output_type": "stream",
          "name": "stdout",
          "text": [
            "Total characters: 346405\n",
            "There are 106 unique characters in the dataset\n"
          ]
        }
      ]
    },
    {
      "cell_type": "markdown",
      "metadata": {
        "id": "BtDkDcEwIoF2"
      },
      "source": [
        "<h1>Vectorizing<h1>"
      ]
    },
    {
      "cell_type": "code",
      "metadata": {
        "colab": {
          "base_uri": "https://localhost:8080/"
        },
        "id": "dvGMW5wFIwU8",
        "outputId": "2ecdc13d-27e3-4af4-f7eb-795e44b2f6d1"
      },
      "source": [
        "# A mapping for characters to numbers and one for numbers to characters\n",
        "chartoidx = {c:i for i, c in enumerate(vocab)}\n",
        "def chartoidxfnc(string):\n",
        "  return chartoidx[string]\n",
        "\n",
        "idxtochar = np.array(vocab)\n",
        "\n",
        "for char, idx in zip(chartoidx, range(20)):\n",
        "  print(repr(char), chartoidxfnc(char))"
      ],
      "execution_count": null,
      "outputs": [
        {
          "output_type": "stream",
          "name": "stdout",
          "text": [
            "'\\x01' 0\n",
            "'\\n' 1\n",
            "' ' 2\n",
            "'!' 3\n",
            "'\"' 4\n",
            "'#' 5\n",
            "'%' 6\n",
            "'&' 7\n",
            "\"'\" 8\n",
            "'(' 9\n",
            "')' 10\n",
            "'+' 11\n",
            "',' 12\n",
            "'-' 13\n",
            "'.' 14\n",
            "'/' 15\n",
            "'0' 16\n",
            "'1' 17\n",
            "'2' 18\n",
            "'3' 19\n"
          ]
        }
      ]
    },
    {
      "cell_type": "code",
      "metadata": {
        "colab": {
          "base_uri": "https://localhost:8080/"
        },
        "id": "9SSjy7HNLxz8",
        "outputId": "8f7bf513-9739-4e9e-925a-7982c20d22a2"
      },
      "source": [
        "def vectorize_string(string):\n",
        "  v_string = map(chartoidxfnc, list(string))\n",
        "  v_string = list(v_string)\n",
        "  return np.array(v_string)\n",
        "\n",
        "print(len(list(songs_all)))  # Gives total num of chars in dataset\n",
        "vectorized_songs = vectorize_string(songs_all)\n",
        "\n",
        "# Some quick checking\n",
        "\n",
        "print(repr(songs_all[:10]))\n",
        "print(idxtochar[vectorized_songs[:10]])\n",
        "print(vectorized_songs[:10])\n",
        "vectorized_songs.shape[0]"
      ],
      "execution_count": null,
      "outputs": [
        {
          "output_type": "stream",
          "name": "stdout",
          "text": [
            "346405\n",
            "'X:001\\nT:Th'\n",
            "['X' ':' '0' '0' '1' '\\n' 'T' ':' 'T' 'h']\n",
            "[56 26 16 16 17  1 52 26 52 71]\n"
          ]
        },
        {
          "output_type": "execute_result",
          "data": {
            "text/plain": [
              "346405"
            ]
          },
          "metadata": {},
          "execution_count": 14
        }
      ]
    },
    {
      "cell_type": "markdown",
      "metadata": {
        "id": "KmB5NMXXOWts"
      },
      "source": [
        "# Creating Training Data"
      ]
    },
    {
      "cell_type": "code",
      "metadata": {
        "id": "ashU0smgNmHW"
      },
      "source": [
        "# Creating training examples\n",
        "\n",
        "def get_batch(vectorized_songs, seq_length, batch_size):\n",
        "\n",
        "  n = vectorized_songs.shape[0]\n",
        "\n",
        "  # Randomly choosing starting indices for the examples\n",
        "  idx = np.random.choice(n - seq_length, batch_size)\n",
        "  # Chooses (batch_size) number of integers in range(n-seq_length)\n",
        "  # As last sequence starting point must be maximum n-seq_length to avoid\n",
        "  # out of range\n",
        "\n",
        "  # Getting the input sequences\n",
        "  input_batch = [vectorized_songs[start : start+seq_length] for start in idx]\n",
        "  # Output sequences (shifting forward input sequences by 1)\n",
        "  output_batch = [vectorized_songs[start+1 : start+seq_length+1] for start in idx]\n",
        "\n",
        "  # Inputs and true targets (to train on and measure performance against)\n",
        "  x_batch = np.reshape(input_batch, [batch_size, seq_length])\n",
        "  # batch_size number of sequences of length seq_length\n",
        "  y_batch = np.reshape(output_batch, [batch_size, seq_length])\n",
        "  return x_batch, y_batch\n"
      ],
      "execution_count": null,
      "outputs": []
    },
    {
      "cell_type": "code",
      "metadata": {
        "colab": {
          "base_uri": "https://localhost:8080/"
        },
        "id": "CUo_Z0bwYVpq",
        "outputId": "13dc9122-9c4b-4312-a6da-af6a4466eb15"
      },
      "source": [
        "x_batch, y_batch = get_batch(vectorized_songs, seq_length=5, batch_size=1)\n",
        "# Gives 1 batch of sequence length 5\n",
        "\n",
        "for i, (input_idx, target_idx) in enumerate(\n",
        "    zip(np.squeeze(x_batch), np.squeeze(y_batch))):\n",
        "  print(\"Timestep\", i)\n",
        "  print(\"Input: {} ({})\".format(input_idx, repr(idxtochar[input_idx])))\n",
        "  print(\"Expected output: {} ({})\".format(target_idx, repr(idxtochar[target_idx])))"
      ],
      "execution_count": null,
      "outputs": [
        {
          "output_type": "stream",
          "name": "stdout",
          "text": [
            "Timestep 0\n",
            "Input: 15 ('/')\n",
            "Expected output: 33 ('A')\n",
            "Timestep 1\n",
            "Input: 33 ('A')\n",
            "Expected output: 15 ('/')\n",
            "Timestep 2\n",
            "Input: 15 ('/')\n",
            "Expected output: 91 ('|')\n",
            "Timestep 3\n",
            "Input: 91 ('|')\n",
            "Expected output: 67 ('d')\n",
            "Timestep 4\n",
            "Input: 67 ('d')\n",
            "Expected output: 30 ('>')\n"
          ]
        }
      ]
    },
    {
      "cell_type": "markdown",
      "metadata": {
        "id": "m38dZkF6mCHI"
      },
      "source": [
        "# Defining the model"
      ]
    },
    {
      "cell_type": "code",
      "metadata": {
        "id": "rnWAwVYObikZ"
      },
      "source": [
        "def LSTM(rnn_units):\n",
        "  return tf.keras.layers.LSTM(\n",
        "      rnn_units,\n",
        "      return_sequences=True,\n",
        "      recurrent_initializer='glorot_uniform',\n",
        "      recurrent_activation='sigmoid',\n",
        "      stateful=True\n",
        "  )\n",
        "\n",
        "def def_model(vocab_size, embedding_dims, rnn_units, batch_size):\n",
        "  model = tf.keras.Sequential([\n",
        "                               tf.keras.layers.Embedding(vocab_size,\n",
        "                                                         embedding_dims,\n",
        "                                                         batch_input_shape=[batch_size, None]\n",
        "                                                         ),\n",
        "                               \n",
        "                               LSTM(rnn_units),\n",
        "\n",
        "                               # A fully connected layer\n",
        "\n",
        "                               tf.keras.layers.Dense(vocab_size)\n",
        "  ])\n",
        "\n",
        "  return model\n",
        "\n"
      ],
      "execution_count": null,
      "outputs": []
    },
    {
      "cell_type": "code",
      "metadata": {
        "id": "z96UENSik16R",
        "colab": {
          "base_uri": "https://localhost:8080/"
        },
        "outputId": "581bcd36-9246-43ef-a7a4-5c98263c68ba"
      },
      "source": [
        "model = def_model(len(vocab), embedding_dims=256, rnn_units=1024, batch_size=32)\n",
        "model.summary()"
      ],
      "execution_count": null,
      "outputs": [
        {
          "output_type": "stream",
          "name": "stdout",
          "text": [
            "Model: \"sequential\"\n",
            "_________________________________________________________________\n",
            "Layer (type)                 Output Shape              Param #   \n",
            "=================================================================\n",
            "embedding (Embedding)        (32, None, 256)           27136     \n",
            "_________________________________________________________________\n",
            "lstm (LSTM)                  (32, None, 1024)          5246976   \n",
            "_________________________________________________________________\n",
            "dense (Dense)                (32, None, 106)           108650    \n",
            "=================================================================\n",
            "Total params: 5,382,762\n",
            "Trainable params: 5,382,762\n",
            "Non-trainable params: 0\n",
            "_________________________________________________________________\n"
          ]
        }
      ]
    },
    {
      "cell_type": "code",
      "metadata": {
        "colab": {
          "base_uri": "https://localhost:8080/"
        },
        "id": "kIs8iZJJn4Ye",
        "outputId": "8c43db2c-6e0f-4bce-dbd2-ca1222379f27"
      },
      "source": [
        "# Checking out the form of input and output\n",
        "\n",
        "x, y = get_batch(vectorized_songs, seq_length=100, batch_size=32)\n",
        "# Returns 32 sequences of sequence length 100 characters to x\n",
        "pred = model(x)\n",
        "print(\"Input shape: \", x.shape,\n",
        "      \"\\nPrediction/Output shape: \", pred.shape, \" # (Batch size, seq_length, vocab size)\")"
      ],
      "execution_count": null,
      "outputs": [
        {
          "output_type": "stream",
          "name": "stdout",
          "text": [
            "Input shape:  (32, 100) \n",
            "Prediction/Output shape:  (32, 100, 106)  # (Batch size, seq_length, vocab size)\n"
          ]
        }
      ]
    },
    {
      "cell_type": "markdown",
      "metadata": {
        "id": "zjF3ZLhNrock"
      },
      "source": [
        "<h1>Predictions from untrained model</h1>"
      ]
    },
    {
      "cell_type": "code",
      "metadata": {
        "colab": {
          "base_uri": "https://localhost:8080/"
        },
        "id": "JZ6Dpd-Trtkl",
        "outputId": "7969f3c0-8664-4c35-c08e-3a509a215b7d"
      },
      "source": [
        "sample_indices = tf.random.categorical(pred[0], num_samples=1)\n",
        "sample_indices = tf.squeeze(sample_indices, axis=-1).numpy()\n",
        "print(sample_indices)\n",
        "print(repr(''.join(idxtochar[x[0]])))  # Inputs\n",
        "print(repr(''.join(idxtochar[sample_indices])))"
      ],
      "execution_count": null,
      "outputs": [
        {
          "output_type": "stream",
          "name": "stdout",
          "text": [
            "[ 64   4  51 103  45  71  44  37  47  37  30  68   7  92   1  40  73  56\n",
            "  99  87   4  91  84  26  19   0   1  78  44  68  85  35  71   5  50  36\n",
            " 101  70  86   9  59  91  96  35  41  80  37  38  75  15  45  98  45  50\n",
            "   6   5  17  15  72  43  86  38  83  92 104  85  54   9  46  77  98 104\n",
            "  14  71  26  38  36  19  58  30  42  84  36  51  57   3  63  61  68  63\n",
            "   7  68  50  41  81  67  87  39  36  41]\n",
            "'cB |\\n      AcBA F2 AF | EFAB cABc | d3 f ecAc |   BAGB     A3    ||\\n\\nX:690\\nT:Return from Fingal\\nS:Cr'\n",
            "'a\"SíMhLEOE>e&}\\nHjXÙx\"|u:3\\x01\\noLevCh#RDågw([|ÒCIqEFl/MÕMR%#1/iKwFt}òvV(NnÕò.h:FD3Z>JuDSY!_]e_&eRIrdxGDI'\n"
          ]
        }
      ]
    },
    {
      "cell_type": "markdown",
      "metadata": {
        "id": "CAHT4Q39tUS2"
      },
      "source": [
        "# Training the model"
      ]
    },
    {
      "cell_type": "code",
      "metadata": {
        "id": "JosFP1TltWTY"
      },
      "source": [
        "def loss_fn(labels, logits):\n",
        "  loss = tf.keras.losses.sparse_categorical_crossentropy(\n",
        "      labels,\n",
        "      logits,\n",
        "      from_logits=True\n",
        "  )\n",
        "\n",
        "  return loss"
      ],
      "execution_count": null,
      "outputs": []
    },
    {
      "cell_type": "code",
      "metadata": {
        "id": "PSM3iT_jmS47",
        "colab": {
          "base_uri": "https://localhost:8080/"
        },
        "outputId": "30eae663-05d4-4ea5-e658-b192be5161eb"
      },
      "source": [
        "example_batch_loss = loss_fn(y, pred)\n",
        "\n",
        "print(\"Scalar loss: \", example_batch_loss.numpy().mean())"
      ],
      "execution_count": null,
      "outputs": [
        {
          "output_type": "stream",
          "name": "stdout",
          "text": [
            "Scalar loss:  4.6639113\n"
          ]
        }
      ]
    },
    {
      "cell_type": "code",
      "metadata": {
        "id": "2lZJ9QbYOhpb"
      },
      "source": [
        "# Hyperparameters\n",
        "\n",
        "num_iterations = 6000\n",
        "batch_size = 4\n",
        "seq_length = 99\n",
        "learning_rate = 3e-3\n",
        "\n",
        "vocab_size = len(vocab)\n",
        "embedding_dims = 256\n",
        "rnn_units = 1024\n",
        "\n",
        "checkpoint_dir = '/content/drive/MyDrive/MIT_6S191/training_checkpoints'\n",
        "checkpoint_prefix = os.path.join(checkpoint_dir, 'nigeldatamusic_ckpt')"
      ],
      "execution_count": null,
      "outputs": []
    },
    {
      "cell_type": "code",
      "metadata": {
        "colab": {
          "base_uri": "https://localhost:8080/",
          "height": 596
        },
        "id": "KKeMynG8PMNl",
        "outputId": "a05a5d9f-71e3-463f-e742-87c498baf2b1"
      },
      "source": [
        "\n",
        "model = def_model(vocab_size, embedding_dims, rnn_units, batch_size)\n",
        "optimizer = tf.keras.optimizers.Adam(learning_rate=learning_rate)\n",
        "\n",
        "@tf.function  # Converts function to callable tensorflow graph\n",
        "def train_step(x, y):\n",
        "  # Using tf.GradientTape() to later perform backpropagation easily\n",
        "  with tf.GradientTape() as tape:\n",
        "    y_sharp = model(x)  # Predictions\n",
        "    loss = loss_fn(y, y_sharp)  # Loss btw true and predicted values\n",
        "  \n",
        "  gradients = tape.gradient(loss, model.trainable_variables)\n",
        "  # This is to ensure that the backpropagation performed gets gradients\n",
        "  # w.r.t all model parameters\n",
        "\n",
        "  # Applying the gradients to update the parameters of the model\n",
        "  optimizer.apply_gradients(zip(gradients, model.trainable_variables))\n",
        "  return loss\n",
        "\n",
        "# Training the model\n",
        "\n",
        "history = []  # To plot the graph\n",
        "plotter = mdl.util.PeriodicPlotter(sec=5, xlabel='Iterations', ylabel='Loss')\n",
        "if hasattr(tqdm, '_instances'):\n",
        "  tqdm._instances.clear()\n",
        "\n",
        "# tqdm is used to give a useful progress bar and status of the operation\n",
        "\n",
        "for iter in tqdm(range(num_iterations)):\n",
        "\n",
        "  x_batch, y_batch = get_batch(vectorized_songs, seq_length, batch_size)\n",
        "  loss = train_step(x_batch, y_batch)\n",
        "\n",
        "  history.append(loss.numpy().mean())\n",
        "  plotter.plot(history)\n",
        "\n",
        "  if iter % 100 == 0:\n",
        "    model.save_weights(checkpoint_prefix)\n",
        "  # Checkpoint updated every hundred iterations\n",
        "  # The weights of the model itself are updated every time loss_fn is called\n",
        "\n",
        "model.save_weights(checkpoint_prefix)  # Saving final trained weights\n",
        "model.save(os.path.join(checkpoint_dir, 'MusicNigelModel1.h5'))"
      ],
      "execution_count": null,
      "outputs": [
        {
          "output_type": "display_data",
          "data": {
            "image/png": "[encoded data removed]",
            "text/plain": [
              "<Figure size 432x288 with 1 Axes>"
            ]
          },
          "metadata": {}
        },
        {
          "output_type": "stream",
          "name": "stderr",
          "text": [
            "\r100%|██████████| 6000/6000 [09:37<00:00, 10.40it/s]"
          ]
        },
        {
          "output_type": "stream",
          "name": "stdout",
          "text": [
            "WARNING:tensorflow:Compiled the loaded model, but the compiled metrics have yet to be built. `model.compile_metrics` will be empty until you train or evaluate the model.\n"
          ]
        },
        {
          "output_type": "stream",
          "name": "stderr",
          "text": [
            "\n"
          ]
        },
        {
          "output_type": "display_data",
          "data": {
            "image/png": "[encoded data removed]",
            "text/plain": [
              "<Figure size 432x288 with 1 Axes>"
            ]
          },
          "metadata": {
            "needs_background": "light"
          }
        }
      ]
    },
    {
      "cell_type": "code",
      "metadata": {
        "colab": {
          "base_uri": "https://localhost:8080/"
        },
        "id": "T7-19Jn9EhCW",
        "outputId": "540f367e-254f-44e3-e877-e0684c2e53f7"
      },
      "source": [
        "print(loss)"
      ],
      "execution_count": null,
      "outputs": [
        {
          "output_type": "stream",
          "name": "stdout",
          "text": [
            "tf.Tensor(\n",
            "[[2.67594171e+00 8.31339300e-01 1.32218793e-01 5.36433840e+00\n",
            "  1.28119624e+00 6.82382536e+00 1.18203783e+00 3.16822469e-01\n",
            "  3.95717770e-01 1.64924967e+00 1.25273347e+00 3.03859043e+00\n",
            "  1.32520567e-03 3.30942929e-01 1.40322018e+00 1.67930210e+00\n",
            "  5.51784784e-03 3.42773408e-01 4.87155795e-01 5.51887155e-01\n",
            "  1.48300982e+00 1.35347378e+00 6.11766614e-03 2.32922125e+00\n",
            "  4.23173571e+00 7.30648488e-02 2.00672876e-02 4.78865981e-01\n",
            "  1.07456875e+00 3.17117524e+00 3.26152086e+00 7.93713570e-01\n",
            "  2.24737674e-02 2.05464005e+00 1.01548553e+00 1.62637848e-02\n",
            "  7.49040067e-01 3.46322991e-02 1.53728271e+00 7.14802921e-01\n",
            "  8.84239137e-01 3.73784616e-03 2.68200874e+00 8.62868667e-01\n",
            "  1.49970114e+00 2.44128495e-03 1.02043502e-01 2.84303948e-02\n",
            "  1.10925436e+00 8.59799147e-01 8.03826690e-01 9.96569754e-04\n",
            "  6.78008437e-01 7.81692505e-01 1.10433459e+00 9.36082844e-03\n",
            "  2.67584413e-01 2.14172363e-01 1.83035210e-01 2.09929198e-01\n",
            "  5.77886403e-02 2.44902357e-01 6.20409608e-01 2.02648103e-01\n",
            "  1.10688639e+00 6.04384905e-03 1.07272407e-02 2.46171594e+00\n",
            "  4.12079424e-01 5.15011191e-01 2.13731844e-02 1.42048693e+00\n",
            "  1.34763849e+00 1.08927436e-01 1.71952891e+00 1.43655407e+00\n",
            "  4.86142755e-01 1.81898907e-01 1.64340716e-02 3.81216466e-01\n",
            "  1.69909298e-02 2.80382205e-02 1.50626636e+00 7.91482568e-01\n",
            "  2.29016259e-01 4.30305153e-02 6.86917126e-01 1.08650899e+00\n",
            "  8.75316501e-01 5.08456025e-03 1.99214801e-01 3.20537314e-02\n",
            "  3.76899266e+00 9.75529402e-02 5.20998776e-01 1.11269069e+00\n",
            "  1.31572150e-02 2.55406588e-01 8.65668595e-01]\n",
            " [6.46417332e+00 1.22741544e+00 6.29787064e+00 2.49156857e+00\n",
            "  2.14704752e-01 1.53542191e-01 1.83019131e-01 2.27299905e+00\n",
            "  2.47882411e-01 3.10627198e+00 5.81379116e-01 1.80682465e-02\n",
            "  1.12058334e-02 1.05413543e-02 3.67083001e+00 1.83400130e+00\n",
            "  1.87959576e+00 1.97033048e-01 2.31355825e-03 6.55762434e-01\n",
            "  1.24449944e+00 2.27966458e-01 1.92106649e-01 3.52207795e-02\n",
            "  6.69912668e-03 1.18798089e+00 2.00035633e-03 1.98759699e+00\n",
            "  6.02577448e-01 5.96128523e-01 1.75151139e-01 1.97572913e-03\n",
            "  8.69824648e-01 1.27857757e+00 2.99887985e-01 4.36585873e-01\n",
            "  4.34276834e-03 1.07993059e-01 6.05072174e-03 5.91845334e-01\n",
            "  1.01592028e+00 7.05087483e-02 4.05258924e-01 3.30224168e-03\n",
            "  7.86568880e-01 3.14759582e-01 2.52259159e+00 1.15214264e+00\n",
            "  8.76037180e-01 1.87447702e-03 2.31129691e-01 5.74437194e-02\n",
            "  1.85355365e+00 2.28694010e+00 2.23398432e-01 3.61254036e-01\n",
            "  1.75536494e-03 2.29616985e-01 7.66704679e-01 7.05298558e-02\n",
            "  8.56464207e-01 9.18669522e-01 1.34215420e-02 1.79535913e+00\n",
            "  1.31896865e-02 1.43347308e-01 1.84294523e-03 1.80004408e-05\n",
            "  2.01720452e+00 1.91623497e+00 1.64066124e+00 1.39330071e-03\n",
            "  4.61572455e-03 2.06449171e-04 6.30900478e+00 1.90707719e+00\n",
            "  1.53662086e+00 1.67114764e-01 1.73684454e+00 2.12701429e-02\n",
            "  8.13125726e-03 2.91727924e+00 2.15471745e-01 1.52519658e-01\n",
            "  2.54220013e-02 9.70157161e-02 3.40952701e-03 4.01626751e-02\n",
            "  1.85517650e-02 1.27050161e-01 8.52955580e-01 1.78809091e-02\n",
            "  2.19723172e-02 2.60262537e+00 1.01065040e+00 1.46366131e+00\n",
            "  1.00071229e-01 2.18518615e-01 3.06925249e+00]\n",
            " [5.79491997e+00 4.57905340e+00 3.42155719e+00 3.34599471e+00\n",
            "  1.42206569e-04 1.22040343e+00 1.13631925e-02 2.92611751e-03\n",
            "  2.90769599e-02 3.16574764e+00 8.60172570e-01 3.12791795e-01\n",
            "  4.88064945e-01 9.94837403e-01 1.54373981e-02 2.80608940e+00\n",
            "  1.34580207e+00 1.82343076e-03 9.15250599e-01 8.76149861e-05\n",
            "  3.71278659e-03 3.32503319e-02 8.99701953e-01 3.80125761e-01\n",
            "  8.02157074e-02 1.81159332e-01 8.47721472e-02 1.57801077e-01\n",
            "  4.20877859e-02 4.81226355e-01 2.18366459e-01 1.43998349e+00\n",
            "  9.78383064e-01 1.12521756e+00 1.79658592e-01 1.23976897e-05\n",
            "  1.56274819e+00 4.62607592e-01 2.31999683e+00 2.07045101e-04\n",
            "  4.21279157e-03 4.02607926e-04 3.26123428e+00 7.42427647e-01\n",
            "  1.79208387e-02 6.80770539e-03 1.84833205e+00 1.58605948e-01\n",
            "  7.51816258e-02 5.40220451e+00 3.12686004e-02 1.59341955e+00\n",
            "  6.92527145e-02 2.73062778e+00 8.07113838e+00 2.69728387e-03\n",
            "  1.22995806e+00 3.96247618e-02 7.99302105e-03 2.34271232e-02\n",
            "  1.34893847e+00 5.42612630e-04 2.29867506e+00 2.87792325e-01\n",
            "  1.13335919e+00 2.15480387e-01 4.00829688e-02 3.30196843e-02\n",
            "  4.79978025e-02 1.16931526e-02 4.11247788e-03 4.91480231e-02\n",
            "  2.28929543e-03 7.52674818e+00 1.55196917e+00 2.34040642e+00\n",
            "  2.59303617e+00 2.07946730e+00 4.44786644e+00 4.50593519e+00\n",
            "  2.84002399e+00 8.17415193e-02 3.13320309e-02 5.85950501e-02\n",
            "  6.88644791e+00 8.94547045e-01 5.24833202e-02 7.32114077e-01\n",
            "  6.05599955e-02 4.20017719e-01 3.82229304e+00 2.26487827e+00\n",
            "  4.09060031e-01 1.92496896e+00 2.80730581e+00 6.37450255e-03\n",
            "  1.52735179e-02 7.01812458e+00 2.16722941e+00]\n",
            " [2.29311943e+00 2.61116529e+00 2.61895585e+00 9.89815127e-03\n",
            "  5.58265305e+00 1.86558199e+00 2.70865870e+00 1.78041086e-01\n",
            "  8.92544568e-01 1.04617281e-02 1.13979980e-01 3.28999572e-02\n",
            "  1.94695853e-02 2.55978322e+00 5.68363309e-01 6.48753285e-01\n",
            "  1.00989090e-02 2.78226733e-01 4.67731096e-02 8.77988935e-01\n",
            "  2.97960360e-03 1.08346753e-02 3.63264680e-02 5.14553748e-02\n",
            "  1.54193357e-01 6.40444219e-01 1.37965310e+00 1.11570293e-02\n",
            "  5.31437099e-01 4.30687249e-01 7.40125999e-02 2.53891223e-03\n",
            "  4.49827127e-02 1.55560240e-01 6.57035410e-02 9.10723861e-03\n",
            "  6.63553644e-03 2.30280787e-01 2.34986916e-01 7.54206836e-01\n",
            "  1.07733977e+00 3.04971129e-01 8.57816339e-02 1.51227283e+00\n",
            "  3.12602162e-01 3.38716954e-01 2.31581787e-03 9.61335972e-02\n",
            "  1.00863241e-01 6.93453491e-01 6.79515488e-03 1.93046108e-02\n",
            "  1.32914260e-01 7.10126638e-01 1.04868901e+00 1.03149211e+00\n",
            "  1.19247228e-01 2.38424793e-01 2.87902737e+00 5.58179021e-01\n",
            "  1.07546175e+00 5.96871495e-01 7.48895481e-02 5.64812962e-03\n",
            "  1.10161316e+00 1.89009279e-01 1.67127144e+00 1.58249214e-02\n",
            "  1.09191322e+00 1.91542264e-02 1.64387435e-01 2.36569680e-02\n",
            "  1.39330579e-02 2.50621533e+00 2.74295568e-01 8.48378599e-01\n",
            "  5.65168541e-03 3.69870365e-01 2.19437443e-02 7.02831209e-01\n",
            "  1.49281602e-03 1.69869456e-02 2.09681932e-02 2.48837564e-03\n",
            "  2.49239728e-01 4.11014766e-01 1.48915625e+00 1.35732600e-02\n",
            "  6.57131374e-01 4.47031528e-01 8.91071856e-02 2.26634042e-03\n",
            "  5.20008840e-02 7.91215077e-02 5.14728129e-02 6.58710115e-03\n",
            "  8.70138500e-03 1.19019821e-01 2.43302435e-02]], shape=(4, 99), dtype=float32)\n"
          ]
        }
      ]
    },
    {
      "cell_type": "markdown",
      "metadata": {
        "id": "vwZ5bhna9UGF"
      },
      "source": [
        "<h1>Using the model to generate music</h1>"
      ]
    },
    {
      "cell_type": "code",
      "metadata": {
        "colab": {
          "base_uri": "https://localhost:8080/"
        },
        "id": "F8oQNdn9KcXB",
        "outputId": "848db687-2e66-49c5-82b5-82f063f1388a"
      },
      "source": [
        "%%bash\n",
        "mkdir songs\n",
        "mkdir fullsongs\n",
        "apt update\n",
        "apt install ffmpeg"
      ],
      "execution_count": null,
      "outputs": [
        {
          "output_type": "stream",
          "name": "stdout",
          "text": [
            "Hit:1 http://security.ubuntu.com/ubuntu bionic-security InRelease\n",
            "Hit:2 https://cloud.r-project.org/bin/linux/ubuntu bionic-cran40/ InRelease\n",
            "Ign:3 https://developer.download.nvidia.com/compute/cuda/repos/ubuntu1804/x86_64  InRelease\n",
            "Ign:4 https://developer.download.nvidia.com/compute/machine-learning/repos/ubuntu1804/x86_64  InRelease\n",
            "Hit:5 http://ppa.launchpad.net/c2d4u.team/c2d4u4.0+/ubuntu bionic InRelease\n",
            "Hit:6 https://developer.download.nvidia.com/compute/cuda/repos/ubuntu1804/x86_64  Release\n",
            "Hit:7 https://developer.download.nvidia.com/compute/machine-learning/repos/ubuntu1804/x86_64  Release\n",
            "Hit:8 http://archive.ubuntu.com/ubuntu bionic InRelease\n",
            "Hit:9 http://archive.ubuntu.com/ubuntu bionic-updates InRelease\n",
            "Hit:10 http://ppa.launchpad.net/cran/libgit2/ubuntu bionic InRelease\n",
            "Hit:11 http://archive.ubuntu.com/ubuntu bionic-backports InRelease\n",
            "Hit:12 http://ppa.launchpad.net/deadsnakes/ppa/ubuntu bionic InRelease\n",
            "Hit:14 http://ppa.launchpad.net/graphics-drivers/ppa/ubuntu bionic InRelease\n",
            "Reading package lists...\n",
            "Building dependency tree...\n",
            "Reading state information...\n",
            "80 packages can be upgraded. Run 'apt list --upgradable' to see them.\n",
            "Reading package lists...\n",
            "Building dependency tree...\n",
            "Reading state information...\n",
            "ffmpeg is already the newest version (7:3.4.8-0ubuntu0.2).\n",
            "0 upgraded, 0 newly installed, 0 to remove and 80 not upgraded.\n"
          ]
        },
        {
          "output_type": "stream",
          "name": "stderr",
          "text": [
            "mkdir: cannot create directory ‘fullsongs’: File exists\n",
            "\n",
            "WARNING: apt does not have a stable CLI interface. Use with caution in scripts.\n",
            "\n",
            "\n",
            "WARNING: apt does not have a stable CLI interface. Use with caution in scripts.\n",
            "\n"
          ]
        }
      ]
    },
    {
      "cell_type": "code",
      "metadata": {
        "colab": {
          "base_uri": "https://localhost:8080/"
        },
        "id": "vhMbtFoX9TIJ",
        "outputId": "405803a1-f3e3-46e7-e35a-62b243a75b6b"
      },
      "source": [
        "model = def_model(vocab_size, embedding_dims, rnn_units, batch_size=1)\n",
        "model.load_weights(tf.train.latest_checkpoint(checkpoint_dir))\n",
        "model.build(tf.TensorShape([1, None]))\n",
        "\n",
        "\n",
        "'''\n",
        "model = tf.keras.models.load_model(os.path.join(checkpoint_dir, 'MusicNigelModel1.h5'))\n",
        "model = def_model(vocab_size, embedding_dims, rnn_units, batch_size=1)\n",
        "model.build(tf.TensorShape([1, None]))\n",
        "'''\n",
        "\n",
        "model.summary()"
      ],
      "execution_count": null,
      "outputs": [
        {
          "output_type": "stream",
          "name": "stdout",
          "text": [
            "Model: \"sequential_2\"\n",
            "_________________________________________________________________\n",
            "Layer (type)                 Output Shape              Param #   \n",
            "=================================================================\n",
            "embedding_2 (Embedding)      (1, None, 256)            27136     \n",
            "_________________________________________________________________\n",
            "lstm_2 (LSTM)                (1, None, 1024)           5246976   \n",
            "_________________________________________________________________\n",
            "dense_2 (Dense)              (1, None, 106)            108650    \n",
            "=================================================================\n",
            "Total params: 5,382,762\n",
            "Trainable params: 5,382,762\n",
            "Non-trainable params: 0\n",
            "_________________________________________________________________\n"
          ]
        }
      ]
    },
    {
      "cell_type": "code",
      "metadata": {
        "id": "cAi2PJskKa2F"
      },
      "source": [
        "\n",
        "def gen_song(model, start_string, gen_length=1000):\n",
        "\n",
        "  input_eval = [chartoidx[s] for s in start_string]\n",
        "  input_eval = tf.expand_dims(input_eval, 0)\n",
        "\n",
        "  song_gen = []\n",
        "\n",
        "  model.reset_states()\n",
        "  tqdm._instances.clear()\n",
        "\n",
        "  for i in tqdm(range(gen_length)):\n",
        "    predictions = model(input_eval)\n",
        "    predictions = tf.squeeze(predictions, 0)\n",
        "    predicted_id = tf.random.categorical(predictions, num_samples=1)[-1, 0].numpy()\n",
        "    \n",
        "    input_eval = tf.expand_dims([predicted_id], 0)\n",
        "    song_gen.append(idxtochar[predicted_id])\n",
        "\n",
        "  return (start_string+''.join(song_gen))"
      ],
      "execution_count": null,
      "outputs": []
    },
    {
      "cell_type": "code",
      "metadata": {
        "id": "vKU0SzIAUpMC"
      },
      "source": [
        "tot = 0"
      ],
      "execution_count": null,
      "outputs": []
    },
    {
      "cell_type": "code",
      "metadata": {
        "colab": {
          "base_uri": "https://localhost:8080/"
        },
        "id": "D-6wmZL3pclR",
        "outputId": "a4e6020d-b3f3-49c5-9644-080cb6ef33dc"
      },
      "source": [
        "# Assign to rangeval the number of times you wan to loop this\n",
        "rangeval = 10\n",
        "for iters in range(rangeval):\n",
        "  song_generated = gen_song(model, start_string=\"X\", gen_length=2000)\n",
        "  song_generated = gen_song(model, start_string=\"X\", gen_length=2000)\n",
        "  all_songs_play = mdl.lab1.extract_song_snippet(song_generated)\n",
        "\n",
        "  for i, song in enumerate(all_songs_play):\n",
        "    waveform = mdl.lab1.play_song(song)\n",
        "\n",
        "    if waveform:\n",
        "      with open('./songs/gensong%02d.wav' %(tot), 'wb') as f:\n",
        "        f.write(waveform.data)\n",
        "      with open('./songs/songnames.txt', 'a') as f:\n",
        "        f.write(\"file 'gensong%02d.wav'\\n\" %(tot))\n",
        "      print(\"Generated song\", tot)\n",
        "      tot += 1\n",
        "      # ipythondisplay.display(waveform)"
      ],
      "execution_count": null,
      "outputs": [
        {
          "output_type": "stream",
          "name": "stderr",
          "text": [
            "100%|██████████| 2000/2000 [00:16<00:00, 120.59it/s]\n",
            "100%|██████████| 2000/2000 [00:16<00:00, 120.09it/s]\n"
          ]
        },
        {
          "output_type": "stream",
          "name": "stdout",
          "text": [
            "Found 4 songs in text\n",
            "Generated song 0\n",
            "Generated song 1\n"
          ]
        },
        {
          "output_type": "stream",
          "name": "stderr",
          "text": [
            "100%|██████████| 2000/2000 [00:16<00:00, 121.49it/s]\n",
            "100%|██████████| 2000/2000 [00:16<00:00, 120.87it/s]\n"
          ]
        },
        {
          "output_type": "stream",
          "name": "stdout",
          "text": [
            "Found 6 songs in text\n",
            "Generated song 2\n",
            "Generated song 3\n",
            "Generated song 4\n",
            "Generated song 5\n"
          ]
        },
        {
          "output_type": "stream",
          "name": "stderr",
          "text": [
            "100%|██████████| 2000/2000 [00:16<00:00, 120.50it/s]\n",
            "100%|██████████| 2000/2000 [00:16<00:00, 121.78it/s]\n"
          ]
        },
        {
          "output_type": "stream",
          "name": "stdout",
          "text": [
            "Found 6 songs in text\n",
            "Generated song 6\n",
            "Generated song 7\n",
            "Generated song 8\n"
          ]
        },
        {
          "output_type": "stream",
          "name": "stderr",
          "text": [
            "100%|██████████| 2000/2000 [00:16<00:00, 119.69it/s]\n",
            "100%|██████████| 2000/2000 [00:16<00:00, 119.22it/s]\n"
          ]
        },
        {
          "output_type": "stream",
          "name": "stdout",
          "text": [
            "Found 5 songs in text\n",
            "Generated song 9\n",
            "Generated song 10\n",
            "Generated song 11\n",
            "Generated song 12\n",
            "Generated song 13\n"
          ]
        },
        {
          "output_type": "stream",
          "name": "stderr",
          "text": [
            "100%|██████████| 2000/2000 [00:16<00:00, 121.24it/s]\n",
            "100%|██████████| 2000/2000 [00:16<00:00, 122.31it/s]\n"
          ]
        },
        {
          "output_type": "stream",
          "name": "stdout",
          "text": [
            "Found 2 songs in text\n",
            "Generated song 14\n",
            "Generated song 15\n"
          ]
        },
        {
          "output_type": "stream",
          "name": "stderr",
          "text": [
            "100%|██████████| 2000/2000 [00:16<00:00, 121.34it/s]\n",
            "100%|██████████| 2000/2000 [00:16<00:00, 121.13it/s]\n"
          ]
        },
        {
          "output_type": "stream",
          "name": "stdout",
          "text": [
            "Found 7 songs in text\n",
            "Generated song 16\n",
            "Generated song 17\n",
            "Generated song 18\n",
            "Generated song 19\n",
            "Generated song 20\n"
          ]
        },
        {
          "output_type": "stream",
          "name": "stderr",
          "text": [
            "100%|██████████| 2000/2000 [00:16<00:00, 121.91it/s]\n",
            "100%|██████████| 2000/2000 [00:16<00:00, 120.06it/s]\n"
          ]
        },
        {
          "output_type": "stream",
          "name": "stdout",
          "text": [
            "Found 7 songs in text\n",
            "Generated song 21\n",
            "Generated song 22\n",
            "Generated song 23\n",
            "Generated song 24\n"
          ]
        },
        {
          "output_type": "stream",
          "name": "stderr",
          "text": [
            "100%|██████████| 2000/2000 [00:16<00:00, 121.74it/s]\n",
            "100%|██████████| 2000/2000 [00:16<00:00, 121.03it/s]\n"
          ]
        },
        {
          "output_type": "stream",
          "name": "stdout",
          "text": [
            "Found 5 songs in text\n",
            "Generated song 25\n",
            "Generated song 26\n",
            "Generated song 27\n",
            "Generated song 28\n"
          ]
        },
        {
          "output_type": "stream",
          "name": "stderr",
          "text": [
            "100%|██████████| 2000/2000 [00:16<00:00, 120.02it/s]\n",
            "100%|██████████| 2000/2000 [00:16<00:00, 120.44it/s]\n"
          ]
        },
        {
          "output_type": "stream",
          "name": "stdout",
          "text": [
            "Found 5 songs in text\n",
            "Generated song 29\n",
            "Generated song 30\n",
            "Generated song 31\n",
            "Generated song 32\n"
          ]
        },
        {
          "output_type": "stream",
          "name": "stderr",
          "text": [
            "100%|██████████| 2000/2000 [00:16<00:00, 120.28it/s]\n",
            "100%|██████████| 2000/2000 [00:16<00:00, 120.93it/s]\n"
          ]
        },
        {
          "output_type": "stream",
          "name": "stdout",
          "text": [
            "Found 6 songs in text\n",
            "Generated song 33\n",
            "Generated song 34\n",
            "Generated song 35\n",
            "Generated song 36\n",
            "Generated song 37\n",
            "Generated song 38\n"
          ]
        }
      ]
    },
    {
      "cell_type": "code",
      "metadata": {
        "colab": {
          "base_uri": "https://localhost:8080/"
        },
        "id": "WN_mG4sCQR9O",
        "outputId": "6f5fb632-9ae2-4f59-f996-5804f3a3f136"
      },
      "source": [
        "!ffmpeg -f concat -i ./songs/songnames.txt -c copy ./fullsongs/fullsong.wav"
      ],
      "execution_count": null,
      "outputs": [
        {
          "output_type": "stream",
          "name": "stdout",
          "text": [
            "ffmpeg version 3.4.8-0ubuntu0.2 Copyright (c) 2000-2020 the FFmpeg developers\n",
            "  built with gcc 7 (Ubuntu 7.5.0-3ubuntu1~18.04)\n",
            "  configuration: --prefix=/usr --extra-version=0ubuntu0.2 --toolchain=hardened --libdir=/usr/lib/x86_64-linux-gnu --incdir=/usr/include/x86_64-linux-gnu --enable-gpl --disable-stripping --enable-avresample --enable-avisynth --enable-gnutls --enable-ladspa --enable-libass --enable-libbluray --enable-libbs2b --enable-libcaca --enable-libcdio --enable-libflite --enable-libfontconfig --enable-libfreetype --enable-libfribidi --enable-libgme --enable-libgsm --enable-libmp3lame --enable-libmysofa --enable-libopenjpeg --enable-libopenmpt --enable-libopus --enable-libpulse --enable-librubberband --enable-librsvg --enable-libshine --enable-libsnappy --enable-libsoxr --enable-libspeex --enable-libssh --enable-libtheora --enable-libtwolame --enable-libvorbis --enable-libvpx --enable-libwavpack --enable-libwebp --enable-libx265 --enable-libxml2 --enable-libxvid --enable-libzmq --enable-libzvbi --enable-omx --enable-openal --enable-opengl --enable-sdl2 --enable-libdc1394 --enable-libdrm --enable-libiec61883 --enable-chromaprint --enable-frei0r --enable-libopencv --enable-libx264 --enable-shared\n",
            "  libavutil      55. 78.100 / 55. 78.100\n",
            "  libavcodec     57.107.100 / 57.107.100\n",
            "  libavformat    57. 83.100 / 57. 83.100\n",
            "  libavdevice    57. 10.100 / 57. 10.100\n",
            "  libavfilter     6.107.100 /  6.107.100\n",
            "  libavresample   3.  7.  0 /  3.  7.  0\n",
            "  libswscale      4.  8.100 /  4.  8.100\n",
            "  libswresample   2.  9.100 /  2.  9.100\n",
            "  libpostproc    54.  7.100 / 54.  7.100\n",
            "\u001b[0;33mGuessed Channel Layout for Input Stream #0.0 : stereo\n",
            "\u001b[0mInput #0, concat, from './songs/songnames.txt':\n",
            "  Duration: N/A, start: 0.000000, bitrate: 1411 kb/s\n",
            "    Stream #0:0: Audio: pcm_s16le ([1][0][0][0] / 0x0001), 44100 Hz, stereo, s16, 1411 kb/s\n",
            "File './fullsongs/fullsong.wav' already exists. Overwrite ? [y/N] y\n",
            "Output #0, wav, to './fullsongs/fullsong.wav':\n",
            "  Metadata:\n",
            "    ISFT            : Lavf57.83.100\n",
            "    Stream #0:0: Audio: pcm_s16le ([1][0][0][0] / 0x0001), 44100 Hz, stereo, s16, 1411 kb/s\n",
            "Stream mapping:\n",
            "  Stream #0:0 -> #0:0 (copy)\n",
            "Press [q] to stop, [?] for help\n",
            "size=  519518kB time=00:50:15.78 bitrate=1411.2kbits/s speed=1.4e+03x    \n",
            "video:0kB audio:519518kB subtitle:0kB other streams:0kB global headers:0kB muxing overhead: 0.000015%\n"
          ]
        }
      ]
    },
    {
      "cell_type": "code",
      "metadata": {
        "colab": {
          "base_uri": "https://localhost:8080/"
        },
        "id": "DAIEBiwSStXu",
        "outputId": "b94bb5ff-9bec-4d44-b205-963e48a2684d"
      },
      "source": [
        "%%bash\n",
        "rm -rf songs \n",
        "ffmpeg -i ./fullsongs/fullsong.wav -vn -ar 44100 -ac 2 -b:a 192k ./fullsongs/fullsong.mp3"
      ],
      "execution_count": null,
      "outputs": [
        {
          "output_type": "stream",
          "name": "stderr",
          "text": [
            "ffmpeg version 3.4.8-0ubuntu0.2 Copyright (c) 2000-2020 the FFmpeg developers\n",
            "  built with gcc 7 (Ubuntu 7.5.0-3ubuntu1~18.04)\n",
            "  configuration: --prefix=/usr --extra-version=0ubuntu0.2 --toolchain=hardened --libdir=/usr/lib/x86_64-linux-gnu --incdir=/usr/include/x86_64-linux-gnu --enable-gpl --disable-stripping --enable-avresample --enable-avisynth --enable-gnutls --enable-ladspa --enable-libass --enable-libbluray --enable-libbs2b --enable-libcaca --enable-libcdio --enable-libflite --enable-libfontconfig --enable-libfreetype --enable-libfribidi --enable-libgme --enable-libgsm --enable-libmp3lame --enable-libmysofa --enable-libopenjpeg --enable-libopenmpt --enable-libopus --enable-libpulse --enable-librubberband --enable-librsvg --enable-libshine --enable-libsnappy --enable-libsoxr --enable-libspeex --enable-libssh --enable-libtheora --enable-libtwolame --enable-libvorbis --enable-libvpx --enable-libwavpack --enable-libwebp --enable-libx265 --enable-libxml2 --enable-libxvid --enable-libzmq --enable-libzvbi --enable-omx --enable-openal --enable-opengl --enable-sdl2 --enable-libdc1394 --enable-libdrm --enable-libiec61883 --enable-chromaprint --enable-frei0r --enable-libopencv --enable-libx264 --enable-shared\n",
            "  libavutil      55. 78.100 / 55. 78.100\n",
            "  libavcodec     57.107.100 / 57.107.100\n",
            "  libavformat    57. 83.100 / 57. 83.100\n",
            "  libavdevice    57. 10.100 / 57. 10.100\n",
            "  libavfilter     6.107.100 /  6.107.100\n",
            "  libavresample   3.  7.  0 /  3.  7.  0\n",
            "  libswscale      4.  8.100 /  4.  8.100\n",
            "  libswresample   2.  9.100 /  2.  9.100\n",
            "  libpostproc    54.  7.100 / 54.  7.100\n",
            "Guessed Channel Layout for Input Stream #0.0 : stereo\n",
            "Input #0, wav, from './fullsongs/fullsong.wav':\n",
            "  Metadata:\n",
            "    encoder         : Lavf57.83.100\n",
            "  Duration: 00:50:15.79, bitrate: 1411 kb/s\n",
            "    Stream #0:0: Audio: pcm_s16le ([1][0][0][0] / 0x0001), 44100 Hz, stereo, s16, 1411 kb/s\n",
            "Stream mapping:\n",
            "  Stream #0:0 -> #0:0 (pcm_s16le (native) -> mp3 (libmp3lame))\n",
            "Press [q] to stop, [?] for help\n",
            "Output #0, mp3, to './fullsongs/fullsong.mp3':\n",
            "  Metadata:\n",
            "    TSSE            : Lavf57.83.100\n",
            "    Stream #0:0: Audio: mp3 (libmp3lame), 44100 Hz, stereo, s16p, 192 kb/s\n",
            "    Metadata:\n",
            "      encoder         : Lavc57.107.100 libmp3lame\n",
            "size=     512kB time=00:00:22.57 bitrate= 185.8kbits/s speed=45.1x    \rsize=    1024kB time=00:00:43.67 bitrate= 192.1kbits/s speed=43.6x    \rsize=    1280kB time=00:01:03.84 bitrate= 164.2kbits/s speed=42.5x    \rsize=    1792kB time=00:01:23.80 bitrate= 175.2kbits/s speed=41.9x    \rsize=    2304kB time=00:01:44.69 bitrate= 180.3kbits/s speed=41.8x    \rsize=    2816kB time=00:02:05.62 bitrate= 183.6kbits/s speed=41.8x    \rsize=    3328kB time=00:02:25.99 bitrate= 186.7kbits/s speed=41.7x    \rsize=    3840kB time=00:02:46.11 bitrate= 189.4kbits/s speed=41.5x    \rsize=    4352kB time=00:03:08.00 bitrate= 189.6kbits/s speed=41.7x    \rsize=    4864kB time=00:03:28.95 bitrate= 190.7kbits/s speed=41.8x    \rsize=    5376kB time=00:03:50.58 bitrate= 191.0kbits/s speed=41.9x    \rsize=    5888kB time=00:04:12.57 bitrate= 191.0kbits/s speed=42.1x    \rsize=    6400kB time=00:04:34.93 bitrate= 190.7kbits/s speed=42.3x    \rsize=    6912kB time=00:04:56.88 bitrate= 190.7kbits/s speed=42.4x    \rsize=    7424kB time=00:05:20.39 bitrate= 189.8kbits/s speed=42.7x    \rsize=    7936kB time=00:05:43.69 bitrate= 189.2kbits/s speed=42.9x    \rsize=    8448kB time=00:06:05.58 bitrate= 189.3kbits/s speed=  43x    \rsize=    8960kB time=00:06:27.94 bitrate= 189.2kbits/s speed=43.1x    \rsize=    9472kB time=00:06:49.73 bitrate= 189.4kbits/s speed=43.1x    \rsize=    9984kB time=00:07:11.85 bitrate= 189.4kbits/s speed=43.2x    \rsize=   10496kB time=00:07:33.95 bitrate= 189.4kbits/s speed=43.2x    \rsize=   11008kB time=00:07:56.34 bitrate= 189.3kbits/s speed=43.3x    \rsize=   11520kB time=00:08:17.89 bitrate= 189.5kbits/s speed=43.3x    \rsize=   12032kB time=00:08:40.22 bitrate= 189.5kbits/s speed=43.3x    \rsize=   12544kB time=00:09:02.30 bitrate= 189.5kbits/s speed=43.4x    \rsize=   13056kB time=00:09:24.21 bitrate= 189.6kbits/s speed=43.4x    \rsize=   13568kB time=00:09:46.52 bitrate= 189.5kbits/s speed=43.4x    \rsize=   14080kB time=00:10:09.77 bitrate= 189.2kbits/s speed=43.5x    \rsize=   14592kB time=00:10:32.26 bitrate= 189.1kbits/s speed=43.6x    \rsize=   15104kB time=00:10:54.52 bitrate= 189.0kbits/s speed=43.6x    \rsize=   15616kB time=00:11:15.91 bitrate= 189.3kbits/s speed=43.6x    \rsize=   16128kB time=00:11:38.64 bitrate= 189.1kbits/s speed=43.6x    \rsize=   16640kB time=00:12:00.53 bitrate= 189.2kbits/s speed=43.6x    \rsize=   17152kB time=00:12:22.27 bitrate= 189.3kbits/s speed=43.6x    \rsize=   17664kB time=00:12:44.47 bitrate= 189.3kbits/s speed=43.7x    \rsize=   18432kB time=00:13:06.39 bitrate= 192.0kbits/s speed=43.7x    \rsize=   18688kB time=00:13:27.94 bitrate= 189.5kbits/s speed=43.6x    \rsize=   19200kB time=00:13:49.57 bitrate= 189.6kbits/s speed=43.6x    \rsize=   19712kB time=00:14:11.04 bitrate= 189.7kbits/s speed=43.6x    \rsize=   20224kB time=00:14:32.25 bitrate= 189.9kbits/s speed=43.6x    \rsize=   20736kB time=00:14:53.85 bitrate= 190.0kbits/s speed=43.6x    \rsize=   21248kB time=00:15:16.29 bitrate= 190.0kbits/s speed=43.6x    \rsize=   21760kB time=00:15:38.97 bitrate= 189.8kbits/s speed=43.6x    \rsize=   22528kB time=00:16:01.22 bitrate= 192.0kbits/s speed=43.7x    \rsize=   22784kB time=00:16:22.96 bitrate= 189.9kbits/s speed=43.7x    \rsize=   23552kB time=00:16:45.58 bitrate= 191.9kbits/s speed=43.7x    \rsize=   24064kB time=00:17:06.77 bitrate= 192.0kbits/s speed=43.7x    \rsize=   24576kB time=00:17:29.13 bitrate= 191.9kbits/s speed=43.7x    \rsize=   25088kB time=00:17:50.78 bitrate= 191.9kbits/s speed=43.7x    \rsize=   25344kB time=00:18:12.20 bitrate= 190.1kbits/s speed=43.7x    \rsize=   25856kB time=00:18:33.49 bitrate= 190.2kbits/s speed=43.6x    \rsize=   26368kB time=00:18:53.68 bitrate= 190.5kbits/s speed=43.6x    \rsize=   26880kB time=00:19:15.94 bitrate= 190.5kbits/s speed=43.6x    \rsize=   27392kB time=00:19:37.65 bitrate= 190.5kbits/s speed=43.6x    \rsize=   27904kB time=00:19:58.57 bitrate= 190.7kbits/s speed=43.6x    \rsize=   28416kB time=00:20:19.42 bitrate= 190.9kbits/s speed=43.5x    \rsize=   28928kB time=00:20:40.81 bitrate= 191.0kbits/s speed=43.5x    \rsize=   29440kB time=00:21:02.10 bitrate= 191.1kbits/s speed=43.5x    \rsize=   29952kB time=00:21:23.42 bitrate= 191.2kbits/s speed=43.5x    \rsize=   30464kB time=00:21:44.79 bitrate= 191.3kbits/s speed=43.5x    \rsize=   30976kB time=00:22:05.84 bitrate= 191.4kbits/s speed=43.4x    \rsize=   31488kB time=00:22:26.95 bitrate= 191.5kbits/s speed=43.4x    \rsize=   32000kB time=00:22:47.90 bitrate= 191.6kbits/s speed=43.4x    \rsize=   32512kB time=00:23:09.11 bitrate= 191.7kbits/s speed=43.4x    \rsize=   33024kB time=00:23:30.06 bitrate= 191.9kbits/s speed=43.4x    \rsize=   33536kB time=00:23:51.27 bitrate= 191.9kbits/s speed=43.3x    \rsize=   33792kB time=00:24:12.27 bitrate= 190.6kbits/s speed=43.3x    \rsize=   34304kB time=00:24:33.43 bitrate= 190.7kbits/s speed=43.3x    \rsize=   34816kB time=00:24:54.49 bitrate= 190.8kbits/s speed=43.3x    \rsize=   35328kB time=00:25:15.73 bitrate= 190.9kbits/s speed=43.3x    \rsize=   35840kB time=00:25:36.81 bitrate= 191.0kbits/s speed=43.3x    \rsize=   36352kB time=00:25:57.76 bitrate= 191.2kbits/s speed=43.2x    \rsize=   36864kB time=00:26:18.76 bitrate= 191.3kbits/s speed=43.2x    \rsize=   37376kB time=00:26:39.73 bitrate= 191.4kbits/s speed=43.2x    \rsize=   37888kB time=00:27:00.82 bitrate= 191.5kbits/s speed=43.2x    \rsize=   38400kB time=00:27:22.00 bitrate= 191.6kbits/s speed=43.2x    \rsize=   38912kB time=00:27:43.40 bitrate= 191.6kbits/s speed=43.2x    \rsize=   39424kB time=00:28:04.63 bitrate= 191.7kbits/s speed=43.2x    \rsize=   39936kB time=00:28:25.61 bitrate= 191.8kbits/s speed=43.2x    \rsize=   40448kB time=00:28:46.09 bitrate= 192.0kbits/s speed=43.1x    \rsize=   40704kB time=00:29:07.20 bitrate= 190.8kbits/s speed=43.1x    \rsize=   41216kB time=00:29:28.15 bitrate= 191.0kbits/s speed=43.1x    \rsize=   41728kB time=00:29:49.46 bitrate= 191.0kbits/s speed=43.1x    \rsize=   42240kB time=00:30:10.10 bitrate= 191.2kbits/s speed=43.1x    \rsize=   42752kB time=00:30:31.26 bitrate= 191.2kbits/s speed=43.1x    \rsize=   43264kB time=00:30:52.29 bitrate= 191.3kbits/s speed=  43x    \rsize=   43776kB time=00:31:13.13 bitrate= 191.5kbits/s speed=  43x    \rsize=   44288kB time=00:31:34.19 bitrate= 191.5kbits/s speed=  43x    \rsize=   44800kB time=00:31:55.63 bitrate= 191.6kbits/s speed=  43x    \rsize=   45312kB time=00:32:16.53 bitrate= 191.7kbits/s speed=  43x    \rsize=   45824kB time=00:32:37.82 bitrate= 191.7kbits/s speed=  43x    \rsize=   46336kB time=00:32:58.54 bitrate= 191.9kbits/s speed=  43x    \rsize=   46848kB time=00:33:19.49 bitrate= 191.9kbits/s speed=  43x    \rsize=   47104kB time=00:33:40.31 bitrate= 191.0kbits/s speed=  43x    \rsize=   47616kB time=00:34:01.31 bitrate= 191.1kbits/s speed=42.9x    \rsize=   48128kB time=00:34:22.18 bitrate= 191.2kbits/s speed=42.9x    \rsize=   48640kB time=00:34:43.34 bitrate= 191.3kbits/s speed=42.9x    \rsize=   49152kB time=00:35:03.82 bitrate= 191.4kbits/s speed=42.9x    \rsize=   49664kB time=00:35:24.90 bitrate= 191.5kbits/s speed=42.9x    \rsize=   50176kB time=00:35:45.77 bitrate= 191.6kbits/s speed=42.9x    \rsize=   50688kB time=00:36:06.96 bitrate= 191.6kbits/s speed=42.9x    \rsize=   51200kB time=00:36:28.72 bitrate= 191.6kbits/s speed=42.9x    \rsize=   51712kB time=00:36:51.29 bitrate= 191.6kbits/s speed=42.9x    \rsize=   52224kB time=00:37:13.28 bitrate= 191.6kbits/s speed=42.9x    \rsize=   52736kB time=00:37:34.89 bitrate= 191.6kbits/s speed=42.9x    \rsize=   53248kB time=00:37:57.74 bitrate= 191.5kbits/s speed=42.9x    \rsize=   53760kB time=00:38:19.69 bitrate= 191.5kbits/s speed=  43x    \rsize=   54272kB time=00:38:41.84 bitrate= 191.5kbits/s speed=  43x    \rsize=   54784kB time=00:39:04.46 bitrate= 191.4kbits/s speed=  43x    \rsize=   55296kB time=00:39:26.19 bitrate= 191.4kbits/s speed=  43x    \rsize=   55808kB time=00:39:48.61 bitrate= 191.4kbits/s speed=  43x    \rsize=   56320kB time=00:40:10.21 bitrate= 191.4kbits/s speed=  43x    \rsize=   56832kB time=00:40:32.41 bitrate= 191.4kbits/s speed=  43x    \rsize=   57344kB time=00:40:53.81 bitrate= 191.4kbits/s speed=  43x    \rsize=   57856kB time=00:41:15.36 bitrate= 191.5kbits/s speed=  43x    \rsize=   58368kB time=00:41:36.81 bitrate= 191.5kbits/s speed=  43x    \rsize=   58880kB time=00:41:59.30 bitrate= 191.5kbits/s speed=  43x    \rsize=   59392kB time=00:42:20.20 bitrate= 191.5kbits/s speed=  43x    \rsize=   59904kB time=00:42:42.35 bitrate= 191.5kbits/s speed=  43x    \rsize=   60416kB time=00:43:04.55 bitrate= 191.5kbits/s speed=  43x    \rsize=   60928kB time=00:43:26.99 bitrate= 191.5kbits/s speed=43.1x    \rsize=   61440kB time=00:43:48.18 bitrate= 191.5kbits/s speed=43.1x    \rsize=   61952kB time=00:44:09.75 bitrate= 191.5kbits/s speed=43.1x    \rsize=   62464kB time=00:44:31.85 bitrate= 191.5kbits/s speed=43.1x    \rsize=   62976kB time=00:44:53.64 bitrate= 191.5kbits/s speed=43.1x    \rsize=   63488kB time=00:45:16.00 bitrate= 191.5kbits/s speed=43.1x    \rsize=   64000kB time=00:45:38.70 bitrate= 191.4kbits/s speed=43.1x    \rsize=   64512kB time=00:46:01.09 bitrate= 191.4kbits/s speed=43.1x    \rsize=   65024kB time=00:46:23.58 bitrate= 191.4kbits/s speed=43.1x    \rsize=   65536kB time=00:46:45.23 bitrate= 191.4kbits/s speed=43.1x    \rsize=   66048kB time=00:47:07.20 bitrate= 191.4kbits/s speed=43.1x    \rsize=   66560kB time=00:47:29.35 bitrate= 191.4kbits/s speed=43.1x    \rsize=   67072kB time=00:47:51.45 bitrate= 191.4kbits/s speed=43.2x    \rsize=   67584kB time=00:48:13.03 bitrate= 191.4kbits/s speed=43.2x    \rsize=   68096kB time=00:48:34.77 bitrate= 191.4kbits/s speed=43.2x    \rsize=   68608kB time=00:48:56.55 bitrate= 191.4kbits/s speed=43.2x    \rsize=   69120kB time=00:49:18.65 bitrate= 191.4kbits/s speed=43.2x    \rsize=   69632kB time=00:49:39.24 bitrate= 191.5kbits/s speed=43.1x    \rsize=   70144kB time=00:50:00.13 bitrate= 191.5kbits/s speed=43.1x    \rsize=   70684kB time=00:50:15.81 bitrate= 192.0kbits/s speed=43.1x    \n",
            "video:0kB audio:70684kB subtitle:0kB other streams:0kB global headers:0kB muxing overhead: 0.000927%\n"
          ]
        }
      ]
    },
    {
      "cell_type": "code",
      "metadata": {
        "colab": {
          "base_uri": "https://localhost:8080/"
        },
        "id": "V_x7iR_zXkFJ",
        "outputId": "a24123f6-28f6-4821-c252-cf9cbf382fb4"
      },
      "source": [
        "%%bash\n",
        "ls -alh ./fullsongs/"
      ],
      "execution_count": null,
      "outputs": [
        {
          "output_type": "stream",
          "name": "stdout",
          "text": [
            "total 577M\n",
            "drwxr-xr-x 3 root root 4.0K Sep 30 15:40 .\n",
            "drwxr-xr-x 1 root root 4.0K Sep 30 15:40 ..\n",
            "-rw-r--r-- 1 root root  70M Sep 30 15:41 fullsong.mp3\n",
            "-rw-r--r-- 1 root root 508M Sep 30 15:39 fullsong.wav\n",
            "drwxr-xr-x 2 root root 4.0K Sep 30 15:39 .ipynb_checkpoints\n"
          ]
        }
      ]
    },
    {
      "cell_type": "code",
      "metadata": {
        "id": "STusn_WfYq0o"
      },
      "source": [
        "# To delete the much larger .wav file\n",
        "!rm ./fullsongs/fullsong.wav"
      ],
      "execution_count": null,
      "outputs": []
    }
  ]
}
