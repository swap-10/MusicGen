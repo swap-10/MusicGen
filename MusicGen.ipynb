{
  "nbformat": 4,
  "nbformat_minor": 0,
  "metadata": {
    "accelerator": "GPU",
    "colab": {
      "name": "NigelDataMusicGen.ipynb",
      "provenance": [],
      "collapsed_sections": [],
      "mount_file_id": "1Skh5Vx4K7QZmrkm61fO7XkuluRm4s8CH",
      "authorship_tag": "ABX9TyPDTsQA+Scz8W4pdQ5JF3/+",
      "include_colab_link": true
    },
    "kernelspec": {
      "display_name": "Python 3",
      "name": "python3"
    },
    "language_info": {
      "name": "python"
    }
  },
  "cells": [
    {
      "cell_type": "markdown",
      "metadata": {
        "id": "view-in-github",
        "colab_type": "text"
      },
      "source": [
        "<a href=\"https://colab.research.google.com/github/swap-10/MusicGen/blob/main/MusicGen.ipynb\" target=\"_parent\"><img src=\"https://colab.research.google.com/assets/colab-badge.svg\" alt=\"Open In Colab\"/></a>"
      ]
    },
    {
      "cell_type": "markdown",
      "metadata": {
        "id": "nPueHkTCTkPw"
      },
      "source": [
        "# Music Generation using LSTMs"
      ]
    },
    {
      "cell_type": "markdown",
      "metadata": {
        "id": "ys_d38ukTrUS"
      },
      "source": [
        "\n",
        "\n",
        "---\n",
        "\n"
      ]
    },
    {
      "cell_type": "markdown",
      "metadata": {
        "id": "FrpBn2fWT0M1"
      },
      "source": [
        "# Getting and organizing the dataset"
      ]
    },
    {
      "cell_type": "code",
      "metadata": {
        "colab": {
          "base_uri": "https://localhost:8080/"
        },
        "id": "FvWWRgH6A3QE",
        "outputId": "bcdd880c-ad9b-4650-8b28-212fab187eaa"
      },
      "source": [
        "%%bash\n",
        "mkdir abcdownloads\n",
        "for i in {1..21}\n",
        "do\n",
        "foo=$(printf \"http://www.nigelgatherer.com/tunes/abc/tb%02d.abc\" $i)\n",
        "name=$(printf \"tb%02d.abc\" $i)\n",
        "wget -O ./abcdownloads/$name \"${foo}\"\n",
        "done"
      ],
      "execution_count": 1,
      "outputs": [
        {
          "output_type": "stream",
          "name": "stderr",
          "text": [
            "--2021-09-30 14:12:10--  http://www.nigelgatherer.com/tunes/abc/tb01.abc\n",
            "Resolving www.nigelgatherer.com (www.nigelgatherer.com)... 185.195.15.60\n",
            "Connecting to www.nigelgatherer.com (www.nigelgatherer.com)|185.195.15.60|:80... connected.\n",
            "HTTP request sent, awaiting response... 200 OK\n",
            "Length: 15248 (15K) [text/plain]\n",
            "Saving to: ‘./abcdownloads/tb01.abc’\n",
            "\n",
            "     0K .......... ....                                       100%  136K=0.1s\n",
            "\n",
            "2021-09-30 14:12:11 (136 KB/s) - ‘./abcdownloads/tb01.abc’ saved [15248/15248]\n",
            "\n",
            "--2021-09-30 14:12:11--  http://www.nigelgatherer.com/tunes/abc/tb02.abc\n",
            "Resolving www.nigelgatherer.com (www.nigelgatherer.com)... 185.195.15.60\n",
            "Connecting to www.nigelgatherer.com (www.nigelgatherer.com)|185.195.15.60|:80... connected.\n",
            "HTTP request sent, awaiting response... 200 OK\n",
            "Length: 15999 (16K) [text/plain]\n",
            "Saving to: ‘./abcdownloads/tb02.abc’\n",
            "\n",
            "     0K .......... .....                                      100%  142K=0.1s\n",
            "\n",
            "2021-09-30 14:12:11 (142 KB/s) - ‘./abcdownloads/tb02.abc’ saved [15999/15999]\n",
            "\n",
            "--2021-09-30 14:12:11--  http://www.nigelgatherer.com/tunes/abc/tb03.abc\n",
            "Resolving www.nigelgatherer.com (www.nigelgatherer.com)... 185.195.15.60\n",
            "Connecting to www.nigelgatherer.com (www.nigelgatherer.com)|185.195.15.60|:80... connected.\n",
            "HTTP request sent, awaiting response... 200 OK\n",
            "Length: 13699 (13K) [text/plain]\n",
            "Saving to: ‘./abcdownloads/tb03.abc’\n",
            "\n",
            "     0K .......... ...                                        100%  164M=0s\n",
            "\n",
            "2021-09-30 14:12:11 (164 MB/s) - ‘./abcdownloads/tb03.abc’ saved [13699/13699]\n",
            "\n",
            "--2021-09-30 14:12:11--  http://www.nigelgatherer.com/tunes/abc/tb04.abc\n",
            "Resolving www.nigelgatherer.com (www.nigelgatherer.com)... 185.195.15.60\n",
            "Connecting to www.nigelgatherer.com (www.nigelgatherer.com)|185.195.15.60|:80... connected.\n",
            "HTTP request sent, awaiting response... 200 OK\n",
            "Length: 15399 (15K) [text/plain]\n",
            "Saving to: ‘./abcdownloads/tb04.abc’\n",
            "\n",
            "     0K .......... .....                                      100%  137K=0.1s\n",
            "\n",
            "2021-09-30 14:12:12 (137 KB/s) - ‘./abcdownloads/tb04.abc’ saved [15399/15399]\n",
            "\n",
            "--2021-09-30 14:12:12--  http://www.nigelgatherer.com/tunes/abc/tb05.abc\n",
            "Resolving www.nigelgatherer.com (www.nigelgatherer.com)... 185.195.15.60\n",
            "Connecting to www.nigelgatherer.com (www.nigelgatherer.com)|185.195.15.60|:80... connected.\n",
            "HTTP request sent, awaiting response... 200 OK\n",
            "Length: 15914 (16K) [text/plain]\n",
            "Saving to: ‘./abcdownloads/tb05.abc’\n",
            "\n",
            "     0K .......... .....                                      100%  142K=0.1s\n",
            "\n",
            "2021-09-30 14:12:12 (142 KB/s) - ‘./abcdownloads/tb05.abc’ saved [15914/15914]\n",
            "\n",
            "--2021-09-30 14:12:12--  http://www.nigelgatherer.com/tunes/abc/tb06.abc\n",
            "Resolving www.nigelgatherer.com (www.nigelgatherer.com)... 185.195.15.60\n",
            "Connecting to www.nigelgatherer.com (www.nigelgatherer.com)|185.195.15.60|:80... connected.\n",
            "HTTP request sent, awaiting response... 200 OK\n",
            "Length: 16068 (16K) [text/plain]\n",
            "Saving to: ‘./abcdownloads/tb06.abc’\n",
            "\n",
            "     0K .......... .....                                      100%  143K=0.1s\n",
            "\n",
            "2021-09-30 14:12:12 (143 KB/s) - ‘./abcdownloads/tb06.abc’ saved [16068/16068]\n",
            "\n",
            "--2021-09-30 14:12:13--  http://www.nigelgatherer.com/tunes/abc/tb07.abc\n",
            "Resolving www.nigelgatherer.com (www.nigelgatherer.com)... 185.195.15.60\n",
            "Connecting to www.nigelgatherer.com (www.nigelgatherer.com)|185.195.15.60|:80... connected.\n",
            "HTTP request sent, awaiting response... 200 OK\n",
            "Length: 14672 (14K) [text/plain]\n",
            "Saving to: ‘./abcdownloads/tb07.abc’\n",
            "\n",
            "     0K .......... ....                                       100%  128K=0.1s\n",
            "\n",
            "2021-09-30 14:12:13 (128 KB/s) - ‘./abcdownloads/tb07.abc’ saved [14672/14672]\n",
            "\n",
            "--2021-09-30 14:12:13--  http://www.nigelgatherer.com/tunes/abc/tb08.abc\n",
            "Resolving www.nigelgatherer.com (www.nigelgatherer.com)... 185.195.15.60\n",
            "Connecting to www.nigelgatherer.com (www.nigelgatherer.com)|185.195.15.60|:80... connected.\n",
            "HTTP request sent, awaiting response... 200 OK\n",
            "Length: 15919 (16K) [text/plain]\n",
            "Saving to: ‘./abcdownloads/tb08.abc’\n",
            "\n",
            "     0K .......... .....                                      100%  140K=0.1s\n",
            "\n",
            "2021-09-30 14:12:13 (140 KB/s) - ‘./abcdownloads/tb08.abc’ saved [15919/15919]\n",
            "\n",
            "--2021-09-30 14:12:13--  http://www.nigelgatherer.com/tunes/abc/tb09.abc\n",
            "Resolving www.nigelgatherer.com (www.nigelgatherer.com)... 185.195.15.60\n",
            "Connecting to www.nigelgatherer.com (www.nigelgatherer.com)|185.195.15.60|:80... connected.\n",
            "HTTP request sent, awaiting response... 200 OK\n",
            "Length: 18287 (18K) [text/plain]\n",
            "Saving to: ‘./abcdownloads/tb09.abc’\n",
            "\n",
            "     0K .......... .......                                    100%  161K=0.1s\n",
            "\n",
            "2021-09-30 14:12:14 (161 KB/s) - ‘./abcdownloads/tb09.abc’ saved [18287/18287]\n",
            "\n",
            "--2021-09-30 14:12:14--  http://www.nigelgatherer.com/tunes/abc/tb10.abc\n",
            "Resolving www.nigelgatherer.com (www.nigelgatherer.com)... 185.195.15.60\n",
            "Connecting to www.nigelgatherer.com (www.nigelgatherer.com)|185.195.15.60|:80... connected.\n",
            "HTTP request sent, awaiting response... 200 OK\n",
            "Length: 16867 (16K) [text/plain]\n",
            "Saving to: ‘./abcdownloads/tb10.abc’\n",
            "\n",
            "     0K .......... ......                                     100%  148K=0.1s\n",
            "\n",
            "2021-09-30 14:12:14 (148 KB/s) - ‘./abcdownloads/tb10.abc’ saved [16867/16867]\n",
            "\n",
            "--2021-09-30 14:12:14--  http://www.nigelgatherer.com/tunes/abc/tb11.abc\n",
            "Resolving www.nigelgatherer.com (www.nigelgatherer.com)... 185.195.15.60\n",
            "Connecting to www.nigelgatherer.com (www.nigelgatherer.com)|185.195.15.60|:80... connected.\n",
            "HTTP request sent, awaiting response... 200 OK\n",
            "Length: 18083 (18K) [text/plain]\n",
            "Saving to: ‘./abcdownloads/tb11.abc’\n",
            "\n",
            "     0K .......... .......                                    100%  159K=0.1s\n",
            "\n",
            "2021-09-30 14:12:14 (159 KB/s) - ‘./abcdownloads/tb11.abc’ saved [18083/18083]\n",
            "\n",
            "--2021-09-30 14:12:14--  http://www.nigelgatherer.com/tunes/abc/tb12.abc\n",
            "Resolving www.nigelgatherer.com (www.nigelgatherer.com)... 185.195.15.60\n",
            "Connecting to www.nigelgatherer.com (www.nigelgatherer.com)|185.195.15.60|:80... connected.\n",
            "HTTP request sent, awaiting response... 200 OK\n",
            "Length: 16510 (16K) [text/plain]\n",
            "Saving to: ‘./abcdownloads/tb12.abc’\n",
            "\n",
            "     0K .......... ......                                     100%  146K=0.1s\n",
            "\n",
            "2021-09-30 14:12:15 (146 KB/s) - ‘./abcdownloads/tb12.abc’ saved [16510/16510]\n",
            "\n",
            "--2021-09-30 14:12:15--  http://www.nigelgatherer.com/tunes/abc/tb13.abc\n",
            "Resolving www.nigelgatherer.com (www.nigelgatherer.com)... 185.195.15.60\n",
            "Connecting to www.nigelgatherer.com (www.nigelgatherer.com)|185.195.15.60|:80... connected.\n",
            "HTTP request sent, awaiting response... 200 OK\n",
            "Length: 19171 (19K) [text/plain]\n",
            "Saving to: ‘./abcdownloads/tb13.abc’\n",
            "\n",
            "     0K .......... ........                                   100%  168K=0.1s\n",
            "\n",
            "2021-09-30 14:12:15 (168 KB/s) - ‘./abcdownloads/tb13.abc’ saved [19171/19171]\n",
            "\n",
            "--2021-09-30 14:12:15--  http://www.nigelgatherer.com/tunes/abc/tb14.abc\n",
            "Resolving www.nigelgatherer.com (www.nigelgatherer.com)... 185.195.15.60\n",
            "Connecting to www.nigelgatherer.com (www.nigelgatherer.com)|185.195.15.60|:80... connected.\n",
            "HTTP request sent, awaiting response... 200 OK\n",
            "Length: 16861 (16K) [text/plain]\n",
            "Saving to: ‘./abcdownloads/tb14.abc’\n",
            "\n",
            "     0K .......... ......                                     100%  148K=0.1s\n",
            "\n",
            "2021-09-30 14:12:15 (148 KB/s) - ‘./abcdownloads/tb14.abc’ saved [16861/16861]\n",
            "\n",
            "--2021-09-30 14:12:15--  http://www.nigelgatherer.com/tunes/abc/tb15.abc\n",
            "Resolving www.nigelgatherer.com (www.nigelgatherer.com)... 185.195.15.60\n",
            "Connecting to www.nigelgatherer.com (www.nigelgatherer.com)|185.195.15.60|:80... connected.\n",
            "HTTP request sent, awaiting response... 200 OK\n",
            "Length: 16272 (16K) [text/plain]\n",
            "Saving to: ‘./abcdownloads/tb15.abc’\n",
            "\n",
            "     0K .......... .....                                      100%  144K=0.1s\n",
            "\n",
            "2021-09-30 14:12:16 (144 KB/s) - ‘./abcdownloads/tb15.abc’ saved [16272/16272]\n",
            "\n",
            "--2021-09-30 14:12:16--  http://www.nigelgatherer.com/tunes/abc/tb16.abc\n",
            "Resolving www.nigelgatherer.com (www.nigelgatherer.com)... 185.195.15.60\n",
            "Connecting to www.nigelgatherer.com (www.nigelgatherer.com)|185.195.15.60|:80... connected.\n",
            "HTTP request sent, awaiting response... 200 OK\n",
            "Length: 17605 (17K) [text/plain]\n",
            "Saving to: ‘./abcdownloads/tb16.abc’\n",
            "\n",
            "     0K .......... .......                                    100%  157K=0.1s\n",
            "\n",
            "2021-09-30 14:12:16 (157 KB/s) - ‘./abcdownloads/tb16.abc’ saved [17605/17605]\n",
            "\n",
            "--2021-09-30 14:12:16--  http://www.nigelgatherer.com/tunes/abc/tb17.abc\n",
            "Resolving www.nigelgatherer.com (www.nigelgatherer.com)... 185.195.15.60\n",
            "Connecting to www.nigelgatherer.com (www.nigelgatherer.com)|185.195.15.60|:80... connected.\n",
            "HTTP request sent, awaiting response... 200 OK\n",
            "Length: 15555 (15K) [text/plain]\n",
            "Saving to: ‘./abcdownloads/tb17.abc’\n",
            "\n",
            "     0K .......... .....                                      100%  139K=0.1s\n",
            "\n",
            "2021-09-30 14:12:17 (139 KB/s) - ‘./abcdownloads/tb17.abc’ saved [15555/15555]\n",
            "\n",
            "--2021-09-30 14:12:17--  http://www.nigelgatherer.com/tunes/abc/tb18.abc\n",
            "Resolving www.nigelgatherer.com (www.nigelgatherer.com)... 185.195.15.60\n",
            "Connecting to www.nigelgatherer.com (www.nigelgatherer.com)|185.195.15.60|:80... connected.\n",
            "HTTP request sent, awaiting response... 200 OK\n",
            "Length: 9449 (9.2K) [text/plain]\n",
            "Saving to: ‘./abcdownloads/tb18.abc’\n",
            "\n",
            "     0K .........                                             100% 86.7M=0s\n",
            "\n",
            "2021-09-30 14:12:17 (86.7 MB/s) - ‘./abcdownloads/tb18.abc’ saved [9449/9449]\n",
            "\n",
            "--2021-09-30 14:12:17--  http://www.nigelgatherer.com/tunes/abc/tb19.abc\n",
            "Resolving www.nigelgatherer.com (www.nigelgatherer.com)... 185.195.15.60\n",
            "Connecting to www.nigelgatherer.com (www.nigelgatherer.com)|185.195.15.60|:80... connected.\n",
            "HTTP request sent, awaiting response... 200 OK\n",
            "Length: 14730 (14K) [text/plain]\n",
            "Saving to: ‘./abcdownloads/tb19.abc’\n",
            "\n",
            "     0K .......... ....                                       100%  131K=0.1s\n",
            "\n",
            "2021-09-30 14:12:17 (131 KB/s) - ‘./abcdownloads/tb19.abc’ saved [14730/14730]\n",
            "\n",
            "--2021-09-30 14:12:17--  http://www.nigelgatherer.com/tunes/abc/tb20.abc\n",
            "Resolving www.nigelgatherer.com (www.nigelgatherer.com)... 185.195.15.60\n",
            "Connecting to www.nigelgatherer.com (www.nigelgatherer.com)|185.195.15.60|:80... connected.\n",
            "HTTP request sent, awaiting response... 200 OK\n",
            "Length: 17814 (17K) [text/plain]\n",
            "Saving to: ‘./abcdownloads/tb20.abc’\n",
            "\n",
            "     0K .......... .......                                    100%  157K=0.1s\n",
            "\n",
            "2021-09-30 14:12:18 (157 KB/s) - ‘./abcdownloads/tb20.abc’ saved [17814/17814]\n",
            "\n",
            "--2021-09-30 14:12:18--  http://www.nigelgatherer.com/tunes/abc/tb21.abc\n",
            "Resolving www.nigelgatherer.com (www.nigelgatherer.com)... 185.195.15.60\n",
            "Connecting to www.nigelgatherer.com (www.nigelgatherer.com)|185.195.15.60|:80... connected.\n",
            "HTTP request sent, awaiting response... 200 OK\n",
            "Length: 26306 (26K) [text/plain]\n",
            "Saving to: ‘./abcdownloads/tb21.abc’\n",
            "\n",
            "     0K .......... .......... .....                           100%  228K=0.1s\n",
            "\n",
            "2021-09-30 14:12:18 (228 KB/s) - ‘./abcdownloads/tb21.abc’ saved [26306/26306]\n",
            "\n"
          ]
        }
      ]
    },
    {
      "cell_type": "markdown",
      "metadata": {
        "id": "9-R-F1ssUAuO"
      },
      "source": [
        "<h2>Careful! This will delete the downloaded dataset. For experimentation, to re-download data\n",
        "<h2>"
      ]
    },
    {
      "cell_type": "code",
      "metadata": {
        "id": "zqFKFM7v3khE"
      },
      "source": [
        "# Careful !\n",
        "\n",
        "\n",
        "!rm -rf abcdownloads"
      ],
      "execution_count": null,
      "outputs": []
    },
    {
      "cell_type": "markdown",
      "metadata": {
        "id": "cBGd_JG6UO-9"
      },
      "source": [
        "Importing and installing requirements"
      ]
    },
    {
      "cell_type": "code",
      "metadata": {
        "id": "bF-tc11Q_67Y"
      },
      "source": [
        "%tensorflow_version 2.x\n",
        "# Sets the tensorflow version to 2.x (choosing from 1.x and 2.x)"
      ],
      "execution_count": 2,
      "outputs": []
    },
    {
      "cell_type": "code",
      "metadata": {
        "colab": {
          "base_uri": "https://localhost:8080/"
        },
        "id": "tRmJfSOeB4X-",
        "outputId": "3826130c-0c5d-4653-eacb-069f5aa06e0d"
      },
      "source": [
        "import tensorflow as tf\n",
        "import numpy as np\n",
        "import matplotlib.pyplot as plt\n",
        "\n",
        "!pip install mitdeeplearning\n",
        "import mitdeeplearning as mdl\n",
        "\n",
        "import os\n",
        "import time\n",
        "import functools\n",
        "from IPython import display as ipythondisplay\n",
        "from tqdm import tqdm\n",
        "!apt-get install abcmidi timidity"
      ],
      "execution_count": 3,
      "outputs": [
        {
          "output_type": "stream",
          "name": "stdout",
          "text": [
            "Collecting mitdeeplearning\n",
            "  Downloading mitdeeplearning-0.2.0.tar.gz (2.1 MB)\n",
            "\u001b[K     |████████████████████████████████| 2.1 MB 5.2 MB/s \n",
            "\u001b[?25hRequirement already satisfied: numpy in /usr/local/lib/python3.7/dist-packages (from mitdeeplearning) (1.19.5)\n",
            "Requirement already satisfied: regex in /usr/local/lib/python3.7/dist-packages (from mitdeeplearning) (2019.12.20)\n",
            "Requirement already satisfied: tqdm in /usr/local/lib/python3.7/dist-packages (from mitdeeplearning) (4.62.3)\n",
            "Requirement already satisfied: gym in /usr/local/lib/python3.7/dist-packages (from mitdeeplearning) (0.17.3)\n",
            "Requirement already satisfied: cloudpickle<1.7.0,>=1.2.0 in /usr/local/lib/python3.7/dist-packages (from gym->mitdeeplearning) (1.3.0)\n",
            "Requirement already satisfied: scipy in /usr/local/lib/python3.7/dist-packages (from gym->mitdeeplearning) (1.4.1)\n",
            "Requirement already satisfied: pyglet<=1.5.0,>=1.4.0 in /usr/local/lib/python3.7/dist-packages (from gym->mitdeeplearning) (1.5.0)\n",
            "Requirement already satisfied: future in /usr/local/lib/python3.7/dist-packages (from pyglet<=1.5.0,>=1.4.0->gym->mitdeeplearning) (0.16.0)\n",
            "Building wheels for collected packages: mitdeeplearning\n",
            "  Building wheel for mitdeeplearning (setup.py) ... \u001b[?25l\u001b[?25hdone\n",
            "  Created wheel for mitdeeplearning: filename=mitdeeplearning-0.2.0-py3-none-any.whl size=2115442 sha256=1ce20b93d79f00d7dfe27ca4a08fd086c14fe453154c289754264f02d7710d72\n",
            "  Stored in directory: /root/.cache/pip/wheels/9a/b9/4f/99b7c8c5c75355550b83e1fcfc02956fb40c35eb01e2262877\n",
            "Successfully built mitdeeplearning\n",
            "Installing collected packages: mitdeeplearning\n",
            "Successfully installed mitdeeplearning-0.2.0\n",
            "Reading package lists... Done\n",
            "Building dependency tree       \n",
            "Reading state information... Done\n",
            "The following additional packages will be installed:\n",
            "  freepats libaudio2 timidity-daemon\n",
            "Suggested packages:\n",
            "  abcm2ps postscript-viewer nas fluid-soundfont-gm fluid-soundfont-gs pmidi\n",
            "The following NEW packages will be installed:\n",
            "  abcmidi freepats libaudio2 timidity timidity-daemon\n",
            "0 upgraded, 5 newly installed, 0 to remove and 37 not upgraded.\n",
            "Need to get 29.9 MB of archives.\n",
            "After this operation, 36.6 MB of additional disk space will be used.\n",
            "Get:1 http://archive.ubuntu.com/ubuntu bionic/universe amd64 abcmidi amd64 20180222-1 [280 kB]\n",
            "Get:2 http://archive.ubuntu.com/ubuntu bionic/universe amd64 freepats all 20060219-1 [29.0 MB]\n",
            "Get:3 http://archive.ubuntu.com/ubuntu bionic/main amd64 libaudio2 amd64 1.9.4-6 [50.3 kB]\n",
            "Get:4 http://archive.ubuntu.com/ubuntu bionic/universe amd64 timidity amd64 2.13.2-41 [585 kB]\n",
            "Get:5 http://archive.ubuntu.com/ubuntu bionic/universe amd64 timidity-daemon all 2.13.2-41 [5,984 B]\n",
            "Fetched 29.9 MB in 2s (13.2 MB/s)\n",
            "Selecting previously unselected package abcmidi.\n",
            "(Reading database ... 155013 files and directories currently installed.)\n",
            "Preparing to unpack .../abcmidi_20180222-1_amd64.deb ...\n",
            "Unpacking abcmidi (20180222-1) ...\n",
            "Selecting previously unselected package freepats.\n",
            "Preparing to unpack .../freepats_20060219-1_all.deb ...\n",
            "Unpacking freepats (20060219-1) ...\n",
            "Selecting previously unselected package libaudio2:amd64.\n",
            "Preparing to unpack .../libaudio2_1.9.4-6_amd64.deb ...\n",
            "Unpacking libaudio2:amd64 (1.9.4-6) ...\n",
            "Selecting previously unselected package timidity.\n",
            "Preparing to unpack .../timidity_2.13.2-41_amd64.deb ...\n",
            "Unpacking timidity (2.13.2-41) ...\n",
            "Selecting previously unselected package timidity-daemon.\n",
            "Preparing to unpack .../timidity-daemon_2.13.2-41_all.deb ...\n",
            "Unpacking timidity-daemon (2.13.2-41) ...\n",
            "Setting up abcmidi (20180222-1) ...\n",
            "Setting up freepats (20060219-1) ...\n",
            "Setting up libaudio2:amd64 (1.9.4-6) ...\n",
            "Setting up timidity (2.13.2-41) ...\n",
            "Setting up timidity-daemon (2.13.2-41) ...\n",
            "Adding group timidity....done\n",
            "Adding system user timidity....done\n",
            "Adding user `timidity' to group `audio' ...\n",
            "Adding user timidity to group audio\n",
            "Done.\n",
            "invoke-rc.d: could not determine current runlevel\n",
            "invoke-rc.d: policy-rc.d denied execution of stop.\n",
            "invoke-rc.d: could not determine current runlevel\n",
            "invoke-rc.d: policy-rc.d denied execution of start.\n",
            "Processing triggers for man-db (2.8.3-2ubuntu0.1) ...\n",
            "Processing triggers for libc-bin (2.27-3ubuntu1.3) ...\n",
            "/sbin/ldconfig.real: /usr/local/lib/python3.7/dist-packages/ideep4py/lib/libmkldnn.so.0 is not a symbolic link\n",
            "\n",
            "Processing triggers for systemd (237-3ubuntu10.52) ...\n"
          ]
        }
      ]
    },
    {
      "cell_type": "markdown",
      "metadata": {
        "id": "TiHYn_hnUwMm"
      },
      "source": [
        "GPU Not Necessary, but strongly recommended. On one instance Training times observed were 8 minutes (GPU) v 7 hours (CPU)"
      ]
    },
    {
      "cell_type": "code",
      "metadata": {
        "id": "fB-IA1-nHQNE"
      },
      "source": [
        "assert len(tf.config.list_physical_devices('GPU'))>0 \n",
        "# Throws assertion error if no GPU"
      ],
      "execution_count": 4,
      "outputs": []
    },
    {
      "cell_type": "markdown",
      "metadata": {
        "id": "zzL7wgxbUYZQ"
      },
      "source": [
        "# Data Cleaning, Preparation and Checking"
      ]
    },
    {
      "cell_type": "code",
      "metadata": {
        "id": "Fx30hVNFzwAL"
      },
      "source": [
        "for i in range(1,2):\n",
        "  with open('./abcdownloads/tb%02d.abc' %(i), \"r+\", encoding = \"utf-8\") as file:\n",
        "\n",
        "      # Move the pointer (similar to a cursor in a text editor) to the end of the file\n",
        "      file.seek(0, os.SEEK_END)\n",
        "\n",
        "      # This code means the following code skips the very last character in the file -\n",
        "      # i.e. in the case the last line is null we delete the last line\n",
        "      # and the penultimate one\n",
        "      pos = file.tell() - 2 \n",
        "      if pos > 0:\n",
        "          file.seek(pos, os.SEEK_SET)\n",
        "          file.truncate()\n",
        "for i in range(2,22):\n",
        "  with open('./abcdownloads/tb%02d.abc' %(i), \"r+\", encoding = \"utf-8\") as file:\n",
        "\n",
        "      # Move the pointer (similar to a cursor in a text editor) to the end of the file\n",
        "      file.seek(0, os.SEEK_END)\n",
        "\n",
        "      # This code means the following code skips the very last character in the file -\n",
        "      # i.e. in the case the last line is null we delete the last line\n",
        "      # and the penultimate one\n",
        "      pos = file.tell() - 2 \n",
        "      if pos > 0:\n",
        "          file.seek(pos, os.SEEK_SET)\n",
        "          file.truncate()\n",
        "      file.seek(0, os.SEEK_END)\n",
        "      file.write('\\n')"
      ],
      "execution_count": 5,
      "outputs": []
    },
    {
      "cell_type": "code",
      "metadata": {
        "id": "MHAq5m1RBd71",
        "colab": {
          "base_uri": "https://localhost:8080/"
        },
        "outputId": "014755af-190b-4fc7-ef47-b1c539b0095e"
      },
      "source": [
        "a = ''\n",
        "for i in range(1,22):\n",
        "  print(i)\n",
        "  with open('./abcdownloads/tb%02d.abc' %(i), encoding='latin-1') as f:\n",
        "    a = a + f.read()\n",
        "a = a.split('\\n\\n')\n",
        "print(\"No. of songs:\", len(a))"
      ],
      "execution_count": 6,
      "outputs": [
        {
          "output_type": "stream",
          "name": "stdout",
          "text": [
            "1\n",
            "2\n",
            "3\n",
            "4\n",
            "5\n",
            "6\n",
            "7\n",
            "8\n",
            "9\n",
            "10\n",
            "11\n",
            "12\n",
            "13\n",
            "14\n",
            "15\n",
            "16\n",
            "17\n",
            "18\n",
            "19\n",
            "20\n",
            "21\n",
            "No. of songs: 1036\n"
          ]
        }
      ]
    },
    {
      "cell_type": "code",
      "metadata": {
        "colab": {
          "base_uri": "https://localhost:8080/"
        },
        "id": "sIKdnkF9Ct1u",
        "outputId": "59dd47e0-b521-4073-8453-04fc180ec980"
      },
      "source": [
        "a = '\\n\\n'.join(a)\n",
        "mdl.lab1.extract_song_snippet(a)"
      ],
      "execution_count": 10,
      "outputs": [
        {
          "output_type": "stream",
          "name": "stdout",
          "text": [
            "Found 1041 songs in text\n"
          ]
        },
        {
          "output_type": "execute_result",
          "data": {
            "text/plain": [
              "[\"X:001\\nT:The Duke of Buccleugh's Tune\\nB:Apollo's Banquet, 1990, via... \\nB:The Popular Songs and Melodies of Scotland\\nZ:Nigel Gatherer\\nM:2/4\\nL:1/8\\nK:G\\nG<EG<E|A>GAB|G<EG>A|B2 d z|\\nGE/F/ GE|A>GAB|G<EG>A|B2 d z|]\",\n",
              " \"X:002\\nT:I Fee'd a Lad at Michaelmas\\nT:O Can You Labour Lea\\nB:Johnson's Scots Musical Museum, via...\\nB:The Popular Songs and Melodies of Scotland\\nZ:Nigel Gatherer\\nM:2/4\\nL:1/8\\nK:G\\nG>GGB|A>GAB|G<GGB|e3 g|\\nG>GGB|A>GAB|G<EE>D|G3|]\",\n",
              " \"X:003\\nT:The Miller's Wedding\\nT:The Miller's Daughter\\nB:Cumming's Collection, 1780, via...\\nB:The Popular Songs and Melodies of Scotland\\nZ:Nigel Gatherer\\nM:2/4\\nL:1/8\\nK:G\\nD|G<GG>E|A>GAB|D<DE>D|G3 B|\\nG<GG>E|A>GAB|D<DE>D|G3 z|]\",\n",
              " \"X:004\\nT:John O'Groats Jig\\nB:Kohlers Violin repository - slightly adapted\\nC:John Bain, Wick\\nZ:Nigel Gatherer\\nM:6/8\\nL:1/8\\nO:Scottish\\nR:jig\\nK:Dm\\nA/G/|FGA DFA|dfd ecA|Agf edc|=Bed c=BA|\\nFGA DFA|dfd ecA|Bgf ed^c|dDD D2:|\\nA|dfa afd|gbg ecA|dfa afd|=Bed c=BA|\\ndfa afd|gbg ecA|Bgf ed^c|dDD D2:|\",\n",
              " 'X:005\\nT:Miss Wharton Duff\\nC:William Marshall\\nZ:Nigel Gatherer\\nM:4/4\\nL:1/8\\nR:march\\nK:Bb\\nB,|B2 c2 d/f/d/B/ A/c/A/F/|EgDf Ce/c/ d/B/A/F/|\\nB2 c2 d/f/d/B/ A/c/A/F/|EgBb d/B/c/A/ B:|\\nf/g/4a/4|bf e/d/c/B/ b/f/e/d/ e/d/c/B/|egGc e/c/d/B/ B/A/G/F/|\\nEgDf Ce/c/ d/B/A/F/|b/f/d/B/ e/c/d/B/ F/B/A/c/ B:|',\n",
              " 'X:006\\nT:The Five Stringed Fiddle\\nC:Nigel Gatherer\\nN:In honour of Dick Rutter, violin\\nN:maker, Edinburgh\\nM:3/4\\nL:1/8\\nK:D\\nA,2|D4 FG|A4 D2|B2 c2 d2|F A3 D2|G3 ABG|F4 D2|B, E3 D2|C2 A2 A,2|\\nD4 FG|A4 D2|B2 c2 d2|F A3 D2|G3 ABG|F3 EDF|E3 DCE|D4:|\\nAB/c/|d2 f3 d|c2 e3 c|B3 cdB|A F3 D2|G3 ABG|F4 D2|B,2 E3 d|C2 A3 G|\\nF2 d3 F|G2 e3 G|A3 ceg|f3 dAF|G3 Beg|f3 edc|e2 d3 d|d4:|',\n",
              " 'X:007\\nT:The Skye Gathering\\nB:\"Ceol Na Fidhle\" Vol.I (Skye 1985)\\nZ:Nigel Gatherer\\nM:2/4\\nL:1/16\\nK:D\\nA>d|f>ed>e f<aA>d|f>gf>e d4|e2 e>f g>ef>d|\\ne4 A2 d>e|f>ed>e f<aA>d|B<GB>d A2 g2|f2 f<a e>Ae<f|d4 d2:|\\nf>g|a>Aa>g f>ed>e|f>Ad>e f4|g>fe>g f>ed>f|\\ne4 A2 f>g|a>Aa>g f>ed>c|B<dB<d A2 g2|f2 f<a e>Ae<f|d4 d2:|',\n",
              " \"X:008\\nT:The Boy's Lament for his Dragon\\nT:The 72nd's Farewell to Aberdeen\\nB:The Jimmy Shand Bagpipe March Book\\nZ:Nigel Gatherer\\nL:1/8\\nM:2/4\\nK:D\\nf|Ad de/>f/|g/>f/e/>d/ f2|gB Bc/>d/|e/>f/e/>c/ A2|Ad de/>f/|\\ng/>f/e/>d/ f2|gB f/>e/d/>c/ d2 d::f/g/|aA A=c|BG A>B|\\nAd Ad|e/>d/c/>B/ Af/>g/|aA A=c|BG A>B|Ad f/>e/d/>c/ d2 d:|\",\n",
              " 'X:009\\nT:Dark Island\\nC:Ian Maclachlan\\nS:Various records\\nZ:Nigel Gatherer\\nM:3/4\\nL:1/8\\nK:Dmix\\nE|A3 E A2|G3 A G2|E3 D C2|D4 GA|\\nB3 A G2|B d3 D2|B3 d B2|A4 DE|\\nA3 E A2|G3 A G2|E3 D C2|D4 GA|\\nB3 DdB|A3 DBA|G6|G4|]\\nBc|d3 D D2|B3 A G2|E C3 E2|D4 GA|\\nB3 A G2|B d3 D2|B3 d B2|A4 DE|\\nA3 E A2|G3 A G2|E3 D C2|D4 GA|\\nB3 DdB|A3 DBA|G6|G4|]',\n",
              " \"X:010\\nT:Dudley Street\\nC:Dan R MacDonald\\nB:The Trip to Windsor Collection\\nM:6/8\\nL:1/8\\nK:E\\nF|EFE EGB|eba gfe|fdB Bdf|agf AGF|EFE EGB|eba gfe|\\nfdB agf|e3 e2::g|bge Beg|Bba gfe|fdB Bdf|agf AGF|1bge Beg|\\nBba gfe|fdB agf|e3 e2:|2EGB Ace|Bdf egb|eac' bd'f'|e'3 e'2|]\",\n",
              " \"X:011\\nT:Andy Dejarlis Jig\\nB:Jerry Holland's Collection\\nM:6/8\\nL:1/8\\nK:E\\nz|EGB EGB|EGB c2 B|EBG EBG|=DFA B2 A|EGB EGB|\\nEGB c2 a|g2 f Bcd|e3 e2::a|gbg efg|b2 a c3|\\nf2 g f2 e|dcB c2 B|gbg efg|b2 a c2 g|g2 f Bcd|e3 e2:|\",\n",
              " \"X:012\\nT:New Year's Day\\nS:Gow's Complete Repository, c.1810\\nN:Transposed from F; 1st bar\\nN:changed from d/e/fe to dfe\\nZ:Nigel Gatherer\\nM:6/8 jig\\nL:1/8\\nK:D\\nF|D>ED dfe|dDD D2 F|D>ED d>ef|eEE E2 F|DEF dcB|\\nA2 g f2 e|d>cB AFd|AFD D2::F/G/|A>BA FAF|ABA F2 G|\\nABc d>ef|eEE E2 F|A>BA FAF|A2 g f2 e|dcB AFd|AFD D2:|\",\n",
              " \"X:013\\nT:The Shakin's o' the Pocky\\nC:James Scott Skinner and Peter Milne\\nB:adapted from The Caledonian Companion\\nN:as played by Aly Bain\\nZ:Nigel Gatherer\\nM:4/4\\nL:1/8\\nK:Bb \\nB,>DF>G F<D B,>A|B>A G/A/B/c/ d4|e>cd>B c>A BG|F<D B>D C2 C>D|\\nB,>DF>G F<D B,>A|B>A G/A/B/c/ d4|e>cd>B c>AB>G|G/F/E/D/ F/E/D/C/ B,2 B|]\\na|b>f d<B g<e c>a|b>f e/d/c/B/ f3 g/a/|b>f d<B g<ec>B|A>B c<f B2 B>a|\\nb>f d<B g<e c>a|b>f e/d/c/B/ f2 f>e|d>Be>c d/c/B/A/ B>G|\\\\\\nG/F/E/D/ F/E/D/C/ B,2 B|]\",\n",
              " 'X:014\\nT:Silver Wings Polka\\nC:Adam Rennie?\\nS:78rpm record\\nZ:Nigel Gatherer\\nM:4/4\\nL:1/8\\nK:F\\nc|a/>a/a/>a/ fA ed c2|F/>F/E/>F/ Ac ed B2|\\\\\\ne/>e/e/>e/ dd ee f2|g/>f/e/>f/ g/>a/g/>f/ ecde|\\na/>a/a/>a/ fA ed c2|F/>F/E/>F/ Ac d3 f|\\\\\\ne/>g/d/>f/ ee  e/>g/d/>f/ ee|1 e/>c/=B/>c/ de fc f:|\\\\\\n[2 e/>c/=B/>c/ fc f4|]\\nc2- c/>d/=B/>d/ c2- c/>d/B/>d/|cdef fe e2|\\\\\\nB2- B/>A/G/>A/ B2- B/>A/G/>A/|Bcde eA A2|\\nc2- c/>d/=B/>d/ c2- c/>d/=B/>d/|cdef ag d2|\\\\\\ng/>f/d/>f/ ee G/>F/D/>F/ EE|e/>c/=B/>c/ de fc f2:|\\na/>f/e/>g/ ff a/>f/e/>g/ ff|a/>f/e/>f/ bg d4|\\\\\\ng/>f/e/>f/ ee g/>f/e/>f/ ee|e/>c/=B/>c/ dc Fcde| \\na/>f/e/>g/ ff a/>f/e/>g/ ff|a/>f/e/>f/ bg d4|\\\\\\ng/>f/e/>f/ ee g/>f/e/>f/ ee|e/>c/=B/>c/ cd fc f2:|',\n",
              " 'X:015\\nT:The Old Man\\nS:Straloch MS, 1627\\nZ:Nigel Gatherer\\nO:Scottish\\nL:1/8\\nM:2/4\\nK:G\\ng2 g2|fg a2|g2 gd|B2 d2::e2 dB|A2 A2|BG dB|G2D2:|',\n",
              " 'X:016\\nT:Long Er Onie Old Man\\nB:Skene MS (Lute tablature), c1640\\nO:Scottish\\nZ:Nigel Gatherer\\nL:1/8\\nM:2/4\\nK:G\\nga ge|=fg a^f|ga gd|B2 d2:|ed Bd|=f3 A|\\nGG d2|GG d2|ed Bd|=f3 a|GG dG|AB d|]',\n",
              " \"X:017\\nT:Edinburgh Jigg\\nS:Gatherer's Musical Museum\\nZ:Nigel Gatherer\\nM:6/8\\nL:1/8\\nK:G\\nB|D2E G2A|Bdg dBG|gag efg|dBG A2B|D2E G2A|\\nege dBG|g2e dBG|AGG G2::d|gfg b2g|fef a2f|e^de gdB|\\nBee e2f|gfe dcB|ABG FED|GBd gdc|BGG G2:|\",\n",
              " 'X:018\\nT:Flowers of Edinburgh\\nS:from the playing of Dave Swarbrick\\nZ:Nigel Gatherer\\nM:2/4\\nL:1/8\\nK:G\\nD|GG BG/B/|dB g>e|dB B/A/G/A/|BG ED|\\nGG BG/B/|dB g>e|dB B/A/G/A/|BG G:|\\nd|g2 f>e|Be e>f|g2 f/g/f/e/|Be eg/e/|\\nd/B/G/B/ dd|e/d/e/f/ gg/e/|dB B/A/G/A/|BG G:|',\n",
              " 'X:019\\nT:The Tailor Made\\nC:Nigel Gatherer\\nM:6/8\\nL:1/8\\nK:Bminor\\nB/c/|dcB f2 B|F2 B Bcd|efg fed|cBA edc|dcB f2 B|F2 B Bcd|\\nefg f2 e|dBB B2::f|b2 f gfe|d2 B Bcd|cBA eAA|fAA e2 a|\\nb2 f gfe|fdB Bcd|cBA f2 e|dBB B2 f|b2 f gfe|d2 B Bcd|\\ncBA eAA|fAA e2 c|dcB edc|fed cde|fed cBA|FBB B2:|',\n",
              " \"X:020\\nT:Dunnigall's Rant\\nS:Andrew Adam's Music Book (ms)\\nZ:Nigel Gatherer\\nM:6/4\\nL:1/8\\nK:D\\nA3 G F2 E2 C2 E2|D2 F2 A2 D4 F2|DEFDdA F4 B2|\\nABAG F2 E2 C2 E2|DEFD F2 EFGE G2|DEFD F2 EFGE G2|\\nd2 a2 a2 a4 f2|defgaf cdefge|defgab a4 f2|\\nagfgaf gfefge|agfgab agfgaf|gabagf g2 fedc|\\nd3 c B2 A2 G2 F2|G3 A G2 E2 C2 E2|D3 A F2 D3 d F2|\\nD3 A F2 E2 C2 E2|D3 A F2 d2 A2 B2|A3 G F2 E2 C2 E2|\\nd2 A2 D2 d2 A2 F2|d2 A2 E2 dcBA F2|dcBA D2 dcBA E2|\\ndcdcdc dcBAGF|E2 A2 A2 A4 G2|F2 A2 A2 C2 E2 E2|\\nD2 A2 A2 A4 G2|F3 G A2 E2 C2 E2|]\",\n",
              " \"X:021\\nT:Ane Irish Tune\\nS:Andrew Adam's Music Book (ms) 1710\\nZ:Nigel Gatherer\\nM:6/4\\nL:1/8\\nK:G\\nDE G2 G2 G4 G2|A3 BAG E4 D2|DE G2 G2 Bc d2 G2|A4 G2 G6|\\nc2 dcBA B2 cBAG|A3 BAG E4 D2|DE G2 G2 Bc d2 G2|A4 G2 G4 z2|]\\nf4 f2 f4 g2|e3 deg e2 d2 B2|d2 e2 g2 d4 BA|G4 G2 G2 E2 D2|\\nfefg f2 edef e2|dBde d2 G2 E2 D2|DE G2 G2 Bc d2 G2|A4 G2 G4 z2|]\",\n",
              " \"X:022\\nT:Gallways Lament\\nS:Andrew Adam's Music Book (ms) 1710\\nZ:Nigel Gatherer\\nM:3/4\\nL:1/8\\nK:Bb\\nd2|g2 g2 a2|g3 f d2|f2 gagf|f3 gaf|d2 g2 ga|g4 f2|d2 ca ca|G4|]\",\n",
              " 'X:023\\nT:Trip to Kilkenny\\nC:John McCusker\\nS:Travelling Folk, Radio Scotland\\nM:6/8\\nL:1/8\\nK:A\\ncB|ABA Aca|f2f fef|a2f ecA|fec Bcd|\\ncBA cee|f2f fef|a2f ecA|BcB A:|\\ncd|efe Ace|f>ff dfa|g>gg egb|agf ecd|\\nefe Ace|f>ff dfa|g>gg egb|aec Acd|\\nefe Ace|f2f dfa|g2g egb|agf ecB|',\n",
              " \"X:024\\nT:Charlie Hunter\\nC:Bobby MacLeod\\nS:Bobby MacLeod's Selection of Country Dance Tunes\\nM:6/8\\nL:1/8\\nK:D\\nA|DFA GBd|Adf a2g|fed Bcd|ecA GFE|\\nDFA GBd|Adf a2g|fef gec|1edd d2:|2edd d|]\\nfg|afd d2c|BGG G2F|E^GB e2d|cAA Aag|\\nfdA FDF|GBd g2g|fef gec|1edd d:|2edd d2|]\",\n",
              " 'X:025\\nT:Waverley Steps\\nC:R Black\\nS:Radio Scotland, Dec 1991\\nN:As played by the Iain MacPhail Band\\nZ:Nigel Gatherer\\nM:4/4\\nL:1/8\\nK:D\\n(3ABc|d2 de dcBA|B3 c BAGF|A3 B AGFA|G2 E2 E2 (3ABc|\\nd2 de dcBA|B3 c BAGF|A2 Bc d2 AG|F2 D2 D2:|\\nFE|D2 d2 d2 cB|c2 e2 e2 de|f2 d2 d2 f2|edcB AGFE|\\nD2 d2 d2 cB|c2 e2 e2 dc|BABc dBAG|F2 D2 DGFE|\\nD2 d2 d2 cB|c2 e2 e2 de|f2 d2 d2 f2|edcB AGFE|\\nDEFG A2 de|fedB A2 GF|EFGA Bcde|f2 d2 d2|]',\n",
              " 'X:026\\nT:The New Town of Edinburgh\\nC:Iain MacPhail (?)\\nS:Radio Scotland, Dec 1991\\nN:As played by the Iain MacPhail Band\\nZ:Nigel Gatherer\\nM:4/4\\nL:1/8\\nK:E\\nz2|e2 de ceBA|GABA GEBd|e2 de ceBe|AeGe F3 B|\\ne2 de ceBA|GABA GBGE|CEAc dBcd|eEED E2:|\\nB2|G2 =G^G FGEF|GEGB AGFE|A2 GA =GAF^G|AGAB cBce|\\nG2 =G^G FGEF|GEGB AGFE|CEAc dBcd|eEED E2:|',\n",
              " 'X:027\\nT:The Golden Pheasant\\nS:78rpm record (Adam Rennie & his Band)\\nZ:Nigel Gatherer\\nM:6/8\\nL:1/8\\nK:A\\nC/D/|E2A E2A|E2A c2A|E2A d2c|cBA B2E|E2A E2A|E2A c2d|\\ne2A F2A|ABG A2:|A|G2B B2e|A2c c2e|B2e e2g|fe^d e2B|\\nG2B B2e|A2c c2e|B2e c2a|gf^d e2=d|c2B A2d|c2B A2E|\\nF2A E2e|edc B2d|cdB A2d|cdB A2a|e2a fad|cdB A2|]',\n",
              " 'X:028\\nT:Sir Torquil Monroe\\nC:Adam Rennie (?)\\nS:78rpm record\\nZ:Nigel Gatherer\\nM:6/8\\nL:1/8\\nK:A\\nE|EAA A2B|cAA A2G|FBB BcA|GEE E2E|EAA A2B|cAA A2G|\\nFcB GFG|A3 A2:|d|cde ecA|dff f2A|GAB BGE|cee e2d|\\ncde ecA|dff f2A|GAB EFG|A3 A2d|cde ecA|dff f2A|\\nGAB BGE|cee e2e|efg agf|edc BAG|FGA BGE|A3 A2|]',\n",
              " 'X:029\\nT:Elizabeth Donald\\nC:Adam Rennie (?)\\nS:78rpm record\\nZ:Nigel Gatherer\\nM:6/8\\nL:1/8\\nK:A\\ne|c2A AGA|F2A E2A|F2A E2A|GAB B2e|c2A AGA|F2A E2f|\\ndBG EFG|A3 A2:|c/B/|A2c cBc|A2c E3|F2B BcB|G2B e3|\\nc2A AGA|F2A D2f|dBG EFG|A3 A2 c/B/|A2c cBc|A2c E3|\\nF2B BcB|G2B e3|AGA cBA|FDE F2f|dBG EFG|A3 A2|]',\n",
              " 'X:030\\nT:Mrs Grace Bowie\\nC:Adam Rennie (?)\\nS:78rpm record\\nZ:Nigel Gatherer\\nM:6/8\\nL:1/8\\nK:A\\nA2 c E2 c|A2 c E2 c|AGA cBA|G2 B F3|G2 B F2 A|G2 B F2 G|ABA G2 F|\\nECD EFG|A2 E c2 E|A2 E c2 E|AGA cBA|G2 B F3|G2 B F2 A|G2 B F2 A|\\nGFE c2 B|A3 A3::ECD E2 A|c2 c c3|c=c^c d2 c|B3 F2 A|1 G2 G F2 E|\\nG2 G G3|d2 d c2 B|AGF E3:|2 G2 B F2 A|GAB F2 f|gfe dcB|A3 A2|]',\n",
              " 'X:031\\nT:Inverary Castle\\nS:MS from 1850s\\nZ:Nigel Gatherer\\nM:4/4\\nL:1/8\\nK:Eminor\\nz|B,>E E2 B,>EG<E|B,<EE<F G<A B2|B,>E E2 B,>EG<E|D>B,G,>A, B,>DD>^C|\\nB,>E E2 B,>EG<E|B,<EE<F G<A B2|B,>E E2 B,>EG<E|D>B,G,>A, B,>D D|]\\nB/A/|G>AB<g e>BB>A|G>AB>d Be e2|G>AB<e d<eB<e|d>AF<D F<A A2|\\nG>A B/e/B B/g/B B/e/B|G>AB>e g/f/e/^d/ e>f|g>BA>G F>ED>C|\\\\\\nB,>G,D>G, B,>D D|]',\n",
              " '\\nX:032\\nT:Blodam Drain\\nT:The Flowers Of the Thorn\\nS:Dick Rutter, Edinburgh\\nZ:Nigel Gatherer\\nM:3/4\\nL:1/8\\nK:Am\\nE2|A4 B2|c2 B2 A2|e2 dcBA|B4 B2|A2 AcBd|c2 B2 A2|^G2 GBAc|B4:|\\nB2|c4 c2|d4 d2|e2 e2 f2|e4 d2|cBcd c2|dcde d2|efefef|g3 fed|\\ncBcdec|dcdefd|e2 e2 a2|^g4 a2|a2 e2 c2|f2 e2 d2|c2 dcBc|A4|]',\n",
              " 'X:032\\nT:Blodam Drain\\nT:The Flowers Of the Thorn\\nS:Dick Rutter, Edinburgh\\nZ:Nigel Gatherer\\nM:3/4\\nL:1/8\\nK:Am\\nE2|A4 B2|c2 B2 A2|e2 dcBA|B4 B2|A2 AcBd|c2 B2 A2|^G2 GBAc|B4:|\\nB2|c4 c2|d4 d2|e2 e2 f2|e4 d2|cBcd c2|dcde d2|efefef|g3 fed|\\ncBcdec|dcdefd|e2 e2 a2|^g4 a2|a2 e2 c2|f2 e2 d2|c2 dcBc|A4|]',\n",
              " \"X:033\\nT:The Battle of Sherrifmuir\\nT:Here's a Health To Them Far Awa'\\nD:Billy Jackson & John Martin: The Braes of Lochiel\\nZ:Nigel Gatherer\\nM:6/8\\nL:1/8\\nK:A\\nE|A>GF FEF|A3 A2B|c>BA dcd|e3 e2a|c'ba agf|e>dc def|\\nedc BAB|A3 A2::c|edc BAB|A3 A2c|edc def|e3 e2a|\\nc'ba agf|e>dc def|edc BAB|A3 A2::e|a>ec a>ec|e3 efg|\\nagf edc|B3 B2a|c'ba agf|e>dc def|edc BAB|A3 A2:|\",\n",
              " \"X:034\\nT:The Dram Shell\\nT:Am Botal dubh 's an t-slige chreachann\\nB:Simon Fraser Collection, 1874 edition\\nZ:Nigel Gatherer\\nM:4/4\\nL:1/8\\nK:F# minor\\nC|F3a fecA|ce^dc BAGE|F3a fecf|ecBG AFF:|\\ng|afcf cfaf|gebe gbeg|afcf cfaf|ecBG AFFg|\\nafcf cfaf|gebe gbeg|agfg efcf|ecBG AFF|]\",\n",
              " 'X:035\\nT:The Thornton Jig\\nC:Donald Cameron\\nD:Smalltalk (Greentrax 1994)\\nZ:Nigel Gatherer\\nM:6/8\\nL:1/8\\nK:G\\nA2G|:F2D DED|G2A BAG|F2D DED|E2c cGE|F2D DED|\\nG2A BAF|GBG FdF|E2c cGE::F2A ABA|ABc dAG|\\nF2A ABc|E2c cGE|F2A ABA|ABc dAF|GBG FdF|E2c cGE:|',\n",
              " 'To: IrTrad Posting <IRTRAD-L@LISTSERV.HEANET.IE>\\nSubject: Re: Bernard Flaherty\\'s \"Trip to Sligo\"\\nDate: Thu, 15 Apr 1999 14:20:00\\nSource: mail.irtrad-l@listserv.heanet.ie',\n",
              " \"X:036\\nT:The Boys of Mallin\\nD:Buttons and Bows: 'Grace Notes' 1991\\nZ:Nigel Gatherer\\nM:4/4\\nL:1/8\\nK:Bm\\nBfdf Bfdf|Bfdf e2 dc|Bfdf Bfdf|ecAc ecdc:|\\nBcde f2df|g2eg fedc|Bcde f2df|ecAc ecdc|\\nBcde f2df|g2eg fedc|Bcde f2df|ecAc efga||\\nbB B/B/B fBdF|b2ba fefa|bB B/B/B fBdf|ecAc efga|\\nbB B/B/B fBdF|b2ba fefa|bgaf gefd|ecAc e2dc|]\",\n",
              " 'X:037\\nT:Oot Pik Waltz\\nT:Ook Pick Waltz\\nT:Uke Pick\\nT:Eskimo Waltz\\nC:Frank Rogers\\nM:3/4\\nL:1/4\\nK:G\\n(3D/E/F/|G> F G/B/|A G E/D/|E G> A| G B d|e>d e/f/|e d B/G/|B d>e| \\nd2 B/d/|e>d e/g/|e d B/A/|B d B/A/|G E D|C> B, C/E/|D F E/D/|E G> A| \\nG B d|e B> A|B2 e|d B> A|B2 B|A> G A/B/|A G E/D/|E G A|G B d|e B> A|\\nB2 f/e/|d B>G|B2 B|A> G A/B/|A G E/D/|E G E|D2|]',\n",
              " 'X:038\\nT:Fang the Fiddlers\\nC:J R Findlater\\nS:Manuscript collection\\nZ:Nigel Gatherer\\nL:1/8\\nM:C|\\nR:Reel\\nK:Aminor\\nz|A/A/A eA cAAc|B/B/B gd BGGB|A/A/A eA cAAc|dGdB A2 a:|\\nc|Aaag aeea|gage dBGB|Aaag aeea|gegB A2 a:|',\n",
              " \"X:039\\nT:The Princes Royal\\nT:The Princess Royal\\nB:Gow's 2nd Repository, early 1800s\\nN:transposed from Gm\\nM:4/4\\nL:1/8\\nK:Dm\\nDE|F2 EF D2 AG|FGEF D3 A|B3 A G2 cB|ABGA F4|\\nF2 dF E2 cE|DEFD A,2 AG|FEFD A,D^CE|D2 D2 D2:|\\nA2|d^cde d^cde|f2 F2 F2 de|fedc BAGF|EFGE C4|\\nF2 EF G2 FG|A2 A2 d4|c2 F2 B4|A2 D2 G4|\\nFGFE DEFD|^CDEC A,2 AG|FEFD A,D^CE|D2 D2 D2:|\",\n",
              " 'X:040\\nT:Lament for the Death of the Rev. Archie Beaton\\nC:John Mason\\nS:loose sheet from fiddle club\\nM:4/4\\nL:1/8\\nK:G\\nBc|d3d dcBA|G2 B2 D3 G|E2 GE D2 B,2|A6 Bc|\\nd3d dcBA|G2 B2 D3 G|E2 cA F3 D|G6:|\\nB,A,|G,3 B, D3 D|B3 A G3 E|D2 GE D2 B,2|A,6 B,A,|\\nG,3 B, D3 D|B3 A G3 E|D2 GB, A,3 B,|G,6 B,A,|\\nG,B,DG Bdga|b3 a g3 e|d2 ga d3 B|a6 Bc|\\nd3d dcBA|G2 B2 D3 G|E2 cA FdCA,|G6|]',\n",
              " 'X:041\\nT:American Hornpipe\\nD:First of May by James Bryan\\nZ:Nigel Gatherer\\nM:4/4\\nL:1/8\\nK:D\\nFG|ABAG F2AF|G2Bc dAFD|GABA GFED|CDEF E2FG|ABAG F2AF|G2Bc dAFA|\\ndfeg (3fgf ec|dz dc d2::(3ABc|d2 d2 fedf|edef dAFA|dcde fgaf|\\nedef e2 (3ABc|dcde (3fgf df|edef dAFA|(3B=CB GB Age^c|d2 d2 d2:|',\n",
              " 'X:042\\nT:Marchmont House\\nB:The Gow Collection (New York, 1986)\\nN:1st note in bar 4 changed from \"d\".\\nN:Orig. publ. in Bremner\\'s Coll (1751-61)\\nZ:Nigel Gatherer\\nM:6/8\\nL:1/8\\nK:D\\nA|F/G/AF D2A|d>ed dAG|F/G/AF D2f|eEE E2G|\\nF/G/AF D2A|d>ed dAG|FdF Edc|dAF D2::g|f/g/af d2f|\\naba afd|f/g/af d>ef|eEE E2g|f/g/af dfa|bag fed|\\nB/c/dB AFd|AFD D2::A|FAd FAd|dAF dAF|FAd d>ef|\\neEE E2g|FAd FAd|fed cBA|B/c/dB AFd|AFD D2::f|\\ndfa dfa|afd afd|dfadef|eEE E2f|\\ndfa dfa|bag fed|B/c/dB AFB|AFD D2:|',\n",
              " \"X:043\\nT:Charlie Gore's Birthday\\nC:John Turner\\nB:John Turners Melodies (W Virginia 1984)\\nZ:Nigel Gatherer\\nN:\\nM:6/8\\nL:1/8\\nK:D\\nf/g/|a>gf g>fe|d2f A2d|B>AG A>FD|E2C A,2G|\\nA>FA d>cd|B>dg b2^g|a>=gf gfe|dAF D2:|\\nA|d>Ad eA=c|B2A G2B|e>^de f>ed|c>AE A,2G|\\nFAF D>EF|G>Bd g2 f/e/|dcA GEz|D3 D2:|\",\n",
              " 'X:044\\nT:Elsie Marley\\nB:Robin Williamson, \"Fiddle Tunes\" (New York 1976)\\nN:\"printed by Robert Petrie in 1796 and is\\nN:\"described by him as a \\'bumpkin\\'.\"\\nZ:Nigel Gatherer\\nM:6/8\\nL:1/8\\nK:G\\nBAB G2G|G2g gdc|BAB G2G|=F2f fcA|\\nBAB G2G|G2g gdB|c2a B2g|A2=f fcA:|',\n",
              " 'X:045\\nT:McKenzie Hay\\nC:James Scott Skinner\\nZ:Nigel Gatherer\\nM:4/4\\nL:1/8\\nK:D\\nG|F<DF>A d2 d>f|e>cd>b c<aa>=c|B<Gd>B A2 F>D|\\nE>A^G>B (3ABA (3=GFE|F<DF>A d2 d>f|e>cd>b c<aa>=c|\\n(3BGB (3dcB (3Afe (3dcB|(3ABA (3GFE F<D D||\\ng|f<dg>e a2 f>d|e>cd>B c<AA>g|fdge afbg|a>fg>f f<dd>e|\\nf<dg>e a2 f>d|e>cd>B c<AA=c|(3BGB (3dcB (3Aag (3fed|\\n(3cBA (3GFE f<D D|]',\n",
              " 'X:046\\nT:The Spey In Spate\\nC:James Scott Skinner\\nZ:Nigel Gatherer\\nM:4/4\\nL:1/8\\nK:D\\nD2 FD A,DFA|dcBA ^GAFD|E2 GE B,EGB|gecA GECA,|\\nD2 FD A,DFA|dDcD BDAf|gefd ecdB|AFGE DABc||\\nd/d/d fd AdFA|DFAd fagf|e/e/e ge BeGB|CEAc egfe|\\nd/d/d fd AdFA|DFAd fagf|gefd ecdB|AFGE D4|]',\n",
              " 'X:047\\nT:Highland Fling\\nD:Peter Wyper 78rpm (Columbia Double Face D202)\\nZ:Nigel Gatherer\\nM:4/4\\nL:1/8\\nK:D\\nF|:D2 F<D G<E A2|D/D/D F<D G2 E<=C|D2 F<D G<E A2|\\\\\\n(3GFE d>B A2 G<E:|\\nd>B (3cBA B<^G A2|d>B (3cBA B<^G A2|d>B (3cBA B<^G A<F|\\\\\\nG<ED>B A2 G<E:|',\n",
              " 'X:048\\nT:Irish Jig\\nD:Peter Wyper 78rpm \\nZ:Nigel Gatherer\\nM:6/8\\nL:1/8\\nK:D\\nB|ADD FED|ADD D2B|ADD FED|CEE E2B|ADD FED|\\nFGA BAG|FAA ABc|dDD D2::A|dcB AGF|GFE D2A,-|A,DD EDE|\\nFBB B2c|dcB AGF|GFE D2A,-|A,DD EDE|FDD D2:|',\n",
              " \"X:049\\nT:Irish Jig\\nT:Connachtman's Rambles\\nD:Peter Wyper 78rpm \\nZ:Nigel Gatherer\\nM:6/8\\nL:1/8\\nK:D\\nA|FAA dAA|BAB dAA|FAA Afe|dBB BAG|FAA dAA|\\nBAB def|gfe f2e|dBB B2::A|Bbb faa|fbb afe|\\nfbb faa|fef A2e|fbb faa|fbb afe|fef agf|edc B2:|\",\n",
              " \"X:050\\nT:Irish Jig\\nD:Peter Wyper 78rpm \\nZ:Nigel Gatherer\\nM:6/8\\nL:1/8\\nK:D\\nA|DFF DFF|EGG EGG|FAA dcd|fee ecA|DFF DFF|EGG EGG|\\nFAd cBc|1edd d2:|2edd dcd||f3 d3|eee e3|g3 c3|ddd d3|\\nf3 d3|eee e3|g3 c3|ddd dcB|A3 F2G|A3 F2G|\\nAFA dAd|fed cBA|G3 E2F|GAG E2F|GBA AFE|DDD D2|]\\nX:051\\nT:Miss Campbell of Saddell's\\nC: Robert Mackintosh\\nB:RSCDS Coronation Book\\nZ:Nigel Gatherer\\nM:4/4\\nL:1/8\\nK:Bb\\nd/c/|B>dd>c BA B2|Ge/d/ c>B A<FF>c|d>ed>c B>AB>F|G>EC>F D<B, B,:|\\nB/c/|D>Bg>e cd/e/ f>d|B>G e/d/c/B/ A<FF>B|G>Ec>E FG/A/ B>D|\\\\\\nEF/G/ F>E DB, B,B/c/|\\nd<Bg>e c<Af>d|B<Gc>B A<FF>B|G<Eg>e f>AB>F|G>EC>F D<B, B,|]\",\n",
              " \"X:052\\nT:The Bonnie Banks of Loch Lomond\\nB:Allan's Violin Gems\\nZ:Nigel Gatherer\\nM:4/4\\nL:1/8\\nK:G\\nD2|G2 GA B2 AG|A2 AG E2 D2|G2 G2 G2 Bd|e4 d2 d2|e2 ed B2 Bd|\\ncBAG E2 DE|G2 Bd e2 dB|A4 g2 D2|G2 GA B2 AG|ABAG E2 DE|\\nG2 G2 G2 Bd|e4 d2 d2|e2 ge d2 Bd|cBAG E2 DE|GGBd e2 dB|A4 G2|]\",\n",
              " 'X:053\\nT:Ragtime Annie\\nZ:Nigel Gatherer\\nM:4/4\\nL:1/8\\nK:D\\nFE|DFBF AFBF|DFBF A2 FE|DEFG ABAF|A2 c2 c2 CB|\\nABcA B2cB|ABcA BAcB|ABcd egfe|d2 dc d2:|\\nfg|a2 ab afd2|A6 fg|a2 ab agf2|g6 ef|\\ngfef gfef|gagf e2 ef|gagf edcB|A6 fg|\\na2 ab afdB|A2 AB A2 AA|d4 =c4|B6 A2|B2 b2 b2 ag|\\nf2 a2 a2 gf|A2 ef gfec|d2 =c2 B2||\\nK:G\\nA2|G6 AB|c6 cB|\\nA2 f2 f2 ef|gfga gedc|D2 B2 B2 AB|E2 c2 c2 cB|A2 f2 f2 ef|\\ngfga g2:|',\n",
              " 'X:054\\nT:The Flowers of Edinburgh\\nZ:Nigel Gatherer\\nM:4/4\\nL:1/8\\nK:G\\nGE|D2DE G2GA|BGBd cBAG|FGFE DEFG|AFdF E2GE|\\nD2DE G2GA|BGBd efge|dcBA GFGA|B2 G2 G2:|\\nd2|g2g2 gbag|f2f2 fagf|edef gfed|B2e2 e2ge|\\ndBGB d2 d2|edef g2fe|dcBA GFGA|B2 G2 G2:|',\n",
              " 'X:055\\nT:The Flowers of Edinburgh, variation\\nB:Flowers of Scottish Melody, 1935\\nZ:Nigel Gatherer\\nM:4/4\\nL:1/8\\nK:G\\nGE|DCB,A, G,B,DG|BGdB cBAG|FGAF DEFG|AFdF EFGE|\\nDB,DE GFGA|BGdB eCge|dcBA GFGA|B2 G2 G2:|\\n(3def|gGBd gbag|fFAd fagf|egfa gfed|Becd efge|\\ndBGB dgfg|ecef agfe|dcBA GFGA|BGDB, G,2:|',\n",
              " 'X:056\\nT:Needlecase\\nZ:Nigel Gatherer\\nM:2/4\\nL:1/8\\nK:D\\nag f/e/d|Bg Bg|ag f/e/d|B/A/B/c/ d2|ag f/e/d|Bg Bg|\\nAc e/c/B/A/|Bc d2::DF Ad|BB/A/ Bd|DF Ad|\\nB/A/B/c/ d2|DF Ad|BB/A/ Bd|Ac e/c/B/A/|Bc d2:|',\n",
              " \"X:057\\nT:Denis Murphy's Polka\\nZ:Nigel Gatherer\\nM:2/4\\nL:1/8\\nK:D\\nf/g/f/e/ D>B|AD FA|GE e>d|cB BA|f/g/f/e/ D>B|AD FA|\\nGE e>f|ed D2::Af f/e/f|Ag g/f/g|Af fd|\\ne/f/e/d/ BA|Af f/e/f|Ag gf/g/|ba ec|ed d2:|\",\n",
              " 'X:058\\nT:Mormond Braes\\nZ:Nigel Gatherer\\nM:2/4\\nL:1/8\\nK:C\\nC|EE E>D|EC C>G|cc cG|A2 G>G|\\ncc ce|GG EG/G/|AG cE|D2 C|]\\nC|EE E>D|EC C>G|cc cG|A2 G z|\\ncc c>e|GG EG/G/|AG cE|D2 C|]',\n",
              " 'X:059\\nT:I Loved a Lass\\nZ:Nigel Gatherer\\nM:3/4\\nL:1/4\\nK:F\\nC|FFC|F2 C/C/|FGA|B2A/B/|\\ncAG|F/ C-C/D|_EDE|C2c|\\ncdc|BAG|F-F/ G/ A|C2 c/d/|\\n_EDC|B,A,B,|C/F/-F2|]',\n",
              " 'X:060\\nT:Calum Breugach\\nT:Callam Brougach\\nB:The Beauties of Niel Gow, Pt.2\\nZ:Nigel Gatherer\\nM:4/4\\nL:1/8\\nK:Am\\nA|G<EEG D>EG>B|A<Ae>A c>Ae>A|G<EEG D>EG>B|c>Ac>G A<A e2|\\nG<E EG D>EG>B|A<A e>A c>Ae>A|G<E EG D>EG>B|c>AB>G A/A/A e||\\n^f|gg a/g/^f/e/ d/c/B/A/ G>B|A/B/c/d/ e>A cB/A/ e^f|\\\\\\ngg a/g/^f/e/ d/c/B/A/ G>B|c>AB>G A/A/A a2|\\ng<be<g d<gB<G|G<gA<a B<b A>B|G<E EG D>EG>B|c>AB>G A/A/A e||\\n^f|g<ee>g d>eg>a|ba ag/a/ baa>b|g<ee>g d>eg>a|ba ag a2-a b|\\ng<ee>g d>eg>a|ba ag/a/ baa>b|g<ee>g d>eg>a|baag a2 e||\\n^f|gg a/g/^f/e/ d/c/B/A/ G>B|A/B/c/d/ e>A cB/A/ e^f|\\\\\\ngg a/g/^f/e/ d/c/B/A/ G>B|c>AB>G A/A/A a2|\\ng<be<g d<gB<G|G<gA<a B<b A>B|G<E EG D>EG>B|c>AB>G A<A e||',\n",
              " 'X:061\\nT:Seneca Square Dance\\nT:Waiting for the Federals\\nZ:Nigel Gatherer\\nM:2/4\\nL:1/8\\nK:G\\nB2 BA/B/|dB B/A/G|B2 d>B|A/B/A/G/ ED|B2 BA/B/|dB B/A/G|\\nA/B/A/G/ EF|G2 G2::g2 g>e|d B2 B/d/|g2 g/f/g/a/|\\nb/ee/ ef|g/a/b/a/ g>e|d/g/e/d/ B/A/G|A/B/A/G/ EF|G2 G2:|',\n",
              " \"X:062\\nT:Miss Baird of Saughtonhall's Hornpipe\\nC:Nathaniel Gow\\nB:The Beauties of Niel Gow, Pt.2\\nZ:Nigel Gatherer\\nM:3/2\\nL:1/8\\nK:A\\nE2 A2 c2 A2 G2 A2|E2 A2 c2 A2 e4|f3 g a2 A2 G2 B2|F2 B2 AGFE A4:|\\nA2 C2 A2 C2 D2 C2|A2 C2 E2 C2 A4|f3 g a2 A2 G2 B2|F2 B2 AGFE A4|\\nA2 C2 A2 C2 D2 C2|A2 C2 E2 C2 A4|fgae dcBA G2 B2|F2 B2 AGFE A4|]\",\n",
              " \"X:063\\nT:Petronella\\nB:The Scottish Country Dance Book, Book 1\\nZ:Nigel Gatherer\\nM:2/4\\nL:1/8\\nK:F\\nf/c/|Ac/A/ Gc/A/|FFF A/c/|fe/f/ gf|eg/e/ cf/c/|Ac/A/ Gc/A/|\\nFFF A/c/|fe/f/ ge|f2 f::f/c/|Aa/f/ cc'/a/|bb/a/ g/f/e/d/|\\ncg/e/ cb/g/|aa/f/ c/f/c/A/|Fa/f/ cc'/a/|bb/a/ g/f/e/d/|\\\\\\ncg/e/ c/b/g/e/|f2 f:|\",\n",
              " \"X:064\\nT:Campbell's Farewell to Redcastle\\nT:Campbell's Farewell to Red Gap\\nS:Various books & records\\nZ:Nigel Gatherer\\nM:2/4\\nL:1/8\\nK:A\\nE|AA/B/ cc/d/|ea e>d|cA AB/c/|dd/B/ =GE|\\nAA/B/ cc/d/|ea e>d|cB/A/ =G/A/B/G/|A2 A:|\\n=g/f/|ea a=g/f/|ea e>d|cA AB/c/|dd/B/ =Gg/f/|\\nea a=g/f/|ea e>d|cB/A/ =G/A/B/G/|A2 A=g/f/|\\nea a=g/f/|ea e>d|cA AB/c/|dd/B/ =GE|\\nA/B/c/d/ c/d/e/f/|e/f/g/a/ e>d|\\\\\\ncB/A/ =G/A/B/G/|A2 A|]\",\n",
              " \"X:065\\nT:Calum's Road\\nS:Various sessions\\nZ:Nigel Gatherer\\nM:4/4\\nL:1/8\\nK:D\\nz2|D2 A>f A4|B<dd>c B>AF>A|B2 d>D F2 E>D|B,<DD>F E4|\\nD2 A>f A4|B<dd>c B>AF>A|B2 d>D F2 E>D|B,<DD>E D2:|\\nF>A|B2 d>c B4|A>BA<E F4|B2 d>c B2 A>B|d2 d>e (3fed (3dBA|\\nB2 d>c B4|A>BA<E F2 E>D|B2 d>D F2 E>D|B,<DD>E D2:|\",\n",
              " \"X:066\\nT:Sgian Dubh\\nT:Sghean Dhu\\nS:Kerr's Merry Melodies Bk.2\\nZ:Nigel Gatherer\\nM:6/8\\nL:1/8\\nK:D\\nD/C/|B,2B B2F|AFA ECA,|B,2B B2F|Bcd c2B|B,2B B2F|AFA ECA,|\\nD3 E3|FDB, B,2:||e|f2B Bcd|cBA ecA|f2B Bcd|fge fdB|\\nf2B Bcd|cBA ecA|def edc|fdB B2e|f2B Bcd|cBA ecA|\\nf2B Bcd|fge fdB|faf eae|cea ecA|DEF EFG|FDB, B,2|]\",\n",
              " \"X:067\\nT:Of A' the Airts the Wind Can Blaw\\nT:Miss Admiral Gordon's Strathspey\\nN:adapted to 2/4 time for comparison\\nZ:Nigel Gatherer\\nM:2/4\\nL:1/8\\nK:G\\nD|G>G G>G|G>D Ge|d>B AG|E3 D/E/|\\nG>G G>G|G>D Ge|d>e gB|d3 e|\\nd>e gB|d>B AG|A/AB/ c/B/A/G/|E3 D/E/|\\nG>GG>G|G>D Ge|d<B A>B|G3 |]\\nD/C/|B,>D G>D|E>D GA|Bd c/B/A/G/|E3 D/C/|\\nB,>D G>D|E>D GA|B>c d/e/f/g/|d3 e/f/|\\ng>f ed|e>d cB|A>B c/B/A/G/|E3 D/E/|\\nG>GG>G|G>D Ge|d<B A>B|G3 |]\",\n",
              " \"X:068\\nT:Lady Elizabeth Lindsay\\nC:Nathaniel Gow\\nS:Kerr's Merry Melodies, Bk.2\\nZ:Nigel Gatherer\\nM:4/4\\nL:1/8\\nK:Bb\\ng|f<Bd>c B<GG>B|F>BD>B F<DD>g|f<Bd>c B<GG>B|F>BD>d c3:|\\ng|f<dd>e f<dd>g|f<dd>e f>gd>b|f<dd>e f>gd>b|f<dd>B c3g|\\nf<dd>e f<dd>g|f<dd>e f>gd>b|g>bf>g d>fc>f|G>BF>D C3|]\",\n",
              " \"X:069\\nT:Findlater's Highland Fling\\nC:J R Findlater\\nS:MS Collection, Athole Collection, Perth Library\\nZ:Nigel Gatherer\\nM:4/4\\nL:1/8\\nK:Bb\\nf|d<B B/B/B F<BD<B|d<BB<c (3dgf (3edc|e<c c/c/c G<cE<c|\\\\\\ne<cc<d (3egf (3edc|\\nb<BF<B D<BB,<B|d<BB<c (3dgf (3edc|e<ge<c d<fd<B|G<ccd (3egf (3edc|]\\nd/c/B f>B b>Bd>B|d/c/B F>B (3dgf (3edc|e/d/c g>c b>ce>c|\\\\\\ne/d/c G>c (3egf (3edc|\\nd/c/B F>B D>B B,>B|d/c/B f>B (3dgf (3edc|e<ge<c d<fd<B|\\\\\\nG<c F>A B2 B|]\",\n",
              " 'X:070\\nT:The Marquis\\nC:J R Findlater\\nS:MS Collection, Athole Collection, Perth Library\\nZ:Nigel Gatherer\\nN:\"Slowish time\"\\nM:4/4\\nL:1/8\\nK:Bb\\nd/e/|f>g f/g/a/b/ f<dd<b|b>gf<d g<c c/d/e|\\\\\\nf>g f/g/a/b/ f<db<d|b>gf<d B2 b:|\\nc|d<fe>c d<BB<d|e<gc>B A/B/c/A/ Fd/e/|\\\\\\nd<ff<d e<gab|g>ec<A B2 b:|',\n",
              " 'X:071\\nT:Robert Cormack, Aberdeen\\nC:James Henry (1860-1914)\\nS:The Flowers of Scottish Melody (1935)\\nN:\"Sweetly\"; B part \"Faster\"\\nZ:Nigel Gatherer\\nM:4/4\\nL:1/8\\nK:F\\nC|F>CA>F D>B,G,>G|E/F/G/A/ B/c/d/e/ {e}f2-fA/c/|\\\\\\nd>B D/F/B/d/ c>A C/F/A/c/|{c}B>D{A}G>F E/F/{A}G/F/ E/d/c/E/|\\n[A,F]>CA>F D>B,G,>G|E/F/G/A/ B/c/d/e/ f2-fA/c/|\\\\\\n(3dfe {a}(3g>fd (3cfe {g}(3f>cA|(3GDF (3Edc {A,}[A,2F2] [A,F]|]\\nc|f>c f/a/c/f/ A/F/A/c/ f>A|B/A/B/c/ d/c/B/A/ G/F/E/D/ C>c|\\\\\\nf>c f/a/c/f/ A/F/A/c/ f>A|B/d/g/f/ e/c/d/e/ {e}f2 fc|\\nf>c f/a/c/f/ A/F/A/c/ f>A|B/A/B/c/ d/c/B/A/ G/^F/G/A/ B/c/d/e/|\\\\\\nf/e/f/g/ a/b/c\\'/d\\'/ c\\'/a/f/c/ A/F/C/A,/|A/c/f/a/ g/d\\'/c\\'/e\\'/ f\\'2 f|]',\n",
              " 'X:072\\nT:Da Full Rigged Ship\\nS:Sessions etc\\nZ:Nigel Gatherer\\nM:6/8\\nL:1/8\\nK:Am\\ne2a aea|aea aba|e2^f g2g|gag ^f2d|\\ne2a aea|aea aba|g2e edB|A3 E3::efe edB|\\nA2B c3|B2G B2G|Bcd E3|efe edB|A2B c2d|\\nefe dBG|A3 A3::EGE EGE|EGE c3|\\nEGE E2D|E2FGEC|EGE EGE|EGEc2d|efe dBG|A3 A3:|',\n",
              " 'X:073\\nT:The Bear With a Sore Head\\nC:Nigel Gatherer\\nN:for Bracha\\nM:6/8\\nL:1/8\\nK:Em\\nE>EE G2 B|AFD AFD|E>EE G2 B|e2 f edB|d2 e dBG|E>EE G2 B|A>FD E3:|\\ne>ee gee|bee gee|f>dd AdA|FAF DEF|e>ee gee|bee gee|fdB AFA|BGE E3|\\ne>ee gee|bee gee|f>dd AdA|FAF DEF|G>BB F>AA|E2 e g>fe|fdB AFA|BGE E3|]',\n",
              " 'X:074\\nT:Cherokee Shuffle\\nS:An amalgam\\nM:4/4\\nL:1/8\\nK:D\\nA,2 B,2 C2|D2 DF EDB,A,|DEDB, A,2 A,B,|D2 DE F2 A2|B2 BB B2 Bc|\\nd2 d2 d2 B2|ABAG FEDE|FEDE F2 A2|B2 BB B2 dB|ABAG F2 E2|D2:|\\nd2 c2 =c2|BABc d2 B2|ABAG F2 dc|BABc d2 e2|f2 ff f2 dc|BABc d2 B2|\\nABAG FEDE|FEDE F2 A2|B2 BB B2 dB|ABAG F2 E2|D2:|',\n",
              " \"X:075\\nT:Eleanor Plunkett\\nC:Turlough O'Carolan\\nS:Various recordings\\nM:3/4\\nL:1/4\\nK:G\\nG/A/|B B A/G/|G G a/g/|e e e/d/|B B A/G/|\\\\\\nE A A/B/|A2:|g/a/|b a/g/e/d/|e2 e/f/|\\ng g b|a b/a/g/f/|g a/g/f/e/|d B d|\\\\\\ne g G|B B A/G/|E A A/B/|A2:|\",\n",
              " 'X:076\\nT:Littlehohone (?)\\nS:Midi file off website\\nM:4/4\\nL:1/8\\nK:Dm\\n(3DFA|B2 cB BABA|G^FGA BA z2|DEFD A<GF>E|(3DFA D>^c d2 (3DFA|\\nB2 cB BABA|G^FGA BA z2|DEFD A<GF>E|(3DFA D>^c d2||\\nA2|A=B^cA d2 de|dcBA BA z2|dcBA BAG^F|G2 F>E D2 (3DFA|\\nB2 cB BABA|G^FGA BA z2|DEFD A<GF>E|(3DFA D>^c d2||',\n",
              " 'X:077\\nT:Scarfuin (?)\\nS:Midi file off website\\nN:Simplified (inadequate ABC skills)\\nM:3/4\\nL:1/8\\nK:Em\\nB4 d2|e2   ef g2|g2  f2   ed  | ef g2 f2|\\ne2  d<B de|e2 d<B  de|e2  d<B (3def| e4    de|\\nB2 d>e d<A|B2 d>e d<A|B<B (3def  e2|d<B-B2 EF|\\nG>F GA B^c|d2  d2  BA|G<F E<D    E2| F2 E2 E2|]',\n",
              " 'X:078\\nT:Tom and Jerry\\nB:Ryan\\'s Mammoth Collection (facsimile 1995)\\nN:labelled \"Scotch\" in the book\\nM:4/4\\nL:1/8\\nK:D\\nA2|d2 fd efge|d2 fd efge|dfad\\' c\\'bag|fgab agfe|\\nd2 fd efge|d2 fd efge|dfad\\' c\\'bag|fgef d2:|\\nAG|FAdA FAdA|GBdB GBdB|ABcd efge|fgef dcBA|\\nFAdA FAdA|GBdB GBdB|ABcd efge|fgef d2:|',\n",
              " 'X:079\\nT:Tom and Jerry\\nS:Sam Bush, Repertoire Tape, 1985\\nM:4/4\\nL:1/8\\nK:A\\nEF|A2 Ac BAGB|ABcA ecAG|Acea (3f=gf ed|cedf edcB|\\nAAec BAGB|ABcA ecAG|Acea (3f=gf ed|cAec A2:|\\neg|aeca ecBc|defg agfg|egbe (3fgf eg|agbg aece|\\naeca ecBc|defg agfg|egbe (3fgf eg|agbg a2:|',\n",
              " \"X:080\\nT:Brave Lewie Roy\\nB:Kerr's Third Collection of Merry Melodies (c1875)\\nM:2/4\\nL:1/8\\nK:C\\nc2 A>G|G2 e>d|c2 A>G|GA c2|d2 de|g2 eg|a2 ge|de g2|\\nc2 A>G|G2 e>d|c2 A>G|GA c2|d2 de|g2 eg|a2 ge|d2 c2|]\",\n",
              " 'X:081\\nT:James Scott Skinner\\nC:J Murdoch Henderson\\nZ:Nigel Gatherer\\nM:4/4\\nL:1/8\\nK:A\\nD|C<A,A,>C E>FE<C|A>FE>C (3AGF (3EDC|D<B,B,>C D>FB>A|G>Bg>f (3efe (3dcB|\\nC<A,A,>C E>FE<C|A>FE>C (3AGF (3EDC|F<DF>A E>Ac>A|(3FBA G/EG/ A2 A||\\nf|e<Ac>f e<c c2|a>ec>B (3ABG (3ABc|B<EG>B e>Bg>e|b>eg>f (3efe (3dcB|\\nc>Ac>f e<cc>A|a>ec>B (3ABG (3ABc|F<DF>A E>Ac>A| F/BA/ G/EG/ A2 A|]',\n",
              " 'X:082\\nT:J Scott Skinner\\nC:J Murdoch Henderson\\nZ:Nigel Gatherer\\nM:4/4\\nL:1/8\\nK:A\\ne|c>A A/A/A EGAE|CEAc eaec|d>B B/B/B GABc|dBba gbed|c>A A/A/A EGAE|\\nCEAc eaec|fdcd eaga|fdBG A3||B|Aaga caga|ecea fedc|\\nBb^ab egb=a|gfe^d defg|aAAa gebg|fdda ecce|fdcd eaga|fdBG A3|]',\n",
              " \"X:083\\nT:The Miller's Rant\\nC:J Scott Skinner\\nZ:Nigel Gatherer\\nM:4/4\\nL:1/8\\nR:Strathspey\\nK:D\\nz|A,<DF>D A>DF>D|B,<EG>EB>EG>E|A,<DF>D A>DF>D|G<BC<A D2 D:|\\nA|A<df>d a>df>d|B>^de>f g>ec>B|A<df>d a>df>d|B<dc<a d2 d>A|\\nA<df>d a>df>d|B>^de>f g>ec>B|(3agf (3edc (3BAG (3FED|(3CDE (3A,B,C D2 D|]\",\n",
              " \"X:084\\nT:Rock the Cradle Joe\\nS:Pete Budd, Edinburgh (before that, I don't know)\\nZ:Nigel Gatherer\\nM:4/4\\nL:1/8\\nK:D\\nfg|a2 ag f2 fg|a2 ag f2 f2|g3 f g2 b2|a6 eg|fA e2 d2 eg|fA e2 d2 ef|\\ngfed cABc|1 d6:|2 d6 |] A2-|Acec Aceg|f2 d2 d2 ef|\\ng3 f g2 b2|a6 A2-|Acec Aceg|f2 d2 d2 ef|gfed cABc|d6:|\",\n",
              " 'X:085\\nT:The Marquis of Huntly\\'s Snuff Mill\\nT:The Royal Gift\\nC:Niel Gow\\nN:Cf Wm Marshall\\'s \"Miss Dallas\"\\nB:Flowers of Scottish Melody, 1934\\nZ:Nigel Gatherer\\nM:4/4\\nL:1/8\\nK:F\\nC<FFA G>F [D2B,2]|C<FFA cd/e/ f>c|d>cf>A B/A/G/F/ [D2B,2]|\\\\\\nC>FA>F [G2B,2] [F2A,2]|\\nC<FFA G>F [D2B,2]|C<FFA cd/e/ fA/c/|d>cf>A B/A/G/F/ [DB,]A,|\\\\\\nC<[FA,] [AC]>[FA] [G2B,2] [F2A,2]||\\ncffa g>f d2|c>ffa gafa|d>fc>A B/A/G/F/ [D2B,2]|C>FA>F G2 F2|\\ncffa g>f d2|[cA]>ffa gafa|d>fA>c B/A/G/F/ [DB,] f/g/|\\\\\\naFcA [G2B,2] [F2A,2]|]',\n",
              " \"X:086\\nT:Lesley's March\\nB:Oswald's 2nd Coll (via Popular Songs of Scotland, 1893)\\nZ:Nigel Gatherer\\nM:6/8\\nL:1/8\\nK:D\\nd3 d3|dcB ABC|dcB AGF|F/G/AF E2 D|e3 e2 e|fed eag|\\nfed dAB|d>e f/g/ e2 d::fdd eAA|fg/f/e/d/ eAA|gee fBB|ga/g/f/e/ fBB|\\nfdd eAA|fg/f/e/d/ eag|f>ed dAB|d>e f/g/ e2 d::dfa dfa|dfa afd|\\negb egb|egb bge|dfa dfa|dfa a>b a/g/|fed dAB|d>e f/g/ e2 d:|\",\n",
              " 'X:087\\nT:The March of the Cameron Men                 \\nC:Words and Melody by Mary M Campbell\\nB:Two Hundred and Twenty Popular Scottish Songs\\nZ:Nigel Gatherer\\nM:6/8\\nL:1/8\\nK:D\\nF>G|A>FA d>Af|f>ed d>cB|A>GF FED|E3-E2 F/G/|A>FA d>Af|e>dc d>cB|\\nA>FD E>FE|D4 || F>G|A2 D D2 D|EDE FDB|A>GF FED|E3-E2 A,|\\nD>DD AAA|dAF D2 A/A/|d>cd e>de|f3-f2 d/c/|B3-B2 c/d/|A3-A2 d/c/|\\nd>AF E>FE|D3-D2|]',\n",
              " 'X:088\\nT:The Old Reel                 \\nB:Flowers of Scottish Melody, 1935\\nN:Changed from 2/4 to 4/4\\nZ:Nigel Gatherer\\nM:4/4\\nL:1/8\\nK:Gm\\nF|D<GGA G^FGA|BGdG eGdG|C<FFG F=EFG|AFcF dFcF|DGGA G^FGA|\\nBABc dcd=e|fgfd cAFA|BGAF DG G2||dgga g^fga|bgga bg g2|\\nc<ffg f=efg|affg af f2|dgga bagb|abag f=edc|d=efd cAFA|BGAF DGG|]',\n",
              " 'X:089\\nT:Hallow Eeen                 \\nB:Musick for the Scots Songs in Tea Table Miscellany, c1726\\nZ:Nigel Gatherer\\nM:4/4\\nL:1/8\\nK:F\\ncB|A2 GF F2 fg|a2 gf d3 f|A3 f cAGF|E2 G2 G2 cB|A2 GF F2 fg|\\na2 gf d3 f|ABcE FDEC|D2 F>G F2::fe|dcde fgfe|dcde f2 FG|\\nA3 f cAFG|E2 G2 G2 cB|AGAF cBcA|gagf e2 dc|bagf edec|d2 fg f2:|',\n",
              " 'X:090\\nT:Go To the Devil and Shake Yourself               \\nB:Ms Music Book, Duchess of Atholl\\nZ:Nigel Gatherer\\nM:6/8\\nL:1/8\\nK:A\\na|e2 c cBc|e2 c c2 a|e2 c cBc|A2 F F2 a|e2 c cBc|\\nAce aga|fed cdB|A2 F F2::G|ABA cBc|A2 F F2 A|GAB BcA|\\nG2 E E2 G|ABA cBc|Ace aga|fed cdB|A2 F F2:|',\n",
              " \"X:091\\nT:Major Duff's Favourite Quickstep              \\nB:Ms Music Book, C K Sharpe, c1835\\nZ:Nigel Gatherer\\nM:2/4\\nL:1/8\\nK:Bb\\nF|B/A/B/c/ dd|B/A/B/c/ d2|f/e/d/e/ cc|f/e/d/e/ cc|B/A/B/c/ dd|\\nB/A/B/c/ d2|e/g/f/e/ d/c/B/A/|BBB::d/e/|ffdd|bb f2|f/e/d/e/ cc|\\nf/e/d/e/ cc|ffdd|bb f>e|d/g/f/e/ d/c/B/A/|BBB::f/e/|d3 e|fgab|\\ng2 g>g|g2 g/f/e/d/|c3 d|ecfe|d2 d>d|d2 f>e|d3 e|\\nfgab|g2 g>g|g3 g|fbag|fedc|B2 B>B|B3:|\",\n",
              " \"X:092\\nT:The Humours of Glen              \\nB:Thomas Robertson's Ms Music Book 1819\\nZ:Nigel Gatherer\\nM:4/4\\nL:1/8\\nK:Bb\\nF|BcBA BFFB|dedc dAFA|BcBA BFdF|E/E/E FA B2 B:|\\nF|Ad d/d/d d2 df|defg afdf|ge g/g/g fdAd|AFFA B2 B:|\\nd|AFBF dFBF|AFBF AFFd|AFBF dFAF|EFGA B2 Bd|\\nAFBF dFBF|AFBF AFFA|fgef deBd|EFGA B2 B:|\\na|b2 bf a2 af|g2 ge fdBa|b2 bf a2 af|g2 ge f2 fa|\\nbbbf aaaf|ggge fdBf|gefd AFdF|E/E/E FA B2 B:|\",\n",
              " \"X:093\\nT:The Humours of Glen              \\nB:Thomas Robertson's Ms Music Book 1819\\nN:Adjusted by Nigel Gatherer\\nZ:Nigel Gatherer\\nM:4/4\\nL:1/8\\nK:Bb\\nF|BcBA BFFB|dedc dAFA|BcBA BFdF|E/E/E FA B2 B:|\\nF|FB B/B/B B2 Bd|Bcde fdBd|ec c/c/c dBFB|AFFA B2 B:|\\nd|AFcF dFcF|AFcF AFFd|AFcF dFcF|EFGA B2 Bd|\\nAFcF dFcF|AFcF AFFA|fgef deBF|EFGA B2 B:|\\na|b2 bg a2 af|g2 ge fdBa|b2 bg a2 af|g2 ge f2 fa|\\nbbbg aaaf|ggge fdBf|gefd AFdF|E/E/E FA B2 B:|\",\n",
              " 'X:094\\nT:The Boodulum            \\nB:C K Sharpe\\'s Ms Music Book c1835\\nN:\"Irish\"\\nZ:Nigel Gatherer\\nM:9/8\\nL:1/8\\nK:D\\nBcd ABG FED|Bcd ABG FGA|Bcd ABG FEF|DED AGF EFA:|\\nBEE BAG FED|BEE BAG FGA|BEE BAG FEF|DED AGF EFA:|\\nd2 d dfd cBA|d2 d dfa gfe|d2 d dfd cBA|dcB ABG FGA:|',\n",
              " 'X:095\\nT:The Humours of Glen              \\nB:Complete Repository, Part Second (c1810-20)\\nN:\"Supposed Irish\"\\nZ:Nigel Gatherer\\nM:6/8\\nL:1/8\\nK:Am\\nE|Ac/B/A/^G/ AEE|EcB cEE|Ac/B/A/^G/ AEc|DE^G A2 E|Ac/B/A/^G/ AEE|EcB cEE|\\nFG/F/E/D/ EF/E/D/C/|DE^G A2::C/A/|G/A/cc c2 e/d/|c/B/c/d/e/f/ gec|\\\\\\nfg/f/e/d/ ecA|GE^G A2::c/A/|GEE cEE|\\nGEE ABc|GEc A/G/F/E/D/C/|DE^G A2 c/A/|GEE AFF|GEc A/G/F/E/D/C/|\\\\\\nfg/f/e/d/ ecA|GE^G A2:|',\n",
              " 'X:096\\nT:Ben Lomond              \\nB:Complete Repository, Part Third (c1810-20)\\nZ:Nigel Gatherer\\nM:4/4\\nL:1/8\\nK:D\\nB|A>FAB AFAB|B>ABd e/e/e e2|d<ff>d e>Bd>A|B<dA>F D/D/D D:|\\nf/g/|a>fd>f a>fdf|e>def e/e/e ef/g/|a>fdf a>baf|e>def d/d/d df/g/|\\na>fd>f a>fdf|e>def e/e/e e2|d<ff>d e>Bd>A|B<dA>F D/D/D D|]',\n",
              " \"X:097\\nT:Waulking o' the Fauld, The\\nT:My Peggy Is a Young Thing          \\nB:The Songs of Scotland Without Words, J T Surenne\\nZ:Nigel Gatherer\\nM:4/4\\nL:1/8\\nK:Am\\nG|EAA>B A2 ge|dBAG E2 DE|G>ABA GEDE|\\nG>ABA GEDG|EAA>B A2 GA|B>ABd e2 ga|\\nb>age degB|A>GEG A3||g|eaa>b a2 ga|\\nb2 ag e2 de|g>agB G>ABG|g>agB G>ABG|\\nAaa>b a2 g=f|e>deg a2 ga|b>age degB|A>GEG A2|]\",\n",
              " \"X:098\\nT:I'm A' Doun For Lack O' Johnnie\\nB:The Songs of Scotland Without Words, J T Surenne\\nZ:Nigel Gatherer\\nM:4/4\\nL:1/8\\nK:G\\nD2|G3 F E2 FG|A3 F D2 EF|G3 F E3 D|D G3- G2 D2|\\nG3 F E2 FG|A3 F D2 EF|G3 F E3 D|D G3- G2|]\\nD2|G2 d2 d2 GA|B2 A2 A2 D2|G2 Bd e3 d|B2 d4 D2|\\nG2 d2 d2 GA|B2 A2 A2 EF|G3 F E3 D|D G3- G2|]\",\n",
              " \"X:099\\nT:Tennessee Waltz\\nS:Friends\\nZ:Nigel Gatherer\\nM:3/4\\nL:1/8\\nK:A\\nA>B|c e3 A>B|c e3 ab|c'4 c'b|a f4 a|a e4 e|f2 e2 c2|B4 B>c|\\nB4 A>B|c e3 A>B|c e3 ab|c'4 c'b|a f4 a|a e3 c2|d2 c2 B2|A6|A4|]\\na>b|c4 c'c'|b4 c'b|a3 f a2|f e4 c|e4 e>e|f2 e2 c2|B4 B>c|B4 A>B|\\nc e3 A>B|c e3 ab|c'4 c'b|a f4 a|a e3 c2|d2 c2 B2|A6|A4|]\",\n",
              " 'X:100\\nT:The Battle of the Somme\\nC:Willie Laurie\\nS:Forgotten\\nR:march\\nM:9/8\\nL:1/8\\nK:D\\nA|f<af d3 d>cd|e>dG B3 A3| B<GB A3 d3|f<af e3 e2 A|f<af d3 d>cd|\\ne>dG B3 A3|B<GB A3 f3|e>fe d3 d2::z|d>cd e3 A3|e>fg f<af d3|\\\\\\nf>ef g3 A3|\\nf<af e3 e2 A|f<af d3 d>cd|e>dG B3 A3|B<GB A3 f3|e>fe d3 d2:|\\nX:101\\nT:Underhill\\nB:Da Mirrie Dancers, 1970\\nO:Shetland\\nZ:Nigel Gatherer\\nM:4/4\\nL:1/8\\nK:G\\nge|dBBA GABG|A<ABG ABde|dBBA GABG|AGAB G2:|\\ng2|faea fe d2|faea faea|faea fedB|AGAB G2:|',\n",
              " \"X:102\\nT:President Grant's Hornpipe\\nC:Harry Carleton\\nB:Ryan's Mammoth Tunebook\\nZ:Nigel Gatherer\\nM:4/4\\nL:1/8\\nK:Bb\\ndc|BFDF Bcde|fgfd B2 cd|egbg fdBd|gfdB c2 dc|BFDF Bcde|fgfd B2 cd|\\negBg fdBd|c2 B2 B2::ba|g^fga g=fde|fgfd f2 ba|gabg fdBd|cdcB GFDC|\\nB,F=EF DBAB|Fd^cd Bf=ef|gabg fdBd|c2 B2 B2:|\",\n",
              " \"X:103\\nT:My Grandfather's Clock\\nC:Henry C Work\\nS:Various\\nZ:Nigel Gatherer\\nM:4/4\\nL:1/8\\nK:G\\nDD|G2 FG A2 GA|B2 cB E2 AA|G2 GG F2 EF|G6:|\\nGB|d2 BA G2 FG|AGFE D2 GB|d2 BA G2 FG|A6 DD|\\nG z3 A z3|B/BB/ cB E2 AA|G4 F4|G6|]\\nDD|G2 DD EE D2|B,2 D2 B,2 D2|G2 DD EE G2|B,2 D2 B,2 D2|\\nG z3 A z3|B/BB/ cB E2 AA|G4 F4|G6|]\",\n",
              " \"X:104\\nT:Fanny Power\\nT:Planxty Fanny Powers\\nC:Turlough O'Carolan\\nS:The Carolan Albums, Maire Ni Chathasaigh\\nZ:Nigel Gatherer\\nM:6/8\\nL:1/8\\nK:G\\nz|G2 D G>AB|c2 B A2 G|G>FE D>ED|F2 G A>Bc|B>AG B>cd|\\ne2 A A2 G|G>FE DGF|G2 G G2::B|dB/c/d dB/c/d|GBG GBG|\\nec/d/e ec/d/e|AcA AcA|B>cd e>fg|fga dec|B>AG A/B/cF|G2 G G2:|\",\n",
              " \"X:105\\nT:Joe Tanzy's\\nT:Pat Carney's\\nT:The Braes of Glendochart/Glendochert\\nT:Mr Menzies of Culdares\\nB:Cole's 1000 Fiddle Tunes\\nZ:Nigel Gatherer\\nM:4/4\\nL:1/8\\nK:D\\nG|(3FED AF BGAF|EG=cG ECCE|(3FED AF BGAF|Dddc dDDG|\\n(3FED AF BGAF|EG=cG ECCE|(3FED AF BGAF|Dddc dDD:|\\ng|fada fdad|eg=cg ecgc|fada fdgd|(3Bcd AG FDDg|\\nfada fdad|eg=cg ecgc|afge fdec|dBAG FDD:|\",\n",
              " \"X:106\\nT:The Christ Child's Lullaby\\nS:Various\\nZ:Nigel Gatherer\\nM:3/4\\nL:1/4\\nK:C\\nG|G2 A|d d2|c d2|G2 c|B2 G|A d2|c d2|F2 F|\\nG2 A|d2 d|c d2|G2 G|G2 D|F G2|G3-|G z:|\",\n",
              " 'X:107\\nT:Lawson\\'s Strathspey\\nC:James Scott Skinner\\nN:\"Composed in Perth Station April 1920\"\\nZ:Nigel Gatherer\\nM:4/4\\nL:1/8\\nK:D\\nz|D<DA>D B>DAc|d>cB<d A>DC<E|D<DA>D B>DA>F|G/F/E A>G F<DD:|\\ng|(3fed (3edc (3dcB A>F|(3GAB (3AFD G>EC>g|(3fed (3edc (3dDE (3FGA|\\nB<dA>G F<DDg|\\\\\\n(3fed (3edc (3dcB A>F|(3GAB (3AFD G>EC>E|D<DA>D B>D A>g|\\\\\\n(3fga (3gfe d<DD|]',\n",
              " \"X:108\\nT:Sir William Noble's Quickstep\\nC:Alec Sim, 1930\\nZ:Nigel Gatherer\\nM:6/8\\nL:1/8\\nK:A\\nc/d/|e>cA A>ce|f>af e>cA|e>cA a>ec|d<BB B2 c/d/|\\ne>cA A>ce|a>ea f>ed|c<ae f>ed|c<eA A2::c/d/|e<cA e<cA|f<dA f<dA|\\ne<cA e<cA|d<BB B2 c/d/|e<cA e<cA|f<dA f<dA|c<ae f>ed|c<eA A2:|\",\n",
              " 'X:109\\nT:Westphalia Waltz\\nZ:Nigel Gatherer\\nM:3/4\\nL:1/8\\nK:G\\nD>D|G4 A2|B4 g>a|g6-|g4 G2|G4 A2|B4 c>d|A6-|A4 B2|\\nc4 d2|e4 g2|f6-|f4 e2|d6|d2 ^c2 =c2|B6-|B4:|\\nz2|g6|f6|e2 f2 g2|B6|B2 A2 G2|B2 A2 G2|c6-|c6|\\ne6|^d6|g2 a2 b2|a4 g2|1 d6|g2 (3fgf e2|B6-|B4:|2 d6|\\nd2 ^c2 =c2|B2 d2 g2|b6-|b4|]',\n",
              " \"X:110\\nT:Dermott Grogan's Hornpipe\\nD:Bumblebees, 'Buzzin'' (1999)\\nZ:Nigel Gatherer\\nM:4/4\\nL:1/8\\nK:D\\nA>F|D2 f>a f>dA>d|B2 (3BBB A>BA>F|D2 f>a f>dA>d|(3BBB e>d e>fA>F|\\nD2 f>a f>dA>d|B2 (3BBB A>Bd>e|f>Ad>f e>Ac>e|d2 d>c d2:|\\ne2|f2 (3dcB B>cd>f|e2 (3cBA A>Bc>e|d2 d>B G>Bd>B|A>FA>d f>ed>e|\\nf2 (3dcB B>cd>f|e2 (3cBA A>Bc>e|d2 d>B G>Bd>B|A>ce>c d2:|\",\n",
              " 'X:111\\nT:Grey Eagle\\nZ:Nigel Gatherer\\nM:4/4\\nL:1/8\\nK:A\\ncB|A2 FA ECA,C|EFAc BABc|A2 FA ECA,C|EF (3ABc e2 (3cec|\\nA2 FA ECA,C|EFAc (3BcB Ac|eAce dcBG|EGBd (3cec:|\\nAF|ecAe cAeA|fdAd fgaf|edce cecA|EGBc dBGB|\\nAecA ecAc|dABd faeg|abga (3faf ed|ceBc A2:|',\n",
              " \"X:112\\nT:Hogmany Strathspey\\nS:One of Nathaniel Gow's single sheets\\nZ:Nigel Gatherer\\nM:4/4\\nL:1/8\\nK:G\\nD|G>GDB, DGDB,|E<AAG GFED|G>GDB, DGDB,|E<A G/F/E/F/ G3:|\\nB/C/|d>dBG BdBG|ceag gfed|g>geB egeB|gfe^d e3 e/f/|\\nggff e>ed>d|caBg A>GFD|G>GDB, DGDB,|E<AGF G3|]\",\n",
              " 'X:113\\nT:Parcel of Rogues\\nS:Learned from Paul Tebble, Edinburgh\\nZ:Nigel Gatherer\\nM:4/4\\nL:1/8\\nK:Bm\\nFA|BcAF B2 c2|dBAF D2 EF|GFED E2 FA|B3 A F2:|\\nde|fgfe d2 cB|AFED A2 Bc|d2 cd e2 de|f3 d B2 de|\\nfaef d2 cB|AFED d2 cB|AFED E2 FA|B3 A F2|]',\n",
              " \"X:114\\nT:Reel of Tullochgorum\\nT:Jimmy Allen\\nS:Ian Powrie's Selection of Scottish Country Dance Tunes\\nZ:Nigel Gatherer\\nM:2/4\\nL:1/8\\nK:D\\nD>E|FD DE|F2 DE/F/|GE EF|G2 FE|Dd dc/B/|\\nA2 F>G|AA GE|D2::G>E|Dd dc|BA GF|Ee ed|\\ncA Bc|d>e dc/B/|A2 FA|B>A GF/E/|D2:|\",\n",
              " 'X:115\\nT:Johnnie Jigamy\\nS:Greig-Duncan Collection Vol.7\\nZ:Nigel Gatherer\\nM:4/4\\nL:1/8\\nK:Amix\\nA<AA>B A>B e2|d>eg>B A<G E2|G<GG>A G>A B2|D>EG>A B<A A2:|\\nA<aa>g b>a a2|g>ab>g a>g e2|g>ag>e d>e g2|G<GG>A B>A A2:|',\n",
              " 'X:116\\nT:\\nS:Radio Scotland\\nZ:Nigel Gatherer\\nM:4/4\\nL:1/8\\nK:A\\ng|aA (3AAA A2 EC|A,2 EA, CE E2|',\n",
              " \"X:117\\nT:John Howatt's Reel\\nS:Joseph Cormier, Old Time Wedding Reels\\nZ:Nigel Gatherer\\nM:4/4\\nL:1/8\\nK:D\\ng|:(3fga fd g2 ec|d2 A2 z DFD|E2 FG ABcd|eAfA g2 fg|\\n(3fga fd g2 ec|d2 AG FD D2|E2 FG ABcd|1 eABc defg:|2 eABc d2|]\\ndc|defg a2 gf|gfed ceAe|defg a2 gf|gba^g a2 ag|\\nabaf gfed|eAfA GFED|F2 AF G2 BG|Adce d2:|\",\n",
              " 'X:118\\nT:Gandzia Polka\\nD:Early Mandolin Classics\\nZ:Nigel Gatherer\\nM:2/4\\nL:1/8\\nK:Dm\\nA/f/f/e/ e/d/d/A/|cB/c/ B/A/B|A/^c/e/g/ a>g|gf/g/ f/e/f|Af/e/ e/d/d/A/|\\ncB/c/ B/A/B|A^c/e/ a/g/f/e/|df d z||c/d/e/f/ gb|ba/b/ a/^g/a|\\nag/a/ g/^f/g|gf/g/ f/e/f|A/=B/^c/d/ eg|gf/g/ f/e/f|A/^c/e/g/ ac|\\ndd/^c/ d z::c/d/c/=B/ cA|c/d/c/f/ a2|a/g/g/b/ e2|g/f/f/a/ c2|\\nc/d/c/=B/ cA|c/d/c/f/ a2|a/g/g/b/ de|f/g/f/e/ f z :|',\n",
              " 'X:119\\nT:Calum Beag\\nD:Horses for Courses by the Riverside Ceilidh Band\\nZ:Nigel Gatherer\\nM:4/4\\nL:1/8\\nK:F\\nc>B|A<F F2 C<F F2|A>FA<c d2 c2|B<G G2 D<G G2|B>AB<c d2 (3cde|\\nf2 f2 d>c c2|d>cd<f d2 c>A|F2 F2 G2 F>G|A2 F2 F2||\\nF>D|C>DF>G F2 F>G|A>FA<c d2 c2|d<G G2 B<G G2|B>AB<c d2 (3cde|\\nf2 f2 d>c c2|d>cd<f d2 c>A|F2 F2 G2 F>G|A2 F2 F2|]\\nK:G\\nd>c|B<G G2 D<G G2|B>GB>d e2 d2|c<A A2 E<A A2|c>Ac>d e2 (3def|\\ng2 g2 e>d d2|e>de<g e2 d>B|G2 G2 A2 G>A|B2 G2 G2||\\nG>E|D>EG>A G2 G>A|B>GB<d e2 d2|e<A A2 c<A A2|c>Bc<d e2 (3def|\\ng2 g2 e>d d2|e>de<g e2 d>B|G2 G2 A2 G>A|B2 G2 G2||',\n",
              " 'X:120\\nT:Moulin Dhu\\nD:Horses for Courses by the Riverside Ceilidh Band\\nZ:Nigel Gatherer\\nM:4/4\\nL:1/8\\nK:A\\ne>ee>e e>ee>e|e>ee>e c2 e2|e>ee>e f2 e>e|f2 e2 c2 B2|\\nA2 A2 F>EE>F|A2 A2 c2 B>c|A2 A2 F>E E2|c<ee>d c>B A2|]\\nc>ee>e e>ee>e|d>ff>f f>ga>f|c>ee>e e>ee>e|e>fe>d c2 B>c|\\nA2 A2 F>EE>F|A2 A2 c2 B>c|A2 A2 F>E E2|c<ee>d c>B A2|]',\n",
              " \"X:121\\nT:Mairi's Wedding\\nD:Horses for Courses by the Riverside Ceilidh Band\\nZ:Nigel Gatherer\\nM:4/4\\nL:1/8\\nK:Bm\\nB>BB>B B>BB>B|B>BF>E D>EFA|B>BB>B B>BB>B|A>Ac>c B2 B z|\\nB>BB>B B>BB>B|F>FF>E D>EFA|B>BB>B B>BB>B|A>Ac>c B3 z|]\\nB,2 D2 F2 B2|F>FF>E D>EF>B|B,2 D2 F2 B2|A>Ac>c B2 B z:|\",\n",
              " 'X:122\\nT:Fear A Figue\\nD:Horses for Courses by the Riverside Ceilidh Band\\nZ:Nigel Gatherer\\nM:4/4\\nL:1/8\\nK:A\\nA>Ac>e A>Ac>e|A>Ac>A F2 E2|A>Ac>e A>Ac>e|A>Ac>A B2 B2|\\nA>Ac>e A>Ac>e|A>Ac>A F2 E2|A>AA>A f>ec<A|B>AB<c A2 A2|]\\nA>AA>A A>AA>A|A>AA>A F2 E2|A>AA>A A>AA>A|A>AA>A c2 B2|\\nA>AA>A A>AA>A|A>AA>A F2 E2|A>AA>A f>ec<A|B>AB<c A2 A2|]',\n",
              " 'X:123\\nT:Cerdetshni\\nS:Forgotten\\nO:Russia\\nZ:Nigel Gatherer\\nM:2/4\\nL:1/8\\nK:Dm\\nf/e/f/d/ ^cA|df ea|g/f/e/d/ ^cA|df e2|f/e/f/d/ ^cA|df ea|\\ng/f/e/d/ ^cA|df/e/ d2||A{^g}a A{^g}a|A{^g}a =g/f/e/d/|A{^g}a A{^g}a|\\nA{^g}a d2|A{^g}a A{^g}a|A{^g}a =g/f/e/d/|A{^g}a A{^g}a|=ge d2|]',\n",
              " \"X:124\\nT:Mullindhu\\nD:Jock Tamson's Bairns\\nZ:Nigel Gatherer\\nM:4/4\\nL:1/8\\nK:C\\nA>G AB C2 BA|GC C/B,/C GC C/B,/C|A>G AB C2 BA|GC C/B,/C D3 z:|\\nADAD AD D/C/D|GCGC GC C/B,/C|A>G AB C2 BA|GC C/B,/C D3 z:|\",\n",
              " \"X:125\\nT:Edinburgh Musical Fund\\nC:J Reinagle\\nB:Hamilton's Universal Tunebook Vol.1, 1844\\nZ:Nigel Gatherer\\nM:6/8\\nL:1/8\\nK:G\\nd|g3 fed|efg d3|c3 BAG|F>GA DEF|G2 B Bcd|F2 c cde|F2 d def|g3 G2:|\\nD|EFG ABc|d2 B g3|e2 c a2 f|gga b2 D|EFG ABc|d2 B g3|e2 c a2 f|gga g2:|\\nz|ddd dgd|BBB BdB|G3 AGA|B>cB B2 c|ddd dgd|BBB Bga|b2 g agf|g3 g2:|\",\n",
              " 'X:126\\nT:Mrs Norman MacKeigan\\nC:Dan R Macdonald\\nS:Radio Scotland\\nZ:Nigel Gatherer\\nM:4/4\\nL:1/8\\nK:D\\nz2|D2 D2 FAAB|defd g2 fe|dcBA BcdA|BdAF E2 FE|\\nD2 DA FAAB|defd g2 fe|dcBA BcdA|BdAF D2:|\\nf2|abaf defd|fada f2 df|abaf defd|fadf e/e/e ef|\\nabaf defd|fada f2 ec|dcBA BcdA|BGAF D2:|',\n",
              " 'X:127\\nT:Clinch Mountain Backstep\\nS:Bluehrass and Old Time Mandolin \\nZ:Nigel Gatherer\\nM:4/4\\nL:1/8\\nK:Am\\naa|aa g2 e2 eg|edcc A2 aa|aagg e2 d2|e2 ee eeaa|\\naggg eeeg|edcc A2 GA|AAAA cAGB|A2ee ee:|\\nE2|GAAA AAcc|ccAA GG E2|\\\\\\nM:6/4\\nL:1/8\\nGAAA AAcc cc d2|\\\\\\nM:4/4\\nL:1/8\\ne2 ee ee aa|\\naa g2 e2 eg|edcc A2 GA|AAAA cAGB|A2 ee ee:|',\n",
              " \"X:128\\nT:Old Rocking Chair, The\\nC:Ralph Page\\nS:Donna Hind's Notebooks\\nZ:Nigel Gatherer\\nM:6/8\\nL:1/8\\nK:A\\nED|CEE DFF|Ecc cBc|dBB BAB|cAF E2 D|CEE DFF|\\nEAB cBc|dBG EFG|ABA A::cd|ecA efe|dBc dfd|cec ABc|\\ndcd Bcd|ecA efe|dBc ded|cBc dBG|EAG A:|\",\n",
              " 'X:130\\nT:Blackberry Blossom\\nS:Swiped from Jim Coon\\nZ:Nigel Gatherer\\nM:7/8\\nL:1/8\\nK:G\\ngbag fag | egfe dBA | DEFG ABc | GABc A2 d | gbag fag | egfe dBA | \\nDEFG ABc | B2 [BG][BG] [B3G3] :: BeBe deB | BeBe deB |  BeBe deB | \\nfefg agf | BeBe deB | BeBe deB | cBcd ecd | d^cdf g3 :|',\n",
              " 'X:131\\nT:Warped Road to Lisdoonvarna, The\\nS:Nigel Gatherer\\nZ:Nigel Gatherer\\nM:7/8\\nL:1/8\\nK:D\\nDAAD AB=c|BEGE =cEE|DAAD AB=c|GEAG FDD:|\\ndefd =cAA|BGGB =cAA|defd =cAA|BGAG FDD:|',\n",
              " 'X:132\\nT:Waltz of the Little Girls, The\\nD:The Pearl, Phil Cunningham/Aly Bain\\nC:Trad/Rasmussen\\nN:Originally in Eb\\nZ:Nigel Gatherer\\nM:3/4\\nL:1/8\\nK:D\\ndc BA|F2 FE DE|F2 dc BA|F2 FE DF|G2 GF GA|B2 BA GF|E2 EF GA|\\nB2 BA Bc|BAdc BA|F2 FE DE|F2 dc BA|F2 FE DF|G2 GF GA|B2 BA GF|\\nE2 EF GA|Bd/B/ Ac Ac|d2::DF Ad|c2 cB AF|DF BF AF|E3 A Ec|\\nd2 DF Ad|c2 cB AF|DF BF AF|E3 A Ec|d2:|',\n",
              " 'X:133\\nT:Lord George Gordon Lennox\\nB:Alexander Walker Collection, 1866\\nC:Alexander Walker\\nZ:Nigel Gatherer\\nM:4/4\\nL:1/8\\nK:Gm\\nz|G2 BF GABc|dfcf AFFA|G2 BF GABc|dfcA G/G/G G:|\\nd|g2 dg Bgdg|Afcf AFF^f|g2 dg Bgdg|bga^f g2 ga|\\nbga^f ge=fd|cfcB AFFA|G2 BF GABc|dfcA G/G/G G|]',\n",
              " \"X:134\\nT:Whistle O'er the Lave O't\\nC:Attr J Bruce\\nN:Transposed from G for comparison\\nN:Transposed from 4/4 for comparison\\nR:Strathspey\\nZ:Nigel Gatherer\\nM:2/4\\nL:1/8\\nK:A\\nA>E F<A|c>B c2|e>f c<a|BA F2|A>E F<A|c>B c<a|A<A c>A|B2 A2:|\\nef/g/ a>g|fe c2|e>f c<a|BA F2|ef/g/ a>g|fe c<a|A<A c>A|B2 A2|\\nef/g/ a>g|fe c2|ef/g/ a>c'|ba f>g|a>c' f>a|e>f c<a|A<A c>A|B2 A2|]\",\n",
              " \"X:135\\nT:Fairy Dance, The\\nC:Nathaniel Gow\\nS:Peter Hardie's MSS, via Scottish Country Dance Book 3\\nZ:Nigel Gatherer\\nM:4/4\\nL:1/8\\nK:D\\nf2 fd f2 fd|f2 fd cAec|f2 fd gfed|1cABc d2 de:|2cABc defg|]\\na2 af b2 ba|gfge a2 ag|fefd B2 ge|cABc defg|\\na2 af b2 ba|gfge a2 ag|fefd B2 ge|cABc d2 z2|]\",\n",
              " 'X:136\\nT:Hell On the Wabash\\nS:John Greig, Edinburgh (probably from Art Rosenbaum)\\nZ:Nigel Gatherer\\nM:4/4\\nL:1/8\\nK:G\\nz2|g2 dB GBGB|D2 G2 G2 B2|cBAG F2 A2|BAGF G3 z|g2 dB GBGB|\\nD2 G2 G2 B2|cBAGFGAF|G3 G G2::Bc|d2 d2 dBdB|e2 e2 e2 eg|f2 d2 f2 d2|\\nBAGF G2 Bc|d2 d2 dBdB|e2 e2 e2 eg|f2 d2 f2 d2|BAGF G2:|',\n",
              " 'X:137\\nT:Jack Broke da Prison Door\\nS:Sessions\\nO:Shetland\\nZ:Nigel Gatherer\\nM:4/4\\nL:1/8\\nK:G\\nG2 BG BdBG|cBAB dBAB|G2 BG BdBG|ABAG E2 D2:|\\ng2 gd edBd|g2 gd eaaf|g2 gd edBG|ABAG E2 D2:|',\n",
              " \"X:138\\nT:Tumshie's Jig\\nC:Nigel Gatherer\\nZ:Nigel Gatherer\\nM:6/8\\nL:1/8\\nK:D\\nA|d2 B ADE|F2 E FAA|BAF def|edc B2 c|dff cee|\\nBdB AFD|BdB AFD|EDC D2::E|F2 F AFD|BAF AFD|Adf agf|\\nfed eag|fdd ecc|dcB AFA|BdB AFD|EDC D2:|\",\n",
              " 'X:139\\nT:Bridge of Perth\\nB:The Athole Collection, 1884\\nZ:Nigel Gatherer\\nM:4/4\\nL:1/8\\nK:A\\nA/B/c/d/ ed cAec|cAeg ae c2|A/B/c/d/ ed ceA=c|B=GGB gd B2:|\\nAaga eaca|eacf eA c2|Aaga eaca|B=gdg dG B2:|',\n",
              " 'X:140\\nT:Our Highland Queen\\nC:James Scott Skinner\\nB:The Scottish Violinist, n.d.\\nZ:Nigel Gatherer\\nN:This is a simplified version, not as written in the book\\nM:4/4\\nL:1/8\\nK:D\\n(3A,B,C|D>AF>A D>AF>A|(3fed (3cdB A2 AF/D/|C>AG>A F>AD>A|\\\\\\n(3FED (3CDB, A,3 (3A,/B,/C/|\\nD>AF>A D>AF>A|(3fed (3cdB A2 AG/F/|(3GBe E>G (3FAd A>G|\\\\\\nFE/D/ C/FE/ D3||\\n(3A/B/c/|d>f (3Adf (3afd (3AFD|(3A,DF (3AFd A3 (3B/c/^d/|\\\\\\ne>g (3Beg (3bge (3BGE|(3CEG (3CEA F3 (3A/B/c/|\\nd>f (3Adf (3afd (3AFD|(3A,DF (3AFd A2 AG/F/|\\\\\\n(3GBe E>G (3FAd A>G|FE/D/ C/FE/ D3||',\n",
              " 'X:141\\nT:Bulgarian Red\\nC:Charlie McKerron\\nS:Session, Edinburgh\\nZ:Nigel Gatherer\\nM:4/4\\nL:1/8\\nK:Am\\nAddc d2 AB|c2 dc BGGB|Addc d2 de|f2 fa geed|Addc d2 AB|\\nc2 dc BGGA|B2 BG c2 ce|1f2 fa geed:|2f2 fa geec|]\\ndA (3AAA fAeA|dA (3AAA dcAc|dA (3AAA fAeA|f2 fa geed|dA (3AAA fAeA|\\ndA (3AAA dcAc|B2 BG c2 ce|1f2 fa geec:|2f2 fa geed|]',\n",
              " \"X:142\\nT:Geaghan's Fancy (sp?)\\nT:Eileen O'Callaghan's\\nT:Paddy Canny's\\nS:Buttons & Bows, 'Gracenotes'\\nZ:Nigel Gatherer\\nM:4/4\\nL:1/8\\nK:A\\nA2 cA EAcB|ABce dBGB|A2 cA EAce|efge dBGB|A2 cA EAcB|\\nABce dBGB|Ac c/c/c ecAc|efge dBGB||eaag a2 ga|beee begf|\\neaag a2 gf|efge dBGB|eaag a2 ga|b2 ba bagf|eaaa c'aag|efge dBGB|]\",\n",
              " 'X:143\\nT:Gorgie Farm\\nC:Nigel Gatherer\\nZ:Nigel Gatherer\\nM:6/8\\nL:1/8\\nK:G\\nD|G2 G BGB|cAF GBd|gbg faf|ege d2 B|cde fga|gdB GAB|\\ncec BdB|AGF G2:|F/G/|A2 A AFD|DFA cAF|GBd gbg|afd d2 F/G/|\\nA2 A AFD|DFA cBA|BdB cAF|G3 Bcd|e3 gec|d3 gdB|\\ncec BdB|ABG FED|G2 G BGB|cAF GAB|cec BdB|AGF G2|]',\n",
              " 'X:144\\nT:Charles Sutherland\\nC:J Murdoch Henderson\\nD:Hardie/Marwick\\nZ:Nigel Gatherer\\nM:4/4\\nL:1/8\\nK:E\\nB2|E2- eg fdec|B2 BG cBGB|c2 Ac B2 ge|fgfe dBcd|\\nE2- eg fdec|B2 BG cBGB|c2 Ac Bgbg|afdf e2:|\\na2|g2 eg bge=d|c2 ac B2 gB|A2 fA G2 ge|fgfe dBBa|\\ng2 eg bge=d|ceac Bege|c2 Ac Bgbg|afdf e2:|',\n",
              " \"X:145\\nT:Pumpkin's Fancy, The\\nC:Terry Tully\\nB:The Well Travelled Fiddler's Collection\\nZ:Nigel Gatherer\\nM:2/4\\nL:1/16\\nK:A\\nfe|B<cfe B,cfe|fecB c2fe|\",\n",
              " \"X:146\\nT:Down the Brae\\nS:Donna Hind's notes\\nZ:Nigel Gatherer\\nM:2/4\\nL:1/8\\nK:Em\\nB,/B,/|E>D EF|G>F GA|B2 e2|d B2 A|G>F GB|AF DE|F2 E2|1 D B,2:|2 E2|]\\ned|B2 e2|e2 de|f2 e2|d B2 B|A>G AB|d>c de|dB AB|d2 BA|B2 e2|e2 de|\\nf2 e2|d B2 A|G>F GB|AF DE|F2 E2|E2|]\",\n",
              " \"X:147\\nT:Miss Margaret McLachlan\\nB:The Piper's Assistant (1877)\\nN:Slightly amended by Nigel Gatherer\\nZ:Nigel Gatherer\\nM:6/8\\nL:1/8\\nK:D\\ne|:Add dcd|e>de fef|gfg B>cd|e>cA GFG|Add dcd|e>de fef|\\nBgf edc|1 d3 dcB:|2 d3 d2|]f/g/|afa ded|faf def|gfg Bcd|ecA Afg|\\nafa ded|faf def|gfg ecA|d3 dfg|afa ded|faf def|\\ngfg Bcd|efd cBA|Add dcd|ede fef|Bgf edc|d3 d2|]\",\n",
              " \"X:148\\nT:Burn O' Craigie, The\\nS:Old Blind Dogs, 'Tall Tails'\\nZ:Nigel Gatherer\\nM:4/4\\nL:1/8\\nK:A\\nF2|E2 E>F E>FA>c|B>AB>c B>AF<A|E2 E>F E>FA>c|B>AB<c A2:|\\n(3ABc|d2 d>f e<cc>A|B>AB>c B>AF<E|d2 d>f e<cc>A|B>AB<c A2 (3ABc|\\nd2 d>f e<cc>A|B>AB>c B>AF<A|c<ee>f a>fe>c|B>AB>c A2|]\",\n",
              " \"X:149\\nT:We're No Awa Tae Bide Awa\\nS:Catherine Smith, Dundee\\nZ:Nigel Gatherer\\nM:4/4\\nL:1/8\\nK:D\\nDE|F3 A GFED|F2 D2 D2 FA|d3 e dcBA|B4 A3 A|\\nd3 e d2 F2|G2 B2 A3 A|B2 A2 d2 F2|E4 D2|]\",\n",
              " \"X:150\\nT:Irving Steeple\\nB:Jerry Holland's Collection of Fiddle Tunes\\nZ:Nigel Gatherer\\nM:4/4\\nL:1/8\\nK:D\\nc|d2 AG FGA=c|BG=cG ECGE|AddA FGAg|fdec dDD:|A|defg abaf|\\nge=cg ecge|1defg abag|fdec dDD:|2fdge afbg|fdec dDD|]\\nX:151\\nT:Devil In the Kitchen, The\\nS:Various\\nZ:Nigel Gatherer\\nM:4/4\\nL:1/8\\nK:A\\nf<a|e>A A/A/A e>A (3fed|e>A A/A/A =g2 f<a|e>A A/A/A e>A (3fed|\\nB>=G (3dcB g2:|f>g|a>A A/A/A e>A A/A/A|a>A A/A/A =g2 f>g|\\na>A A/A/A e>A (3fed|B>=G (3dcB g2 f>g|a>A A/A/A e>A A/A/A|\\na>A A/A/A =g2 f>g|a>f =g>e f>d e>c|B.c d>e =g2|]\",\n",
              " 'X:152\\nT:Jumping Geordie\\nZ:Nigel Gatherer\\nM:4/4\\nL:1/8\\nK:G\\nd|g2 dB g2 dB|g2 dB cA A2|g2 dB g2 dB|cedc BG G:|\\nd|BGdG eGdG|BGdB cA A2|BGdG eGdG|cedc BG G:|',\n",
              " 'X:153\\nT:Hamish the Carpenter\\nT:Old Time Wedding Reel #2\\nD:Boys of the Lough, Welcoming Paddy Home (1986)\\nZ:Nigel Gatherer\\nM:4/4\\nL:1/8\\nK:A dorian\\nA2 GE GAgf | e2 dB de g2 | A2 GE GAgf | egdB AAAB |\\nA2 GE GAgf | e2 dB de g2 | (3efg dB GABd | (3efg dB G2 G2 |]\\neaab a2 ge | gaba ge d2 | eaab a2 ge | dBgB BA A2 :|',\n",
              " \"X:154\\nT:Sands o' Munness\\nT:The Sands of Burness\\nT:The Sands of Murness\\nD:Willie Hunter, Leaving Lerwick Harbour\\nZ:Nigel Gatherer\\nM:4/4\\nL:1/8\\nK:A\\nA2 G>A F>AE>G|A>ce<a f>ec<A|B2 G>B E>BG<B|g>fe^d f>e=d<B|\\nA2 G>A F>AE>G|A>ce<a f>ec<A|f>ed>c B>ag>f|e>dB<G A2|]\\nc>A|a>c'e<a c>eA<c|E>Ac>e a>gf>e|^d>e=d>e B>eg>f|(3efe (3dcB c2(3efg|\\na>c'e<a c>eA<c|E>Ac>e a>gf>e|^d>e=d>e B>eg>f|(3efe (3dcB A2|]\",\n",
              " 'X:155\\nT:Pirntaton Waltz, The\\nC:Nigel Gatherer\\nZ:Nigel Gatherer\\nM:3/4\\nL:1/8\\nK:D\\nF>E|D3 FA>c|d2 c>d B>c|A>B G>A F>G|E4 e>D|C3 EA>B|c3 de>c|B>c A>B G>A|\\nF4 F>E|D3 FA>c|d2 c>d B>c|A>B G>A F>G|E4 e>D|C3 EA>B|\\nc3 de>f|g3 ab>c|c4||c>d|e3 Ac>e|f3 Ad>f|g3 ef>g|a3 f d2|\\nB2 g>dB>G|A2 f>dA>F|E2 c3 B|B2 A2 F>G|A>D F>A d2|B>D G>B d2|\\nc>E A>c e>f|d2 b>a f>d|B2 g>d B>G|A2 f>d A>F|E3 DC>E|D4|]',\n",
              " 'X:156\\nT:Lady Haddo\\nC:M Macdonald\\nB:The Beauties of Niel Gow (c1819)\\nN:Composer played bass with Niel Gow\\nZ:Nigel Gatherer\\nM:4/4\\nL:1/8\\nK:C\\nF|E/F/G G2 c>GA>G|c/B/A/B/ cE D/D/D DF|E/F/G G2 c>GA>G|\\\\\\nc/B/A/B/ cE C/C/C C:|\\nf|egcg a/g/f/e/ gc|f<ag>e d/d/d df|egcg a/g/f/e/ gc|f<ag>e c/c/c cg|\\negcg a/g/f/e/ gc|f<ag>e d/d/d de|c>edB c>A GE|FAG>E C/C/C C|]',\n",
              " 'X:157\\nT:Dunkeld Steeple\\nC:Niel Gow\\nB:The Beauties of Niel Gow (c1819)\\nN:Last few notes changed from \"dfBc ceAc|dcBA A4\" by N.G.\\nZ:Nigel Gatherer\\nM:4/4\\nL:1/8\\nK:A\\nA,CEA cefg|agfe dcBA|dfBd ceAc|dcBA G2 FE|A,CEA cefg|agfe dcBA|\\ndfBd ceAc|dBAG A4::agae fedc|dfBd c2 BA|dfBd ceAc|dcBA G2 FE|\\nagae fedc|dfBd c2 BA|dfBd ceAc|dBAG A4:|',\n",
              " \"X:158\\nT:Brig o' Perth, The\\nB:Kerr's Merry Melodies, Bk 1, p20\\nZ:Nigel Gatherer\\nM:4/4\\nL:1/8\\nK:Amix\\nA>ce>g f>de>d | c>Ac>e a>ec>B | A>ce>g f>d e>d | B>GB>d g>dB>G|\\nA>ce>g f>de>d | c>Ac>e a2 f>g | a>fg>e f>de>c | d>BG>B g>dB>G|]\\nA>ae>a c>ae>a | c>Ac>e a>ec>B | A>ae>a c>ae>a | B>GB>d g>dB>G|\\nA>ae>a c>ae>a | c>Ac>e a2 f>g | a>fg>e f>de>c | d>BG>B g>dB>G|]\",\n",
              " 'X:159\\nT:Trumpet Hornpipe, The\\nT:Captain Pugwash\\nS:Various/Sessions\\nZ:Nigel Gatherer\\nM:4/4\\nL:1/8\\nK:G\\nD2|(3GGG G2 (3GGG G2|B>GB>d g>dB>G|(3DDD D2 (3DDD D2|F>DF>A c>AF>A|\\n(3GGG G2 (3GGG G2|B>GB>d g3 g|f>ag>f e>gf>e|d2 f2 d2:|\\nB>c|(3ddd d2 (3ddd d2|e>fg>f e>dc>B|c>de>d c>BA>G|F>GA>G F>DE>F|\\n(3GGG G2 (3=FFF F2|(3EEE E2 (3_EEE E2|D>gf>e d>cB>A|G2 B2 G2 :|',\n",
              " 'X:160\\nT:Bedding of the Bride, The\\nB:The Athole Collection\\nZ:Nigel Gatherer\\nM:4/4\\nL:1/8\\nK:D\\nF|DAA>G FDAF|DAA>G E=CCE|DAA<F GABG|AB=cG e=CC:|\\ng|fddA FDD=f|e=ccG E=CCg|fddA FAdB|=cBcG E=CC:|\\nf|d2 da fdad|Adda e=cge|d2 da fdad|AB=cG E=CC:|\\ng|fdAd FDD=f|e=cGc E=CCg|fdcd AdFd|E=cGc E=CC:|',\n",
              " 'X:161\\nT:Old Polka, The\\nD:Orkney Fiddle Music (1976)\\nZ:Nigel Gatherer\\nM:2/4\\nL:1/8\\nK:D\\nA|BA A/f/e/d/|cB Be/d/|c/d/e/f/ g/A/B/c/|d/e/f/d/ AF/A/|\\nBA A/f/e/d/|cB Be/d/|c/d/e/f/ g/A/B/c/|dd d:|\\nf/g/|a/f/d/f/ A/f/d/f/|ag/f/ ge/f/|g/e/c/e/ A/e/c/e/|gf/e/ ff/g/|\\na/f/d/f/ A/f/d/f/|ag Be/d/|c/d/e/f/ g/A/B/c/|dd d:|',\n",
              " 'X:162\\nT:Jamie Rae\\nT:Seumus Ruadh\\nT:Jamie Roy\\nD:Colin Campbell, Highland Style (1973)\\nZ:Nigel Gatherer\\nM:6/8\\nL:1/8\\nK:A mix\\ng|A>AA a3|geg a3|G>GG g2 e|dBd BGB|A>AA a3|geg a3|\\ng2 e dBd|e2 A A2::e|A>AA e2 A|d2 A A2 B|G>GG g2 e|\\ndBd BGB|A>AA e2 A|dBA g2 a|g2 e dBd|e2 A A2:|',\n",
              " 'X:163\\nT:Clyde Hornpipe, The\\nC:Jimmy Blair\\nB:The Jimmy Blair Album\\nZ:Nigel Gatherer\\nM:4/4\\nL:1/8\\nK:D\\nA>F|D>FA>F G>Bd>B|A>ce>c d>fa>f|g>ab>g f>ga>f|(3efe (3dcB (3ABA (3GFE|\\nD>FA>F G>Bd>B|A>ce>c d>fa>f|g>ab>g (3fed (3edc|d2 f2 d2|]\\n(3ABc|d>AF>A D>FA>F|G>BG>E B,2 (3E^D=D|C>DE>F G>EC>E|D>EF>B A2 (3ABc|\\nd>AF>A D>FA>F|G>BG>E B,2 (3E^D=D|C>DE>F (3GAB (3cde|d2 d2 d2|]',\n",
              " 'X:164\\nT:Boys of Portaferry, The\\nT:The Pullet\\nS:Session, Green Tree, Edinburgh\\nZ:Nigel Gatherer\\nM:4/4\\nL:1/8\\nK:G\\nBA|G3 B AGAB|G2 BG AGED|G3 B AB c2|dBGB c2:|\\nBA|Bdgd Bdgd|Bdgd (3cdc BA|Bdgd e2 ef|gedB c2:|',\n",
              " 'X:165\\nT:Bill Collins\\nT:The Hearty Boys of Ballymoate\\nS:Session, Green Tree, Edinburgh\\nZ:Nigel Gatherer\\nM:6/8\\nL:1/8\\nK:D\\nd2 A BAB|def a2 f|aba f2 e|dBB BAB|d2 A BAB|def a2 f|aba f2 e|fdB d3:|\\nfaa faa|afe f3|aaa f2 e|dBB BAB|D2 A BAB|def a2 f|aba f2 e|fdB d3:|',\n",
              " \"X:166\\nT:Hearty Boys of Ballymote, The\\nB:Jerry Holland's Collection of Fiddle Tunes\\nZ:Nigel Gatherer\\nM:6/8\\nL:1/8\\nK:Em\\nE/F/|GEE B,EE|F3 DFA|GEE B,EE|FED E2 F|GEE B,EE|\\nF3 DFA|Bee B/c/dB|AFD E2::c|d2 d dcB|AFD FGA|\\nBee ede|fed B2 c|d3 dcB|AFD FGA|Bee B/c/dB|AFD E2:|\",\n",
              " 'X:167\\nT:Sweet Maid of Mull, The\\nC:A C Beaton\\nS:Loose sheet from Ayr & Prestwick Strathspey & Reel Society\\nZ:Nigel Gatherer\\nM:6/8\\nL:1/8\\nK:A\\ne|A>Bc e2 a|a>gf e3|f<af f>ec|c>BA B2 e|A>Bc e2 a|a>gf e2 a|\\nA>ce f>ec|B3 A2:|g|a>ea a2 e|f<af e2 a|A>cf e>cA|c<ec B2 g|\\na>ea a2 e|f<af e2 a|A>ce f>ec|B3 A2 g|a>ea a2 e|f<af e2 a|\\nA>cf e>cA|c<ec B2 e|A>Bc e2 a|a>gf e2 a|A>ce f>ec|B3 A2|]\\ne|A>Bc c<eA|d>ef e2 a|e>fe c>BA|c<ec B2 e|A>Bc c<eA|d>ef e2 a|\\nA>ce f>ec|B3 A2:|g|a>ea a>gf|f<af e2 a|A>cf e>cA|c<ec B2 g|\\na>ea a>gf|f<af e2 a|A>ce f>ec|B3 A2 g|a>ea a>gf|f<af e2 a|\\nA>cf e>cA|c<ec B2 e|A.Bc e2 a|a>gf e2 a|A>ce f>ec|B3 A2|]',\n",
              " \"X:168\\nT:Duchess of Athole's Slipper, The\\nT:Duchess' Slipper, The\\nC:Niel Gow\\nB:Kerr's Merry Melodies, Book 2\\nZ:Nigel Gatherer\\nN:Transposed from F for comparison\\nN:Changed from a Strathspey to a reel for comparison\\nM:4/4\\nL:1/8\\nK:G\\nDGBG dGBG|DGBG EA A2|DGBG dBge|dcBA G/G/G G2:|\\ndgbg agbg|dgbg fa a2|dgbg agbg|agab g/g/g g2|\\ndgbg agbg|dgbg fa a2|gbeg dgbg|dcBA G/G/G G2|]\",\n",
              " \"X:169\\nT:Drover Lads, The\\nT:Gillan An Drover\\nB:Kerr's Merry Melodies, Book 3\\nZ:Nigel Gatherer\\nM:6/8\\nL:1/8\\nK:G\\nB|GBd g2 B|agf g2 e|dBB B2 e|dBB B2 A|GBd g2 d|agf g2 e|\\ndBA A2 e|dBA A2::B|GBG dBd|ege dBG|dBB B2 e|\\ndBB B2 A|GBG dBd|ege dBG|dBA A2 e|dBA A2:|\",\n",
              " \"X:170\\nT:Carthy's March\\nC:Dave Swarbrick\\nB:Dave Swarbrick Takes a Bow\\nZ:Nigel Gatherer\\nM:4/4\\nL:1/8\\nK:G\\n(3DEF|G2 G2 G2 D>E|(3=FGF E>F D>CB,>C|D>G G2 G2 A>B|\\n(3cdc B>c A2 B>c|d>d d2 d2 e>d|(3cdc B>c A>F D>E|(3=FGF E>F D>CB,>C|\\nD2 G>A _B2 (3c=BA|G2 F/G/F/D/ C2 B,/c/B,/G,/|1 A,2 D2 D2:|2 A,6 (3efg||\\na2 a2 a2 g/a/g/f/|g2 ef g4|a2 fe d2 ef|g4-g4|f2 fe d^cAG|\\nA2 A2 A4|f2 fe d^cAG|A6 (3efg|a2 a2 a2 g/a/g/f/|g2 ef g4|\\na2 f/g/f/e/ d2 ef|g4-g4|=f2 fe d^cAG|AGA_B A4|\\n(3gfe d^c AGAc|d4-d4|]\",\n",
              " 'X:171\\nT:The Millpond\\nB:Music From Ireland, Bk 4\\nZ:Nigel Gatherer\\nM:6/8\\nL:1/8\\nK:G\\nDGG BGG|dGG BGG|DFA DFA|DFA cBA|DGG BGG|\\ndGG BGG|DFA cBA|AGF G3::dgg bgg|aff gee|A^ce aba|\\ngag fed|dgg bgg|aff gee|Add fed|cAF G3:|',\n",
              " 'X:172\\nT:Hens March Through the Midden, The\\nT:Hens March To the Midden, The\\nB:Dave Swarbrick Takes a Bow\\nZ:Nigel Gatherer\\nM:4/4\\nL:1/8\\nK:D\\nA|d2 A2 d>ef>g|(3fga g>f e2 A2|d2 d>d f2 f2|g>fg>^g a2 a>a|\\na>gf>a g>fe>g|f>ed>f e3 A|d>fe>g (3fga g>f|1e2 A2 d3:|2e2 A2 d4||\\nA2 e2 A2 e2|A2 A>c e2 f2|d2 f2 d2 f2|d2 d>e f2 a2|\\nd2 d>e g2 b2|d2 d>e f2 a2|d2 d>e g2 b2|d2 d>e f2 a2|\\na>gf>a g>fe>g|f>ed>f A4|d>fe>g (3fga g>f|e2 A2 d4:|',\n",
              " 'X:173\\nT:Follow Me Down to Galway\\nD:Mike & Mary Rafferty, The Old Fireside Music (1998)\\nZ:Nigel Gatherer\\nM:4/4\\nL:1/8\\nK:Am\\nA2 BG A2 Bd|e2 dg eAAD|G2 GD G2 AB|cABA GEDE|A2 BG A2 Bd|egdg eaae|\\ngedB c2 (3Bcd|egdB BA A2::abae abae|gaba gede|g2 gd g2 (3Bcd|\\ngaba ge d2|abae abae|gaba gede|gedB c2 (3Bcd|egdB BA A2:|',\n",
              " \"X:174\\nT:Mike Flynn's\\nD:Mike & Mary Rafferty, The Old Fireside Music (1998)\\nZ:Nigel Gatherer\\nM:4/4\\nL:1/8\\nK:C dorian (two flats)\\nc>ccd BGFG|B2 df gfdf|gc' c'2 bgfd|c z dB cBGF|c>ccd BGFG|B2 df gfdf|\\ngc' c'2 bgfd|cedB c2 z2::c'>c'c'd' c'bga|bgfd B2 (3def|gbac' bgfd|\\nc z dB cBgf|c'>c'c'd' c'bga|bgfd B2 (3def|gbac' bgfg|b2 c'a bgfd:|\",\n",
              " \"X:175\\nT:Mike Flynn's\\nD:Mike & Mary Rafferty, The Old Fireside Music (1998)\\nN:Transposed from C dorian for comparison\\nZ:Nigel Gatherer\\nM:4/4\\nL:1/8\\nK:A dorian\\nA>AAB GEDE|G2 Bd edBd|ea a2 gedB|A z BG AGED|A>AAB GEDE|G2 Bd edBd|\\nea a2 gedB|AcBG A2 z2::a>aab agef|gedB G2 (3Bcd|egfa gedB|\\nA z BG AGed|a>aab agef|gedB G2 (3Bcd|ea a2 gedB|AcBG A2 z2:|\",\n",
              " 'X:176\\nT:Cottage In the Grove, The\\nD:Arty McGlynn & Nollaig Casey\\nN:Mistakenly called \"Lad O\\'Byrnes\" on the CD\\nZ:Nigel Gatherer\\nM:4/4\\nL:1/8\\nK:A dorian\\nA3 B AE (3EEE|GABd (3efg ed|e a2 f gfdB|BcBA BGEG|ABAG AE (3EEE|\\nGABd (3efg ed|e a2 f gfed|BcBG A3 z::a3 b agef|gedc Bd G2|(3efg fa gedB|\\nBcBA BG E2|aaab agef|gedB G3 B|AAAc (3efg dg|1 edcB cAeg:|2 edcB cA A2|]',\n",
              " \"X:177\\nT:Fields O' Foula, Da\\nD:The Boys of the Lough, Da Day Dawn\\nN:A 6/8 tune from Foula\\nZ:Nigel Gatherer\\nM:6/8\\nL:1/8\\nK:D\\ng|f2 g afd|g2 f e2 g|f2 g afd|fga f2 d|f2 g afd|\\ng2 f e2 A|ABA def|d3 d2::B|ABA F2 A|d2 f ecA|def ecA|\\nBAF DEF|EEE F2 A|d2 f ecA|def ecA|d3 d2:|\",\n",
              " \"X:178\\nT:Cameron Highlanders, The\\nC:James Scott Skinner\\nD:Bumblebees, Buzzin'\\nN:A simplified version\\nZ:Nigel Gatherer\\nM:4/4\\nL:1/8\\nK:A\\ne2|A2 ce A2 ce|f2 ec eaga|ABce ABce|cB B2 B2 e2|A2 ce A2 ce|f2 ec eaga|\\nfaea caBa|cA (3AAA A2::a2|faea caBa|cA (3AAA A2 a2|faea caBa|\\ncB (3BBB B2 a2|faea caBa|cA (3AAA a3 e|(3fga ea caBa|cA (3AAA A2:|\",\n",
              " 'X:179\\nT:Gånglåt från Äppelbo\\nT:Ganglat Fran Appelbo\\nS:Dick Rutter, Edinburgh\\nZ:Nigel Gatherer\\nM:2/4\\nL:1/8\\nK:G\\nD|GG/D/ GB|d3 B/c/|dd/b/ dd/e/|cc/B/ AA/B/|cc/d/ ed/c/|B/c/B/A/ GF/G/|\\nAA/F/ DE/F/|G3::B/d/|gg gf/e/|ff fg/f/|ee e/g/f/e/|\\ned/^c/ d=c/B/|cc/B/ AG/A/|B/c/B/A/ GF/G/|AA/F/ DE/F/|G3:|',\n",
              " 'X:180\\nT:Westering Home\\nS:Too many Christmas parties\\nZ:Nigel Gatherer\\nM:6/8\\nL:1/8\\nK:G\\nF/E/|D>ED DB,D|G2 A B3|c>BA BAG|E2 D D3|D>ED DB,D|G2 A B3|\\nd>BG B2 A|G3 G2::B/c/|d>BG GAB|A>BA D3|DGG GAB|c>Bc A3|\\nd>BG GAB|A>BA D2 c|B2 G B2 A|G3 G2:|',\n",
              " 'X:181\\nT:Thunderhead\\nT:Jig Brest St Marc\\nC:Grey Larsen\\nZ:Nigel Gatherer\\nM:12/8\\nL:1/8\\nK:Bm\\nB3 fBB eBB dBA|B3 fgf edB ABD|B3 fBB eBB def|\\ngfe fed edB ABd::afd edB ABd c3|\\nBcc Bcc dcB c3|afd edB ABd c3|BdB cAa gec d3:|',\n",
              " \"X:182\\nT:MacGregor's March\\nT:Rob Roy's March\\nS:Howard & Co's Melodion Tutor, London, n.d.\\nZ:Nigel Gatherer\\nN:Transposed from C for comparison\\nM:2/4\\nL:1/8\\nK:D\\nAA/B/ AA/B/|Ad d2|BB/c/ BB/c/|Be Bc|AA/B/ AA/B/|\\nAd d2|Be Bc|d z d2::f2 f2|fB B2|\\nBB/c/ Bc|dA A2|f2 f2|fB B2|Be Bc|d z d2:|\",\n",
              " \"X:183\\nT:MacGregor's March\\nS:Peurt a Beul, sung by Norman Kennedy\\nZ:Nigel Gatherer\\nN:Transposed to D for comparison\\nM:2/4\\nL:1/8\\nK:D\\nAA/B/ AA/B/|Ad dc|BB/c/ BB/c/|Be ec|AA/B/ AA/B/|\\nAd de|f>a fe|d2 d2::ff a>f|ed B2|ee f>e|\\ndB A2|ff a>f|ed Bd|f>a fe|d2 d2:|\",\n",
              " \"X:184\\nT:Lady Ann Hope \\nT:Miss Hope's Strathspey \\nC:John Pringle \\nR:Strathspey\\nB:Kerr's Merry Melodies, Book 1\\nZ:Nigel Gatherer\\nN:First published 1800-1\\nM:4/4\\nL:1/8\\nK:G\\nD|G<GG>B A>G E2|c<cc>e d>cB<g|B<BB>G c>AB>G|E>A G/F/E/D/ G2 G:|\\nd|g2 d>g B>gd>f|g2 b>g e2 e>f|(3gab (3agf (3efg (3dcB|\\\\\\n(3cde (3def (3ged (3cBA|\\nG<g d>g B>gd>f|g<gb>g e2 e>f|(3gab (3agf (3gfe (3dcB|\\\\\\ncde (3def g2 g<b|]\",\n",
              " \"X:185\\nT:Mrs Gordon's Favorite\\nS:B:Kerr's Merry Melodies, Book 1\\nZ:Nigel Gatherer\\nN:First published 1800-1\\nM:4/4\\nL:1/8\\nK:G\\nD|G<GG>B \",\n",
              " 'X:186\\nT:Hot Ashpelt\\nB:Something to Sing (Cambridge 1965)\\nZ:Nigel Gatherer\\nM:6/8\\nL:1/8\\nK:Em\\nG|E2 E E2 F|E2 D EFF|\\nG2 A B2 G|A3 B2 d|e2 d B2 A|\\nG2 E E2 D|E2 E E2 B,|D3 G2 F|\\nE2 E E2 F|E2 D E2 F|G2 A B2 G|\\nA3 B2 d|e2 d B2 A|G2 E F2 D|\\nE z2 E z2|E z2 BBB|d2 d d2 B|\\nd d2-d2 B|d2 c B2 c|d2 z z2 d|\\ne2 B B2 A|G E2-E2 F|E2 E E2 B,|\\nD2 z G2 F|EEE E2 F|E2 D E2 F|\\nG2 A B2 G|A2 z B2 d|e2 d B2 A|\\nG2 E FFD|E z2 E z2|E z2 z2|]',\n",
              " 'X:187\\nT:Green Hills of Tyrol\\nS:My memory\\nZ:Nigel Gatherer\\nM:3/4\\nL:1/8\\nK:A\\nD|GA B2 BG|Bc d2 de|Be d>B AA|Ge d>c BD|\\nGA B2 BG|Bc d2 de|Be d>B AA|AG B>A G2|]',\n",
              " \"X:188\\nT:Mason's Apron, The\\nS:Gatherer's Musical Museum, Edinburgh 1987 + others\\nZ:Nigel Gatherer\\nM:4/4\\nL:1/8\\nK:A\\ng2|aA A/A/A ABAF|EFAB cABc|dB B/B/B BcBA|Bcde fdBg|\\naA A/A/A ABAF|EFAB cBBA|Bcde fgaf|edcB A2:|\\ned|(3cBA eA fAed|cA A/A/A fedc|dBfB gBfe|dBfB gfed|\\ncA A/A/A fAeA|ceAc fedc|Bcde fgaf|edcB A2:|\\nfg|afec =c^cAF|EFAB cABc|dBBc dBcA|Bcde fec'b|\\na2 ga fecB|AFEF ABce|fddd fefa|eAcB A2:|\\ned|c2 ec fcec|c2 ec fcec|d2 fd adfd|d2 fd adfd|\\nc2 ec fcec|AGAB cABc|dcBc defg|afec A2 B2|\\nc2 ac gcfc|c2 ac gcfc|d2 ad gdfd|d2 ad gdfd|\\nc2 ac gcfc|AGAB cABc|dcBc defg|afec A2|]\",\n",
              " \"X:189\\nT:Braes of Auchtertyre, The\\nT:Braes of Auchtentyre, The\\nS:Scottish Fiddlers and their Music (Edinburgh 1983)\\nZ:Nigel Gatherer\\nM:4/4\\nL:1/8\\nK:C\\nC3 D EGGA|cded cAGc|A/A/A AG A2 a2|ecge d2 c2|\\nC3 D EGGA|cded cAGc|AcGA FGEc|d/c/B/A/ cE D2 C2:|\\nefga gecg|afdf edcG|A/A/A ag a2 c'2|ecge d2 c2|\\nefga gecg|afdf edcG|AcGA FGEc|d/c/B/A/ cE D2 C2:|\",\n",
              " \"X:190\\nT:Reel of Tullochgorum, The\\nT:Jimmy Allan\\nB:Ian Powrie's Selection (Glasgow, n.d.)\\nZ:Nigel Gatherer\\nM:2/4\\nL:1/8\\nK:D\\nD>E|FD DE|F2 DE/F/|GE EF|G2 FE|Dd dc/B/|A2 F>G|AA GE|D2:|\\nG>E|Dd dc|BA GF|Ee ed|cA Bc|d>e dc/B/|A2 FA|B>A GF/E/|D2:|\",\n",
              " \"X:191\\nT:Lady Belhaven\\nT:Miss Pensy Macdonald\\nB:The Piper's Assistant (Edinburgh 1877)\\nZ:Nigel Gatherer\\nM:4/4\\nL:1/8\\nK:Amix\\nd|cA A/A/A ecae|cA A/A/A dBGB|cA A/A/A eceg|afge dBG:|\\ng|faea daca|Bggd BGGg|faea daca|Baae cAAg|\\nfaea daca|Bggd BGGg|afge f>dec|dBge aAA|]\",\n",
              " \"X:192\\nT:I'm O'er Young to Marry Yet\\nB:Popular Songs and Melodies of Scotland (Glasgow 1893)\\nN:Transposed from D for comparison\\nZ:Nigel Gatherer\\nM:4/4\\nL:1/8\\nK:G\\ne|d<GG>A BAB>c|d<GG>A B<AAe|d<GG>A BAB>d|e>fg>e d<AA|]\\nd|e>fg<e dBb>a|g>fge d<BBd|e>fg<e dBb>a|g>fge dBA|]\",\n",
              " \"X:193\\nT:The Steam Boat\\nB:Kerr's Merry Melodies Book 1 (Glasgow c1803)\\nZ:Nigel Gatherer\\nM:4/4\\nL:1/8\\nK:G\\nd2|g2 bg d2 gd|BcdB G2 B2|c2 ec A2 cA|FGAB cdef|g2 bg d2 gd|\\nBcdB G2 AB|cedc BAGF|A2 G2 G2::Bc|d2 d^c dBGB|c2 cB cAFA|\\nGABc defg|fgag fed^c|d2 d^c dBGB|c2 cB cAFA|cedc BAGF|A2 G2 G2:|\",\n",
              " 'X:194\\nT:The Oyster Tune\\nS:from a friend who heard it on the radio\\nZ:Nigel Gatherer\\nM:6/8\\nL:1/8\\nK:D\\nfge f2 d|dce d2 c|B>cd dce|dfd e>fg|f>ga b2 b|b>ag fdA|\\nB>cd dce|dec d3:|dec B2 A|Bdc dfe|dec B2 A|Bd z dc z|\\ndec B2 A|Bdc dfe|dec B2 A|Bdc d3||f>ga f>ga|gfe d>ef|\\ne>fg f>ga|g2 b b2 g|f>ga b3|b>bb a>aa|g>gg g3|fdA Bdc|\\nd3-d3|c3-c3||fge f2 d|dce d2 c|B>cd dce|dfd e>fg|\\nf>ga b2 b|b>ag fdA|B>cd dce|dec d3|]',\n",
              " 'X:195\\nT:Cutting Ferns\\nS:Various sources\\nZ:Nigel Gatherer\\nM:4/4\\nL:1/8\\nK:Am\\nB|A<A a2 g<e g2|e>dB>A G>AB<G|A<A a2 g<e g2|e>dB<g B<A A:|\\ng|e>dB>A G>AB>G|e>dB>A B2 B>g|e>dB>A G>AB>d|e>dg>B A2 A:|',\n",
              " 'X:196\\nT:Drummond Castle\\nT:Castle Drummond\\nS:Various sources\\nZ:Nigel Gatherer\\nM:6/8\\nL:1/8\\nK:Am\\nB|A>BA a3|age g2 B|c2 c edc|Bdg dBG|A>BA a3|age g3|\\nege deg|edB A2::B|c2c cec|d2 d ded|c2 c edc|\\nBdg dBG|c2 c edc|deg a2 g|ege deg|edB A2:|',\n",
              " 'X:197\\nT:Da Boannie Polka\\nS:Various sources\\nZ:Nigel Gatherer\\nM:2/4\\nL:1/16\\nK:D\\nAG|F2 A2 G2 B2|A2 f2 fafd|B2 e2 efec|A2 D2 D2:|\\nfe|d2 B2 BcdB|A2 F2 F3 A|G2 E2 EFGE| F2 D2 D2:|',\n",
              " 'X:198\\nT:Sister Jean\\nS:Various sources\\nZ:Nigel Gatherer\\nM:2/4\\nL:1/16\\nK:D\\nABde f2 fd|g2 ge f3 g|f2 ef gecd|e2 d2 dedB|ABde f2 fd|g2 ge f3 g|\\nf2 ef gecd|e2 d2 defg||a2 A2 AFAd|B2 G2 A3 g|f2 ef gecd|\\ne2 d2 defg|a2 A2 AFAd|B2 G2 A3 g|f2 ef gecd|e2 d2 d4|]',\n",
              " 'X:199\\nT:A Bruxa\\nS:Rosa Michaelson, Edinburgh fiddler\\nZ:Nigel Gatherer\\nM:3/4\\nL:1/8\\nK:Am\\nec BA Bc|e2 c2 Ad|cB F2 c2|B6|ec BA Bc|e2 c2 Ad|cB F2 B2|\\nA6::AB c2 d2|e6|fe d2 g2|e6::gf ed ef|e2 c2 A2|\\ned cB cd|c2 A2 F2|dc BA Bc|B2 F2 E2|FE F2 ^G2|1A2 c2 e2:|2A6|]',\n",
              " \"X:200\\nT:Nail That Catfish to a Tree\\nC:Steve Rosen\\nS:Pete Budd, Edinburgh\\nZ:Nigel Gatherer\\nM:4/4\\nL:1/8\\nK:G\\nD2|B2 B2 A2 B2|cB A2 B4|ABAG FGAB|A2 F2 E/F/E D2|\\nB2 B2 A2 B2|cB A2 B4|ABAG FDEF|G6:|\\nD2|C4 E4|c6 B2|ABAG FGAB|A2 F2 E/F/E D2|\\nC4 E4|c6 B2||ABAG FDEF|G6 D2|\\nC4 E4|c6 B2|ABAG FGAB|A2 F2 E/F/E D2|\\nC4 E4|c6 Bc|d2 c2 B2 A2|G2 z2 G2|]\\nX:201\\nT:Boganuadh, The\\nT:The New Bob\\nB:Gow's Repository, Bk 1\\nZ:Nigel Gatherer\\nM:4/4\\nL:1/8\\nK:Bm\\nf |: Bcde f2 ea | c<AeA aAec | Bcde faea | c<Aa>c B/B/B f2 :|\\n     B/B/B b^a bBbf| =a>baf defd | efab faea | c<Aa>c B/B/B f2 :|\",\n",
              " 'X:202\\nT:Bottom of the Punchbowl, The\\nD:CoMando Sessions II, disc 1, track 15\\nZ:Nigel Gatherer\\nM:4/4\\nL:1/8\\nK:D\\nFE|\"D\"D2 D2 d3 e|d2 D2 FGAF|\"Em\"E2 E2 efgf|\"A\"edcB AGFE|\\n\"D\"D2 D2 d3 e|fedc d2 A2|\"G\"BcdB \"A\"ABAG|F/G/F D2 D2:|\\nde|\"D\"fedB ABde|fedB d2 A2|\"Em\"B2 e2 e2 de|\"A\"f2 e2 e2 e2|\\n\"D\"fedB ABde|faef d2 A2|\"G\"BcdB \"A\"ABAG|F/G/F D2 D2:|',\n",
              " \"X:203\\nT:Rory O' More\\nD:Jimmy Shand 78: Beltona BL 2229\\nZ:Nigel Gatherer\\nM:6/8\\nL:1/8\\nK:A\\nf|eAA cBA|eAA A2 f|edc cBA|GBB B2 f|eAA cBA|\\nede fed|cee efg|aAA A2::e|agf edc|dcB A2 G|\\nF2 G A2 B|cee efg|agf edc|dcB A2 G|F2 G A2 B|cee e2:|\",\n",
              " \"X:204\\nT:The Dublin Jig\\nD:Jimmy Shand 78: Beltona BL 2229\\nZ:Nigel Gatherer\\nM:6/8\\nL:1/8\\nK:A\\nc|EAA cAA|eAA cAA|fga ecA|BcB BAF|EAA cAA|eAA cAA|\\nfga ecA|BcB A2::e|eaa c'aa|baa c'aa|eaa c'aa|\\nbc'b baf|eaa c'aa|bab c'af|efe ded|cAA A2:|\",\n",
              " 'X:205\\nT:The Blackthorn Stick\\nD:Jimmy Shand 78: Beltona BL 2229\\nZ:Nigel Gatherer\\nM:6/8\\nL:1/8\\nK:A\\ne|aga faf|ecA BAF|EAA GAB|cAc B2 e|aga baf|ecA BAF|\\nEAA GAB|cAA A2::e|cee aee|fee aee|cee agf\\n|edc B2 e|aga baf|ecA BAF|EAA GAB|cAA A2:|',\n",
              " \"X:206\\nT:Andy Dejarlis Jig\\nT:Tom Trainor's\\nS:Rosa's Session, 30/12/00\\nZ:Nigel Gatherer\\nM:6/8\\nL:1/8\\nK:E\\nz|EGB EGB|EGB c2 B|EGB EGB|=DFA B2 A|EGB EGB|\\nEGB c2 a|gfe Bcd|e3 e2::a|g2 g efg|aga c2 e|f3 fge|\\ndcB c2 B|gbg efg|aga c2 e|fgf Bcd|e3 e2:|\",\n",
              " 'X:207\\nT:Miss Wharton Duff\\nC:William Marshall\\nZ:Nigel Gatherer\\nR:march\\nM:2/4\\nL:1/16\\nK:Bb\\nB,2|B4 c4|dfdB AcAF|E2g2 D2f2|C2 ec dBAF|\\nB4 c4|dfdB AcAF|E2g2 B2b2|dBcA B2:|\\nfg/a/|b2f2 edcB|bfed edcB|e2g2 G2c2|ecdB BAGF|\\nE2g2 D2f2|C2ec dBAF|bfdB ecdB|FBAc B2:|',\n",
              " 'X:208\\nT:Loch Ordie\\nC:James MacIntosh, Dunkeld\\nB:A Collection of Reels, Strathspeys, etc (1930)\\nZ:Nigel Gatherer\\nR:reel\\nM:4/4\\nL:1/8\\nK:Gm\\nD|DGG^F G2 Bc|d2 cB AFFA|DGG^F GBdg|fdcA BGG:|\\nd|g2 dg bgdg|f2 cf afcf|g2 dg bgdg|fdcA dGGd|\\ng2 dg bgdg|f2 cf afcf|gbag fgdg|fdcA BG G|]',\n",
              " 'X:209\\nT:Caledonian Laddie\\nD:The Loose Moose Ceilidh Band\\nZ:Nigel Gatherer\\nR:Hornpipe\\nM:4/4\\nL:1/8\\nK:D\\nFE|D3 E FEFA|BABd e2 f2|dcBA GBFA|G2 E2 EGFE|D3 E FEFA|\\nBABd e2 f2|dcBA GBEG|F2 D2 D2::de|f3 f gfed|cdec A2 Bc|\\nd2 B2 Bcde|f2 B2 B2 d2|A3 B AFED|gfge fefd|edcB ABde|f2 d2 d2:|',\n",
              " 'X:210\\nT:Frank Gilruth\\nC:Peter Milne\\nB:Flowers of Scottish Melody (1935)\\nZ:Nigel Gatherer\\nR:reel\\nM:4/4\\nL:1/8\\nK:E\\ne2 dc BEGB|cFAc BEGB|e2 dc BEGB|cedf cagf|e2 dc BEGB|cFAc BEGB|\\nedec BEGB|cedf gee||g|agfe dece|Bede geeb|agfe dece|\\nBedf geeg|agfe dece|Bede geea|gbge fafd|egec dfdB|]',\n",
              " \"X:211\\nT:Sailor's Wife, The\\nS:Rosa's Session, 30/12/00\\nZ:Nigel Gatherer\\nR:jig\\nM:6/8\\nL:1/8\\nK:Em\\nEFG F2 E|e2 f g2 a|bag fed|BdB AFD|EFG F2 E|\\ne2 f g2 a|bag fe^d|e3 e3::gab gab|gab bga|fda fda|\\nfda agf|gab bag|fga agf|efg fe^d|e3 e3:|\",\n",
              " 'X:212\\nT:Inchmagranachan\\nC:James MacIntosh, Dunkeld\\nB:A Collection of Reels, Strathspeys, etc (1930)\\nZ:Nigel Gatherer\\nR:Strathspey\\nM:4/4\\nL:1/8\\nK:Gm\\nD|G<G B>d g>agd|f>gfc A<FF>A|G<G B>d g>bag|f>dc>A B<GG:|\\nd|g>agd g>agd|f>dc>B A<FF>d|g>agd g>bag|f>dc>A B<GG>d|\\ng>agd g/^f/g/a/ ba/g/|fadf A<FF>A|(3BAG (3AG^F (3GBd (3gab|\\\\\\n(3fdc (3cBA BGG|]',\n",
              " 'X:213\\nT:Gander In the Pratie Hole\\nS:Sessions\\nZ:Nigel Gatherer\\nR:Jig\\nO:Irish\\nM:6/8\\nL:1/8\\nK:D\\nFAD FAD|GFG EFG|FAD FAD|GED D3|FAD FAD|\\nGFG EFG|fed ecA|GED D3::Add ded|=cAB cAG|\\nAdd ded|=cAB c2 B|Add ded|=cAB cde|fed ecA|GED D3:|',\n",
              " 'X:214\\nT:Off to Puck Fair\\nT:My Wife\\'s a Wanton Wee Thing\\nD:\"Strings Attached\" by Mick Moloney\\nZ:Nigel Gatherer\\nR:Jig\\nM:6/8\\nL:1/8\\nK:D\\nf/e/|d2 A (3Bcd A|dcd A2 B|=cdc GEG|=cdc Afe|d2 A (3Bcd A|dcd ABG|\\nFDF ECE|D3 D2::F/G/|ABA FDF|ABA FDF|G=cG E=CE|G=cG E=CE|\\nABA FDF|ABA A2 g|fed cfe|d3 d2::e|f2 d A2 F|ABF Ade|fg^g afd|\\n(3efg f ede|f2 d A2 F|ABA A2 g|fed cfe|d3 d2::F/G/|A (3FED DFA|\\nBGE Ee/f/g/a/|bge efd|cde A2 a|d\\'af dAF|GAB Eag|fed cfe|\\nd3 d2::F/G/|ABA ABc|d2 A FDF|F2 G EDE|B2 A F2 G|ABA ABc|\\ndfd AFD|GBA GFE|D3 D2::e|f2 d AFA|f2 d Afa|g2 f e2 d|\\n(3cde c AFA|f2 d AFA|f2 d AFA|Bgf edc|d3 d2:|',\n",
              " 'X:215\\nT:Star of Munster, The\\nS:Sessions in Edinburgh, Scotland\\nZ:Nigel Gatherer\\nR:Reel\\nM:4/4\\nL:1/8\\nK:Adorian\\ned|c2 Ac B2 GB|AGEF GE D2|EAAG ABcd|eaaf gfed|\\ncBAc BAGB|AGEF GE D2|EAAB cded|cABG A2|]\\nz2|eaab ageg|agbg agef|gfga gedf|(3gfe af gedg|\\neaab ageg|agbg agef|g2 ge a2 af|b2 ba gfed|]',\n",
              " 'X:216\\nT:Morning Star, The\\nS:Sessions in Edinburgh, Scotland\\nZ:Nigel Gatherer\\nR:Reel\\nM:4/4\\nL:1/8\\nK:G\\nB2 BA BGEF|G2 Bd efge|dBBA BGEF|GBAF G2 gf|\\nedBA BGEF|G2 Bd efge|dBBA BGEF|GBAF G3|]\\nA|Bdef g2 eg|f2 df edBA|Bdef g2 eg|fedf e3 z|\\nBdef g2 eg|f2 df edBA|Bdef g2 eg|faaf gfed|]',\n",
              " \"X:217\\nT:Willie Taylor's Fiddle\\nS:Radio Scotland, 1991\\nZ:Nigel Gatherer\\nR:Reel\\nM:4/4\\nL:1/8\\nK:A\\ncB|A2 GA FA E2|Acea fedc|dcdf eAce|c2 B2 B2 cB|\\nA2 GA FA E2|Acea fedc|dcdf ecdB|c2 A2 A2:|\\ncd|eaga fecA|Bdfb gefg|a2 ga faea|c2 B2 B2 cd|\\neaga fecA|Bdfb gefg|a2 ea caBa|c2 A2 A2 cd|\\neaga fecA|Bdfb gefg|a2 ga faea|c2 B2 B2 cB|\\nA2 GA FA E2|Acea fedc|dcdf ecdB|c2 A2 A2|]\",\n",
              " \"X:218\\nT:Miss Grace Hay's Delight\\nB:The Gow Collection (New York 1986)\\nZ:Nigel Gatherer\\nR:Jig\\nM:6/8\\nL:1/8\\nK:G\\nG2 c B2 c|dBd efg|G2 c B2 c|dBG AFD|E2 C CEG|\\nF2 D D2 c|B/c/dB cAF|G3 G3:|d2 g f2 g|afd e^cA|fga B^cd|\\nefd ^cBA|afa geg|fdf e^cA|Bgf ed^c|d2 d d=cB|c2 c cac|\\nB2 B BgB|ABA ABc|dBG AFD|E2C CAG|F2 D D2 c|B/c/dB cAF|G3 G3|]\",\n",
              " 'X:219\\nT:Reel On Mandolin\\nD:We Have Met Together, Mick Moloney, 1973\\nZ:Nigel Gatherer\\nR:Reel\\nM:4/4\\nL:1/8\\nK:D\\ndB|AF (3FFF BFAF|DEFA B3 d|eB (3BBB egfe|dfed BcdB|\\nAF (3FFF BFAF|DEFA BABd|egfg (3eee dB|AFEF D2:|\\nA2|dcde fefg|afbf afdf|eB (3BBB g2 eg|fgaf e/f/e dB|\\nAF (3FFF ABde|fb (3bbb afdf|g2 fg edBd|AFEF D2:|',\n",
              " 'X:220\\nT:Rolling Wave, The\\nB:Dance Music of Willie Clancy (Dublin 1976)\\nZ:Nigel Gatherer\\nN:rough transcription only\\nM:6/8\\nR:Jig\\nL:1/8\\nK:D\\nFEF D3 | D2 d cAG | FEF D3 | AAF GFE |\\nFEF D3 | D2 d cAG | E F2 G3 | (4AcAF GFE :|\\nD2 d cAd | cAd cAG | F2 d cAG | A2 F GFE |\\nD2 d cAc | ded cAG | (4FGAF GBG | AAF GFE |\\nD2 d cAd | cAd cAG | F2 d cAG | FAF GFE |\\nD2 d cde | (4gfed cAG | E F2 G3 | A2 F GFE |]',\n",
              " 'X:221\\nT:Rope Waltz, The\\nS:West Edinburgh Folk Group, circa 1995\\nZ:Nigel Gatherer\\nM:3/4\\nR:Waltz\\nL:1/8\\nK:D\\nA2 G2|F3 G^GA|D4 d2|c3 d^de|A4 G2|F3 G^GA|D4 F2|E6-|E2 A2 G2|\\nF3 G^GA|D4 d2|c3 d^de|A4 G2|F3 G F2|E3 F E2|D2 F2 A2|\\nd2 d2 e2|f4 e2|d4 c2|d2 c2 B2|A6|g4 f2|e4 d2|ce- e4-|e2 d2 e2|\\nf4 e2|d4 c2|d2 c2 B2|A4 G2|F3 G F2|E3 F E2|D6-|D2 z4|]',\n",
              " 'X:222\\nT:Orcadian Waltz\\nD:Jimmy Shand 78 (Parlophone R 4218) \\nN:From memory, so not 100% accurate\\nZ:Nigel Gatherer\\nM:3/4\\nR:Waltz\\nL:1/8\\nK:D\\nAG|F4 A2|D4 d2|c4 e2|A4 G2|F4 A2|D4 F2|E6-|E4 AG|\\nF4 A2|D4 d2|c4 e2|A4 G2|F3 G F2|E3 F E2|D2 F2 A2|\\nd2 d2 e2|f4 e2|d4 c2|d2 c2 B2|A6|g4 f2|e4 d2|e6|e2 d2 e2|\\nf4 e2|d4 c2|d2 c2 B2|A4 G2|F3 G F2|E3 F E2|D6-|D4|]',\n",
              " \"X:223\\nT:Quince Dillon's High D\\nS:Pete Budd, Edinburgh  \\nN:Probably mutated by excessive playing\\nZ:Nigel Gatherer\\nM:4/4\\nO:USA\\nL:1/8\\nK:D\\n(3A,B,C|D2 D2 F2 A2|dcde dc B2|A2 A2 c2 (3ef^g|a2 a2 d'3 z|\\nD2 D2 F2 A2|dcde dc B2|ABAG FD E2|D6 (3A,B,C|\\nD2 D2 F2 A2|dcde dc B2|A2 A2 c2 (3ef^g|a2 a2 d'3 z|\\nD2 D2 F2 A2|dcde dc B2|ABAG FD E2|D4||abag|\\nf d2 d d2 A2|defg a2 gf|e =c2 c c2 A2|=cdef g2 ag|\\nf d2 d d2 A2|defg a2 A2-|ABcd egfe|d4 abag|\\nf d2 d d2 A2|defg a2 gf|e =c2 c c2 A2|=cdef g2 ag|\\nf d2 d d2 A2|defg a2 A2-|ABcd egfe|d6 |]\",\n",
              " 'X:224\\nT:Cavan Reel, The\\nT:The College Grove\\nT:The Green Jacket\\nB:Ceol Rince na hEireann Bk 2\\nN:from Johnny Maguire, whistle palyer\\nZ:Nigel Gatherer\\nM:4/4\\nO:Ireland\\nL:1/8\\nK:D\\nD2 (3FED A2 FA|ABcA dBcA|D2 (3FED A2 AB|cAGE ED D2|\\nD2 FD ADFA|ABcA dBcA|D2 (3FED A2 AB|cAGE ED D2:|\\nf2 df fddf|e2 cA BG e2|ff/f/ de fd d>d|cABG ED/E/ D2|\\nfddf f2 df|e2 cA BG e2|Addc defg|a2 ge ed d2:|',\n",
              " 'X:225\\nT:Crieff Fair\\nB:Bremner, 1760 (via RSCDS Bk 10)\\nZ:Nigel Gatherer\\nM:4/4\\nL:1/8\\nK:Dm\\nd | ABAG FGAB | cdcA cdcB | ABAG FGAg | fde^c d2 d :|\\nA | defg afge | fdcA FGAc | defg afge | fde^c d2 d :|\\nA | defg afge | fdcA FGAc | AcFc dbag | fde^c d2 d :|',\n",
              " 'X:226\\nT:Lay Dee At Dee\\nS:Johnny Cradden, Edinburgh\\nO:Shetland\\nZ:Nigel Gatherer\\nM:4/4\\nL:1/8\\nK:D\\nA2 | defe d2 d2 | ABAG F2 D2 | d2 ef gf e2 | efed cB A2 |\\ndefe d2 d2 | ABAG F2 D2 | d2 ef gfec | e2 d2 d2 :|\\ne2 | f2 df afdf | afdf g3 f | e2 ce Aece | edcB A2 e2 |\\nf2 df afdf | afdf g3 f | efgf edcB | A2 d2 d2 :|',\n",
              " \"X:227\\nT:Sir Adam Ferguson's Reel\\nT:The Lads of Leith\\nT:Sic a Wife as I Hae Gotten\\nS:J.Riddell via Murdoch Henderson\\nZ:Nigel Gatherer\\nM:4/4\\nL:1/8\\nK:Em\\nB,EEF E/F/G FE | A,DDE D/E/F ED | GFED EFGA | Bedc B2 E2 :|\\neB BA/B/ gfed | Adfa gfed | eB BA/B/ gfed | g>bag f2 ed |\\neB BA/B/ gfed | Adfa gfed | g>bge fafd | gfed e2 E2 |]\",\n",
              " \"X:228\\nT:Star of the County Down, The\\nS:So long ago I can't remember\\nZ:Nigel Gatherer\\nM:4/4\\nL:1/8\\nK:Em\\nB,D|E2 E2 E2 DE|G2 G2 A2 GA|B2 AG ED B,2|D6 B,D|\\nE2 E2 E2 DE|G2 G2 A2 GA|B2 AG E2 E2|E6|]\\nBc|d2 B2 B2 AG|A2 A2 A2 GA|B2 AG ED B,2|d6 B,D|\\nE2 E2 E2 DE|G2 G2 A2 GA|B2 AG E2 E2|E6:|\",\n",
              " \"X:229\\nT:Seamus O'Brien\\nT:James O'Brien\\nB:The Grumbling Old Woman (Donna Hinds)\\nN:From the playing of Eleanor Townsend\\nZ:Nigel Gatherer\\nM:3/4\\nR:Waltz\\nL:1/8\\nK:G\\ng>f | e2 d2 B>A | G4 D>D | E2 G2 E2 | D2- D>E D>C | B,2 D2 G>B | e2 d2 B2 |\\nA4- A>B | A4 g>f | e2 d2 B>A | G4 D>D | E2 G2 c2 | e2- e>g f>e | \\nd2 B2 G>B | A2 E2 F2 |g4- G>A | G4 || B2 | e2- e>d e>f | g2 f2 e2 | \\nf2 B2- B>B | B4 B2 | e2- e>d e>f | g2 f2 g2 | f4 f2 | g4 f2 | e2 d2 B>A | \\nG4 D>D | E2 G2 c2 | e2- e>g f>e | d2 B2 G>B | A2 E2 F2 | G4- G>A | G4 |]\",\n",
              " \"X:230\\nT:Jig Runrig, The\\nC:Fergie MacDonald\\nB:Fergie's Collection (1998)\\nZ:Nigel Gatherer\\nM:6/8\\nR:Jig\\nL:1/8\\nK:D\\nf/e/|d2 d BAA|FAA BAA|Bdd AAA|fee efe|\\nd2 d BAA|FAA BAA|Bdd Aff|edd d2:|\\ng|faa eff|daa caa|Bdd AAA|fee e2 g|\\nfaa eff|daa caa|Bdd Aff|edd d2 g|\\nfaa eff|daa caa|Bdd AAA|fee efe|\\nd2 d BAA|FAA BAA|Bdd Aff|edd d2|]\",\n",
              " \"X:231\\nT:Scott Skinner' Rockin' Step\\nC:James Scott Skinner\\nB:Harp & Claymore, 1903 (via The Scottish Violinist)\\nZ:Nigel Gatherer\\nM:4/4\\nL:1/8\\nK:D\\ne|c>e A/A/e c>eA>e|c>e A/A/e A/A/e a>e|c>e A/A/e c/e/e A/e/e|G,/B/B g/B/B d2 d:|\\nf|e>ac>a A/A/A a2|A/A/A a2 f2 e<a|e>ac>a A/A/A g2|G,/B/B g/B/B d2 df|\\ne>ac>a A/A/A a2|A/A/A a2 f2 e/f/g|a/f/a g/e/g f/d/f e/c/e|G,/B/B g/B/B d2 d|]\",\n",
              " \"X:232\\nT:Grande Chaine, La\\nD:Boys of the Lough, can't remember which\\nZ:Nigel Gatherer\\nM:4/4\\nL:1/8\\nK:G\\nD2|B3 c BAGB|d2 d2 BGBd|cdcB AFAc|dedc BGGA|\\nB3 c BAGB|d2 d2 BGBd|cdcB AFDF|G3 G G2:|\\nz2|gagf efge|d2 d2 BGBd|cdcB AFAc|dedc BG G2|\\ngagf efge|d2 d2 BGBd|cdcB AFDF|G3 G G2:|\",\n",
              " 'X:233\\nT:Thrush In the Straw\\nB:Music From Ireland (Bulmer & Sharpley)\\nZ:Nigel Gatherer\\nM:6/8\\nR:Jig\\nL:1/8\\nK:G\\nd|efg edB|c2 A AGE|DEG BdB|ABA ABd|efg edB|\\nc2 A AGE|DEG AGA|BGF G2::D|GBd gfg|age edB|ged e/f/ge|\\ndBA ABd|efg edB|c2 A AGE|DEG AGA|BGF G2:|',\n",
              " 'X:234\\nT:Apprentice Lads of Alnwick, The\\nT:The Lads of Alnwick\\nB:The Master Piper (1995)\\nN:from the Dixon manuscript 1733\\nZ:Nigel Gatherer\\nM:3/2\\nL:1/8\\nK:D\\na4 e2 fg agfe|c2 A2 e2 A2 cdec|a4 e2 fg agfe|d2 B2 f2 B2 d2 f2:|\\nABcd e2 c2 e2 c2|ABcd e2 c2 e2 a2|ABcd e2 c2 e2 c2|Bcde f2 B2 d2 f2:|\\ne2 a2 cdec a2 c2|af a2cd e2 af a2|e2 a2 cdec a2 c2|Bcde f2 B2 d2 f2:|\\nABcd efed cdec|efed cdec e2 a2|ABcd efed cdec|Bcde f2 B2 d2 f2:|\\nceae ceae ceae|ceae a2 c2 e2 a2|ceae ceae ceae|Bcde f2 B2 d2 f2:|',\n",
              " \"X:235\\nT:Fisherman's Lilt, The\\nT:The Lilting Fisherman\\nT:Joe Derrane's\\nS:Radio Scotland, Travelling Folk\\nZ:Nigel Gatherer\\nM:6/8\\nR:Jig\\nL:1/8\\nK:G\\nB/c/|dBG GBd|gfg ege|dBG GFG|AFD cBA|\\ndBG GBd|gfg ege|dBG FGA|BGG G2:|\\nK:D\\nF/G/|ABA AFD|fgf f2 e|dce dcB|AFF F2 F|\\nAFA AFA|BGB B2 d|cde ABc|d3 d2:|\",\n",
              " \"X:236\\nT:Little Pickle\\nB:jerry Holland's Collection\\nZ:Nigel Gatherer\\nM:6/8\\nR:Jig\\nL:1/8\\nK:A\\nE|A3 cBA|EAB cBA|dcB fdB|bge efg|a2 A cBA|\\nEAB cBA|dcd efg|aec A2::B|A2 a aga|Acd ecA|\\n=G2 g gfg|B=GB dcB|A2 a aga|Acd ecA|dcd efg|aec A2:|\",\n",
              " 'X:237\\nT:Gay Gordons, The\\nC:James Scott Skinner\\nB:Master Method for Highland Bagpipe (1953)\\nZ:Nigel Gatherer\\nM:2/4\\nR:March\\nL:1/8\\nK:A\\ne|A>B cB/A/|d>e fe/d/|ca cB/A/|cB Be|\\nA>B cB/A/|d>e fe/d/|ca e/c/d/B/|cA A:|\\nc/e/|a>f ed/c/|d>e fe/d/|ca cB/A/|cB Bc/e/|\\na>f ed/c/|d>e fe/d/|ca e/c/d/B/|cA A:|',\n",
              " 'X:238\\nT:Rothiemuchus Rant\\nB:Athole Collection (1884)\\nZ:Nigel Gatherer\\nN:\"Ironed out\" for comparison to The Graf Spee\\nM:4/4\\nL:1/8\\nK:C\\nG|EDEC EG G2|cGAG cGAc|EDEC EGGc|A<cGc EDD:|\\nf|e2 dc dedB|cded e/d/c/B/ cG|A/A/A ag e2 dc|A<cGc EDD:|\\nf|egga gagd|eaab abag|egde cdec|Aage edd:|\\ng|e2 dc de a2|geed cAAc|GAcd e2 dc|A<cGc EDDg|\\ne2 dc de a2|geed cAAe/g/|aegd e2 dc|AcGc EDD|]',\n",
              " 'X:239\\nT:Mrs Ramsay of Barnton\\nB:RSCDS Book 20\\nZ:Nigel Gatherer\\nM:4/4\\nL:1/8\\nK:Em\\nE>FG>A B<e e2|d>BA>G F<DD>F|E>FG>A B<ee>f|g>eB>^d e/e/e e>f|\\ng>ef>^d e<BB>^c|d>BA>G F<DD>F|E<GF>A G>Be>g|f<da>f g<ee>f|\\ng<ef>^d e<BB>^c|d>BA>G F<DD>f|g>ef>^d eBB>e|B>e^d>f e2-e>f|\\ng>eB>g f<^de>^c|d>BA<d F>D^C>F|E>GF>A G<Be>g|b<Bg>f e4|]',\n",
              " \"X:240\\nT:Maids of Tulla, The\\nB:O'Neill's Dance Music of Ireland\\nZ:Nigel Gatherer\\nM:4/4\\nL:1/8\\nK:A\\neA (3cBA EA (3cBA|eAce fedc|bB (3dcB fB (3dcB|defg agaF|\\neA (3cBA EA (3cBA|eAcA fedc|defg afec|dfed cAAg|]\\naA (3AAA EAcA|aA (3AAA fedc|bB (3BBB FBdB|bB (3BBB defg|\\naA (3AAA EAcA|aAAg fedc|defg afec|dfed cAAa|]\",\n",
              " \"X:241\\nT:Clean Pea Strae\\nT:Pea Strae\\nB:Kerr's Merry Melodies Book 1\\nZ:Nigel Gatherer\\nN:Transposed to G for comparison\\nM:4/4\\nL:1/8\\nK:G\\nD2|G2 B2 cABG|ADDE =F2 ED|GABG cABG|AcBA G2:|\\nBc|dBGB dBGB|ADDE =F2 Bc|dBGB dBGB|AcBA GABc|\\ndBGB dBGB|ADDE =F2 Bc|dBcA BGAF|DcBA GFED|]\",\n",
              " 'X:242\\nT:Traditional Reel In G\\nT:Primrose Lasses\\nS:Gillian Boucher, Edinburgh April 2001\\nZ:Nigel Gatherer\\nM:4/4\\nL:1/8\\nK:G\\ng|edBA G2 GE|DEGA BAAg|edBA G2 GE|DEGA BGGA|\\nBdAB G2 GE|DEGA BAAg|edBA G2 GE|DEGA BGG|]\\nB|d2 gd edgd|Bdgd BAAB|d2 gd efge|dBAc BGGB|\\nd2 gd edgd|Bdgd BAAB|dBde g2 ge|dBAc BGG|]',\n",
              " 'X:243\\nT:Jack Wilson\\nS:Bruce Molsky, Edinburgh February 1999\\nN:From the playing of John Salyer.\\nN:Drone the D string throughout B part.\\nZ:Nigel Gatherer\\nM:4/4\\nL:1/8\\nK:D\\nef|g2 ga gedg|edeg a2 a2|a g2 a gedg|edBd A2 ef|\\ng2 ga gedg|egab a2 ef|gaba gedg|edBd A2 F2|]\\nA2 Bc defd|edBc d2 d2|A2 Bc defd|edBd A2 F2|\\nA2 Bc defd|edBc d2 ef|g2 ga gedg|edBd A2 F2:|',\n",
              " 'X:244\\nT:Spootiskerry\\nC:Ian Burns, Shetland\\nS:Sessions\\nZ:Nigel Gatherer\\nM:4/4\\nL:1/8\\nK:G\\nDE|G2 DE GDEG|DEGA B2 AB|G2 DE GABd|eged B2 AB|\\nG2 DE GDEG|DEGA B2 AB|g2 ed edBA|B2 G2 G2:|\\nef|g2 ed ed B2|BABG E2 DE|GABd eged|B2 A2 A2 ef|\\ng2 ed ed B2|BABG E2 DE|GABd eged|B2 G2 G2 ef|\\ng2 ed ed B2|BABG E2 DE|GABd eged|B2 A2 A2 DE|\\nG2 DE GDEG|DEGA B2 AB|g2 ed edBA|B2 G2 G2|]',\n",
              " \"X:245\\nT:Irish Reel II\\nB:Kerr's Merry Melodies, Bk.2, p27\\nZ:Nigel Gatherer\\nM:4/4\\nL:1/8\\nK:Em\\ndc|BE (3EEE BEGA|BcdB ADFA|BE (3EEE GEGA|Be^df ge=dc|\\nBE (3EEE BEGA|BcdB ADFA|BE (3EEE GEGA|Be^df ge e2|]\\nBeef gfeg|fede fafd|Beef gfe=c|BAGF GE E2|\\nBeef gfeg|fede fagf|e^def gfe=d|BAGF E2|]\",\n",
              " \"X:246\\nT:Irish Reel III\\nT:Teetotaller Reel\\nT:Temperance Reel\\nB:Kerr's Merry Melodies, Bk.2, p32\\nZ:Nigel Gatherer\\nM:4/4\\nL:1/8\\nK:F\\nFD|CF (3FFF FGAB|cAdB cAGF|A>D (3DDD DEFG|AFGE FDCA,|\\nCF (3FFF FGAB|cAdB cAGF|A>D (3DDD DEFG|AFGE F2|]\\nz2|A>d (3ddd d3 f|efge fedc|A>c (3ccc c3 d|efge fedc|\\nA>d (3ddd d3 f|efge fedc|ABcA GECD|EDD^C D2|]\",\n",
              " \"X:247\\nT:Irish Reel IV\\nT:Lowlands of Scotland, The\\nT:Hare's Foot\\nB:Kerr's Merry Melodies, Bk.2, p32\\nM:4/4\\nL:1/8\\nK:Em\\ne2|G2 GA BE E2|BEdE BEEF|G2 GA BABd|egfd e2:|\\nef|(3gag (3fgf edBc|d2 ed Bd d2|(3gag (3fgf edBd|egfd e2 ef|\\n(3gag (3fgf edBc|d2 ed Bd d2|bgaf gfed|egfd e2|]\",\n",
              " 'X:248\\nT:Bonnie Kate\\nT:Boys of Limerick\\nN:Irish version of \"The Bonnie Lass of Fisherrow\"\\nN:by Scottish composer Donald Dow.\\nB:Kerr\\'s Merry Melodies Bk.4, p7\\nZ:Nigel Gatherer\\nM:4/4\\nL:1/8\\nK:D\\n(3dcB|AFdA (3Bcd AF|DFAF EDEF|AFAd BGBd|(3cBA Bc dcdB|\\nAdcd BdAF|DFAF EDEF|AFAc BGBd|(3cBA Bc defg||\\nagfd (3fga fd|fagf e^def|gfga gbag|fedc defg|\\na2 fd (3fga fd|fagf edef|g2 gf gbag|fedc d2||',\n",
              " \"X:249\\nT:Rustic Reel\\nB:Kerr's Merry Melodies Bk.1, p29\\nZ:Nigel Gatherer\\nM:6/8\\nL:1/8\\nK:D\\nA|f2 e dcB|A2 F D2 E|FGF FED|F3 E2 A|f2 e dcB|A2 F D2 E|\\nFGF EDE|D3 D2||A|g2 e f2 d|c2 d ecA|g2 e f2 d|cec A2 A|\\ng2 e f2 d|cde fga|ece dcB|A2 B cde||f2 e dcB|A2 F D2 E|\\nFGF FED|F3 E2 A|f2 e dcB|A2 F D2 E|FGF EDE|D3 D2||\",\n",
              " \"X:250\\nT:Irish Lilt, An\\nB:Kerr's Merry Melodies Bk.2, p27\\nZ:Nigel Gatherer\\nM:6/8\\nL:1/8\\nK:A\\nEAA cAA|eAA cAA|EAA cAA|BAB cAA|EAA cAA|eAA cAA|\\naga ecA|BAB cAA::aga ecA|cAc efg|aga ecA|BAB cAA|\\naga ecA|cAc efg|aga ecA|BAB cAA::EAA cee|dff cee|\\nEAA cee|BAB cAA|EAA cee|dff cee|aga ecA|BAB cAA:|\\nX:251\\nT:Slip Jig\\nB:Kerr's Merry Melodies Bk.4, p23\\nZ:Nigel Gatherer\\nM:9/8\\nL:1/8\\nK:D\\nF2 A ABA B3|B2 e e2 d cBA|F2 A ABA B3|A2 d d2 A FED:|\\nfaf f2 d f2 a|b2 e e2 d cBA|faf f2 d f2 a|A2 d d2 A FED|\\nfaf f2 d f2 a|b2 e e2 d cBA|faf efe d3|A2 d d2 A FED|]\",\n",
              " \"X:252\\nT:Jig in A\\nB:Kerr's Merry Melodies Bk.4, p25\\nZ:Nigel Gatherer\\nM:6/8\\nL:1/8\\nK:A\\nAA|EAA AGA|Bdd dBd|eae dBG|ABA GFE|EAA AGA|\\nBdd dBd|eae dBG|BAA A::cd|eaa e3|eaa bag|eaa e3|\\nBGB dBG|eaa e3|eaa bag|eae dBG|BAA A:|\",\n",
              " \"X:253\\nT:Jig in G\\nB:Kerr's Merry Melodies Bk.4, p24\\nZ:Nigel Gatherer\\nM:6/8\\nL:1/8\\nK:G\\nD|BBB B2 D|BBB B2 d|gfe dcB|d2 c A2 B|ccc c2 D|\\nccc c2 e|edB dcA|GBd g2::f|gfg agf|bag agf|gfg bag|\\nfdd def|gfg agf|gab bag|gab agf|g3- g2:|\",\n",
              " 'X:254\\nT:Untitled Jig\\nS:Radio Scotland, 1991\\nZ:Nigel Gatherer\\nM:6/8\\nL:1/8\\nK:D\\nA2 d dcB|ABA FED|FFF FEF|FED EFG|A2 d dcB|\\nABA F3|fdf gec|edc d3::A2 d dfa|agf efg|fdf ged|\\ncdc BcB|A2 d dfa|agf efg|fdf gec|edc d3:|',\n",
              " 'X:255\\nT:Willafjord\\nO:Shetland\\nS:Sessions in Edinburgh\\nZ:Nigel Gatherer\\nM:4/4\\nL:1/8\\nK:D\\nB2|A2 FA- ADFA|B2 GB- BDGB|A2 FA- ADFA|EFGA GFED|\\nA2 FA- ADFA|B2 GB- BDGB|ABcd efge|f2 d2 d2:|\\ne2|f2 df- ffdf|geaf gfed|f2 df- fAdf|e2 ce- eAce|\\nf2 df- ffdf|geaf gfed|ABcd efge|f2 d2 d2:|',\n",
              " \"X:256\\nT:Double Jig\\nB:Kerr's Merry Melodies Bk.4, p25\\nZ:Nigel Gatherer\\nM:6/8\\nL:1/8\\nK:A\\n(3E/F/G/|AcB Afd|cea cea|AcB AGA|GBe GBe|AcB Afd|\\ncea cea|fdB Abc|BAB A2::c|eaf faf|faf ecA|dfd ecA|\\necA B2 A|faf fag|faf ecA|dfd ecA|EFG A2:|\",\n",
              " 'X:257\\nT:McKenzie Highlanders\\nB:Master Method for Highland Bagpipe (1953)\\nZ:Nigel Gatherer\\nM:2/4\\nL:1/8\\nK:A mixolydian\\ne/d/|cB/c/ A/>B/c/>d/|eA Ae/d/|cB/c/ A/>B/c/>d/|e2 ea|\\ncB/c/ A/>B/c/>d/|eA Ag|BA/G/ gB/G/|d2 d:|\\ng|ac/A/ ef/d/|eA Ag|ac/A/ ef/d/|e2 eg|\\nac/A/ ef/d/|eA Ag|BA/G/ gB/G/|d2 dg|\\nac/A/ ef/d/|eA Ag|ac/A/ ef/d/|e2 eg|\\nag/f/ gf/e/|fe/d/ eg|BA/G/ gB/G/|d2 d|]',\n",
              " \"X:258\\nT:Lochaber No More\\nB:Kerr's Merry Melodies Bk.3, p47\\nZ:Nigel Gatherer\\nM:3/4\\nL:1/8\\nK:G\\nGA|B2 B2 Bc|B2 A2 Bd|e2 A2 AB|B2 A2 GA|BdcBAG|E2 D2 GA|\\nB2 G2 GA|G4::GA|B2 B2 Bc|d2 cBAB|G2 g2 ga|a2 g2 GA|\\nB2 B2 Bc|d2 cBAB|G2 g2 ga|g4 de|=f2 f2 ed|e4 EG|\\nA2 A2 (3GAB|B2 A2 GA|BdcBAG|E2 D2 GA|B2 G2 GA|G4:|\",\n",
              " \"X:259\\nT:Star o' Robbie Burns, The\\nB:Allan's Violin Gems\\nZ:Nigel Gatherer\\nM:4/4\\nL:1/8\\nK:G\\nD2 ^C>D G2 F2|E2 G2 D3 E|D2 G2 A3 B|A6 D2|D3 G G2 F2|E3 A A2 B2|\\nA2 F2 F2 E2|D6 D2|c3 B A^GAB|G6 G2|A3 A B2 A2|d6 D2|D3 E FGAB|\\nc6 E2|D2 G2 A3 G|G6||D2|B,3 A, G,2 B,2|D3 E D2 G2|E2 G2 D G3|\\nA6 D2|B3 A G2 D2|E2 G2 c2 E2|1 D2 G2 A3 G|G6:|2 D2 G2 A d3|g6:|\",\n",
              " \"X:260\\nT:Saddle the Pony\\nT:Langstrom's Pony\\nS:Judith Tait, Edinburgh\\nZ:Nigel Gatherer\\nM:6/8\\nL:1/8\\nK:A mixolydian\\nfed cAA|eAA cAA|fed cAA|BGB dBG|fed cAA|eAA efg|\\nf/g/af gfe|dBG Bcd::cee dff|cee ecA|cee dff|\\ndBG Bcd|cee dff|cAA efg|f/g/af gfe|dBG Bcd:|\",\n",
              " \"X:261\\nT:Highlander's Jig\\nT:Cold Wind from Ben Wyvis\\nB:Kerr's Merry Melodies Bk3, p32\\nZ:Nigel Gatherer\\nM:6/8\\nL:1/8\\nK:A\\nd|c2 e ece|fdf ecA|c2 e ef=g|B=GB B2 d|c2 e ece|fdf ecA|\\ncec dBG|ABA A2::g|a2 f g2 e|fdf ecA|a2 f =g2 d|\\nB=GB B2 ^g|a2 f g2 e|fdf ecA|cec dBG|ABA A2:|\",\n",
              " 'X:262\\nT:Chicago Reel\\nS:As played by Oisin\\nZ:Nigel Gatherer\\nM:4/4\\nL:1/8\\nK:A dorian\\nB|c2 cB cAGE|G2 GE GAcd|ecgc acgc|eaag eged|\\ncded cAGE|G2 GE GAcd|eaag eged|cABG A3:|\\nB|cdef g2 ef|g2 gd BGGB|cdef ge c2|eaag aged|\\ncdef g2 fg|a3 f g2 ag|f3 d (3efg ed|cABG A3:|',\n",
              " \"X:263\\nT:Casey's Pig\\nT:Duke of Gordon's Birthday\\nR:Highland\\nS:Juergen Gier\\nZ:Nigel Gatherer\\nM:4/4\\nL:1/8\\nK:G\\nG2 GD EDGB|(3cBA gB A2 AB|GAGD EDGD|(3EFG DC B,G,G,D:|\\ngabg d2 df|gabg e2 ef|(3gab (3efg dgBG|AGAB G2 G2:|\",\n",
              " 'X:264\\nT:Polka\\nT:Haughs of Cromdale\\nS:Anne Sheehy-McAuliffe, Co. Kerry.\\nZ:Nigel Gatherer\\nM:2/4\\nL:1/8\\nK:Em\\nBE EB|BA FA|BE EF|D>E FA|BE EB|BA FA|d>B AF|E2 E2|]\\nBe ef|ed BA|Be ef|d2 BA|Be ef|ed BA|d>B AF|E2 E2|]',\n",
              " \"X:265\\nT:Dumbarton Drums\\nR:reel\\nS:Loose sheet in my collection (possibly from RSCDS)\\nZ:Nigel Gatherer\\nM:4/4\\nL:1/8\\nK:Em\\nGA|B3 d BcAB|G2 d>e d2 cB|AGAB cBAG|E2 e>f e2 de|\\ng3 a bage|dBde g3 G|ABge dBAG|E2 e.f e2:|\\nde|g3 a gaba|g2 b>c' b2 ag|agab c'bag|e2 a>b a2 ge|\\ndega bage|dBde g2 ga|bage dBAG|E2 e>f e2:|\",\n",
              " \"X:266\\nT:Mrs Oliphant of Condie's\\nR:reel\\nB:Kerr's Merry Melodies Bk.2p14\\nZ:Nigel Gatherer\\nM:4/4\\nL:1/8\\nK:G\\nd|B<GG>d B/c/d/B/ GB|E<AA>G F<DD>d|B<GG>d B/c/d/B/ Gg|\\\\\\ne<gd>c B<GG:|\\nd|g<ab>g a<eg>d|e<g dc/B/ a<AA>d|g>ab>g a<eg>d|e<gd>c B<GGd|\\ng<ab>g a<eg>d|e<g dc/B/ a<AA>d|b>ga<e g<d ed/c/|B<gd>c B<GG|]\",\n",
              " 'X:267\\nT:C K Sharpe Esq Favourite\\nC:A Pirie\\nS:MS, Atholl Collection, Perth\\nZ:Nigel Gatherer\\nM:6/8\\nL:1/8\\nK:G\\n(3B/c/^c/|d2 B g2 D|b2 g gfg|afd def|gdB GBc|d2 B g2 d|\\nb2 g gfg|afd def|a3 g2||z|B2 c d2 e|d2 g b2 g|f2 e a2 g|\\nfge d2 c|B2 c d2 e|d2 g b2 g|fea def a3 g2||B|[G3B3e2] [B3^d3f3]|\\ng2 g gfe|^d2 b b2 a|agf e2 B|e3 B3|c2 A F2 c|b3 B^c^d|\\ne3 e2||(3B/c/^c/|d2 B g2 D|b2 g gfg|afd def|\\ngdB GBc|d2 B g2 d|b2 g gfg|afd def|a3 g2|]',\n",
              " \"X:268\\nT:Mrs Gordon's Favourite\\nB:4th Part of Gow's Repository, 1817\\nZ:Nigel Gatherer\\nM:2/4\\nL:1/8\\nK:Em\\nz|B,/A/E/>D/ EF|B>A F2|B2 E/G/F/E/|D>^C B2|E>DEF|B<d^cB|\\nB>B B/A/F/E/|E3:||B|e>e d/B/d/e/|f>f g/f/e/d/|B>A A/B/d/F/|\\nD3 B|e>e d/B/d/e/|f>f g/f/e/d/|B>A A/B/d/f/|e3 B|e>e d/B/d/e/|\\nf>f g/f/e/d/|B>A A/B/d/F/|D3 B,|e/d/e/f/ BA/F/|\\\\\\nED d>A|B>B B/A/F/E/|E3|]\",\n",
              " 'X:269\\nT:Britches Full of Stitches\\nS:Derek Hoy\\nZ:Nigel Gatherer\\nM:2/4\\nL:1/8\\nK:Em\\nA>B cA|BA cA|A>B cA|BA F2|\\nA>B cA|BA ce|A>B AF|FE E2:|\\ne>f ec|BA Bc|e>f ec|BA F2|\\ne>f ec|BA Bc|A>B AF|FE E2:|',\n",
              " 'X:270\\nT:Captain Campbell\\nS:Gillian Boucher, Edinburgh session 27/6/01\\nZ:Nigel Gatherer\\nM:4/4\\nL:1/8\\nK:Am\\nE<AA>B c>AB<G|D<GG>A B>d c/B/A/G/|E<AA>B c>Bc<e|d<Bg>B A2 A2:|\\nA<aa>g e>dc<e|d>eg>e d/c/B/A/ G<B|A<aa>g e>dc<e|d<Bg>B A2 A2|\\nA<aa>g e>dc<e|d>eg>e d/c/B/A/ G<B|c<Ad>B e>dc<e|d<Bg>B A2 A2|]',\n",
              " 'X:271\\nT:Bonawe Highlanders, The\\nC:Pipe Major John McColl\\nS:My notebooks - forgotten where I got it\\nZ:Nigel Gatherer\\nM:6/8\\nL:1/8\\nK:A\\ne|:A>ce e>cA|e>dc c>Bc|A>ce e>cA|B>AB c2 A|A>ce e>cA|c>BA a2 e|\\nf<af ecA|B>AB c2 A::a3 a2 e|faf e>cA|a3 a2 e|f<ag f2 e|\\nf>ef fec|ABc a2 e|f<af e>cA|B>AB c2 A::cBc A>AA|e>cA c>BA|\\ncBc A>AA|B>AB c2 A|cBc A>AA|e>cA a2 e|f<af ecA|B>AB c2 A:|\\na>ea =g>fe|f<af e>cA|a>ea =g>fe|f<ag f2 e|f>ef f>ec|\\nA>Bc a2 e|f<af e>cA|B>AB c2 A|a>ea =g>fe|f<af e>cA|\\na>ea =g>fe|f<ag f2 e|a>AA c>BA|A>Bc a2 e|f<Af e>cA|B>AB c2 A|]',\n",
              " \"X:272\\nT:Donald's Awa Tae the War\\nS:Loose Sheet - Ayr & Prestwick Strathspey & Reel Soc\\nZ:Nigel Gatherer\\nM:6/8\\nL:1/8\\nK:A\\ne|a2 A ABA|cdc cBA|e2 f e2 c|cBA B2 e|a2 A ABA|cdc cBA|\\ne2 f e2 c|BGB A2:|e|efg a2 g|fdf edc|efg a2 g|fdf e2 c|\\nefg a2 e|faf ecA|e2 f e2 c|BGB A2 e|efg a2 g|fdf edc|\\nefg a2 g|fdf e2 c|aga a2 e|faf ecA|e2 f e2 c|BGB A2|]\",\n",
              " 'X:273\\nT:Unknown\\nS:Slow session, Edinburgh 18/7/01\\nZ:Nigel Gatherer\\nM:3/4\\nL:1/8\\nK:D\\nd2 f2 a2|f2 d2 B2|efgfed|fedcBA|',\n",
              " \"X:274\\nT:Stormont Lads\\nB:The Piper's Assistant (1877)\\nZ:Nigel Gatherer\\nM:4/4\\nL:1/8\\nK:G\\ng|dGd>B GB d2|eAe>d AB/d/ e2|g>aeg d>GBd|ed/e/ gB A2 G:|\\nB|Ggg>f gG B2|Aaa>g aA a2|g>aeg d>GBd|e>dg>B A2 GB|\\nGg f/g/a/f/ gG B2|Aa f/g/a/g/ aA a2|ga/g/ eg/e/ d>GBd|\\\\\\ned/e/ gB A2 G|]\",\n",
              " 'X:275\\nT:Madam Frederick\\nT:The Recovery\\nC:William Marshall\\nB:The Skye Collection (1887)\\nZ:Nigel Gatherer\\nM:4/4\\nL:1/8\\nK:A\\nc|A,>B,C>D E>FE<C|A,CE<C E<AA>c|A,>B,C>D E>FE<C|B,>B d/c/B/A/ G<BB>c|\\nA,>B,C>D E>FE<C|A,CE<C E<AA>c|ecAE Fdfe|dcBA GBB|]\\nc|A<A c>A e>Ac>A|E>Ac>A f/e/d/c/ Bc|A<A c>AeAcA|F>A F/E/D/C/ B,BBc|\\nA<A c>A e>Ac>A|E>Ac>A f/e/d/c/ Bc|A>cA<E F>AF<D|E>DC>B, A,AA|]',\n",
              " \"X:276\\nT:Jump At the Sun\\nC:John Kirkpatrick (?)\\nS:Cassette tape, many years ago\\nZ:Nigel Gatherer\\nM:6/8\\nL:1/8\\nK:Gm\\nz|GBd ^c2 d|GBd ^C2 d|gdd gdd|dcB A3|GBd ^c2 d|\\nGBd ^C2 d|gdd edc|BcA G2::d|gdd bag|add c'ba|bag bag|\\na^fd e2 d|gdd bag|add c'ba|gdd edc|BcA G2:|\",\n",
              " 'X:277\\nT:Bramley Brae\\nC:William MacPherson (1919-1974)\\nS:Learned from Seonaid Lynn, Edinburgh\\nZ:Nigel Gatherer <gatherer@argonet.co.uk>\\nM:4/4\\nL:1/8\\nK:D\\nd2 cd AFDd|cdAF DFAF|E2 EF GFED|CDEF GABc|d2 cd AFDd|cdAF DFAF|\\nE2 gf edcB|1 Acec d2 (3ABc:|2 Acec defg||a2 ^ga fdAa|^gafd Aa^ga|=gfeg bagf|\\nedcB Acec|d2 cd AFDd|cdAF DFAF|E2 gf edcB|1 Acec defg:|2 Acec d2|]',\n",
              " 'X:278\\nT:Brumley Brae, The\\nC:William MacPherson (1919-1974)\\nB:The Scots Fiddle, J Murray Neil (Moffat 1991)\\nZ:Nigel Gatherer <gatherer@argonet.co.uk>\\nM:4/4\\nL:1/8\\nK:D\\nA2|d2 cd AFDd|cdAF DFAF|E2 EF GFED|CEGB =cA^cA|d2 cd AFDd|cdAF DFAF|\\nBegf edcB|AGFE D2:|a2|^gafd Aa^ga|fdAa ^gafd|eBBe bagf|\\nedcB A^ABc|d2 cd AFDd|cdAF DFAF|G,B,DB, A,CEG|F2 D2 D2:|',\n",
              " 'X:279\\nT:Old Joe Clark\\nS:John Greig, Edinburgh\\nZ:Nigel Gatherer <gatherer@argonet.co.uk>\\nM:4/4\\nL:1/8\\nK:A\\ne2 f2 =g2 f2|efed c4|e2 f2 =g2 f2|e4-e4|\\ne2 f2 =g2 f2|efed c4|cBAc BA G2|A4-A4:|\\nA2 AB cBcd|efed cB A2|A2 AB cB A2|=G4-G4|\\nA2 AB cBcd|efed cB A2|cBAc BA G2|A4-A4:|',\n",
              " 'X:280\\nT:Old Joe Clark\\nS:Inspired by Ken Brooks\\nZ:Nigel Gatherer <gatherer@argonet.co.uk>\\nM:7/8\\nL:1/8\\nK:A\\ne2 f2 =gaf|efed c2 d|e2 f2 =gaf|e2 ef ecd|\\ne2 f2 =gaf|efed ced|cBAc BAG|1A4-Acd:|2A4 AEF|]\\nA2 Ac Bcd|efed cBA|A2 AB cBA|=G4 GEF|\\nA2 Ac Bcd|efed cBA|cBAc BAG|1A4 AEF:|2A4-A3|]',\n",
              " 'X:281\\nT:Francis T Robertson\\nS:Learned from Judith Tait, Edinburgh, c.1995\\nZ:Nigel Gatherer <gatherer@argonet.co.uk>\\nM:4/4\\nL:1/8\\nK:A\\ne|A2 AB cAce|a2 ae fece|A2 AB cAce|dBcA BEGB|\\nA2 AB (3cBA ce|a2 ae fecA|d2 fd c2 ec|afec ec A:|\\ne|a2 ae fecB|Acea fecA|a2 ae fecA|Bbba geeg|\\na2 ae fecB|Acea fecA|d2 fd c2 ec|afec ec A:|',\n",
              " \"X:282\\nT:Arthur Darley's\\nT:The Swedish Jig\\nD:Mick Moloney, Strings Attached\\nZ:Nigel Gatherer <gatherer@argonet.co.uk>\\nM:6/8\\nL:1/8\\nK:D\\nABA AGF|EDC D2 D|Ade fed|efc d2 d|Ade fed|\\nedc d3|BAG FED|\\nM:9/8\\nECD DA,B, CDE|\\nM:6/8\\nDdd ede|fef g2 g|fed edc|1d2 d dcB:|2d2 d d=c_B|]\\nK:Dm\\nA2 f fef|A2 f fef|Aff Agg|Aaa Abb|A2 f fef|A2 f f2 g|\\nfed ed^c|1d3 dcB:|2d3-d2|]\\nK:D\\ne|fed edc|(3ddd d BAG|\\nFED EDC|DA,B, CDE|Ddd ede|fef g2 g|fed edc|d3 d2:|\",\n",
              " 'X:283\\nT:French Canadian Reel\\nD:Chris Wood & Andy Cutting, ? (199?)\\nZ:Nigel Gatherer <gatherer@argonet.co.uk>\\nM:4/4\\nL:1/8\\nK:D\\nA|D2 FA dfed|B2 GB AGFE|D2 FA dfed|Aceg fd d2|\\nD2 FA dfed|B2 GB AGFE|D2 FA dfed|Aceg fd d:|\\nA|defd A2 Af|gfge cABc|defd A2 Af|gfge cABc|\\ndefd A2 Af|gAfA e2 ef|gefd ecdF|GBAF GF E2|afge fdec|\\ndAFA B2 ge|fdeg fedF|GBAF GF E2|afge fdec|Aceg fd d2|]',\n",
              " 'X:284\\nT:Gatehouse Maid, The\\nS:As played by Niall Kenney, flute player\\nZ:Nigel Gatherer <gatherer@argonet.co.uk>\\nM:4/4\\nL:1/8\\nK:G\\nG2 BG EFGE|FDFA dAFD|G2 BG EFGA|BcBA GFEF|G2 BG EFGE|FDFA dAFD|\\nG2 BG EFGA|BcBA G3 z||eB (3BBB efge|fede fagf|eB (3BBB efge|\\nfagf (3efg f2|eB (3BBB efge|fede fagf|eB (3BBB cBAG|d2 de fdAF|]',\n",
              " 'X:285\\nT:Sporting Paddy\\nS:Played by Burke, Cooney & Corcoran on Radio Scotland, 1995\\nZ:Nigel Gatherer <gatherer@argonet.co.uk>\\nM:4/4\\nL:1/8\\nK:A dorian\\nEA (3AAA GABG|EAAB GEDF|EAAB GABd|edge dBAG|EA (3AAA GABG|EAAB GEDF|\\nEAAB GABd|edge d3||e|ge (3eee gede|ge (3eee a2 ba|ge (3eee gedg|\\nefge d3 e|ge (3eee gede|ge (3eee a2 ga|(3bag af gedg|efge dBAG|]',\n",
              " 'X:286\\nT:Mill, Da\\nD:Tom Anderson & Aly Bain, The Silver Bow\\nO:Shetland\\nN:\"Work tune\"\\nZ:Nigel Gatherer <gatherer@argonet.co.uk>\\nM:4/4\\nL:1/8\\nK:A mixolydian\\nABcd e2 f2|d2 dd d2 fe|dcBA ABcA|B2 EE E2 ec|\\ndcBA ABcA|d2 dd d2 fe|dcBA (3Bcd cB|A2 A>B A4:|\\necAc ecAc|fdBd fdBd|AFDF AFDF|BGEG BG E2|\\necAc ecef|d2 dd d2 fe|dcBA (3Bcd cB|A2 A>B A4:|',\n",
              " \"X:287\\nT:Mrs Charles Menteath of Clofa Burn's Jig\\nC:Robert Riddel, c.1790\\nS:Rosa Michaelson, Edinburgh\\nO:Scotland\\nZ:Nigel Gatherer <gatherer@argonet.co.uk>\\nM:9/8\\nL:1/8\\nK:Em\\nB,|B,2 E EFG F2 E|D2 d dd/e/f/g/ afd|efg fga gab|B2 e ef^d e2:|\\ng/a/|bge bge bge|afd f/g/af afd|bge bge bge|B2 e ef^d e2 g/a/|\\nbge bge bge|afd f/g/af afd|efg fga gab|B2 e ef^d e2|]\",\n",
              " 'X:287\\nT:J B Milne\\nC:Angus Fitchett\\nS:Rosa Michaelson, Edinburgh\\nO:Scotland\\nZ:Nigel Gatherer <gatherer@argonet.co.uk>\\nM:2/4\\nL:1/8\\nK:A\\nc/d/|e/f/e/d/ cA|EA c2|c/e/d/c/ BA|d3 B/c/|d/e/d/c/ BG|\\nEG B2|B/d/c/B/ AB|c3 c/d/|e/f/e/d/ cA|EA c2|c/e/d/c/ BA|\\nf3 f/g/|a/f/^d/=c/ A a/g/|f/e/c/A/ E g/f/|(3e/f/e/ ^d/e/ fg|a3|]\\nc/d/|ec fc|ec fc|e2 f/e/d/c/|d3 B/c/|dB eB|dB eB|\\nd2 e/d/c/B/|c3 c/d/|ec fc|ec fc|(3a/b/a/ g/a/ b/a/g/a/|\\nf3 f/g/|a/b/a/g/ f/a/g/f/|f/e/c/A/ E g/f/|(3e/f/e/ d/e/ fg|a3|]',\n",
              " 'X:288\\nT:Kail an Knockit Coarn\\nS:Possibly from the \"Tocher\" periodical (can\\'t remember)\\nN:A shetland version of the Scots reel The\\nN:Bob of Fettercairn\\nO:Shetland\\nZ:Nigel Gatherer <gatherer@argonet.co.uk>\\nM:4/4\\nL:1/8\\nK:G\\ng|:G2 BG dGBG|Gz G,z g2 fg|(3AAA ^cA eAcA|edef g2 fg|\\nG<GBG dGBG|Gz G,z g2 fg|aefd edBG|AcBA G2 g2:|\\ndgBg dgBg|dBdg f2 ed|e^cac ecac|edef g2 fg|\\ndgBg dgBg|dBdg f2 ef|gefd edBG|A<ABd e2 g2:|',\n",
              " \"X:289\\nT:Miss Spence's Reel\\nS:Tom Anderson and Aly Bain\\nO:Shetland\\nZ:Nigel Gatherer\\nM:4/4\\nL:1/8\\nK:D\\nA | d2 AG F2 DF | E =C2 E c3 A | B2 AG F2 D2 | D d2 c d3  :|\\ne | fafd  fafd  | egec   egec | fafd  fafd  | egec   d3 :|]\",\n",
              " \"X:290\\nT:Old Joe Clark\\nS:Can't remember\\nZ:Nigel Gatherer <gatherer@argonet.co.uk>\\nM:4/4\\nL:1/8\\nK:A\\nz2|eAfA =gAfA|efed cAcd|eAfA =gAfA|e2 ef e2 cd|\\neAfA =gAfA|efed c4|cBAc BA G2|A4-A2:|\\nE2|A2 AB cBcd|efed cB A2|A2 AB cB A2|=G4-G2 A2|\\nA2 AB cBcd|efed cB A2|cBAc BA G2|A4-A2 E2|\\nA2 AB cBcd|efed cB A2|A2 AB cB A2|=GFGA BA G2|\\nA2 AB cBcd|efed cB A2|cBAc BA G2|A4-A4|]\",\n",
              " \"X:291\\nT:Auld Gudeman, The\\nS:Can't remember\\nZ:Nigel Gatherer <gatherer@argonet.co.uk>\\nM:6/8\\nL:1/8\\nK:G\\nD|G>AG F2 D|G>AB A2 D|G>AG F2 D|E>FE D2 E/F/|G>AG FED|\\nG>AB A2 D|GAG FED|E>FE D2::D|GFG ABc|d>cB A2 D|\\nG>FG ABc|B>AG d2 D|G>FG ABc|d>cB A2 D|G>AG F2 d|E2 F G2:|\",\n",
              " \"X:292\\nT:Pheasant's Dance\\nD:Cut & Dry Band\\nO:Northumbria\\nZ:Nigel Gatherer <gatherer@argonet.co.uk>\\nM:6/8\\nL:1/8\\nK:G\\nB2 c ded|c2 B ABc|dBG E2 A|FDF G3:|\\nB2 G c2 A|B2 G A2 g|dBG E2 A|FDF G3:|\\nBdB cec|AcA BdB|GBG AcA|FDF G3:|\\nf2 d gdB|gdB a2 A|Bcd E2 A|FDF G3:|\",\n",
              " 'X:293\\nT:Billy Ballantine\\'s Reel\\nC:Billy Ballantine\\nD:Holey Ha\\'penny\\nN:This could be Billy\\'s version of\\nN:\"J B Milne\" by Angus Fitchett\\nO:Northumbria\\nZ:Nigel Gatherer <gatherer@argonet.co.uk>\\nM:2/4\\nL:1/8\\nK:G\\nd|d^c/d/ ed|BB B>A|GF/G/ AG|E3 A/B/|c/B/A/B/ cA|ff f>e|\\nd^c/d/ ed|cB B2|d^c/d/ ed|BB B>A|G>G Bd|e3 f|g>g fe|\\ne d2 d|d (3c/B/A/ EF|G3::B|dB/B/ eB/B/|dB/B/ eB|dB g/f/e/d/|\\nc3 A/B/|cA fA/A/|cA/A/ ff/g/|a/g/f/e/ d/^c/d/e/|B3 B/c/|dB/B/ eB/B/|\\ndB/B/ eB|d/B/A/G/ B/G/B/d/|e3 f|g>g fe|e d2 d|d (3c/B/A/ EF|G3:|',\n",
              " 'X:294\\nT:Atholl Braes #1\\nD:Silly Wizard, Silly Wizard (1976)\\nO:Scotland\\nZ:Nigel Gatherer <gatherer@argonet.co.uk>\\nM:4/4\\nL:1/8\\nK:G\\nz2|D3 E G3 B|AGAB AG E2|D3 E G3 B|AGAB G2:|\\nAB|c2 ec B2 dB|AGAB AG E2|c2 ec B2 dB|AGAB G2 AB|\\nc2 ec B2 dB|AGAB AG E2|D3 E G3 B|AGAB G2|]',\n",
              " 'X:295\\nT:Atholl Braes #2\\nD:Silly Wizard, Silly Wizard (1976)\\nO:Scotland\\nZ:Nigel Gatherer <gatherer@argonet.co.uk>\\nM:4/4\\nL:1/8\\nK:A\\nz|A2 AB d2 df|edef efBd|A2 AB d2 df|edef d2:|\\nef|g2 bg f2 af|edef edBd|g2 bg f2 af|edef d2 ef|\\ng2 bg f2 af|edef edBd|A2 AB d2 df|edef d2|]',\n",
              " \"X:296\\nT:Lord Breadalbane's March\\nB:Songs of Scotland Without Words, J T Surenne\\nN:Transposed from another key (no shaps or flats)\\nZ:Nigel Gatherer <gatherer@argonet.co.uk>\\nM:6/8\\nL:1/8\\nK:D\\nd|A>BA f>ed|B>AB d>BG|A>BA f>ed|B>ee e2 d|A>BA f>ed|B>AB d<BG|\\nA>BA f>ed|B>ee e2||d|e>fe a>fe|f>ef f>ed|e>fe a<fe|\\ne>fe e2 d|e>fe a<fe|f>ef f>ed|a>fe f>ed|Bee e2|]\",\n",
              " \"X:297\\nT:Flanagan's Jig\\nB:Kerr's Merry Melodies Bk 3\\nN:Slightly evolved over time\\nZ:Nigel Gatherer <gatherer@argonet.co.uk>\\nM:6/8\\nL:1/8\\nK:D\\nAdd Bdd|Add Bdd|ABc def|gee e3|Add Bdd|Add Bdd|\\nABc def|edd d3||dfa agf|ged cBA|dfa agf|gab a2 f|\\ngbg faf|efd cBA|ABc def|edd d3|]\",\n",
              " \"X:298\\nT:Mrs Crawford\\nB:Jerry Holland's Collection\\nZ:Nigel Gatherer <gatherer@argonet.co.uk>\\nM:4/4\\nL:1/8\\nK:D\\nA2 A>A B/<A/G/<F/ AB/c/|d>e f>e d<BB<d|A2 A>A B/<A/G/<F/ d>A|\\nB/A/G/<F/ A/>G/F/<E/ D4::a>b af dA df|1 e>f g/<f/e/<d/ B2 BA|\\na>b af dA df|ef/g/ a/<g/f/<e d4:|2 e>f g/<f/e/<d/ B2 d2|\\nA>B AF Ad B/A/G/<F/|E/>D/E/<F/  A/>G/F/<E/ D4|]\",\n",
              " 'X:299\\nT:Air for New York\\nC:Nigel Gatherer\\nZ:Nigel Gatherer <gatherer@argonet.co.uk>\\nM:4/4\\nL:1/8\\nR:Slow air\\nK:D\\nF/E/|D3 F A3 d/e/|fAAf gBBd|c3 d ecBA|fdAF EF/G/ FE|\\nD3 F A3 d/e/|fAAf gBBd|c3 d ecBA|d4- d3|]\\nF/G/|A3 c/d/ G3 c/d/|Ac/d/ eg f3 e|dc/d/ FA B>ggB|AffA GF/G/ EF/G/|\\nA3 c/d/ G3 c/d/|Ac/d/ eg g>aa>g|fAAf gBBd|c>AGE D3|]',\n",
              " \"X:300\\nT:Fitzmaurice's Polka\\nC:John Kimmel\\nS:Buttons & Bows\\nZ:Nigel Gatherer <gatherer@argonet.co.uk>\\nM:2/4\\nL:1/16\\nR:Polka\\nK:G\\nD|:G2G2 FGAF|G2g2 efge|dedB GABG|ABAF DE (3FED|\\nG2 GG FGAF|Gg efge|dedB GABG|1 AFDF GDDD:|2 AFDF G3G|]\\nK:D\\nA2FG ABcd|D2c2 c2 z2|GGGG BBBB|F2FF F3A|\\nA2FG ABcd|B2GA ABcd|B2GA BGBd|gfge cABc|dBAF D3A:|\\nf4 fedB|A2A2 A3A|B2B2 BcdB|A2d2 f2d2|c6 Bc|d6 c2|B4- BcdB|\\ne2c2 B2A2|f2f2 fedB|A2A2 A3A|B2B2 Bcde|f4 f2f2|\\ng2g2 g2fe|a2a2 a2fd|B2 z2 c2 z2|1 d2A2 B2A2:|2 d2DD E2D2|]\\nK:G\\nG2G2 FGAF|G2g2 efge|dedB GABG|ABAF DE (3FED|\\nG2GG FGAF|G2g2 efge|dedB GABG|AFDF G3 z|]\\nX:301\\nT:O'Keeffe's Slide\\nS:Sessions, LPs, etc\\nZ:Nigel Gatherer <gatherer@argonet.co.uk>\\nM:12/8\\nL:1/8\\nK:Am\\nA2 e e2 d BAB d2 B|A2 e e2 d B2 G GFG|\\nA2 e e2 d BAB d3|BAB d2 e B2 A A3:|\\ne2 a a2 b a2 g e2 d|e2 a a2 b a2 g e2 f|\\ng2 a g2 e dBA G3|BAB d2 e B2 A A3:|\",\n",
              " 'X:302\\nT:Marchioness of Huntly, The\\nT:Aboyne Castle\\nC:Peter Milne\\nB:Fiddle Music of Scotland, Jas Hunter\\nZ:Nigel Gatherer <gatherer@argonet.co.uk>\\nM:4/4\\nL:1/8\\nK:A\\nC|A,>B,C>F E<CA,>c|d>B d/c/B/A/ B<GE<C|A,>B,C>F E<CA,>d|\\n(3cde (3dcB c<AA>C|A,>B,C>F E<CA,>c|d>B d/c/B/A/ B<EG<B|A<EF>A E<CD>d|\\n(3cde (3dcB c<AA>e|a>e d/c/B/A/ e<Ac>A|d>e d/c/B/A/ B<EG<B|\\na>e d/c/B/A/ e>Ac<A|B<b e/d/c/B/ c<AA>e|a>e d/c/B/A/ e>Ac>A|\\nD<F C<E B,>E G<B|A>EF<A E>CD>d|cd/e/ d/c/B c<A A2|]',\n",
              " 'X:303\\nT:Auchindrain\\nC:Nigel Gatherer\\nZ:Nigel Gatherer <gatherer@argonet.co.uk>\\nM:4/4\\nL:1/8\\nK:Dm\\nA2|D2 FD ADFd|cgec fedf|eA (3AAA BAGE|FAGE FDE^C|\\nD2 FD ADFd|cgec fedf|eA (3AAA BAGE|F2 D2 D2:|\\nA2|dA (3AAA fde^c|dABG AFGE|FD (3DDD BAGA|EGcA fed^c|\\ndA (3AAA fde^c|dABG AFGE|FD (3DDD ^CEAG|F2 D2 D2:|',\n",
              " 'X:304\\nT:Star of the Lothians, The\\nC:Nigel Gatherer\\nZ:Nigel Gatherer <gatherer@argonet.co.uk>\\nR:Reel\\nM:4/4\\nL:1/8\\nK:Bm\\nF2|BFdB cA F2|Bcde fa/f/ ec|BFdB cA F2|BdcA fecd|BFdB cA F2|\\nBcde fa/f/ ec|defd cdeg|fdec B2::Bc|d2 fd afed|(3cBA eA fAec|\\nd2 fd afed|Bdcd B2 Bc|d2 fd afed|(3cBA eA fA e2|faaf eaac|dfec B2:|',\n",
              " 'X:305\\nT:Soggy Path, The\\nC:Nigel Gatherer\\nZ:Nigel Gatherer <gatherer@argonet.co.uk>\\nM:2/4\\nL:1/8\\nR:Polka\\nK:D\\ndA dA|f/g/f/e/ dA|B/c/d Af|ed B2|dA dA|f/g/f/e/ dA|G/A/B A>c|ed d2:|\\nfd de/f/|gB Bd|c/d/e B>c|BA a2|fd de/f/|gB Bd|c/d/e A>c|ed d2:|',\n",
              " \"X:306\\nT:Seonaid's Reel\\nC:Nigel Gatherer\\nZ:Nigel Gatherer <gatherer@argonet.co.uk>\\nR:Reel\\nM:4/4\\nL:1/8\\nK:G\\nD2|G2 G2 BcdB|cAFE DF F/G/A|G2 DG BcdB|cAFA fdaf|g2 dc BcdB|\\ncAFE DF F/G/A|GB (3BBB cAdc|B2 G2 G2::Bd|g2 g2 fgaf|gdBA GBdg|\\na2 a^g afdf|ed^ce d2 ef|g2 dg fgaf|gdBA GBdg|ecAG FAdc|B2 G2 G2:|\",\n",
              " 'X:307\\nT:East Parkside\\nC:Nigel Gatherer\\nZ:Nigel Gatherer <gatherer@argonet.co.uk>\\nR:Air\\nM:3/4\\nL:1/8\\nK:D\\nFE|D4 FG|A4 cd|B4 cd|A4 cd|G4 cd|F4 cd|e4- eA|g4 ag|\\nf3 def|e3 cde|d2 c2 B2|A F3 D2|A,2 DE F2|A,2 CD EF|G6-|G4:|\\nAG|F3 Adc|d4 A2|G3 Bdc|d4 B2|A2 c2 d2|B2 c2 d2|e4- eA|g4 ag|\\nf2 defd|e2 cdec|d2 c2 B2|A F3 D2|A,2 DE F2|A,2 CD EF|G6-|G4:|',\n",
              " 'X:308\\nT:Frosty Morning\\nS:Fuzzy Mountain String Band\\nZ:Nigel Gatherer\\nM:4/4\\nL:1/8\\nK:Am\\na4 a4|abag edcd|ede^f gagf|edcd e4|\\nA4 c3 c|dc d2 e2 ed|cBAc BA G2|A4 A4:|\\nEDEG A2 A2|cAcd e2 (3DEF|G2 BA G2 D2|GABc d4|\\nEDEG A2 A2|cAcd e2 ed|cBAc BA G2|A4 A4:|',\n",
              " \"X:309\\nT:Loch Long\\nB:Kerr's Merry Melodies Book 4\\nZ:Nigel Gatherer\\nR:Strathspey\\nM:4/4\\nL:1/8\\nK:A\\nE<ee>c B>c A2|E>AF>A E>AF>A|E<ee>c B>c AB|c>F A/G/F/^E/ F3 =E|\\nE<ee>c B>c A2|E>AF>A E>AF>A|E<ee>c B>c AB|c>F c/B/A/G/ A2 Ac||\\ne<aa>g f>c d2|e>Ac>A e>Ac>A|e<aa>g f>c e2|d>B d/c/B/A/ G<BBe|\\ne<aa>g f>c d2|e>Ac>A e>Ac>A|d>ef>g a>ec>A|e>A c/B/A/G/ A2 Ac|]\",\n",
              " \"X:310\\nT:Jacob's Ladder\\nC:Nigel Gatherer & Seoniad Lynn\\nZ:Nigel Gatherer\\nM:6/8\\nL:1/8\\nK:G\\nB2 G cBA|FEF GDB,|CEC B,DB,|A^CE FGA|B2 G cBA|\\nFEF GAB|cBA dBG|FED G3::G,B,D GFE|DCB, A,2 G,|\\nA,^CE A2 G|FGA d2 c|B2 G cBA|def gdB|cBA dBG|FED G3:|\",\n",
              " 'X:311\\nT:Wi a Hundred Pipers\\nS:Many\\nZ:Nigel Gatherer\\nM:6/8\\nL:1/8\\nK:G\\nG/A/|B2 D DED|E2 G G2 E|D2 B BAG|A3- A2 G/A/|\\nB2 D DED|E2 G G2 E|D2 B ABA|G3- G2:|\\nB/c/|d2 d dBd|e2 g g2 e|d2 B BAG|A3- A2 B/c/|\\nd2 d dBd|e2 g g2 e|d2 B ABA|G3- G2:|',\n",
              " \"X:312\\nT:Alister McAlister\\nT:Alasdair Mac Alasdair\\nT:Mrs Wemyss of Cuttle Hill\\nB:Kerr's Merry Melodies Book 2\\nZ:Nigel Gatherer\\nR:Strathspey\\nM:4/4\\nL:1/8\\nK:Am\\ne/d/|c<AA>G E<AA>B|c<AA>B e2 e>d|c<AA>G E<AA>c|B<GG>B d2- d:|\\nB|c>de>f g>ag>e|c>de>f g2 g>e|c>de>f g>ag>e|B<GG>B d2- d>B|\\nc>de>f g>ag>e|c>de>f g2 g>a|_b>ga>f g>ef>d|B<GG>B d2- d|]\",\n",
              " \"X:313\\nT:Alister McAlister\\nT:Alasdair Mac Alasdair\\nT:Mrs Wemyss of Cuttle Hill\\nB:Kerr's Merry Melodies Book 2\\nN:Transposed from Am for comparison\\nZ:Nigel Gatherer\\nR:Strathspey\\nM:4/4\\nL:1/8\\nK:Bm\\nf/>e/|d<BB>A F<BB>c|d<BB>c f2 f>e|d<BB>A F<BB>d|c<AA>c e2- e:|\\nc|d>ef>g a>ba>f|d>ef>g a2 a>f|d>ef>g a>ba>f|c<AA>c e2 e>c|\\nd>ef>g a>ba>f|d>ef>g a2 a>b|=c'>ab>g a>fg>e|c<AA>c e2- e|]\",\n",
              " 'X:314\\nT:Trip to Pakistan\\nC:Niall Kenny\\nS:Munro Gauld, flautist, Edinburgh\\nZ:Nigel Gatherer\\nL:1/8\\nM:4/4\\nK:Em\\nEGBE G3 B|A2 AG FGAF|EGBE G3 B|AGFG E3 z:|\\nEGBE c3 A|B2 Bd BABG|EGBE c3 A|BAGB A3 z:|\\nFGBF GBFG|EFGE FGEF|DFAD FADA|AGFG E3 z:|',\n",
              " 'X:315 \\nT:Wild Rose of the Mountain\\nC:J P Fraley\\nS:As played by J P Fraley\\nZ:Nigel Gatherer\\nL:1/8\\nM:4/4\\nK:A\\n(3efg|a z a2 =gagf|efed c>e- (3efg|a2 ae =gagf|\\nM:2/4\\ned c2|\\nM:4/4\\ne4- e4-|e6',\n",
              " \"X:316\\nT:Old Grey Cat, The\\nS:Can't rememeber (I've known it for years)\\nZ:Nigel Gatherer\\nL:1/8\\nM:4/4\\nK:Em\\ne2 e2 E3 F|GFGA BABc|d2 d2 D3 E|FAdB AFED|\\ne2 e2 E3 F|GFGA BABc|dcBA BAGF|E4 E2 z2:|\\nB2 e2 e3 d|Bdef gfed|A2 d2 d3 B|ABde fedf|\\ne2 B2 g2 B2|a2 B2 b3 a|gfed BAB^d|e4 e2 z2:|]\",\n",
              " \"X:317\\nT:Tinker's Horse, The\\nD:Wick S.C.D., The Sound of the North (1970)\\nO:Scotland\\nZ:Nigel Gatherer\\nL:1/8\\nM:4/4\\nK:A\\nEF|AAAE c2 BA|BABc B2 cd|eefe c2 BA|F4 Ed cd|\\neefe c2 BA|BABc B2 EF|AABc B2 AF|E4 E2:|\\ncd|eefe c2 BA|BABc B2 cd|eefe c2 BA|F4 Ed cd|\\neefe c2 BA|BABc B2 EF|AABc B2 AF|E4 E2:|\",\n",
              " 'X:318\\nT:Gaelic Air\\nD:Wick S.C.D., The Sound of the North (1970)\\nO:Scotland\\nZ:Nigel Gatherer\\nL:1/8\\nM:4/4\\nK:A mixolydian\\ne|A>AAB e2 dB|A2 GA BAAB|d>dde d2 BA|G>GGA GE D>E|\\nGGGG g2 g>f|edeg edBd|e2 a>g e2 d>B|A2 e>d BAA:|',\n",
              " \"X:319\\nT:What's a' the Steer?\\nD:Wick S.C.D., The Sound of the North (1970)\\nO:Scotland\\nZ:Nigel Gatherer\\nL:1/8\\nM:4/4\\nK:A\\ne2|c2 c>B c2 c<e|c2 c>B c2 Ac|e>fe<c f2 e>c|e>fe<c B2 c>B|\\nA>BA<F A2 c>B|A>BA<F A3 B|c<e e2 f<aa>f|e<cB>c A2:|\",\n",
              " \"X:320\\nT:Innis Dhombs' Ca'l Cadal\\nD:Wick S.C.D., The Sound of the North (1970)\\nO:Scotland\\nZ:Nigel Gatherer\\nL:1/8\\nM:4/4\\nK:A\\nf<aa>f e>de<f|a2 a>f e>d B2|f<aa>f e>de<f|B<dd>e d>B A2:|\\nA<df>d e>df>d|A<df>d e>d B2|A<df>d e>df>d|A<dd>e d>B A2:|\",\n",
              " 'X:321\\nT:Haidh-O-Haidrium\\nD:Wick S.C.D., The Sound of the North (1970)\\nO:Scotland\\nZ:Nigel Gatherer\\nL:1/8\\nM:4/4\\nK:A\\nz f|g2 f2 e2 A2|e>de>f g2 e2|d2 d2 d2 G2|d>Bd>e g2 a2|\\ng2 f2 e2 A2|e>de>f g2 a>g|e<de<g e2 d>B|A4 A2:|\\nA>B|e>AA<A e>AA<A|e>de>f gde<g|B>AA<A B>GG<G|d>GG<G B>AB<d|\\ne>AA<A e>AA<A|e>de>f g2 a>g|e<de<g e2 d>B|A4 A2:|\\nB<d|e>a (3aaa g>e (3eee|e>dB<d e2 d<B|e>a (3aaa g>e (3eee|d>Bd<e g2e<d|\\ne>a (3aaa g>e (3eee|e>dB<d e2 a>g|e<de<g e2 d>B|A4 A2:|',\n",
              " 'X:322\\nT:Charley the Prayermaster\\nT:Cowboy Jig\\nD:Wick S.C.D., The Sound of the North (1970)\\nZ:Nigel Gatherer\\nL:1/8\\nM:6/8\\nK:A\\nB|AFE A2 B|cff ecB|AFE ABc|dcB AFE|\\nAFE A2 B|cff ecB|AFE A2 B|1cAA A2:|2cAA Ace|\\nf2 e f2 e|faf fec|e2 c e2 c|eaf ece|\\nf2 e f2 g|agf ecB|AFE A2 B|1cAA Ace:|2cAA A2|',\n",
              " 'X:323\\nT:Mist Covered Mountains, The\\nT:Chi Mi Na Morbheanna\\nB:Scots Guards Standard Settings V.1\\nN:Transposed from Bm for comparison\\nZ:Nigel Gatherer\\nL:1/8\\nM:6/8\\nK:Am\\nA3 A3|e2 e  e>dB|G3 G3|B>AB A>GA|\\nc3 d3|e>fg B>AG|A>Be d>cB|A3 A3:|\\ne3 e3|d>eg e>dB|G2 G d2 B|e2 e  d>cB|\\nA3 c3|e>fg B>AG|A>Be d>cB|A3 A3:|',\n",
              " \"X:324\\nT:Oliphant of Condie's Welcome Home, The\\nS:Richard Oliphant of Condie\\nB:BL Add MS 25073, f 44b\\nN:Written for harpsichord and dated c.1800\\nZ:Nigel Gatherer\\nL:1/8\\nM:6/8\\nK:A\\ne/d/|c>BA AEA|AEA Aed|c>d/e/f/ ecB/A/|GBB B2 e/d/|\\nc>BA AEA|AEA Aae|f>ed c>B/c/d/|cAA A2:|\\n(3e/f/g/|aef/g/ fed|cea ecA|dfd ced/e/|fdB B2f/g/|\\naef/g/ fed|cea/f/ ecA|EAc Bed|cAA A2 f/g/|\\naef/g/ fed|cea/f/ ecA|d/e/fd c/e/ac|fdB B2 e/d/|\\nc>BA AEA|AEA Aae|f>ed ceB|cAA A2|]\",\n",
              " \"X:325\\nT:Harry's Trip\\nD:Wick S.C.D., A Call From the North (1973)\\nO:Scotland\\nZ:Nigel Gatherer\\nL:1/8\\nM:2/4\\nK:A\\nd/e/|ff/a/ g/f/e/d/|B/c/d/B/ A>B|AA/B/ A/B/d/e/|fe ed/e/|\\nff/a/ g/f/e/d/|B/c/d/B/ A>B|AA/B/ A/B/d/e/|fd d:|\\nd/e/|ff/g/ f/e/d/f/|g/f/g/a/ g>z|f/a/a/b/ a/f/d/e/|fe ed/e/|\\nff/a/ g/f/e/d/|B/c/d/B/ A>B|AA/B/ A/B/d/e/|fd d:|\",\n",
              " 'X:326\\nT:You Needna Run\\nD:Wick S.C.D., A Call From the North (1973)\\nO:Scotland\\nZ:Nigel Gatherer\\nL:1/8\\nM:2/4\\nK:A\\nc/B/|AA a>f|ec c>c|dB B>e|cA A/d/c/B/|\\nAA a>f|ec AB/c/|df ec|B2 A:|\\nc/B/|Aa a>g|fe e>f|ec BA|ce ec/B/|\\nAa a>g|fe e/f/e/c/|df ec|B2 A:|]',\n",
              " 'X:327\\nT:Cenneag Mor\\nD:Wick S.C.D., A Call From the North (1973)\\nO:Scotland\\nZ:Nigel Gatherer\\nL:1/8\\nM:4/4\\nK:D\\nz|f2 f>e d>BA>B|d2 e>d B2 A2|f2 f>e d>BA>B|d>BA>B d2 d:|\\nA|d2 e<f a>fe<f|a>fe<f e>dB<A|d2 e<f a>fe<f|a>Af>e d2 d:|',\n",
              " 'X:328\\nT:Untitled\\nD:Wick S.C.D., A Call From the North (1973)\\nO:Scotland\\nZ:Nigel Gatherer\\nL:1/8\\nM:4/4\\nK:D\\ne|f>A A2 B>GG>B|A2 f2 e>dd>e f>A A2 B>GG>B|A2 f>e d2 d:|\\ne|f2 f<a f2 f<a|f2 f>d e2 e>d|f2 f>d e>fg>e|a>fe>d B<d d:|',\n",
              " \"X:329\\nT:Morven's Waltz    \\nC:Alex Lawson (?)\\nS:Copied sheet from George ?----?, Edinburgh\\nO:Scotland\\nZ:Nigel Gatherer\\nL:1/4\\nM:3/4\\nK:G\\nB2 A|G2 D|E G2|D3|B2 A|G2 B|\\nd B2|A3|B2 A|G2 D|E G2|\\nD3|D2 E|G2 B|A3 G3|\\nB2 d|d2 d|e g2|g3|d2 B|\\nB2 G|B A2|A3|B2 d|d2 d|\\ne g2|g2 e|d2 B|A2 d|B G2|G3|]\",\n",
              " \"X:330\\nT:What Pain I've Endured Since Last Year\\nT:Gur mis 'tha gu craitach o'n'uiruidh\\nB:Fraser's Collection, (1815?)\\nN:Slow with expression\\nO:Scotland\\nZ:Nigel Gatherer\\nL:1/8\\nM:9/8\\nK:Em\\ng/f/|eBB B>AG F<DF|E2 F G>FG B2 g/f/|eBB B>AG F<DF|\\nE>Fd B>AF E2:|\\\\\\nB|Bee Bgg fdd|Bee Bgg f2 A|\\nBee Bgg f>ed|e>dB B>^A/B/^d/ e2 d/c/|Bee Bgg fdd|\\nBee Bgg f2 A|Bef g>ag f>ed|e>dB B>^A/B/^d/ e2|]\",\n",
              " 'X:331\\nT:Game of Love, The\\nD:Dervish: ?\\nO:Ireland\\nZ:Nigel Gatherer\\nL:1/8\\nM:4/4\\nK:Em\\nA|:B2 EF G3 B|AD (3DDD FAAc|B2 EF GAB^c|d^cBA Be e2:|\\neB (3BBB egfe|defg a3 z|eB (3BBB egfe|dBAF BE E2|\\neB (3BBB egfe|defg a3 z|g3 e f3 d|edBA Be e2|]',\n",
              " 'X:332\\nT:Lamentation for James Moray of Abercairney\\nT:Lament for Abercairney\\nT:Abercairney\\nC:Niel Gow\\nO:Scotland\\nZ:Nigel Gatherer\\nL:1/8\\nM:4/4\\nK:G\\nB,|G,>B,DG EGDG|A>B c/B/A/G/ E2- EG|G,>B,DG EG Dg/e/|\\ndG d/c/B/A/ G2- G>B,|G,>B,DG EGDG|A>B c/B/A/G/ E2- EG|\\nG,>B,DG EG Dg/e/|dG d/c/B/A/ G2- G||e|de/f/ gd edgB|\\nca/c/ Bg/B/ A2- A>B|G,>B,DG EG Dg/e/|dG d/c/B/A/ G2- G>e|de/f/ gd edgB|\\nc/B/c/a/ B/A/B/g/ A2- AB/c/|e/d/c/B/ d/c/B/A/ c/B/A/G/ B/A/G/F/|\\\\\\nA/G/F/E/ D/E/D/B,/G,2-G,|]',\n",
              " 'X:333\\nT:Air for Linda\\nC:Nigel Gatherer\\nZ:Nigel Gatherer\\nL:1/8\\nM:4/4\\nK:Bm\\nFA|B2 c2 dBAF|Ddcd eAAe|fBFB cAAf|gBed cAFA|\\nB2 c2 dBAF|Ddcd eAAe|fBdf egfe|dBBA B2:|\\nag|fgfe d2 fd|efed cdec|dBBA FB (3Bcd|cAAf eAce|\\nfgfe da a2|efed ca a2|dBcA FBce|dBBA B2:|]',\n",
              " 'X:334\\nT:Air for Linda (Harmony)\\nC:Nigel Gatherer\\nZ:Nigel Gatherer\\nL:1/8\\nM:4/4\\nK:Bm\\nF2|G2 F2 B2 C2|d2 A2 c2 A_B|=B2 Bd eccA|B2 G2 F2 F2|\\nG2 F2 B2 C2|d2 A2 c2 A_B|=BFBd c2 A2|B2 FE D2:|\\nc2|d4 A4|c2 A2 _B2 F2|BFFE D2 F2|A2 E^G A2 A2|\\nd2 Ac d2 A2|cdcB A2 c2|B2 F2 B,DEG|F2 FE D2:|]',\n",
              " \"X:335\\nT:Langour of Love, The\\nB:Hamilton's Universal Tunebook (Glasgow 1844)\\nZ:Nigel Gatherer\\nO:Scotland\\nL:1/8\\nM:4/4\\nK:D\\nD2 FA d4|c2 d2 B4|A2 Bc d3 e|d3 c B2 Az|\\nF3 G A2 g2|f3 e d2 zD|F3 G A3 F|G2 F2 E2 D2:|\\nf3 e d3 f|c2 d2 B4|f3 e d3 f|d3 c B2 Az|\\nF3 G A2 ag|f3 e d2 zD|F3 G A3 F|G2 F2 E2 D2|\\nf3 e d3 f|c2 d2 B4|f3 e d3 f|d2 cd/e/ d2 Dz|\\nF3 G A2 g2|(3fga (3gfe d4|d3 B A3 F|G2 F2 E2 D2|]\",\n",
              " \"X:336\\nT:Marquis of Tullibardine, The\\nT:Maids of Tulla, The\\nB:Kerr's Merry Melodies Book 1\\nZ:Nigel Gatherer\\nO:Scotland\\nL:1/8\\nM:4/4\\nK:A\\nA/A/A cA eAAf|eAAa fedc|Bcde fBBg|aBBa gfea|\\nA/A/A cA eAAf|eAAa fedc|defa fecf|ecBc f2 eg||\\naA A/A/A cAAf|aAAa fedc|bB B/B/B dBB^a|bBBa gfeg|\\naA A/A/A cAAf|aAAa fedc|defa fecf|ecBc f2 ea|]\",\n",
              " 'X:337\\nT:White Leaf, The\\nB:Music of Ireland Bk 4, 27\\nN:From Sean McGuire, fiddle\\nZ:Nigel Gatherer\\nL:1/8\\nM:4/4\\nK:A\\n(EFG|A2 cA eAcA|(3Bcd ef edcA|Bcde fdde|fdad fdcB|\\nA2 cA eAcA|(3Bcd ef edcA|Bcde fgaf|edcB A2:|\\nce|aA A2 cAce|a2 ga fece|bf f2 fece|bffe ^defg|\\naA A2 cAce|a2 ga faec|Bcde fgaf|edcB A2:|]',\n",
              " \"X:338\\nT:Irish Jig\\nS:Can't remember\\nZ:Nigel Gatherer\\nL:1/8\\nM:6/8\\nK:D\\nc|dFF AFF|dFF ABc|dFF AFE|FBB B2 Z|\",\n",
              " \"X:339\\nT:Maid In the Meadow, The\\nT:Stone In the Field, The\\nS:Padraig O'Keeffe MS, via 'Music from Sliabh Luachra'\\nZ:Nigel Gatherer\\nL:1/8\\nM:6/8\\nK:G\\nB|cBA BdB|AGA BGE|DEG AGA|BdB AGE|cBA BdB|AGA BGE|\\nDEG AGA|BGG G2::D|GBd gdd|edd gdB|GBd gdB|\\nAGA BGE|GBd gfg|e/f/ge fdB|GBB AGA|BGG G2:|]\",\n",
              " 'X:340\\nT:Maids of Arrochar\\nB:Gow Collection\\nZ:Nigel Gatherer\\nL:1/8\\nM:6/8\\nK:D\\nD/E/|F>ED F>ED|FAA A2 d/e/|f>ed f>ed|e2 d B2 d|\\nF>ED F>ED|FAA A2 d/e/|fdA BFA|E2 D D2:|\\nA/G/|FAB FAB|d>e/f/e/ dBA|FAB FAf|e2 d B2 A|\\ndfa fdA|B/A/B/c/d/B/ AFD|FdA BFA|E2 D D2:|]',\n",
              " \"X:341\\nT:Two Birds On a Tree\\nS:Padraig O'Keeffe MS, via 'Music from Sliabh Luachra'\\nR:Hornpipe\\nZ:Nigel Gatherer\\nL:1/8\\nM:4/4\\nK:Amix\\n(3EFG|A2 BA eAAA|(3Bcd AB G2 AG|EA (3AAA BAGA|(3BAB de gedB|\\nA2 (3ABA eAAA|(3Bcd AB G2 AG|EA (3AAA BAGA|(3BAB dB A2:|\\ndc|(3BAG Bd g2 ga|(3bag (3agf gedc|(3BAG Bd g2 ga|(3bag (3agf g2 fa|\\nbagb agef|gedB AE (3EDE|GABd dBeB|dBAB G2:|]\",\n",
              " \"X:342\\nT:Polka\\nS:Padraig O'Keeffe MS, via 'Music from Sliabh Luachra'\\nR:Polka\\nZ:Nigel Gatherer\\nL:1/8\\nM:2/4\\nK:G\\nA|Bd ce|d/e/g/a/ bg/e/|dB AG/A/|BG G:|\\nd|e2 e2|e/d/e/f/ g2|B/A/B/c/ dc|B/A/B/c/ d2|\\ne2 ed|eg fe|dB BA/B/|c2 B|]\",\n",
              " \"X:343\\nT:Niel Gow's Compliments Returned to Mr Marshall\\nC:Niel Gow\\nB:The Beauties of Niel Gow (1819)\\nO:Scotland\\nZ:Nigel Gatherer\\nL:1/8\\nM:4/4\\nK:A\\nA,AcA eAcA|A,A d/c/B/A/ GB B2|A,AcA eAcA|f/e/f/g/ ac EA A2:|\\nf>a ea d>a ca|B/A/B/c/ d/c/B/A/ GB B2|f>a ea d>a c>a|\\\\\\nB/A/B/c/ d/c/B/A/  EAAg|\\nf>a ea d>a ca|B/A/B/c/ d/c/B/A/ GB B2|CEA,A FA df|\\\\\\ned/c/ d/c/B/A/ EA A2|]\",\n",
              " \"X:344\\nT:Pinch of Snuff\\nS:Padraig O'Keeffe MS, via 'Music from Sliabh Luachra'\\nR:Pipe Reel\\nZ:Nigel Gatherer\\nL:1/8\\nM:4/4\\nK:D\\nF2 DF EFDE|F2DF EFGE|F2 DF EFDF|GEED EFGE:|\\nD2 FA d2 AF|D2 AG EFGE|D2 FA d2 AF|GEED EFGE|\\nD2 FA d2 AF|D2 AG EFGE|Addc d2 AF|GEED EFGE|]\",\n",
              " \"X:345\\nT:Mountain Top, The\\nS:Padraig O'Keeffe MS, via 'Music from Sliabh Luachra'\\nR:Reel\\nZ:Nigel Gatherer\\nL:1/8\\nM:4/4\\nK:G\\nA|:BGAG (3EFE (3DEF|G2 Bd edgd|BGAG E2 AB|cBAc BGGA:|\\nBd (3ddd ed (3ddd|Bdef gfed|Bd (3ddd edgd|(3BcB Ad BGGA|\\nBd (3ddd ed (3ddd|(3Bcd ef g2 ga|baaf gfed|(3efg af gfed|]\",\n",
              " 'X:346\\nT:Highland Soldier\\nD:Wick S.C.D., By the Peat Fire (n.d.)\\nO:Scotland\\nZ:Nigel Gatherer\\nL:1/8\\nM:4/4\\nK:D\\ne2|A>AAe dBAB|G>ABG g2 ef/g/|a2 ge edBA|G2 G>A B2 AG|\\nA>AAe dBAB|G>ABG g2 ef/g/|a2 ge dBgB|A2 A>B A2||\\nef|g>fga gfed|e>fge a2 ef|g>fga efgd|B>c d/c/B/A/ G3 e|\\nA>AAe dBAB|G>ABG g2 ef/g/|a2 ge dBgB|A2 A>B A2||',\n",
              " \"X:347\\nT:Fergal O'Gara\\nS:Niall Kenny (flute), Scotland\\nO:Ireland\\nZ:Nigel Gatherer\\nL:1/8\\nM:4/4\\nK:D\\nA>AAB defa|bfaf efdA|dBBA BAGF|GEFD fdBd|\\nA>AAB defa|bfaf efdA|dBBA BAGF|G>GEA Fd d2:|\\nfd (3ddd fdge|fdgf edBc|dBBA Bcde|fdgf edBc|\\nfd (3ddd fdge|fdgf edBc|dBBA BcdB|AFEF D3 z|\\nfd (3ddd fdge|fdgf edBc|dBBA Bcde|fdgf e3 z|\\na>aaf edBc|dedB BA F2|A>AAB defa|bf (3afe d3 z|]\",\n",
              " 'X:348\\nT:The Drunken Parson\\nD:Jimmy Greenan, The Jeenius of Jim\\nZ:Nigel Gatherer\\nL:1/8\\nM:6/8\\nK:A\\ne|Acc Bdd|cee d2 f|ecc dBB|cAA BAE|\\nAcc Bdd|cee d2 f|ecc dBe|cAA A2:|\\nB|Ace aga|fdd d2 c|B^df bab|gee e2 c|\\nAce aga|fdd d2 f|ecc dBe|cAA A2:|',\n",
              " 'X:349\\nT:Miss Jean Milligan\\nC:Jimmy Shand\\nD:Jimmy Greenan, The Jeenius of Jim\\nZ:Nigel Gatherer\\nL:1/8\\nM:4/4\\nK:A\\nE2|A2 cB A2 ce|fefg a2 af|e2 c2 dcBA c2 B2 B2 cB|\\nA2 cB A2 ce|fefg a2 af|eagf edcB|c2 A2 A2||\\ne2|a2 ed cB A2|dcde f3 e|a2 e2 efec|d2 B2 B3 e|\\na2 ed cB A2|dcde f3 d|eagf edcB|c2 A2 A2|]',\n",
              " \"X:350\\nT:I Hae a Wife o' My Ain\\nS:Kerr's Merry Melodies Bk.2\\nZ:Nigel Gatherer\\nL:1/8\\nM:9/8\\nK:Em\\nEFE G2 A B3|EFE G2 A BGE|EFE G2 A B3|DED d2 B AFD:|\\ngag fgf e3|EFE G2 A BGE|gag fgf e3|DED d2 B AFD:|\\nX:351\\nT:Tea Gardens\\nC:Angus Chisholm\\nD:Early Recordings of Angus Chisholm\\nZ:Nigel Gatherer\\nL:1/8\\nM:6/8\\nK:G\\nB2 c|d^cd b2 a|g2 d B2 d|cBc ezc|A3- A2 G|\\nFDF A2 d|f2 d A2 B|cBc edc|B3 B2 c|\\nd^cd b2 a|g2 d B2 d|cBc ezc|A3- A2 G|\\nDF A2 d|f2 d A2 B|cBc bfa|1g3:|2g3 g2||\\nz|B,DG BGD|B,DG Bdg|e^de B2 =d|c3- c2 B|\\nABc ABc|a2 g f2 e|d^cd ed=c|B3 d3|\\nB,DG BGD|B,DG Bdg|e^de B2 =d|c3- c2 B|\\nABc a2 g|f2 e A2b|c'bc' e2 f|g3|]\",\n",
              " 'X:352\\nT:Eibhlin\\nT:Eibhlín Gheal Chúin Ní Chearbhaill\\nD:Chieftains (3?)\\nZ:Nigel Gatherer\\nL:1/8\\nM:3/4\\nK:G\\nD3 E G2|A3 G A2|B3 A G2|A3 G A2|B3 A G2|G E3 D2|D6|D6:|\\nA3 B c2|d3 e d2|d3 c B2|A3 G E2|A3 B c2|d3 e d2|c6|B3 A G2|\\nA3 B c2|d3 e d2|d3 c B2|A3 G A2|B3 A G2|G E3 D2|D6|D6|]',\n",
              " \"X:353\\nT:Charles O'Connor\\nC:Turlough O'Carolan\\nD:Arty McGlynn\\nZ:Nigel Gatherer\\nL:1/8\\nM:6/8\\nK:D\\nA|d2 A d2 A|BAG FGA|Bcd ecA|dfa a2 g|fgf B3|\\nefe A2 A|dcB AFA dAF d2::D|A2 D FED|B=cB AFD|\\nDFA DFA|GEe c2 A|f2 f fgf|faf fdB|e2 e efe|\\neae ecA|dcB AFE|FAA f2 e|dcB AFA|dAF D2:|]\",\n",
              " \"X:354\\nT:Peggy Ryan's Fancy\\nT:The Murroe\\nS:Sully's Session Tunes Book 1\\nZ:Nigel Gatherer\\nL:1/8\\nM:2/4\\nK:G\\nBd G>A|Bd GB|A2 FA|GE ED|Bd G>A|\\nBd GB|A2 FA|AG G>A::B/^c/d ef|g2 g>a|\\nf/e/d ef|ed BA|B/^c/d ef|g2 g>a|f/e/d ef|e2 >Ad:|\",\n",
              " 'X:355\\nT:Strathearn Waltz, The\\nC:Nigel Gatherer\\nZ:Nigel Gatherer\\nL:1/4\\nM:3/4\\nK:G\\nD|B2 d|c2 A|G2 B|A>F D|C2 D|B,>D G|G>A B|A2 D|\\nB>c d|c A F|G>A B|A F D|B,>D G|C>E G|F>G A|G2:|\\nB/d/|g2 b|a>f d|c2 e|d>B G|D G G|D A A|B>A G/B/|A2 B/d/|\\ng>a b/g/|a f d|c>d e/c/|d B G|C2 D|B>D G/B/|A.G F/A/|G2:|',\n",
              " 'X:356\\nT:Big Rory\\nC:Nigel Gatherer\\nZ:Nigel Gatherer\\nL:1/8\\nM:4/4\\nK:Amix\\nz|c2 (3BcB A3 z|E>A A2 cded|cABG A2 Bc|dBGB dBed|\\nc2 (3BcB A3 z|E>A A2 cdef|gfge dBGB|ecdB A3:|\\ne|aece Acef|g2 Bg dgBg|aece Acef|gdBe cA Ae|\\naece Acef|g2 Bg dg B2|c2 (3BcB Aceg|fdBe cA A:|',\n",
              " \"X:357\\nT:Niel Gow's Fiddle\\nC:Nathaniel Gow\\nB:The Gow Collection (New York 1986)\\nZ:Nigel Gatherer\\nL:1/8\\nM:4/4\\nK:D\\nf/e/|d>D AG/F/ E=C Cf/e/|dD B/A/G/F/ d2 df/e/|dD AG/F/ E=CC>E|\\nD>Fd>F A2 Af/e/|d>D AG/F/ E=C Cf/e/|dD B/A/G/F/ d2 df/e/|\\ndD AG/F/ E=CC>E|D>Fd>F A2 A||f/g/|af dg/f/ e=c cf/g/|\\nafdg fd f/g/a/f/|af dg/f/ e=c cf/g/|a>fd>A d2 df/g/|\\naf dg/f/ e=c cf/g/|afdA Fd AG/F/|GB/G/ Fd/F E=CCE|D>Fd>F A2 A|]\",\n",
              " 'X:358\\nT:Leaving Glen Affric\\nC:Finlay MacRae\\nD:Palomino Waltz, Phil Cunningham (1988)\\nZ:Nigel Gatherer\\nL:1/8\\nM:3/4\\nK:A\\ne2|A3 =GBc|A4 c2|e4 e<A|f4 a2|e4 f2|c4 e>c|B3 A c2|B4 e2|\\nA3 =GBc|A4 c2|e4 e<A|f4 a2|e4 f2|c4 e>c|B3 A c2|A4 :|\\nf2|f3 e>fa|e4 f2|f3 efa|a4 f2|f3 efa|A4 c2|c4 ec|B4 e2|\\nA3 =GBc|A4 c2|e4 e<A|f4 a2|e4 f2|c4 e>c|B3 A c2|A4 :|',\n",
              " 'X:359\\nT:Ramensky\\nC:Roddy MacMillan\\nD:Hamish Imlach, Before and After\\nZ:Nigel Gatherer\\nL:1/8\\nM:4/4\\nK:Em\\nB|G>EED E>EEB|G>EFD E3 B|e>eed B>BBA|G>GFD E3 B|\\nG>EED E>EEB|G>EFD E3 B|e>eed B>BBA|G>GFD E2||\\nGF|E2 ED E2 B,D|B2 dA B3 z|e>eed B>BBA|G>GFD E3|]',\n",
              " \"X:360\\nT:Peter Wyper's Hornpipe\\nD:Jimmy Blue's Welcome to Scotland\\nZ:Nigel Gatherer\\nL:1/8\\nM:4/4\\nK:D\\nA>G|F>DF>A d>AF>D|G>EF>D A,>CE>G|F>Ad>f a>fd>f|(3efe (3dcB (3ABA (3GFE|\\nF>DF>A d>AF>D|G>EF>D A,>CE>G|F>Ad>A B>GE>C|D2 D2 D2:|\\n(3ded|c>de>f g>ec>A|d>fa>f b>af>a|a>gB>g g>fA>f|3efe (3dcB (3ABA (3GFE|\\nF>DF>A d>AF>D|G>EF>D A,>CE>G|F>Ad>A B>GE>C|D2 D2 D2:|\",\n",
              " \"X:361\\nT:Hornpipe\\nT:Peter Wyper's Hornpipe\\nD:Peter Wyper, Auld Robin Gray and Hornpipe (1910)\\nZ:Nigel Gatherer\\nL:1/8\\nM:4/4\\nK:D\\nA>G|F>DF>A d>AF>D|G>EF>D A,>CE>G|F>Ad<f a>fd>f|\\\\\\n(3efe (3dcB (3ABA (3GFE|\\nF>DF>A d>AF>D|G>EF>D A,>CE>G|F>Ad>A B>GE>C|D2 D2 D2:|\\n(3ded|cdef gecA|dfaA baf>a|agB>g gfAf|3efe (3dcB (3ABA (3GFE|\\nF>DF>A d>AF>D|G>EF>D A,>CE>G|F>Ad>A B>GE>C|D2 D2 D2:|\",\n",
              " \"X:362\\nT:Corbie an' da Craw, Da\\nB:Ringing Strings, Tom Anderson (Lerwick 1983)\\nZ:Nigel Gatherer\\nL:1/8\\nM:4/4\\nK:D\\nB|A2 FD E2 =c2|EFGE =CDEC|DDFD E2 =c2|EFGE [G,3D3]:|\\nF|AddA d2 df|efec d2 FA|A,dd>c d2 eg|f>de>c d2 AF|\\nAddc d2 df|efec d2 FA|dB=cA B2 Gc|E>FG>E [G,3D3]|]\",\n",
              " \"X:363\\nT:Charlie Harris's Polka\\nS:As played by The Big Squeeze, Edinburgh 1996\\nZ:Nigel Gatherer\\nL:1/8\\nM:2/4\\nK:D\\nd>B|AF DF|EF DF|AF AB|e2 d>B|AF DF|EF DF|AF AB|d2:|\\nz A|d>e fd|ef dB|AF AB|e3 A|d>e fd|ef dB|AF AB|d3 A|\\nd>e fd|ef dB|AF AB|e2 fe|df fg|af fg|af ef|d2|]\",\n",
              " \"X:364\\nT:Nigel's Compliments to Manuel\\nC:Nigel Gatherer\\nZ:Nigel Gatherer\\nL:1/8\\nM:2/4\\nK:G\\nG/G/G B>A|GB AB|G/G/G BG|EA D2|\\nG/G/G B>A|GB AB|GE    DE|G2 G2||\\nBD    GB |AD BA|G/G/G BG|EA D2|\\nBD    GB |AD BA|GE    DE|G2 G2|]\",\n",
              " 'X:365\\nT:Goat On the Hill, The\\nC:Neil Campbell\\nZ:Nigel Gatherer\\nL:1/8\\nM:6/8\\nK:Am\\nc/d/|e>AA c2 d |e>ag e2 d |e>AA c2 d |B>GG Bcd |\\n     e>AA c2 d |e>ag e2 d |e>AA B>GG |A3   A2 :|\\nE   |E>AA A>cc |G>BB B>ee |E>AA A>cc |B>GG G3  |\\n     E>AA A>cc |G>BB B>ee |c>AA B>GG |A3   A2 :|]',\n",
              " 'X:366\\nT:Annie Laurie\\nS:various, mostly Popular Songs and Melodies of Scotland\\nZ:Nigel Gatherer\\nL:1/8\\nM:2/4\\nK:D\\n| DD/D/ dd | c B2 B | AF    FE/D/ | E3 F/E/ |\\n| D>D   dd | c B2 B | AG/F/ F>E   | D3      ||\\nA| d>d e>e   | f3  A  | d>d e>e | f3 f/e/ |\\n   d>c Bd/B/ | A F2 E | D<d F>E | D3      |]',\n",
              " 'X:367\\nT:Calton Weaver, The\\nS:Robin Hall and Jimmie Macgregor\\nL:1/8\\nM:2/4\\nK:G\\nGG/G/ BG/G/|AG ED|GG/G/ Bd/d/|ee d2|\\ned g<B|AG ED|DG/G/ BG/G/|AA D2|\\nGG BG|A>G ED|G>G Bd|BA G2|]',\n",
              " 'X:368\\nT:Rory McLeod\\nS:Various, inc. Derek Hoy, Edinburgh\\nZ:Nigel Gatherer\\nL:1/8\\nM:6/8\\nK:A\\nc2A cee | fee faa | c2A cee | fec cBB |\\nc2A cee | fee faa | fec ecB | cAA A3 :|\\ncee fee | aee fee | cee fee | aee eff |\\ncee fee | aee fee | fec ecB | cAA A3 :|\\nAcc cdd | dcc c2B | Acc cdd | dcc cBB |\\nAcc cdd | dcc c2e | fec ecB | cAA A3 :|\\nfaa aff | fee e2c | cBB Bce | fee e3  |\\nfaa aff | fee e2e | fec ecB | cAA A3 :|',\n",
              " 'X:369\\nT:Idle Road, The\\nS:Raphael Meehan, Donegal\\nZ:Nigel Gatherer\\nL:1/8\\nM:6/8\\nK:G\\nE|DBB Dcc|DBB c2e|dBG FGA| BGB AFD|\\n  DBB Dcc|DBB c2e|dBG FGA|1BGF G2:|2BGF GBd||\\n  efg efg|fed cAF|G2g gfg|afd cAF|\\n  DBB Dcc|DBB c2e|dBG FGA|1BGF GBd:|2BGF G2||',\n",
              " \"X:370\\nT:Loudon's Bonnie Woods\\nB:Kerr's Merry Melodies Bk 1 (c1880)\\nZ:Nigel Gatherer\\nL:1/8\\nM:4/4\\nK:G\\nG2 G>G B<d d2 | c>AB>G A>G F<D | G2 G>G B<d d2 | e<g f<a g2 g2 :|\\ng>ab>g a>gf<d | e>fg>e d<B B<G | g>ab>g a>gf<d | e<g f<a g2 g2 |\\ng>ab>g a>gf>d | e>fg>e d<B B<A | G2 G>G B<d d2 | e<g f<a g2 g2 |]\",\n",
              " 'X:371\\nT:Davie Work\\nC:James Scott Skinner\\nB:The Scottish Violinist\\nZ:Nigel Gatherer\\nL:1/8\\nM:4/4\\nK:A\\nE| A2 cA GABc | dFBA GBeg | a2 ga fedc | dBed cAA :|\\ng| aAag  fedc | bBba gefg | aAag  fedc | dfeg aAAg |\\n   aAag  fedc | bBba gfed | cAdB  ecfd | eagb aAA |]',\n",
              " 'X:372\\nT:Mary Walker\\nC:James Scott Skinner\\nB:The Scottish Violinist\\nZ:Nigel Gatherer\\nL:1/8\\nM:4/4\\nK:Bb\\nF | B/B/B dB ecAF | B/B/B df bfdB | e/e/e Ge d/d/d Fd | B/B/B dB ecAF |\\n    B/B/B dB ecAF | B/B/B df bfdB | e/e/e Ge d/d/d Fd | cf=ef    cfAf ||\\n    d/c/B bB aBgB | dfga     bfdB | A/G/F eF dFcF     | Acd=e    fcAF |\\n    d/c/B bB aBgB | dfga     bfdB | gfed     cBAG     | FEDC     B,3  |]',\n",
              " \"X:373\\nT:The Mathematician\\nC:James Scott Skinner\\nB:The Scottish Violinist\\nZ:Nigel Gatherer\\nL:1/8\\nM:4/4\\nK:D\\nG | F>G^G>A f>dA>F | G>A_B>=B g>eB>d | c>ba>g  f>ed>c |\\\\\\n   (3dfe (3dcB (3ABA (3GFE |\\n    F>G^G>A f>dA>F | G>A_B>=B g>eB>d | (3cba (3gfe (3dcB (3ABc |\\\\\\n   (3dAf (3dAF D3||\\na | d'>af>d A>FD>=C | B,>^DE>G B>eg>b | e'>bg>e B>GE>D | C>EA>c e>ac'>e'|\\n    f'>d'a>f d>AF>D | G>Bd>g b>d'g'>b | (3ad'c' (3bag (3fgf (3gfe|\\\\\\n   (3dfa (3d'af d3|]\",\n",
              " \"X:374\\nT:Buck o' The Cabrach, The\\nC:James Scott Skinner\\nB:The Scottish Violinist\\nZ:Nigel Gatherer\\nL:1/8\\nM:12/8\\nK:A\\ne | cBA e2d cBA e2d | cBA aed cBA e2c | \\n    dfd BdB cec AcA | dcB cBA EFG A2 :|\\ne | ac'a  gbg  faf  e2d  | c>BA aed  cBA B2e |\\n    a<c'a g<bg f<af e<ac | dcB  cBA  EFG Ace |\\n    abc'  bag  fga  gfe  | def  f<ad cBA BGE |\\n    ABc   dcB  cde  fga  | dcB  cBA  EFG A2 |]\",\n",
              " 'X:375\\nT:Nine Pint Coggie, The\\nB:The Scottish Violinist (Scott Skinner)\\nN:\"Ancient reel\"\\nZ:Nigel Gatherer\\nL:1/8\\nM:4/4\\nK:G\\nc | B>G G/G/G G2 DE | =F2 cF Accd  | B>G G/G/G G2 DF | G2  gd B d3 :|\\nf | gagd Bcde | =fgfc ABc^f | gagd Bcdf | g/f/e/f/ gd Bd2f |\\n    gagd Bcde | =fgfc ABce  | (3dcB (3cBA G2 DF | G2gd Bd3 |]',\n",
              " \"X:376\\nT:Iomramh eadar Il'as Uist\\nT:Rowing from Islay to Uist\\nB:Simon Fraser Collection\\nZ:Nigel Gatherer\\nL:1/8\\nM:6/8\\nK:Am\\nE |: A2 A c2 d | B2 A B2 d | A2 A e2 e | fed e2 B |\\n     c2 c d2 c | B2 A B2 d | fed  e2 B | 1 c2 A GFE :| 2 A2 B c2 ||\\nG |  E2 E E2 D | E2 E c2 d | B2 A G2 E | D2 C D2 F |\\n     E2 E E2 D | E2 E c2 d | B2 A G2 B | A3-  A2  |]\",\n",
              " \"X:377\\nT:Iomramh eadar Il'as Uist\\nT:Rowing from Islay to Uist\\nB:Simon Fraser Collection\\nN:Transposed from Am (to be whistle-friendly)\\nZ:Nigel Gatherer\\nL:1/8\\nM:6/8\\nK:Bm\\nF |: B2 B d2 e | c2 B c2 e | B2 B f2 f | gfe f2 c |\\n     d2 d e2 d | c2 B c2 e | gfe  f2 c | 1 d2 B AGF :| 2 B2 c d2 ||\\nA |  F2 F F2 E | F2 F d2 e | c2 B A2 F | E2 D E2 G |\\n     F2 F F2 E | F2 F d2 e | c2 B A2 c | B3-  B2  |]\",\n",
              " 'X:378\\nT:I Have a Bonnet Trimmed With Blue\\nB:Irish Tunebook, John Loesberg\\nZ:Nigel Gatherer\\nL:1/8\\nM:2/4\\nK:G\\nGA/B/ ce | dG    B2 | de/d/ cA | GB B2  |\\nGA/B/ ce | dG    B2 | de/d/ cA | AG G2 :|\\nde/d/ Bd | gB    d2 | de/d/ cA | ed d2  |\\nde/d/ Bd | gB    d2 | de/d/ cA | AG G2 ||\\nGB    GB | de/d/ B2 | de/d/ cA | GB B2  |\\nGB    GB | de/d/ B2 | de/d/ cA | AG G2 ||\\nge    eg | de/d/ B2 | de/d/ cA | ed d2  |\\nge    eg | de/d/ B2 | de/d/ cA | AG G2 ||',\n",
              " 'X:379\\nT:Tá Boinéad agam\\nT:I Have a Bonnet Trimmed With Blue\\nB:Ceol Rince na hÉireann\\nZ:Nigel Gatherer\\nL:1/8\\nM:2/4\\nK:G\\nD | GA/B/ ce    | dG B2 | de/d/ cA | GB B>A  |\\n    GA/B/ ce    | dG B2 | de/d/ cA | AG G2  :|\\n    de/f/ gf/e/ | dG B2 | de/d/ cA | AG B2   |\\n    de/f/ gf/e/ | dG B2 | de/d/ cA | AG G2  :|',\n",
              " 'X:380\\nT:Liberton Pipe Band\\nD:Tom Hughes, Border Fiddler\\nZ:Nigel Gatherer\\nL:1/8\\nM:2/4\\nK:D\\nAB/A/ FA | dA f2 | fe/f/ ge       | d/c/d/e/ fa  |\\nAB/A/ FA | dA f2 | fe/f/ g/e/c/d/ | ed       d2 :|\\nef/e/ ce | ac e2 | ef/e/ dB       | fe       c2  |\\nef/e/ ce | ac e2 | ef/e/ dB       | BA       A2 :|',\n",
              " 'X:381\\nT:Laurieston\\nC:Hugh Foss\\nB:The Galloway Album (Castle Douglas 1964)\\nZ:Nigel Gatherer\\nL:1/8\\nM:6/8\\nK:G\\nB | GAB d2B | e2B d2B | c2B A2B | G2B d2B | e2B d2A | B2A G2B |\\n    G2B d2B | e2B d2B | c2B A2B | GAB d2B | edB d2B | B2A G2d |\\n    gfe d2B | d3  B2d | c2B A2d | gfe d2B | cde d2A | B2A G2d |\\n    gfe d2B | d3  B2d | c2B A2d | gfe dcB | ABc B2A | B2A G2 |]',\n",
              " 'X:382\\nT:Flop Eared Mule\\nS:Long forgotten\\nZ:Nigel Gatherer\\nL:1/8\\nM:4/4\\nK:D\\nde | f2 f2 d2 d2 | ABAG FE D2 | E2 G2 F2 E2 | DEFG A2 de |\\n     f2 f2 d2 d2 | ABAG FE D2 | E2 G2 F2 E2 | D4   D2   ||\\ncd | e2 c2 e2 c2 | efed cB A2 | B2 d2 c2 B2 | ABcd e2 cd |\\n     e2 c2 e2 c2 | efed cB A2 | B2 d2 c2 B2 | A4   A2   |]',\n",
              " 'X:383\\nT:Farewell to Whisky\\nC:Niel Gow\\nS:Forgotten\\nZ:Nigel Gatherer\\nL:1/8\\nM:4/4\\nK:G\\nz2 | D2 G2 B2 AB | G2 E2 E2 GE | D2 G2 B2 AB | d2 B2 B3 d |\\n     e2 fg d2 B2 | cBAG  A2 B2 | D3 G  BAGA  | B2 G2 G2  :|\\nBc | d2 B2 g2 B2 | cBAG  A2 Bc | d3 e  d2 Bc | d2 g2 g3 d |\\n     e2 fg edcB  | cBAG  A2 B2 | D3 G  BAGA  | B2 G2 G2  :|',\n",
              " 'X:384\\nT:Fairy Dance, The\\nC:Apologies to Nathaniel Gow\\nZ:Nigel Gatherer\\nM:4/4\\nL:1/8\\nK:D\\nde | f2 fd cdeg | f2 fd gfed  | cABc d2  :|\\nfg | a2 ba gfge | fefd  B2 ge | cABc defg |\\n     a2 ba gfge | fefd  B2 ge | cABc d2  |]',\n",
              " 'X:385\\nT:Kitty Got a Clinking\\nT:High Road to Linton, The\\nS:Craobh Rua\\nZ:Nigel Gatherer\\nM:4/4\\nL:1/8\\nK:D\\nFDFA d2 dA | BABc d2 d2 | FDFA d2 dA | (3Bcd AF E2 D2 :|\\nFAAd BGGB | AFFA BEEG | FAAd BGGB | AFDF E2 D2 |\\nFAAd BGGB | AFFA BEEG | FAAd BcdB | AFDF E2 D2 |]',\n",
              " 'X:386\\nT:Bonnie Banks of Ayr, The\\nC:Robert Burns\\nB:The Gesto Collection\\nZ:Nigel Gatherer\\nM:4/4\\nL:1/8\\nK:C\\nG2|FEDC GEGA|c>de>d c3 B|A>BA>c GA/B/ cA|G<E DC D2 G2|\\nFEDC GEGA|c>de>d c3 B/A/|GEDC A,3 A|G>AGE C2|]',\n",
              " 'X:387\\nT:Seumus Ruadh\\nT:Jamie Roy\\nT:Jamie Rae\\nB:The Gesto Collection, 1895\\nZ:Nigel Gatherer\\nM:6/8\\nL:1/8\\nK:A mix\\nB | AAA a3  | geg a3  | GGG g2e | dBd G2B |\\n    AAA a3  | geg a3  | ege dBd | e3  A2 :|\\na | AAA e2A | dBA A2e | GGG g2e | dBd G2B \\n  | AAA e2A | dBA g2a | ege dBd | e3  A2 :|',\n",
              " \"X:388\\nT:Miss Amelia Eliphant Gask\\nT:Miss Amelia Oliphant Gask\\nT:Miss Oliphant\\nB:Kerr's Merry Melodies, Bk 3 (c1880s)\\nZ:Nigel Gatherer\\nM:4/4\\nL:1/8\\nK:D\\nB|A<F F>D E>D B2|A<F F>A B>cd>B|A<F F>D E>DE>F|D>BA,>B D2-D:|\\nf|d/e/f/g/ a>g f<d d>f|a>df>d f<e e>f|d/e/f/g/ a>g f<d d>f|\\\\\\n1d>B A<B d3:|2d/c/B/A/ B/d/c/e/ d3|]\",\n",
              " \"X:389\\nT:Miss Mariane Oliphant\\nC:Robert Macintosh\\nB:Gatherer's Musical Museum (1985)\\nZ:Nigel Gatherer\\nM:4/4\\nL:1/8\\nK:G\\nD|G,>B, D>=F E>C CB,/C/|D>F A>c B<G GF/G/|G,>B, D>=F E<C c>e|\\ndc/B/ cB/A/ G2 G:||g/a/|b<g g>b a<d f<a|g>f a/g/f/e/ f<B Bc/d/|\\nc>e g>c B>d g>B|A>e d<F G2 G g/a/|ba/g/ ga/b/ a<d f>a|\\ng>f a/g/f/e/ f<B B>d|c>c' a>c B>d g>B|A<a d>f g2 G|]\",\n",
              " 'X:390\\nT:Miss Oliphant\\nT:Miss Amelia Eliphant Gask\\nT:Miss Amelia Oliphant Gask\\nB:The Skye Collection (1887)\\nN:\"A favourite tune in Skye\"\\nZ:Nigel Gatherer\\nM:4/4\\nL:1/8\\nK:D\\nd|A<FF>D EDEF|A<F F>A BABd|A<F F>D EDEF|DBA,B D2 D:|\\nz|d/e/f/g/ a2 g<f dd|f<g f<a f<e de/f/|a>baf f<e de/f/|dBAB d2 d2|\\nd/e/f/g/ a2 g<f dd|f<g f<a f<e de/f/|dBBa AFEF|DBA,B D2 D|]',\n",
              " 'X:391\\nT:Mrs Oliphant Murray\\nB:The Gow Collection (1986)\\nN:Originally printed in the early 19th century\\nZ:Nigel Gatherer\\nM:4/4\\nL:1/8\\nK:D\\nf|d2 dA FGAd|BdAd Ecec|d2 dA FGAg|\\nfd f/e/d/c/ dD D||f|dd f/e/d adfd|Ad f/e/d eBBe|\\n1dd f/e/d adfd|AF f>e fd d:|2dfeg fbag|fd f/e/d/c/ dD D|]',\n",
              " \"X:392\\nT:Mrs Oliphant of Condie's\\nB:Kerr's Merry Melodies, Bk 2 (c1880s)\\nZ:Nigel Gatherer\\nM:4/4\\nL:1/8\\nK:G\\nd|B<GG>d B/c/d/B/ GB|E<AA>G F<DD>d|B<GG>d B/c/d/B/ Gg|\\ne<gd>c B<GG::d|g>ab>g a<eg>d|e<g dc/B/ a<AA>d|1g>ab>g a<eg>d|\\ne<gd>c B<GG:|2b<ga<e g<d ed/c/|B<gd>c B<GG|]\",\n",
              " 'X:393\\nT:Willow Kishie, The\\nC:Willie Hunter Jr\\nD:Ossian, Ossian\\nZ:Nigel Gatherer\\nM:4/4\\nL:1/8\\nK:D\\nA | D3  F ADFA | dcdB AFDF | EDEF   GFGA     | BdcB   AFGE  |\\n    D3  F ADFA | dcdB AFDF | GFGA   (3Bcd AG | FEDC   D3   :|\\nA | d2 fd Adfd | Adfd AFDB | =c2 ec GE    C2 | A,=CEG cG E2 |\\n    d2 fd Adfd | Adfd AFDB | GFGA   (3Bcd AG | FEDC   D3 A  |\\n    d2 fd Adfd | Adfd AFDB | =c2 ec GE    C2 | A,=CEG cG E2 |\\n    D3  F ADFA | dcdB AFDF | GFGA   (3Bcd AG | FEDC   D3   |]',\n",
              " \"X:394\\nT:Voulez Vous Danser\\nS:Kerr's Merry Melodies Bk.1 p27\\nZ:Nigel Gatherer\\nM:6/8\\nL:1/8\\nK:D\\nf2f f2f  | ede d3  | c2d e2c | d2e f2d |\\nf2f f2f  | ede def | g2f e2d | c3  d3 ||\\ne2e c2A  | d2f e3  | e2e c2A | d2f e3  |\\na2a ^g2g | f2f e2e | d2d c2B | A3 a2g ||\\nf2f f2f  | ede d3  | c2d e2c | d2e f2d |\\nf2f f2f  | ede def | g2f e2d | c3  d3 ||\\na2a a2a  | gfg f3  | e2f g2e | f2g a2f |\\na2a a2a  | gfg fga | b2a g2f | e3  a2f||\",\n",
              " \"X:395\\nT:Anna's Waltz\\nS:Derek Hoy, Edinburgh\\nZ:Nigel Gatherer\\nM:3/4\\nL:1/8\\nK:Em\\nB3 cBA|B3 cBA|B4 e2|B3 def|g4 g2|f4 e2|f3 g f2|B6|\\ne4 e2|d3 cBc|B4 B2|G3 FEF|G3 A G2|F3 G F2|G6|G6:|\\ne4 e2|g3 f e2|d6|B6|A3 B c2|c3 B A2|B4 c2|d6|\\ne4 e2|g3 f e2|d6|B6|A3 B c2|D2 E2 F2|G3 AGF|G6:|]\",\n",
              " 'X:396\\nT:Deveron Reel\\nC:Neil Grant\\nB:Ceol na Fidhle Vol.3\\nZ:Nigel Gatherer\\nM:2/4\\nL:1/8\\nK:D\\nDD F/E/D/F/ | AA B/A/F/A/ | dd f/e/d/e/ | fe eA |\\nDD F/E/D/F/ | AA B/A/F/A/ | df e/f/g/a/ | fd d>A :|\\nff d/e/f/d/ | eA A>A | BB G/A/B/G/ | AD D>D | \\nGG E/F/G/E/ | FA d>A | B/A/G/F/ E/F/G/A/ | FD D>A |\\nff d/e/f/d/ | eA A>A | BB G/A/B/G/ | AD D>D | \\nGG E/F/G/E/ | FA d>a |b/a/g/f/ e/f/g/a/ | fd d2 |]',\n",
              " \"X:397\\nT:Walker Street Hornpipe\\nB:Kohler's Violin Repository, 1881\\nZ:Nigel Gatherer\\nM:4/4\\nL:1/8\\nK:G\\nD2 | G2 BG dGBG | ABcd cBAG | Bdgd  egdB | cBAG FADF\\n   | G2 BG dGBG | ABcd cBAG | Bdgd  egdB | edcA G2    :|\\nef | g2 dg Bgdg | gabg agef | g2 dg Bgdg | cBAG FADF   |\\n   | g2 dg Bgdg | gabg agef | gfga  gfed | egfa g2 z2 :|\",\n",
              " 'X:398\\nT:Heather on the Hill\\nC:Dan R MacDonald\\nB:Fiddle Music of Prince Edward Island, 1996\\nZ:Nigel Gatherer\\nM:4/4\\nL:1/8\\nK:G\\nB | G2 BA BGGB | dedB G/G/G GB | d2 dB degd | egdB A/A/A AB |\\n    G2 BA BGGB | dedB G/G/G GB | d2 dB degd | egdB G/G/G G :|\\nB | gage  gdde | gbeg degd     | e<aab ageg | abag e/e/e ef |\\n    gage  gdde | gbeg degd     | e<gab agea | gedB G/G/G G :|',\n",
              " \"X:399\\nT:Duncan Davidson\\nB:Kerr's Merry Melodies Bk1, p17\\nZ:Nigel Gatherer\\nM:4/4\\nL:1/8\\nK:D\\nF | D>FA>B A<FA<d | D>Fd>B A<FE>F  |\\\\\\n    D>FA>B A<FA>g | f>de>f d<d  d :|\\ng | f>e (3def g>f>e>d |c<Ae>A c>de>g  |\\\\\\n  1 f>e (3def g>f>e>d | c>de>g f<d d :|\\n  2 f<d g<e a<f b>g   | f>de>f d<d d |]\",\n",
              " \"X:400\\nT:Four Provinces Flings #1\\nT:First of May, The\\nS:Moloney/O'Donnell/Egan\\nZ:Nigel Gatherer\\nM:4/4\\nL:1/8\\nK:Ador\\nz     | E>AA>B c3 B | Adde f2 ef | gfec dfec | dcAF  G3 F |\\n        E>AA>B c3 B | Adde f2 ef | gfec dedc | A2 AG A2  :|\\n(3efg | a2 af g2 ge | f2 fd e3 f | gfec dfec | dcAF  G3 F |\\n        E>AA>B c3 B | Adde f2 ef | gfec dedc | A2 AG A2  :|\\nX:401\\nT:Four Provinces Flings #2\\nT:Duncan Davidson (Kerr's MM Bk1p17)\\nS:Moloney/O'Donnell/Egan\\nZ:Nigel Gatherer\\nM:4/4\\nL:1/8\\nK:D\\nz | D>FA>B A<F d2 | D>FA>B A<F E2  |\\\\\\n    D>FA>B A<Fd>e |1 f>de>g f>dA>D :|\\n                   2 f>de>g f>dd   ||\\ne | f2 f2 g>f>e>d | c>AA>B c>de>g |\\\\\\n    f2 f2 g>f>e>d | c>ea>g f>dd>e |\\n    f2 f2 g>f>e>d | c>AA>B c>de>g |\\n    (3fed (3edc d>BA>F | G>BA>F G>FE>F |]\",\n",
              " \"X:402\\nT:Four Provinces Flings #3\\nT:Lady Mary Ramsay (Kerr's MM Bk1p10)\\nT:The Queen's Shilling (DMI752)\\nS:Moloney/O'Donnell/Egan\\nZ:Nigel Gatherer\\nM:4/4\\nL:1/8\\nK:G\\nz2 | G3 B d<BB>c | d<Bg>B d>BA>B | G3 B d<BB>d | (3efg (3dcB A2 :|\\ng>a | b<gg>b a<ff>a | g2 gd e>fg>a | b<gg>b a<f f2 | (3gfe (3dcB A2 g>a |\\n    | b<gg>b a<ff>a | g2 gd e>fg>a | b>ga>f g>fe>d | (3efg (3dcB A2 |]\",\n",
              " 'X:403\\nT:Lady Madelina Sinclair\\nD:Deaf Shepherd, Even In the Rain\\nZ:Nigel Gatherer\\nM:4/4\\nL:1/8\\nK:A\\nf | e>Ac>A (3cde f2 | e<Ac>A B2 Bf |\\n    e>Ac>A (3cde a2 | A<Ac>B A2 A :|\\ng | a>gf>e f<ag>f | a/g/f/e/ a>c B2 Bg |\\n    a>gf>e f<ag>f | (3agf (3efg a2 e>g |\\n   (3aga (3geg (3fdf (3ece | d>bc>a B2 B>d |\\n   (3cde f2 (3cde a2 |  A<Ac>B A2 A |]',\n",
              " \"X:404\\nT:Coachman's Whip, The\\nC:Vincent Broderick\\nS:Green Tree Session, Edinburgh 5/9/95\\nZ:Nigel Gatherer\\nM:4/4\\nL:1/8\\nK:G\\nd2 BG DGBG | E2 cE dEcE | d2 BG DGBG | FGAc BG G2  |\\nd2 BG DGBG | E2 cE dEcE | D2 DE GABd | gedB A2 G2 :|\\nD2 DE GABc | d2 BG DGBG | d2 BG DGBG | dBAG FG A2  |\\nD2 DE GABc | d2 BG DGBG | FGAB  cdef | gedc BG G2 :|\",\n",
              " 'X:405\\nT:Logan Water\\nD:Aly Bain/Phil Cunningham, The Ruby\\nZ:Nigel Gatherer\\nM:4/4\\nL:1/8\\nK:Emin\\nE>F | G2 F>E E>FGE  | D>EG<E D2 E>F |\\n      G2 F>E E>DEF  | G>FG<A B2 A>B |\\n      c2 BA  B2 AG  | A>GF<E D2 GF  |\\n      E>FGA  B<d B2 | G2 E2  E2    ||\\nBd  | B2 E2  E>DEF  | G>FGE  D2 Bd  |\\n      B2 E2  E>DEF  | G>FG<A B2 A>B |\\n      c2 BA  B2 AG  | A>GF<E D2 GF  |\\n      E>FGA  B<d B2 | G2 E2  E2    |]',\n",
              " \"X:406\\nT:Michael's Mazurka\\nC:Michael Ferrie\\nD:Catriona MacDonald, Bold\\nZ:Nigel Gatherer\\nM:3/4\\nL:1/8\\nK:G\\nGF | G4 A/B/c | B3 AGF | EG GB AG    | Fd FE DF |\\n     G4 A/B/c | B3 AGF | EG GB A/G/F | G4      :|\\nK:GDor\\nD^F | G3  AB<c | d3 cBG | A^F AF DF | G>A B/c/d g2 |\\n      DG GA Bc | d3 cBG | A^F AF DF | 1 G4        :|2 G3 ||\\nK:G\\nABd |: g6       | d4  cB     | A2 a3 g  |   fd cd ef |\\n       g4 b2    | g3 d2 c/B/ | A2 a3 g  |   fd cA FD |\\n       G2 AB G2 | A2 Bc A2   | B2 cd B2 |   c2 de c2 |\\n       d2 g3  e | f3 g a/g/f | g3  fga  | 1 g3  dBd :| 2 g4 |]\",\n",
              " \"X:407\\nT:John McNeill's Highland Fling\\nC:James Scott Skinner\\nB:Harp & Claymore\\nZ:Nigel Gatherer\\nM:4/4\\nL:1/8\\nK:A\\na | e>A A/A/A  a>Ac<a      | c/d/e =g>d  B>GG>f    |\\n    e>A A/A/A  a>Ac<a      | c/d/e  a>e  c>AA     :|\\ne | a/g/f e>A  a>Ac<a      | =g/f/e d>G  g>GB<g    |\\n    a/g/f e>A  a>Ae>d      | c/d/e  a>e  c>AA>e    |\\n   (3agf (3edc (3agf (3edc | (3gfe (3dcB (3gfe d>f |\\n    e>A A/A/A  a>Ac<a      | c/d/e  a>e  c>AA     |]\",\n",
              " 'X:408\\nT:Glencoe Village Hall\\nT:Glencoe March, The\\nC:Dan R MacDonald\\nD:Aly Bain/Phil Cunningham: The Ruby\\nZ:Nigel Gatherer\\nM:4/4\\nL:1/8\\nK:D\\nF>G | A2 d2     F2 d2  | A>FA<d f2 fg/a/ | g3   e c>AB>c | d>cd>B A2\\nF>G | A2 d2     F2 d2  | A>FA<d f2 fg/a/ | g3   e c>AB>c | d2 d>c d2 :||\\nf>g | a2 a>g    f>df<a | g2 g>e c>Ac<e   | d>cd<e f>ef<a | g>fg<b a2\\nf>g | a2 a>g    f>df<a | g2 g>e c>Ac<e   | d>cd>f e<ac<e | d2 d>c d2\\nf>g | a2 a>g    f>df<a | g2 g>e c>Ac<e   | d>cd<e f>ef<a | g>fg<b a2\\nf>g | a/g/f g>e f>de<c | d>BA>F D>FA<d   | B>GB<d c>Ac<e | d2 d>c d2 |]',\n",
              " \"X:409\\nT:Lady Mary Ramsay's Reel\\nT:The Queen's Shilling (DMI752)\\nD:Aly Bain/Phil Cunningham: The Ruby\\nZ:Nigel Gatherer\\nM:4/4\\nL:1/8\\nK:D\\nFE | D3 B AFFA | BGGB AFAd | D3 B AFFA | BdAF EGFE  |\\n     D3 B AFFA | BGGB AFAd | D3 B AFFA | BdAF E3   ||\\ng  | fddf ecce | dBBd AFDg | fddf eccA | BdAF E3 g  |\\n     fddf ecce | dBBd AFD2 | faef dBAF | BdAF EGFE ||\",\n",
              " \"X:410\\nT:Johnny McIljohn's No.2\\nD:Boys of the Lough, Welcoming Paddy Home\\nZ:Nigel Gatherer\\nM:4/4\\nL:1/8\\nK:G\\nG2 GF GBdB | G2 BG A2 GE | G2 GF GABd | egdB AcBA :|\\nGB B2 GBdB | GBdB  A2 GE | GB B2 GBdB | egdB A2 BA |\\nGB B2 GBdB | GBdB  A2 GE | G2 GF GABd | egdB AcBA |]\",\n",
              " \"X:411\\nT:Tidy Girleen, The\\nT:Behind the Bush in the Garden\\nS:'Smoke In Your Eyes' via Ellen Stern\\nZ:Nigel Gatherer\\nM:6/8\\nL:1/8\\nK:ADor\\nc2 A  AGE c2 A AGE | G2 E  D2 E G2 G EFG  |\\nA2 B- Bcd efg e2 d | c2 A  AGE  ABA  A3  :|\\nc2 B- Bcd efg e2 d | c2 B- Bcd  e2 A B2 A |\\nc2 B- Bcd efg e2 d | c2 A  AGE  ABA  A3  :|\",\n",
              " \"X:412\\nT:Behind the Bush in the Garden\\nT:Wha'll Be King But Charley?\\nS:O'Neill's Dance Music of Ireland\\nZ:Nigel Gatherer\\nN:Changed from 6/8 for comparison\\nM:12/8\\nL:1/8\\nK:ADor\\nA/B/ | c2 A AGE  c2 A AGE  | G2 G GAE G3 E2 B |\\n       c2 d e2 a g2 e d2 e | c2 A BAG A3 A2  :|\\nA/B/ | c2 B c2 d efe  e2 d | c2 B c2 d e3 G2 G|\\n      1c2 B c2 d efg  e2 d | cBA  BAG  A3 A2 :|\\n      2c2 d e2 a g2 e d2 e | c2 A BAG A3 A2  |]\",\n",
              " \"X:413\\nT:Unfinished Journey\\nC:Tom Anderson, Shetland\\nB:Gie's An A (Lerwick 1995)\\nZ:Nigel Gatherer\\nM:4/4\\nL:1/8\\nK:Bb\\nBc | d2 B2 e2 c2 | B2 AG   F3  D | E2 c2 F2 d2 | edcB c2 Bc\\n   | d2 B2 e2 c2 | B2 AG   F2 D2 | E2 c2 A2 F2 | B4-  B2  :|\\nde | f2 B2 g2 c2 | f2 A2   B3  F | E2 c2 F2 d2 | edcB c2 de\\n   | f2 B2 g2 c2 | f3 g/a/ b3  d | e2 g2 f2 A2 | B4-  B2 de\\n   | f2 B2 g2 c2 | f2 A2   B3  D | E2 c2 F2 d2 | edcB AGFE \\n   | D2 B2 E2 c2 | B3 A/G/ F2 ED | E2 c2 F2 A2 | [B4D4] [B4D4] |]\",\n",
              " \"X:414\\nT:Bonaparte's Retreat\\nD:Aly Bain/Phil Cunningham, The Ruby\\nZ:Nigel Gatherer\\nM:2/4\\nL:1/8\\nK:D\\nF2 F/E/F/G/ | AF ED | E2    E/D/E/F/ | GF ED | \\nF2 F/E/F/G/ | AF ED | EF/G/ FE       | D4- | D4 :|\\nd2 f>e | d/e/d/B/ AB/c/ | d>B AF | ED F>E | D4- | D4 :|\\nF2 F/E/F/G/ | AF ED | E2    E/D/E/F/ | GF ED | \\nF2 F/E/F/G/ | AF ED | EF/G/ FE       | D4- | D4 :|\\nd2 f>e | d/e/d/B/ AB/c/ | d>B AF |\\nM:1/4\\nED |\\nM:2/4\\nB4- | B4 | d2 f>e | d/e/d/B/ AB/c/ | d>B AF | ED F>E | D4- | D4 :|\",\n",
              " \"X:415\\nT:Old French\\nT:The Rambler's Hornpipe\\nS:Donna Hind's notebooks\\nZ:Nigel Gatherer\\nM:4/4\\nL:1/8\\nK:D\\n(3ABc | d2 cd BdAF  | DFAd f2 ed | cdef gecA | defd  A2\\n(3ABc | d2 cd BdAF  | DFAd f2 ed | cdef gecA | d2 f2 d2 :|\\ncd    | efed  c2 A2 | AEAc e2 dc | BGBd gfed | cAce  a2\\ncd    | efed  c2 A2 | AEAc e2 dc | BGBd gfed | c2 A2 A2 :|]\",\n",
              " \"X:416\\nT:Angus Polka No.1\\nT:Cameron Men's Polka No.1\\nD:Boys of the Lough, Farewell and Remember Me\\nZ:Nigel Gatherer\\nM:2/4\\nL:1/16\\nK:D\\nA2f2 B2g2 | A2f2 f2ef | gfed cdef | edcB AGFG |\\nA2f2 B2g2 | A2f2 f2ef | gfed cABc |1 d2f2 d3B :|2 d2f2 d3 z ||\\nF2A2 ABAF | G2B2 B2cB | A2cB AGFE | DFAB A2AG |\\nF2A2 ABAF | G2B2 B2cB | ABcB AGFE | D2F2 D2z2 :|]\",\n",
              " \"X:417\\nT:Angus Polka No.2\\nT:Cameron Men's Polka No.2\\nD:Boys of the Lough, Farewell and Remember Me\\nZ:Nigel Gatherer\\nN:Transposed down an octave\\nM:2/4\\nL:1/16\\nK:A\\nE2c2 c3B  | A2F2 F3A  | E2A2 AGAB | c2B2 B3z  |\\nE2c2 c3B  | A2F2 F3A  | E2A2 BABc | B2A2 A3z :|\\nC2E2 EFED | C2E2 EFED | C2E2 A2c2 | BABc B2E2 |\\nC2E2 EFED | C2E2 E3A  | F2A2 G2B2 | c2A2 A3z :|\",\n",
              " 'X:418\\nT:Donegal Barn Dance\\nD:Boys of the Lough, Farewell and Remember Me\\nZ:Nigel Gatherer\\nM:2/4\\nL:1/16\\nK:D\\nz2 |\\nAdfd Adfd | B2g2 g2fe | cege cege | b2a2 a2dB |\\nAdfd Adfd | B2g2 g2fe | ceba gage | d2f2 d2  :|\\nz2 |\\nA2FA Bcde | fdAF A3 d | cAGA c3 a | bafd A3 B |\\nA2FA Bcde | fdAF A3 c | dcBc dgfe |1 d2f2 d2 :|\\nK:G\\nd=c |\\nBDGB dgbg | a2e2 e2ae | f2c2 c2fe | d2B2 B2dc |\\nBDGB dgbg | a2e2 e2ag | fdcA dcAF | G2B2 G2  :|',\n",
              " 'X:419\\nT:Midwinter Waltz, A\\nC:Dave Richardson\\nD:Boys of the Lough, The Day Dawn\\nZ:Nigel Gatherer\\nM:3/4\\nL:1/8\\nK:G\\nGA  | B3 c d2 | d3 B A2 | A3 B A2 | G4   EG |\\n      A3 B A2 | A3 B A2 | G3 ABc  | A4   GA |\\n      B3 c d2 | d3 B A2 | A3 B A2 | G4   EG |\\n      A3 B A2 | A3 B A2 | G3 A G2 | G4     :|\\nAB  | c3 B c2 | c3 B c2 | e3 d e2 | A3 B c2 |\\n      d3 e d2 | B3 A G2 | A3 B G2 | A4   \\n1AB | c3 B c2 | c3 B c2 | e3 d e2 | A3 B c2 |\\n      d3 e d2 | B3 A G2 | A3 B A2 | G4     :|\\n2GA | B3 c d2 | d3 B A2 | A3 B A2 | G4   EG |\\n      A3 B A2 | A3 B A2 | G3 A G2 | G4     |]',\n",
              " 'X:420\\nT:Ferry Reel, Da\\nB:Haand Me Doon da Fiddle (1979)\\nZ:Nigel Gatherer\\nM:4/4\\nL:1/8\\nK:D\\nA2 | d2 dA d2 d2 | efed c2 A2 | BcdB  ABAF  | G2 E2 E3\\nA  | d2 dA d2 d2 | efed c2 A2 | BcdB  AGFE  | D2 d2 d2  :|\\ne2 | f2 fd f2 fd | fgag fedf  | e2 ec e2 ec | efed  cBAg |\\n     f2 fd f2 fd | fgag fedf  | efgf  edcB  | A2 d2 d2  :|',\n",
              " \"X:421\\nT:Hey Ca' Through\\nB:Gatherer's Musical Museum (1987)\\nZ:Nigel Gatherer\\nM:9/8\\nL:1/8\\nK:D\\nd>ed A>BA F2 F | d2 d A>BA F F2 | G2 G F>GF E2 F | D2 F A>BA F2 F ||\\nG2 e F2 d E2 F | D2 F A>BA F3   | G2 e F2 d E2 F | D2 F A>BA F3   |]\",\n",
              " \"X:422\\nT:Major Malley's March\\nT:Major Molle\\nC:Andrew Gow\\nD:Battlefield Band, Home Is Where the Van Is\\nZ:Nigel Gatherer\\nM:2/4\\nL:1/8\\nK:D dorian\\nDA  A>G   | FE    DC | DA  A>G   | F2 E2  |\\nDA  A>B   | cA/B/ cA | G>E CE    | G2 FE :|\\nDA- AA/A/ | FD    EC | DA  A/A/A | F2 EF  |\\nDA- AA/A/ | FD    EF | G>E CE    | G2 FE  |\\nDA- AA/A/ | FD    EC | DA  A/A/A | F2 EF  |\\nDA  A>B   | cA/B/ cA | G>E CE    | G2 FE |]\",\n",
              " \"X:423\\nT:Major Malley's Reel\\nT:Major Molle\\nC:Andrew Gow\\nD:Battlefield Band, Home Is Where the Van Is\\nZ:Nigel Gatherer\\nM:4/4\\nL:1/8\\nK:B dorian\\nd>c | B>ff>e    d>cB>A | B>ff>e    d2 c2  | B>ff>g    a>ga>f | e>cA>c e2 :|\\nd>c | B>F B/B/B d>Bc>A | B>F B/B/B d2 c>d | B>F B/B/B d>Bc>d | e>cA>c e2 \\nd>c | B>F B/B/B d>Bc>A | B>F B/B/B d2 c>d | B>ff>g    a>ga>f | e>cA>c e2 |]\",\n",
              " \"X:424\\nT:Major Malley's Reel\\nT:Major Molle\\nC:Andrew Gow\\nD:Battlefield Band, Home Is Where the Van Is\\nZ:Nigel Gatherer\\nM:4/4\\nL:1/8\\nK:A dorian\\ne>B | A>ee>d    c>BA>G | A>ee>d    c2 B2  | A>ee>f    g>fg>e | d>BG>B d2 :|\\nc>B | A>E E/E/E c>AB>G | A>E E/E/E c2 B>c | A>E E/E/E c>AB>c | d>BG>B d2\\nc>B | A>E E/E/E c>AB>G | A>E E/E/E c2 B>c | A>ee>f    g>fg>e | d>BG>B d2 |]\",\n",
              " \"X:425\\nT:Cuilfhionn\\nT:Fingal's Weeping\\nD:Old Blind Dogs, Fit?\\nZ:Nigel Gatherer\\nM:2/4\\nL:1/8\\nK:A\\nE/G/ | A2 B/A/G/A/ | BA    Ae/d/ | BA/G/ ed/B/    | d>G      GE/G/ |\\n       A2 B/A/G/A/ | BA    Ae/d/ | BA/G/ ed/B/    | eA       A    :|\\nB/d/ | ed/e/ gf/g/ | ae/a/ ge/a/ | ed/e/ ge/g/    | e/d/B/A/ GB/d/ |\\n       ed/e/ gf/g/ | ae/a/ ge/a/ | ge/a/ g/e/d/B/ | eA       AB/d/ |\\n       ed/e/ gf/g/ | ae/a/ ge/a/ | ed/e/ ge/g/    | e/d/B/A/ GA/B/ |\\n       dc/d/ ed/e/ | gf/g/ ae/a/ | ge/a/ g/e/d/B/ | eA       A    |]\",\n",
              " 'X:426\\nT:Down In the Glen\\nC:Harry Gordon and Tommy Connor\\nS:Take the Floor, Radio Scotland\\nZ:Nigel Gatherer\\nM:3/4\\nL:1/8\\nK:D\\nA2 | D3   EFG | A4    Dd | B3   AGB | A4 BF |\\n     G2 G2 AE | F2 F4    | E2 D2 E2 | D4   :|\\nzD | d3   cdB | A2 A3  F | GF G2 AE | F4 D2 |\\n     d3   cdB | A2 c2 EE | c3   BAB | A4   ||',\n",
              " 'X:427\\nT:Frank Gilruth\\nC:Peter Milne\\nB:Flowers of Scottish Melody (1930)\\nZ:Nigel Gatherer\\nM:4/4\\nL:1/8\\nK:E\\n    e2 dc BEGB | cFAc BEGB | e2 dc BEGB | cedf eagf |\\n    e2 dc BEGB | cFAc BEGB | edec  BEGB | cedf gee ||\\ng | agfe  dece | Bede gffb | agfe  dece | Bedf geeg |\\n    agfe  dece | Bede gffa | gbge  fafd | egec dfdB |]',\n",
              " 'X:428\\nT:Pinch of Snuff, The\\nS:Johnny Cradden, Edinburgh\\nZ:Nigel Gatherer\\nM:4/4\\nL:1/8\\nK:D\\nF2 DF E2 DE | F2 DF EFGE | F2 DF E2 DE | GABG  EFGE :|\\nDFAF  BFAF  | DFAF  EFGE | DFAF  BFAF  | GABG  EFGE :|\\nK:G\\nB2 GB A2 GA | B2 GB ABcA | B2 GB A2 GA | cdec  ABcA :|\\nGBdB  eBdB  | GBdB  ABcA | GBdB  eBdB  | cdec  ABcA :|\\nK:A\\nc2 Ac B2 AB | c2 Ac BcdB | c2 Ac B2 AB | defd  BcdB :|\\nAcec  fcec  | Acec  BcdB | Acec  fcec  | defd  BcdB :|\\nK:D\\nf2 df e2 de | f2 df efge | f2 df e2 de | gabg  efge :|\\ndfaf  bfaf  | dfaf  efge | dfaf  bfaf  | gabg  efge :|\\nK:DMix\\nf3  e d3  B | A3  F DFAF | DFAB  c3  A | GE E2 cEGE :|',\n",
              " 'X:429\\nT:Johnny Will You Marry Me\\nD:Boys of the Lough\\nN:Aka \"Johnny Won\\'t You Marry Me\" (Kerr\\'s Merry Melodies)\\nN:Descended from \"Braes of Mar\"?\\nZ:Nigel Gatherer\\nM:4/4\\nL:1/8\\nK:G\\nGE | D2 DE GABA | GE (3EEE cEGE | D2 DE GABc | dedB A2 :|\\nz2 | BddB  GBdB | e2 ed    cdec | BddB  GABc | dedB A2 :|',\n",
              " 'X:430\\nT:The £10 Fiddle\\nB:The Scottish Violinist (n.d.)\\nC:James Scott Skinner\\nZ:Nigel Gatherer\\nM:4/4\\nL:1/8\\nK:A\\nE | A2    ED CEAf | eAfA GBBG | A2    EC DFBA | GBeg aAAE |\\n    A/A/A ED CEAf | eAfA GBBG | A/A/A EC DFBA | GBeg aAA ||\\ng | a/a/a ea caAg | aece fBBg | a/a/a ec f/f/f dB | GBeg aAAa |\\n    gaea     caAa | caAa fBBc | A2    EC DFBA     | GBeg aAA |]',\n",
              " 'X:431\\nT:The Baker\\nB:The Scottish Violinist (n.d.)\\nC:James Scott Skinner\\nZ:Nigel Gatherer\\nM:4/4\\nL:1/8\\nK:A\\nd | cAED     CEAc | dFBA GBed | cAED     CEAc     | dfBd cAAd |\\n    cAED     CEAc | dFBA GBed | cAED     CEAc     | dfBg aAA ||\\ng | a/a/a Aa fedc | BFBA GBeg | a/a/a Aa e/e/e Aa | fagb aAAe |\\n    aAag     fedc | BFBA GBed | cAED     CEAc     | dfeg aAA |]',\n",
              " \"X:432\\nT:Man With Two Women, The\\nB:Battlefield Band, Forward With Scotland's Past\\nZ:Nigel Gatherer\\nM:4/4\\nL:1/8\\nK:D\\nagfa- aafa | gece Aceg | agfa- aafa | gecA Bd d2 :|\\nABcd e2 ag | fecd efec | ABcd e2 ag | fecA Bd d2 :|]\",\n",
              " 'X:433\\nT:Turkish 7/8\\nS:Johnny Cradden, Edinburgh\\nZ:Nigel Gatherer\\nM:7/8\\nL:1/8\\nK:Em\\nBeeB  efg | Beeg  fed | BeeB  efg | fede fga :|\\nB2 BA GAB | B2 BA Bcd | B2 BA GAB | AAAG FGA :|]',\n",
              " 'X:434\\nT:Wha Wadna fecht for Charlie?\\nS:Various\\nZ:Nigel Gatherer\\nM:2/4\\nL:1/8\\nK:D\\nD2 D>E | FE F<A | D2 D>E | FA E2 |\\nD2 D>E | FE F<A | Bd Ad  | Fd E2 :|\\nFA AB/c/ | dA BA | FA AB/c/ | dF E2 |\\nFA AB/c/ | dA BA |  Bd Ad  | Fd E2 :|]',\n",
              " \"X:435\\nT:Egan's Polka 1\\nS:Adapted from various sessions\\nZ:Nigel Gatherer\\nM:2/4\\nL:1/8\\nK:G\\nBD ED | BD ED | G2 A>B | AG ED |\\nBD ED | BD ED | G2 A>B | AG G2 :|\\nB2 BA | AG ED | G2 A>B | AG ED |\\nB2 BA | AG ED | G2 A>B | AG G2 :|\\x01\",\n",
              " \"X:436\\nT:Egan's Polka 2\\nS:Various sessions\\nZ:Nigel Gatherer\\nM:2/4\\nL:1/8\\nK:G\\nBD ED | BD ED | G2 A>B | AG ED |\\nBD ED | BD ED | G2 A>B | AG G2 :|\\nBd BA | AG ED | G2 A>B | AG ED |\\nBd BA | AG ED | G2 A>B | AG G2 :|\",\n",
              " 'X:437\\nT:Over the Sea to Skye\\nT:The Skye Boat Song\\nS:Childhood memories\\nZ:Nigel Gatherer\\nM:3/4\\nL:1/4\\nK:G\\nD>ED | G2 G | A>BA | d3 | B>AB | E2 E | D2 | D3 :|\\nB>GB | B3 | A>EA | A3 | G>EG | G2 G | E3 | E3 |\\nB>GB | B3 | A>EA | A3 | G>EG | G2 G | E3 | D3 ||\\nD>ED | G2 G | A>BA | d3 | B>AB | E2 E | D2 | D3 |]',\n",
              " \"X:438\\nT:Barnyards o' Delgaty, The\\nS:Childhood memories\\nZ:Nigel Gatherer\\nM:2/4\\nL:1/8\\nK:D\\nf>e dA | Bd BA | f>e dA | Bd e2  | \\nf>e dA | Bd BA | AA a>g | fe d2 :|\\nA>D DD | FE FB | A>D DD | FA E2  |\\nA>D DD | FE FB | AA a>g | fe d2 :|]3\",\n",
              " 'X:439\\nT:Tor Reid Hornpipe\\nT:Toe Reid\\nC:James S C Johnstone, Orkney\\nD:Parlophone E4070 (78rpm)\\nZ:Nigel Gatherer\\nM:4/4\\nL:1/8\\nK:Bb\\ndc | B2 F2 DB,DF | EDEG FBAc | B2 F2 DB,DF | GBAc  B2   :|\\nBc | defd  BcdB  | efge cdec | defd  BcdB  | GBAc  B2 Bc |\\n     defd  BcdB  | efge cdec | dBcA  BGFE  | DB,CA, B,2 |]',\n",
              " 'X:440\\nT:Deerness Jig, The\\nC:James S C Johnstone, Orkney\\nS:Alan Jackson, Orkney\\nZ:Nigel Gatherer\\nM:6/8\\nL:1/8\\nK:D\\nfg | afb a2 f | def d2 B | AFB AFB  | A3-Afg  |\\n     afb a2 f | def d2 B | ABA def  | e3-efg  |\\n     afb a2 f | def d2 B | AFB AFB  | A3-AzA  |\\n     Bcd dcB  | Aaa a^ga | bag f2 e | d3-d   ||\\nz2 | DED F2 A | d3- d2 c | BGB dcB  | ABA GFE |\\n     DED F2 A | d3- dcB  | ABA AGF  | E3-E2 z |\\n     DED F2 A | d3- d2 c | BGB dcB  | A3-AzA  |\\n     Bcd dcB  | Aaa a^ga | bag f2 e | d3-d   || ',\n",
              " 'X:441\\nT:Mirlands Polka\\nC:James S C Johnstone, Orkney\\nS:Alan Jackson, Orkney\\nZ:Nigel Gatherer\\nM:2/4\\nL:1/16\\nK:D\\nAG | F2D2 A2D2 | f>ed>c d>AF>D | C2A2 E2A2 | c>BA>F G>EC>A  |\\n     D2A2 F2D2 | f>ed>c d>AF>D | C>DE>F G>BA>G | F2D2 D2   :|\\nAG | F>AD>A F>AD>d | B2G2 G2ed | c>eA>e c>eA>a | f2d2 d2 AG |\\n     F>AD>A F>AD>d | B2G2 B,2ED | C>Ec>B A>FG>E | F2D2 D2 :|]',\n",
              " 'X:442\\nT:Scapa Flow\\nC:James S C Johnstone, Orkney\\nD:Parlophone E4070 (78rpm)\\nZ:Nigel Gatherer\\nM:4/4\\nL:1/8\\nK:D\\nA2 | D3  E F2 A2 | G2 B2 A2 g2 | fedc  BAGF  | E2 A2 C2 A,2 |\\n     D3  E F2 A2 | G2 B2 A2 g2 | fedc  Bcde  | f2 d2 d2    :|\\nag | f2 d2 a2 d2 | b2 d2 a2 d2 | c2 BA e2 A2 | g2 e2 c2 A2  |\\n     d3  e f2 d2 | a2 d2 f2 d2 | efga  gfeg  | f2 d2 d2 A2  |\\n     d3  e f2 d2 | a2 d2 f2 d2 | c2 BA e2 A2 | g2 e2 c2 A2  |\\n     D3  E F2 A2 | G2 B2 A2 g2 | fedc  Bcde  | f2 d2 d2   :|]',\n",
              " \"X:443\\nT:Tribute to the Queen\\nT:Flower o' the Quern, The\\nC:James Scott Skinner\\nD:Pibroch MacKenzie, The Mull Fiddler (1969)\\nZ:Nigel Gatherer\\nM:4/4\\nL:1/8\\nK:G\\nD2  | G2 G2 F2 ED | c2 c2 B2 d2 | d2 BA   G2  AB   | A6\\nD2  | G2 G2 F2 ED | c2 c2 B2 d2 | dcEA    G2  F2   | G6 ||\\nG2  | c2 c2 c2 de | d3  B d2 ge | d2 BA   G2  AB   | A6\\nD2  | G2 G2 F2 ED | c2 c2 B2 d2 | dcEA    G2  F2   | G6 ||\\nG,2 | C2 C2 C2 DE | D3 B, D2 GE | D2 B,A, G,2 A,B, | A,6\\nD2  | G2 G2 F2 ED | c2 c2 B2 d2 | dcEA  G2 F2 | G6 ||\\nG2  | c2 c2 c2 de | d3  B d2 ge | d2 BA   G2  AB   | A6\\nD2  | G2 G2 F2 ED | c2 c2 B2 d2 | dcEA    G2  F2   | G6 ||\",\n",
              " 'X:444\\nT:Lad o\\' Byrne\\'s\\nT:Cottage in the Grove, The\\nD:Arty McGlynn & Nollaig Casey: Lead the Knave\\nN:Mistakenly called \"Cottage..\" on the CD\\nZ:Nigel Gatherer\\nM:4/4\\nL:1/8\\nK:G\\nD | D>G G/G/G DGBG | (3ABc BG AGEG | DGGF  GABd  | (3efg dg edge |\\n    dB  B2    GBdB | cE    E2 GEDB,| DEGA  B2 eB | dBAc     BGG :|\\nc | Bd  d/d/d d2ef | g2    bg abge | dB B2 GBdB  | cE E2    GEDc |\\n    Bd  d/d/d d2ef | g2    bg abge | DEGA  B2 eB | dBAc     BGG :|',\n",
              " 'X:445\\nT:Rakes of Mallow, The\\nT:Rakes of Marlowe, The\\nS:Many sessions, etc\\nZ:Nigel Gatherer\\nM:2/4\\nL:1/8\\nK:G\\nGB    GB | GB c/B/A/G/ | FA       FA       | FA d/c/B/A/ |\\nGB    GB | GB d2       | c/B/A/G/ F/G/A/B/ | GG G2      :|\\ngf/e/ dc | bc d2       | gf/e/    dc       | bc A2       |\\ngf/e/ dc | bc d2       | c/B/A/G/ F/G/A/B/ | GG G2      :|',\n",
              " \"X:446\\nT:Johnny McIljohn's No.1\\nS:Sessions, records\\nZ:Nigel Gatherer\\nM:4/4\\nL:1/8\\nK:D\\nFA A2 BAFA | BAFA Bd d2 | FA A2 BAFA | BdAF E2 D2 :|\\nf3 e  d3 A | BAFA BAFA  | f3 e  d3 A | BdAF E2 D2 :|\",\n",
              " \"X:447\\nT:Comin' Thro' the Rye\\nS:Childhood\\nZ:Nigel Gatherer\\nM:4/4\\nL:1/8\\nK:G\\nD>DD<B A>GA<B | D<DE>D    G2 G2 | D>Dd<B A>GA<B | D<DE>D G2 z2 ||\\nd>BG<B A>GA<B | d>B (3GBd e3 g  | d>Bc>A B>GA<B | D<DE>D G2 z2 |]\",\n",
              " \"X:448\\nT:Burning of the Piper's Hut, The\\nS:ALP Scots Music Group, Edinburgh\\nZ:Nigel Gatherer\\nM:4/4\\nL:1/8\\nK:Bm\\nF2 | B>cd>e f4     | f>ef<a f2 ed | c2 A2 e2 A2  | c>de<f e2 d>c |\\n     B>cd>e f4     | f>ef<a f2 ed | c2 A2 f2 e>d | c2 B2  B2    :|\\nF2 | B>cd>e f>BB<B | a>BB<B f2 ed | c2 A2 e2 A2  | c>de<f e2 d>c |\\n     B>cd>e f>BB<B | a>BB<B f2 ed | c2 A2 f2 e>d | c2 B2  B2    :|\",\n",
              " 'X:449\\nT:Irregular Rhythm Exercise\\nC:Nigel Gatherer\\nZ:Nigel Gatherer\\nM:4/4\\nL:1/8\\nK:D\\nD4 A4 | D4 A4 | D4 A4 | D4 A4 |\\nD3 F A3 F | D3 F A3 F | D3 F A3 F | D3 F A3 F |\\nD2 D>F A2 A>F | D2 D>F A2 A>F | D2 D>F A2 A>F | D2 D>F A2 A>F | \\nD>FA>F D>FA>F | D>FA>F D>FA>F | D>FA>F D>FA>F | D>FA>F D>FA>F |]',\n",
              " \"X:450\\nT:Valse Eccossaise\\nT:Leaving Lismore\\nS:Cathy Boyer\\nZ:Nigel Gatherer\\nM:3/4\\nL:1/4\\nK:D\\nD>EF | A2d | BAF | AFE | D>EF | A2A | B    AF | E2 A, |\\nD>EF | A2d | BAF | A3  | ABd  | F2E | F/E/ D2 | D3   :| \\nd>cd | B2A | BAF | A3  | d>cd | B2A | B    AF | E3    |\\nd>cd | B2A | BAF | A3  | ABd  | F2E | F/E/ D2 | D3    |\\nd>cd | B2A | BAF | A3  | d>cd | B2A | B    AF | E3    |\\nD>EF | A2d | BAF | A3  | ABd  | F2E | F/E/ D2 | D3   |\\nX:451\\nT:Mrs General Maxwell\\nB:Kerr's Merry Melodies Bk.2 (c1875)\\nZ:Nigel Gatherer\\nM:4/4\\nL:1/8\\nK:C\\nG | c2 ec dGBG | c2 ec dAAB | c2 ec dGBG |   cAGc ECC  :|\\ne | gagf  ecce | gage  fdde | gagf  ecaf | 1 ecGB c3   :|\\n                                           2 ecdB cGAB |]\",\n",
              " \"X:452\\nT:Mason's Apron, The\\nS:Many\\nZ:Nigel Gatherer\\nM:4/4\\nL:1/8\\nK:A\\ned| c2 A2 ABAF | EFAB dcBA | d2 B2 BcBA | Bcde gfed  |\\n    c2 A2 ABAF | EFAB dcBA | Bcde  fefa | edcB A2   :|\\ned| cAeA  fAeA | cAeA fedc | dBfB  gBfB | dBfB gfed  |\\n    cAeA  fAeA | cAeA fedc | Bcde  fefa | edcB A2  :|]\",\n",
              " \"X:453\\nT:79th's Farewell to Gibraltar\\nC:Pipe Major J MacDonald\\nS:Sessions etc\\nZ:Nigel Gatherer\\nM:2/4\\nL:1/8\\nK:A\\nc/d/ | e>f   ec       | A>B      Aa/g/ | fe/c/    e/f/a/e/ | cB    Bc/d/ |\\n       e>f   ec       | A>B      Aa/g/ | fe/c/    e/f/a/e/ | cA    A    :|\\na    | fe/c/ e/f/a/e/ | f/a/e/c/ Ba    | fe/c/    e/f/a/e/ | fB    Ba    |\\n       fe/c/ e/f/a/e/ | f/a/e/c/ Ba    | fe/c/    e/f/a/e/ | cA    A    :| \\nc/B/ | A>B   ca       | fe/c/    Bc/B/ | A/B/c/d/ e/f/e/c/ | fB    Bc/B/ |\\n       A>B   ca       | fe/c/    Bc/B/ | A/B/c/d/ e/f/e/c/ | cA    A    :| \\nc/d/ | e>f   ec       | e>f      ea    | f>e      fa       | fe/c/ Ba    |\\n       fe/c/ e/f/a/e/ | f/a/e/c/ Ba    | fe/c/    e/f/a/e/ | cA    A   :|]   \",\n",
              " 'X:454\\nT:Tune in D\\nS:Robin Galloway, Edinburgh\\nZ:Nigel Gatherer\\nM:4/4\\nL:1/8\\nK:D\\nDE | F2 FA FEDE  | FAAB A2  DE | F2 FA FEDE  | F2 E2 E2\\nDE | F2 FA FEDE  | FAAB A2  DE | F2 FA FA E2 | D6       :|\\ndA | B2 A2 A2 dA | B2 A2 A2 DE | F2 FA FEDE  | F2 E2 E2\\ndA | B2 A2 A2 dA | B2 A2 A2 DE | F2 FA FA E2 | D6        |\\ndA | B2 A2 A2 dA | B2 A2 A2 DE | F2 FA FEDE  | F2 E2 E2\\nDE | F2 FA FEDE  | FAAB A2  DE | F2 FA FA E2 | D6       |]',\n",
              " \"X:455\\nT:Lord Macdonald's Reel\\nB:Alexander MacGlashan's Collection\\nZ:Nigel Gatherer\\nM:4/4\\nL:1/8\\nK:D\\n    d>ef>e d>BA>d | B>ABd  e/e/e e>g |\\\\\\n    f>efb  a>fef  | d>BA>F D/D/D D  :|\\nB | A>DF>D A>Dd>A | B>EG>E Bee>B     |\\\\\\n    daa>g  f>efd  | egf>e  d/d/d d :|]\",\n",
              " 'X:456\\nT:Farewell to Fuinary\\nS:Many\\nZ:Nigel Gatherer\\nM:6/8\\nL:1/8\\nK:G\\nG | G2G d2B | A2G F2A | B2E E2F | E2D D2D |\\n    E2E G2G | A2B D2D | E2E D2B | A2G G2 :|',\n",
              " 'X:457\\nT:Bonnie Galloway\\nS:Mainly Alex Green\\nZ:Nigel Gatherer\\nM:3/4\\nL:1/4\\nK:G\\nB2F | A2G | EG2 | D3 | D2E | G2B | A2B | A3 |\\nB2F | A2G | EG2 | D3 | D2E | G2B | A2G | G3 |\\nd2d | B2G | e2G | d3 | d2d | B2A | GFG | A3 |\\nB2F | A2G | EG2 | D3 | D2E | G2B | A2G | G3 |]',\n",
              " \"X:458\\nT:Meg Merrilees\\nB:Kerr's Merry Melodies Bk 1 (c1870s)\\nZ:Nigel Gatherer\\nM:4/4\\nL:1/8\\nK:A\\ncd | edcd   eagf | feee e2 cd | efec   eaec | cBBB B2 \\ncd | edcd   eagf | feee e2 cd | efec   BABc | BAAA A2 :|\\ne2 | ^defe =dcdB | ceAe ceAe  | ^defe =dcdB | BAAA A2\\ne2 | ^defe =dcdB | ceAe ceAe  |  dcde  fefg | baaa a2 :|]\",\n",
              " \"X:459\\nT:Willie Davie\\nB:Kerr's Merry Melodies Bk 1 (c1870s)\\nZ:Nigel Gatherer\\nM:4/4\\nL:1/8\\nK:A\\ne2 ef  edcd | e2 ef efga  | e2 ef  edcd | Bcde f2 e2 :|\\na2 Aa  fedc | a2 ea f2 e2 | a2 Aa  fedc | Bcde f2 e2  |\\na2 Aa  fedc | a2 ea f2 eg | abaf   ecAc | Bcde f2 e2 ||\\nc2 ea c2 ea | c2 ea gfed  | c2 ea c2 ea | Bcde f2 e2 :|\\na2 Aa  fedc | a2 ea f2 e2 | a2 Aa  fedc | Bcde f2 e2  |\\na2 Aa  fedc | a2 ea f2 eg | abaf   ecAc | Bcde f2 e2 |]\",\n",
              " 'X:460\\nT:Robertson\\'s\\nT:Robertson\\'s Hornpipe\\nB:Athole Collection (1884)\\nN:Used for the dance \"West\\'s Hornpipe\"\\nZ:Nigel Gatherer\\nM:4/4\\nL:1/8\\nK:Bb\\nbf | d2 B2 B2 db | cA  F2 F2 BA | GFED  EGFE | D2 B,2 B,2\\nbf | d2 B2 B2 bf | g2 =e2 c2 BA | Bcd=e fage | f2 F2 F2   :|\\nfe | dB B2 dB B2 | GE  E2 GE E2 | cdeg  fdcB | A2 F2 F2\\nde | fBAB  gBAB  | bBAB   fBAB  | Ggfe  dcba | b2 B,2 B,2 :|]',\n",
              " \"X:461\\nT:West's Hornpipe\\nB:Kerr's Merry Melodies (c1870s)\\nZ:Nigel Gatherer\\nM:4/4\\nL:1/8\\nK:D\\nA2 | d2 FG AFAF | d2 FG AFAF | BAGF  E2 ef | gfed  cABc  | \\n     d2 FG AFAF | d2 FG AFAF | BAGF  E2 eg | fdec  d2   :|\\nde | f2 df dfdf | e2 ce cece | f2 df dfdf  | edcB  A2 Bc |\\n     dBdB  cAcA | dBdB  cAcA | afge  fdec  | d2 d2 d2  :|]  \",\n",
              " \"X:462\\nT:He mandu 's truagh nach digeadh\\nN:Waulking song\\nS:LP, 'Music from the Western Isles'\\nZ:Nigel Gatherer\\nM:2/4\\nL:1/8\\nK:G dorian\\nG2 Ac | (3BAG AF  | G2  Ac  | (3BAG AF  |\\nG2 Ac |   C>D F<G | c>c B<G |   A>G FD  |\\nC2 DF |   A>G F<D | C2  F2  |   G2  G2 |]\",\n",
              " 'X:463\\nT:Mrs Gordon\\'s Favourite\\nN:\"Ancient Irish\"\\nB:Fourth Part of the Complete Repository, 1817\\nZ:Nigel Gatherer\\nM:2/4\\nL:1/8\\nK:Em\\nB, | E>D      EF       | B>A  F2      | B2  E/G/F/E/ | D>^C B2 |\\n     E>D      EF       | B>d ^cB      | B>B B/A/F/E/ | E3     :|\\nB  | e>e      d/B/d/e/ | f>f g/f/e/d/ | B>A A/B/d/F/ | D3  \\nB  | e>e      d/B/d/e/ | f>f g/f/e/d/ | B>A A/B/d/f/ | e3\\nB  | e>e      d/B/d/e/ | f>f g/f/e/d/ | B>A A/B/d/F/ | D3  \\nB, | e/d/e/f/ BA/F/    | ED  d>A      | B>B B/A/F/E/ | E3     |]',\n",
              " \"X:464\\nT:Louis's Waltz\\nD:Boys of the Lough, Good Friends...Good Music\\nZ:Nigel Gatherer\\nM:3/4\\nL:1/8\\nK:D\\nBAG | F2 DF Ad | f4    ef | gb bg fg | B3  dcB  |\\n      A2 EFGA  | c2 B2 A2 | F3  DFB  | A3\\nBAG | F2 DF Ad | f4    ef | gb bg fg | B3  dcB  |\\n      A2 EFGA  | c2 B2 c2 | d6-      | d3      :|\\nz3  | A3  A A2 | c2 B2 A2 | F3  DFA  | d2 c2 d2 |\\n      e4    ef | e2 A2 G2 | F4   FG  | F2 E2 F2 |\\n      G4    GG | c2 B2 A2 | d3  DFA  | d2 c2 d2 |\\n      E3   FEF | G2 F2 E2 | D6-      | D3     :|]\",\n",
              " 'X:465\\nT:Spanish Lady\\nS:Sessions etc\\nZ:Nigel Gatherer\\nM:2/4\\nL:1/8\\nK:D\\nFA AB/c/ | dd de/f/ | ge fd | BA A2 :|\\nfa af    | ed d>e   | fa af | ed e2  |\\nfa af | ed de/f/ | ge fd | BA A2    |]',\n",
              " 'X:466\\nT:Waves of Tory\\nT:London Bridge\\nS:Sessions etc\\nZ:Nigel Gatherer\\nM:2/4\\nL:1/8\\nK:D\\nA | dA  FA | d2 df | ed  cd       | ef gf/g/ |\\n    af  ge | dc AF | GB  A/B/A/G/ | FD D    :|\\nz | d>d dd | zd d2 | d>d df       | gf ef/g/ |\\n    af  ge | dc AF | GB  A/B/A/G/ | FD D    :|',\n",
              " 'X:467\\nT:Mursheen Durkin\\nD:Scottish Country Party, Mickie Ainsworth\\nZ:Nigel Gatherer\\nM:2/4\\nL:1/8\\nK:D\\nD/E/ | FF ED  | EA A>B | cA GE | ED D>E |\\n       FF ED  | EA A>B | cA Bc | 2d d  ||\\nA    | d2 e>d | cA A>B | cA GE | ED D>E |\\n       FF ED  | EA A>B | cA GE | D3    |]',\n",
              " \"X:468\\nT:I'll Tell Me Ma\\nS:Sessions etc\\nZ:Nigel Gatherer\\nM:2/4\\nL:1/8\\nK:D\\nAd f>f | ge f2  | fe  e>f | ed d2 :|\\naa a<f | gg g<e | f>f fd  | ec BA  |\\naa a<f | gg g<e | f>d ec  | ed d2 |]\",\n",
              " \"X:469\\nT:Caber Feigh\\nT:Cabar Feidh\\nT:Caper Fey\\nB:Kerr's Merry Melodies Bk.1 (c1870s)\\nZ:Nigel Gatherer\\nM:4/4\\nL:1/8\\nK:C\\nG | c2 ed c2 GB | c2 GF ECCA | defe d2 A^c | d2 AG FDDB |\\n    c2 ed c2 GB | c2 GF ECCE | DEFG ABcA   | d2 AG FDD ||\\nf | ecgc  acgc  | ecgc  ecce | fdad bdad   | fgag  fddf |\\n    ecgc  acgc  | GAcd  eccg | afge fde^c  | d2 AG FDD |]\",\n",
              " 'X:470\\nT:Green Grow the Rashes-O\\nD:World of Arthur Spink\\nZ:Nigel Gatherer\\nR:waltz\\nM:3/4\\nL:1/4\\nK:D\\nA | d3  | f2e | fd2 | d2f | e3  | B2A  | BE2  | E2F  |\\n    G2F | G2B | A2F | D2F | E2G | F2E  | DB,2 | B,3 ||\\n    A3  | d2c | dA2 | A3  | B3  | e2^d | eB2  | B2c  |\\n    d2e | d2B | A2F | D2F | E2G | F2E  | DB,2 | B,2 |]',\n",
              " \"X:471\\nT:A Man's a Man for A' That\\nD:World of Arthur Spink\\nZ:Nigel Gatherer\\nR:waltz\\nM:3/4\\nL:1/4\\nK:A\\nE | A2B | A2E | F2A | B2d | c2B | A2E | F3  | F2\\nE | A2B | A2E | F2A | B2d | c2B | A2F | E3  | E2 ||\\nd | c2d | e2c | d2c | B2d | c2d | e2E | F3  | F2\\nd | c2d | e2c | f2B | B2d | c2B | A2F | E3  | E2 |]\",\n",
              " 'X:472\\nT:Ye Banks and Braes\\nD:World of Arthur Spink\\nZ:Nigel Gatherer\\nR:waltz\\nM:3/4\\nL:1/4\\nK:G\\nD | G2G | AGA | BdB | AGA | B>AG | GED | D  EG    | A2 B/A/ |\\n    G2G | AGA | BdB | AGA | B>AG | GED | D  EG    | G2     ||\\nB | d2e | dBG | d2e | dBG | dBG  | dBG | e>d c/B/ | BA B/A/ |\\n    G2G | AGA | BdB | AGA | B>AG | GED | D  EG    | G2     |]',\n",
              " 'X:473\\nT:Scots Wha Hae\\nD:World of Arthur Spink\\nZ:Nigel Gatherer\\nR:waltz\\nM:3/4\\nL:1/4\\nK:C\\nG2G | G2E | G2A | c3  | A2A | A2G | A2B | c2d |\\ne2e | d2c | c2d | e2d | c2A | A2G | G3  | G2 ||\\ne2e | e2d | e2f | g2e | d2d | d2c | d2e | f3  |\\ng2e | d2c | c2d | e2d | c2A | A2G | G3  | G2 ||',\n",
              " \"X:474\\nT:My Nannie's Awa'\\nD:Wallochmore Ceilidh Band, Looking for a Partner\\nZ:Nigel Gatherer\\nR:waltz\\nM:3/4\\nL:1/4\\nK:D\\nA/G/ | \\nF>GA | ABd | f>ed | d2e | f>ed | dBA | Bee  |\\ne2 d/e/ | fdd  | f/e/ dd | dBd | A2F | G>AB |\\nAdd | e>de | f2 F | G>AB | Add | eaf | d2  |]\",\n",
              " \"X:475\\nT:Gael, The I\\nC:Dougie MacLean\\nB:The Nineties Collection\\nZ:Nigel Gatherer\\nR:air\\nM:4/4\\nL:1/8\\nK:Dm\\na3g ab3  | a4  gf3  | g3e gc'3 | e4  dc3  |\\nf3c df3  | g3c dg3  | a3g ab3  | af3 ge3 :|\\na3d ad'3 | ad3 dd'3 | g3c gc'3 | gc3 cc'3 |\\nf3c df3  | g3c dg3  | a3g ab3  | af3 ge3 :|\",\n",
              " 'X:475\\nT:Gael, The II\\nC:Dougie MacLean\\nB:The Nineties Collection\\nZ:Nigel Gatherer\\nR:jig\\nM:6/8\\nL:1/8\\nK:Dm\\nA,3 F2D | EDC DCG, | A,3 F2D | EDC DCA, |\\nC3  E2E | G2E EDE  | C3  E2E | G2E EDE  |\\nF3  F2F | G2F FED  | E2E E2E | G2E EDC  |\\nD2D D2D | FED A,DD | D2D D2D | FED EDC |]',\n",
              " 'X:476\\nT:My Lily\\nT:Mo Shuil ad Dheigh\\nT:Of Thee I Dream\\nS:Aly Bain (from a TV programme)\\nZ:Nigel Gatherer\\nR:air\\nM:3/4\\nL:1/4\\nK:A\\nE | A2 A | A2 (3A/B/c/ | A>GF | E2 c/d/ | c2B/A/ | c2B/A/ | Bcd | e2 e/^e/|\\nf2 e/d/ | ce>c | d2F | E2 F/G/ | A2F | E/D/ C c/d/ | c2B | A2 ||\\na/g/ | a2a/g/ a2 (3a/b/c/ | ag>f | e2d | e2d | c2 B/A/ | Bc>d | e3 |\\nf2 e/d/ | ce>c | d2F | [E2A2e2] f/g/ | a2 g/f/ | ec>d | c2B | A2 |]',\n",
              " \"X:477\\nT:Sweetness of Mary, The\\nC:Joan McDonald Boes\\nS:Aly Bain (from a TV programme)\\nZ:Nigel Gatherer\\nR:strathspey\\nM:4/4\\nL:1/8\\nK:A\\nEA>B |: c2 cB/A/ F2 FA/B/ | c<e^d<f e2 ef/g/ |a>gf>e e>dc>d |\\\\\\ne<f cA B2 A>B |\\nc2 cB/A/ F2 FA/B/ | c<e^d<f e2 ef/g/ |a>gf>e e>dc>d |\\\\\\n1 e<ac<B A>EA>B :|2 e<ac<B A2 ||\\na>b | c'>ea<c' b>eg<b | a>gf<a e4 | f>ed>f e>dc>d |\\\\\\ne<a c<A B2 a>b |\\nc'>ea<c' b>eg<b | a>gf<a e4 | f>ed>f e<ac>d | e<a c<B A2 :|]\",\n",
              " \"X:478\\nT:Hughie Jim Paris\\nC:Joan McDonald Boes\\nS:Aly Bain (from a TV programme)\\nZ:Nigel Gatherer\\nR:reel\\nM:4/4\\nL:1/8\\nK:A\\nAF | EAAc  BAFA | EAcA  d2cd | eaag     aece | fdec B2 AF |\\n     EAAc  BAFA | EAcA  d2cd | eaag     aece | fcec A2   :|\\nab | c'bag fecA | ce^df e2fg | ae (3eee fedc | dfec B2 ab |\\n     c'bag fecA | ce^df e2dc | daag     aece | fcec A2  :|]\",\n",
              " \"X:479\\nT:New Brig o' Dee, The\\nT:Johnnie Steele\\nC:James Barnett\\nB:Flowers of Scottish Melody\\nZ:Nigel Gatherer\\nR:strathspey\\nM:4/4\\nL:1/8\\nK:D\\nA, | D<D F>A d>cd<f | D<DF>D E<A,C<E |  D<D F>A d>cd>A |\\\\\\nB/cd/ (3ABG F<DD>A, |\\n D<D F>A d>cd<f | D<DF>A G/F/E/D/ C<E | D<DF>A d>ed>A |\\\\\\n(3Bcd (3ABG F<D D ||\\nA | d>ef>g a>ba>d | =c>de>f g>a (3gfe | d>ef>g a>ba>f |\\\\\\n(3gfe (3bag f<dd>g |\\n(3fdf (3afd (3gfg (3eag | (3fdf (3ece (3dcB (3AB=c |\\\\\\n(3BGB (3dcB (3Afe (3dcB | (3ABA (3GFE F<D D |]\",\n",
              " 'X:480\\nT:Si Beag Si Mhor\\nT:Sheebeg Sheemore\\nS:Sessions etc\\nZ:Nigel Gatherer\\nR:air\\nM:3/4\\nL:1/8\\nK:D\\nde | f2 fe d2 | d3  e d2 | B4 A2 | F4 A2 | BA Bc d2    | e4 de    |\\n     f4    e2 | d4    f2 | B4 e2 | A4 d2 | F4    (3EFE | D4 f2    |\\n     B4    e2 | A4    dc | d6    | d4   ||\\nde | f2 fe d2 | ed ef a2 | b4 a2 | f4 ed | e4    a2    | f4 (3efe |\\n     d4    B2 | B4    BA | F4 E2 | D4 f2 | B4    e2    | A4 a2    |\\n     ba gf ed | e4    dc | d6    | d4   ||',\n",
              " \"X:481\\nT:Duke of Perth\\nB:Kerr's Merry Melodies Bk.1\\nZ:Nigel Gatherer\\nR:reel\\nM:4/4\\nL:1/8\\nK:G\\nB | G/A/B/c/ dB  gBdB | gBdB aAAB   |\\n    G/A/B/c/ dB  gBdB | cAdc BG G  :|\\nf | gage         abaf | gage beef   |\\n    gage         abaf | gdec BG G :|]\",\n",
              " 'X:482\\nT:Duke of Perth\\nD:Jimmy Shand, BL2361\\nZ:Nigel Gatherer\\nR:reel\\nM:4/4\\nL:1/8\\nK:G\\nd/B/ | G/A/B/c/ dB        gB/B/ dB | gB/B/  dB   aA/A/ A/B/ |\\n       G/A/B/c/ d/B/A/G/  gB/B/ dB | cA/^c/ d>=c BG    G   :|\\nB/d/ | g>age              a>bae    | g>age       beef       |\\n       g>age              a>baf    | g>e    d>c  BG    G  :|]',\n",
              " 'X:483\\nT:Duke of Perth\\nS:Sessions, etc\\nZ:Nigel Gatherer\\nR:reel\\nM:4/4\\nL:1/8\\nK:G\\nB | G/A/B/c/ dB gBdB  | gBdB  aAAB  |\\n    G/A/B/c/ dB gBdB  | cAd>c BG G :|\\nf | g>age       a>baf | g>age beef  |\\n    g>age       a>baf | gde>c BG G :|]',\n",
              " \"X:484\\nT:Jessie Smith\\nT:Miss Jessie Smith\\nB:Kerr's Merry Melodies Bk.1\\nZ:Nigel Gatherer\\nR:strathspey\\nM:4/4\\nL:1/8\\nK:D\\nd | A<FF>E D>A G/F/E/D/ | A<FF>A B2 Bd  |\\n    A<FF>E D>A G/F/E/D/ | G<BA>F E2 E  :|\\nA | d2 f>d B>e d/c/B/A/ | d>ef>d B2 B>A |\\n    d>ef>d B>e d/c/B/A/ | d>BA<F E2 E>c |\\n    d2 f>d B>e d/c/B/A/ | d>ef>d B2 B>g |\\n    (3fed (3cde (3dcB (3ABc |  d>BA<F E2 E |]\",\n",
              " 'X:485\\nT:Drowsy Maggie\\nS:Sessions etc\\nZ:Nigel Gatherer\\nR:reel\\nM:4/4\\nL:1/8\\nK:EDor\\nE2 BE dEBE  | E2 BE AFDF | E2 BE dEBE  | BABc dAFA :|\\nd2 fd c2 ec | defg  afge | d2 fd c2 ec | BABc dAFA  |\\nd2 fd c2 ec | defg  afge | afge  fdec |  BABc dAFA |]',\n",
              " 'X:486\\nT:Scattery Island Slide, The\\nS:Various\\nZ:Nigel Gatherer\\nR:slide\\nM:12/8\\nL:1/8\\nK:D\\nFGA d2d FGA d2d | e2A cBA e2A cBA |\\nFGA d2d FGA d2d | e2A cBA B2c d3 :|\\na3  f2e d3  def | g3  f3  e3  efg |\\na3  f2e d3  def | e2A cBA B2c d3 :|',\n",
              " 'X:487\\nT:Donegal Lass, The\\nS:Drew Mitchell, Edinburgh\\nZ:Nigel Gatherer\\nR:jig\\nM:6/8\\nL:1/8\\nK:A mixolydian\\nAce aed | cdB A3  | GBd G3  | FAd F3  |\\nAce aed | cdB A2a | aed cdB | ABG A3 :|\\nGBd G3  | FAd F3  | e2e ecA | e2e ecA |\\nGBd G3  | FAd F2a | aed cdB | ABG A3 :|',\n",
              " 'X:488\\nT:Summertime 1\\nS:Jack Tuttle\\nZ:Nigel Gatherer\\nM:4/4\\nL:1/8\\nK:Bb\\n{^c}dB | {^c}d- d7- | d2 cB cdB{^F}G- | G D3- D4- | D4 {^c}(3d2=c2B2 |\\n{^B}c- c7- | c2 BG Bc B2 | {^G}A- A7- | A2 (3G,BD GABc |\\n {^c}d- d7- | d2 cB cdB{^c}G- | G D3- D4- | D8 |\\nF2 DF G B3 | {c}_d c3- cBGF | {^F}G- G7- | G6 |]',\n",
              " \"X:489\\nT:Summertime 2\\nS:Nigel Gatherer\\nN:Elements taken from Doc Watson's solo and\\nN:Dave Grisman's solo on the 'Doc and Dawg' CD\\nZ:Nigel Gatherer\\nM:4/4\\nL:1/8\\nK:Bb\\n{^F}GBc | {^c}d- d7- | d^c=cB cdB{^F}G- | G D3- D4- | D4- D{^F}GBc |\\n{^c}d- d2 =c/B/ c4- | c3 A BcBG | ABAG ^FDCA, | G, z3 {^F}GABc |\\n {^c}d- d7- | d^c=cB cdB{^F}G- | G D3- D3 B, | (3B,DB, (3A,DA, G,2 (3BCD |\\n(3FDF DF G B2 {c}_d- | _d c3- cBGF | {^F}G- G7- | G6 |]\",\n",
              " \"X:490\\nT:Ryan's Polka\\nS:Sessions etc\\nZ:Nigel Gatherer\\nM:2/4\\nL:1/8\\nR:polka\\nK:D\\ndd B/c/d/B/ | AF AF    | dd B/c/d/B/ | AF    ED  |\\ndd B/c/d/B/ | AF Ad/e/ | fd ec       | d2    d2 :|\\nfd de/f/    | gf ed/e/ | fd Ad       | fd/f/ a>g |\\nfd de/f/    | gf ed/e/ | fd ec       | d2    d2 :|\",\n",
              " 'X:491\\nT:My Ain Kind Dearie, O\\nT:The Lea-Rig\\nS:Sessions etc\\nZ:Nigel Gatherer\\nM:4/4\\nL:1/8\\nK:G\\nBA | B2 D2 D2 E2 | G3 A G2 B2 | A3 B cBAG | B2 E2 E2 \\nBA | B2 D2 D2 E2 | G3 A G2 gf | e3 d efgd | B2 G2 G2 ||\\nd2 | edef  g2 B2 | cBcd e2 G2 | A3 B cBAG | B2 E2 E2\\nBA | B2 D2 D2 E2 | G3 A GBdg  | e3 d efgd | B2 G2 G2 |]',\n",
              " \"X:492\\nT:My Heart's In the Highlands\\nT:Cro Challin\\nB:Popular Songs and Melodies of Scotland (1893)\\nZ:Nigel Gatherer\\nM:3/4\\nL:1/8\\nK:G\\nG>A | B2 AB dB  | A2 G2 G>A | B2 d2 g>e | d4 \\ne>d | c2 B2 A>G | GB D2 d>c | B2 G2 A2  | G4      ||\\nG2  | A2 B2 g2  | G2 F2 G2  | A2 B2 g2  | d2 B2 G2 |\\n      A2 B2 d2  | G2 F2 e2  | d2 B2 A2  | G4      |]\",\n",
              " \"X:493\\nT:Here Awa', There Awa'\\nB:Popular Songs and Melodies of Scotland (1893)\\nZ:Nigel Gatherer\\nM:3/4\\nL:1/8\\nK:G\\nd3    cBA | G3 A G2 | A3 G  A2 | B2 e4     |\\nd3    cBA | G3 A B2 | e3 ^d e2 | E4    z2 ||\\nB2 e2 ^d2 | e3 f g2 | d2 e2 dc | B3  c d2  |\\nB2 e2 ^d2 | e3 f g2 | B3  A B2 | E4    z2 |]\",\n",
              " 'X:494\\nT:Unst Bridal March\\nB:Haand Me Doon da Fiddle\\nZ:Nigel Gatherer\\nM:3/4\\nL:1/8\\nK:A\\na2 | A2  A2 B2 | c4     e2 | fg  a2 c2 | BA B2 a/g/a/f/ |\\n     e2  A2 AB | c2  e2 Bd | c2  A2 A2 | A4            :|\\na2 | f2  e2 a2 | f2  e2 a2 | f2  e2 a2 | f4    e2       |\\n     f>g a2 e2 | f>g a2 e2 | f>g a2 a2 | a4    c2       |\\n     d2  d2 cB | c2  e2 e2 | fg  a2 c2 | BA B2 a/g/a/f/ |\\n     e2  A2 AB | c2  e2 Bd | c2  A2 A2 | A4            |]',\n",
              " 'X:495\\nT:Afton Water\\nS:Seonaid Lynn, Edinburgh\\nZ:Nigel Gatherer\\nM:3/4\\nL:1/8\\nK:G\\nD2 | G2  B2 AG | AB c2 BA | G2 B2 AG | G2 F2\\nD2 | G2  B2 AG | AB d2 ge | d2 cB AB | G4    :|\\nde | =f2 gf ed | d2 e2 g2 | g2 B2 AG | G2 F2\\nD2 | G2  B2 AG | AB d2 ge | d2 cB AB | G4   :|]',\n",
              " 'X:496\\nT:Lucky Scap\\nT:Lucky Scaup\\nC:Jimmy Shand\\nS:Parlophone F3413\\nZ:Nigel Gatherer\\nM:4/4\\nL:1/8\\nK:D\\nz2 | D2 DF E2 EG | F2 FA G2 GB | A2 f2 gfed | f2 e2 e2 f2 |\\n     D2 DF E2 EG | F2 FA G2 GB | A2 a2 gfed | f2 d2 d2   :|\\nfg | a2 d2 b2 d2 | a2 gf g2 fg | a2 d2 bagf | g2 e2 e2 fg |\\n     a2 d2 b2 d2 | a2 gf g2 fe | A2 a2 gfed | f2 d2 d2 fg |\\n     a2 d2 b2 d2 | a2 gf g2 fg | a2 d2 bagf | g2 e2 e2 f2 |\\n     D2 DF E2 EG | F2 FA G2 GB | A2 a2 gfed | f2 d2 d2   |]',\n",
              " 'X:497\\nT:Wild Mountain Thyme\\nS:Sam Gifford, Loch Tummel\\nZ:Nigel Gatherer\\nM:6/4\\nL:1/4\\nK:D\\nDB, | A,2B, D2E | D3- DFA | B3 B2A | FA2- AFA  |\\nB3    A2F  | ED2- DEF | G2 F E2D | B,D2- D DB,|\\nA,3   B,D2 | D3-  D || FA | B3 B2A | FA2- AFA |\\nB3 A2 F | ED2- DEF | G2 F E2D | B,D2- D DB,  |]',\n",
              " 'X:498\\nT:Yellow Haired Laddie, The\\nT:Brown Haired Lad, The\\nS:Various\\nZ:Nigel Gatherer\\nM:3/4\\nL:1/8\\nK:D\\nD>E | {E}F2 A2 B>c | [d3F3] [ec] [f2d2] | A2 B{cB}A GF | \\nF2 [E2C2] D>E | {E}F2 A2 B>c | [dF]>c de [f2d2] |\\nA>B A<F E>F | [D4A,4] || d>e | [f2A2D2] gfed | c>d ec B{cB}A |\\n[BG]>c dB A{E}F | F2 [E2C2] D>E | {E}F2 A2 B>c | \\n[dF]>c de [f2d2] | A2 [gBD]f e>f | [d6G6] | [d4F4] |]',\n",
              " 'X:499\\nT:Teribus\\nS:Seonaid Lynn, Edinburgh\\nZ:Nigel Gatherer\\nM:2/4\\nL:1/8\\nK:D\\n dA d>e | fa fd | g>f ed  | ce cA  |\\n dA d>e | fa fd | g>f ea  | fd d2 :|\\n a2 a>g | fa fd | g>f e>d | ce cA  |\\n1a2 a>g | fa fd | g>f ea  | fd d2 :|\\n2dA d>e | fa fd | g>f ea  | fd d2 |]',\n",
              " \"X:500\\nT:James F Dickie\\nC:J Murdoch Henderson\\nB:Flowers of Scottish Melody, 1930\\nZ:Nigel Gatherer\\nM:4/4\\nN:Originally notated in 2/4\\nL:1/8\\nK:A\\nF | E2 cA F2 BA | GBdf e2 cA | E2 cA F2 Bc | dcBA GBAF |\\n    E2 cA F2 dB | GBdf e2 ca | d2 fa e2 gb | afed cAA ||\\ng | a2 Aa g2 Ag | fgaf ecea | cA A/A/A fedc | BFBA GBeg |\\n    agfa gfeg   | fgaf ecea | dcdf     eagb | afed cAA |]\\nX:501\\nT:Soldier's Joy\\nS:Various\\nZ:Nigel Gatherer\\nM:4/4\\nL:1/8\\nK:D\\nFG | AFDF  AFDF | A2 d2 d2 cB | AFDF  AFDF | G2 E2 E2 \\nFG | AFDF  AFDF | A2 d2 d2 e2 | fafd  egec | d2 d2 d2  :|\\nde | f2 f2 fagf | edcd  efge  | f2 f2 fagf | edcB A2\\nde | f2 f2 fagf | edcd  efge  | fafd  egec | d2 d2 d2 :|]\",\n",
              " \"X:502\\nT:Si Beag Si Mhor\\nT:Sheebeg Sheemore\\nC:Turloch O'Carolan\\nS:My Interpretation\\nZ:Nigel Gatherer\\nR:air\\nM:3/4\\nL:1/8\\nK:D\\nde | {e}f-f {fg}fe d2 | d3  {ea}e d2 | B4 {cB}A-A | F4 A2 | {c}BA Bc d2 | {d}e-e3 {ae}de |\\n     {e}f-f3    e2 | d4    f2 | B4 e2 | A4 d2 | F4    (3EFE | D4 {e}f-f    |\\n     B4    e2 | A4    dc | d6    | {a}d4   ||\\nde | {e}f-f {fg}fe d2 | ed ef a2 | {a}b-b3 a2 | f4 ed | e4    a2    | f4 (3efe |\\n     d4    B2 | B4    BA | F4 E2 | D4 {e}f-f | B4    e2    | A4 a2    |\\n     {a}ba gf ed | e4  {ae}dc | d6    | {a}d4   ||\",\n",
              " 'X:503\\nT:Banks of the Devon\\nT:Bhannerach dhon na chri\\nB:Burns poems & Songs, Kinsley 1969\\nZ:Nigel Gatherer\\nM:3/4\\nL:1/4\\nK:Em\\nB, | E>FA | B>Ad | A>DG  | F>ED |\\n     E>FA | B>de | B>AF  | E2  :|\\nz  | e>Be | g>fe | d>Ad  | F>ED |\\n   | e>Be | g>fe | B>e^d | e2 e |\\n   | e>Be | g>fe | d>Ad  | F>ED |\\n     E>FA | B>de | B>GF  | E2  |]',\n",
              " \"X:504\\nT:Reel du Pendu\\nT:Hanged Man's Reel\\nB:Fiddle Music of P.E.I., Perlman\\nO:Canada\\nZ:Nigel Gatherer\\nM:4/4\\nL:1/8\\nK:G\\nA | B3 B  BcBA | GABG AGBG | AGAB cBAG |\\n    AB-BB- BcBA | GABG AGBG | AFDF G3  :|\\nE | DGGF GFGB | AFAc B2 B2 | DGGF G2 GB | AFDA G3 :|]\",\n",
              " \"X:505\\nT:Highland Skip 1\\nT:Parnell's Reel\\nT:Boyne Hunt, The\\nN:Originally 'The Perthshire Hunt'\\nB:Cole's 1000 Fiddle Tunes\\nZ:Nigel Gatherer\\nM:4/4\\nL:1/8\\nK:D\\nA2FA DAFA | A2FA BEEB | A2FA DAFA | ABde fedB  |\\nA2FA DAFA | A2FA BEEB | A2FA DAFA | ABde fdd2 ||\\nAdfd adfd | Adfd gee2 | Adfd adfd | ABde fdd2  |\\nAdfd adfd | Adfd gee2 | fgfe dedB | ABde fdd2  |\",\n",
              " 'X:506\\nT:Highland Skip 2\\nS:My interpretation\\nZ:Nigel Gatherer\\nM:4/4\\nL:1/8\\nK:D\\nA2FA DAFA | A2FA BEEB | A2FA DAFA | ABde fedB  |\\nA2GA FAEA | DAFA BEEB | A2FA DAFA | ABde fdd2 ||\\nAdfd adfd | Adfd gee2 | Adfd adfd | ABde fdd2  |\\nAdfd adfd | Adfd gee2 | fgfe dedB | ABde fedB |]',\n",
              " 'X:507\\nT:Brose and Butter\\nS:Johnny Cradden, Edinburgh\\nZ:Nigel Gatherer\\nM:9/8\\nL:1/8\\nK:D\\ndef dBB dBB | def dBB c2A | def dBB dBB | def fae c2A :|\\ndef aff aff | def aff g2e | def aff aff | def fae c2A :|]',\n",
              " 'X:508\\nT:Leaving Lerwick Harbour\\nC:Willie Hunter\\nS:As played by Dick Rutter, Edinburgh\\nZ:Nigel Gatherer\\nM:4/4\\nL:1/8\\nK:Bb\\nF2 | B3 d/c/ B3 F | G2 B2 F2 D2 | E3 G  F2 D2 | C6 \\nF2 | B3 d/c/ B3 F | G2 B2 F2 D2 | E2 C2 F2 D2 | B,6  :|\\nde | f3 d B3 F | G2 B2 e2 g2 | f3 d/B/ F2 D2 | C6 \\nde | f3 d B3 F | G2 B2 e2 g2 | f2 F2 [d3F3] [cE] | [B6D6] \\nde | f3 d B3 F | G2 B2 e2 g2 | f3 d/B/ F2 D2 | C6 \\nF2 | B3 d/c/ B3 F | G2 B2 F2 D2 | E2 C2 F2 A2 | B6  |]',\n",
              " 'X:509\\nT:I Dreamed Last Night of My True Love\\nD:3 Ravens, Malinky\\nZ:Nigel Gatherer\\nM:3/4\\nL:1/8\\nK:F\\nC2 F2 c2 | c6 |\\nM:4/4\\n B>A B2 c2 BA |\\nM:3/4\\n F6 | C2 F2 c2 | B6 | Bc d2 cB |\\nM:4/4\\n c6-c2 |\\nM:3/4\\nC2 F2 c2 | c6 | B2 A2 BG/F/ |\\nM:4/4\\n _E6 AB |\\nM:3/4\\n c4 B2 | GF _E3 F |\\nM:3/4\\n F6 |]',\n",
              " 'X:510\\nT:Cam Ye Oer Frae France\\nS:John MacKay, Edinburgh\\nZ:Nigel Gatherer\\nM:3/4\\nL:1/8\\nK:Em\\nGE ED E2 | GE EG  F/G/A/F/ | GE ED     E2 | FD DA F/G/A/F/ :|\\nEeed e2 | Ee ef ge         | Ee ed/^c/ dB | AF DF AF :| E6 |]',\n",
              " \"X:511\\nT:Highlander's Revenge\\nC:Bruce MacGregor\\nS:Slow Session, W End Hotel, Edinburgh\\nZ:Nigel Gatherer\\nM:4/4\\nL:1/8\\nK:E\\nE2 EE EF A2 | B2 c2 BA F2 | E2 EE EF A2 | Bc e2 f4  |\\nf2 ff a2 ag | f2 e2 cB A2 | B2 BB c2 cB | A2 F2 E4 :|\\nB2 BB c2 cB | A2 B2 AF E2 | B2 BB c2 cB | AceA  f4  |\\nf2 ff a2 ag | f2 e2 cB A2 | B2 BB c2 cB | A2 F2 E4 :|\",\n",
              " \"X:512\\nT:Bonaparte's Retreat 2\\nD:Aly Bain/Phil Cunningham, The Ruby\\nZ:Nigel Gatherer\\nQ:170\\nM:2/4\\nL:1/16\\nK:D\\nF4 F>EF>G | A2F2 E2D2 | E4    E>DE>F | G2F2 E2D2 | \\nF4 F>EF>G | A2F2 E2D2 | E2F>G F2E2       | D4- D4- | D4- D4 :|\\nd4 f3e | d>ed>B A2B>c | d3B A2F2 | E2D2 F3E | D4- D4- | D4- D4 :|\\nF4 F>EF>G | A2F2 E2D2 | E4    E>DE>F | G2F2 E2D2 | \\nF4 F>EF>G | A2F2 E2D2 | E2F>G F2E2       | D4- D4- | D4- D4 :|\\nd4 f3e | d>ed>B A2B>c | d3B A2F2 |\\nM:1/4\\nE2D2 |\\nM:2/4\\nB4- B4- | B4- B4 |\\nd4 f3e | d>ed>B A2B>c | d3B A2F2 | E2D2 F3E | D4- D4- | D4- D4 :|\",\n",
              " 'X:513\\nT:Over the Waterfall\\nS:Old time sessions\\nZ:Nigel Gatherer\\nM:2/4\\nL:1/16\\nK:D\\nde | f2a2 gfe2 | dedB A2de | f2a2  gfe2 | f6 \\nde | f2a2 gfe2 | dedB A2AB | =c2c2 B2A2 | G6 :|\\nFG | A2AA B2B2 | ABAG F2FG | A2d2  cde2 | f6\\nFG | A2AA B2B2 | ABAG F2FG | A2AA  GFE2 | D6 :|',\n",
              " 'X:514\\nT:Jock Stewart\\nS:Tannahill Weavers LP, memory\\nZ:Nigel Gatherer\\nM:3/4\\nL:1/8\\nK:G\\nGA | B2 d2 B2 | A6- | A2 z2 \\nGA | B2 g2 f2 | e6- | e2 z2\\ngg | g3 d B2 | A2 G2 A2 | B6 | A2 z2\\nGA | B2 d2 B2 | A6- | A2 z2 \\nGA | B2 g2 f2 | e6- | e2 z2\\ngg | g3 d B2 | A2 G2 A2 | G6 | G2 |]',\n",
              " 'X:515\\nT:Madam McKeenys Scotch Measure\\nB:Scottish Fiddlers and Their Music\\nZ:Nigel Gatherer\\nN:Transposed from C\\nM:4/4\\nL:1/8\\nK:D\\nFE  | D3 F ABAF | A2 d2 d3 A | Bcde (3def e>d | e2 E2 E2 \\nF>E | D3 F ABAF | A2 d2 d3 A | BcdB edce      | d2 D2 D2 :|\\nde  | fedB ABdA | B2 d2 d3 F | GABA BAGF      | E2 e2 e2 \\nde  | fedf edce | dcBA  BAGF | EFGE AGFE      | D2 d2 d2\\nde  | fedB ABdA | B2 d2 d3 F | GABA BAGF      | E2 e2 e2 \\nde  | fedf edce | dcBA  BAGf | gagf edce      | d2 D2 D2 |]  ',\n",
              " 'X:516\\nT:Methlick Style, The\\nB:The Caledonian Companion, Hardie\\nZ:Nigel Gatherer\\nN:Simplified - grace notes removed\\nM:6/8\\nL:1/8\\nK:Eb\\nB, | E2e  G2e  | E2c    BGE    | BGc  BGE | GFE      C2D      |\\n     E2c  C2A  | B2G    A,2c   | B>cB AGF | G<E[EA,] [E2G,2] :|\\nz  | g3   f3   | edc    c2d    | eBc  BGE | GFF      F3       |\\n     g3   f3   | fg=a   b2g    | fdg  fdc | B3-      B3       |\\n     g3   f3   | edc    c2d    | eBc  BGE | GFE      C2D      |\\n     E<Ec C<CA | B,<B,G A,<A,c | B>cB AGF | G<E[EA,] [E2G,2] |]',\n",
              " 'X:517\\nT:Balquidder Lasses\\nS:Jim Coon, internet\\nZ:Nigel Gatherer\\nM:4/4\\nL:1/8\\nK:Edor\\nBA | G2 FG EFGA  | B2 B2 e4    | d2 A2 ABAF | DEFG A2 \\nBA | G2 FG EFGA  | B2 B2 e4    | d2 A2 BAGF | E6      :|\\nB2 | e2 ef e2 B2 | efgf  e2 Bc | d2 de dAFA | DEFG A2 \\nB2 | e2 ef e2 B2 | efgf  e2 Bc | d2 A2 BAGF | E6      \\nB2 | e2 ef e2 B2 | efgf  e2 Bc | d2 de dAFA | DEFG A2 \\nBA | G2 FG EFGA  | B2 B2 e4    | d2 A2 BAGF | E6      |]',\n",
              " 'X:518\\nT:Brilliancy Medley\\nD:Eck Robertson, Master Fiddler\\nZ:Nigel Gatherer\\nM:4/4\\nL:1/8\\nK:A\\n(3efg | a2 ga f2 eg | aecA BA F2 | A,2 C2 DA,CA, | B,2 E2  G2 \\n  eg  | aecA  Bcde  | aecA BA F2 | A,CEG  A2 f2  | ecBG    A2   :|\\n(3EFG | AB c2 GABG  | FEFG AGFE  | D2  FD C2 EC  | B,A,B,C DCB,C |\\n        A,CEF A2 cA | BABc d2 cB | ABce   fgaf   | edcB    A2  :|]',\n",
              " 'X:519\\nT:Brilliancy Medley\\nB:Dave Swarbrick Takes a Bow\\nZ:Nigel Gatherer\\nM:4/4\\nL:1/8\\nK:A\\ng2 | aece  aece  | aecA BA F2 | E3  B cBcA  | B2 e2   e2 \\neg | aece  aece  | aecA BA F2 | E2 EF ABcA  | B2 A2   A2   :| \\nz2 | A2 cA G2 BG | FEFG AGFE  | D2 FD C2 EC | B,G,B,C B,DCB,|\\n     A,CEF A2 cA | BABc dBAG  | Bcde  fgaf  | edcB    A2  :|]',\n",
              " 'X:520\\nT:Rucenitsa 1\\nO:Bulgaria\\nS:Loose photocopied sheet\\nZ:Nigel Gatherer\\nM:7/8\\nL:1/8\\nK:Am\\nAB^cd efd | e2 ^ga =gfe | a2 gf fed | ^gafe d^c_B  |\\nAB^cd efd | e2 ^ga =gfe | a2 gf fed | ^gafe d^c_B :|\\nA2 d^c cA_B | e2 d^c _BAG | A2 d^c cA_B | e2 d^c _BAG | \\nA2 d^c cA_B | e2 d^c _Bcd | egfe fed | ^cedc _BAG |\\nA2 d^c cA_B | e2 d^c _BAG | A2 d^c cA_B | e2 d^c _BAG | \\nA2 d^c cA_B | e2 d^c _Bcd | egfe d^c_B | A2 AE AEA |]',\n",
              " 'X:521\\nT:Rucenitsa 2\\nO:Bulgaria\\nS:Loose photocopied sheet\\nZ:Nigel Gatherer\\nM:7/8\\nL:1/8\\nK:Bm\\nB2 BF Be^d | fBfg  f2 e | a2 ga gfe |    f2 ef _cBA |\\nB2 BF Be^d | fBfg  f2 e | a2 ga gfe | 1  f2 ef _cBA |\\n                                      2 ^dB_cA B^cd |\\neA^de ede | ^dB_cA BFB  | eA^de ede |   ^dB_cA BFB  |\\neA^de ede | ^dB_cA BFB  | Bc^de fge |    a2 ga afe  |\\neA^de ede | ^dB_cA BFB  | eA^de ede |   ^dB_cA BFB  |\\neA^de ede | ^dB_cA BFB  | Bc^de fge |   ^dB_cA B2  |]',\n",
              " 'X:522\\nT:Rucenitsa 3\\nO:Bulgaria\\nS:Loose photocopied sheet\\nZ:Nigel Gatherer\\nM:7/8\\nL:1/8\\nK:Am\\nA2 ^cd e2 e | e2 ^cd e2 d |ef d2 d3 | d2 d2 d2 d | \\nd2 ^fg g2 =f | g^g=gf ^f2 d | e2 d^c _BAG | A2 eA ^cde |\\nf2 ^ga a2 =g | g2 ge ^f2 d | ^fgge f2 d |  e2 d^c _BAG \\nAB^cd d3 | e2 ed fed | e2 d^c _BAG | A2 AE AEA :|]',\n",
              " 'X:523\\nT:Lament for Will Starr\\nC:Angus Fitchet\\nS:Dick Rutter, Edinburgh\\nZ:Nigel Gatherer\\nM:4/4\\nL:1/8\\nQ:60\\nK:Cm\\nz ^F    |  G>E    CE/G/ A>F  D2     | Gc        cd/e/ d>=B G2 | \\n           A>F    DA    G>E  CD     | EG        G,=B, C2     :|\\n[A,2D2] | [G,E]>G BG    Ac   F2     | Gc        cd/e/ d>=B G2 | \\n           A>F    DA    G>E  CD     | EG        G,=B, C2\\n[A,2D2] | [G,E]>G BG    Ac   F2     | [=A,F]>=A cd/e/ dB   B2 |\\n           g>f    ed    e>=B c_B/A/ | GF/E/     GG,   C3     |]',\n",
              " 'X:524\\nT:Haughton House\\nC:James Mitchell\\nS:Single printed sheet\\nZ:Nigel Gatherer\\nM:4/4\\nL:1/8\\nK:G\\nB/A/ | G>BD>G             B,>D       G,>B  | cBAG     E2  E\\nB/A/ | GB/G/    DG/D/     B,D/B,/    G,>B  | c/B/c/e/ d>F G2 \\nB/A/ | GB/G/    DG/D/     B,D/B,/    G,>B  | cBAG     E2 E\\nB/A/ | G/F/E/D/ E/D/C/B,/ D/C/B,/A,/ G,>B  | c/B/c/e/ d>F G2 G ||\\ne/f/ | gdBG               edBG             | cBAG     E2  E\\ne/f/ | gb/g/    dg/d/     Bd/B/      GA/B/ | c/B/c/e/ d>F G2 G \\ne/f/ | gdBG               edBG             | cBAG     E2  E\\nB/A/ | G/F/E/D/ E/D/C/B,/ D/C/B,/A,/ G,>B  | c/B/c/e/ d>F G2 G |]',\n",
              " \"X:525\\nT:Debbie Ann's Reel\\nC:Ronnie Jamieson\\nB:The Nineties Collection\\nZ:Nigel Gatherer\\nM:4/4\\nL:1/8\\nK:A\\nz2 | A,2 CE  EA,CE | D2 FA ADFA | E2 GB BEGB | cdcB AFEC  |\\n     A,2 CE  EA,CE | D2 FA ADFA | E2 GB BEGB | cdcB A2   :|\\ne2 | a2  c'a ecAc  | d2 fd AFDF | G2 BG EGBd | cBcd e^deg |\\n     a2  c'a ecAc  | d2 fd AFDF | G2 BG EGBd | aece A2  :|]\",\n",
              " 'X:526\\nT:Winster Gallop\\nS:Claire McLaughlin, Edinburgh 9/4/03\\nZ:Nigel Gatherer\\nM:2/4\\nL:1/8\\nK:G\\nGB GB | GB d2 | AB/c/ BA  | GB d2   |\\nce ge | dB d2 | Ab/c/ BA  | G2 G2  :|\\ngf ed | gf ed | gf    ed  | cB A2   |\\nfe d2 | fe d2 | d2    A>c | BG G2 :|]',\n",
              " 'X:527\\nT:Banbury Bill\\nD:Swarbrick, Lift the Lid and Listen\\nZ:Nigel Gatherer\\nM:2/4\\nL:1/8\\nK:D\\nDE  FD  | GA    B2  | EF    GA/G/ | FG A>A  |\\nAD  FA  | de    f>f | ge    Bc    | d2 d2  :|\\nd>e fd  | cd    e2  | Bc    de/d/ | cB A2   | \\ndD  D>D | F/G/A A>A | B/c/d c/d/e | d2 d2 :|]',\n",
              " 'X:528\\nT:Maid of the Mill\\nD:Swarbrick, Lift the Lid and Listen\\nZ:Nigel Gatherer\\nM:6/8\\nL:1/8\\nK:C\\nG  | G2c  c>Bc | def  g2c | A2A  _BAG | c3- c2\\nG  | G>cc c>Bc | d>ef g2c | A>AA _BAG | c3- c  ||\\nef | g>gg g>fe | f>ef f2e | def  g>ed | c3  B2\\nG  | G>cc c>Bc | d>ef g2c | A>AA _BAG | c3- c  ||',\n",
              " 'X:529\\nT:Highland Mary\\nD:Swarbrick, Lift the Lid and Listen\\nZ:Nigel Gatherer\\nM:2/4\\nL:1/16\\nK:A\\nA2 | A2BA GFE2 | A2Bc d2cd | e^def e=dcB | A2c2 E4  |\\n     A2BA GFE2 | A2Bc d2cd | e^def e=dcB | A2G2 A2 :|\\nA2 | ABcd e2e2 | fedc d2cd | e2ef  edcB | A2c2 E4  |\\n     A2BA GFE2 | A2Bc d2cd | e^def e=dcB | A2G2 A2 :|',\n",
              " \"X:530\\nT:Mona's Delight\\nD:Swarbrick, Lift the Lid and Listen\\nZ:Nigel Gatherer\\nM:2/4\\nL:1/16\\nK:A\\nE2 | A2AB c2BA | B2Bc d2cB | A2Ac e2cA | GBE2 GBE2  |\\n     A2AB c2BA | BABc d2cB | cecA BdBG | A2A2 A2   :|\\ncd | e2ed cde2 | d2dc Bcd2 | c2cB ABcA | BAGF EFGE  |\\n     c2cB ABc2 | d2dc BcdB | cBAc BAGB | A2A2 A2  :|]\",\n",
              " 'X:531\\nT:Wedding Gift, The\\nS:Derek Hoy\\nC:Dave Panting\\nZ:Nigel Gatherer\\nM:3/4\\nL:1/8\\nK:D\\nA | D4-   DA | FA-AB (3cBA) | d4     cA    | BG d2-dB | \\n    D4-   DA | FA-AB (3cBA) | dB G2 (3FAF) | E4-   EA | \\n    D4-   DA | FA-AB (3cBA) | d4     cA    | BG d2-dB |\\n    AF D3  A | BG d2 (3FGF) | E4-    ED    | D4-   D :|\\nA | f2 d2 A2 | e4     cA    | d4     cA    | BG d3  A | \\n    f2 d2 A2 | e4     cA    | dB G2 (3FGF) | E4-   EA | \\n    f3  d A2 | e4     cA    | d4     cA    | BG d3  B |\\n    AF D3  A | BG d2 (3FGF) | E4-    ED    | D4-   D :|',\n",
              " 'X:532\\nT:Balquidder Lasses\\nD:Swarbrick, Ceilidh Album\\nZ:Nigel Gatherer\\nM:4/4\\nL:1/8\\nK:Edor\\nBA | G2 E2 EFGA  | B2 B2 e2 B2 | d2 A2 ABAF | DEFG A2 \\nBA | G2 E2 EFGA  | B2 B2 e2 B2 | d2 A2 BAGF | E6      :|\\nB2 | e^def e2 B2 | efgf  e2 Bc | d2 d2 dAFA | DEFG A2 \\nB2 | e^def e2 B2 | efgf  e2 Bc | d2 A2 BAGF | E6      \\nB2 | e^def e2 B2 | efgf  e2 Bc | d2 d2 dAFA | DEFG A2 \\nBA | G2 FG EFGA  | B2 B2 e4    | d2 A2 BAGF | E6      |]',\n",
              " 'X:533\\nT:Lea Rig, The\\nD:Swarbrick, Ceilidh Album\\nZ:Nigel Gatherer\\nM:2/4\\nL:1/16\\nK:A\\ncB | c2E2 E2F2 | A3B  A2c2 | B3c  dcBA | c2F2 F2\\ncB | c2E2 E2F2 | A3B  Acea | f2fe fgae | c2A2 A2  :|\\ne2 | fefg a2c2 | dcde f2A2 | BABc dcBA | c2F2 F2 \\ncB | c2E2 E2F2 | A3B  Acea | f2fe fgae | c2A2 A2 :|]',\n",
              " 'X:534\\nT:Johnny Murray of Lochee\\nS:Clare McLaughlin, Edinburgh 9/4/03\\nZ:Nigel Gatherer\\nM:4/4\\nL:1/8\\nK:A\\nF | EAAG  A2 AF | EAAG AcBA | FBBA  B2 Bc | dcBA GBAF |\\n    EAAG  A2 AF | EAAG AcBA | d2 cB cecA  | GBed cAA :|\\nB | c2 cB cAAB  | cAeA cAAc | d2 dc dcBA  | GBgf edcB |\\n    c2 cB cAAB  | cAeA cAAc | d2 cB cecA  | GBed cAA :|',\n",
              " \"X:535\\nT:Crooked Stovepipe, The\\nS:Donna Hind's notebook\\nZ:Nigel Gatherer\\nM:2/4\\nL:1/8\\nK:G\\n(3DEF | GB B/c/d/B | GB B/c/d/B | GB eB |   dc cB/A/ |\\n        FA A/B/c/A | FA AB/c/   | dd ef |   g3      :|\\na     | b3    a    | g3     f   | ee fg |   a3  b    |\\n        c'3   a    | f3     e   | dd ef | 1 g^g a^a :|\\n                                          2 g3      |]\\nX:536\\nT:Bob of Fettercairn\\nB:Scots Guards - Standard Settings\\nZ:Nigel Gatherer\\nM:4/4\\nL:1/8\\nK:D\\nB | \\nd>B   G>B d>B G>B   | d>B d>g   f2  d>f    |\\\\\\ne>c   A>c a>c A>c   | e2  e>f   g>a g/f/e  |\\nd>B   G>B d>B G>B   | d>B d>e   f2  e/f/g  |\\\\\\na/g/f g>f e>d e/f/g | B<A B/c/d e2  e<g   ||\\nd>g   B>g d>g B>g   | d>B d>g   f2  d>f    |\\\\\\ne>a   c<a e>a c<a   | e2  e>f   g>a g/f/e  |\\ne>a   c<a e>a c<a   | d<B d>e   f2  e/f/g  |\\\\\\na/g/f g>f e>d e/f/g | B<A B/c/d e2  e<g   ||\\nd/B/B d<G B>A G>B   | d<B d>e   g2  e<a    |\\\\\\nA2    e>A c>B A>c   | e2  e>f   g>a g/f/e  |\\nd/B/B d<G B>A G>B   | d<B d>e   f2  e/f/g  |\\\\\\na/g/f g>f e>d e/f/g | B<A B/c/d e2  e<g   ||\\nB<G   d<G B<G G/G/G | B<G d<G   f2  d<a    |\\\\\\nA2    e>A c<A A/A/A | e>A c<A   g>a g>d    |\\nB<G   d<G B<G G/G/G | B<G d<G   f2  e/f/g  |\\\\\\na/g/f g>f e>d e/f/g | B<A B/c/d e2  e<g   |]\",\n",
              " 'X:537\\nT:Braes of Mar, The\\nD:The Driven Bow, Alasdair Fraser\\nZ:Nigel Gatherer\\nM:4/4\\nL:1/8\\nK:D\\nF<AA>B d>ef>e | d<BB>A B<dB>A | F<AA>B d>ef>d | e<gf<a e2 d2 :|\\nf<aa>g f>da>f | g<bb>a g>eb>g | f<aa>g f>da>f | g<bf<a e2 d2 :|\\ne2 e>f g>fe>d | B2 B>A B<dB>A | F<AA>B d>ef>d | e<gf<a e2 d2 :|\\nF<AA>F D>FA>F | G<BB>G D>GB>G | F<AA>F D>FA>F | G<BF<A E2 D>E |\\nF<AA>F D>FA>F | E2 E>F G>FE>D | F<AA>B d>ef>g | a>ba<f e2 d2 ||',\n",
              " 'X:538\\nT:Jenny Dang the Weaver\\nS:Various books, sessions, etc\\nZ:Nigel Gatherer\\nM:4/4\\nL:1/8\\nK:D\\nd>A A/A/A AFAB | d>A A/A/A f2 ef  |\\nd>B B/B/B BABd | ABde      f2 ef :|\\nd2  fd    efge | defd      e2 dB  |\\ndefd      efge | a>A A/A/A f2 ef  |\\nd2  fd    efge | defd      e2 dB  |\\ndefd      efge | a>A A/A/A fgef  |]',\n",
              " 'X:539\\nT:Domhnall Dubh\\nT:Black Donald\\nD:The Driven Bow, Alasdair Fraser \\nZ:Nigel Gatherer\\nM:4/4\\nL:1/8\\nK:Edorian\\nE2 F<A c2 B<c | B>FA>F D>EF<D | \\nE2 F<A c2 B<c | B>FA>F E2 E2 :|\\nG>E E2 E>FG>A | F>GF>E D>EF<D |\\nG>E E2 E>FG>A | B<BA<F E2 E2 :|',\n",
              " \"X:540\\nT:Lady's Plaything, The\\nT:General Howe's March\\nS:West Edinburgh Folk Group and Matt Seattle\\nZ:Nigel Gatherer\\nM:6/8\\nL:1/8\\nK:A\\ne/d/ | c2c cde | B2B B2e | A2A ABc | c3  B2f |\\n       eae cec | AcA e2d | cdc BcB | A2A A2 :|\\nz    | ece ece | f2f f2d | dBd dBd | e2e e2d |\\n       cAc cAc | d2d dcB | cde edc | c3  B2f |\\n       eae cec | AcA e2d | cdc BcB | A2A A2 :|\",\n",
              " \"X:541\\nT:Tailor's Shirt, The\\nS:West Edinburgh Folk Group and Matt Seattle\\nZ:Nigel Gatherer\\nM:6/8\\nL:1/8\\nK:A\\nB>cd ded | =g2d B2G | c>de efe | a2e c2A  |\\nB>cd ded | =g2d B2G | c>de efe | a2e c2A ||\\na2e  c2A | =g2d B2G | a2e  f2e | a2e c2A  |\\n=gag gfe |  d2d B2G | cde  ece | a2e c2A ||\",\n",
              " 'X:542\\nT:Back of the Change House\\nT:CÙl an Taigh Osda\\nS:Finn Moore via Niall Anderson, Glasgow,\\nZ:Nigel Gatherer\\nM:4/4\\nL:1/8\\nK:D\\nB | AAAf edBd | AAAB dedB | AAAf edBg |1 faef dedB :|\\n                                       2 faef dd d  |\\ng | fedf edBg | fefg adag | fedf edBg |1 fdaf edBg :|\\n                                       2 faef d2 d |]',\n",
              " \"X:543\\nT:I Would Have Preferred Thee At First, But Not Now, Sir\\nT:'Nuair clÙmnic mi'n tòs thu, dheaninn do phòsadh\\nS:Gunn Coll? via Niall Anderson, Glasgow,\\nZ:Nigel Gatherer\\nM:6/8\\nL:1/8\\nK:D\\ne | AAA c2e | efe c2e | AAA c2e | gdB B<Be |\\n    AAA c2e | efe c2A | dBB g2B | cAA AA  :|\\ne | aga c2e | AAe c2e | aga c2e | gdB B<Be |\\n    aga c2e | AAe c2A | dBB g2B | cAA AA  :|\",\n",
              " \"X:544\\nT:Jerry's Pipe Jig\\nC:Jerry Holland\\nS:Iain MacDonald via Niall Anderson, Glasgow,\\nZ:Nigel Gatherer\\nM:6/8\\nL:1/8\\nK:D\\nedB AAA | eee efg | edB cAc | BGG Bcd  |\\nedB A3  | ABc e2f | gaa age | edB BAA :|\\neaa eaa | dBd egg | eag f2d | edB Bdd  |\\neaa eaa | dBd egg | gaa age | edB BAA :|\",\n",
              " \"X:545\\nT:A Rosa Vermelha\\nS:Barbara Pomerenke-Steel\\nZ:Nigel Gatherer\\nM:4/4\\nL:1/8\\nK:Am\\nA2c2 e4 | a4 e2e2 | A2c2 e4 | a4 f4 | d2e2 f2a2 | f2d2 c2e2 |\\na2e2 e2d2 | c2B2 A4 | ABcd e2c'2 | b2a2 e2e2 | ABcd e2c'2 | \\nb2a2 f2f2 | d^cde f2a2 | fafd c2e2 | a^gaf e2d2 |\\nc2B2 A4 |ABcd e2c'2 | b2a2 e2e2 | ABcd e2c'2 | b2a2 f2f2 | \\nd^cde f2a2 | fafd c2e2 | a^gaf e2d2 | c2B2 A4 |]\",\n",
              " 'X:546\\nT:A Rosa Vermelha - harmony\\nS:Barbara Pomerenke-Steel\\nZ:Nigel Gatherer\\nM:4/4\\nL:1/8\\nK:Am\\nz4 c4 | e4 c4 | A2A2 c4 | e4 d4 | A2 A2 d4 | d2d2 c4 |\\nc2c2 B4 | B2B2 A4 | A2A2 c2a2 | e2e2 c4 | A2A2 c2a2 |\\ne2e2 f4 | d2d2 d2f2 | d2d2 c2A2 | c2e2 e2B2 | B2B2 A4 |\\nA2A2 cBea | gfed c2A2 | A2 AB cBcd | effe f4 |\\nA2 A^c de f2 | fede Accd | e2e2 e2B2 | BA ^G2 A4- | A4 z4 |]',\n",
              " 'X:547\\nT:Man On the Moon\\nC:Donald MacLeod\\nS:Niall Anderson, Glasgow\\nZ:Nigel Gatherer\\nM:4/4\\nL:1/8\\nK:Amix\\ne | A2 cA ce a2 | eAca BGGB | A2 cA ce af | ecBc AA A :|\\ne | agfe  fg a2 | agfe aece | agfe  fg af | ecBc AA A\\ne | agfe  fg a2 | agfe aece | fgaf  ecaf  | ecBc AA A |]',\n",
              " 'X:548\\nT:Back of the Change House\\nT:CÙl an Taigh Osda\\nS:Finn Moore via Niall Anderson, Glasgow,\\nZ:Nigel Gatherer\\nM:4/4\\nL:1/8\\nK:D\\nB | A>AA>f e>dB<d | A>AA>B d>ed>B | A>AA>f e>dB>g |1 f<ae>f d>ed>B :|\\n                                                   2 f<ae>f d>d d   |\\ng | f>ed>f e>dB>g | f>ef>g a>da>g | f>ed>f e>dB>g |  f<da>f d2 d :|]',\n",
              " 'X:549\\nT:Inimitable\\nS:Donna Hind\\'s notebooks\\nN:cf \"Kitty Sharp\\'s Champion Jig\"\\nZ:Nigel Gatherer\\nM:2/4\\nL:1/16\\nK:G\\nD2 | G2D2 E2DC | B,DGB d2^cd | edcB cBAG | FGAB cDEF |\\n     G2D2 E2DC | B,DGB d2^cd | edcB cBAG | FGAB G2  :|\\nD2 | Bdze dBAG | Bdzd  b2g2  | Bdze dBAG | FGAB c4   |\\n     Bdze dBAG | Bdzd  b2g2  | Bdze dBAG | FGAB G2  :|',\n",
              " 'X:550\\nT:Wee Morag\\nC:Nigel Gatherer\\nZ:Nigel Gatherer\\nM:4/4\\nL:1/8\\nK:Bm\\nz | B2 dB cA A2 | Bcde fa/f/ ec | B2 dB cA A2 | fdec B3  :|\\nc | d2 fd adfd  | (3cBA eA fAeA | d2 fd adfd  | Bdcd B3 c |\\n    d2 fd adfd  | (3cBA eA fAeA | B2 dB cA A2 | fdec B3  |\\nX:551\\nT:Big Rory\\nC:Nigel Gatherer\\nZ:Nigel Gatherer\\nM:4/4\\nL:1/8\\nK:Bm\\nc2 B/c/B A3 z | e>A A2 cded | cABG A2 Bc | dBGB dBed |\\nc2 B/c/B A3 z | e>A A2 cdef | gfge dBGB  | ecdB A3  ||\\ne | aece Acef | g2  Bg dgBg | aece Aceg  | fdBe cAAe |\\n    aece Acef | g2  Bg dgB2 | c2 B/c/B Aceg |  fdBe A3 |]',\n",
              " 'X:552\\nT:Wee Morag II\\nC:Nigel Gatherer\\nZ:Nigel Gatherer\\nM:4/4\\nL:1/8\\nK:Bm\\nz | B2 d>B c<A A2 | B>cd>e f<a e>c | B2 d>B c<A A2 | f>de<c B3  :|\\nc | d2 f>d a>df>d  | c<A e>A f>A e2 | d2 f>d a>df>d  | B>dc<d B2 B>c |\\n    d2 f>d a>df>d  | c<A e>A f>Ae>A | (3dcB (3edc (3fed (3cde | f>de<c B3  |]',\n",
              " \"X:553\\nT:Here's to All Around Ardmillan\\nC:J Warden\\nS:Gatherer's Musical Museum, \\nN:orig. from Hamilton's Universal Tune Book\\nZ:Nigel Gatherer\\nM:6/8\\nL:1/8\\nK:G\\nE | DEG G2A | B2c BAG | DEG  G2A | B2e d2B  |\\n    DEG G2A | B2c BAG | B>AG efg | dcB A2G ||\\n    Bcd G2B | cde edc | Bcd  G2e | d2B A2G  |\\n    Bcd G2d | efg e2d | gze  czB | BAG A2G |]\",\n",
              " 'X:554\\nT:Air for Linda\\nC:Nigel Gatherer\\nZ:Nigel Gatherer\\nL:1/8\\nM:4/4\\nK:Bm\\n[V:1] FA|B2 c2 dBAF|Ddcd eAAe|fBFB cAAf|gBed cAFA|\\n[V:2] F2|G2 F2 B2 C2|d2 A2 c2 A_B|=B2 Bd eccA|B2 G2 F2 F2|\\n%\\n[V:1] B2 c2 dBAF|Ddcd eAAe|fBdf egfe|dBBA B2:|\\n[V:2] G2 F2 B2 C2|d2 A2 c2 A_B|=BFBd c2 A2|B2 FE D2:|\\n%\\n[V:1] ag|fgfe d2 fd|efed cdec|dBBA FB (3Bcd|cAAf eAce|\\n[V:2] c2|d4 A4|c2 A2 _B2 F2|BFFE D2 F2|A2 E^G A2 A2|\\n%\\n[V:1] fgfe da a2|efed ca a2|dBcA FBce|dBBA B2:|]\\n[V:2] d2 Ac d2 A2|cdcB A2 c2|B2 F2 B,DEG|F2 FE D2:|]',\n",
              " \"X:555\\nT:Iomramh eadar Il'as Uist\\nT:Rowing from Islay to Uist\\nB:Simon Fraser Collection\\nN:Transposed from Am (to be whistle-friendly)\\nZ:Nigel Gatherer\\nL:1/8\\nM:6/8\\nK:Bm\\nF | B2 B d2 e | c2 B c2 e | B2 B f2 f | gfe f2 c |\\n    d2 d e2 d | c2 B c2 f | gfe  f2 c | 1 d2 B B2 :| \\n                                        2 B2 c d2 ||\\nA | F2 F F2 E | F2 F d2 e | c2 B A2 F | E2 D E2 G |\\n    F2 F F2 E | F2 F d2 e | c2 B A>Bc | B3-  B2  :|]\",\n",
              " \"X:556\\nT:Banks of the Allan, The\\nB:Kerr's Merry Melodies Bk.1\\nZ:Nigel Gatherer\\nL:1/8\\nM:6/8\\nK:D\\nDE | FGF FED | FAA A2d | Bdd Add | Bdd Add |\\n     FGF FED | FAA A2d | BdB AFD | FEE E  :|\\nde | fgf fed | faa a2g | fgf fed | gbb b2a |\\n     fga efg | def fed | BdB AFD | FEE E  :|\",\n",
              " 'X:557\\nT:Gilderoy\\nB:Surenne, Songs of Scotland... (c1870s)\\nN:Transposed from Bb for comparison\\nZ:Nigel Gatherer\\nL:1/8\\nM:4/4\\nK:Am\\nE2  | A2 A>B c>Bcd  | e2 dc d2 cd  | e2 G2 cAGE   | G4 z2\\nc>B | A>^GAB c>Bcd  | e>def e2 ag  | fedc  B3 A   | B4 z2 ||\\ne>f | g>^fga g2 =fe | fedc  d2 c>d | e2 G2 c<AG>E | G4 z2\\nc>B | A>^GAB c>Bcd  | e>def e2 ag  | fedc  B3 A   | B4 z2 |]',\n",
              " 'X:558\\nT:Tummelweed\\nC:Nigel Gatherer, Sam Gifford\\nZ:Nigel Gatherer\\nL:1/8\\nM:4/4\\nK:Bm\\nf4    fgfe  | d2 B2  B4   | c4    cdcB  | A2 F2 F4    |\\nf4    fgfe  | d2 B2  BcdB | c2 A2 f3  e | d2 B2 B4   :|\\nf2 fe f2 fe | f2 ^g2 a4   | e3 f  ed c2 | efed  c2 e2 |\\nf2 fe f2 fe | f2 ^g2 a4   | e2 ef ed c2 | d2 B2 B4   :|',\n",
              " 'X:559\\nT:Victoria Hornpipe\\nB:Skye Collection\\nZ:Nigel Gatherer\\nL:1/8\\nM:4/4\\nK:A\\ne2  | a2 e2 dcBA   | a2 e2 dcBA  | dcBA =G2 AB | =g2 d2 d2 \\ne^g | a2 e2 dcBA   | a2 e2 dcBA  | dcBA ^GBed  |  c2 A2 A2 :|\\ncB  | ABcd  e2 e=g | f2 df e2 ce | dcBA =G2 AB | =g2 d2 d2 \\ncB  | ABcd  e2 e=g | f2 df e2 ce | dcBA ^GBed  |  c2 A2 A2 :|]',\n",
              " \"X:560\\nT:Miss Bennet's Jig\\nD:Jim Johnstone, Sound of\\nZ:Nigel Gatherer\\nL:1/8\\nM:6/8\\nK:D\\nA | d2A FAF  |  D2D D2F | G2F E2D | DCB, A,2\\nA | d2A FAF  |  D2D D2A | B2G E2C | D3   D2  :|\\nz | A2A AB=c | =cBB B3  | B2B Bcd | dcc  c2\\nA | d2A f2d  |  a2f d2A | B2G E2C | D3   D2  :|]\",\n",
              " 'X:561\\nT:Islay House\\nD:Jim Johnstone, Sound of\\nZ:Nigel Gatherer\\nL:1/8\\nM:6/8\\nK:A\\nE    | A>BA AGF | E>FE ECE | A2A  BAB | cAF F2\\nG    | A>BA AGF | E>FE ECE | AcA  BdB | cAA A2 :|\\nc/d/ | ecA  AGA | FDD  Dde | f^dB BcA | G2E EFG |\\n       A>BA AGF | E>FE ECE | AcA  BdB | cAA A2 :|',\n",
              " 'X:562\\nT:Laird of MacNab, The\\nD:Jim Johnstone, Sound of\\nZ:Nigel Gatherer\\nL:1/8\\nM:6/8\\nK:A\\nE    | A>BA c2d | ecA fga | ecA ded | cAF  BGE  |\\n       A>BA c2d | ecA fga | ecA edB | A3   A2  :|\\nc/d/ | eaa  faa | eaa faa | efe edc | B2A  GFE  |\\n       A>BA c2d | ecA fga | ecA edB | A3   A2 :|]',\n",
              " 'X:563\\nT:Highland Donald\\nD:Andrew Rankine\\nZ:Nigel Gatherer\\nL:1/8\\nM:2/4\\nK:Bm\\nd/c/ | BB  BA/B/ | cB Bc/B/ | A>F EF  | AB       A>E |\\n       FB  BA/B/ | cB Bc/B/ | A>F EF  | B2       B  :|\\nA    | d2  d>e   | fd BA    | e2  e>f | g/f/e/d/ BA  |\\n       d>e fd    | Bd AF    | BA  FA  | B2       B :|]',\n",
              " 'X:564\\nT:Falls of Lorna\\nD:Wallochmor Ceilidh Band\\nZ:Nigel Gatherer\\nL:1/8\\nM:2/4\\nK:Am\\nB/d/ | e2       e/f/e/d/ | eA  AB/c/ | d2       d/e/d/B/ | dG G\\nB/d/ | e2       e/f/e/d/ | e>f ga    | g/f/e/d/ gB       | A2 A :|\\ne/g/ | a2       a>g      | ae  e>f   | g>a      g/f/e/d/ | gd d\\ne/g/ | a2       a>g      | ae  ea    | g/f/e/d/ gB       | A2 A\\ne/g/ | a2       a>g      | ae  e>f   | g>a      g/f/e/d/ | gd dg\\n     | e/f/g/e/ a/g/f/e/ | ae  ea    | g/f/e/d/ gB       | A2 A |]',\n",
              " 'X:565\\nT:Alastair of the Dun\\nD:Andrew Rankine\\nZ:Nigel Gatherer\\nL:1/8\\nM:2/4\\nK:Gm\\nGG B2    | BA/G/ A2    | cc/c/ FF    | c/c/c/c/ FF  |\\nGG B2    | BA/G/ AB/c/ | dB    cA    | G2       G2 :|\\ndc GA/c/ | dc    G2    | cA    FA/B/ | cA       F2  |\\ndc GA/c/ | dc    GA/c/ | dB    cA    | G2       G2 :|]',\n",
              " 'X:566\\nT:Hi-O-Hiram\\nT:Haidh-O-Haidrum\\nT:Stocainnean Daoimean\\nT:Checkered Stockings\\nD:Bobby MacLeod, Maestro\\nZ:Nigel Gatherer\\nL:1/8\\nM:4/4\\nK:D\\nz2  | d2 c2  B2 E2 | B>AB>c d2 B2 | A2 A>B A2 D2  | A>FA>B d2 e2 |\\n      d2 c2  B2 E2 | B>AB>c d2 ed | B>AB>d B2 A>F | E4     E2   :|\\nB2  | E/E/E B>A B>AB>e | E/E/E B>A B2 c>d | D/D/D A>F A>FA>B |\\\\\\n      D/D/D A>F A2 B2  | \\n      E/E/E B>A B>AB>e | E/E/E B>c d2 e2  | B>AB>d    B2 A>F | E4 E2 :|\\nB>d | e>BB>e B2 e>d | B>AB>c d2 e2 | d>BB>d A/A/A d>A | B>dB>A F>BA>F |\\n      e>BB>e B2 e>d | B>AB>c d2 ed | B>AB>d B2    A>F | E4     E2   :|]',\n",
              " \"X:567\\nT:Donal Don\\nD:Jock Tamson's Bairns, May You Never Lack a Scone\\nZ:Nigel Gatherer\\nL:1/8\\nM:2/4\\nK:G\\nB2 d>B | AG E2       | A2 B>A | GE D2  |\\nB2 d>B | AG E/F/G/A/ | Bd BA  | G2 G2 ||\\nD2 D>E | DG GF       | E2 E>D | EA AF  |\\nD2 D>E | DG GA       | Bd BA  | G2 G2 |]\",\n",
              " 'X:568\\nT:Hey Ho! My Bonnie Lass\\nD:Iain MacPhail\\nZ:Nigel Gatherer\\nL:1/8\\nM:4/4\\nK:A\\nA2 ec efae | c2 AB c2 Bc | A2 ec efae | B2 ce f2 ef  |\\nA2 ec efae | c2 AB c2 BA | dfBd  ceAc | Bcde  fefg  ||\\na2 af efae | c2 AB c2 Bc | a2 af efae | B2 ce f2 ef  |\\naAaf  efae | c2 AB c2 BA | dfBd  ceAc | Bcde  f2 e2 |]',\n",
              " \"X:569\\nT:Jimmy Ward's Fancy\\nC:Jimmy Ward\\nB:100 Evergreen irish Session Tunes\\nZ:Nigel Gatherer\\nL:1/8\\nM:6/8\\nK:G\\nE | G3  GAB | AGE GED | GAG AGE | GED D2E  |\\n    GAG GAB | AGE GAB | cBA BGE | DED D2  :|\\nB | c2A BAG | ABA AGE | cBA BGE | DED DAB  |\\n    cBA BAG | ABA ABc | dcB AGE | DED D2 :|]\",\n",
              " \"X:570\\nT:Highland Whisky\\nB:Kerr's Merry Melodies Bk.1 (c.1870s)\\nZ:Nigel Gatherer\\nL:1/8\\nM:4/4\\nK:A\\nE | A<A A2 A>Bc<e | B<BB>c d>ef<a | A<A A2 A>Bc>d | ef/g/ a>c B2 A :|\\ne | c/B/A e>A f>Ae>A | F<BB>A G<BB>d | c/B/A e>A f>Ae>A | \\nef/g/ a>c B2 Ae | c/B/A e>A f>Ae>A | F<BB>A G<BB>c | A<cB<d c<ed<f |  \\nef/g/ a>c B2 A |]\",\n",
              " \"X:571\\nT:Cameron's Got His Wife Again\\nB:Kerr's Merry Melodies Bk.1 (c.1870s)\\nZ:Nigel Gatherer\\nL:1/8\\nM:4/4\\nK:D\\nB | d>BA>F A<AA>B | d>BA>F E<EE>c | d>BA>F A<gf>e | d>BA>F D<D D  :|\\ng | f<df<a e<gf>e | f<df<a B<BB>g | f<df<a e<gf>e | d>BA>F D<D D>g |\\nf<df<a e<gf>e | f<df<a B<BB>c | d/e/f/g/ a>f e<gf>e | d>BA>F D<D D |]\",\n",
              " 'X:572\\nT:Some Clues On the Blues\\nB:Easy Mandolin Solos\\nZ:Nigel Gatherer\\nL:1/8\\nM:4/4\\nK:D\\nd2 =F^F ABA=F | ^FAB=c- c4 | d2 =F^F ABA=F | ^FAB=c- c3 _B- |\\n=B2 dB edB_B- | =BdBe- ed B2 | d2 =F^F ABA=F | ^FAB=c- c3 c |\\n^c2 ec fec=c | ^cecf- fe c2 | d2 =F^F ABA=F | ^FAFD- D4 |]',\n",
              " \"X:573\\nT:Cenneag Mor\\nT:Weary We've Been\\nD:Wick SCDB\\nZ:Nigel Gatherer\\nL:1/8\\nM:4/4\\nK:D\\nz | f2 f>e d>BA>B | d2 e>d B2 A2  | f2 f>e d>BA>B | d>BA>B d2 d :|\\nA | d2 e>f a>fe>f | a>fe>f e>dB>A | d2 e>f a>fe>f | a>Af>e d2 d :|]\",\n",
              " 'X:574\\nT:Pretty Peggy\\nD:Alastair Fraser\\nZ:Nigel Gatherer\\nL:1/8\\nM:4/4\\nK:D\\nA | d2    fd AFDF | d2    fd    e/f/g fe | d2    fd AFDF | GEFD        CEE  :|\\nA | F/E/D AD BDAD | G/F/E F/E/D CEEG     | F/E/D AD BDAD | G/F/E F/E/D A,DDA |\\n    F/E/D dD cDBD | AD    F/E/D CEEG     | FAdf     ecdB | AFGE        FDD  |]',\n",
              " 'X:575\\nT:Hector the Hero\\nC:James Scott Skinner\\nS:Various\\nZ:Nigel Gatherer\\nL:1/8\\nM:6/8\\nK:D\\nD | F>ED BAF | A3- A2 D | F>ED BAF | E3- E2\\nD | F>ED BAF | A2D d2 B | ADF  E2D | D3- D2 :|\\nF | B>cB dcB | A3- A2 F | BAF  ADF | E3- E2\\nF | B>cB dcB | ADE F<dB | ADF  E2D | D3- D2 :|]',\n",
              " \"X:576\\nT:Marquis of Huntly's Highland Fling\\nC:George Jenkins\\nB:Kerr's Merry Melodies\\nZ:Nigel Gatherer\\nL:1/8\\nM:4/4\\nK:D\\nA | d<df>d    g>ef>d | B<Be>d       c<AA>c  | \\n    d<df>d    g>ef>d | B>e d/c/B/A/ d2-  d :|\\nB | A>D F/E/D A>Bd>f | g>ef>d       e>dB<d  |\\n    A>D F/E/D A>Bd>b | a<fe>f       d2-  d :|]\",\n",
              " 'X:577\\nT:Braigh Lochiall\\nT:The Braes of Locheil\\nB:The Gesto Collection\\nZ:Nigel Gatherer\\nL:1/8\\nM:4/4\\nK:C\\nC | DE D2 D4 | d2 d4 cA | G2  A2 c4 | ED C2 G4 | \\n    A2 d4 cA | G2 A2 c4 | F<E D2 C4 | D6      |]',\n",
              " 'X:578\\nT:Eagle\\'s Whistle, The\\nB:Joyce, \"Old Irish Folk Music & Songs\"\\nZ:Nigel Gatherer\\nL:1/16\\nM:2/4\\nK:G\\nG | B2 B2 dBAG  | B2 B2 dBAG  | B2 A2 A2 BG | B2 A2 A2 BG |\\n    B2 B2 dBAG  | B2 B2 dBAG  | E2 G2 G3  A | E2 G2 G3   :|\\nd | edef  e2 dB | dBdg  d2 BA | d2 g2 dBAG  | B2 A2 A2 BG |\\n    edef  e2 dB | dBdg  d2 BA | B2 ge dBAG  | E2 GG G3   |]',\n",
              " \"X:579\\nT:Eagle's Whistle, The\\nS:Forgotten or lost\\nZ:Nigel Gatherer\\nL:1/8\\nM:3/4\\nK:G\\nDGA | B2    dBAG | BA/B/ dBAG    | A2 A>BAG   | A3 \\nDGA | B2    dBAG | BA/B/ dBAB/A/ | G2 GBAB/A/ | G2 G  :|\\nABd | ef/e/ degf | ef/e/ dBAG    | A2 A>BAG   | A3 \\nABd | ef/e/ degf | ef/e/ dBAB/A/ | G2 GBAB/A/ | G2 G :|]\",\n",
              " \"X:580\\nT:Over the Border\\nB:Kerr's Merry Melodies Bk 1\\nN:slightly altered\\nZ:Nigel Gatherer\\nL:1/8\\nM:6/8\\nK:G\\nG3  G3  | GBA GED | G>EE E2D  | edB A2B  |\\nG3  G3  | GBA GED | c>de d<gG | GAB A2G :|\\nGBd dBG | edB BAG | GBd  efg  | GAB BAG  |\\nGBd dBG | edB BAG | EGE  DEF  | GAB A2G :|]\",\n",
              " \"X:581\\nT:Muckin o' Geordie's Byre, The\\nS:Sessions, etc\\nZ:Nigel Gatherer\\nL:1/8\\nM:6/8\\nK:D\\n       ABA AFA | d2e f2a | g2e f2d |  efd B2d  |  \\n       ABA AFA | d2e f2g | afd efe |1 d3  dcB :|\\n                                    2 d3      ||\\ndef |  g2g gag | f2f faf | e2e efg |  fed B2d  |\\n       ABA AFA | d2e f2g | afd efe |  d3     :|]\",\n",
              " \"X:582\\nT:Roaring Jelly\\nT:Smash the Windows\\nB:Kerr's Merry Melodies Bk.1\\nZ:Nigel Gatherer\\nL:1/8\\nM:6/8\\nK:D\\nA, | DED F2A | d2f ecA | G2B F2A | E2F GFE |\\n     DED F2A | d2f ecA | Bgf edc | d3  d2 :|\\na  | a2f f2d | A2a agf | g2e e2c | A2g gfe |\\n     f2d g2e | a2f bag | fed edc | d3  d2a |\\n     agf fed | Adf afd | gfe ecA | Ace gfe |\\n     fed gfe | agf bag | fed edc | d3  d2 |]\",\n",
              " 'X:583\\nT:Little Liza Jane\\nS:Friends\\nZ:Nigel Gatherer\\nL:1/8\\nM:4/4\\nK:A\\nef | a2 f2 e3 e | fecB  A2 ef | a2 f2 e2 c2 | f6\\nef | a2 e2 e3 e | fecB  A4    | cBAF  E2 F2 | A4 A2 :|\\nz2 | Bccc  c3 A | B2 A6       | Bccc  cB A2 | F6 \\nE2 | F A3  B3 A | B c3  B3  A | cBAF  E2 F2 | A4 A2 :|]',\n",
              " 'X:584\\nT:Put Me In the Big Chest\\nS:Sessions etc\\nZ:Nigel Gatherer\\nL:1/8\\nM:4/4\\nK:A\\nF | EFAB c2 cf | ecBA F/F/F AF | EFAB cBcf | ecBc A/A/A A :|\\nc | efec eAAc  | efec BABc     | efec efaf | ecBc A/A/A A :|]',\n",
              " 'X:585\\nT:I Am a Poor, Wayfaring Stranger\\nS:John Garst\\nZ:Nigel Gatherer\\nL:1/8\\nM:3/4\\nK:Dm\\nDDA | A3 GAG | F D2\\nDDA | G3 FDC | D3\\nAAc | d3 Acd | A G2\\nAAc | d3 Acc | A3\\nDDA | A3 GAG | F D2\\nDDA | G3 FDC | D3 |]',\n",
              " 'X:586\\nT:Billy Wilson\\nB:Slow Jam for Old Time Music\\nZ:Nigel Gatherer\\nL:1/8\\nM:4/4\\nK:A\\n(3efg | a2 g2  a2 eg | fedf edcA  | B2 G2  E2 GE | ABcd   e2\\n(3efg | a2 ga- a2 eg | fedf edcB  | ABcd   efed  | cABG   A2  :|\\nA2    | ABcd   efed  | cAcA B2 B2 | ABcd   efed  | cABG   A2  :|\\nEF    | A2 A2- AcBA  | F3 A F2 EF | A2 A2- ABcd  | e2 e2- efec |\\n        B3  c  B2 A2 | F3 A F2 EF | A2 AB  ceaf  | ecBG   A2  :|]',\n",
              " 'X:587\\nT:Eighth of January, The\\nT:Battle of New Orleans, The\\nS:Nigel Gatherer\\nZ:Nigel Gatherer\\nL:1/8\\nM:4/4\\nK:D\\nde | f2 fa fe d2 | efed B2 Bd | e2 ef edBA | dBAF D2 :|\\nDE | F2 A2 A2 F2 | ABAF EDDE  | F2 A2 dBAF | EDEF D2 :|]',\n",
              " 'X:588\\nT:Wagoner One-Step\\nD:Earl Collins\\nZ:Nigel Gatherer\\nL:1/8\\nM:4/4\\nK:C\\ne3 e e2 e2- | ed c2 A2 G2 | g3  g g2 g2- | gabg a2 g2  |\\ne3 e e2 e2- | ed c2 A2 G2 | g2 fg a2 g2  | c6      z2 :|\\nC3 D E2 G2  | AGcG  A2 G2 | B3  B B2 G2  | AGBG A2 G2  |\\nC3 D E2 G2  | AGcG  A2 G2 | g2 fg a2 g2  | c6      z2 :|]',\n",
              " \"X:589\\nT:Piper's Wedding, The\\nB:P.M. Donald Macleod's Collection, Bk.6\\nZ:Nigel Gatherer\\nL:1/8\\nM:6/8\\nK:D\\na | A2d dcd | B2d A3  | A2d dcd | f2a e2a |\\n    A2d dcd | B2d A2g | fdd ecc | edd d2 :|\\na | fdd add | ce2 A2a | fdd add | f2a e2a |\\n    fdd add | ce2 A2g | fdd ecc | edd d2 :|]\",\n",
              " \"X:590\\nT:Gillie Callum\\nT:The Sword Dance\\nB:Kerr's Merry Melodies Bk.1\\nZ:Nigel Gatherer\\nL:1/8\\nM:4/4\\nK:A\\nA<Ac>A d2 B>=G | A<Ac>A e2 cA  | e2  cA  d2 B=G | A<Ace  d<B e2 :|\\nA<Ace =g2 dB   | A<Ace  a>ba>f | =g>ag>e d<gB<G | A<Ace  d<B e2  |\\nA<Ace =g2 dB   | A<Ace  a>ba>f | =g>ag>e d<gB<G | A>a=ge d<B e2 |]\",\n",
              " \"X:591\\nT:Far O'er Struy\\nC:John Peter MacLeod (Tain)\\nB:Caledonian Companion (Hardie, 1981)\\nZ:Nigel Gatherer\\nL:1/8\\nM:3/4\\nK:D\\nd>B | [A2D2] [A2D2] d>e | f2 A2 f>g | a2 f2 ed | f2 e2 e>f |\\ng2 a>g fe | d2 B2 d>e | f2 A2 BA | [d4D4] :|\\ne>f | g2 a>g fd | f2 e2 f>e | d2 fa gf | f2 e2 e>f |\\ng2 a>g fe | d2 B2 d>e | f2 A2 BA | [d4D4] :|]\",\n",
              " \"X:592\\nT:Miss Graham\\nB:Kerr's Merry Melodies Bk 3\\nZ:Nigel Gatherer\\nL:1/8\\nM:4/4\\nK:D\\nF | D2 FD A2 FA | BdAF AFEF | D2 FD A2 FA | BdAF E3 :|\\nA | dfef  d2 Ad | BdAd fede | faef  d2 Ad | BdAF E3\\nA | dfef  d2 Ad | BdAd fede | faef  deBd  | AFdF E3 |]\",\n",
              " \"X:593\\nT:Lass o' Paties Mill\\nS:Absorbed over years\\nZ:Nigel Gatherer\\nL:1/8\\nM:4/4\\nK:D\\nA2 | GFED F2 A2 | d3  e f2 A2 | Bcdc BAGF | F4   E2\\nA2 | GFED F2 A2 | d3  e f2 A2 | BcdB cdef | d6      :|\\nef | gfed dcBA  | dcde  f2 A2 | Bcdc BAGF | F4   E2\\nA2 | GFED F2 A2 | d3  e f2 A2 | BcdB cdef | d6      :|\",\n",
              " 'X:594\\nT:Oi Tune, The\\nT:Swedish Polka\\nT:Norwegian Polka\\nS:Jack Campin\\nZ:Nigel Gatherer\\nL:1/8\\nM:2/4\\nK:G\\ndd/d/ dd/d/ | dd/d/ ed | BB/B/ BB/B/ | BB/B/ cB |\\nAA/A/ GG    | FF    EE | DC    BA    | GF    ED |\\ndd/d/ dd/d/ | dd/d/ ed | BB/B/ BB/B/ | BB/B/ cB |\\nAA/A/ GG    | FF    EE | DC    BA    | G4      ||\\nD3     G    | B3     z | BB/B/ cB    | A2    z2 |\\nAA/A/ GG    | FF    EE | DC    BA    | GF    ED |\\nD3     G    | B3     z | BB/B/ cB    | A2    z2 |\\nAA/A/ GG    | FF    EE | DC    BA    | G4      |]',\n",
              " 'X:595\\nT:Ae Fond Kiss\\nS:Amalgam of many renderings\\nZ:Nigel Gatherer\\nL:1/8\\nM:3/4\\nK:G\\nB2 B | d2 e | G2 D | E G2  | \\ne2 e | g2 e | d2 A | B d2  |\\nc2 e | g2 G | G2 D | E G2  |\\nB2 A | B e2 | d2 B | A2 Bc | B2 z |]',\n",
              " 'X:595\\nT:Peat Fire Flame, The\\nS:Amalgam of many renderings\\nZ:Nigel Gatherer\\nL:1/8\\nM:2/4\\nK:Em\\nB | E>F G>F   | ED B2  | BA AG/A/ | BA AB |\\n    E>F G>F   | ED B>A | GE FD    | E2 E :|\\nz | G>A Bg/f/ | ed B2  | BA AG/A/ | BA AB |\\n    G>A Bg/f/ | ed B>A | GE FD    | E2 E :|]',\n",
              " 'X:596\\nT:Auld Graden Kirk, The\\nS:Lori Watson, Fiddle 2003\\nZ:Nigel Gatherer\\nL:1/8\\nM:3/4\\nK:D\\nfe dB AG | FA df ed | B2 d3  B | A6     |\\nf3   efg | a2 f2 d2 | Bc dB cd | e6     |\\nfe dB AG | FA df ed | B2 d3  B | A6     |\\ng3   fga | a2 f2 e2 | d6-      | d4 z2 :|\\na3   faf | a2 e2 d2 | c2 B2 A2 | g6     |\\ng3   fgf | g2 f2 e2 | d2 c2 B2 | A6     |\\na3   faf | a2 e2 d2 | c2 B2 A2 | g6     |\\nf2 e2 d2 | e2 B2 c2 | d6-      | d4 z2 :|]',\n",
              " 'X:597\\nT:Auld Graden Kirn\\nS:LP, Tom Hughes and his Border Fiddle (1981)\\nZ:Nigel Gatherer\\nL:1/8\\nM:3/4\\nK:D\\nA2    | f>e d>B A>G | F>A d>f e>d | B2  d2  B2  | A4 \\nf2    | g2  f2  a2  | a2  f2  d2  | B>c d>B c>d | e4\\nA2    | f>e d>B A>G | F>A d>f e>d | B2  d2  B2  | A4 \\nf2    | g2  f2  a2  | a2  f2  e2  | d3     edc  | d3 ||\\nef>g  | a3     faf  | a2  f2  d2  | c2  B2  A2  | g6  |\\n        g3     fgf  | g2  f2  e2  | d2  c2  B2  | A4\\nd>f   | a3     faf  | a2  f2  d2  | c2  B2  A2  | g4 \\n(3gag | f2  e2  d2  | e2  B2  c2  | d4      d2  | d4 |]',\n",
              " 'X:598\\nT:Home Farm Waltz\\nC:Nigel Gatherer, 1983\\nZ:Nigel Gatherer\\nL:1/8\\nM:3/4\\nK:G\\nB>c | d>c B>d c>B | d>c B>d c>B | A2  f2 (3efe |  d4 \\ne2  | c>B A>c B>A | c>B A>c B>A | G2  g2  f2   | (3efe d2 :|\\nd2  | e>c A>c e2  | d>B G>B d2  | c>A F2  D2   | G>B d2\\nd2  | e>c A>c e2  | d>B G>B d2  | c>A F2  D2   | G4      :|]',\n",
              " \"X:599\\nT:Piper's Ceilidh, The\\nC:PM W MacLeod\\nS:Nuala Kennedy, Edinburgh\\nZ:Nigel Gatherer\\nL:1/8\\nM:4/4\\nK:D\\nB | A2 B<d B2 A2  | B2 d2 e4     | f2 e<f a3   f | gfed  f2 e2  |\\n    A2 B<d B2 A2  | B2 d2 e2 d<e | f2 e<d B2 A>B | d4    d3    :|\\ne | f2 a2  f2 e<d | e2 a2 f4     | e2 a2  f2 e<d | edB<d A2 d<e |\\n    f2 a2  f2 e<d | edBd  e2 d<e | f2 e<d B2 A>B | d4    d3    :|]\",\n",
              " \"X:600\\nT:Farquhar and Hettie's Waltz\\nC:Farquhar MacRae\\nS:Nuala Kennedy, Edinburgh\\nZ:Nigel Gatherer\\nL:1/8\\nM:3/4\\nK:D\\nag | f2 a3  f | d3  f ed | B2 d3 B | A3 B AG |\\n     F2 A2 d2 | f2 a3  f | e6      | e4\\nag | f2 a3  f | d3  f ed | B2 d3 B | A3 B AG |\\n     F2 A2 df | e3  d c2 | d6      | d4     :|\\n(3B<AG | F2 A2 d2 | f4 (3fef | e d3 B2 | A4 \\n(3B<AG | F2 A2 d2 | f2 a3  f | fe- e4  | e4 \\nab     | a2 f2 e2 | f4    ef | f d3 B2 | A4\\n(3B<AG | F2 A2 df | e3  d c2 | d6      | d4 :|\\nX:601\\nT:St Patrick's Cathedral\\nS:Nuala Kennedy, Edinburgh\\nZ:Nigel Gatherer\\nL:1/8\\nM:4/4\\nK:G\\nBABc d2 G2 | G2 A2 F2 G2 | EF G2 D2 G2 | c2 BG B2 A2 |\\nBABc d2 G2 | G2 A2 F2 G2 | EF G2 D2 G2 | GA F2 G4    |\\nFEFG A2 D2 | D2 A2 A2 G2 | BABc  d2 G2 | c2 BG B2 A2 |\\nBABc d2 G2 | G2 A2 F2 G2 | EF G2 D2 G2 | GA F2 G4   |]\",\n",
              " \"X:602\\nT:Cavehill\\nB:Kerr's Merry Melodies Bk 3\\nZ:Nigel Gatherer\\nL:1/8\\nM:6/8\\nK:G\\nd2B BcB | def gfe | d2B BcB | A2B cBA  |\\nd2B BcB | def gfe | dBG DEF | G3  G3  :|\\nD2G GAG | B2G GAG | E2A ABA | cBA GFE  |\\nD2G GAG | B2G GAG | dBG DEF | G3  G3 :|]\",\n",
              " \"X:603\\nT:MacEwan's Barn\\nD:Iain McLachlan and Fergie MacDonald, 1987\\nZ:Nigel Gatherer\\nL:1/8\\nM:\\nK:D\\n(3ABc | d2 d2 BA A2 | f2 f2 edBd | d2 d2 BA A2 | BAAB d2 |\",\n",
              " 'X:604\\nT:Tormaid\\nS:Session/Sarah Northcott\\nZ:Nigel Gatherer\\nL:1/8\\nM:4/4\\nK:Amix\\nc<A A2 G>A B2 | c<A A2 e>f e2 | c<A A2 G>AB>f | e>cd>B c<A A2 :|\\nc2  cA B>c d2 | c2  c2 e>f e2 | c2 c<A B>cd>f | e>cd>B c<A A2 :|',\n",
              " 'X:605\\nT:Breton Tune\\nS:Stramash, Dec 2003\\nZ:Nigel Gatherer\\nL:1/8\\nM:4/4\\nK:Em\\nB2 BA B2 BA | dBAF  DEFA     | B2 BA B2 BA | dBAF E4 :|\\ndeef  g2 fe | d2 Bd AD (3FGA | Beef  g2 fe | dBAF E4  |\\nBeef  g2 fe | d2 Bd AD (3FGA | Beed  B^cdB | AFDF E4 |]',\n",
              " 'X:606\\nT:Oot Be Est da Vong\\nS:Session, Crieff Dec 2003\\nZ:Nigel Gatherer\\nL:1/8\\nM:4/4\\nK:D\\nz2 | AFAB  ABde  | f2 ed ed B2 | AFAB  ABde  | f2 ed d2 :|\\nef | g2 ge f2 fd | edef  ed B2 | g2 ge f2 fd | edef  a4  |\\n     g2 ge f2 fd | edef  ed B2 | AFAB  ABde  | f2 ed d2 |]',\n",
              " 'X:607\\nT:Short Coated Mary\\nS:ALP Scots Music Group Sessions\\nZ:Nigel Gatherer\\nL:1/8\\nM:4/4\\nK:Emix\\nE2 B2 BABc  | d2 AF DEFD | E2 B2 BABc  | d2 AF E2 E2 :|\\nd2 dB e2 e2 | d2 d2 FFFD | d2 dB e2 e2 | d2 AF E2 E2  |\\nd2 dB e2 e2 | d2 d2 FFFD | E2 B2 BABc  | d2 AF E2 E2 |]',\n",
              " \"X:608\\nT:Top of Balvenie, The\\nC:William Marshall\\nB:Marshall's 2nd Collection (1845)\\nZ:Nigel Gatherer\\nL:1/8\\nM:4/4\\nK:G\\ng | G<G Bc/d/ Gc Bc/d/ | DAFA        cedB |\\\\\\n    G<G Bc/d/ Gc Bc/d/ | eg f/g/a/f/ gGB :|\\ng | dgBg      dgbg     | dgBg        aAce |\\\\\\n    dgBg      dgbg     | (3efg (3fga gGB \\ng | dgBg      dgbg     | dgBg        aAce |\\\\\\n    G<G Bc/d/ Gc Bc/d/ | eg f/g/a/f/ gGB  |]\",\n",
              " 'X:609\\nT:Sandy Duff\\nB:Scots Guards, Standard Settings\\nZ:Nigel Gatherer\\nL:1/8\\nM:4/4\\nK:A\\ne | a2  e<a c>AA>a | c<Ae>A  c>AA>e |\\\\\\n    a2  e<a c>AA>a | B<=Gd>G B>GG>e |\\n    a2  e<a c>AA>a | c<Ae>A  c>AA>c |\\\\\\n    =g2 f<g a>ef>d | B<=Gd>G B>GG  ||\\na | c<Ae>A  f>Ae>d | c<Ae>A  c>AA>a |\\\\\\n    c<Ae>A  f>Ae>d | B<=Gd>G B>GG>a |\\n    c<Ae>A  f>Ae>d | c<Ae>A  c>AA>c |\\\\\\n    =g2 f<g a>ef>d | B<=Gd>G B>GG  |]',\n",
              " 'X:610\\nT:High Reel, The\\nB:100 Essential Irish Session Tunes\\nZ:Nigel Gatherer\\nL:1/8\\nM:4/4\\nK:A\\na2 ea ecAB | (3cBA eA  fAeA   | a2 ea ecAB | Bcdc B=GGA  |\\na2 ea ecAB | cdef      =g2 fg | af=ge fdec | Bcdc B=GG2 :|\\n(3cBA eA  fAeA | (3cBA af ecAB   | (3cBA eA  fAec | Bcdc B=GB=c |\\n(3cBA eA  fAed |   cdef   =g2 fg |   af=ge   fdec | Bcdc B=GG2 :|',\n",
              " \"X:611\\nT:Sugarfoot Rag\\nS:Tim O'Brien\\nZ:Nigel Gatherer\\nL:1/8\\nM:4/4\\nK:A\\neg | agab     afef | =gfga gedf | e^def    ecAF | EFAB A2 :|\\nAA | =c^c=c^c ABAF | EFAc  BAFA | =c^c=c^c ABAF | EFAB A2 :|]\",\n",
              " 'X:612\\nT:Tae the Weavers Gin Ye Gang\\nB:Loesberg, Scottish Songs of Robert Burns\\nZ:Nigel Gatherer\\nL:1/8\\nM:2/4\\nK:D\\nd/B/ | AF  FE/D/ | GF  Fd/B/ | AF F>E       | F3\\nd/B/ | AF  FE/D/ | FE  E>F   | AF F>E       | F3 ||\\nE/E/ | A>B cd    | e>f eE/E/ | AB cd        | e3\\nf/e/ | dB  cB/A/ | Bc  de/e/ | fF F/^G/F/E/ | F3 |]',\n",
              " \"X:613\\nT:Highland Widow's Lament, The\\nB:Loesberg, Scottish Songs of Robert Burns\\nZ:Nigel Gatherer\\nL:1/8\\nM:4/4\\nK:A\\nA2 | A2 A2 G2 GG | F2 F2 E3 c |\\nc3 B B2 ce | f4 e2 e2 | e3 f c3 B |\\nA3 B/c/ c3 A | A2 E2 E>FAE | F4 E2 |]\",\n",
              " 'X:614\\nT:Stronsay Waltz, The\\nD:Jimmy Shand Plays Old Time\\nZ:Nigel Gatherer\\nL:1/8\\nM:3/4\\nK:A\\ne2 d2 | c3   Bcd | e2 c2 A2 | d3 cde | f2 a2 f2 |\\n        e2 c2 A2 | A2 c2 e2 | B6-    | B2 e2 d2 |\\n        c3   Bcd | e2 c2 A2 | d3 cde | f2 a2 f2 |\\n        e2 c2 A2 | B4    e2 | A6-    | A2      :|\\ne2    | a3   gaf | e2 c2 A2 | d3 cde | f2 a2 f2 |\\n        e2 c2 A2 | A2 c2 e2 | B6-    | B2 z2\\ne2    | a3   gaf | e2 c2 A2 | d3 cde | f2 a2 f2 |\\n        e2 c2 A2 | B4    e2 | A6-    | A2       |\\ne2    | a3   gaf | e2 c2 A2 | d3 cde | f2 a2 f2 |\\n        e2 c2 A2 | A2 c2 e2 | B6-    | B2 z2\\ne2 d2 | c3   Bcd | e2 c2 A2 | d3 cde | f2 a2 f2 |\\n        e2 c2 A2 | B4    e2 | A6-    | A2      |]',\n",
              " \"X:615\\nT:Gae Bring to Me a Pint o' Wine\\nS:Loose sheet in my collection\\nZ:Nigel Gatherer\\nL:1/8\\nM:3/4\\nK:D\\nDD>F | A3 AG>A | d3 ef>g | f>e dB AD  | F E2 \\nDD>F | A3 AG>A | d3 efd  | gf  ed B>A | B d2 ||\\ndf>e | d3 BAF  | E3 FD>F | A3    de>A | f d2\\ndf>e | d3 BAF  | A3 efd  | gf  ed B>A | B d2 |]\",\n",
              " 'X:616\\nT:Ca the Yowes\\nS:Rebecca Knorr, Edinburgh\\nZ:Nigel Gatherer\\nL:1/8\\nM:4/4\\nK:Am\\nD3 E A4 | G3 E G4 | E3 D E2 c2 | B c3 d4 |\\ne3 A A2 A2 | G c3 E4 | D4 E G3 | A4 A4 |]',\n",
              " \"X:617\\nT:Kelso Hiring Fair\\nT:Victoria Waltz\\nD:Tom Hughes, Border Fiddler\\nN:Simplified transcription (unfinished)\\nZ:Nigel Gatherer\\nL:1/8\\nM:3/4\\nK:C\\nG>F | E2  C2  C2  | E2  C2  C2  | E2  C2 C2 | G^F AG=FD |\\n      A,2 B,2 B,2 | A,2 B,2 B,2 | G^F AG FG |\\n      E2  C2  C2  | E2  C2  C2  | E2  C2 C2 | G^F AG=FD |\\n      A,2 B,2 B,2 | A,2 B,2 B,2 | G^F AG =FED |  C4    :|\\nK:D\\nA>d | f3 ffe | d4  A2 | BA G2 F2  | A,2 C2 C2 |\\n      g3 agf | e3 dcB | A2 G2 E2  | F2  D2 D2 |\\n      f3 ffe | d4  A2 | BA G2 F2  | A,2 C2 C2 |\\n      g3 agf | e3 dcB | A2 G2 A,2 | D4       ||\\nA2  | d2 Fd Fd | c2 Gc Gc | B2 GB GB | A2 FA FA  |\\n      d2 Fd Fd | c2 GA B2 | A2 G2 C2 | D4       :|\\nK:G\\nBc  | d4    c2 | e4    d2 | b6       | b4    c'2 |\\n      b4    a2 | B4    f2 | gf ga bg | d2 B2\\nBc  | d4    c2 | e4    d2 | b6       | b4    c'2 |\\n      b4    a2 | B4    f2 | gf ga ba | g4       || \",\n",
              " \"X:618\\nT:Highlandman Kissed His Mother\\nB:Kerr's Merry Melodies\\nZ:Nigel Gatherer\\nL:1/8\\nM:4/4\\nK:Ador\\ncgge gcge | cgge dBGB | cgge gcge  | afge dBGB :|\\nceAe ceAe | ceAe dBGB | ceAe ceA^g | afge dBGB :|]\",\n",
              " 'X:619\\nT:Rope Waltz, The (2)\\nS:Jimmy Shand and various\\nZ:Nigel Gatherer\\nM:3/4\\nR:Waltz\\nL:1/8\\nK:D\\nA2    | F4 A2 | D4 d2 | c4    e2 | A4 G2 | F4   A2 | D4   F2 | E6-      | E2 \\nA2 G2 | F4 A2 | D4 d2 | c4    e2 | A4 G2 | F3 G F2 | E3 F E2 | D2 F2 A2 | d2 \\nd2 e2 | f4 e2 | d4 c2 | d2 c2 B2 | A6    | g4   f2 | e4   d2 | e6-      | e2 \\nd2 e2 | f4 e2 | d4 c2 | d2 c2 B2 | A4 G2 | F3 G F2 | E3 F E2 | D6-      | D2 |]',\n",
              " 'X:620\\nT:Stool of Repentance, The\\nS:Countless sessions\\nZ:Nigel Gatherer\\nM:6/8\\nL:1/8\\nK:A\\ne |: a2e c2e | agf edc | aff f2e | fag f2e  |\\n     a2e c2e | agf edc | d2e f2e | fac B2A :|\\n     cAA eAA | cAA edc | dBB fBB | dBB fed  |\\n     cAA eAA | cAA edc | d2e f2e | fac B2A :|]',\n",
              " \"X:621\\nT:Balkan Hills, The\\nB:Gatherer's Musical Museum\\nZ:Nigel Gatherer\\nM:2/4\\nL:1/16\\nK:D\\nag | fAfe d2A2 | BGdB A2de | f2Aa gfed | f2e2 e2\\nag | fAfe d2A2 | BGdB A2de | faga gecA | d4   d2 :|\\nfg | adfa f2ed | BGdB A2fg | adfa gfed | f2e2 e2\\nfg | adfa f2ed | BGdB A2de | f2Aa gecA | d4   d2 :|\\nAB | d3e  f2ed | BGdB A2de | f2Aa gfed | f2e2 e2\\nAB | d3e  f2ed | BGdB A2de | faga gecA | d4   d2 :|\\nfg | adfa Adfa | fdfa f2ed | adfa gfed | f2e2 e2\\nfg | adfa Adfa | BGdB A2de | f2Aa gecA | d4   d2 :|]\",\n",
              " \"X:622\\nT:Garster's Dream\\nS:Sessions etc\\nZ:Nigel Gatherer\\nM:6/8\\nL:1/8\\nK:G\\nD | G2B BGB | cdc BAG | FGA ABA | AdB AFD |\\n    G2B BGB | cdc BAG | F2E DEF | G3  G  :|\\nd | gag gdB | ABA AGE | gag gdB | ded def |\\n    gag gdB | AcB AGE | G2E DEF | G3  G2 :|]\",\n",
              " 'X:623\\nT:Brig, Da\\nS:Sessions etc\\nZ:Nigel Gatherer\\nM:6/8\\nL:1/8\\nK:D\\nABc | d3  A3  | AFD D3  | d3  A2F | D2g fef |\\n      d3  A3  | AFD D2F | E2F G2A | B3     :|\\nABc | d2e f2d | c2e ecA | d2e f2d | g3  f2g |\\n      a2f g2e | f2d e2c | d2A FGA | B3    :|]\\n \\nX:624\\nT:Fear a Bhois Fada Gun Phosadh\\nD:Tannas, Suilean Dubh (1999)\\nZ:Nigel Gatherer\\nM:6/8\\nL:1/8\\nK:Bm\\nBBB dde | f3  a3  | A2A c2d | e2f ecA |\\nBBB dde | f3  a3  | b2f fec | B3  B3 :|\\nd2d c2B | d2d c2B | A2A c2d | e2f ecA |\\nd2d c2B | d2d c2B | f2f fec | B3  B3  |\\nd2d c2B | d2d c2B | A2A c2d | e2f ecA |\\nBBB dde | f3  a3  | b2f fec | B3  B3 |]',\n",
              " 'X:625\\nT:Blackberry Rag\\nS:Steve Kaufman, Three Stripped Gears\\nZ:Nigel Gatherer\\nM:4/4\\nL:1/8\\nK:C\\ne2 f2 ^f2 | gage gage  | gage-  ed c2 |  cdcA  cdcA | cdcA- AGA^A   |\\n            BAGA Bd e2 | g2 g2  aged  |1 c2 cB cdef | g2           :|\\n                                       2 c2 GA GFED | C2           ||\\nc2 B2  c2 | ^ceac eace | a^cea- agfe  | defd   efde | fdef- fedc    |\\n             Bcde dcBA | GABc   d2 B2 |  c2 GA GFED | C2           :|',\n",
              " 'X:626\\nT:Muskrat Ramble\\nC:Kid Ory\\nS:David\\nZ:Nigel Gatherer\\nM:4/4\\nL:1/8\\nK:C\\ncAGc-  cG c2 | BAGB- B4 | BAGB- BG A2 | cAGc- c4 |\\ncAGc-  cG c2 | BAEB- B4 | B2 Bc BAG^F | E2 z2 D4 |\\ncAGc-  cG c2 | BAGB- B4 | BAGB- BG A2 | c2 c2 B2 _B2 |\\nAABA  ^cABA  | deff- fe d2 | gggg- gd e2 | [c2E2] z2 G4 |]',\n",
              " \"X:627\\nT:Johnnie Cope (Gm)\\nB:Gatherer's Musical Museum\\nZ:Nigel Gatherer\\nM:4/4\\nL:1/8\\nK:Gm\\nd2 | G2 G2 GABc  | d2 G2 G2 AG | F2 F2 FGAB  | c2 f2 A2 F2 |\\n     B2 AB c2 Bc | d2 f2 A2 GF | G2 g2 dcBA  | AGGA  G2   :|\\nF2 | B3  B B2 F2 | Bcde  fdcB  | A2 F2 c2 F2 | ABcd  c2 A2 |\\n     B2 AB c2 Bc | d2 f2 A2 GF | G2 g2 dcBA  | G2 B2 G2   :|\\nD2 | G^FGA GABc  | dcBA  GABG  | F=EFG FGAB  | cfcA  dcBA  |\\n     BAGB  cABc  | dDFA  dcBA  | G^FGg dcBA  | G2 B2 G2   :|\\nF2 | BABc  BFDF  | BABd  fdcB  | AFcF  dFcF  | ABcd  cAFA  |\\n     BAGB  cABc  | dDFA  dcBA  | G^FGg dcBA  | G2 B2 G2  :|]\",\n",
              " 'X:628\\nT:Tarantella\\nS:Forgotten\\nZ:Nigel Gatherer\\nM:6/8\\nL:1/8\\nK:Am\\nz3  | a2a    e2e | a2a    e2e | f2f  fgf | e2z e2e | \\n      d2d    ded | c2c    cdc | B2B  BcB | A3     :|\\nA2B | cBc    dcB | cBc    dcB | cBA ^GAB | A3  A2B |\\n      cBc    dcd | ede    fed | cBA ^GAB | A3     :|\\nG2G | cBc    ede | g2g    gag | f2f  fgf | e3  G2G |\\n      cBc    ede | g2g    gag | bag  fed | c3     :|\\ne2f | g^fg   a2g | f2z    d2e | fef  g2f | e2z e2e |\\n      f/e/dz d2d | e/d/cz c2d | e2d  c2B | A3    :|]',\n",
              " 'X:629\\nT:Bastringue, La\\nS:Forgotten\\nZ:Nigel Gatherer\\nO:Quebec\\nM:4/4\\nL:1/8\\nK:D\\nA2 | f3 f f2 gf | e2  c2 d4   | c2 d2 efec  | d2 e2 f2 d2 |\\n     f3 f f2 gf | e2  c2 d4   | g2 f2 e2 d2 | B2 c2 d2   :|\\nA2 | d2 fd adfd | =c2 ec gcec | d2 fd adfa  | bgec  dcBA  |\\n     d2 fd adfd | =c2 ec gcec | d2 fd adfa  | bgec  d2  :|]',\n",
              " 'X:630\\nT:Gardebylaten\\nS:Alec Falconer, Edinburgh\\nZ:Nigel Gatherer\\nO:Sweden\\nM:2/4\\nL:1/16\\nK: D\\nFG | ABAF  ABAF | A2fe d2c2 |   BdBG BdBG | B2gf e2d2  | \\n     c3d   c2B2 | A2g2 f2e2 | 1 dcde fefg | a6        :|\\n                              2 d2fd Acec | d3c  defg ||\\n   | a2a2  fdfa | b2a2 g2f2 |   g4   BGBd | g2f2 e2d2  | \\n     c4    cdcB | A2g2 f2e2 |   dcde fefg | a6     fg  |\\n   | a2a2  fdfa | b2a2 g2f2 |   g4   BGBd | g2f2 e2d2  | \\n     c4    cdcB | A2g2 f2e2 |   d2fd Acec | d3c  d2   |]',\n",
              " 'X:631\\nT:La Trinite\\nC:Eugene P McLaughlin\\nS:Eugene McLaughlin\\nZ:Nigel Gatherer\\nM:4/4\\nL:1/8\\nK:D\\nfe | d2 dc B2 BA | G2 GF E2 ed | c2 cB A2 BA | Gefe  d2 \\nfe | d2 dc B2 BA | G2 GF E2 ed | c2 cB AGFE  | D2 F2 D2 :|\\nde | f2 fd e2 ec | d2 dB A2 AG | FEFG  ABAG  | F2 E2 E2\\nde | f2 fd e2 ec | d2 dB A2 AG | FEFG  ABAG  | F2 D2 D2 :|\\nde | f2 fd g2 ge | a2 ag f2 ag | f2 fe defd  | e2 A2 A2\\nde | f2 fd g2 ge | a2 ag f2 ag | f2 ed cAfe  | d2 f2 d2 :|]',\n",
              " 'X:632\\nT:Johnnie Cope (Em)\\nS:Nigel Gatherer\\nZ:Nigel Gatherer\\nM:4/4\\nL:1/8\\nK:Em\\nB2 | E2 E2 EFGA  | B2 E2  E2  FE   | D2  D2  DEFG  | A2 d2 F2 D2 |\\n     G2 FG A2 GA | B2 d2  F2  ED   | E2  e2  BAGF  | E2 G2 E2   :|\\nD2 | G3  G G2 D2 | GABc   dBAG     | F2 D2   A2 D2 | FGAB  A2 F2 |\\n     G2 FG A2 GA | B2 d2  F2  ED   | E2 e2   BAGF  | E2 G2 E2   :|\\nD2 | E^DEF EFGA  | BAGF   EFGE     | D=CDE   DEFG  | AdAF  BAGF  |\\n     GFEG  AFGA  | BB,DF  BAGF     | E^FEe   BAGF  | E2 G2 E2   :|\\nD2 | GFGA  GDB,D | GFGB   dBAG     | FDAD    BDAD  | FEFG  AFDF  |\\n     GFEG  AFGA  | BB,DF  BAGF     | E^DEe   BAGF  | E2 G2 E2  :|]',\n",
              " 'X:633\\nT:Johnnie Cope - harmony 1\\nS:Harmony by Nigel Gatherer\\nZ:Nigel Gatherer\\nM:4/4\\nL:1/8\\nK:Em\\nV:1\\nB2 | E2 E2 EFGA  | B2 E2  E2  FE   | D2  D2  DEFG  | A2  d2 F2 D2 |\\n     G2 FG A2 GA | B2 d2  F2  ED   | E2  e2  BAGF  | E2  G2 E2   :|\\nD2 | G3  G G2 D2 | GABc   dBAG     | F2 D2   A2 D2 | FGAB   A2 F2 |\\n     G2 FG A2 GA | B2 d2  F2  ED   | E2  e2  BAGF  | E2  G2 E2   :|\\nD2 | E^DEF EFGA  | BAGF   EFGE     | D=CDE   DEFG  | AdAF   BAGF  |\\n     GFEG  AFGA  | BB,DF  BAGF     | E^FEe   BAGF  | E2  G2 E2   :|\\nD2 | GFGA  GDB,D | GFGB   dBAG     | FDAD    BDAD  | FEFG   AFDF  |\\n     GFEG  AFGA  | BB,DF  BAGF     | E^DEe   BAGF  | E2  G2 E2  :|]\\nV:2\\nz2 | B2 GA GABc  | Begf   ed  B2   | ABAG    FGAB  | ADAF   BAGF  |\\n     E4    D3  D | B,3 B, A,2 G,A, | B,2 B,2 E2 G2 | B2  B2 B2   :|\\nz2 | dBde  d4    | Bcde   d4       | dAde    d2 B2 | ABde   d4    |\\n     E4    D3  D | B,3 B, A,2 G,A, | B,2 B,2 E2 G2 | B2  B2 B2   :|\\nz2 | z4    E^DEF | GFE^D  B,4      | z4      D=CDE | DFDB,  GF E2 |\\n     EEEE  FFFF  | DDDD   G2 ^D2   | eBBA    GFE^D | B,EGF  E2   :|\\nz2 | D2 G2 B2 G2 | D2 G2  B2  DB,  | D2  F2  D2 DB,| DEFG   Adfa  |\\n     g2 a2 f2 d2 | dB d2  dcBA     | G2  B2  dcBA  | G2 ^d2 e2  :|]',\n",
              " 'X:634\\nT:Johnnie Cope - harmony 2\\nS:Harmony by Nigel Gatherer\\nZ:Nigel Gatherer\\nM:4/4\\nL:1/8\\nK:Em\\nV:1\\nB2 | E2 E2 EFGA  | B2 E2  E2  FE   | D2  D2  DEFG  | A2  d2 F2 D2 |\\n     G2 FG A2 GA | B2 d2  F2  ED   | E2  e2  BAGF  | E2  G2 E2   :|\\nD2 | G3  G G2 D2 | GABc   dBAG     | F2 D2   A2 D2 | FGAB   A2 F2 |\\n     G2 FG A2 GA | B2 d2  F2  ED   | E2  e2  BAGF  | E2  G2 E2   :|\\nD2 | E^DEF EFGA  | BAGF   EFGE     | D=CDE   DEFG  | AdAF   BAGF  |\\n     GFEG  AFGA  | BB,DF  BAGF     | E^FEe   BAGF  | E2  G2 E2   :|\\nD2 | GFGA  GDB,D | GFGB   dBAG     | FDAD    BDAD  | FEFG   AFDF  |\\n     GFEG  AFGA  | BB,DF  BAGF     | E^DEe   BAGF  | E2  G2 E2  :|]\\nV:2\\nz2 | B2 B2 GABc  | e2 B2  G3    z   | A2 A2   FGAB  | A2 A2  d2 A2 |\\n     E4    D4    | B,4    A,2 G,A, | B,2 B,2 E2 G2 | B2  B2 B2   :|\\nz2 | d4    d4    | d4     d4       | d4      d4    | d4     d4    |\\n     E4    D4    | B,4    A,2 G,A, | B,2 B,2 E2 G2 | B2  B2 B2   :|\\nz2 | B2 B2 G2 B2 | d2 c2  B2  G2   | A2 A2   F2 A2 | d2 c2  B2 BA |\\n     G2 B2 A2 c2 | B2 g2  e2  c2   | B2 G2   B2 D2 | E2 E2  E2   :|\\nz2 | D2 G2 B2 G2 | D2 G2  B2  DB,  | D2  F2  D2 DB,| DEFG   A4    |\\n     g2 a2 f2 d2 | d2 d2  dcBA     | G2  B2  dcBA  | G2 BA  G2  :|]',\n",
              " \"X:635\\nT:Todlen Hame\\nT:My Ain Fireside\\nB:Gatherer's Musical Museum\\nZ:Nigel Gatherer\\nM:6/8\\nL:1/8\\nK:D\\nd/e/ | f>ed B>cd | A>Bd   e2 d/e/ | f>ed B>cd | A>Bd d2 :|\\nd    | g>ag f2 f | e/f/gf e2 d/e/ | f>ed B>cd | A>Bd d2 :|\",\n",
              " 'X:636\\nT:Braes Aboon Bonaw, The\\nB:Popular Songs & Melodies of Scotland, GF Graham\\nZ:Nigel Gatherer\\nM:2/4\\nL:1/8\\nK:D\\n     D>F A>B | A<F A<d   | D>F A>F | F<E E<F      |\\n     D>F A>B | d>e ff/e/ | d>B d>F | F<E E/F     ||\\nA/ | d>e f>e | d<A F>A   | d>e f>d | B2  B< B/ee/ |\\n     d>e f>d | e>f dA    | Bd A>F  | E<D D/d     |]',\n",
              " 'X:637\\nT:Bonnie Brier Bush, The\\nB:Popular Songs & Melodies of Scotland, GF Graham\\nZ:Nigel Gatherer\\nM:4/4\\nL:1/8\\nK:G\\nB     | D>DDE D<EG>D | EAA>B A3  B | D>DDE D<EG>D | EGG>A  G2 ||\\nGA/B/ | c>dec B>cdB  | cBAG  A2 GB | D>DDE D<EG>D | E2 G>A G2 |]',\n",
              " \"X:638\\nT:Eagle's Whistle, The\\nS:Karen Marshalsay, Edinburgh\\nZ:Nigel Gatherer\\nL:1/8\\nM:3/4\\nK:G\\nB2 dBAG | B2 dBAG | A2 ABAG | A3 BAG | B2 dBAG |\\nB2 dBAB | G3  BAB | G3 BAG  |1 G3 GBd :|2 e2 degd | \\ne2 dBAG | A2 ABAG | A3 GBd  | e2 degd |\\ne2 d<B A>G |  G3 BAB |1 G3 GBd :|2 G6 |]\",\n",
              " \"X:639\\nT:Belles of Tipperary, The\\nB:Ryan's Mammoth Collection\\nZ:Nigel Gatherer\\nL:1/8\\nM:4/4\\nK:D\\nD3 D F2 A2 | defe dcBA | BcBA B2 b2 | afde fe e2  |\\nD3 D F2 A2 | defe dcBA | BcBA BcdB  | AGFE ADD2  :|\\na3 b agfa  | gfeg fedc | BcBA B2 b2 | afde fe e2  |\\na3 b agfa  | gfeg fedc | BcBA BcdB  | AGFE ADD2 :|]\",\n",
              " \"X:640\\nT:Billy In the Lowground\\nB:Fiddler's Fakebook\\nZ:Nigel Gatherer\\nL:1/8\\nM:4/4\\nK:C\\nC3   D EGAB  | cBcd cAGc  | AcAG EGGA | GECE DCA,A, |\\nG,A,CD EGAB  | cded cGcG  | AcAG EGGA | GECE DCCC  :|\\nC3   e g2 ga | gedg ec c2 | Gceg agab | agec dAcd   |\\ncde^f  gfga  | gedg edcA  | Gccc AGEG | GAGE DC C2 :|]\",\n",
              " \"X:641\\nT:Braes of Auchtertyre, The\\nB:Kerr's Merry Melodies\\nZ:Nigel Gatherer\\nL:1/8\\nM:4/4\\nK:C\\nE | C2 C>F    E<GG>A  | c>de>d       c>AG<c  | \\n    A/A/A A>G A2 a2   | g>c      f>e d2 c2   |\\n    C2 C>F    E<GG>A  | c>de>d       c>AG<c  | \\n    A>cG>c    F>cE>c  | d/c/B/A/ c<E D2 C   ||\\nf | e>fg>a    g>ec>g  | a/g/f/e/ d>f e>dc>G  |\\n    A/A/A a>g a2 c'2  | e<cf>e       d2 c>f  |\\n    e>fg>a    g>ec>g  | a/g/f/e/ d>f e>dc>G  |\\n    A>cG>c    F>cE>c  | d/c/B/A/ c<E D2 C   |]\",\n",
              " 'X:642\\nT:Belles of Tipperary, The\\nS:As played by Nigel Gatherer\\nZ:Nigel Gatherer\\nL:1/8\\nM:4/4\\nK:D\\nD3 D F2 A2 | defe dcBA | BcBA B2 b2 | afde fe e2   |\\nD3 D F2 A2 | defe dcBA | BcBA BcdB  | AFEA FD D2  :|\\na3 b agfa  | gfeg fedc | BcBA B2 b2 | afde fe e2   |\\na3 b agfa  | gfeg fedc | BcBA BcdB  | AFEA FD D2 :|]',\n",
              " 'X:643\\nT:O Mother What Shall I Do\\nS:Kate Dunlay\\nZ:Nigel Gatherer\\nL:1/4\\nM:3/4\\nK:D\\nD>ED | FAB | d>ef | d>BA | d B/d/A/d/ | B2b | \\na b/a/g/f/ | e2d | D>ED | FAB | d/c/d/e/f/e/ | \\nd>BA | B>d/B/d/ | AFA | B/c/ d F/G/ | E2D :|\\nf/g/ a a/b/ | afa | bag/a/ | f>ed | f/a/ bb | \\nb2a | d/c/d/e/f/g/ | e2d | f/e/d/e/f/g/ | afa | \\nbag | a/g/f/e/ d | B<d/B/d/ | A>B/A/B/ | G>A/F/G/ | E2 D :|]',\n",
              " 'X:644\\nT:Danny Boy\\nS:Memory\\nZ:Nigel Gatherer\\nL:1/8\\nM:4/4\\nK:G\\nFGA | B3A BedB | AGE2- EFGB | d3e dBGB | A4- A\\nFGA | B3A BedB | AGE2- EFGA | B3c BAGA | G4- G\\ndef | g3f fede | dBG2- Gdef | g3f fedB | A4- A\\nddd | b3a ageg | dBG2- GFGA | B3c BAGA | G4- G |]',\n",
              " 'X:645\\nT:Battle Hymn of the Republic, The\\nS:Memory\\nZ:Nigel Gatherer\\nL:1/8\\nM:4/4\\nK:D\\nA  | A>A A>G F>A d>e | f>f f>e d2 d>c |\\n     B>B B>c d>c d>B | A>B A>F A2 A>A |\\n     A>A A>G F>A d>e | f>f f>e d2 d2  |\\n     e2  e2  d2  c2  | d4      z4     |\\n     A3    G F>A d>e | f4      d4     |\\n     B3    c d>c d>B | A4      F4     |\\n     A3    G F>A d>e | f4      d2 d2  |\\n     e2  e2  d2  c2  | d6         z2 |]',\n",
              " 'X:646\\nT:Ready Penny, The\\nB:Beauties of Gow 3 (1819)\\nZ:Nigel Gatherer\\nL:1/8\\nM:4/4\\nK:G\\nD<GBG c=F A2 | DGBG   dGBg | =fadf cF A2 | g>de>c d>cBG      |\\nDGBG  c=F A2 | DGBG   dGBg | =fadf cF A2 | G>EDC  B,>A,B,G, ||\\ngdg_b =fF A2 | gdg_b =fagd | =fadf cF A2 | g>de>c d>cBG      |\\ngdg_b =fF A2 | gdg_b =fagd | =fadf cF A2 | G>EDC  B,>A,B,G, |]',\n",
              " \"X:647\\nT:Earl of Breadalbane's Hermitage, The\\nB:Beauties of Gow 3 (1819)\\nZ:Nigel Gatherer\\nL:1/8\\nM:4/4\\nK:Em\\ne | E/E/E EG B3 ^c | dBAd  FDAF | E/E/E EG B3  g | f^dBd e3 :|\\nf | g>fef    g>feg | feda  fadf | g>fef    g>feg | f^dBd e3  |\\nf | g>fef    g>feg | f>eda fadf | gbeg     bgeg  | f^dBd e3 |]\",\n",
              " \"\\nX:648\\nT:Uncle's Jig\\nS:As played by Bob Cann\\nZ:Nigel Gatherer\\nL:1/8\\nM:6/8\\nK:G\\nB | ddd dcB | ddd d2d | g2g f2e |  d3- dcB |\\n    c2e e2c | B2d G2B | A2B cBA |1 GAG F2 :|\\n                                 2 G3- G2 ||\\nK:D\\nA | FAd c2e | d2f a2f | e2f gfe |  d2f A3  |\\n    A2d c2e | d2f a2f | e2f gfe |  d3- d2 :|\\nK:G\\nB | ddd dcB | ddd d2d | g2g f2e |  d3- dcB |\\n    c2e e2c | B2d G2B | A2B cBA |1 GAG F2 :|\\n                                 2 G3- G2 ||\",\n",
              " \"X:648\\nT:Uncle's Jig\\nS:As played by Bob Cann\\nZ:Nigel Gatherer\\nL:1/8\\nM:6/8\\nK:G\\nB | ddd dcB | ddd d2d | g2g f2e |  d3- dcB |\\n    c2e e2c | B2d G2B | A2B cBA |1 GAG F2 :|\\n                                 2 G3- G2 ||\\nK:D\\nA | FAd c2e | d2f a2f | e2f gfe |  d2f A3  |\\n    A2d c2e | d2f a2f | e2f gfe |  d3- d2 :|\\nK:G\\nB | ddd dcB | ddd d2d | g2g f2e |  d3- dcB |\\n    c2e e2c | B2d G2B | A2B cBA |1 GAG F2 :|\\n                                 2 G3- G2 ||\",\n",
              " \"X:649\\nT:Margaret Brown's Favorite Jig\\nC:Nathanial Gow\\nS:Battlefield Band\\nD:The Battlefield Band (1977)\\nZ:Nigel Gatherer\\nL:1/8\\nM:6/8\\nK:G\\ng    | dBG GAB | E2E E2c | AFD DEF  | G2G G2\\ng    | dBG Bcd | E2E E2c | AFD DEF  | G3 G2    :|\\ng/a/ | bgb afd | efg gfe | dBg dBG  | AFD D2\\ng/a/ | bgb afd | efg gfe | faf ge^c | d2d de=f \\n     | ece dBd | cac BgB | Ace dBG  | FAF DEF \\n     | GAB EFG | ABc def | gdB cAF  | G3 G2    |]\",\n",
              " \"X:650\\nT:Marquis of Tullybardine, The\\nC:John Crerar\\nB:Skye Collection\\nZ:Nigel Gatherer\\nL:1/8\\nM:4/4\\nK:A\\nec | A/A/A cA eAAf | eAAa fedc | Bcde     fBBg  | aBBa gfea  | \\n     A/A/A cA eAAf | eAAa fedc | defa     fecf  | ecBc f2   :|\\neg | aA A/A/A cAAg | aAAa fedc | bB B/B/B dBB^a | bBB=a gfeg | \\n     aA A/A/A cAAg | aAAa fedc | defa     fecf  | ecBc f2  :|]\\nX:651\\nT:Coleman's Cross\\nD:Barde\\nZ:Nigel Gatherer\\nL:1/8\\nM:6/8\\nK:D\\nz | B2e efe | B2e efe | A2d ded | A2d ded  |\\n    B2e efe | B2e g2a | bag agf | gee e2  :| \\nz | gdB G3  | F3  AFD | GBd efg | fdc def  | \\n    gdB G3  | F3  AGF | GBd efg | fdc d2 :|]\",\n",
              " \"X:652\\nT:Miss McPherson Grant's Jig - of Ballindalloch\\nB:Marshall's 1st Coll. (1822)\\nZ:Nigel Gatherer\\nL:1/8\\nM:6/8\\nK:A\\nE | E2A A2F  | GAB Bcd | c2E AGA  | B3  E3  |\\n    E2e e2c  | dcd Bcd | cde fed  | cBA GFE |\\n    E2A A2F  | GAB Bcd | c2E AGA  | B3  E3  |\\n    E2e e2c  | dcd Bcd | cBA EFG  | A3  A2 ||\\nE | C2E A2=G | FEF D2F | d2c BcA  | G3  E2E |\\n    FGA Bcd  | cde fga | gfe Bc^d | e3  e2z |\\n    f2D fed  | e2c ecA | FGA BcA  | G3  E3  |\\n    F2d E2c  | D2B C2e | cBA EFG  | A3 A,2 |]\",\n",
              " \"X:653\\nT:Cooley's Reel\\nS:Various\\nZ:Nigel Gatherer\\nL:1/8\\nM:4/4\\nK:Edor\\nz   | EBBA B2 EB | B2 AB dBAG | (3FED AD BDAD |  FAdB ADFD  |\\n      EBBA B2 EB | B2 AB defg |   afge   dBAF |1 DEFD E3   :|\\n                                               2 DEFD E    ||\\ngfg | eB B/B/B eBgB | eB B/B/B gfed | A2 FA dAFB |  ADFA Bcdf |\\n      eB B/B/B eBgf | edBc     defg | afge  dBAF |1 DEFD E   :|\\n                                                  2 DEFD E3  |]\",\n",
              " 'X:654\\nT:Wise Maid, The\\nT:All Around the World\\nS:Various\\nZ:Nigel Gatherer\\nL:1/8\\nM:4/4\\nK:D\\nDE |: F3 G  FEDE | FAAB AFED | d2 (3efg fdec | dBAF BEED   | \\n      F3 G  FEDE | FAAB AFED | d2 (3efg fdec |1 dBAG FDDE :|\\n                                              2 dBAG FDD  ||\\nA  |  d2 AG FDFA | dfaf gfeg | fAdf     eAce | dfed cA A2  | \\n      BDGB  ADFA | dfaf gfed | (3Bcd ce dBAG  | FAEA D3  :|]',\n",
              " \"X:655\\nT:Negro Breakdown I\\nB:Kerr's Merry Melodies for the Piano (n.d.)\\nZ:Nigel Gatherer\\nL:1/16\\nM:2/4\\nK:G\\nz2 (3DGB d2B2 | ecGe  d2B2 | z2 (3DGB d2B2 | DAFA D2d2 |\\nz2 (3DGB d2B2 | ecGe  d2B2 | D2DF     AdAF | GBDB G4  :|\\nK:C\\nEGcG     ecGc | A2=f2 A2f2 | EGcG     ecGc | B2d2 B2d2 |\\nEGcG     ecGc | A=2f2 A2f2 | Gcec     GBdB | c2e2 c4 :|]\",\n",
              " \"X:656\\nT:Negro Breakdown II\\nB:Kerr's Merry Melodies for the Piano (n.d.)\\nZ:Nigel Gatherer\\nL:1/16\\nM:2/4\\nK:A\\nEFAB c2c2 | d2cB cAF2 | EFAB c2c2 | BABc A2z2 :|\\nagfe fgaf | ecBd cAce | agfe fgaf | ecBc A2z2  |\\nagfe fgaf | ecBd cBAF | EFAB c2c2 | BABc A2z2 |]\",\n",
              " \"X:657\\nT:Negro Breakdown III\\nT:Banjo Breakdown\\nB:Kerr's Merry Melodies Book 4 (c1870s)\\nZ:Nigel Gatherer\\nL:1/8\\nM:4/4\\nK:G\\nG2 B>d G>dB>d | G2 c>e G>ec>e | G2 B>d G>dB>d | D2 F>A D>AF>A |\\nG2 B>d G>dB>d | G2 c>e G>ec>e | d>gf>e d>cB>A | G2 B2  G2 z2 ||\\nD2 F>A D>AF>A | G>Bd>B g>dB>G | D2 F>A D>AF>A | G>gf>e d>cB>A |\\nG2 B>d G>dB>d | c2 e>g c>ge>g | d>gf>e d>cB>A | G2 B2  G2 z2 |]\",\n",
              " \"X:658\\nT:Negro Jig\\nB:Kerr's Merry Melodies for the Piano (n.d.)\\nZ:Nigel Gatherer\\nL:1/8\\nM:4/4\\nK:Am\\nA>Bc>d e>fd>f | e>fd>f e>dc>B | A>Bc>d e>fd>f | eaa>^g a>ec>B |\\nA>Bc>d e>fd>f | e>fd>f e>dc>B | A>Bc>d e>fd>f | eaa>^g a2    ||\\ne2 | a>^ga>b a>=ge>^f | g^fga g>ed>B | a>^ga>b a>=ge>^f |\\\\\\ng>ed>B A2 Ae |\\na>^ga>b a>=ge>^f | g^fga g>ed>B | c'>ab>^g a>ef>d |\\\\\\n e>cd>B A>G E2 |]\",\n",
              " \"X:659\\nT:Negro Melody\\nB:Kerr's Merry Melodies Book 1 (c1875)\\nZ:Nigel Gatherer\\nL:1/16\\nM:2/4\\nK:Bm\\nF2 | Bcde f2b2 | Bcde f2b2 | abag fgfe | dedc B2F2 |\\n     Bcde f2b2 | Bcde f2b2 | abag fgfe | d2c2 B2  ||\\nA2 | d3A  F2A2 | G2B2 A2c2 | d3A  F2A2 | Bdce d2A2 |\\n     d3A  F2A2 | G2B2 A2c2 | d3A  F2A2 | B2c2 d2  ||\\nA2 | d3e  f2a2 | g2f2 e2d2 | f3e  d2A2 | Bdce d2A2 |\\n     d3e  f2a2 | g2f2 e2d2 | f3e  d2A2 | B2c2 d2  |]\",\n",
              " \"X:660\\nT:Negro Sand Jig I\\nB:Kerr's Merry Melodies Book 2 (c1870s)\\nZ:Nigel Gatherer\\nL:1/8\\nM:4/4\\nK:C\\nE2 (3GEG c>GE>G | F2 (3AFA c>AF>A | G>BG>B d>BG>B | c>ec>e g>eA>G |\\nE2 (3GEG c>GE>G | F2 (3AFA c>AF>A | G>BG>B G>fd>B | c2 c2  c2    :|\\nA2 (3cAc e>cA>c | B>eB>^G  E>E^F>G | A2 (3cAc e>cA>c | B>eB>^G E2 e2 |\\nA2 (3cAc e>cA>c | B>eB>^G  E2 f2 | (3efe (3ded (3cdc (3BcB |1 A2 a2 a2 z2  :|\\n                                                            2 A2 z2 [B4F4] ||\\nE2 (3GEG c>GE>G | F2 (3AFA c>AF>A | G>BG>B d>BG>B | c>ec>e g>eA>G  |\\nE2 (3GEG c>GE>G | F2 (3AFA c>AF>A | G>BG>B G>fd>B | c2 c2  c2    :|]\",\n",
              " \"X:661\\nT:Introduction and Interlude\\nB:Kerr's Merry Melodies for the Piano (n.d.)\\nZ:Nigel Gatherer\\nL:1/8\\nM:4/4\\nK:G\\nG2 g2 G2 g2 | G2 GA BABG | D2 d2 D2 d2 | D2 d2 (3fed (3cBA  |\\nG2 g2 G2 g2 | G2 GA BABG | D2 d2 D2 d2 | (3fed (3cBA G2 z2 |]\",\n",
              " \"X:662\\nT:When the Battle Is O'er\\nB:Army Manual of Bagpipe Tunes (1934)\\nZ:Nigel Gatherer\\nL:1/8\\nM:3/4\\nK:A\\nA>B | c2 a2 fe  | c2 A2 A>B | c2 e>c BA | B4\\nA>B | c2 a2 fe  | c2 A2 A>B | c2 e>c Bc | A4 :|\\ne>c | B2 A2 a>g | f2 e2 A>B | c2 e>c BA | B4\\ne>c | B2 A2 a>g | f2 e2 A>B | c2 e>c Bc | A4 :|]\",\n",
              " 'X:663\\nT:Fill o-ro (Lewis version)\\nB:Eilean Fraoich (1982)\\nZ:Nigel Gatherer\\nN:Changed from 6/8\\nL:1/4\\nM:3/4\\nK:G\\nB | d3  | B2A | G3 | A2B | D3 | EDE | G3 | G2 :|\\nD | G3  | c2d | e3 | de2 | d3 | BAG | c3 | d2e |\\n    Bd2 | BA2 | G3 | A2B | D3 | EDE | G3 | G2 |]',\n",
              " 'X:664\\nT:Mary Young and Fair\\nT:Mairi Bhan Og\\nB:West Edinburgh Folk Group (1997)\\nZ:Nigel Gatherer\\nL:1/8\\nM:6/8\\nK:Em\\nB,   | E>FE G2A | B2G A>GF | B2E E>FE | D3 z2\\nB,   | E>FE G2A | B2G ABd  | B2G AGF  | E3 z2 :|\\nB/d/ | e>fe d2c | B2G ABd  | B2E E>FE | D3 z2\\nB,   | E>FE G2A | B2G edc  | B2G AGF  | E3 z2 \\nB/d/ | e>fe d2c | B2G ABd  | B2E E>FE | D3 z2\\nB,   | G>FG A>GA |\\nM:9/8\\nB>AB g3-g2 f/e/ |\\nM:6/8\\nB2G A>GF | E3-E2 |]',\n",
              " \"X:665\\nT:Happy We've Been A' Thegither\\nS:Memory\\nZ:Nigel Gatherer\\nL:1/8\\nM:2/4\\nK:D\\nA | FA  AB  | d>e dA | FA  Af  | ed       B2  |\\n    FA  AB  | d>e dA | FA  Af  | ef       d  :|\\ne | fa  e>f | d>e fd | fa  e>f | g/f/e/d/ B>g |\\n    f<a e>d | de  fg | a<A Af  | ef       d  :|]\",\n",
              " \"X:666\\nT:Johnny Will You Marry Me?\\nT:Johnny Won't You Marry Me?\\nT:The Braes o' Mar\\nS:Boys of the Lough/sessions\\nZ:Nigel Gatherer\\nL:1/8\\nM:4/4\\nK:G\\nGE | D2 DE GABA | GE E/E/E cEGE | D2 DE GABc | dedB A2 :|\\nz2 | BddB  GBdB | e2 ed    cdec | BGGB  GABc | dedB A2 :|]\",\n",
              " 'X:667\\nT:Rolling In the Rye Grass\\nS:The Green Tree session, 1995\\nZ:Nigel Gatherer\\nL:1/8\\nM:4/4\\nK:D\\nA3 F DFAF | G2 BG dGBG | FAAF DFAF | GBAF E2 D2 :|\\nABde f3 a | gefd  edBd | ABde f3 g | afdf e2 d2 :|]',\n",
              " 'X:668\\nT:Ashplant, The\\nS:Cyberspace\\nZ:Nigel Gatherer\\nL:1/8\\nM:4/4\\nK:F#dor\\nc3  B cBAB | cF F2 EFAB | c2 cB cefe | afec B2 AB :|\\nc2 ac bcac | c2 fe cBAB | c2 ac bcfe | afec B2 AB  |\\nc2 ac bcac | c2 fe cBAB | cefe  a3 b | afec B2 AB |]',\n",
              " \"X:669\\nT:Watchmaker, The\\nT:Niel Gow's Wife\\nS:Sessions\\nZ:Nigel Gatherer\\nL:1/8\\nM:4/4\\nK:Ador\\ncAAc  BGGB | cAAB  cdec  | cAAc  BGGB | cABG EA A2 :|\\nc2 ec gcec | G2 BG dGBG  | c2 ec gcec | eaag ea a2  |\\ngeeg fd d2 | ecce  dB G2 | ABcd  e3 d | cABG EA A2 |]\",\n",
              " \"X:670\\nT:Oovie Avie\\nT:Mairi's Wedding\\nD:GFW Slow Session 12\\nN:As played by Finlay Allison\\nZ:Nigel Gatherer\\nM:4/4\\nL:1/8\\nK:Bm\\nB>BB>B B>BB>B | F>FF>E D>EF<A | B>BB>B B>BB>B | A>B (3cBA B2 B2  :| \\nB2 d2  f2 b2  | f>ff>e d>ef<a | B2 d2  f2 b2  | A>B (3cBA B2 B2 :|]\",\n",
              " \"X:671\\nT:Rory Dall's Sister's Lament\\nD:Ossian, Borders (1984)\\nZ:Nigel Gatherer\\nM:3/4\\nL:1/8\\nK:Ador\\nA3 BAB | G3 ABd | e2 E4 | ed Bd ef | g2 G4 |\\ng3 a b/a/g | e2 de gd | e2 d2 B2 | ge de g2 |\\ned Bd eg | G3 ABd | B3 A3 :|\\nG3 EFG | A3 FGA | B3 AGA | B3 d B/A/G |\\nA2 AG AB | e3 dBA | G3 A B/A/G | G2 F2 ED | \\nD3 EFG | G3 A B/A/G | E2 ED EF | E>g ed B/d/e/f/ |\\nge de g2 | edBd eg | G3 ABd | B4 A2 |]\",\n",
              " 'X:672\\nT:Out On the Ocean\\nS:Session etc\\nZ:Nigel Gatherer\\nM:6/8\\nL:1/8\\nK:G\\nD2B BAG | BdB ABA | GED G2A |   B3  AGE  |\\nD2B BAG | BdB ABA | GED G2A | 1 BGF G3  :|\\n                              2 BGF GBd ||\\ne2e edB | e2e edB | d2d def |   gfe dBA  |\\nG2A B2d | ege dBA | GED G2A | 1 BGF GBd :|\\n                              2 BGF G3  |]',\n",
              " \"\\nX:673\\nT:Auld Rattray\\nC:Jim Watson\\nB:Ian Powrie's Selection (n.d., c1950s)\\nZ:Nigel Gatherer\\nM:2/4\\nL:1/8\\nK:D\\nfe | d2  A2 | GF ED | FA A>B | Ag \\nfe | d2  A2 | GF ED | fe e>f | eg \\nfe | d2  A2 | GF ED | G>F GA | Bg \\nfe | d>A FD | GB AE | F2  D2 | D2\\nfg | a>g fe | d2 FA | G>F GA | B2 \\nfg | a>g fe | df ad | f2 e2  | e2\\nfg | a>g fe | d2 FA | G>F GA | Bg \\nfe | d>A FD | GB AE | F2  D2 | D2 |]\",\n",
              " \"X:673\\nT:Auld Rattray\\nC:Jim Watson\\nB:Ian Powrie's Selection (n.d., c1950s)\\nZ:Nigel Gatherer\\nM:2/4\\nL:1/8\\nK:D\\nfe | d2  A2 | GF ED | FA A>B | Ag \\nfe | d2  A2 | GF ED | fe e>f | eg \\nfe | d2  A2 | GF ED | G>F GA | Bg \\nfe | d>A FD | GB AE | F2  D2 | D2\\nfg | a>g fe | d2 FA | G>F GA | B2 \\nfg | a>g fe | df ad | f2 e2  | e2\\nfg | a>g fe | d2 FA | G>F GA | Bg \\nfe | d>A FD | GB AE | F2  D2 | D2 |]\",\n",
              " 'X:674\\nT:Knock, The\\nC:Nigel Gatherer\\nZ:Nigel Gatherer\\nM:4/4\\nL:1/8\\nK:Ador\\ncAeA fAeA  | G3  A BcdB  | cAeA fAeA  | GABd cA A2  :|\\nABce a2 ef | g2 dg Bg G2 | ABce a2 ef | gedB BA A2 :|]',\n",
              " 'X:675\\nT:Lord Drummond\\nZ:Nigel Gatherer\\nM:4/4\\nL:1/8\\nK:D\\nAddc  B2 Ad | BABd  edef | Addc  B2 AF | EDEF D3 z :|\\nA2 AF DEFA  | G2 GF EFGB | A2 AF DEFA  | GFED E3 z :|]',\n",
              " 'X:676\\nT:Calton Weaver\\nT:Nancy Whisky\\nZ:Nigel Gatherer\\nM:2/4\\nL:1/8\\nK:D\\nV1:\\nD>D Fd | ed BA | D>D FA | BA A2  |\\nBA  dF | ED BA | D>D FF | EE A2- | A3 z |]\\nV2:\\nF>F AA | GF ED | F>F AA | GF E2 |\\ndc  Bd | BA ED | F>A df | ag f2- | f3 z |]',\n",
              " 'X:677\\nT:Bodachan ar-i-ar-o\\nS:Eilean Fraoich, 1982\\nZ:Nigel Gatherer\\nM:4/4\\nL:1/8\\nK:D\\nFA A2 BA A2 |  FF F2 FF E2 | FA A2 BA A2 | FFFD E2 D2 :|\\nFFAA  d2 dd | =c2 cc d2 d2 | FFAA  d2 dd | FFFD E2 D2 :|]',\n",
              " 'X:678\\nT:Great Is the Cause of My Sorrow\\nT:Murt Ghlinne Comhann\\nT:The Lament for Glencoe\\nD:Whistlebinkies 2, 1980\\nZ:Nigel Gatherer\\nM:6/8\\nL:1/8\\nK:Cm\\n   c2c c>Bc | e3 e3   |    f2f        f>ec | c>BG B3  |\\n   a2a g>fg | b3 g2c  |    cf2        f2 e | c3   c2c |\\n{c}a2a g>fg | b3 g2f  |    g>fe       f<gd | c3-  c2d |\\n   e2c c>BA | G3 E2g  | {a}b>gf       e2 d | c3-  c3 ||\\n   c2c c>Bc | e3 e3   |    f2f        f>ec | c>BG B3  |\\n   A2A G>FG | B3 B,2C | {C}F3         F2 E | C3   C3  | \\n   A2A G>FG | B3 G2F  | {F}G2 F/E/ {F}G2 B,| C3   C2d |\\n   e2c c>BA | G3 E2G  |    B>GF       E2 D | C3   C3 |]',\n",
              " 'X:679\\nT:Mary Young and Fair - harmony 2\\nZ:Nigel Gatherer\\nM:6/8\\nL:1/8\\nK:Em\\ne/e/e/e/e/e/ e/e/e/e/e/e/ | e/e/e/e/e/e/ d/d/d/d/d/d/ |\\nB/B/B/B/B/B/ G/G/G/G/G/G/ | F/F/F/F/F/F/ F/F/F/F/F/F/ |\\nE/E/E/E/E/E/ C/C/C/C/C/C/ | D/D/D/D/D/D/ F/F/F/F/F/F/ |\\nG/G/G/G/G/G/ F/F/F/F/F/F/ | E/E/E/E/E/E/ E3          :|\\ne/e/e/e/e/e/ d/d/d/d/d/d/ | B/B/B/B/B/B/ A/A/A/A/A/A/ |\\nG/G/G/G/G/G/ E/E/E/E/E/E/ | F/F/F/F/F/F/ F3           |\\nB/B/B/B/B/B/ c/c/c/c/c/c/ | d/d/d/d/d/d/ e/e/e/e/e/e/ |\\ng/g/g/g/g/g/ f/f/f/f/f/f/ | e/e/e/e/e/e/ e/e/e/e/e/e/ |\\nE.E.E.E.E.E. F3           | G.G.G.G.G.G. A.A.A.A.A.A. |\\nB.B.B.B.B.B. e.e.e.e.e.e. | d.d.d.d.d.d. d.d.d.d.d.d. |\\ne/e/e/e/e/e/ f/f/f/f/f/f/ | \\nM:9/8\\ng/g/g/g/g/g/ g6           |\\nM:6/8\\nG/G/G/G/G/G/ F/F/F/F/F/F/ | E/E/E/E/E/E/ E/E/E/E/E/E/ |]\\n \\nX:680\\nT:Skye Glen Waltz\\nC:Blair Douglas\\nS:Hamish Napier, Glasgow 26/6/04\\nZ:Nigel Gatherer\\nM:3/4\\nL:1/8\\nK:G\\nG>B | d3 Bd>e | d B3 A>B | A G2 de>c | d4\\nG>B | d3 Bd>e | d B3 A>B | A G2 DE>G | D4\\nG>B | d3 Bd>e | d B3 A>B | A G2 de>c | d4\\nB>d | g3 cd>e | d G3 A>B | A3   BG>F | G4 :|\\nB>d | g3 cd>e | d G3 A>B | A G2 de>c | d4\\nB>d | g3 cd>e | d G3 A>B | A G3  g>B | A4\\nB>d | g3 cd>e | d G3 A>B | A G2 de>c | d4\\nB>d | g3 cd>e | d G3 A>B | A3   BG>F | G4 \\nB>d | g3 cd>e | d G3 A>B | A G2 de>c | d4\\nB>d | g3 cd>e | d G3 A>B | A G3  g>B | A4\\nB>d | g3 cd>e | d G3 A>B | A3   BG>F | G4 |]',\n",
              " 'X:681\\nT:Bennachie Sunrise\\nC:Machlis\\nS:Anna Shepherd\\nZ:Nigel Gatherer\\nM:4/4\\nL:1/8\\nK:A\\nE2 cA B3 c | E2 cA BAFA | E2 cA Bcdf    |1 eccA BAFA :|\\n                                         2 eccA BAFE ||\\nAaae  f4   | e>fec BAFE | Aaae  f3 e/f/ | A>fec f3 e :| ',\n",
              " \"X:682\\nT:Sabhal Iain 'Ic Uisdean\\nS:Amy Geddes\\nZ:Nigel Gatherer\\nM:4/4\\nL:1/8\\nK:D\\nd>B A2 F<A A2 | f2 f>d e>dB<d | d>B A2 F<A A2 | B>AA>B d2 d2 :|\\ne2 e>f e>dB<A | f2 f>d e>dB<d | e2 e>f e>dB<A | B>AA>B d2 d2 :|\",\n",
              " \"X:683\\nT:Seallaibh Curaidh Eoghainn\\nT:Ewan's Coracle\\nD:Music from the Western Isles\\nN:A version of The Drummer\\nZ:Nigel Gatherer\\nM:4/4\\nL:1/8\\nK:Bm\\nz | BBBA  F3  G | A2 AB cBAc | BBBA  F3  e | fedc B3 :|\\nc | d2 df e2 ef | d2 df ecAc | d2 df e2 ee | fedc B3 :|\",\n",
              " 'X:684\\nT:Hame, Hame, Hame\\nB:Songs of Scotland Without Words\\nZ:Nigel Gatherer\\nM:4/4\\nL:1/8\\nK:Am\\nz2 | A2 A>G E2 D>E | G2 A>G GE (3DEG | A2 AG E2 cd | e2 E>G A2 :|\\ncd | e2 dc  d2 ed  | cAGE   D2   EG  | A>BAG E2 cd | e2 E>G A2 :| ',\n",
              " 'X:685\\nT:Mary Morison\\nB:Songs of Scotland Without Words\\nZ:Nigel Gatherer\\nM:4/4\\nL:1/8\\nK:G\\nGA | B3 c BAGF  | E3  F G2 A2 | B3  c d2 cB | e3 A A2\\nGA | B3 c BAGF  | E3  F G2 A2 | B2 g2 f3  g | e3 B B2 ||\\nB2 | e3 f g2 d2 | Bc d2 G2 B2 | A3  B c2 d2 | e3 A A2\\ndc | B3 c BAGF  | E3  F G2 A2 | B2 g2 f3  g | e3 B B2 ||',\n",
              " 'X:686\\nT:Shetland Fiddler, The\\nD:Altan\\nZ:Nigel Gatherer\\nM:4/4\\nL:1/8\\nK:D\\nAc | d2 fd Adfe | defg afdf | e2   ge   Beed   | cdef gece |\\n     d2 fd Adfe | defg afde |(3fga fd (3fga fd | Bgec d2  :|\\ncd | eAfA  gAaA | faaf gfed | A2   BA   cAdA   | efed cABc |\\n     dAeA  fAgA | faaf gefd |(3fga fd (3fga fd | Bgec d2  ||',\n",
              " \"X:687\\nT:Josephine Marsh's\\nS:Nuala Kennedy, Tinto 5/7/04\\nZ:Nigel Gatherer\\nM:2/4\\nL:1/8\\nK:Bm\\ndB bB | de f>e | dB  bB       | c/B/A/c/ ef/e/ |\\ndB bB | de f2  | d>e f/e/d/c/ | B2       B2   :|\\nff b>a | fe f2 | dB  bB       | c/B/A/c/ e2    |\\nff b>a | fe f2 | d>e f/e/d/c/ | B2       B2   :|\",\n",
              " \"X:688\\nT:Richard Brennan's Favorite\\nT:Irish Jig\\nS:Jennifer Wrigley, Tinto 5/7/04\\nZ:Nigel Gatherer\\nM:6/8\\nL:1/8\\nK:D\\nz | DFF FEF | AFF FEF | DFA dAF | EFE GFE |\\n    DFF FEF | AFF FEF | DFA dAF | EFE D2 :|\\ne | fdd edc | dcB AFA | fdd edc | dfb a2 \\ne | fdd edc | dcB AFA | FEF dAF | EFE D2 :|\",\n",
              " \"X:688\\nT:Christ Church (?)\\nT:St Patrick's Cathedral\\nS:Nuala Kennedy, Tinto 5/7/04\\nN:Nuala got it from Cathal McConnell\\nZ:Nigel Gatherer\\nM:4/4\\nL:1/8\\nK:G\\nBABc d2 G2 | G2 A2 F2 G2 | EF G2 D2 G2 | c2 BG B2 A2 |\\nBABc d2 G2 | G2 A2 F2 G2 | EF G2 D2 G2 | GA F2 G4   :|\\nFEFG A2 D2 | D2 A2 A2 G2 | BABc  d2 G2 | c2 BG B2 A2 |\\nBABc d2 G2 | G2 A2 F2 G2 | EF G2 D2 G2 | GA F2 G4   :|\",\n",
              " \"X:689\\nT:Frank's Reel\\nC:John McCusker\\nS:Drumtochty session, 15/7/04\\nN:Played by some of the Blackford Fiddlers\\nZ:Nigel Gatherer\\nM:4/4\\nL:1/8\\nK:A\\nz   | AcBA F2 AF | EFAB cABc | d3 f eAce | (3fga ec (3Bcd cB |\\n      AcBA F2 AF | EFAB cABc | d3 f ecAc |   BAGB     A3    :| \\nefg | aAAg AAfA  | effe cABc | d3 f eAcA |   Bcde     fefg   |\\n      aAAg AAfA  | effe cABc | d3 f ecAc |   BAGB     Aefg   |\\n      aAAg AAfA  | effe cABc | d3 f eAce | (3fga ec (3Bcd cB |\\n      AcBA F2 AF | EFAB cABc | d3 f ecAc |   BAGB     A3    ||\",\n",
              " 'X:690\\nT:Return from Fingal\\nS:Crieff session\\nO:Ireland\\nZ:Nigel Gatherer\\nM:2/4\\nL:1/16\\nK:E dor\\nBAGF  EFGA  | BAGF  E3 B | ADFA d2 A2 | B3  A BcdA |\\nBAGF  EFGA  | BAGF  E3 B | ADFA d2 A2 | F2 E2 E4  :|\\nf2 e2 e2 dc | B2 A2 d3 A | B3 A d3  A | B3  A Bcde |\\nf2 e2 e2 dc | B2 A2 d3 B | ADFA d2 A2 | F2 E2 E3  :|',\n",
              " \"X:691\\nT:Nuala's Jig \\nC:Nigel Gatherer\\nZ:Nigel Gatherer\\nM:6/8\\nL:1/8\\nK:G\\nG2B dcA | AGF GBd | g3  d2B | cAG FED |\\nG2B dcA | AGF GBd | g3  afd | cAF G3 :|\\nB2e gfe | faf def | g3  d2B | cAG FED |\\nB2e gfe | faf def | g3  afd | cAF G3 :|\",\n",
              " 'X:692\\nT:Birkhall\\nT:Scots Reel\\nC:John Robertson\\nB:Donna Hinds, Grumbling Old Woman\\nN:From an Andy DeJarlis LP\\nZ:Nigel Gatherer\\nM:4/4\\nL:1/8\\nK:D\\n(3ABc | d2 fd A2 dA | FADF  A2 FA | B2 dB A2 cd | e2 ef e3\\nA     | d2 fd A2 dA | FADF  A2 dc | Bcde  fd e2 | d6       :|\\nfg    | a3  b a2 f2 | df A2 f2 ef | g3  a g2 e2 | ce A2 e2\\nfg    | a3  b a2 f2 | df A2 f2 ef | gece  A2 Bc | d2 f2 d2 :|',\n",
              " \"X:693\\nT:Queen's Welcome to Invercauld\\nC:James Scott Skinner\\nB:Harp and Claymore\\nZ:Nigel Gatherer\\nM:2/4\\nL:1/16\\nK:A dorian\\nAB    | c2e2 d2f2 | e2a2 f2ed | c2e2 A2Bc  | dedB  G2\\ned    | c2e2 d2f2 | e2a2 f2ed | ceAc dB=GB | c2AA  A2  :|\\n(3efg | a3f  g2e2 | f2d2 e2A2 | fedf e2A2  | dcBA  G2g2 |\\n        a3f  g2e2 | f2d2 e2AB | ceAc dB=GB | c2AA  A2  :|\",\n",
              " 'X:694\\nT:Birkhall\\nC:John Robertson\\nS:Sheet published by Rae MacIntosh, Edinburgh, early 1950s (?)\\nZ:Nigel Gatherer\\nM:4/4\\nL:1/8\\nK:D\\nA  | d2 fd A2 dA | FAFD  A2 FA | B2 dB A2 d2 | e3 f e2\\nA2 | defd  A2 dA | FAFD  A2 FA | Bcde  fA e2 | d4   d2\\nfg | a3  b a2 f2 | df A2 d2 ef | g3  a g2 e2 | ce A2 e2\\nfg | a3  b a2 f2 | df A2 d2 ef | gage  A2 Bc | dd d2 d2 :|',\n",
              " 'X:695\\nT:Calum Beg\\nD:Foundry Bar Band\\nZ:Nigel Gatherer\\nM:4/4\\nL:1/8\\nK:G\\nE2 | D3 E G2 GA | BABd e2 d2 | eA A2 BA A2 | BABd  e2 d2 |\\n     dgfg edBd  | edeg e2 dB | G2 G2 A2 GA | B2 G2 G2   :|\\nd2 | g2 g2 edBd | edeg e2 d2 | eA A2 BA A2 | BABd  e2 d2 |\\n     dgfg edBd  | edeg e2 dB | G2 G2 A2 GA | B2 G2 G2   :|',\n",
              " 'X:696\\nT:Logans Bonnie Woods and Braes\\nB:The Gesto Collection (1895)\\nZ:Nigel Gatherer\\nM:2/4\\nL:1/16\\nK:Bm\\nd2B2 B2AB | dedB A3B | d2B2 B2AB | dBde f4  | \\ng2ag f2ed | e2dB A4  | Bcde faef | d2B2 B4 :|\\na2B2 B2AB | dedB A4  | a2B2 B2AB | dBde f4  |\\ng2ag f2ed | e2dB A4  | Bcde faef | d2B2 B4 :|\\n \\nX:697\\nT:Sunset On Skaill\\nC:Jack Yorston\\nS:Jack Yorston\\nZ:Nigel Gatherer\\nM:3/4\\nL:1/4\\nK:C\\nG | e2d | c2E | FGA | G2G | e2d | c2e | d2A | BG2 |\\n    e2d | c2E | FGA | G2F | EG2 | c2e | gde | c2 ||\\nc | B2A | G2f | e2d | c3  | e2d | c2e | d2A | BG2 |\\n    e2d | c2E | FGA | G2F | EG2 | c2e | gde | c2 ||',\n",
              " \"X:698\\nT:Haughs of Cromdale, The\\nB:Kerr's Merry Melodies Book 1\\nZ:Nigel Gatherer\\nM:4/4\\nL:1/8\\nK:Em\\ne | B<EE>F B>AF<A | B<EE>F D>EF>A |\\n    B<EE>F B>AF<A | d>BA>F E2 E  :|\\nF | D<dd>e d/^c/B/A/ d2 | F<AA>B A>F A2 |\\n    B<ee>f g>fe>d | B>d B/A/G/F/ E2 E :|\",\n",
              " \"X:699\\nT:Sweet Molly\\nT:Hopetoun House\\nB:Kerr's Merry Melodies Book 1\\nZ:Nigel Gatherer\\nM:4/4\\nL:1/8\\nK:Em\\nB | E<EBE dEBe | dBAF DEFD | E<EBE dEBe  | dBAF B2 E :|\\nF | Eeef  gfed | BdBG DEFD | Eeef  gfed  | BdAF B2 EF |\\n    Eeef  gfed | BdBG DEFA | afge  fde^c | dBAF B2 E ||\",\n",
              " \"X:700\\nT:Eight Men of Moidart\\nS:As played by Adam Rennie on a 78rpm\\nZ:Nigel Gatherer\\nM:2/4\\nL:1/8\\nK:A\\ng    | a/g/f/e/ ae | c2 Ae/d/ | c/d/e Ae | cB       Bg |\\n       a/g/f/e/ ae | c2 Ae/d/ | c/d/e Bd | cA       A :|\\ne/d/ | cA       eA | fA eA    | cA    eA | f/e/d/c/ B\\ne/d/ | cA       eA | fA eA    | c/d/e Bd | cA       A :|\\nX:701\\nT:Lord Randall's Bride\\nS:As played by Adam Rennie on a 78rpm\\nZ:Nigel Gatherer\\nM:2/4\\nL:1/8\\nK:G\\nD | G>A Be | dB    B>e | dB       c/B/A/G/ | FA Ad |\\n    G>A Be | de/f/ g>e | d/e/d/B/ Ad/c/    | BG G :|\\nd | g>f   a/g/f/e/ | dB       B>d | g>f      e/f/g/e/ | Be e2 |\\n    de/f/ g>a      | b/a/g/f/ g>e | d/e/d/B/ Ad/c/    | BG G :|\",\n",
              " 'X:702\\nT:Snouts and Ears\\nD:Jimmy Blue\\nZ:Nigel Gatherer\\nL:1/8\\nM:2/4\\nK:A\\ne | aA       A>B | ce ab/a/    | ge e/f/g/a/ | be ef/g/    |\\n    a/g/f/e/ dc  | Be e/f/e/d/ | cA BA/B/    | cA A       :|\\nB | cA       A>B | ce ef/e/    | dB B>c      | da a/f/e/d/ |\\n    cA       A>B | ce ef/e/    | dB a/f/e/d/ | cA A       :|',\n",
              " 'X:703\\nT:Eight Men of Moidart\\nD:Bert Shorthouse\\nZ:Nigel Gatherer\\nM:2/4\\nL:1/8\\nK:D\\nA/d/ | f/e/d/c/ dA | F2 DA | F/G/A DA | FE E\\nA/d/ | f/e/d/c/ dA | F2 DA | F/G/A EA | FD D :|\\nA/G/ | FD       AD | BD AD | FD    AD | B/A/G/F/ E\\nA/G/ | FD       AD | BD AD | F/G/A EA | FD D :|',\n",
              " 'X:704\\nT:Storars\\nD:Wisk SCD Band\\nZ:Nigel Gatherer\\nM:4/4\\nL:1/8\\nK:A\\ned | c2 A2 AcBA | G2 E2 E4    | ^D2 B2 BcBA  | G2 E2 E2\\ned | c2 A2 AcBA | GABc  defg  |  aece  Bfed  | c2 A2 A2 :|\\nce | fece  agfe | fe c2 c2 ce |  fece  agfe  | d2 B2 B2\\ne2 | fece  agfe | fefg  agfe  |  dcBA  B2 ed | c2 A2 A2 :|',\n",
              " 'X:705\\nT:Jacky Tar\\nS:Various\\nZ:Nigel Gatherer\\nM:4/4\\nL:1/8\\nK:Em\\nB2 | e2 e2 e>fg>e | d2 B2 B2 d>B | A>Bd>e f>ae>f | d2 A2 A2 \\nz2 | e2 e>f g2 f>e | d>BG>B d2 B>A | G>FG>E D>EF>A | G2 E2 E2 ||\\nG>A | B>GE>G B>GE>G | B>AG>F E2 F>G | A>FD>F A>FD>F | A>GF>E D2  \\nE>F | G>FG>E G2 F>E | d>BG>B d2 B>A | G>FG>E D>EF>A | G2 E2 E2 ||',\n",
              " \"X:706\\nT:Roll Her On the Hill\\nB:Kerr's Merry Melodies Book 1\\nZ:Nigel Gatherer\\nM:4/4\\nL:1/8\\nK:D\\nA2 AF A2 AF | B2 BA BcdB | A2 AF A2 AF | BAFD E2 D2 :|\\nd2 df edcB  | ABcd  efge | d2 df edcB  | BAFD E2 D2  |\\nd2 df edcB  | ABcd  efge | afdf  edcB  | AFDF E2 D2 ||\",\n",
              " \"X:707\\nT:Highland Polka\\nC:D Kippen\\nB:Kerr's Merry Melodies Book 2\\nZ:Nigel Gatherer\\nM:2/4\\nL:1/8\\nK:G\\nd    | gB dG | Bd d2 | cA A>A  | ed d\\ne/f/ | gB dG | Bd d2 | cA A>F  | AG G :|\\nz    | Ad df | af f2 | ge e>^c | eA A2 |\\n       Ad df | af f2 | ge e>^c | ed d ||\",\n",
              " 'X:708\\nT:I See Mull\\nT:Chi Mi Muile\\nS:West End Session, May 2004\\nZ:Nigel Gatherer\\nM:3/4\\nL:1/8\\nK:D\\nfa f2 d2 | ed B2 A2 | fa f2 d2 | fg e4  |\\nfa f2 d2 | ed B2 A2 | fg e2 A2 | ef d4 :|\\nfa a2 fd | ed B2 A2 | fa a2 fd | fg e4  |\\nfa a2 fd | ed B2 A2 | fg e2 A2 | ef d4 :|',\n",
              " \"X:709\\nT:McEwan's Barn\\nT:I Bhi Ada\\nS:Fergie MacDonald\\nZ:Nigel Gatherer\\nM:4/4\\nL:1/8\\nK:D\\nAB/c/ | d2 d2  B<A A2 | f2 f2  e>dB<d  | \\n        d2 d2  B<A A2 | B>AA>B d2     :| \\nA2    | d2 e<f d<d d2 | e>ee>f e>dB<A  |\\n        d2 e<f d<d d2 | B>AA>B d2     :|\",\n",
              " \"X:710\\nT:Stilly Night, The\\nB:Kerr's Merry Melodies Book 3\\nZ:Nigel Gatherer\\nM:4/4\\nL:1/8\\nK:A\\nc2 c>B A<F F<A | E>EA>c  B/c/d c2  |\\nc2 c>B A<F F<A | E<Ee>c  B2    A2 :|\\nE>AA>c B>AA>A  | B<A d>c B2    A2  |\\nE>AA>c B>AA>A  | e>cc>A  B/c/d c2 :|\",\n",
              " \"X:711\\nT:Traditional Polka\\nT:Angus Polka No.1\\nT:Cameron Men's Polka No.1\\nD:Jim Cameron Band\\nZ:Nigel Gatherer\\nM:2/4\\nL:1/16\\nK:D\\nFG | A2f2 B2g2 | A2f2 f2ef | gfed cdef | edcB A2 \\nFG | A2f2 B2g2 | A2f2 f2ef | gfed cABc | d2d2 d2  :|\\nz2 | F3 G A2FD | G2B2 B4   | A2cB AGFE | DFAB A2D2 |\\n     F3 G A2FD | G2B2 B4   | A2cB AGFE | D2d2 d2  :|\",\n",
              " 'X:712\\nT:Untitled Reel\\nT:Periwig\\nD:Ossian, Dove Across the Water\\nZ:Nigel Gatherer\\nM:4/4\\nL:1/8\\nK:Em\\nef | g2 fg    agfa | gefg     dB B2    | \\n     g2 fg    agfa | gefd     e2      :|\\neg | dB B/B/B dBdg | dB B/B/B cA A/A/A |\\n     dB B/B/B dBdf | gefd     e2      :|',\n",
              " \"X:713\\nT:Herr Rolloff's Farewell\\nC:James Scott Skinner\\nB:Harp & Claymore\\nZ:Nigel Gatherer\\nM:4/4\\nL:1/8\\nK:F\\nC | A2 B>G c2 A>F | f2 e>d c2 F2 | E2 F2  D2 EF | B2 A2 G3\\nC | A2 B>G c2 A>F | f2 e>d c2 F2 | E2 F>D C2 FB | A2 G2 F3 ||\\nA | A2 d>e f2 ed  | e2 A2  d3  G | G2 cd  e2 dc | d2 G2 c3\\nC | A2 B>G c2 A>F | f2 B>d c2 AF | E2 F2  C2 FB | A2 G2 F3 ||\",\n",
              " 'X:714\\nT:Headlands, The\\nC:Ronnie Cooper\\nS:Sessions\\nZ:Nigel Gatherer\\nM:2/4\\nL:1/8\\nK:A\\ne>d   | dc  BA | A<c E>A | FA  df | e2  \\nef/g/ | a>e fa | fe  dc  | c>B Ac | B2\\ne>d   | dc  BA | A<c E>A | FA  df | a2 \\ngf    | ea  Ac | Bf  ed  | c2  A2 | A2 :|\\nef/g/ | a>e fa | ce  cA  | dA  df | e2 \\nef/g/ | a>e fa | fe  dc  | c>B Ac | B2\\nef/g/ | a>e fa | ce  cA  | dA  df | a2 \\ngf    | ea  Ac | Bf  ed  | c2  A2 | A2 \\nef/g/ | a>e fa | ce  cA  | dA  df | e2 \\nef/g/ | a>e fa | fe  dc  | c>B Ac | B2\\ne>d   | dc  BA | A<c E>A | FA  df | a2 \\ngf    | ea  Ac | Bf  ed  | c2  A2 | A2 ||',\n",
              " 'X:715\\nT:Miss Hepburn Belches\\nS:Adam Rennie 78rpm\\nZ:Nigel Gatherer\\nM:2/4\\nL:1/8\\nK:G\\nD    | GD GD | AD AD | Bd c/B/A/G/ | FE  DE/F/ |\\n       GD GD | AD A2 | Bd c/B/A/G/ | G2  G    :|\\nA    | dA dA | eA eA | fe/d/ e^c   | d=c BA    |\\n       GD GD | AD A2 | Bd c/B/A/G/ |1 G2  G   :|\\n                                    2 G2      ||\\nG/A/B/c/ | d2 ed | B2 c2 | d2 ez   | d2  ez    |\\n           d2 ed | GB dB | A>A BA  | G2       :|',\n",
              " \"X:716\\nT:Kate Martin's Waltz\\nC:Blair Douglas\\nS:As played by The Big Squeeze ceilidh band\\nZ:Nigel Gatherer\\nM:3/4\\nL:1/8\\nK:G\\nG>A | B3 AB>g | e3 dG>A | B3  AG>A | B3 AG>A \\n      B3 AB>g | e4   B2 | A6-      | A4  \\nG>A | B3 AB>g | e3 dG>A | B d3 d>e | d4\\nG>A | B3 AB>d | A3 GA>B | AG-  G4  | G4     :| \\nB>d | e3 de>g | ed3 G>B | d3  Bd>e | d4\\ng>d | d3 Bg>e | e3 dg>e | d3  Bd>e | d4   \\nG>A | B3 AB>d | A3 GA>B | AG-  G4  | G4     :|  \",\n",
              " 'X:717\\nT:Millbrae\\nC:Ronnie Cooper\\nS:As played by The Hamefarers\\nZ:Nigel Gatherer\\nM:4/4\\nL:1/8\\nK:A\\naf | eAAc eAce | fedf eaga | fedc dcBA | G2 B2 B2\\naf | eAAc eAce | fedf eaga | fedc dBed | c2 A2 A2 :|\\na2 | gbeg begb | aAce agfe | fedc dcBA | G2 B2 B2\\na2 | gbeg begb | aAce agfe | fedc dBed | c2 A2 A2\\na2 | gbeg begb | aAce agfe | fedc dcBA | G2 B2 B2\\naf | eAAc eAce | fedf eaga | fedc dBed | c2 A2 A2 ||',\n",
              " \"X:718\\nT:Father O' Flynn\\nT:Rollicking Irishman\\nS:Sessions\\nZ:Nigel Gatherer\\nM:6/8\\nL:1/8\\nK:D\\nA | dAF DFA | ded cBA | dcd efg | fdf ecA |\\n    dAF DFA | ded cBA | dcd efg | fdd d2 :|\\ne | f2f fga | efe e2c | dcd Bed | cAA A3  |\\n    BGB Bcd | AFD DFA | dcd efg | fdd d2 :|\",\n",
              " 'X:719\\nT:Rakes of Kildare\\nS:Sessions\\nZ:Nigel Gatherer\\nM:6/8\\nL:1/8\\nK:Ador\\nE | EAA AGA | Bcd e2f | gfg ege | dBG G2 \\nA | EAA AGA | Bcd e2f | gfg edB | A3  A2 :|\\na | aea aea | aea b2a | gfg ege | dBG G2 \\na | aea aea | aea b2a | gfg edB | A3  A2 \\na | aea aea | aea b2a | gfg ege | dBG G2 \\nA | EAA AGA | Bcd e2f | gfg edB | A3  A2 ||',\n",
              " 'X:720\\nT:Heights of Cassino, The\\nS:As played by Iain MacInnes (Smalltalk)\\nZ:Nigel Gatherer\\nM:6/8\\nL:1/8\\nK:Amix\\nB/c/ | E>EE E<FA | c2e  c>BA | B>BB B2A | B<cB A>FD |\\n       E>EE E<FA | c2e  c>BA | c2E  c2B | A3-  A2  :|\\nc/d/ | e>cA c3   | c2e  c>BA | B>BB B2A | B<cB A>FD |\\n       e>cA c3   | c2e  c>BA | c2E  c2B | A3-  A2 \\nc/d/ | e>cA c3   | c2e  c>BA | B>BB B2A | B<cB A>FD |\\n       E>EE E<FA | c2e  c>BA | c2E  c2B | A3-  A2  ||\\nz    | E3   F>ED | E>EE c3   | c2e c>BA | B<cB A>FD |\\n       E3   F>ED | E>EE c3   | c2E  c2B | A3-  A2  :|\\nc/d/ | e>cA A>Bc | E>EE c3   | c2e c>BA | B<cB A>FD |\\n       e>cA A>Bc | E>EE c3   | c2E  c2B | A3-  A2  \\nc/d/ | e>cA A>Bc | E>EE c3   | c2e c>BA | B<cB A>FD |\\n       E3   F>ED | E>EE c3   | c2E  c2B | A3-  A2  ||',\n",
              " 'X:721\\nT:Skye Boat Song, The\\nS:Childhood\\nZ:Nigel Gatherer\\nM:3/4\\nL:1/4\\nK:G\\nD>ED | G2G | A>BA | d3  | B>AB | E2E | D3  | D3  :|\\nB>GB | B3  | A>EA | A3  | G>EG | G2G | E3  | E3   |\\nB>GB | B3  | A>EA | A3  | G>EG | G2G | E3  | D3   |\\nD>ED | G2G | A>BA | d3  | B>AB | E2E | D3  | D3  ||',\n",
              " \"X:722\\nT:Arran Lilt\\nB:Kerr's Merry Melodies Bk.1\\nN:Slightly changed by me\\nZ:Nigel Gatherer\\nM:2/4\\nL:1/8\\nK:G\\nd>B   G>B   | BB/A/ Bd | ee/d/ gB    | A/G/A/B/ A2  |\\nd>B   G>B   | BB/A/ Bd | ee/d/ gB    | A/G/A/B/ G2 ||\\ngg/e/ ff/d/ | ee/d/ Bd | gg/e/ ff/d/ | ee/d/    Bd  |\\ngg/e/ ff/d/ | ee/d/ Bd | ee/d/ gB    | A/G/A/B/ G2 ||\",\n",
              " \"X:723\\nT:Boys of the Town\\nT:Tarmon's Polka\\nB:Ceol Rince Na hEireann Book 3\\nZ:Nigel Gatherer\\nM:2/4\\nL:1/8\\nK:G\\nDG GB | A/B/A/G/ ED | G2 AG/A/ | BA A2  |\\nDG GB | A/B/A/G/ ED | G2 AG/A/ | BG G2 ||\\nBd cB | AG       ED | G2 AG/A/ | BA A2  |\\nBd cB | AG       ED | G2 AG/A/ | BG G2 ||\",\n",
              " 'X:724\\nT:Monroesque\\nC:Nigel Gatherer\\nZ:Nigel Gatherer\\nM:4/4\\nL:1/8\\nK:D\\nE=F | ^FABA =cBA=F | ^FABA =cBA=F | ^FABA =cBAF |\\nDFA=c- c4 | G2 G2 Bd d2 | =fedB dB=F^F | \\nD2 D2 [=c2E2] [BG][A-F-] | [A6F6] B=c | \\n^cefe gfe=c | ^cefe gfec | d2 d2 BAFD- | D6 ||',\n",
              " 'X:725\\nT:First of October, The\\nC:Nigel Gatherer\\nZ:Nigel Gatherer\\nM:4/4\\nL:1/4\\nK:D\\nD A A2 | B A A2 | D E F G | F E E2  |\\nD A A2 | B A A2 | D E F G | F E D2 :|\\nd A A2 | B A A2 | D E F G | F E E2  |\\nd A A2 | B A A2 | D E F G | F E D2 :|',\n",
              " 'X:726\\nT:Billy In the Low Ground II\\nS:Various\\nZ:Nigel Gatherer\\nM:4/4\\nL:1/8\\nK:C\\nC3   D EGAB  | cBcd cA G2 | ABAG  EGGA  | GECE  DC A,2 |\\nG,A,CD EGAB  | cded cA G2 | ABAG  EDCD  | ECDB, C4    :|\\nC3   e g2 ga | gedg ec c2 | Acfg  a2 g2 | agec  d2 ef  |\\ngega   g2 ed | cBcd c2 cB | A2 e2 dcAG  | cAGE  C4   :|]',\n",
              " 'X:727\\nT:High Road to Linton, The\\nS:Sessions etc\\nZ:Nigel Gatherer\\nM:4/4\\nL:1/8\\nK:A\\nceef  a2 ae | f2 fe a2 ae | ceef  a2 ae | faec B2 A2 :|\\ncee=g fddf  | ecce  fBBd  | cee=g fddf  | ecac B2 A2 :|\\na2 a2 ef a2 | efae  faef  | a2 a2 efae  | faec B2 A2 :|\\nc2 ec defd  | c2 ec BcdB  | c2 ec defg  | afec B2 A2 :|',\n",
              " 'X:728\\nT:Jenny Long Legs\\nC:Nigel Gatherer\\nZ:Nigel Gatherer\\nM:4/4\\nL:1/4\\nK:D\\nFGAA | GFE2 | FGAA | G/F/ED2 :|\\nF/G/ ABA | G/F/E/F/ G/F/E | F/G/ ABA | G/F/ED2 :|',\n",
              " 'X:729\\nT:Frisky Frog, The\\nC:Nigel Gatherer\\nZ:Nigel Gatherer\\nM:4/4\\nL:1/4\\nK:D\\nG2 BG | F2 AF | EFGE | FD D2 :|\\nE2 GE | FG A2 | G2 BG | ABA2 |\\nB2 GB | AG F2 | EFGE | FD D2 ||',\n",
              " \"X:730\\nT:Put Me In the Big Chest\\nS:Sessions, Laurie's Bar, Glasgow 18/10/04\\nZ:Nigel Gatherer\\nL:1/8\\nM:4/4\\nK:A\\nz | EFAB c2 cf | ecBA  F2 AF | EFAB cBcf | ecBc A3      :|\\nc | efec eAAc  | efec  BABc  | efec efaf | ecBc A3      :|\\nz | EFAB c2 cB | c2 cB ce f2 | EFAB cBcf | ecBc A3      :|\\nc | efec eAAc  | efec  BABc  | efec efaf | ecBc A/A/A A :|\",\n",
              " 'X:731\\nT:Bonnie Tammy Scolla\\nB:Haand Me Doon da Fiddle\\nZ:Nigel Gatherer\\nL:1/4\\nM:4/4\\nK:A\\nA>B ce | fe c2 | BA  Bc | BA Bc  | \\nA>B ce | fe c2 | e>c BA | A2 A2 ||\\na>g fe | fe c2 | BA  Bc | BA Bc  | \\na>g fe | fe c2 | e>c BA | A2 A2 ||',\n",
              " 'X:732\\nT:Cawdor Fair\\nS:Memory\\nZ:Nigel Gatherer\\nL:1/4\\nM:4/4\\nK:D\\ndcBA | d2 F2 | ABAF | A2 A2 |\\ndcBA | d2 F2 | EFGA | B3 z  |\\nAddd | d2 d2 | Beee | e3 z  |\\nfedc | dcBA  | Bdce | d3 z ||',\n",
              " 'X:733\\nT:Down By the Sally Garden\\nS:Barbara Pomerenke-Steel\\nZ:Nigel Gatherer\\nL:1/8\\nM:4/4\\nK:D\\nDE | F2 ED E2 FA | B4 A2 dA | B2 AF E3 D | D6 :|\\nA2 | d2 cA B2 d2 | c4 A2 FA | B2 AF ABde | d6\\nDE | F2 ED E2 FA | B4 A2 dA | B2 AF E3 D | D6 ||',\n",
              " 'X:734\\nT:Clanranald\\nS:Deaf Shepherd\\nZ:Nigel Gatherer\\nL:1/8\\nM:4/4\\nK:Em\\nZ | E3 B GEE^c | dDDA FDAF | E3   B GE B/c/d | FDAF BEE :|\\nf | geBA GFEg  | fdAG FEDf | geBA   GFE^c    | dBAF BEE  \\nf | geBA GFEg  | fdAG FEDf | g<bf<a efde     | BdAF BEE ||',\n",
              " 'X:735\\nT:Sheet of Ice, The\\nC:Nigel Gatherer Nov 2004\\nZ:Nigel Gatherer\\nL:1/8\\nM:6/8\\nK:Am\\nEAB cBA | FAB cBA | ^FAB cBA | ^GAB GAB  |\\nEAB cBA | FAB cBA | ^FAB cBA | ^GAB cde ||\\nfdB Bcd | ecA ABc | B^GE EGB | AcA ^cde  |\\nfdB Bcd | ecA ABc | B^GE EGB | BA^G A3  ||',\n",
              " \"X:736\\nT:Christ Child's Lullaby\\nS:Derek Hoy\\nZ:Nigel Gatherer\\nM:3/4\\nL:1/4\\nQ:100\\nK:AMix\\nE | A2 B | c2 d | e2 d | A3   | c>B A | B2 e | d2  B | G3 |\\n    A2 B | c2 d | e2 d | A2 B | A2  E | G2 A | B<A-A | A3 |] \",\n",
              " 'X:737\\nT:Amazing Grace\\nS:Memory\\nZ:Nigel Gatherer\\nM:3/4\\nL:1/4\\nQ:100\\nK:G\\nD | G2 (3B/A/G/ | B2A | G2E | D2\\nD | G2 (3B/A/G/ | B2A/B/ | d3- | d2\\nB/d/ | d2 (3B/A/G/ | B2A | G2E | D2\\nD | G2 (3B/A/G/ | B2A | G3-| G2 |]',\n",
              " 'X:738\\nT:Tail Toddle\\nS:Sessions etc\\nZ:Nigel Gatherer\\nM:4/4\\nL:1/8\\nK:D\\nd2 fd g2 fe | d2 fd e2 cA | d2 fd g2 fe | fgaf e2 cA :|\\ng2 dB B2 dB | g2 dB e2 cA |g2 dB B2 dB | A2 af e2 cA :|]',\n",
              " 'X:739\\nT:Chuir i Gluin Air a Bhodach\\nT:She Put a Knee On the Old Man\\nT:Chuir i Gluin Air a Bhodach\\nS:Derek Hoy\\nZ:Nigel Gatherer\\nM:4/4\\nL:1/8\\nK:A\\nA>B d2 B<d e2 | A>B d2 e>d B<G | A>B d2  B<d e2 | d<B B2 A>B A<G :|\\ne>f g2 f>g a2 | e>f g2 a>g f<d | e>f g2  f>g a2 | e<d B2 A>B A<G  |\\ne>f g2 f>g a2 | e>f g2 a>g f<d | e>f g>e f<d e2 | d<B B2 A>B A<G |]',\n",
              " \"X:740\\nT:Silent Night\\nS:Adapted and changed from The Mandolinist's Treasury\\nZ:Nigel Gatherer\\nM:6/8\\nL:1/8\\nQ:130\\nK:D\\na2a f2f | a2a f2f | e2g c2e | d2A f2A ||\\nA>BA F3 | A>BA F3 | e2e c2c | d2d A2A | \\nB2B dcB | A>BA F3 | B2B dcB | A>BA F3 | \\ne2e gec | d3  f3  | dAF AGE | D>EF A,2 F ||\\nD>EF A,2F | E>FG A,2E | D2F A,2F | D6 ||\\n[D2A2f2][DAf] [A,2F2d2][A,Fd] | [D2A2f2][DAf] [A,2F2d2][A,Fd] | \\n[E2c2g2][Ecg] [A,2E2c2][A,Ec] | [A,2F2d2][A,Fd] [A,2F2d2][A,Fd] |\\n[D2B2g2][DBg] [G,2D2B2][G,DB] | [D2A2f2][DAf] [A,2F2d2][A,Fd] | \\n[D2B2g2][DBg] [G,2D2B2][G,DB] | [D2A2f2][DAf] [A,2F2d2][A,Fd] |\\ne2e gec | d3  f3  | dAF AGE | d2f A2f |\\nd2F a2f | d6      | d'6-    | d'2 z z3 |]\",\n",
              " \"X:741\\nT:Silent Night harmony\\nS:Adapted and changed from The Mandolinist's Treasury\\nZ:Nigel Gatherer\\nM:6/8\\nL:1/8\\nQ:130\\nK:D\\nf2A d2A | f2A d2A | c2c G2G | F2D A2D ||\\nF>GF D3  | F>GF D3  | c2A G2E | A2F F2D |\\nG2D  GGG | F>GF D3  | G2D  GGG | F>GF D3  |\\nc2A  ccG | F2D  d2A | FDA, GCA, | A,6    ||\\nA,6      | A,6      | A,6      | A,6     ||     \\n[D2A2f2][DAf] [A,2F2d2][A,Fd] | [D2A2f2][DAf] [A,2F2d2][A,Fd] | \\n[E2c2g2][Ecg] [A,2E2c2][A,Ec] | [A,2F2d2][A,Fd] [A,2F2d2][A,Fd] |\\n[D2B2g2][DBg] [G,2D2B2][G,DB] | [D2A2f2][DAf] [A,2F2d2][A,Fd] | \\n[D2B2g2][DBg] [G,2D2B2][G,DB] | [D2A2f2][DAf] [A,2F2d2][A,Fd] |\\nc2A  ccG | F2D  d2A | FDA, GCA, | F2F D2D |\\nF2D F2D | D6 | d'6- | d'2 z z3 |]\",\n",
              " \"X:742\\nT:Silent Night composite\\nZ:Nigel Gatherer\\nM:6/8\\nL:1/8\\nQ:130\\nK:D\\nV:1\\na2a f2f | a2a f2f | e2g c2e | d2A f2A ||\\nA>BA F3 | A>BA F3 | e2e c2c | d2d A2A | \\nB2B dcB | A>BA F3 | B2B dcB | A>BA F3 | \\ne2e gec | d3  f3  | dAF AGE | D>EF A,2 F ||\\nD>EF A,2F | E>FG A,2E | D2F A,2F | D6 ||\\n[D2A2f2][DAf] [A,2F2d2][A,Fd] | [D2A2f2][DAf] [A,2F2d2][A,Fd] | \\n[E2c2g2][Ecg] [A,2E2c2][A,Ec] | [A,2F2d2][A,Fd] [A,2F2d2][A,Fd] |\\n[D2B2g2][DBg] [G,2D2B2][G,DB] | [D2A2f2][DAf] [A,2F2d2][A,Fd] | \\n[D2B2g2][DBg] [G,2D2B2][G,DB] | [D2A2f2][DAf] [A,2F2d2][A,Fd] |\\ne2e gec | d3  f3  | dAF AGE | d2f A2f |\\nd2F a2f | d6      | d'6-    | d'2 z z3 |]\\nV:2\\nf2A d2A | f2A d2A | c2c G2G | F2D A2D ||\\nF>GF D3  | F>GF D3  | c2A G2E | A2F F2D |\\nG2D  GGG | F>GF D3  | G2D  GGG | F>GF D3  |\\nc2A  ccG | F2D  d2A | FDA, GCA, | A,6    ||\\nA,6      | A,6      | A,6      | A,6     ||     \\n[D2A2f2][DAf] [A,2F2d2][A,Fd] | [D2A2f2][DAf] [A,2F2d2][A,Fd] | \\n[E2c2g2][Ecg] [A,2E2c2][A,Ec] | [A,2F2d2][A,Fd] [A,2F2d2][A,Fd] |\\n[D2B2g2][DBg] [G,2D2B2][G,DB] | [D2A2f2][DAf] [A,2F2d2][A,Fd] | \\n[D2B2g2][DBg] [G,2D2B2][G,DB] | [D2A2f2][DAf] [A,2F2d2][A,Fd] |\\nc2A  ccG | F2D  d2A | FDA, GCA, | F2F D2D |\\nF2D F2D | D6 | d'6- | d'2 z z3 |]\",\n",
              " 'X:743\\nT:Baloo Balilli\\nS:Mary McCann, Edinburgh, via Shetland book?\\nZ:Nigel Gatherer\\nM:3/4\\nL:1/8\\nQ:130\\nK:D\\nDE | F4 FE | E2 D2 D2 | E4 FE | E2 D2 \\nDE | F4 AF | FE D2 D2 | E4 F2 | D4\\nAA | B4 BA | A2 F2 DE | F4 FE | F2 A2\\nAA | B4 BA | A2 F2 D2 | E4 F2 | D4    ||',\n",
              " \"X:744\\nT:Bonnie Lass o' Bon Accord\\nC:James Scott Skinner\\nB:The Harp and Claymore, 1890(?)\\nZ:Nigel Gatherer\\nM:4/4\\nL:1/8\\nQ:130\\nK:A\\nE | A>Bc>B AA,CE | A/G/A/f/ e/c/B/A/ B3 \\nc | A>Bc>B ACE=G | F/D/F/A/ G/E/G/B/ A3 :|\\n(3e/f/g/ | a>cde eA ag/f/ | eA f/e/d/c/ B3\\n(3e/f/g/ | a>cde eA a>=G  | F/D/F/A/ G/E/G/B/ A3 \\n(3e/f/g/ | a>cde eA ag/f/ | eA f/e/d/c/ B3\\nc | A,/C/E/A/ c>B ACE=G | F/D/F/A/ G/E/G/B/ A3 |]\",\n",
              " \"X:745\\nT:Fire In the Mountains\\nB:Kerr's Guild of Play (n.d.)\\nZ:Nigel Gatherer\\nM:2/4\\nL:1/8\\nK:G\\nBB/B/ AG | BB A2 | dd/d/ BG | A/G/A/B/ G>G |\\nBB    AG | BB A2 | dd/d/ BG | AA       G2 |]\",\n",
              " 'X:746\\nT:Fire On the Mountain\\nB:Appalachian Fiddle (1973)\\nZ:Nigel Gatherer\\nN:Transposed from A for comparison\\nM:2/4\\nL:1/8\\nK:G\\nd/e/d/c/ Bc       | dg ec       | d/e/d/c/ B/A/G | AF    G2 |\\ndd/c/    B/A/B/c/ | dg e/d/c/e/ | d/e/d/c/ BG    | A/G/F G2 |]',\n",
              " \"X:747\\nT:Anna-Wendy's Jig\\nC:Nigel Gatherer\\nZ:Nigel Gatherer\\nM:6/8\\nL:1/8\\nK:A\\nz | EFA BAB | cBA BAF | EFA BAB | cBA f2e |\\n    faf ecA | BAB cAF | EFA BAB | cAA A2 :|\\ne | fee aec | BAB Ace | fee aec | Ace f2e |\\n    faf ecA | BAB cAF | EFA BAB | cAA A2 :|\",\n",
              " 'X:748\\nT:Kelvingrove\\nS:Memory\\nZ:Nigel Gatherer\\nM:4/4\\nL:1/8\\nK:G\\nG>A | BdAB GFED | E2 A2 A2 G>A | BdAB GFED | E2 G2 G2 ||\\nA>B | c>Bc>d e2 B>c | dBAG A2 G>A | BdAB GFED | E2 G2 G2 |]',\n",
              " 'X:749\\nT:Kelvingrove harmony\\nS:Memory\\nZ:Nigel Gatherer\\nM:4/4\\nL:1/8\\nK:G\\nG>A | BdAB BdcB | c2 ^c2 d2 G>A | BdAB BdcB | c2 B2 B2 ||\\nz2  | E2 ED D2 z2 | G2 c^c d2 G>A | BdAB BdcB | c2 B2 B2 |]',\n",
              " \"X:750\\nT:Goodnight and Joy Be Wi' Ye A'\\nS:Farquhar Graham, Popular Songs & Melodies\\nZ:Nigel Gatherer\\nM:4/4\\nL:1/8\\nK:G\\nBA | G2 G2 D3 G | E2 E2 e3 d | Bded Bded | B2 A2 A2\\nBA | G2 G2 D3 G | E2 E2 e3 d | Bded Bded | B2 G2 G2 ||\\nB2 | AGAB A2 GE | DEGA  B2 AG | A3 B cBcd | e2 A2 A3\\nz  | cBcd e2 dc | BABc  d2 cB | ABce dBAB | G2 E2 E2 |]\\nX:751\\nT:There Cam a Young Man\\nS:Kerr's Merry Melodies\\nZ:Nigel Gatherer\\nM:6/8\\nL:1/8\\nK:Am\\nE | ABA c2d | edc B2A | GAG B2c  | dge dBG |\\n    ABA c2d | edc Bcd | e2A AB^G | A3  A2 :|\\nB | c2e g2a | gec gec | G2B d2e  | dge dBG |\\n    c2e g2a | gec deg | a2A AB^G | A3  A2 :|\",\n",
              " \"X:752\\nT:Richard Brennan's Favourite\\nS:Jennifer Wrigley, July 04\\nN:Slightly developed from Jennifer's version\\nZ:Nigel Gatherer\\nM:6/8\\nL:1/8\\nK:D\\nz | DFF FEF | AFF FEF | DFA dAF | EFE GFE |\\n    DFF FEF | AFF FEF | DFA dAF | EFE D2 :|\\ne | f2d edc | dcB AFA | f2d edc | dfb a2 \\ne | f2d edc | dcB AFA | DFA dAF | EFE D2 :|\",\n",
              " 'X:753\\nT:Morag of Dunvegan\\nS:Forgotten\\nZ:Nigel Gatherer\\nM:3/4\\nL:1/4\\nK:D\\nF2F | FED | F2A | A3  | d2d | dcd | B2A | A3  |\\nF2F | FEF | B2A | A3  | Bd2 | BAF | E3  | D3 ||\\nd3  | d2B | B2D | D3  | F3  | FEF | B2A | A3  |\\nd3  | d2B | A2D | D3  | F2F | A2F | E3  | D3 |]',\n",
              " \"X:753\\nT:Dan O'Connell's Favourite\\nB:Music for the Sets (Yellow)\\nZ:Nigel Gatherer\\nM:2/4\\nL:1/8\\nK:D\\nz    | FG/F/ ED | dc/d/ ed  | cA AF  | G2 FE |\\n       FG/F/ ED | dc/d/ ed  | cA B^G | A3   :|\\nf/g/ | af    ge | fd    e>d | cd ef  | g2 fg |\\n       af    ge | fd    e>d | cA B^G | A3   :|\",\n",
              " 'X:754\\nT:Fear a Bhois Fada Gun Phosadh\\nD:Tannas, Suilean Dubh (1999)\\nZ:Nigel Gatherer\\nM:6/8\\nL:1/8\\nK:Em\\nEEE G2A | B3  d3  | D2D F2G | A2B AFD |\\nEEE G2A | B3  d3  | e2B BAF | E3  E3 :|\\nG2G F2E | G2G F2E | D2D F2G | A2B AFD |\\nG2G F2E | G2G F2E | B2B BAF | E3  E3 :|',\n",
              " \"X:755\\nT:Cock o' the North, The\\nS:Memory\\nZ:Nigel Gatherer\\nM:6/8\\nL:1/8\\nK:A\\nA | c>dc cBA | cde f2e | c>dc cBA | B3- B2\\nA | c>dc cBA | cde f2e | c>dc BAB | A3- A2 :|\\ne | a2e  f2e | a2e f2e | c>dc cBA | B3- B2\\ne | a2e  f2e | a2e f2e | c>dc BAB | A3- A2 :|\",\n",
              " \"X:756\\nT:Marry Me Now\\nT:I Wish You Would Marry Me Now\\nS:Kerr's Merry Melodies\\nN:Very slightly changed to the way I play it\\nZ:Nigel Gatherer\\nM:4/4\\nL:1/8\\nK:Am\\nG  | EA A/A/A c2 ce | dcBA GABG | AE E/E/E c2 ce | dBgB A3   :|\\ng  | agea     geae  | gedg BGdB | agea     geae  | gegB A2 \\nAg | agea     geae  | gedg BGdB | cAdB     edce  | dBgB A3   :|\",\n",
              " 'X:757\\nT:Grandma Blair\\nT:Old Molly Hare\\nS:Marion Thede, The Fiddle Book\\nN:Very slightly changed (no double stops)\\nZ:Nigel Gatherer\\nM:4/4\\nL:1/8\\nK:G\\nd2 df e2 ed | c2 c2 d2 dB | GBBG B2 AG | FF F2 G2 G2 :|\\nBGBG  B2 AG | BG B2 A2 A2 | BGBG B2 AG | FF F2 G2 G2 :| ',\n",
              " 'X:758\\nT:Donald Blue\\nS:Edinburgh sessions\\nZ:Nigel Gatherer\\nM:4/4\\nL:1/8\\nK:D\\ndBAF AFAB | dBAF E2 D2 | dBAF AF A2 | B B2 A B2 e2 :|\\nABde fafd | fafd ed B2 | ABde fafd  | B B2 A B2 d2 :|',\n",
              " 'X:759\\nT:Wedgwood March, The\\nC:Nigel Gatherer\\nZ:Nigel Gatherer\\nM:2/4\\nL:1/8\\nK:Ador\\nA2 A>c | eA c2 | d>c AG | d>c AG |\\nA2 A>c | eA c2 | d>c AG | A2 A2 :|\\nA2 a>f | eA c2 | d>c AG | d>c AG |\\nA2 a>f | eA c2 | d>c AG | A2 A2 :|',\n",
              " \"X:760\\nT:Piper's Cave, The\\nC:Sutherland\\nS:Jock Tamson's Bairns\\nZ:Nigel Gatherer\\nM:2/4\\nL:1/8\\nK:A\\nA2 A>B | ce fa/f/ | ec c/B/A/B/ | cB B2  |\\nA2 A>B | ce fa/f/ | ec Bc/B/    | A2 A2 :|\\naf fe/f/ | ac c>f | ec c/B/A/B/ | cB B2  |\\naf fe/f/ | ac c>f | ec Bc/B/    | A2 A2  |\\naf fe/f/ | ac c>f | ec c/B/A/B/ | cB B2  |\\nA2 A>B | ce fa/f/ | ec Bc/B/    | A2 A2 |]\",\n",
              " \"X:761\\nT:Miss McCloud's Reel\\nS:Edinburgh sessions\\nZ:Nigel Gatherer\\nM:4/4\\nL:1/8\\nK:G\\nG2 BG dGBG     | B2 BA BcBA  | G2 BG dGBG  | DEFG AcBA |\\nG2 BG dGBG     | B2 BA Bc d2 | efed  Bdef  | (3gfe dc BGAF ||\\nG2 gf ef (3gfe | dBBA  BcBA  | G2 gf ef g2 | eaag  fdef    |\\ng2 gf ef (3gfe | dBBA  Bc d2 | efed  Bdef  | (3gfe dc BGAF |]\",\n",
              " 'X:762\\nT:Hop High Ladies\\nS:Adapted from New Lost City Ramblers\\nZ:Nigel Gatherer\\nM:4/4\\nL:1/8\\nK:G\\nGABd  dBGA | BdBA  B2 A2 | GABd  dBGA | BdBG  A2 B2  |\\nGABd  dBGA | BdBA  B2 d2 | eded  efgd | BdBA  G2 G2 ||\\nGABd  efgd | B2 B2 B3 G- | GG g2 eegg | A2 a2 A2 a2  |\\nG2 g2 eegg | B2 B2 B2 d2 | eded  efgd | BG A2 G2 G2 |]',\n",
              " 'X:763\\nT:Mrs McLeod of Raasay\\nS:Sessions etc\\nZ:Nigel Gatherer\\nM:4/4\\nL:1/8\\nK:A\\ncB | A2 a2 fefa | c2 cB c2 cB | A2 a2 fefa | B2 BA BdcB |\\n     A2 a2 fefa | c2 cB c2 e2 | f2 fg fefg | afec  B2  :|\\ncB | ABcd  eAcA | c2 cB c2 cB | ABcd  eAcA | B2 BA BdcB |\\n     ABcd  eAcA | c2 cB c2 e2 | f2 fg fefg | afec  B2  :|',\n",
              " 'X:764\\nT:Boganuadh, The\\nT:The New Bob\\nB:MacKenzie\\'s National Dance Music of Scotland, Bk 2\\nZ:Nigel Gatherer\\nM:4/4\\nL:1/8\\nK:Bm\\nf |: \"Bm\"Bcde f2 e | \"A\"c<AeA aAec | \\n     \"Bm\"Bcde \"D\"fa\"Em\"ea | \"F#m\"c<Aa>c \"Bm\"B/B/B f2 :|\\n     \"Bm\"B/B/B b^a \"D\"bBbf | \"F#m\"=a>baf de\"D\"fd |\\n     \"C#m\"ef\"D\"ab fa\"Em\"ea | \"F#m\"c<Aa>c \"Bm\"B/B/B f2 :|',\n",
              " \"X:765\\nT:June's Reel\\nC:Nigel Gatherer\\nZ:Nigel Gatherer\\nM:4/4\\nL:1/8\\nK:D\\nA | d2 cd (3Bcd AG | FAde fdaf | eAce gfed | ceBe cABc |\\n    d2 cd (3Bcd AG | FAde fdaf | eAce gfed | cAGE D3  :|\\nF | E3  F   GABd   | cA A/A/A cAge | E3  F GABd | cAec  d2 f2 |\\n    E3  F   GABd   | cA A/A/A cAge | fafd  cAGE | D2 FE D3   :|]\\n   \\nX:766\\nT:Landlady of Inver Inn, The\\nC:Niel Gow\\nZ:Nigel Gatherer\\nM:4/4\\nL:1/16\\nK:G\\ndc | B2G2G2G2 | F2A2 A2dc | B2G2G2G2  | B2d2-d2\\ngd | B2G2G2G2 | F2A2 A2dc | cBAG GFED | E2G2-G2 :|\\nd/e/f | g3a b2ag | f2a2d2f2 | g3a b2ag | f2a2-a3b |\\n       g3a b2ag | f2a2d2gd | cBAG GFED | E2G2-G2 :|\",\n",
              " 'X:767\\nT:Barren Rocks of Aden, The\\nS:Sessions etc\\nZ:Nigel Gatherer\\nM:2/4\\nL:1/8\\nK:D\\ne    | f>g fe | df Ad    | ce  Ad/e/ | fA de |\\n       f>g fe | df Ad    | ce  Af/e/ | d2 d :|\\nf/g/ | a>f df | ef Ae/f/ | g>e ce    | df A\\nf/g/ | a>f df | ef Ae/f/ | ge  cA    | d2 d :|]',\n",
              " 'X:768\\nT:John Stephen of Chance Inn\\nC:Angus Fitchet\\nS:Sessions etc\\nZ:Nigel Gatherer\\nM:4/4\\nL:1/8\\nK:F\\nC | F2 F>G A>B c<A | f>ed>c A>B c<A | d>cB>d c>AF>A | \\nG<Gg>f (3edc (3BAG | F2 F>G A>B c<A | f>ed>c A>B c<A | \\nd>cB>d c>AF>f | (3edc (3BAG F2 F || g | a>gf>a g>ec>e | \\nf>ed>f e<a A2 | d>cB>d c>AF>A | G<Gg>f e>de<c |\\na>gf>a g>ec>e | f>ed>f e<a A2 | d>cB>d c>AF>f | (3edc (3BAG F2 F |]',\n",
              " 'X:769\\nT:Salmon Tails Up the Water\\nT:The Banks of Inverness\\nS:Sessions, records\\nZ:Nigel Gatherer\\nM:2/4\\nL:1/8\\nK:G\\nD | GE DE | G2 G>A | Bd AB/A/ | GE D>E |\\n    GE DE | G2 G>A | Bd AB/A/ | G2 G  :|\\nz | Bd d2 | ce e2  | dB AB/A/ | GE D2  |\\n    Bd d2 | ce e>f | ge fd    | e2 g2  |\\n    Bd d2 | ce e2  | dB AB/A/ | GE D>E |\\n    GE DE | G2 G>A | Bd AB/A/ | G2 G  |]',\n",
              " 'X:770\\nT:In Memory of Herbie MacLeod\\nC:Jerry Holland\\nS:Jerry Holland recording\\nZ:Nigel Gatherer\\nM:3/4\\nL:1/8\\nK:A\\nEAB | c3  d c2  | B3  c/B/AB | c a3 (3gag | f3 \\nfec | e2 A2 B>A | c e3 (3cec | B6         | B3\\nEAB | c3  d c2  | B3  c/B/AB | c a3 (3gag | f3 \\nfec | e2 A2 c2  | c3  d/c/BA | A6         | A3 :|\\nag  | f3  fed   | f a3 (3faf | e3 d  c2   | c3 \\nBAB | c3  B A2  | c a3 (3cec | B6         | B4 \\nag  | f3  fed   | f a3 (3faf | e3 d  c2   | c3 \\nBAB | c  a3 c2  | c4      B2 | A6         | A4\\nag  | f3  fed   | f a3 (3faf | e3 d  c2   | c3 \\nBAB | c3  B A2  | c a3 (3cec | B6         | B3\\nEAB | c3  d c2  | B3  c/B/AB | c a3 (3gag | f3 \\nfec | e2 A2 c2  | c3  d/c/BA | A6         | A3 |]',\n",
              " 'X:771\\nT:Morag Haig-Thomas\\nC:Donald Ross Riddell\\nS:Sarah-Jane Fifield\\nZ:Nigel Gatherer\\nM:4/4\\nL:1/8\\nK:D\\nF/G | A2 F>E D2 d>e | f>ed<B d2\\nF/G | A2 F>E D2 g>f | e<EG>F E2\\nF/G | A2 F>E D2 d>e | f>ed<B d3\\nA   | B>AB<d A<Fd>F | E<DF>E D3 ||\\nf>g | a2 f>e d2 f>e | d<BA>F A2\\nf>g | a2 f>e d2 g>f | e<EG>F E2\\nf>g | a2 f>e d2 f>e | d<BA>F A3\\nd   | B>AB<d A<Fd>F | E<DF>E D3 |]',\n",
              " \"X:772\\nT:Tripping Upstairs\\nS:Sessions\\nO:Ireland\\nZ:Nigel Gatherer\\nM:6/8\\nL:1/8\\nK:D\\nz | FAA GBB | FAd fed | cBc ABc | dfe dAG |\\n    FAA GBB | FAd fed | cBc ABc | dfe d2 :|\\nc | dBB f3  | fgf fed | cAA eAA | efe edc |\\n    dBB f3  | fgf fed | cAA ABc | dfe d2 :|]\\n \\nX:773\\nT:Peggy's Jig\\nT:Cape Breton Jig #2\\nC:Mike MacDougall\\nD:Music at Matt Molloy's\\nZ:Nigel Gatherer\\nM:6/8\\nL:1/8\\nK:G\\nz    | B2B GBd | cec E2G | F2F DFA | GBe d2c |\\n       B2B GBd | cec E2G | FAF DFA | G3 G2  :|\\nB/c/ | d2d def | gbg d2g | f2f ABc | e2d B2c |\\n       d2d def | gbg d2g | fed cAF | G3 G2  :|]\",\n",
              " 'X:774\\nT:Kentucky Mandolin\\nC:Bill Monroe\\nS:Photocopy from a book - possibly Butch Baldissari?\\nZ:Nigel Gatherer\\nM:4/4\\nL:1/8\\nK:Gm\\nDGBd gfdc | B4 D4 | ^F4 G4 | [G6d6] D2 ||\\nFGGG G2 Bc | c2 cd cB G2 | FGGG G2 GA |\\nBABc d2 D2 | FGGG G2 Bc | c2 cd cB G2 | \\n^cddd d2 ^cd | B G2 [GG,] [G2G,2] [G2G,2] :|\\nfggg g2 fg | g2 gb gf d2 | =effg fd c2 |\\nagfa gf d2 | fggg g2 fg | g2 gb gf d2 | \\n=effg fdBA | cBAF G4 :|]',\n",
              " \"X:775\\nT:Dill Pickle Rag\\nC:Charles L. Johnson\\nS:Amalgam of a couple of versions: \\nS:Fiddler's Fakebook, Dave Swarbrick\\nZ:Nigel Gatherer\\nM:4/4\\nL:1/8\\nK:G\\nB2 c2 ^c2 \\n|: degd egde | gdeg -ge d2 | GABG ABGA | BGAB -BA G2 | \\n   DEFD EFDE | FDEF -FE D2 | [1 GFGE  -EFG^G | A^GAd -dBc^c :| \\n                             [2 A^GAd -dB A2 | G4    -GGFE  ||\\n   D2 _E2 =E2 F2 | G2 ed -de d2 | F2 ed -de d2 | G2 ed -de d2 | \\n   DAEA   =FA^FA | G2 ed -de d2 | [1 AB^cA B c3 | d4 -dGFE :| \\n                                  [2 defd  e f3 | g8 ||\\nK:C\\n   cAGc AGEF | GEGA -AG E2 | D^CDG -GE D2 | C4- CGAB | \\n   cAGc AGEF | GEGA -AG E2 | A^GAd -dB A2 | G4- GGAB | \\n   cAGc AGEF | GEGA -AG E2 | D^CDG -GE D2 | (3CCC B2 _B4 | \\n   A,2 A,B, CB,CD | EDEA- AG E2 | DE-EG GE D22 | [1 C4- CGAB :| \\n                                                 [2 c4  c4   |]\\nX:776\\nT:Planxty Irwin\\nC:Turlough O'Carolan\\nS:Sessions etc\\nZ:Nigel Gatherer\\nM:6/8\\nL:1/8\\nK:D\\nA | d2c  B>cd | A2G  F>ED | G2E F>GA | C2D E2\\nA | d2c  B>cd | A2G  F>ED | G2E F>GA | D2C D2  :|\\nA | d>ed d>cd | e>fe ecA  | f2f e>fd | c>dB ABc |\\n    d2c  B>cd | A2G  F>ED | G2E F>GA | D2C D2  :|]\",\n",
              " \"X:777\\nT:Rock and the Wee Pickle Tow, The\\nT:Montrose's March\\nS:Seonaid Lynn, Edinburgh, 1998\\nZ:Nigel Gatherer\\nM:6/8\\nL:1/8\\nK:A\\nE | EFG ABc | eac B2e | cAB cdB | cAA A2\\nF | EFG ABc | eac B2e | cAB cdB | cAA A2 :|\\na | f2a f2a | f2a fec | efe efg | aed cBA |\\n    dcd efg | aec B2e | cAB cdB | cAA A2 \\na | fga fga | fga fec | efe efg | aed cBA |\\n    dcd efg | aec B2e | cAB cdB | cAA A2 |]\",\n",
              " 'X:778\\nT:Cullen Bay\\nC:Ian Duncan\\nS:Sarah Northcott/Rebecca Knorr\\nZ:Nigel Gatherer\\nM:5/4\\nL:1/8\\nK:A\\nA>B   cA    Bc    A4 | c>d ec    de/f/ e4 | fa     ec    de/d/    c4 | A>B cA Bc A4 :|\\nae    ec/e/ fe/c/ e4 | ae  ec/e/ fe/c/ B4 | ae     ec/e/ fe/c/    e4 | A>B cA Bc A4 :|\\nc>A   AB/c/ dc/B/ c4 | ec  cd/e/ de/f/ e4 | fa     ec    de/d/    c4 | A>B cA Bc A4 :|\\nec/e/ ae    fe/c/ e4 | cA  AB/c/ ed/c/ B4 | ec/e/  fa    f/e/d/f/ e4 | A>B cA Bc A4 :|]',\n",
              " 'X:779\\nT:Cullen Bay harmony\\nC:Ian Duncan\\nS:Sarah Northcott\\nZ:Nigel Gatherer\\nM:5/4\\nL:1/8\\nK:A\\nc>d   ec    de/d/ c4 | A>B cA    Bc/d/  c4 | df    cA    Bc/B/    A4 | c>d ec de/d/ c4 :|\\nfc    cA/c/ dc/A/ c4 | fc  cA/c/ dc/A/ =G4 | fc    cA/c/ dc/A/    c4 | c>d ec de/d/ c4 :|\\ne>c   cd/e/ fe/d/ e4 | cA  AB/c/ Bc/d/  c4 | df    cA    Bc/B/    A4 | c>d ec de/d/ c4 :|\\ncA/c/ ec    dc/B/ c4 | ec  cB/A/ cB/A/ =G4 | cA/c/ df    d/c/B/d/ c4 | c>d ec de/d/ c4 :|]',\n",
              " \"X:780\\nT:Green Cottage Polka\\nS:North Kerry Fiddle Music CD\\nZ:Nigel Gatherer\\nN:Haven't got the CD beside me, so I can't rmember the details\\nN:Not entirely sure about the transcription either -\\nN:relying on my poor memory!\\nM:2/4\\nL:1/8\\nK:Ador\\ne/f/e/d/ ce | ea ce | dd/c/    Bd       | dg  BD  | \\ne/f/e/d/ ce | ea ce | dd/c/    BA       | a2- a2 :|\\nAc       ec | ac ec | Ac       ec       | BA  a2  |\\nAc       ec | ac ec | e/f/e/c/ e/f/e/c/ | BA  A2 :|\",\n",
              " 'X:781\\nT:Athole Brose\\nT:Buckingham House\\nC:Abraham Macintosh (1769-?)\\nB:The Harp and Claymore, Scott Skinner (1890)\\nZ:Nigel Gatherer\\nN:Transcribed from Am for comparison\\nM:4/4\\nL:1/8\\nK:Am\\nB |: G>E E/E/E B,EEE  | G>E   E/E/E A/B/c BA |\\n     G>E E/E/E B,EEG  | F/G/A DA    dAFA    :|\\n     B<ee>d    e>fe>d | B<ee>f      g>ef>^d  |\\n     e>fge     fdec   | d>BA<d      G<EB>G  :|',\n",
              " 'X:782\\nT:McLean of Pennycross\\nC:A Ferguson\\nB:The Fiddle Music of Scotland\\nN:As played by \\nZ:Nigel Gatherer\\nM:2/4\\nL:1/16\\nK:A\\ne>d | c>BA<a c<ec<A | c<ea>e f2e>c | A>Bc<a c<fe>c | d>cB<A B2\\ne>d | c>BA<a c<ec<A | c<ea>e f2e>c | A>Bc<a c<ed>B | c2 A2  A2 :|\\nc>d | e>cA>c a2f<a  | f>ed<f e2c<e | A>Bc<a c<fe>c | d>cB<A B2\\nc>d | e>cA>c a2f<a  | f>ed<f e2c<e | A>Bc<a c<ed>B | c2 A2  A2 \\nc>d | e>cA>c a2f<a  | f>ed<f e2c<e | A>Bc<a c<fe>c | d>cB<A B2\\ne>d | c>BA<a c<ec<A | c<ea>e f2e>c | A>Bc<a c<ed>B | c2 A2  A2 ||\\ne2  | (3AAA c<A e>Ac>B | A>AA<a f2e>c | A>Bc<a c<fe>c | d>cB<A B2\\na2  | (3AAA c<A e>Ac>B | A>AA<a f2e>c | A>Bc<a c<ed>B | c2 A2  A2 :|\\nf>g | a>ga>e f<ae>c | (3eee a>e f2e>c | A>Bc<a c<fe>c | d>cB<A B2\\nf>g | a>ga>e f<ae>c | (3eee a>e f2e>c | A>Bc<a c<ed>B | c2 A2  A2 \\nf>g | a>ga>e f<ae>c | (3eee a>e f2e>c | A>Bc<a c<fe>c | d>cB<A B2\\na2  | (3AAA c<A e>Ac>B | A>AA<a f2e>c | A>Bc<a c<ed>B | c2 A2  A2 |]',\n",
              " 'X:783\\nT:Bonnie Lass Cam Ower the Burn\\nS:Battlefield Band, Stand Easy\\nZ:Nigel Gatherer\\nM:2/4\\nL:1/8\\nK:G\\nD2  D>E | G>A B2 | G<E E>D | E>G E2  |\\nD2  D>E | G>A B2 | d>e d<B | A2  G2 ||\\nB<d d>B | G>B d2 | e2  e>d | c>d e2  |\\nB<d d>B | G>B d2 | d>e d<B | A2  G2 |]',\n",
              " 'X:784\\nT:Port Patrick\\nT:Portpatrick\\nD:Alison Kinnaird, The Harp Key\\nZ:Nigel Gatherer\\nM:6/8\\nL:1/8\\nK:G\\ng | dBG GAB | c2B A2G | dBG GAG | A2B c2\\ng | dBG GAB | c2B A2G | BdB cAd | BGG G2 :|\\nd | ece dBd | ece dBd | efg dBG | A2B c2e |\\n    def gfe | dcB A2G | BdB cAd | BGG G2 :|\\n \\nX:785\\nT:Rob Ruadh Macghriogair\\nT:Rob Roy Macgregor\\nS:Johnny Hardie/Gavin Marwick\\nZ:Nigel Gatherer\\nN:Adapted for comparison\\nM:4/4\\nL:1/8\\nK:Em\\nB | G<E E2 E/F/G B,2 | E>FG>A B>AG>e \\n  | G<E E2 E/F/G B,2 | E>FG>A B3     :|\\nA | G<dd>B d<Gd>c    | B<ee>f g>fe<f  |\\n    g<be<g B<gA<B    | E>FG>A B3     :|',\n",
              " \"X:786\\nT:Trooper's Lane\\nC:Johnny Cradden\\nD:Robert Fish Band\\nZ:Nigel Gatherer\\nM:2/4\\nL:1/8\\nK:Edor\\nEB  BA | Bc dB |  AB/A/ FA | DE F/E/D |\\nEB  BA | Bc dB |  ef/e/ dB | AF d2   :|\\ne>f ge | fd df |  e>f   ge | fB B/A/B |\\ne>f ge | fd df |1 e>f   ge | fg af   :| \\n                2 eB    BA | BA FD   |]\",\n",
              " 'X:787\\nT:Trampoline, The\\nC:Johnny Cradden\\nD:Robert Fish Band\\nZ:Nigel Gatherer\\nM:2/4\\nL:1/8\\nK:D\\nDD/D/ DE | FA Gz    | gf/g/ ag | fd cA    |\\nDD/D/ DE | FA Gd/c/ | df    ed | ce dz   :|\\nD>D   DE | FG AF    | ED/E/ FD | ED B,A,  |\\nD>D   DE | FG AF    | EB    BA | B2 Bd/B/ |\\nD>D   DE | FG AF    | ED/E/ FD | ED B,A,  |\\nD>E   FG | Ad AF    | ED/E/ FE | D2 D2   |]',\n",
              " \"X:788\\nT:Captain Monro's Favourite\\nS:Gesto Collection, 1895\\nN:Transposed from C for comparison\\nZ:Nigel Gatherer\\nM:2/4\\nL:1/8\\nK:G\\nD | DG GA | B2 d>B | A>G AB | AG GB/G/\\n    DG GA | B2 d>B | AG  AB | AG G    :|\\nG | BB Bc | dd dg  | ee  ec | ed dc    |\\n    BB/B/ Bc | dd/d/ dg | ee ec | d3 z/c/ |\\n    BB BB | B3 d/B/ | AG AB | AG GB/G/ |\\n    DG GA | B2 d>B | AG  AB | AG G    |]\",\n",
              " \"X:789\\nT:Birnam Wood\\nT:Scottish Air\\nS:Carl MacKenzie\\nD:Carl MacKenzie, Welcome To Your Feet Again (1977)\\nZ:Nigel Gatherer\\nM:4/4\\nL:1/8\\nK:D\\nA2  | defe   d3 A | B d3 AGFE  | DFAB   defd   | e3  d B3\\nA   | defe   d3 A | B d3 A2 g2 | f2 ed  B<gfe  | f2  d2 d2 :|\\nz2  | A,DFD  GDFD | BAFD GDFA  | dcdB   AFED   | B2  E2 E2\\nDB, | A,DFD  GDFD | BAFD GDFA  | d<fB<d F<AG<E | A,2 D2 D2\\nz2  | A,DFD  GDFD | BAFD GDFA  | dcdB   AFED   | B2  E2 E2\\nFE  | DAFd   Afda | fd'af gecA | B<Gd>B c<Ag>e | f2  d2 d2 |]\",\n",
              " \"X:790\\nT:Nelson Mandela's Welcome to Glasgow\\nC:Blair Douglas\\nS:Ross Peters, Crieff\\nZ:Nigel Gatherer\\nM:6/8\\nL:1/8\\nK:D\\nA | ddd def | AAA BAA | ABd dBA | ABd e2 \\nA | ddd def | AAA BAA | ABd edB | ABd d2 :| \\ne | eaa fed | efe dBA | ABd dBA | ABd e2 \\nf | eaa fed | efe dBA | ABd edB | ABd d2 :| \\ne | fff fad | fff faA | ABd dBA | ABd e2 \\nf | fff fad | fff faA | ABd edB | ABd d2 :| \\ne | fdd aAf | AfA aAf | ABd dBA | ABd e2 \\nf | fdd aAf | AfA aAf | ABd edB | ABd d2 :| \\ne | fdd ddd | ddd adf | ABd dBA | ABd e2 \\nf | fdd ddd | ddd adf | ABd edB | ABd d2 :| \\ne | fdd dff | daa dff | ABd dBA | ABd e2 \\nf | fdd dff | daa dff | ABd edB | ABd d2 :|] \",\n",
              " \"X:791\\nT:Lucy Farr's I\\nS:Robert Fish Band\\nD:Robert Fish Band\\nZ:Nigel Gatherer\\nM:2/4\\nL:1/8\\nK:G\\nBc/B/ AG | EG GA | Bc/B/ AG    | Bd ed  |\\nBc/B/ AG | EG GA | BG/B/ dB    | AG G2 :|\\ngd    ed | Bd d2 | gd    ed    | Bd A2  |\\ngd    ed | Bd ed | Bc/B/ AG/A/ | BG G2 :|]\",\n",
              " 'X:792\\nT:Ballydesmond Polka 3, The\\nS:Sessions\\nZ:Nigel Gatherer\\nM:2/4\\nL:1/8\\nK:Am\\nB | c2 B2       | A2 G>A   | Bd ed | g3 d   | \\n    ea ge       | dB GA/B/ | ce dB | A2 A  :|\\nz | ea ag/e/    | dg g>d   | ea ab | g2 ed  |\\n    ea g/a/g/e/ | dB GA/B/ | ce dB | A2 A :|]',\n",
              " \"\\nX:793\\nT:Tom Sullivan's Polka\\nS:Bill Stewart, Aberfeldy\\nZ:Nigel Gatherer\\nM:2/4\\nL:1/8\\nK:D\\nA    | D/E/F/G/ AB | =cA AG   | Ad dc | d2 d>e  |\\n       fd       ed | cA A>B   | cA GE | D2 D   :|\\nd/e/ | fd       ed | cA Ad/e/ | fd ef | g2 a>g  |\\n       fd       ed | cA A>B   | cA GE | D2 D  :|]\",\n",
              " \"X:793\\nT:Tom Sullivan's Polka\\nS:Bill Stewart, Aberfeldy\\nZ:Nigel Gatherer\\nM:2/4\\nL:1/8\\nK:D\\nA    | D/E/F/G/ AB | =cA AG   | Ad dc | d2 d>e  |\\n       fd       ed | cA A>B   | cA GE | D2 D   :|\\nd/e/ | fd       ed | cA Ad/e/ | fd ef | g2 a>g  |\\n       fd       ed | cA A>B   | cA GE | D2 D  :|]\",\n",
              " \"X:794\\nT:Oyster Wives' Rant, The\\nB:Kerr's Merry Melodies Bk.2\\nZ:Nigel Gatherer\\nM:4/4\\nL:1/8\\nK:Ador\\nB | e2 ed eAAB  | dedB GABd | e2 ed efge | dBgB A/A/A A :|\\nB | edef  g2 fe | dedB dedB | edef  gage | dBgB A/A/A A :|\",\n",
              " \"X:795\\nT:Clean Pea Strae\\nB:Kerr's Merry Melodies \\nZ:Nigel Gatherer\\nM:4/4\\nL:1/8\\nK:D\\nA | d2 f2 gefd | eAAB =c3 A | d2 f2 gefd | egfe d3 :|\\nf | afdf  afdf | eAAB =c3 f | afdf  afdf | egfe d3 \\nf | afdf  afdf | eAAB =c3 f | afge  fdec | Agfe d3 |]\",\n",
              " \"\\nX:796\\nT:Dunse Dings A'\\nS:Deaf Shepheard\\nD:Even In the Rain, Deaf Shepheard\\nZ:Nigel Gatherer\\nM:4/4\\nL:1/8\\nK:Ador\\nd | ceeg aecA | ceeg a3 e | ceeg aecA | BGGB g3 :|\\nd | cAeA fAeA | eAAg a3 e | cAeA fAeA | BGGB g3 :|\",\n",
              " \"X:796\\nT:Dunse Dings A'\\nS:Deaf Shepheard\\nD:Even In the Rain, Deaf Shepheard\\nZ:Nigel Gatherer\\nM:4/4\\nL:1/8\\nK:Ador\\nd | ceeg aecA | ceeg a3 e | ceeg aecA | BGGB g3 :|\\nd | cAeA fAeA | eAAg a3 e | cAeA fAeA | BGGB g3 :|\",\n",
              " 'X:797\\nT:Marni Swanson of the Grey Coast\\nC:Andy Thorburn\\nB:The Nineties Collection\\nZ:Nigel Gatherer\\nM:6/4\\nL:1/8\\nK:G\\nGBdBBG AGGEED | GBdBBG edef g2 | GBdBBG AGGEED | G2F G2A G6 |\\nBddffg fddeBA | Bddffg fdB e2d | Bddffg fddeBA | e2d B2A e2d B2A |\\nBdfffg fdBeBA | Bdfffg fdB e2d | Bddffg fdBeBA | e2d B2A G2E E2D |\\nE6 D6 |]',\n",
              " \"X:798\\nT:Shepherd's Wife\\nD:The Clutha\\nZ:Nigel Gatherer\\nM:6/8\\nL:1/8\\nK:D\\nA, | D2D F2A | d2c B2A | BdB AFD | EFE E2\\nA, | D2D F2A | d2c B2A | BdB cec | d3  d2 :|\\nA  | d2e f2d | efd cBA | BdB AFD | EFE E2\\nA  | d2e f2d | efd cBA | BdB cec | d3  d2 :|]\",\n",
              " 'X:799\\nT:Visa från Venjan\\nS:Martin, Edinburgh\\nN:Denmark\\nZ:Nigel Gatherer\\nM:3/4\\nL:1/4\\nK:D\\nD | E2D | EED | G2F | G2B | d2c | B>AG | A2B G2 :|\\nB | BBB | ddB | B>AE | A2G | BAG | DEF | G2F |1 E2 :|\\n                                              2 E3- | E2 || \\nD | E2D | EED | G2 |]',\n",
              " 'X:800\\nT:A Yowe Cam to Wir Door Yarmin\\nS:Forgotten\\nZ:Nigel Gatherer\\nM:4/4\\nL:1/4\\nK:D\\nz | F2 EF DE F2 | AA F2 AA F2 | F2 EF DE F2 | dBcA B3 :|\\nc | d2 ed c2 A2 | d2 Bd c2 A2 | defg  a2 e2 | dBcA B3 :\\nX:801\\nT:Liza Jane\\nS:Forgotten\\nZ:Nigel Gatherer\\nM:2/4\\nL:1/8\\nK:D\\nFF/F/ ED | FA A2 | B A2 F | A4 |\\nFF/F/ ED | FA A2 | F F2 E | D4 ||\\nd3     A | B2 A2 | B A2 F | A4 |\\nd3     A | B2 A2 | F F2 E | D4 |]',\n",
              " 'X:802\\nT:Dornoch Links\\nS:Sessions etc\\nZ:Nigel Gatherer\\nM:2/4\\nL:1/8\\nK:A\\na/f/ | eA       cB/c/ | eA    Aa/f/ | eA cB/c/    | fB Bc/d/ |\\n       e/f/e/d/ cB/A/ | ce    ac    | df Be/d/    | cA A    :|\\ne    | a2       ef/g/ | ae/d/ cB/A/ | a2 e/f/e/c/ | dB B\\ne    | a2       ef/g/ | ae/d/ cB/A/ | df Be/d/    | cA A    :|',\n",
              " \"X:803\\nT:Dhu Hill, The\\nS:West End Session, Edinburgh Sept 2005\\nB:Kerr's Merry Melodies Bk.4\\nZ:Nigel Gatherer\\nM:6/8\\nL:1/8\\nK:F#m\\nF2A cdc | BAG Bcd | c2c fed | cBc F3  :|\\ncBc ABc | dcd B3  | cBc f2f | cAF F3  :|\\nf2d dcB | ABG FGA | B2B cBc | dcB ABG :|\",\n",
              " \"X:804\\nT:Maggie West's Waltz\\nC:M Green\\nS:Keith Dickson, Edinburgh\\nZ:Nigel Gatherer\\nM:3/4\\nL:1/8\\nK:G\\nG>A | A<B-B>B A>G | E>G-G2 G>A | B>d-d>g (3gab | b<a-a2 g>b |\\ng>e-e2 g>e | d2-d>B- (3BAG | A2-A>B A>G | A2-A>d G>A | \\nA<B-B>B A>G | E>G-G2 G>A | B>d-d>g (3gab | b<a-a2-(3aga |\\ng>e-e2 g>e | e>d-d>B (3BAG | A2-A>B G>F | G2-G>d (3BAG |\\nA>G-G>d (3BAG | A>G-G>d (3BAG | A>B d>g (3gab | b<a-a2-(3aga |\\ng>e-e2 g>e | d2-d>B- (3BAG | A2-A>B A>G | A2-A>d (3BAG |\\nA>G-G>d (3BAG | A>G-G>d (3BAG | A>B d>g (3gab | b<a-a2 g>a |\\ng>e-e2 g>e | e>d-d>B (3BAG | A2-A>B G>F | G4 |]\",\n",
              " 'X:805\\nT:A Yowe Cam to Wir Door Yarmin\\nS:Forgotten\\nZ:Nigel Gatherer\\nM:4/4\\nL:1/8\\nK:C\\nz | E2 DC CD E2 | GG E2 GG E2 | E2 DC CD E2 | cABG A3 :|\\nB | c2 dc B2 G2 | c2 Ac B2 G2 | cdef  g2 d2 | cABG A3 :|',\n",
              " \"X:806\\nT:Queen's Welcome to Invercauld, The\\nC:James Scott Skinner\\nS:Forgotten\\nZ:Nigel Gatherer\\nM:2/4\\nL:1/8\\nK:Amix\\nA/B/ | ce df | ea fe/d/ | ce       AB/c/    | d/e/d/B/ G\\ne/d/ | ce df | ea fe/d/ | c/e/A/c/ d/B/G/B/ | cA/A/    A :|\\n(3e/f/g/ | a>f ge | fd eA    | f/e/d/f/ eA       | d/c/B/A/ G\\ng        | a>f ge | fd eA/B/ | c/e/A/c/ d/B/G/B/ | cA/A/    A :|]\",\n",
              " 'X:807\\nT:Famous Baravan, The\\nC:Gordon Duncan\\nS:Anna Massie/Derek Hoy\\nZ:Nigel Gatherer\\nM:6/8\\nL:1/8\\nK:D\\nd2c dAB | d2c def | g2f gef  | g2f gef  | \\naaa aed | c2e ecA |1 A2c ecA | dcd eAB :|2 Ace edc | d3 def ||\\ng2f gdB | GBd gag | eff fed  | dcd fed  | \\neee age | age age |1 aaa aed | cAd AeA :|2 aaa edc | d3 d3 ||',\n",
              " \"X:808\\nT:O'Donnell's Return\\nS:Highland Sessions, BBC 2005\\nZ:Nigel Gatherer\\nN:Transposed from Gm\\nM:4/4\\nL:1/8\\nK:Edor\\ndc | B2 E2 EFGA  | BcBA FEFA  | B2 E2 E2 FE | D3 E F2 A2 |\\n     B2 E2 EFGA  | BcBA FEFA  | BABc  d2 F2 | E4   E2   :|\\nFA | B2 e2 e2 de | f3 e d2 B2 | A2 F2 d2 F2 | AGFE DEFA  |\\n     B2 e2 e2 de | f3 e d2 B2 | A2 F2 d2 F2 | E4   E2   :|\",\n",
              " \"X:809\\nT:Polca Sheamais Ui Chaoimh\\nT:Jim Keefe's Polka\\nS:CRE3p33\\nZ:Nigel Gatherer\\nM:2/4\\nL:1/8\\nK:D\\nA | dA/d/ ed | =c/c/A A2 | dA/d/ ef | g2 fe |\\n    dA/d/ ed | =cA    A2 | f/g/a ge | d2 d :|\\ne | f>e   fd |  g2    ge | f>e   fa | ge ce |\\n    f>e   fd |  g>b   ge | fa    ge | d2 d :|\",\n",
              " 'X:810\\nT:Within a Mile\\nT:Within a Mile of Edinburgh\\nS:Popular Songs & Melodies of Scotland\\nZ:Nigel Gatherer\\nM:4/4\\nL:1/8\\nK:G\\nB>c | d<BA>B G2 B>G | E<GD>B, D2 G>A | B<de>g d<BA>G  | B2 A2  A2\\nB>c | d<BA>B G2 B>G | E<GD>B, D2 G>A | B<de>g d<BA>B  | G4     G2   ||\\nz2  | G>AB>c d<B g2 | G>AB>c  d<B g2 | G>AG>E D<B,D>G | B>GB<d e2 g2 |\\n      G>AB>c d<B g2 | G>AB>c  d<B g2 | G>AG>E D<B,D>G | B<dA>B G2   ||',\n",
              " 'X:811\\nT:Green Grow the Rashes O\\nS:Popular Songs & Melodies of Scotland\\nZ:Nigel Gatherer\\nM:4/4\\nL:1/8\\nK:G\\nD | G/G/G BA BGGB | Aeed eAAB | cBce dBGB | AcBA GEE :|\\nD | G/G/G gf gddg | eaag aeef | gage dBGB | AcBA GEE :|',\n",
              " 'X:812\\nT:Graemsay Jig\\nS:Sessions\\nZ:Nigel Gatherer\\nM:6/8\\nL:1/8\\nK:D\\nA2A BAF | A2B d2e | faa baf | efe edB |\\nA2A BAF | A2B d2e | faf edB | d3  d3 :|\\nABd B2A | ABd B2A | faa baf | efe edB |\\nABd B2A | ABd B2A | faf edB | d3  d3 :|',\n",
              " 'X:813\\nT:Nonesuch\\nS:Playford?\\nZ:Nigel Gatherer\\nM:4/4\\nL:1/4\\nK:Dm\\na | a f g a | f e/f/ d a | a f g a | f2 f\\na | a f g a | f e/f/ d a | a f g a | f2 d ||\\ne | e c d e | f e/f/ d e | e c d e | f2 d\\ne | e c d e | f e/f/ d e | e c d e | f2 d ||',\n",
              " 'X:814\\nT:A La Mode de France\\nS:Playford?\\nZ:Nigel Gatherer\\nM:4/4\\nL:1/4\\nK:Dm\\na | a f g a | f>e d a | a f g a | f2 f :|\\nf | e A d e | f>e d f | e A d e | f3 \\nf | e A d e | f e/f/ d a | a f g a | f3 ||',\n",
              " 'X:815\\nT:Fire On the Mountain\\nS:Forgotten\\nZ:Nigel Gatherer\\nM:4/4\\nL:1/8\\nK:A\\ncd | efed cAcd | efae fecd | efed cBAc | BAGB A2 :|\\nK:D\\nFG | ABAG FDFG | ABdA BAFG | ABAG FEDF | EDCE D2 :|\\nK:A\\ncd | efed cBAc | BAGB A2 ||\\n \\nX:816\\nT:Reconciliation, The\\nS:Jim Johnstone & his Band, BBC Scotland, 1992\\nZ:Nigel Gatherer\\nM:4/4\\nL:1/8\\nK:A\\na2 | A2 (3cBA eAfA   | eAfA ecBc | A2 (3cBA eAfA  | ecBc AFEF |\\n     A2 (3cBA eAfA   | eAfA ecBc | ABAF     EFAf  | ecBc A2  :|\\ncB | A2   ce  a2 af  | efed cdcB | A2   ce  a2 e2 | fbba gefg |\\n     agae   (3fga ec | dBcA BAFG | AB   AF  EFAf  | ecBc A2  :|',\n",
              " 'X:817\\nT:Sidlaw Hills\\nC:Jim Watson\\nS:From the playing of Tam Hughes\\nZ:Nigel Gatherer\\nM:4/4\\nL:1/8\\nK:A\\n(3efg | a>ba>f e<cB>A | A<cB>A F2 \\n(3EFG | A2 A2  f<ae>d | c2 A2  B3\\n(3efg | a>ba>f e<cB>A | A<cB>A F2 \\n(3EFG | A2 A2  f<ae>c | B2 A2  A2 :|\\nc>e   | f>ec<e a>ec<e | f>ec<e f2 \\ne>f   | a>ec<e f>ec<e | f<ae>c B2 A2 |\\n        a>ba>f e<cB>A | A<cB>A F2 \\n(3EFG | A<A A2 f<ae>c | B2 A2  A2 :|',\n",
              " 'X:818\\nT:Summertime with chords\\nZ:Nigel Gatherer\\nM:4/4\\nQ=50\\nL:1/8\\nK:Bb\\n{^c}dB | \"Gm\" {^c}d- d3- \"D7\" d4- | \"Gm\" d2 cB \"D7\" cdB{^F}G- | \"Gm\" G D3- \"D7\" D4- | \"Gm\" D4 {^c}(3d2\"D7\" =c2B2 |\\n\"Cm\" {^B}c- c7- | \"Cm\" c2 BG Bc B2 | \"D7\" {^G}A- A7- | \"D7\" A2 (3G,BD GABc |\\n\"Gm\" {^c}d- d3- \"D7\" d4- | \"Gm\" d2 cB \"D7\" cdB{^c}G- | \"Gm\" G D3- \"D7\" D4- | \"Gm\" D4- \"D7\" D4 |\\n\"Bb\" F2 DF \"Gm\" G B3 | \"Cm\" {c}_d c3- \"D7\" cBGF | \"Gm\"{^F}G- G3- \"D7\" G4- | \"Gm\" G4- \"D7\" G2 |]',\n",
              " \"X:819\\nT:James F Dickie's Delight\\nC:J Murdoch Henderson, 1932\\nS:From the playing of Nigel Gatherer\\nZ:Nigel Gatherer\\nM:4/4\\nQ:100\\nL:1/8\\nK:A\\nC>B,A,>C     D>F A2 | GB/G/ E>G A>c e2 | d>fa>g (3fed  (3cde | f<F B>A (3GFE (3DCB, |\\nA,/CB,/ A,>C D>F A2 | GB/G/ E>G A>c e2 | d>fa>f (3e>ag (3fed | e<Ec>B   A2    A   ||\\nE | A>ce>a    G>Be>g    | F>Ad>f    E>Ac<e    | C>EA>c (3fed (3cBA | B<FB>A G/BG/ (3EFG  |\\n    A>c e/aA/ G>B e/gG/ | F>A d/fF/ E>A c/eA/ | d>cd>f e/ag/ (3fed | e<Ec>B A2     A2   ||\",\n",
              " 'X:820\\nT:Donald Morrison, Beauly\\nC:Alex Grant (\"Battan\"), Inverness\\nS:Flowers of Scottish Melody, 1935\\nZ:Nigel Gatherer\\nM:4/4\\nL:1/8\\nK:A\\nE | A2 cA G<AEA | cAEA GBBG | A2 cA GAFA | deBe cAA :|\\ng | a2 ea ca Ab | aecA cBBg | aece  dece | deBe cAA\\ng | aeca  Aacb  | aecA cBBg | acfa  eaca | deBe cAA ||',\n",
              " \"X:821\\nT:Haggis, The\\nT:Taigeis agus Dealg Innt'\\nS:Fraser Collection, 1815\\nZ:Nigel Gatherer\\nM:4/4\\nL:1/8\\nK:C\\nF | E/F/G Gc GEEF | E/F/G GB c2 ce | E/F/G GcGE  | D/D/D _BD F3   :|\\ng | ecgc     eccg | ecge     f2 fa | ecgc  ac gc | d/d/d _bd f2 fa |\\n    ecgc     eccg | ecge     fagf  | ecdB  cAGE  | D/D/D _BD F3   ||\",\n",
              " 'X:822\\nT:Jenny Jones\\nT:Sweet Jenny Jones\\nS:Jimmy Shand 78\\nZ:Nigel Gatherer\\nM:3/4\\nL:1/8\\nK:D\\nA2 | d2 A2 F2 | D4    EF | G2 e2 d2 | c3 B  A2 | \\n     d2 A2 F2 | G3  A B2 | A2 B2 c2 | d4      :|\\nde | f2 d2 f2 | e2 c2 e2 | d2 B2 d2 | A2 F2 A2 |  \\n     f2 d2 f2 | e2 c2 e2 | d2 c2 B2 | A4   \\nA2 | d2 A2 F2 | D4    EF | G2 e2 d2 | c3 B  A2 | \\n     d2 A2 F2 | G3  A B2 | A2 B2 c2 | d4      ||',\n",
              " 'X:823\\nT:Arkansas Traveller\\nS:Sessions, records, etc\\nZ:Nigel Gatherer\\nM:4/4\\nL:1/8\\nK:D\\nA2 | dfed B2 B2 | A2 A2 d3  d | e2 e2 f2 f2 | efed B2 A2  |\\n     dfed B2 B2 | A2 A2 d4    | dcdA  BdAG  | FAEA D2    :|\\nfg | agfa gfeg  | fedf  ec A2 | d2 d2 efge  | fedf e2\\nfg | agfa gfeg  | fedf  ec A2 | dcdA  BdAG  | FAEA D2    :|',\n",
              " 'X:824\\nT:Islay Rant\\nC:Charlie McKerron\\nS:Sessions\\nZ:Nigel Gatherer\\nM:4/4\\nL:1/8\\nK:Ador\\nAG | EAAG     ABcd | e2 ed    eAAf | g2 gf gABA | GABG cABG |\\n     EAAG     ABcd | e2 ed    eAAf | g2 gf gABA | GABG A2  :|\\neg | a2 ab    aged | eA A/A/A eAef | g2 gf gABA | GABG cABG |\\n    ^cA A/A/A cADA | eA A/A/A eAfA | g2 gf gABA | GABG A2  :|',\n",
              " \"X:825\\nT:Bill & Morag's Wedding Waltz\\nC:Nigel Gatherer\\nZ:Nigel Gatherer\\nM:3/4\\nL:1/8\\nK:D\\nF>G | A2 f3  e | d2 d>AF>A | A2 A>BA>F | D2 D>FA>F |\\n      E3  FE>F | G2 F2 E2  | D>EF>GA>B | A4\\nF>G | A2 f3  e | d2 d>AF>A | A2 A>BA>F | D2 D>FA>F |\\n      E3  FE>F | G2 F2 E2  | D6        | D4       :|\\nE>D | C4   C>D | E2 D2 C2  | D4    D>C | B4    D2  |\\n      C4   C>D | E2 F3  E  | D4    D>E | D6        |\\n      E4   E>E | E2 F2 ^G2 | A2 E3   F | E6        |\\n      E4    A2 | c4     B2 | A4  (3ABA | =G4\\nF>G | A2 f3  e | d2 d>AF>A | A2 A>BA>F | D2 D>FA>F |\\n      E3  FE>F | G2 F2 E2  | D>EF>GA>B | A4\\nF>G | A2 f3  e | d2 d>AF>A | A2 A>BA>F | D2 D>FA>F |\\n      E3  FE>F | G2 F2 E2  | D6        | D4       ||\",\n",
              " 'X:826\\nT:Miller Of Droghan, The\\nS:Lunasa\\nZ:Nigel Gatherer\\nM:4/4\\nL:1/8\\nK:G\\nz2    | G2 BG DGBG  | EBef gedB | G2 BG DGBA  | GEGA BdBA  | \\n        G2 BG DGBG  | EBef gfed | faef  deBA  | GEGA B2   || \\n(3Bcd | eE E2 DEB,E | DEGA B3 A | GE E2 DEB,E | DEGA B2 \\n(3Bcd | eE E2 DEB,E | DEGA B3 A | GE E2 DEB,E | DEGA B2   ||',\n",
              " 'X:827\\nT:Dumfries House\\nS:Sessions, etc\\nZ:Nigel Gatherer\\nM:4/4\\nL:1/8\\nK:G\\nD    | G3  G2g | dBG GAB | cBE EFG | AFD DEF |\\n       G3  G2g | dBG GAB | cEA FEF | G3  G2 :|\\nB/c/ | dBd dBd | gag f2e | dBd dcB | AFD D2\\nB/c/ | dBd dBd | gag f2e | dcB AGF | G3  G2\\nB/c/ | dBd dBd | gag f2e | dBd dcB | AFD D2\\nB/c/ | dBd ece | fdf gfe | dcB Agf | g3  G2 ||',\n",
              " 'X:828\\nT:Maho Snaps, The\\nS:Boys of the Lough\\nZ:Nigel Gatherer\\nM:6/8\\nL:1/8\\nK:G\\nD | GAG GBd | gdB GAB | cBc EFG | AFD  DEF |\\n    GAG GBd | gdB GAB | cAF AFD | GAG  G2 :|\\nB | dBd ece | fdf gfe | dBd efg | fd^c d2\\nB | dBd ece | fdf gfe | dcB Aaf | gGG  G2 :|',\n",
              " 'X:829\\nT:Rakes of Mallow, The\\nT:Rigs of Marlow, The\\nS:Sessions etc\\nZ:Nigel Gatherer\\nM:4/4\\nL:1/8\\nK:G\\nG2B2 G2B2 | G2B2 cBAG | F2A2 F2A2 | F2A2 dcBA |\\nG2B2 G2B2 | G2B2 d4   | cBAG FGAB | G2G2 G4  :|\\ng2fe d2c2 | B2c2 d4   | g2fe d2c2 | B2c2 A4   |\\ng2fe d2c2 | B2c2 d4   | cBAG FGAB | G2G2 G4  :|',\n",
              " 'X:830\\nT:Aird Ranters, The\\nC:Fred Morrison\\nS:Derek Hoy\\nZ:Nigel Gatherer\\nM:4/4\\nL:1/8\\nK:ADor\\ne<aa>e g<ee>d | e2 e<a g<e d2 | e<aa>e g<ee>d |1 c<AA>G c<A A2  :|\\n                                               2 c<AA>G c<A A>B ||\\nc2 B<d c<AA>G | c<AA>G c<AA>B | c2 B<d c<AA>G |1 c<AA>G A2 A>B  :|\\n                                               2 c<AA>G A4      ||',\n",
              " 'X:831\\nT:Cliffs of Moher, The\\nS:Donna ?----?, Wiston Lodge Mar 06\\nZ:Nigel Gatherer\\nM:6/8\\nL:1/8\\nK:Ador\\ne | aga bag | eaf  g2e | c2A BAG | EAG  FED |\\n    aga bag | eaf  g2e | c2A BAG | EFG  A3 :|\\nz | e3  dBA | e=fe dBA | GAB dBA | GAB  dBd |\\n    e3  dBA | e=fe dBA | GAB dBA | EFG  A3  |\\n    e3  dBA | e=fe dBA | GAB dBA | GAB  dBd |\\n    e3  dee | cee  Bee | EFG BAG | EDB, A,3 |',\n",
              " \"X:832\\nT:Padraig O'Keefe's Slide\\nS:Sharon Shannon\\nZ:Nigel Gatherer\\nM:12/8\\nL:1/8\\nK:D\\nF2A ABA G2B BAG | F2A A2F E2F D2E | F2A ABA G2B BAG | e2d cBA d3 d3 :| \\nf2A f2A g2B g2f | e2d c2d e2d cBA | f2A f2A g2B g2f | e2d cBA d3 d3 :| \",\n",
              " \"X:833\\nT:A A Cameron's Strathspey\\nS:Battlefield Band\\nZ:Nigel Gatherer\\nM:4/4\\nL:1/8\\nK:Amix\\ne>A A2 B<Gd<B | e>A A2 B<g fe/d/ | e>A A2 B<Gd<B | g>BG>B d>g fe/d/ :|\\nc<ee>f g<e a2 | c<ee>f g>e fe/d/ | c<ee>f g<e a2 | g>BG>B d>g fe/d/ :|\",\n",
              " \"X:834\\nT:Hallow Fair\\nS:The Piper's Assistant\\nZ:Nigel Gatherer\\nM:6/8\\nL:1/8\\nK:Amix\\ne2c d2B | c2A B2G | B>BB g3 | dBG Bcd  |\\ne2c d2B | c2A B2G | BcB  a3 | ecA Acd :|\\necA AcA | ecA AcA | dBG GBG | dBG GBG  |\\necA AcA | ecA AcA | BcB  a3 | ecA Acd :|\",\n",
              " \"X:835\\nT:Stalker Castle\\nS:The Piper's Assistant\\nZ:Nigel Gatherer\\nM:3/4\\nL:1/4\\nK:D\\nd a f | a c B/A/ | d a f/e/ | d/c/ f B |\\nd a f | e/d/ c a/c/ | B/d/c/B/ A/B/ | c/e/ f B ||\\nd c/B/ d | c/B/ c B/A/ | d c/B/ c | B/A/ f B |\\nd c/B/ d | e/d/ c a/c/ | B c/B/A/B/ | c/e/ f B ||\",\n",
              " 'X:836\\nT:Deveron Reel\\nC:Neil Grant\\nS:Session, Wormit, 7/5/06\\nZ:Nigel Gatherer\\nM:2/4\\nL:1/8\\nK:D\\nDD F/E/D/F/ | AA B/A/F/A/ | dd       f/e/d/e/ | fe ef  |\\nDD F/E/D/F/ | AA B/A/F/A/ | df       e/f/g/a/ | fd d2 :|\\nff d/e/f/d/ | eA A>A      | BB       G/A/B/G/ | AD D2  |\\nGG E/F/G/E/ | FA d>A      | B/A/G/F/ E/F/G/A/ | FD D2  |\\nff d/e/f/d/ | eA A>A      | BB       G/A/B/G/ | AD D2  |\\nGG E/F/G/E/ | FA d>a      | b/a/g/f/ e/f/g/a/ | fd d2 ||',\n",
              " \"X:837\\nT:Firth o' Forth\\nS:Adapted from Kerr's Merry Melodies Bk.3\\nZ:Nigel Gatherer\\nM:4/4\\nL:1/8\\nK:D\\nABde fedA | Beef gf e2 | ABde fedA | BdAG FD D2 :|\\nafde fedA | Beef gf e2 | afde fedA | BdAG FD D2 :|\",\n",
              " 'X:838\\nT:Little Diamond\\nS:Clare McLaughlin, June Jam 17/6/06\\nZ:Nigel Gatherer\\nM:2/4\\nL:1/8\\nK:D\\nA>B AF | DF Ad | A>B AF | GF EF/E/ |\\nDE  FG | AB cd | e>d ce |1dA BG   :|\\n                         2d2 d2   ||\\nfd  ge | fd cB | Ad  cd | fe e>g   |\\nfd  ge | fd cB | Ag  ec | d2 d2   :|',\n",
              " 'X:839\\nT:Cluck Old Hen\\nS:Krassen, Appalachian Fiddle, New York 1973\\nZ:Nigel Gatherer\\nM:2/4\\nL:1/8\\nK:Ador\\ne2 a2 | g2  a>g | e>f g>e | d2  f2 |\\ne2 a2 | g>a g>f | e>d c>d | A4    :|\\nA2 A2 | c2  c>B | A>c B>A | G>F G2 |\\nA2 A2 | c>A c>d | e>d c>d | A4    :|',\n",
              " \"X:840\\nT:O'Connor's Polka\\nT:The Hayden Fancy\\nS:Neil Davie, Green Tree Session\\nZ:Nigel Gatherer\\nM:2/4\\nL:1/8\\nK:G\\nD>E GB | D>E GB | AE ED/E/ | GE EG  |\\nD>E GB | D>E GB | AE FG    | AG G2 :|\\ndB BA/B/ | dB B>A | GE ED/E/ | GD D2  |\\ndB BA/B/ | dB B>A | GE FG    | AG G2 :|\",\n",
              " \"X:841\\nT:Bill Sullivan's Polka\\nS:Bill Stewart, Aberfeldy\\nZ:Nigel Gatherer\\nM:2/4\\nL:1/8\\nK:A\\na2 a>f | ec a>f | ec a>f | ec BA  |\\na2 a>f | ec a>e | ce B>c | BA A2 :|\\nce ed/c/ | df fe/d/ | ce eA/B/ | cB B>d |\\nce ed/c/ | df fe/d/ | ce B>c | BA A2 :|\",\n",
              " 'X:842\\nT:Duncan Davidson\\nS:Misc\\nZ:Nigel Gatherer\\nM:4/4\\nL:1/8\\nK:D\\nD>FA>B A<F d2 | D>FA>B A<F E2  |\\nD>FA>B A<FA>g | f>de>f d<d d2 :|\\nf>e (3def g>fe>d | c<Ae>A c>de>g |\\nf>e (3def g>fe>d | c>de>g f<d d2 :|',\n",
              " 'X:843\\nT:Far from Home\\nS:Sessions etc\\nZ:Nigel Gatherer\\nM:4/4\\nL:1/8\\nK:G\\nGEDE  G3  A | B2 BA Bc d2 | GEDE G3 B | A2 AB AG E2 |\\nGEDE  G3  A | B2 BA Bc d2 | edef gedc | BGAF  G4   :|\\ng2 ge f2 fd | e2 ef ed B2 | gedB G3 B | A2 AB AG E2 |\\nGEDE  G3  A | B2 BA Bc d2 | edef gedc | BGAF  G4   :|',\n",
              " 'X:844\\nT:Johnny Todd\\nS:Ossian Record\\nD:Ossian, Light On a Distant Shore\\nZ:Nigel Gatherer\\nM:4/4\\nL:1/8\\nK:G\\n(3DEF | G2 G>F G2 G>A | B2 B>A B>c d2 | e2 e2  d>BG>A | B>AG>F E2\\n(3DEF | G2 G>F G2 G>A | B2 B>A B>c d2 | e2 e2  d>BG>B | AB/A/ G>F G2 ||\\nz2    | e2 d2  g3   e | d2 d>e d>B G2 | B>c d2 B3   A | B>AG>F E2\\n(3DEF | G2 G>F G2 G>A | B2 B>A B>c d2 | e2 e2  d>BG>B | AB/A/ G>F G2 |]',\n",
              " 'X:845\\nT:Brolum, The\\nC:Dr Charles Bannaty\\nS:West Edinburgh Folk Group\\nZ:Nigel Gatherer\\nM:4/4\\nL:1/8\\nK:A\\nf | e2 ce fefa | A2 cB ceef |1 e2 ce fefa | B2 ce fBBf :|\\n  |2 ecae f2 ec | B2 cB A3 :: e | A2 cA eAcA | A2 cB ceef \\n|1 A2 cA eAcA | B2 ce fBBe :|2 ecae f2 ec | B2 cB A3 :|\\ne | a2 af e2 ce | A2 cB ceef |1 a2 af e2 ce | B2 ce fBBe :|\\n  |2 ecae f2 ec | B2 cB A3 :: e | AAAc AAAc | A2 cB ceef \\n|1 AAAc AAAc | B2 ce fBBe :|2 ecae f2 ec | B2 cB A3 :|',\n",
              " 'X:846\\nT:Ale Is Dear, The\\nS:West Edinburgh Folk Group\\nZ:Nigel Gatherer\\nM:4/4\\nL:1/8\\nK:Bm\\nf2 ef B2 fe | faef cAec | f2 ef B2 fe | faec B2-B2 :|\\nB2 Bc d2 cB | A2 AB ABcA | B2 Bc d2 cB | faec B2-B2 |\\nB2 Bc d2 cB | A2 AB ABcA | d2 fd c2 ec | faec B1-B2 |]',\n",
              " 'X:847\\nT:Oliver Jack\\nS:Dick Rutter, Edinburgh\\nZ:Nigel Gatherer\\nM:4/4\\nL:1/8\\nK:G\\nBc | d2 dc B2 ge | d2 dc BGBc | d2 dc B2 ge | d4    d2 :|\\nB2 | c2 cA B2 BG | A2 AG FGAB | c2 cA BGGB  | A2 d2 G2 :|',\n",
              " 'X:848\\nT:Hoch Hey Johnnie Lad\\nS:Adapted from \"Jerry O\\'Sullivan\\'s\" as played by Lunasa\\nZ:Nigel Gatherer\\nM:4/4\\nL:1/8\\nK:G\\nG3 B AGAB | GEDE A3 B  | G3 B AGAB | GEDE G2 G2 :|\\ndegB AGAB | degd e2 e2 | degB AGAB | GEDE G2 G2 :|',\n",
              " 'X:849\\nT:Mo Chailin Dileas Donn\\nS:Ossian, The Carrying Stream\\nZ:Nigel Gatherer\\nM:4/4\\nL:1/8\\nK:G\\nG3 G A2 B2 | e4 d3 c | B G3 E3  F | G6 z2 |\\nG3 G A2 B2 | g4 f3 g | e3 d B2 d2 | e6 zg |\\nd3 B d2 ef | g4 f3 g | e3 d B2 d2 | e6 zg |\\nd3 e d2 B2 | e4 d3 c | B G3 E3  F | G6 z2 |]',\n",
              " \"X:850\\nT:Jessie's Hornpipe\\nT:The Ton\\nS:Various recordings, sessions\\nZ:Nigel Gatherer\\nM:4/4\\nL:1/8\\nK:G\\nBc | d2 g2 g2 dc | B2 d2 d2 BA | G2 G2 A2 A2 | BABc B2\\nBc | d2 g2 g2 dc | B2 d2 d2 BA | G2 G2 A2 A2 | G4-  G2 :|\\nBc | d2 g2 e2 c2 | d2 g2 e2 c2 | d3  B G2 B2 | AGAB A2\\nBc | d2 g2 e2 c2 | d2 g2 e2 c2 | BdBG  AcAF  | G4-  G2 \\nX:851\\nT:Kirks Hornpipe\\nS:Wick Scottish Dance Band\\nZ:Nigel Gatherer\\nM:4/4\\nL:1/8\\nK:D\\nA2 | FGAF D2 d2 | cdec A2 ef | gfed B2 ed | c2 A2 A2\\nAG | FGAF D2 d2 | cdec A2 ef | gfed BecA  | d4    d2 :|\\nfg | afdf a2 a2 | gece g2 g2 | gfed B2 ed | c2 A2 A2\\n1fg | afdf a2 a2 | gece g2 g2 | gfed BecA  | d4    d2 :|\\n2A2 | FGAF D2 d2 | cdec A2 ef | gfed BecA  | d4    d2 |]\",\n",
              " 'X:852\\nT:Alastair of the Dun\\nS:Andrew Rankine\\nN:Transposed from G minor\\nZ:Nigel Gatherer\\nL:1/8\\nM:2/4\\nK:Am\\nAA c2    | cB/A/ B2    | dd/d/ GG    | d/d/d/d/ GG  |\\nAA c2    | cB/A/ Bc/d/ | ec    dB    | A2       A2 :|\\ned AB/d/ | ed    A2    | dB    GB/c/ | dB       G2  |\\ned AB/d/ | ed    AB/d/ | ec    dB    | A2       A2 :|',\n",
              " 'X:853\\nT:West Fork Girls\\nS:John Greig, Edinburgh\\nZ:Nigel Gatherer\\nL:1/8\\nM:4/4\\nK:D\\nf4 d4  | g4 B4  | e3 d c2A2 | ABAG F2D2 |\\nf4 d4  | g4 B4  | e3 d c2A2 | ABcA d4  :|\\nA4 F3A | d4 F3A | G2F2 E3 F | G2F2 E4   |\\ne3d c2A2 | ABAG F2D2 | d2d2 efge | fdec d4 :|',\n",
              " 'X:854\\nT:Rowan Tree\\nS:Forgotten\\nZ:Nigel Gatherer\\nL:1/8\\nM:2/4\\nK:D\\nD/E/ | F>F FE  | F<A Ad  | B>A Bd  | BA A\\nD/E/ | F>F FE  | F<A B>A | A<F E>F | D3   ||\\nA    | A>d d>c | cB  Bd  | A>B AF  | FE E\\nD/E/ | F>F FE  | F<A B>A | A<F E>F | D3   |]',\n",
              " 'X:855\\nT:Bile Them Cabbage Down\\nS:Marion Thede,  The Fiddle Book\\nZ:Nigel Gatherer\\nL:1/16\\nM:2/4\\nK:D\\nde | f2f2 fdfd | [d3f3][df]-[d2f2]gf | f2f2 fdfd | [c3e3][ce] [c2e2]de |\\nf2f2 fdfd | gagf g2fg | a2a2 f2e2 | dfed [d2f2] :|',\n",
              " 'X:856\\nT:Doon In the Wee Room\\nS:Memory\\nZ:Nigel Gatherer\\nL:1/8\\nM:4/4\\nK:D\\nF2 GF E2 D2 | ddcB A4 | ddcB A2 F2 | AAGF E2\\nFG | F2 GF E2 D2 | ddcB A4 | d2cB A2 F2 | AAGE D4 |]',\n",
              " 'X:857\\nT:Tennessee Blues\\nS:Forgotten\\nZ:Nigel Gatherer\\nL:1/8\\nM:4/4\\nK:A\\naaaa aaaa | ae=gf e=c^ce | aaaa ae=gf |\\ne=c (3BcB A2 AA :: FABA =cBA=F | FABA =cBA=F |\\nFABA =cBAF |\\nM:6/4\\nE2 [EA][EA][EA][EA] ef=gf e2 |\\nM:4/4\\n^deee eeee | eeee eeee | B=cBc BAFE | A2 AB =cBAF | \\nA2 [EA][EA] [EA][EA] [E2A2] :|',\n",
              " 'X:858\\nT:Rolling Wave, The\\nS:Sessions, records\\nZ:Nigel Gatherer\\nL:1/8\\nM:6/8\\nK:D\\nFEF D3  | D2d cAG | FEF D3  | A2F GFE  |\\nFEF D3  | D2d cAG | FAF GBG | A2F GFE :|\\nD2d cAd | cAd cAG | F2d cAd | A2F GFE  |\\nD2d cAd | fed cAG | FAF GBG | A2F GFE :|',\n",
              " \"X:859\\nT:New Rigged Ship, The\\nS:Kerr's Merry Melodies\\nZ:Nigel Gatherer\\nL:1/8\\nM:6/8\\nK:D\\nA | d2d d2f | d2d d2f | ecA Acd | ecA ABc |\\n    d2d d2f | d2d d2f | ecA ABc | d3  d2 :|\\nf | a2f a2f | d2d dfa | b2g b2g | e2e efg |\\n    a2f a2f | d2d ecA | Bcd ecA | d3  d2 :|\",\n",
              " 'X:860\\nT:Dixie Hoedown\\nS:Forgotten\\nZ:Nigel Gatherer\\nL:1/8\\nM:4/4\\nK:G\\nd>c | B>AB>c B>AG>D | E>GA>B c2 d>c | B>AB>c B>AG>B | A>GF>E D2\\nd>c | B>AB>c B>AG>D | E>GA>B c2 d>c | B>AG>B A>GF>A | G>FG>A G2 :|\\nB>d | [B4g4] [Bg]>[Bg] [B2g2] | [B4f4] [Bf]>[Bf] [B2f2] |\\n[c4e4] [ce]>[ce] [c2e2] | [G6B6] z2 | D>EF>D A>AA>F |\\nA>FA>d z d3 | G>GG>G B>BB>B | d>dd>g z g3 |\\n[B4g4] [Bg]>[Bg] [B2g2] | [B4f4] [Bf]>[Bf] [B2f2] |\\n[c4e4] [ce]>[ce] [c2e2] | [G6B6] z2 | D>EF>D A>AA>F |\\nA>FA>d z d3 | B>AG>B A>GF>A | G>FG>A G2 |]',\n",
              " 'X:861\\nT:Clock Tower, The\\nC:Nigel Gatherer\\nZ:Nigel Gatherer\\nL:1/4\\nM:4/4\\nK:D\\nD E F G | F E E2  | D E F G | F E D2 :|\\nD E F F | E F G G | D E F F | F E D2 :|',\n",
              " 'X:862\\nT:Scotland\\nC:Bill Monroe\\nS:Fiddle Fever, Radio Scotland 1992\\nZ:Nigel Gatherer\\nL:1/8\\nM:4/4\\nK:A\\nAB | c2 Ac d2 cd | e2 c2 B2 AB | c2 Ac d2 cd | ecdB A2 :|\\nz2 | e a2 g a2 ef | =gfed A2 A2 | e a2 g a2 ef | =g2 f2 e2 |\\ne a2 g a2 ef | =gfed A2 AB | c2 Ac d2 cd | ecdB A2 :|\\n[A,6E6A6] (3Bcd | e2 c2 B2 A2 | [A,6E6A6] (3Bcd | e2 c2 B4 |\\n[A,6E6A6] (3Bcd | e2 c2 B2 A2 | [A,6E6A6] (3Bcd | ecdB A2 :|',\n",
              " 'X:863\\nT:Blackberry Blossom\\nS:Ashley Broder, GFW 18/9/06\\nZ:Nigel Gatherer\\nL:1/8\\nM:4/4\\nK:G\\ngabg fgaf | efge dBAG | EFGE DFGA | BdBG Adef |\\ngabg fgaf | efge dBAG | EFGE DFGA | BdAF G4  :|\\nE2 eB d2 e2 | E2 eB dBAG | E2 eB d2 e2 | fefg afed |\\nE2 eB d2 e2 | E2 eB dBAB | cBcd efge | dBAF G4 :|',\n",
              " \"X:864\\nT:Doc Boyd's Jig\\nS:Dave Swarbrick\\nD:Swarbrick\\nZ:Nigel Gatherer\\nN:Transposed from C\\nL:1/8\\nM:6/8\\nK:D\\nd |: dcd AFA | dfb a2f | gbg Bcd | cec ABc |\\n     dcd AFA | dfb a2f | gec ABc |1 d3 ABc :| 2 d3-d2 ||\\na |: b2b ba^g | aba a=gf | ggg gfe | a2f d2a |\\n     b2b ba^g | aba a=gf | gec ABc |1 d3 fga :| 2 d3-d2 ||\",\n",
              " 'X:865\\nT:Down Home Waltz\\nS:Dave Grisman\\nD:Mandolin Extravaganza\\nZ:Nigel Gatherer\\nN:Slightly altered\\nL:1/8\\nM:3/4\\nK:G\\nde>f  | g2 f2 e2 | d2 c2 B2 | A3 Bc>d | e6    | \\n        f3  ge>f | d3  ec>d | B6-     | B3\\nde>f  | g2 f2 e2 | d2 c2 B2 | A3 Bc>d | e6    | \\n        fg ef de | cd Bc AB | G6-     | G3   ||\\nFG>^G | A3  Bc>e | d4    c2 | B3 df>a | g4 f2 |\\n        e3  fg>b | a4    e2 | g6      | f6    |\\n  | g2 f2 e2 | d2 c2 B2 | A3 Bc>d | e6    | \\n        fg ef de | cd Bc AB | G6-     | G3   ||',\n",
              " 'X:866\\nT:The Wife She Brewed It\\nS:Lori Watson\\nD:GFW Slow Session CD09\\nZ:Nigel Gatherer\\nL:1/8\\nM:4/4\\nK:A\\nA<AG>A F>AE>A | A<A c>e a>ec>A | A<AG>A F>AE>A | A>Bc>A B2 e2 |\\nA<AG>A F>AE>A | A<A c>e a>ec>e | f>ef>g a>ec>A | B>AB<c A2   ||\\ne>d | c>de>c A>Bc>A | F>Ad>c B>AF>E | A>Bc>d e>fe>f | e<ca>c B2\\ne>d | c>de>c A>Bc>A | F>Ad>c B>AF>E | A>Bc>d e>fa>f | e<cB>c A2 |]',\n",
              " 'X:867\\nT:Snug in a Blanket\\nS:Derek Hoy\\nZ:Nigel Gatherer\\nL:1/8\\nM:6/8\\nK:D\\nz | e2f gfg | ABA g2e | faf gec | dcd f2d | !\\ne2 f gfg | ABA g2e | faf gec |1 dfe d2f :||2 dfe dcB || !\\nc2d eAA | eAf ecA | c2d eAA | Bcd f2e | ! \\nc2d eAA | eAf ecA | faf gec |1 dfe dcB :||2 dfe d3 ||',\n",
              " \"X:868\\nT:Country Girl & the Hungarian Fiddler, The\\nC:Unknown\\nS:Jock Tamson's Bairns\\nZ:Nigel Gatherer\\nL:1/8\\nM:4/4\\nK:Amix\\nd | e2 e2 cAce  | cAce  e2 dB | e2 e2 cAce | edBG A3 :|\\nB | c2 c2 A3  c | d2 d2 B3  d | e2 e2 cAce | edBG A3 :|\\nz | A2 ce e2 Be | e2 de edBG | A2 ce e2 Be | edBG A3 :|\\nz | A2 ca gfdf  | fece  edBG | A2 ca gece  | edBG A3 :|\",\n",
              " 'X:869\\nT:Miss Linda MacFarlane\\nC:Robin Brock\\nS:Learned from Auld Spice Ceilidh Band\\nZ:Nigel Gatherer\\nM:4/4\\nL:1/8\\nK:G\\nD2 | G2 F>G DGBd | d2 c>A G2 F>G | E2 e>d cBAG | B2 A2 A2\\nD2 | G2 F>G DGBd | d2 c>A G2 F>G | E2 e>d cFBA | G2 G>A G2 ||\\nB>c | d2 B>c dBgd | e2 c>d ecge | d2 D>G Bdgd | B2 A2 A2\\nD2 | G2 F>G DGBd | d2 c>A G2 F>G | E2 e>d cFBA | G2 G>A G2 |]',\n",
              " 'X:870\\nT:MacRostie Park\\nC:Robin Brock\\nS:Learned from Auld Spice Ceilidh Band\\nZ:Nigel Gatherer\\nM:2/4\\nL:1/8\\nK:D\\nD/E/ | F2 A>F | EF DF/G/ | A2 f>e | dB A2 | Bd GB | Ad FA | G>F ED | CE A\\nD/E/ | F2 A>F | EF DF/G/ | A2 f>e | dB A2 | Bd GB | AF dF | E>G FE | FD D ||\\nd/e/ | f>A df | eA ce | dF Bd | cA F2 | Bd GB | Ad FA | G>F ED | CE A\\nD/E/ | F2 A>F | EF DF/G/ | A2 f>e | dB A2 | Bd GB | AF dF | E>G FE | FD D |]',\n",
              " \"X:871\\nT:Reel of Tulloch\\nM:4/4\\nL:1/8\\nS:Kerr's Merry Melodies, Bk.1 (c1875)\\nZ:Nigel Gatherer\\nK:A\\nf | e2 Ac/d/ ecAa | e2 AB/c/ dBGf | e2 Ac/d/ eAcA | BE (3EBe dB=G :|\\nB | cA (3cde cAAB | cA (3cde dB=GB | cA (3cde cAcA | BE (3EBe dB=G :|\",\n",
              " 'X:872\\nT:Young Sandy Tulloch - strathspey\\nC:Jimmy Shand\\nS:Jimmy Shand Scottish Dance Album Bk.2 (1953)\\nZ:Nigel Gatherer\\nM:4/4\\nL:1/8\\nK:G\\nd | g>d (3efg d<GB>A | G>AB>A G<E_ED | E>D (3EFG D>EG>e | d>Ge>G F<AA\\nd | g>d (3efg d<GB>A | G>AB>A G<E_ED | E<GD>E G>AB>e | d>B (3ABc B<G G ||\\nc | B>Gd>c B>GD>c | B>Gd>B c/B/A/G/ A>c | B>Gd>c B>GD>G | E>A c/B/A/G/ D<G G\\nc | B>Gd>c B>GD>c | B>Gd>B c/B/A/G/ A>d | g>d (3efg d<GB>e | d>B (3ABc B<G G |]',\n",
              " 'X:873\\nT:Young Sandy Tulloch - reel\\nC:Jimmy Shand\\nS:Jimmy Shand Scottish Dance Album Bk.2 (1953)\\nZ:Nigel Gatherer\\nM:4/4\\nL:1/8\\nK:G\\nd | gG (3GGG BGGG | cBAG FD D2 | gG (3GGG BGGG | ABcA defd |\\ngG (3GGG BGGG | cBAG FD D2 | GABG ABcA | (3Bcd DF G2 G :|\\nc | Bdde dBAG | Bdde d2B2 | Bdde dGBd | edcB A2G2 |\\nBdde dBAG | Bdde d2 ga | bgaf gfed | (3efg dB A3 :|',\n",
              " \"X:874\\nT:Mrs Campbell of Shinness\\nC:Roderick Campbell\\nS:Book, The Masters' Collection\\nZ:Nigel Gatherer\\nM:6/8\\nL:1/8\\nK:Em\\nBBe efg | fae g2d | BBe efg | fge d2A |\\nBBe efg | fae g2d | eee e2d | efe d2A :|\\nBGB Bed | Bgf e2d | BGB d2B | fge d2 A |\\nBGB Bed | Bgf efg | a2a g2f | efe d2A :|\",\n",
              " 'X:875\\nT:Biddy the Darling\\nS:Tom Barrett\\nZ:Nigel Gatherer\\nM:12/8\\nL:1/8\\nR:slide\\nK:Dmaj\\nA | D2F A2d f2d A2F | G2B e2d cBA GFE | D2F A2d f2d A2F | Ged cBc d3 d2 :|\\nc/B/ | A2c e2c A2d f2d | A2f g2e fed cBA | d2A e2A f2A g2A | fed cBc d3 d2 :|',\n",
              " 'X:876\\nT:Gale Bridge\\nS:Tom Barrett\\nZ:Nigel Gatherer\\nM:12/8\\nL:1/8\\nR:slide\\nK:Gmaj\\nd2g B2A G2B AGA | B2A ABd e2d B2c | d2g B2A G2B AGA | B2A B2A G3 G3 :|\\nB2A ABd e2d B2A | B2A ABd e2d B2c | d2g B2A G2B AGA | B2A B2A G3 G3 :|',\n",
              " 'X:877\\nT:Bedford Polka\\nS:Tom Barrett\\nZ:Nigel Gatherer\\nM:2/4\\nL:1/8\\nR:polka\\nK:Gmaj\\nGA Bc | d2 dB | c2 cA | B2 BA |\\nGA Bc | d2 de | fd cA | AG G2 :|\\ng2 fe | d2 dB | c2 cA | B2 Bd |\\ng2 fe | d2 de | fd cA | AG G2 :|',\n",
              " 'X:878\\nT:Harris Dance\\nS:Patrick McDonald Collection, 1874\\nZ:Nigel Gatherer\\nM:4/4\\nL:1/8\\nK:C\\nc2 ge g2 a2 | g2 eg geed | c2 ge g2 a2 | gede AA A2 :|\\ne2 dc A2 GG | e2 dc AAAG | e2 dc A GG | cdcA GG G2 :|',\n",
              " \"X:879\\nT:Copshaw's Hornpipe\\nC:Tam Hughes\\nS:GFW Session Tunes CD No.9\\nN:As played by Lori Watson\\nZ:Nigel Gatherer\\nM:4/4\\nL:1/8\\nK:G\\nD>B | G,>B,D>B, G,>CE>C | G,>B,D>G B2 A>B | c c2 A F2 F>G | (3ABA (3GFE (3DED (3CB,A, |\\nG,>B,D>B, G,>CE>C | G,>B,D>G B2 A>B | c c2 A F>DE>F | G>AB>F G2 :|\\nB>c | d>BG>B g2 f>g | a>gf>a A2 A>B | c>BA>c f2 f>e | (3ded (3cBA B2\\nB>c | d>BG>B g2 f>g | a>gf>a A2 A>B | c>BA>c f2 f>e | (3ded (3cBA G2 :|\",\n",
              " 'X:880\\nT:Morpeth Rant\\nS:GFW Session Tunes CD No.9\\nN:As played by Lori Watson\\nZ:Nigel Gatherer\\nM:4/4\\nL:1/8\\nK:G\\nF2 | G2 DD B,G,B,D | EG,CE DG,B,D | G2AB cBAG | F2A2  AcBA |\\n     G2 DD B,G,B,D | EG,CE DG,B,D | G2AB cBAF | D2 G2 G2  :|\\nef | gfed  B2 B2   | cBAG  F2 D2  | ECEG cBAG | F2 D2 D3 D |\\n     ECEG  cBAG    | FDFA  dcBA   | Ggfg edBA | B2 G2 G2  :|',\n",
              " 'X:881\\nT:Bring Back the Child\\nS:Patrick Street\\nZ:Nigel Gatherer\\nM:12/8\\nL:1/8\\nK:G\\ngfe d2B cAA BGG | gfe d2B cAF G3 | gfe d2B cAA BGG | EFG A2B cAF G3 ||\\nEFG A2B cAA BGG | EFG A2B cAF G3 | EFG A2B cAA BGG | gfe d2B cAF G3 |\\nX:901\\nT:Gu Man Slan a Chi Mi\\nS:Shetland Young Heritage\\nZ:Nigel Gatherer\\nM:3/4\\nL:1/4\\nK:A\\nE2E | FA2 | B2c | BA2 | F2E | FA2 | E3- | E3 |\\ne2e | dc2 | B2A Bc2 | d2c | df2 | e3- | e3 |\\ne2e | f2e | d2c | cB2 | A2A | Bc2 | e3- | e3 |\\nE2E | FA2 | B2c | BA2 | F2E | E2F | A3 ||',\n",
              " 'X:902\\nT:Fear a Bhata\\nS:Shetland Young Heritage\\nZ:Nigel Gatherer\\nM:3/4\\nL:1/4\\nK:G\\nE2F  | G3 | G2d | B>AG | F3 | A3  |\\nB2E  | E3 | E2G | F2E  | D3 | B,3 |\\nB,2D | E3 | E2E | D2E  | G3 | A2B |\\ne2d  | B3 | A2G | G2F  | E3 | E3 ||',\n",
              " 'X:903\\nT:Christmas Carousin\\nS:Master Method, Highland Bagpipe\\nZ:Nigel Gatherer\\nM:4/4\\nL:1/8\\nK:A\\ne>A A2 B2 G>B | A2 f>e d<BB>a | e>A A2 B2 G>B | A2 f>e d2 d2 :|\\nf>df<a f>df<a | e2 e>f d<BB>a | f>df<a f>df<a | e2 e>f d2 d2 :|',\n",
              " \"\\nT:Ray's Classic\\nC:Willie Hunter\\nS:Various\\nZ:Nigel Gatherer\\nM:2/4\\nL:1/8\\nK:A\\nA>B AE | FA E2 | FB BA/B/    | cB B2  |\\nA>B AE | FA E2 | FB A/G/F/E/ | A2 A2 :|\\ne>e eA | f2 f2 | Bf Bf       | g2 g2  |\\ncg  cg | a2 ag/f/ | ec BA/B/ | cA A2 :|\",\n",
              " \"T:Ray's Classic\\nC:Willie Hunter\\nS:Various\\nZ:Nigel Gatherer\\nM:2/4\\nL:1/8\\nK:A\\nA>B AE | FA E2 | FB BA/B/    | cB B2  |\\nA>B AE | FA E2 | FB A/G/F/E/ | A2 A2 :|\\ne>e eA | f2 f2 | Bf Bf       | g2 g2  |\\ncg  cg | a2 ag/f/ | ec BA/B/ | cA A2 :|\",\n",
              " \"X:905\\nT:Gordon's Favourite\\nS:Various\\nZ:Nigel Gatherer\\nM:4/4\\nL:1/8\\nR:reel\\nK:Gmaj\\nD2 | G3 A BABd | edef gdBd | gfge dBGB | ABAG E2 D2 |\\nG3 A BABd | edef g2 ag | fafd egfe | d2 f2 d2 :|\\nz2 | e2 ce gece | d2 Bd gdBd | c2 Ac B2 GB | ABAG E2 D2 |\\nG3 A BABd | edef gfge | dBGB AcBA | G2 B2 G2 :|\",\n",
              " 'X:906\\nT:Pilib An Cheoil\\nS:Marc Duff\\nZ:Nigel Gatherer\\nM:9/8\\nL:1/8\\nK:Gmaj\\nG2A B2G c2A | d2B cAG F3 | G2A B2G c2A | d2B cAF G3 :|\\nA2B A2G F2D | A2B A2G F3 | A2B A2G F2D | d2B cAF G3 :|',\n",
              " 'X:907\\nT:Lasses Trust In Providence\\nS:Sessions, records, etc\\nZ:Nigel Gatherer\\nM:4/4\\nL:1/8\\nK:D\\nd2 de fdef | d2 fd edBA | d2 de fdef | dBAF E4 :|\\nA2 AB ADFA | d2 d2 BABd | A2 AB ADFA | GECE D4 :|',\n",
              " 'X:908\\nT:Bonnie Isle of Whalsay, Da\\nS:Sessions, records, etc\\nZ:Nigel Gatherer\\nM:4/4\\nL:1/8\\nK:A\\ne- | edcA B2 ed | cA A2 BE Ee- | edcA  B2 ed | cABG A3  :|\\nB  | cde=g fded | cAdc B=G G2  | cde=g fded  | cABG A3\\nB  | cde=g fded | cAdc B=G G2  | cdef =gage  | dB=GB A3 ||',\n",
              " \"X:909\\nT:MacDonald's March, The\\nS:Kerr's Merry Melodies, Bk.3\\nN:Originally in 2/4\\nZ:Nigel Gatherer\\nM:4/4\\nL:1/8\\nK:A\\neA | c2 Bc A2A2 | cAce g2 ef | =g2 ae g2 de | =gdBA GABG |\\nc2 Bc A2A2 | cAce g2 ef | =gdBA GABd | c2 A2 A2 :|\\ne2 | AA a2 =g2 ea | =gefe a2 ef | =g2 ae g2 de | =gdBA GABG |\\nAA a2 =g2 ea | =gefe a2 ef | =gdBA GABd | c2 A2 A2 :|\\nE2 | ABcd eaec | ABcd ec A2 | =GABc d=gdB | =GABc dB G2 |\\nABcd eaea | =gefe a2 ef | =gdBA GABd | c2 A2 A2 :|\",\n",
              " 'X:910\\nT:Father John MacMillan of Barra\\nC:Norman MacDonald\\nS:Rebecca Knorr, Edinburgh\\nN:Originally in 2/4\\nZ:Nigel Gatherer\\nM:4/4\\nL:1/8\\nK:Amix\\nA>B   | c2 B<A A2 c<e | f2 e<c e3f | e2 c<A A2 f>e | c2 B<A  B2\\nA>B   | c2 B<A A2 c<e | f2 e<c e3f | e2 c<A B2 c>B | A4      A2 :|\\nc<e   | f2 e<e e2 f<a | f2 e<c e3f | e2 c<A A2 f>e | c2 B<A  B2\\n[1c<e | f2 e<e e2 f<a | f2 e<c e3f | e2 c<A B2 c>B | A4     A2 :|\\n[2A>B | c2 B<A c<ec<A | f2 e<c e3f | e2 c<A B2 c>B | A4     A2 ||\\nA>B   | c<Ac<e c2 A>c | f2 e<c e3f | a>fe<f c2 f>e | c2 B<A B2\\nA>B   | c<Ac<e c2 A>c | f2 e<c e3f | e2 c<A B2 c>B | A4     A2 :|\\nc<e   | f2 e>f a>fe<f | f2 A>c e3f | f2 e>f a>fe<f | c2 B<A B2\\nc<e   | f2 e>f a>fe<f | f2 e<c e3f | e2 c<A B2 c>B | A4     A2\\nc<e   | f2 e>f a>fe<f | f2 A>c e3f | f2 e>f e>fa>e | c>de>c B2\\nA>B   | c2 B<A c<ec<A | f2 e<c e3f | e2 c<A B2 c>B | A4     A2 |]',\n",
              " 'X:911\\nT:Mrs Helen L. MacDonald of Dunach\\nS:Fiona Cuthill, Glasgow\\nC:W. Lawrie\\nZ:Nigel Gatherer\\nM:4/4\\nK:D\\nA>B | d2 A>B d2 f>g | a2 f>g a2 f>d | A>AA>B d2 e>f | g>fe>d B2\\nA>B | d2 A>B d2 f>g | a2 f>d A>Bc>d | e2 A>c e>de>f | d6       :|\\ng2 | a>Aa>g  f<ad>f | A>AA>B d2 A>d | f>Ad>f a2 g>f | e>cA>c e2\\nf>g | a>gf>e d2 A2  | B<dc>B A>Bc>d | e2 A>c e>de>f | d6       :|\\nf>e | d<fA>d d<fA>d | f<ag>e d2 A>d | d<fA>d d<fA>d | c<eA>c e>gc>e |\\n      d<fA>d d<fA>d | f<af>e d2 c>d | e2 A>c e>gf>e | d6       :|\\nf>g | a>fd<A d2 f>g | a>fd<A d2 e>f | g>ec<A c<eA>c | g>ec<A c<ef>g |\\n[1    a>fd<A d2 e>f | a>fd<A d2 c>d | f2 A>c e>gf>e | d6       :|\\n[2    a>gf>e d2 A2  | B<dc>B A>Bc>d | e>cA>c e>gf>e | d6       |]',\n",
              " 'X:912\\nT:Sound of Mull, The\\nS:Neil Paterson, Milnathort\\nZ:Nigel Gatherer\\nM:3/4\\nL:1/4\\nK:D\\nA | AFA | A2A | BAF | A2 A | B>AB | ddF | E3- | E\\nDE | FFF | F2E | DDB, | D2 D/E/ | FAF | E>FE | D3- | D2 :|',\n",
              " 'X:913\\nT:Sound of Mull, Harmony\\nS:Neil Paterson, Milnathort\\nZ:Nigel Gatherer\\nM:3/4\\nL:1/4\\nK:D\\nf | fdf | f2d | gfd | f2f | g>fg | ffd | c3- | c\\nfg | aaa | a2g | ffd | f2d | AdA | G>AG | F3- | F2 :|',\n",
              " \"X:914\\nT:Roy's Wife\\nS:LP, Highland Connection\\nZ:Nigel Gatherer\\nM:4/4\\nL:1/8\\nK:G\\nB2 BA BABe | ABBG A2 AB | dBBA G2 g2 | geeg edBA :|\\nB3  d e2 de | g2 eg edBA | BABd e2 de | gedg BA A2 |\\nBABd e2 de | g2 eg edBg | agea gedg | edBg edBA |]\",\n",
              " \"X:915\\nT:Johnny Lad\\nS:Kate Dunlay/Kohler's Repository\\nZ:Nigel Gatherer\\nM:4/4\\nL:1/8\\nK:G\\nB2 BG A2 Ad | BABd efgd  | B2 BG A2 Ad | BABd e2 e2 :|\\nefge  afdf  | efge f2 f2 | efge  afdf  | edBd e2 e2 :|\",\n",
              " 'X:916\\nT:Lord Dalhousie\\nS:Various\\nZ:Nigel Gatherer\\nM:4/4\\nL:1/8\\nK:D\\nd2 fd A2 fd | egfe dB B2 | d2 fd egfe | dBAF D2 D2 :|\\nAFFA  B2 Bd | AFFA BE E2 | AFFA  BcdA | BdAF D2 D2 :|',\n",
              " \"X:917\\nT:St Mary's Polka\\nS:The Chieftains\\nZ:Nigel Gatherer\\nM:2/4\\nL:1/8\\nK:G\\nGB AB/A/ | Gg e/f/g/e/ | dB AG/A/ | B>A G/F/E/D/ |\\nGB AB/A/ | Gg e/f/g/e/ | dB AG/A/ | BG  G2      :|\\nBd g>d   | Bd g>d      | Bd ge    | f2  f>g      |\\naa/g/ e/f/g/e/ | dB AG/A/ | Be d/B/A/B/ | GG G2 :|\",\n",
              " 'X:918\\nT:Church Street Polka\\nS:The Chieftains\\nZ:Nigel Gatherer\\nM:2/4\\nL:1/8\\nK:G\\nd/c/ | BG  D>D | Ec cA/B/ | cE       F>E      | Dd  d/e/d/c/ |\\n       BG  D>D | Ec cA/B/ | c/B/A/G/ F/D/E/F/ | GB  G       :|\\ne/f/ | gg  ff  | c3- c/d/ | ee       dd       | B3- B/c/     |\\n       d>e dB  | A2 AB/A/ | 1 G>A Bc | d2 d :| 2 Gg fa | g2 g ||',\n",
              " 'X:919\\nT:Rocking the Baby\\nS:Celine Donague, Glasgow\\nZ:Nigel Gatherer\\nM:6/8\\nL:1/8\\nK:A\\nc>ee d>ee | c>ee d>cB | c>ee d>ee | A>BA c>BA |\\nc>ee d>ee | c>ee d>cB | A2c  B2c  | A>BA A3  :|\\na>cc e>cc | a>cc d>cB | a>cc e>cc | A>BA c>BA |\\na>cc e>cc | a>cc d>cB | A2c  B2c  | A>BA A3  :|',\n",
              " 'X:920\\nT:Mrs Campbell of Shinness\\nS:Sessions, Edinburgh\\nZ:Nigel Gatherer\\nM:6/8\\nL:1/8\\nK:Em\\nBee efg | faf g2e | Bee efg | fge dBA  |\\nBee efg | faf g2f | ede e2d | efe dBA :|\\nBGB BdB | Bgf e2d | BGB d2B | efe dBA  |\\nBGB BdB | Bgf efg | a2a g2f | efe dBA :|',\n",
              " \"X:921\\nT:Stan Chapman's Jig\\nC:Jerry Holland\\nS:Sessions\\nZ:Nigel Gatherer\\nM:6/8\\nL:1/8\\nK:A\\nF | E3 EFA | B3 Bce | fea fec | ecA BAF |\\n    E3 EFA | B3 Bce | fea fec | ecA A2 :|\\nf | e3 ecA | f3 fga | fec BAB | cAF F2\\nf | e3 ecA | f3 fga | fec BAB | cAA A2 :|\",\n",
              " 'X:922\\nT:White Rose of Texas\\nS:Learned from Pete Coe, England\\nZ:Nigel Gatherer\\nM:4/4\\nL:1/4\\nK:G\\nef g2 | ef g2 | de f/g/f/e/ | de f2 |\\nef g2 | ef g2 | de f/e/ c   | d4   :|\\nA2 B2 | AG F2 | A2 de       | f4    |\\ngf e2 | fe d2 | fa f/e/ c   | d4   :|',\n",
              " 'X:923\\nT:Green Mountain Petronella\\nS:Learned from Pete Coe, England\\nZ:Nigel Gatherer\\nM:4/4\\nL:1/8\\nK:G\\nD2 G2 GFGE | D2 B2 BGAB | cBcB ABcd | e2 d2 d4  |\\nD2 G2 GFGE | D2 B2 BGAB | cBcB DEFG | A2 G2 G4 :|\\n[g4B4] [f4d4] | [e4c4] [d4F4] | edef gfeA | B2 A2 A4 |\\n[g2B2][g2B2] [f2d2][f2d2] | [e2c2][e2c2] [d4F4] |\\nedef gfeG | A2 G2 G4 :|',\n",
              " 'X:924\\nT:Sine Bhan\\nS:Orwell Ceilidh Band, Inchture\\nZ:Nigel Gatherer\\nM:3/4\\nL:1/4\\nK:D\\nD2D | E2F | B2A | A3  | F2E | FB2 | A2F | E3  |\\nD2D | E2F | B2A | A3  | D2D | F2F | E3  | D3  |\\nD2D | E2F | d2B | BA2 | d2B | BA2 | d2F | E3  |\\nD2D | E2F | d2B | BA2 | D2D | F2F | E3  | D3 |]',\n",
              " 'X:925\\nT:Mo Dhachaidh\\nT:My Home\\nS:Orwell Ceilidh Band, Inchture\\nZ:Nigel Gatherer\\nM:3/4\\nL:1/4\\nK:Amix\\ne | c>BA | A>ce | a>gf | e2d | c>BA | A>Bc | d>cd | B2\\ne | c>BA | A>ce | a>gf | e2d | c>Ac | B>GB | A3   | A2 ||\\ne | A>Bc | c>Bc | e>dc | c2e | d>cd | B>cd | e>cA | A2\\ne | f>df | a>gf | e>dc | a2d | c>Ac | B>GB | A3   | A2 ||',\n",
              " 'X:926\\nT:The Caravan\\nS:Learned from Joanie Madden, 20/9/08\\nZ:Nigel Gatherer\\nM:6/8\\nL:1/8\\nK:G\\nB2d dBd | e2g gfe | d2B BAG | ABA GED :|\\nDBA A3  | DBA AGE | DBA A3  | GAG GED :|',\n",
              " \"X:927\\nT:Joanie Madden's\\nS:Learned from Joanie Madden, 20/9/08\\nN:She learned it from Matt Molloy\\nZ:Nigel Gatherer\\nM:4/4\\nL:1/8\\nK:G\\nb3 a g3 e | dB B2 dega | b3 a g3 e | dBGA BA A2 :|\\nB3 d edBd | edgd  edBd | (3Bcd ef g3 a | gedB A2 GA |\\nB3 d edBd | edgd  edBd | (3Bcd ef g3 a | gedB G4 |]\",\n",
              " \"X:928\\nT:The Labyrinth\\nS:Learned from Stuart Hardie, 20/9/08\\nN:In Walsh's Dance collection\\nZ:Nigel Gatherer\\nM:6/8\\nL:1/8\\nK:G\\nB3  BAB | c3  cBc | A2A AGA | B3  cBA  |\\nG3  GFG | A3  A2G | FED DEF | G2A B2c :|\\nd3  dcd | e2d cBc | A2A Adc | B3  cBA  |\\nG3  GFG | A3  A2G | FED DEF | G2A B2c :|\",\n",
              " \"X:929\\nT:White Cockade, The\\nS:Can't remember\\nZ:Nigel Gatherer\\nM:4/4\\nL:1/8\\nK:D\\nDE | F2 F2 F2 ED | F2 F2 F2 d2 | A2 F2 GFED  | F2 E2 E2\\nDE | F2 F2 GFED  | F2 A2 d3  e | fedc  edcB  | A2 F2 F2 ||\\nFG | A2 F2 d2 F2 | A2 A2 A3  B | A2 F2 d2 cd | e2 E2 E2\\nDE | F2 F2 GFED  | F2 A2 d3  e | fedc  edcB  | A2 F2 F2 |]\",\n",
              " 'X:930\\nT:Babes In the Wood\\nS:Irene Anderson, Crieff\\nZ:Nigel Gatherer\\nM:4/4\\nL:1/8\\nK:A\\nE2 | A3 c ecAc | e2 a2 g2 f2 | e3 c ecAc  | B2 d2 c2 B2 |\\n     A3 c ecAc | e2 a2 g2 f2 | e3 c a2 c2 | B4    A2   :|\\nF2 | E3 G BGEG | B2 d2 c2 B2 | A3 c ecAc  | e2 a2 g2 f2 |\\n     e3 c a3 f | e3  c a3  f | e3 c a2 c2 | B4    A2   :|',\n",
              " 'X:931\\nT:Hopeful Lover, The\\nS:Bobby Macleod\\nZ:Nigel Gatherer\\nM:2/4\\nL:1/8\\nK:A\\nA>A ce | aa fe | A>A ce | aa f2  |\\nA>A ce | aa fe | f>e ce | EF A2 :|\\nc>c cB | ce fe | c>c ce | c/B/A B2 |\\nc>c cB | ce fe | f/g/a/f/ ec | c/B/A A2 :|',\n",
              " \"X:932\\nT:Auld Man's Mare's Dead, The\\nS:Books - can't remember\\nZ:Nigel Gatherer\\nM:4/4\\nL:1/8\\nK:Em\\nzF | E2 E2 E2 d>B | A<FE>D D>EF>D | G>FG>A B<GA>B |\\nd>BA>F E2 :: B>d | e2 e<B e2 e<B | d2 d<f D>EF<D |\\ne>gB>e B2 A<d | B>Ad>F E2 :|]\",\n",
              " 'X:933\\nT:Oyster Girl, The\\nS:Pete Coe, July 2008\\nZ:Nigel Gatherer\\nM:6/8\\nL:1/8\\nK:G\\nB | ded B2G | A2F D3 | GFG BAB | d2c A3 |\\nded Bdg | f2e d2e | d2B cBA | G3- d2 :|\\nd | Bcd Bcd | e2c e2c | ABC ABC | d2B d2B |\\nded Bdg | f2e d2e | d2B cBA | G3- d2 :|',\n",
              " 'X:934\\nT:Quarryman, The\\nS:Pete Coe, July 2008\\nZ:Nigel Gatherer\\nM:6/8\\nL:1/8\\nK:D\\nA | Aff f2e | edd d2c | BGB dcB | A3 A2B |\\nAee e2f | gfe dcB | ABA BAG | F3 F2A |\\nA | Aff f2e | edd d2c | BGB dcB | A3 A2B |\\nAee e2f | gfe dcB | ABA ABc | d3 =c3 ||\\nBcd G2B | d2B edB | ABd F2A | d2A fed |\\ncgg gee | ecc c2B | Aff fee | edd d2 =c |\\nBcd G2B | d2B edB | ABd F2A | d2A fed |\\ncgg gee | ecc c2B | ABA ABc | d3- d2 |]',\n",
              " \"X:935\\nT:John Brown's\\nS:Kerr's Merry Melodies\\nZ:Nigel Gatherer\\nM:4/4\\nL:1/8\\nK:A\\nc<e e2 a>fd<f | c<e e2 B>cd<B | c<e e2 a>fd<f | e<cB>c A2 A2 :|\\n(3cBA e>A f>A a2 | (3cBA e>A d<B B2 | (3cBA e>A f>A a2 | e<cB>c A2 A2 :|\",\n",
              " \"X:935\\nT:West Kilbride\\nS:Kerr's Merry Melodies\\nZ:Nigel Gatherer\\nM:4/4\\nL:1/8\\nK:A\\naA A/A/A AcBA | GABc defg | aA A/A/A AcBA | dBGB A2 A2 :|\\na2 ae f2 fe | a2 ae f2 fe | agfe dcBA | dBGB A2 A2 :|\",\n",
              " \"X:936\\nT:Squirrel Heads And Gravy\\nS:Bennett's Session, Edinburgh\\nC:Chris Germain\\nZ:Nigel Gatherer\\nM:4/4\\nL:1/8\\nK:G\\nG2 G2 E2 D2 | G2 G2 E2 D2 | G2 G2 E2 G2 | A3 B  A2 A2 |\\nB2 B2 A2 G2 | GAGF  E2 GE | D2 DE G2 D2 | BG A2 G4   :|\\nd2 de dcBc  | d2 de d4    | d2 de dc B2 | A3 B  A2 Bc |\\nd2 de dc B2 | cBcd  e4    | d2 ef g2 d2 | BG A2 G4   :|\",\n",
              " \"X:937\\nT:Angus Macleod's\\nS:Vic Williams, Edinburgh\\nN:Vic got it from George Current\\nZ:Nigel Gatherer\\nM:2/4\\nL:1/8\\nK:G\\nG2 G>A | Bd B2 | G2 G>A | Bd c2  |\\nA2 A>B | cd c2 | f>e dc | BA G2 :|\\ng2 g>f | ed B2 | d2 d>e | dB A2  |\\nG2 G>A | BG c2 | f>e dc | BA G2 :|\",\n",
              " \"X:938\\nT:Dennis Murphy's Slide\\nS:SMG, Edinburgh\\nZ:Nigel Gatherer\\nM:6/8\\nL:1/8\\nK:G\\nGA | B2A ABd | e2d d2B | AGA B2A | G3\\nG2A | B2A ABd | e2d d2B | AGA B2A | G3 G :|\\nd2 | d2g gfg | age dBd | eaa aba | g2a b2g |\\nd2g gfg | age d2B | eaa aba | g3 g :|\",\n",
              " \"X:939\\nT:Auld Man's Mare's Dead, The\\nS:Can't remember\\nZ:Nigel Gatherer\\nM:4/4\\nL:1/8\\nK:Em\\nzF | E2 E2 E2 d>B | A<FE>D D>EF>D | G>FG>A B<GA>B | d>BA>F E2 :|\\nB>d | e2 e<B e2 e<B | d2 d<f D>EF<D | e>gB>e B2 A<d | B>Ad>F E2 :|\",\n",
              " \"X:940\\nT:McNamara's\\nS:Cathal McConnell\\nD:An Irish Jubilee (1970)\\nZ:Nigel Gatherer\\nM:6/8\\nL:1/8\\nK:G\\nBGG Add | B/c/dB BAG | BGG ADD | GAG GED |\\nBGG AFF | BAG ABc | dge f2d | cAF G2z :|\\nGBd g2e | fed cAF | GBd g2g |f/g/af gzg |\\nf/g/af g2e | fed cAF | BBB c/B/AG | BdB cBA :|\\nGBB B2d | cAA AFD | GBB BAG | BdB cAF |\\nGBB B2d | cAA ABc | dge f2d | cAF G3 :|\",\n",
              " 'X:941\\nT:High Point Polka\\nT:The Cobbler\\nS:Chulrua, Barefoot On the Alter\\nZ:Nigel Gatherer\\nM:2/4\\nL:1/8\\nK:Amin\\ncA aA | cd e>d | cA aA | B/A/G/B/ de/d/ |\\ncA aA | cd e>d | cd e/d/c/B/ | A2 A2 :|\\na2 ge | dc e>d | cA aA | B/A/G/B/ d2 |\\na2 ge | dc e>d | cd e/d/c/B/ | A2 A2 :|',\n",
              " 'X:942\\nT:Tigh Na Gorm\\nZ:Nigel Gatherer\\nM:9/8\\nL:1/8\\nK:A\\nc<ec A3 A2e | d>ef e3 c3 | c>dB A3 A>Bc | B>cA B3 B>cd |\\nc<ec A3 A2e | d>ef e3 a3 | f<ad e3 A>ce |d>=GB A3 A3 ||\\nf>ef a3 d>ef | a>df e3 e3 | f>ef a3 d>ef | a>ec B3 B2e |\\nc>dB A3 A>ce | d>fa e3 c2e | f<ad e3 A>ce d>=GB A3 A3 |]',\n",
              " 'X:943\\nT:Jessie Smith Hornpipe\\nS:Peter Leatham 78rpm\\nZ:Nigel Gatherer\\nM:4/4\\nL:1/8\\nK:G\\n(3def | gdBG FGDC | B,DGd Bd g2 | (3ded cd Bd Ad | GdFd EdDd |\\ngdBG FGDC | B,DGd Bd g2 | (3ded fd cAEF | G2 B2 G2 :|\\n(3def | gdBG ecAF | GBdB gdBd | B,DGB CEAc | (3ABA B^c d2 \\n(3def | gdBG ecAF | GBdB gdBd | B,DGc BAGF | G2 B2 G2 :|',\n",
              " \"X:944\\nT:Mrs Dundas McQueen\\nS:Kerr's Merry Melodies\\nN:Transposed from A for comparison\\nZ:Nigel Gatherer\\nM:4/4\\nL:1/8\\nK:G\\ng | BGdB cAec | BGdB de/f/ gd | BGdB cAec | \\nBG G/G/G e2 d :|f |: g/f/e/d/ gd cAef | gdgf e2 de/f/ | \\ngdeB cA dc |1 BG G/G/G e2 d :|2 BGGg egdg |]\",\n",
              " \"X:945\\nT:Mrs Dundas McQueen\\nS:Kerr's Merry Melodies\\nZ:Nigel Gatherer\\nM:4/4\\nL:1/8\\nK:A\\na | cAec dBfd | cAec e/f/g ae | cAec dBfB | \\ncA A/A/A f2 e :| g |: a/g/f/e/ ac dBfg | aeag f2 ef/g/ | \\naefc dBed |1 cA A/A/A f2 e :|2 cAAa faea |]\",\n",
              " \"X:946\\nT:Davie Rae\\nS:McGlashan's Collection (1778)\\nZ:Nigel Gatherer\\nM:4/4\\nL:1/8\\nK:Em\\nF | E/E/E GA B>ABd | D/D/D dF D/E/F/G/ AF | E/E/E GA B>ABd | eBdF E/E/E E :|\\nf | e>fge b>fge | f>edg a/g/f/e/ df | efge bfge | dBAF E/E/E E\\nf | e>fge b>fge | f>edg a/g/f/e/ df | efge bfge | dBAF E/E/E E2 |\\n|: G>BE>B G>BE>B | F>AD>A F>AD>A | G>BE>B G>BE>G | f>e^df e/e/e e2 :|\\ng>be>b g>be>b | f>ad>a f>ad>a | g>be>b g>be>g | f>e^df e/e/e e2 |\\ng>be>b g>be>b | f>ad>a f>ad>a |  b>fg>e f>de>^c |d/^c/B/A/ dF E/E/E E2 ||\",\n",
              " 'X:947\\nT:Red Haired Girl of Tulloch, The\\nS:Skye Collection (1887)\\nN:Transposed from Bm for comparison\\nZ:Nigel Gatherer\\nM:4/4\\nL:1/8\\nK:Em\\nE<EG>A B>AB<d | D<DF>E D>FA>F | E<EG>A B>AB<^c | d>BA>F E<E B2 :|\\nG>BE>B G<BE>B | F<AD>A F<AD>A | G<BE>B G<BE>B | d>BA>F E<E B2 | \\nG>BE>B G>BE>B | F>AD>A F>AD>A | E<EG>A B>AB<^c | d>BA>F E<E B2 ||',\n",
              " \"X:948\\nT:Maggie Shanley's\\nS:Martin Mulvihill, 1978 Trad Fiddling from Limerick\\nZ:Nigel Gatherer\\nM:12/8\\nL:1/8\\nK:A\\nA2B c2e dcB A3 | A2B c2e f3 e3 | A2B c2e dcB A2B | c2e dcB A3 A3 :|\\nf2e c2e dcB A3 | f2e c2e f3 e3 | f2e c2e dcB A2B | c2e dcB A3 A3 :|\",\n",
              " \"X:949\\nT:Denis Enright's\\nS:Martin Mulvihill, 1978 Trad Fiddling from Limerick\\nZ:Nigel Gatherer\\nM:12/8\\nL:1/8\\nK:D\\nBcd A2F A3 A3 | B2F A2F E3 E3 | Bcd A2F A3 A3 | dcB A2F d3 d3 :|\\nf2e d2f a3 a2f | g2f e2f g3 g2e | f2e d2f a3 a3 | efg f2e d3 d3 :|\",\n",
              " \"X:949\\nT:McAuliffe's\\nS:Martin Mulvihill, 1978 Trad Fiddling from Limerick\\nZ:Nigel Gatherer\\nM:12/8\\nL:1/8\\nK:D\\nA | d2d ded c2E EFG | ABA A2G F2D DFA | d2d ded c2E EFG | ABA GFE d3 d2 :|\\ne | f2d d2c d2f agf | e2A A@c e2f gfe | f2d d2c d2f agf | e2A ABc d3 d2 :\\nX:950\\nT:Jimmy Connors\\nT:The Brosna Slide\\nS:Shegui, Around the World for Sport\\nZ:Nigel Gatherer\\nM:12/8\\nL:1/8\\nK:D\\nB | A2D FED A2F G2B | A2D FED E2F G2B | A2D FED A2F G2B | ABA G2E D3 D2 :|\\nA | d2B A2B =cBA G2A | d2B ABc d3 e3 | d2B A2B =cBA G2B | ABA G2E D3 D2 :|\",\n",
              " \"X:951\\nT:Britches Maker, The\\nS:Gow\\nZ:Nigel Gatherer\\nN:Transposed to Amin for comparison\\nM:6/8\\nL:1/8\\nK:Am\\nB | c/d/ec B/c/dB | cAA A2B | c/B/c/d/e/f/ gec | BGG G2B |\\nc/d/ec B/c/dB | Aca g2f | e>dc B>cd | ecA A :|\\nB | c>d/e/f/ gec | gec gec | d>e/f/g/ afd | afd afd |\\nc>d/e/f/ gab | c'>ba gfe | dcB e2B | cAA A2 :|\",\n",
              " 'X:952\\nT:Kingussie Waltz, The\\nC:Bert Shorthouse\\nS:On Tour with Jimmy Shand (1953)\\nZ:Nigel Gatherer\\nM:3/4\\nL:1/8\\nK:D\\nA2| D3 F A2 | d3 c d2 | e3 d B2 | A d3 \\nd2 | D3 F A2 | B2 A2 F2 | F3 E D2 | E4 \\nA2 | D3 F A2 | d3 c d2 | e3 d B2 | A d3 \\nB2 | A d3 F2 | A3 G E2 | E D3 D2 | D4 \\nA2 | d3 c d2 | f2 e2 d2 | e3 d B2 | A d3 \\nB2 | A2 d2 f2 | b2 a2 f2 | f3 e d2 | e4 \\nfg | a3 ^g a2 | f2 e2 d2 | e3 d B2 | A d3 \\nB2 | A d3 F2 | A3 G E2 | E D3 D2 | D4 |]',\n",
              " 'X:953\\nT:Snipe, The\\nC:Donald R Riddell\\nS:Sarah Northcott/Eilidh Steel, Edinburgh\\nZ:Nigel Gatherer\\nM:4/4\\nL:1/8\\nK:A\\nA>B | c2 a<g f2 e<c | B2 A<B c3 e | f3 g a2 f>e | f2 B2 B2\\nA>B | c2 a<g f2 e<c | B2 A<B c3 e | f3 g a>fe<f | c2 A2 A2 :|\\na<g | f2 e<c e2 f<a | B2 A<B c2 a<g | f2 e<c e2 f<a | f2 B2 B2\\na<g | f2 e<c e2 f<a | B2 A<B c3 e | f3 g a>fe<f | c2 A2 A2\\na<g | f2 e<c e2 f<a | B2 A<B c2 a<g | f2 e<c e2 f<a | f2 B2 B2\\nA>B | c2 a<g f2 e<c | B2 A<B c3 e | f3 g a>fe<f | c2 A2 A2 ||',\n",
              " 'X:954\\nT:Jumping Joan\\nS:Aird Vol.4, c1798\\nZ:Nigel Gatherer\\nM:4/4\\nL:1/8\\nK:G\\ng2 dB G2 BG | E2 AE FDDF | g2 dB G2 BG | EAFD G2 G :|\\ng | efge fgba | gfge fddf | efge fgag | fefd g2 Bd |\\nefge dBgB | ceBd AFED | GABG EGce | dBcA G2 G ||',\n",
              " \"X:955\\nT:The Merry Bachelor\\nT:Tommy Peoples'\\nS:CD, Raise the Rafters\\nZ:Nigel Gatherer\\nM:4/4\\nL:1/8\\nK:Bm\\nB3 c dBAF | B3 c dfed | B3 c d3 B| ABde fded |\\nB3 c dBAF | BABc dfed | BA A/A/A d2 Bd | ABde fded ||\\ndfaf bfaf | dfaf (3ggg fg | afef d2 Bd | ABde fdec |\\ndfaf bfaf | dfaf (3ggg fg | afef dFBF | ABde fded ||\",\n",
              " \"X:956\\nT:Tommy Potts' Slip Jig\\nS:CD, Altan, The Poison Glen\\nZ:Nigel Gatherer\\nM:9/8\\nL:1/8\\nK:Em\\nE2B e2^c d3 | B,2F B2F G2F | E2B e2^c d2f |\\ng2f e2d BAF :: G2B d2^c d2B | G2B d2g ecA |\\nG2B d2^c d2f | g2f e2d BAF :|\",\n",
              " \"X:957\\nT:Bridgie Con Mat's\\nS:CD, Boys of the Lough, Twenty\\nZ:Nigel Gatherer\\nM:2/4\\nL:1/8\\nK:G\\nGB BA/c/ | BG G/F/G/A/ | GB B/c/d/B/ | AD FD/F/ |\\nGB BA/c/ | BG GF/G/ | A>G A/B/c/B/ | AD FA :|\\nBe ef/e/ | d/e/f/a/ g2 | Be ed/B/ | AD FA |\\nBe ef/e/ | d/e/f/a/ g2 | gg/e/ dd/B/ | AD FA :|\",\n",
              " \"X:958\\nT:John Mahinney's No.1\\nS:Star of Munster Trio (Topic Records)\\nZ:Nigel Gatherer\\nM:6/8\\nL:1/8\\nK:D\\ne | f2A AFA | BAF A3 | B/c/dB AFA | Bcd efg |\\nf2A AFA | BAF A3 | B/c/dB AFA | Bdd d2 :|\\ne | fgf efe | dBA d2e | fgf efe | dfa b2a |\\nfgf efe | dBA d2e | fdB AFA | Bdd d2 :|\",\n",
              " \"X:959\\nT:Hugh Gillespie's No.2\\nS:CD, Zoe Conway, The Horse's Tail, 2007\\nZ:Nigel Gatherer\\nM:3/4\\nL:1/8\\nK:A\\nE>A | c2 c>BA>c | e2 e2 B>c | d>cd>fe>d |c>e a2\\nE>A | c2 c>BA>c | e2 e2 B>c | d>cd>BGB |1 B>AA>F :|2 B>AA ||\\nga>g | f2 d>fd>f | f>ec>ec>e | d2 B>dB>d | c>e a2\\na>g | (3faf d>fd>f | f>ec>ec>e | d>cd>BG>B | B>AA :|\",\n",
              " \"X:960\\nT:Kelso Hiring Fair\\nT:Victoria Waltz\\nD:Tom Hughes, Border Fiddler\\nN:Simplified transcription\\nZ:Nigel Gatherer\\nL:1/8\\nM:3/4\\nK:C\\nG>F |: E2  [E2C2]  [E2C2]  | [E2G,2] [E2C2] [E2C2] | [E2G,2] [E2C2] [E2C2] | G>^F A>G =F>D |\\n[D2G,2] [D2B,2] [D2B,2] | [D2G,2] [D2B,2] [D2B,2] | G>^F A>G F>G | E2 [E2C2] [E2C2] | \\n[E2G,2] [E2C2] [E2C2] | [E2G,2] [E2C2] [E2C2] | G>^F A>G =F>D | [D2G,2] [D2B,2] [D2B,2] | \\n[D2G,2] [D2B,2] [D2B,2] | G>^F A>G (3=FED |1  C3 EG>F :|2 C4 ||\\nK:D\\nA>d |: f3 ff>e | d4 A2 | BA G2 F2  | A,2 [E2C2] [E2C2] |\\ng3 ag>f | e3 dc>B | A2 G2 E2 | F2 D2 D2 |\\nf3 ff>e | d4  A2 | BA G2 F2  | [E2C2] [E2C2] |\\ng3 ag>f | e3 dc>B | A2 G2 A,2 | D4 ||\\nA2  | d2 F>d F>d | c2 G>c G>c | B2 G>B G>B | A2 F>A F>A  |\\nd2 F>d F>d | c2 G>A B2 | A2 G2 C2 | D4 :|\\nK:G\\nBc  | d4 c2 | e4 d2 | b6 | b4 c'2 | b4 a2 | B4 f2 | \\ng>f g>a b>g | d2 B2 Bc  | d4 c2 | e4 d2 | b6 | \\nb4 c'2 | b4 a2 | B4 f2 | g>f g>a b>a | g4 || \\nd>c | B z [B,D] z [B,D] z | B z [B,D] z [B,D] z | d>^c e>d =c>B | c z [CE] z [CE] z |\\nc z [CE] z [CE] z | B>A d>c B>A | B z [B,D] z [B,D] z | B z [B,D] z [B,D] z | d>^c e>d =c>B | \\nc z [CE] z [CE] z | c z [CE] z [CE] z | B>A d>c B>A | [G4B4] :|\\nG>F |: E2  [E2C2]  [E2C2]  | [E2G,2] [E2C2] [E2C2] | [E2G,2] [E2C2] [E2C2] | G>^F A>G =F>D |\\n[D2G,2] [D2B,2] [D2B,2] | [D2G,2] [D2B,2] [D2B,2] | G>^F A>G F>G | E2 [E2C2] [E2C2] | \\n[E2G,2] [E2C2] [E2C2] | [E2G,2] [E2C2] [E2C2] | G>^F A>G =F>D | [D2G,2] [D2B,2] [D2B,2] | \\n[D2G,2] [D2B,2] [D2B,2] | G>^F A>G (3=FED | [C4E4] ||\",\n",
              " \"X:961\\nT:Captain Francis Wemyss\\nS:Kerr's Merry Melodies Bk.3\\nZ:Nigel Gatherer\\nL:1/8\\nM:4/4\\nK:D\\nA | F<Ad>A B>Ad>A | B<dA>F E/E/E E2 | F<Ad>A B>Ad>A | B<dA>F D/D/D D :|\\ng | f>ed>e d>ef>g | a<da>f e/e/e e>g | f>ed>e d>ef>e | d>BA>F D/D/D Dg | \\nf>ed>e d>ef>g | a<da>f e/e/e e>g | f<ae<f d<eB<d | A>Fd>F D/D/D D || \",\n",
              " \"X:962\\nT:Tam O'Shanter\\nS:Jim MacLeod LP, Take Your Partners\\nZ:Nigel Gatherer\\nL:1/8\\nM:6/8\\nK:D\\nA | F>GA A>Bc | d2e f2g | a>ba f2d | e>dc B.AG |\\nF>GA A>Bc | d2e f2g | a>ba f>ed | e>fe d2 :|\\ng | f>ga g2f | e>fg f2e | d>ef e2d | e>dc B.AG |\\nF>GA A>Bc | d2e f2g | a>ba f>ed | e>fe d2 :|\",\n",
              " \"X:963\\nT:Alex Doig's Jig\\nS:Jim MacLeod LP, Take Your Partners\\nZ:Nigel Gatherer\\nN:Transposed from Bb\\nL:1/8\\nM:6/8\\nK:G\\nd2c |: B2g dcB | A3 e3 | f2d cBA | GAB Adc |\\nB2g dcB | A3 e3 | fed cBA |1 G3 Gdc :|2G3-GDC ||\\nB,2G GFG | D2A FED | ABc cBA | GAB D2C |\\nB,2G GFG | D2A FED | FGA cBA |1 G3-GDC :|2 G3-G2 |]\",\n",
              " \"X:964\\nT:Cailini Ard a'Ratha\\nS:Donegal Fiddle Tutor Vol.3\\nZ:Nigel Gatherer\\nL:1/8\\nM:4/4\\nK:D\\n(3ABc | dedB AFDF | GABA GABc | dedB AFDF | ECEF D2 :|\\n(3ABc | defg afdf | e^def e=dBA | defg afdf | ed (3efe d2\\n(3ABc | defg afdf | e^def e=dBA | dedB AFDF | EDEF D2 |]\",\n",
              " 'X:965\\nT:Eight Step Polka, The\\nS:Donegal Fiddle Tutor Vol.3\\nZ:Nigel Gatherer\\nL:1/8\\nM:4/4\\nK:D\\n(ABc | d2 d2 d2 d2 | cdec dcBA | f2 f2 f2 f2 | efge f2 d2 |\\nfgaf e2 e2 | fgaf d2 d2 | efge c2 c2 | B2 A2 B2 A2 |\\nfgaf e2 e2 | fgaf d2 d2 | B2 g2 e2 d2 | Bgec dcBA :|',\n",
              " \"X:966\\nT:Bluebells of Bearnas, The\\nT:Miss Crawford's\\nS:Donegal Fiddle Tutor Vol.2\\nZ:Nigel Gatherer\\nL:1/8\\nM:4/4\\nK:A\\nec | (3ABA GA FAEc | BEcE dEcE | (3ABA GA FAEc | BEGB A2 \\ncB | A2 GA FAED | CEAc dcdf | eceg fdfa | gbga a2 ||\\n(3feg | aA (3AAA aAce | dcBA GBEg | aA (3AAA aAce | GABc defg | \\na2 gb aece | dcBc dfed | ceAc dfBa | gbeg a2 |]\",\n",
              " 'X:967\\nT:Tuam na Farraige\\nT:The Atlantic Roar\\nT:The Flowers of Loughros\\nS:Donegal Fiddle Tutor Vol.2\\nZ:Nigel Gatherer\\nL:1/8\\nM:4/4\\nK:G\\n(3DEF | G2 GF G2 Bd | (3gag fd e^cAG | F2 FE FAD>F | GB (3AGF GDB,D |\\nG2 GF G2 Bd (3gag fd e^cAG | F2 FE FAD>F | AB (3AGF GAB=c ||\\nded^c dBB=c | (3d=cB gb afd^c | (3BdB GB (3AcA FA | A^GAB AFDF |\\nd^cde dBB=c | (3d^=cB gb afd^c | (3BdB GB (3AcA FA | G2 GF G2 |]',\n",
              " \"X:968\\nT:Shield's Hornpipe\\nS:LP, Jackie Roche, Irish Violin (1958)\\nZ:Nigel Gatherer\\nL:1/8\\nM:4/4\\nK:D\\nA>G | F>GE>F D>EF>G | A>BG>B A2 d>e | f2 (3ef^g a>fe>c | d>BA>F G2\\nA>G | (3FGF (3EFE D>EF>G | A>BG>B A2 d>e | f2 (3ef^g a>fe>c | d2 d>c d2 :|\\nze | f>ef>^g a>=ge>g | f>ef>^g a2 e>^g | a>=ge>c d>fe>c | d>cA>F G2\\na>g | f>ef>^g a>=ge>g | f>ef>^g a2 (3ef^g | a>=ge>c d>fe>c | d2 (3edc d2 :|\",\n",
              " \"X:969\\nT:Mick Howard's Polka\\nS:LP, Terry Teahan, Old Time Irish Music in America (1977)\\nZ:Nigel Gatherer\\nL:1/8\\nM:4/4\\nK:A\\nA>F E>F | A>B c2 | e>c B>A | FB Bc/B/ |\\nA>F E>F | A>B c2 | e>c Bc/B/ | A2 A2 :|\\na>f e>f | a>f e>c | e>c B>A | FB Bc/B/ |\\nA>F E>F | A>B c2 | e>c Bc/B/ | A2 A2 :|\",\n",
              " \"X:970\\nT:Lady Dalrymple (North Berwick's) Strathspey\\nS:The Mackintosh Collections\\nZ:Nigel Gatherer\\nL:1/8\\nM:4/4\\nK:Gm\\nd | B<GG>F D<GG>B | A<Fc<F d<FA>c | B<GG>F D<GG>A | B>AB>c d<gg>a |\\nb<ga<^f g<d=f<c | e/d/c/B/ fB A<Fc>d |  B<GG>F D<GG>A | B/A/B/c/ d/c/B/A/ BGG ||\\nB | G<g gf/g/ G<gB<g | F<fd<f c<fA<F | G<g gf/g/ B<gd<g | b<ag>^f g/g/g g>a |\\nb<ga<d g<ef<B | e<cd<g ^F<dD>c | B<GG>F D<GG>g | f/e/d/c/ d/c/B/A/ BGG ||\",\n",
              " \"X:971\\nT:Mrs Anne Crookshanks\\nS:Can't remember\\nZ:Nigel Gatherer\\nL:1/8\\nM:4/4\\nK:C\\nc2 cc c2 G2 | c2 d2 c4 | e2 ee e2 c2 | gagf e3 f | \\ngagf efge | fgfe defd | efed cgfe | d3 c [c4G4E4]||\\ng2 gg g2 a2 | gfef g4 | e2 ee e2 dc | dcBA G4 |\\ngagf efge | fgfe defd | efed cgfe | d3 c c4 ||\",\n",
              " \"X:972\\nT:Davy Collin's Polka\\nS:Gerry Harrington, The Fiddle the Voice (2005)\\nZ:Nigel Gatherer\\nL:1/8\\nM:2/4\\nK:D\\nE | F2 GF/G/ | BA D>d | cA Bc | BA FD |\\nF2 GF/G/ | BA D>d | cA GE | ED D :|\\nz | ff/e/ fg | fd A>d | cA Bc | BA FD | \\nff/e/ fg | fd A>d | cA Bc | d2 de |\\nff/e/ fg | fd A>d | cA Bc | BA FD |\\nF2 GF/G/ | BA D>d | cA GE | ED D |]\",\n",
              " 'X:973\\nT:Killimor Jig, The\\nS:Gerry Harrington, The Fiddle the Voice (2005)\\nZ:Nigel Gatherer\\nL:1/8\\nM:6/8\\nK:D\\nDEF G3 | BAG ABc | d3 f/g/af | ded cAF |\\nDEF G3 | BAG ABc | d3 fed | cAF G2 E :|\\nGBd g3 | dgb gdB | GBd g3 | fed cAF |\\nGBd g3 | [Bd]gb gdB | GBd fed | eAF G2 E :|]',\n",
              " \"X:974\\nT:Dick Tobin's\\nS:Chulrua, Barefoot On the Alter\\nZ:Nigel Gatherer\\nL:1/8\\nM:2/4\\nK:Ador\\ne/d/ | eA AB | cd/c/ BA | dG GB | dB AG |\\nEA AB | cd/c/ BA | Be dB | BA A :|\\nB | e>e ed | eA AB | d>e dc | B/A/G Bd |\\ne>e ed | ef ge | dB GA | BA A :|\",\n",
              " \"X:975\\nT:Miss Corbett's Reel\\nS:John MacGlashan's Collection 1798\\nZ:Nigel Gatherer\\nL:1/8\\nM:4/4\\nK:D\\nA | D/D/D FD ADFD | E=cGc e=CCE | D/D/D FD ADFD | BdAd FD D :|\\ng | fdag fddf | e=cgf ecce | fdag fdec | dBAd FD D\\ng | fdag fddf | e=cgf ecce | dfeg fagb | afge fd d |]\",\n",
              " \"X:976\\nT:Minnie Dempsey's\\nS:Tony DeMarco, The Sligo Indians (2008)\\nZ:Nigel Gatherer\\nL:1/8\\nM:2/4\\nK:C\\nGc A/B/c/A/ | GE E/F/G/E/ | DA, A,/G,/A, | CA, A,/G,/A, |\\nGc A/B/c/A/ | GE E>E | DA, A,/G,/A,/C/ | DC C2 :|\\nGc c/B/c/d/ | e>e e/f/g/e/ | dB B/A/B/d/ | cA A/^G/A |\\nGc c/B/c/d/ | e>e e/a/g/e/ | dB B/A/B/c/ | dc c2 :|\",\n",
              " 'X:977\\nT:My Darling\\'s Awake\\nC:Nigel Gatherer\\nN:After \"My Darling\\'s Asleep\"\\nZ:Nigel Gatherer\\nL:1/8\\nM:4/4\\nK:D\\ne | fd d/d/d cAGA | BGdB A3 G | FABc defd | gfed e2\\nag | fd d/d/d cAGA | BGdB A3 G | FABc defa | gece d3 :|\\nG | FAdA BAdA | FAdA BAdA | FAdc defd | gfed eage |\\nfd d/d/d cAGA | BGdB A3 G | FABc defa | gece d3 :|',\n",
              " 'X:978\\nT:Reefs, The\\nS:LP, Vincent Griffin Traditional Fiddle Music from County Clare\\nZ:Nigel Gatherer\\nL:1/8\\nM:4/4\\nK:G\\n(3DEF |: G3 F EDB,A, | G,A,B,G, G2 DB, | G,A,B,G, GA (3Bcd | ga (3bag eggf |\\nga (3bag efge | dged Bc d2 | dggb gbe^c | dBAF GEED :|\\nE2 BE eE B2 | GABG AGFD | E2 eE dE B2 | D2 FD A,DFD |\\nEBBB B3 c | cBAA Bcde | fggf gfe^c | dBAF GEED :|',\n",
              " \"X:979\\nT:Mill Burn, The\\nS:Kerr's Merry Melodies Bk.3\\nZ:Nigel Gatherer\\nL:1/8\\nM:4/4\\nK:A\\nE | A2 cA GABc | dFBA GBEG | A2 cA Bcdf | ecdB A/A/A A :|\\nB | Aaga fedc | dFBA GBEG | Aaga fedc | dfec A/A/A AB |\\nAaga fedc | dFBA GBEG | AcBd cedf | ecdB A/A/A A |]\",\n",
              " 'X:980\\nT:David Adams\\nC:James Scott Skinner\\nZ:Nigel Gatherer\\nL:1/8\\nM:4/4\\nK:A\\nE | A/A/A cA GABc | dcBA GEFG | A/A/A cA Bcdf | ecdB cAAa |\\nA/A/A cA GABc | dcBA GFEG | AcEc ABcd | ecdB cAAa ||\\naAag fddf | bBba geeg | aAag fdaf | ecdB cAAg | \\na/a/a Aa fddf b/b/b Bb geeg | agae faea | ecdB cAA |]',\n",
              " \"X:981\\nT:Johnny O'Leary's\\nS:CD, Niamh Ni Charra, From Both Sides (2007)\\nZ:Nigel Gatherer\\nL:1/8\\nM:12/8\\nK:A\\nE | A2f ecA G2F F2A | GAB EFG A2c EFG |  A2f ecA G2F F2A | \\nGAB EFG A3 A2 :: c | e/f/ec a2c e/f/ed B2c | c2d e/d/cd f2e c2d | \\ne/f/ec a2c e/f/ed B2a | gfe dcB A3 A2 :: a | gfe d2e f/g/fe c2d |\\nefe dcB A2B c2a | gfe d2e f/g/fe c2d | efe dcB A3 A2 :|\",\n",
              " \"X:982\\nT:Devil's Elbow, The\\nC:James Scott Skinner\\nN:Nigel Gatherer's version\\nZ:Nigel Gatherer\\nL:1/8\\nM:4/4\\nK:D\\nd2 cd Bd A2 | d2 cd BE E2 | d2 cd BdAF | GBAG FD D :|\\ne | fdAF GBeG | FAdf eE E2 | fdAF GBed | cAag fd d :|\",\n",
              " \"X:983\\nT:Jude's Farewell\\nS:Book-Mike Rafferty, Second Wind\\nZ:Nigel Gatherer\\nL:1/8\\nM:6/8\\nK:G\\nD | GBd edB | ded dBA | G2d edB | ABG AFD |\\nGBd edB | dzd gag | edB AGA | BGF G2 :|\\nd | ggd edB | ded def | gzd edB | ABG ABd |\\ng2d edB | dBd gag | edB AGA | BGF G2 :|\",\n",
              " \"X:984\\nT:Joyful Hour, The\\nS:Book-O'Neill, Waifs & Strays\\nZ:Nigel Gatherer\\nL:1/8\\nM:4/4\\nK:Dm\\nABAG FGAB | cdcA cdcB | ABAG FGAg | fde^c Ad d2 :|\\ndefg afge | fdcA FGAc | defg afge | fed^c Ad d2 |\\ndefg a2 ge | (3fga ge f2 df | afge abag | fde^c Ad d2 |]\",\n",
              " \"X:985\\nT:Wat Ye Wha I Met Yestreen\\nS:LP-Dave Swarbrick, Smiddyburn (1981)\\nN:Transposed from Bdor for comparison\\nZ:Nigel Gatherer\\nL:1/8\\nM:4/4\\nK:Ador\\nA2 BA Bd e2 | dBgB B>AGE | G>AB>A GAB<d | D>D EG BA A2 :|\\na2 ag a/b/c'/b/ a2 | g>a g/a/b/a/ g/a/g/e/ dg | e2 dB e/d/e/f/ g<G | D>D EG BA A2 :|\",\n",
              " 'X:986\\nT:Lone Bush, The\\nC:Ed Reavy\\nS:LP-John Martin & Billy Ross\\nZ:Nigel Gatherer\\nL:1/8\\nM:4/4\\nK:G\\nD>F | G>AB>d (3cBc d>B | G>AB>d c2 B>c | d>gf>a g>fd>c | B>GD>E =F>DC>E |\\nG>AB>d (3cBc d>B | G>AB>d c2 B>c | d>gf>d c>AF>G |1 A>GG>F G2 :|2 A>GG>F G>AB>d ||\\ng>d (3Bcd =f>cA>d | g>d (3Bcd =f2 (3de^f | g>be>a g>fd>e | (3fga g>e f>dc>A |\\nG>AB>d (3cBc d>B | G>AB>d c2 B>c | d>gf>d c>AF>G |1 A>GG>F  G>AB>d :|2 A>GG>F G2 |]',\n",
              " 'X:987\\nT:When Are You Coming Over\\nC:Dougie MacLean\\nS:LP-Dougie MacLean, Fiddle (1984)\\nZ:Nigel Gatherer\\nL:1/8\\nM:4/4\\nK:A\\na2 ed cAA=c | B=GGB dBBe | gaed cAA=c | B=GGB cAAg |\\ngaed cAA=c | B=GGB d2 cd | effe f=gaf | =gBBc d2 ||   \\ncd | eaaA AccA | eaaA d2 cd | eaaA AccA | B=GBB d2\\ncd | eaaA AccA | eaaA d2 cd | effe f=gaf | =gBBc d2 |]',\n",
              " 'X:988\\nT:Mist In the Meadow, The\\nS:Book-Mike Rafferty, Second Wind\\nZ:Nigel Gatherer\\nL:1/8\\nM:6/8\\nK:G\\ngdB BAB | GBA GBd | gdB BAB | GBd ezd |\\ngdB BAB | GBA GBd | gfe fdB | ABd ezd :|\\ng3  bag | fdf afd | g3  bag | afd e2d |\\ng3  bag | fdf afd | gfe fdB | ABd e2d :|',\n",
              " \"X:989\\nT:Blooms of Ban-Accord, The\\nS:Book-Skinner, Harp and Claymore\\nZ:Nigel Gatherer\\nL:1/8\\nM:2/4\\nK:A\\nE | cz cz | B/A/B/c/ AE | dz dz | c/B/c/d/ BE |\\ne2 ^e2 | gfdB | A/E/^D/E/ cB | B2 A ||\\nK:E\\nG/A/ | BE e2 | dc B2 | c2 B>c | BAG G/>A/ |\\nBE e2 | dc B2 | cd/e/ ed | e2 =d2 ||\\nK:A\\ncz cz | B/A/B/c/ AE | dz dz | c/B/c/d/ BE |\\ne2 ^e2 | gfdB | A/E/^D/E/ cB | B2 Az ||\\nK:D\\nP:Trio\\nF/z/ A/z/ B/z/ A/z/ | dA f2 | d2 e/d/c/d/ | c2 Bz |\\nEGB^d | eB e>d | d2- d/c/G/c/ | B2 Az |\\nF/z/ A/z/ B/z/ A/z/ | dA f2 | d2 e/d/c/d/ | c'2 bz |\\nBe _B2 | Aa g/f/e/d/ | e2 Aa | d2- d E ||\\nK:A\\ncz cz | B/A/B/c/ AE | dz dz | c/B/c/d/ BE |\\ne2 ^e2 | gfdB | A/E/^D/E/ cB | B2 Az ||\",\n",
              " 'X:990\\nT:Sir George MacKenzie\\nC:Niel Gow\\nS:Book-The Gow Collection\\nZ:Nigel Gatherer\\nL:1/8\\nM:4/4\\nK:A\\nf | e2 cA d2 fd | e2 cA dBBa | e2 cA d3 =g | f>ded cA A :|\\ng | f/g/a ec e2 eg | a2 ec fBBg | a2 ec e2- e>=g | fded cAA ^g |\\nf/g/a ec e2 eg | a2 ec fBBg | a2 ec e2- e>=g | fded cA A |]',\n",
              " 'X:991\\nT:Joys of Mabou Mines, The\\nC:Donald Angus Beaton\\nS:Album-Ashley MacIsaac, Thank You Very Much\\nZ:Nigel Gatherer\\nL:1/8\\nM:4/4\\nK:G\\nc | B2 AB GEDE | GABG A2 Ac | B2 AB GEDE | GBgB G2 G :|\\ne | gfed e2 g2 | dBgB A2 Ae | gfed e2 ge | dBAB G2 Ge |\\ngfed e2 g2 | dBgB A2 A2 | B2 AB GEDE | GBgB G2 G |]',\n",
              " \"X:992\\nT:Tamerack'er Down\\nC:Donald Angus Beaton\\nS:Album-Andrea Beaton, Licence to Drive 'Er (2002)\\nZ:Nigel Gatherer\\nL:1/8\\nM:4/4\\nK:A\\nf | ecBc AFEF | A2 Af ecce | =g2 fa ecBc | AFEF A/A/A Af | ecBc A/A/A A :|\\nf | eAce =g2 fa | eAce fBBf | ecce f2 bf | ecBc A/A/A A :|\",\n",
              " \"X:993\\nT:Sandy MacIntyre's March\\nC:Donald Angus Beaton\\nS:Album-The Beaton Family, Cape Breton Fiddle & Piano Music (2000)\\nZ:Nigel Gatherer\\nL:1/8\\nM:4/4\\nK:A\\nA<F | E2 E>F A2 A>B | c>BA<c e2 e<a | f2 f<a f>ec<f | e>cB<A B2 B<e |\\nE2 E>F A2 A>B | c>BA<c e2 e<a | f2 f<a f>ec<B | c2 A2 A2 :|\\nc>d | e2 e>f e>dc<d | e>dc<d e2 e<a | f2 f<a f>ef<g a>fe<d c2 c<a |\\ne2 e>f e>dc<d | e>dc<d e2 e<a | f2 f<a f>ec<B | c2 A2 A2 :|\\nf>g | a>ba<g f2 e>f | e>dc<d e2 f>g | a>ba<g f2 e>f | e<cA<c B2 f>g |\\na>ba<g f2 e>f | e>dc<d e2 f<a | f2 f<a f>ec<B | c2 A2 A2 :|\",\n",
              " \"X:994\\nT:Francis Beaton's Reel\\nC:Donald Angus Beaton\\nS:Album-Buddy MacMaster, The Judique Flyer\\nZ:Nigel Gatherer\\nL:1/8\\nM:4/4\\nK:D\\nG | FAAB AFAd | g2 fd edBd | FAAF ABdA | BdAF D/D/D DG |\\nFAAB AFAd | g2 fd edBd | FAAF A[Bf][df]e | faef d2 ||\\nef | gbge fafd | e/e/e fe dBBd | gbge fafd | gece ddef |\\ngbge fafd | e/e/e fe dBBd | FAAF ABde | faef ddd |]\",\n",
              " 'X:995\\nT:A Tribute to Elizabeth Beaton\\nC:Father Angus Morris\\nS:Album-VA, Mabou Coal Mines\\nZ:Nigel Gatherer\\nL:1/8\\nM:4/4\\nK:A\\nE<D | C<E- E2 E2 E<A | F2 D2 E2 E<D | C<E- E2 c2 c<e | d>cBA F2 E<D |\\nC<E- E2 E2 A2 | F2 A2 E2 d2 | c2 c<e d>cBA | E2 A2 A2 :|\\ned | c/B/A- A2 E2 A2 | c2 e2 a3 c | d2 f2 B3 a | b>agf e2 d2 | \\nc2 e2 e2 A2 | c e3 a2 c2 | d<B- B2 e2 ed | c<A- A2 A2 ed | \\nc/B/A- A2 E2 A2 | c2 e2 a3 c | d2 f2 B2 f | b>agf e2 d2 | \\nc2 e2 A2 c2 | F2 A2 D2 d2 | c2 c<e d>cBA | E2 A2 A2 |]',\n",
              " \"X:996\\nT:Anne McQuarrie's Reel\\nC:Donald Angus Beaton\\nS:Zoe Darrow, YouTube\\nZ:Nigel Gatherer\\nL:1/8\\nM:4/4\\nK:A\\nag | aA A/A/A =g2 fg | afec eAce | aA A/A/A =g2 fg | afec Befg | \\naA A/A/A =g2 fg | afec eAce | agfe fgaf | ecBc A2 :|\\ne2 | A/A/A e2 A/A/A e2 | fefg afec | A/A/A e2 A/A/A e2 | fecA B2 B2 |\\nA/A/A e2 A/A/A e2 | fefg agfe | fdfg agaf | ecBc A2 :|\",\n",
              " \"X:997\\nT:Stalker Castle\\nS:Book-The Piper's Assistant, c1875\\nZ:Nigel Gatherer\\nL:1/8\\nM:6/4\\nK:Bm\\nd2 a2 f2 a2 c2 BA | d2 a2 fedc f2 B2 | d2 a2 f2 ed c2 ac |\\nBdcB ABce f2 B2 :: d2 cB d2 cB c2 BA | d2 cB c2 BA f2 B2 |\\nd2 cB d2 ed c2 ac | B2 cBAB ce f2 B2 :|\",\n",
              " 'X:998\\nT:Donald MacLean\\nC:P MacLeod\\nS:Book-The Clunes Collection, Donald Riddell (1986)\\nZ:Nigel Gatherer\\nL:1/8\\nM:6/8\\nK:Amix\\na | eAA cBc | AAA ecA | dGG BAB | GGG dBG |\\neAA cBc | AAA ecA | dff Bed | cAA A2 :|\\nd | cee eAc | eaa cee | cee eAc | Bdd dBG |\\ncee eAc | eaa cee | dff Bed | cAA A2 :|\\nK:D\\na | fdd edd | dBA BAA | Bee ede | faa efg |\\nfdd edd | dBA BAA | Bee caa | fdd d2 :|\\nf/e/ | dff Aff | dff fed | cee Aee | cee gfe |\\ndff Aff | dff fed | cee Aaa | fdd d2 :|\\ne | faa fed | Bdd dBA | faa fed | Bee e2 A |\\nfaa fed | Bdd dBA | Bee caa | fdd d2 :|\\nK:Amix\\nf | eaa gaa | faa ecA | cee ecA | Bdd dBG |\\neaa gaa | faa ecA | dff Bed | cAA A2 :|',\n",
              " 'X:999\\nT:Curlew, The\\nC:D MacPherson\\nS:Angus Grant, Highland Fiddle album\\nZ:Nigel Gatherer\\nL:1/8\\nM:6/8\\nK:D\\nd3 A2d | B>AA d>BA | d3 A2d | B>AA a>ef |\\nd3 A2d | B>AA d>BA | g2f e>fd | c>AA a>ef :|\\nd3 f2d | a>ef d>BA | d3 f2d | a>aa f>ef |\\nd3 f2d | a>ef d>BA | g2f e>fd | c>AA a>ef :|\\nd3 G>BA | d>Bd e>cA | d3 G>BB | A>ce a>ef |\\nd3 G>BA | d>Bd e>cA | g2f e>fd | c>AA a>ef :|\\nd3 a2f | d>dd e>cA | d3 a2f | d>dd a>ef |\\nd3 a2f | d>dd e>cA | g2f e>fd | c>AA a>ef |\\nd3 a2f | d>dd e>cA | d3 a2f | d>dd a>ef |\\ng>fg efd | G>Bd e>cA | g2f e>fd | c>AA a>ef |]',\n",
              " 'X:1000\\nT:Island Dance\\nS:Bobby MacLeod\\nZ:Nigel Gatherer\\nL:1/8\\nM:2/4\\nK:D\\nff a>f | ed B2 | ee fe | dB A2 |\\nff af | e d B/c/d/e/ | fa fe | d2 d2 :|\\nA/A/A/A/ A/A/A/A/ | Ad dc | B/B/B/B/ B/B/B/B/ Be ec |\\nA/A/A/A/ A/A/A/A/ | Ad de | fa fe | d2 d2 :|',\n",
              " \"X:1001\\nT:Donald Don\\nS:Jock Tamson's Bairns, May You Never Lack a Scone (2001)\\nZ:Nigel Gatherer\\nL:1/8\\nM:2/4\\nK:G\\nB2 d>B | AG E2 | A2 B>A | GE D2 |\\nB2 d>B | AG E/F/G/A/ | Bd BA | G2 G2 :|\\nD2 D>E | DG GF | E2 E>D | EA AF |\\nD2 D>E | DG GA | Bd BA | G2 G2 :|\",\n",
              " \"X:1002\\nT:Voulez Vous Danser\\nS:Kerr's Merry Melodies Book 1\\nZ:Nigel Gatherer\\nL:1/8\\nM:6/8\\nK:D\\nf2f f2f | ede d3 | c2d e2c | d2e f2d |\\nf2f f2f | ede def | g2f e2d | c3 d3 ||\\ne2e c2A | d2f e3 | e2e c2A | d2f e3 |\\na2a ^g2g | f2f e2e | d2d c2B | A3 a2g ||\\nf2f f2f | ede d3 | c2d e2c | d2e f2d |\\nf2f f2f | ede def | g2f e2d | c3 d3 ||\\na2a a2a | gfg f3 | e2f g2e | f2g a2f |\\na2a a2a | gfg fga | b2a g2f | e3 a2g |]\",\n",
              " 'X:1003\\nT:Rowan Tree, The\\nS:Wendy Carle Taylor at the Bonnie Strathearn concert, Sept 2012\\nZ:Nigel Gatherer\\nL:1/8\\nM:2/4\\nK:A\\nA,/B,/ | C>C CB, | C<E EA | F>E FA | FE- E\\nA,/B,/ | C>C CB, | C<E F>E | EC B,>C | A,3  ||\\nE | EA A>G | GF FA | E>E F/E/D/C/ | C2 B,\\nA,/B,/ | C>C CB, | C<E F>E | EC B,>A, | A,3  ||\\nA,/B,/ | C3 B, | A,2 z ||',\n",
              " \"X:1004\\nT:Merrily Danced the Quaker's Wife\\nS:Kerr's Merry Melodies Book 1\\nZ:Nigel Gatherer\\nL:1/8\\nM:6/8\\nK:D\\nA | def A2f | g2f e2d | def A2A | B3 d2A |\\ndef A2f | agf e2d | def A2A | B3 d2 :|\\nA | d2f a2f | b2g a2f | d2f a2g | f3 a2a |\\nb2g efg | a2f d2A | def A2A | B3 d2 :|\",\n",
              " 'X:1005\\nT:Mrs Charles Stewart - Pettyvaich\\nS:Kate Dunlay\\nZ:Nigel Gatherer\\nL:1/8\\nM:4/4\\nK:F\\nA/B/ | cFdF cFAF | EGGA B2Bd | cFdF cFAF | ECDE F2 F :|\\ne | fcAf cfAf | cfAf g2 ga | fcAf cfcA | BGEG F2 Fe |\\nfcAf cfAf | defa g2 gf | a/g/f g/f/e fca>g | fdcA F2 F ||',\n",
              " 'X:1006\\nT:Mid Lothian\\nS:RSCDS Book 7 (1931)\\nZ:Nigel Gatherer\\nL:1/8\\nM:4/4\\nK:D\\nB | ADFA GBEG | FDAF EB,B,B | ADFA GBEF | FAEG FDDB |\\nADFA GBEG | FDAF EB,B,G | FAd=c BGed | cAag fdd ||\\nf/g/ | afdf gbeg | afed cecA | a/g/f/e/ fd gbeg | faeg fddg |\\na/g/f/e/ fd gbeg | fafd cecA | BdAd GdFd | EBA>G FDD |]',\n",
              " \"X:1007\\nT:Mrs Webster\\nS:Kerr's Merry Melodies, Book 3\\nZ:Nigel Gatherer\\nL:1/8\\nM:4/4\\nK:Bm\\nc | dBfB dBBd | cAeA cAAc | dBfB gBfB | cAec dBB :|\\nf | b2 fe dBBd | cAed cAAa | b2 fe dBBd | cAeA cBBf |\\nb2 fe dBBd | cAed cAAa | bfge fded | cAec cBB |]\",\n",
              " \"X:1008\\nT:Letter to Peter Pan\\nC:Liz Carroll\\nS:CD, Lost In the Loop (2000)\\nZ:Nigel Gatherer\\nL:1/8\\nM:3/4\\nK:G\\ndc | B3 AGA | Bc d3 c | c2 G2 GF | F2 D3 c | \\nB3 AGA | Bc d3 b | c'2 g2 gf | f2 d3 c |\\nB3 c B2 | A3 dcB | A3 B A2 | G4 GA | Bc d3 e | \\ndc A2 AG | F2 G2 AF | G6- | G4 :|\\ng>e | d2 G>B d>B | A2 G2 g>e | d2 de g>d | e3 age | \\nd2 G>A GF | E2 D2 G>A | B>A G>A B>c | A4 g>a |\\nb3 g d>g | eg d2 B>g | e3 BAG | E/F/G D2 dc |\\nB3 cde | dc A2 AG | F2 G2 AF | G6- | G4 ||\",\n",
              " 'X:1009\\nT:Lads of Saltcoats\\nS:Book, Walsh Country Dances (1760)\\nN:Transposed from A for comparison\\nZ:Nigel Gatherer\\nL:1/8\\nM:4/4\\nK:G\\nG3 B AGAB | GEDE A/A/A A2 | G3 B AGAB | GEDE G/G/G G2 :|\\nde/f/ gB AGAB | de/f/ gB A/A/A A2 | de/f/ gB AGAB | GEDE G/G/G G2 :|',\n",
              " 'X:1010\\nT:Lucky Kitchens Reel\\nT:Portpatrick\\nS:MS, National Library of Scotland\\nN:http://archive.org/details/msbookofscottish00unse\\nZ:Nigel Gatherer\\nL:1/8\\nM:6/8\\nK:G\\nd | dBG GAB | c2B A2G | dBG GAG | A2Bc2e |\\ndBG GAB | c2B A2G | B/c/dB A/B/cA | G2G G2 :|\\nd | dBd ece | dBd ece | efg dBG | A2B c2e |\\ndef gfe | dcB A2G | B/c/dB A/B/cA | G2G G2 :|',\n",
              " \"X:1011\\nT:Sunset On the St Lawrence\\nC:Angus Fitchet\\nS:BBC Radio Scotland Documentary\\nZ:Nigel Gatherer\\nL:1/4\\nM:3/4\\nK:C\\nEF^F | G3 | G3 | G3 | EF^F | G3 | B2A | B,3 | \\nFG^G | A3 | A3 | A3 | FG^G | A3 | c2B | E3 |\\nEF^F | G3 | G3 | G3 | G^FG | _B3 | A2E | F3- | F2\\nE | DEF | Ace | e3 | d2A | e3 | d3 | c3- | c ||\\nc'c' | b2a | b2a | B3- | Bbb | a2g | a2g | c3- | cBA |\\nBzf | fzf | f3- | fed | c2g | ^f2a | g3- | g\\nc'c' | b2a | b2a | B3- | Bbb | a2g | a2g | c3- | cde |\\n_e3 | ^F3 | G3- | GBd | a3 | B3 | c3 ||\\nEF^F | G3 | G3 | G3 | EF^F | G3 | B2A | B,3 | \\nFG^G | A3 | A3 | A3 | FG^G | A3 | c2B | E3 |\\nEF^F | G3 | G3 | G3 | GFG | _B3 | A2E | F3- | F2\\nE | DEF | Ace | e3 | d2A | e3 | d3 | c3- | c2 ||\\nz | A3 | c3 | A3 | c3 | A2c | f2c | _B3- | _B3 |\\nG3 | _B3 | G3 | _B3 | _B2c | e2d | A3- | A3 |\\nA3 | c3 | A3 | c3 | A2_B | =B2 c | c3 | a3 |\\ng3 | d3 | f3 | A3 | A3 | A2G | F3 ||\\nEF^F | G3 | G3 | G3 | EF^F | G3 | B2A | B,3 | \\nFG^G | A3 | A3 | A3 | FG^G | A3 | c2B | E3 |\\nEF^F | G3 | G3 | G3 | GFG | _B3 | A2E | F3- | F2\\nE | DEF | Ace | e3 | d2A | e3 | d3 | ceg | c'3 |]\",\n",
              " \"X:1012\\nT:Littlejohn's Hame\\nC:James Scott Skinner\\nS:Book, The Scottish Music Maker (1957)\\nZ:Nigel Gatherer\\nL:1/8\\nM:4/4\\nK:D\\nA, | D2 A,>D F>DA>D | d2 c>d B>dA>F | E2 B,>E G>Eg>f | (3efd (3cdB (3ABG (3 FGE |\\nD2 A,>D F>DA>D | d2 c>d B>dA>F | G>B (3efg (3fed a>A | (3Adf a>c d2 d ||\\ng | f2 d>f (3Adf a>g | f>dA>d F>Ad>f | g2 e>g (3Beg b>a | (3gab (3efg (3cde (3eag |\\nf2 d>f (3Adf a>g | f>dA>d F>AD>F | G>B (3efg (3fed (3afd | (3AFD A,>C D2 D |]\",\n",
              " 'X:1013\\nT:General Stewart\\nC:William Gow\\nS:Book, Trad Celtic Vln Music of Cape Breton (1996)\\nZ:Nigel Gatherer\\nL:1/8\\nM:4/4\\nK:Dmix\\n=c | A<dd>A FDDF | EcGc ECCE | DA<dd>A F[DA][DA]g | fde^c d/d/d d :|\\ng | fddf a<daf | gcca g<cge | fddf a<dag | e<cge d2 dc |\\nd2 db a<daf | gcca g<cge | dfeg fagb | afge [df]/[df]/d d |]',\n",
              " \"X:1014\\nT:Eddie Moloney's\\nS:CD, Bua, Down the Green Fields (2011)\\nZ:Nigel Gatherer\\nL:1/8\\nM:4/4\\nK:Em\\nEF | GEEE cABG | ABGE A2 EF | GEEE cABG | ABGE D2 :|\\nGA | Bdde dBGB | AcBG AGEG | Bdde dBGB AAGE D2\\nGA | Bdde dBGB | AcBG AGEG | Bdde gedB | ABGE D2 |]\",\n",
              " \"X:1015\\nT:Jim Tweedie's Sea-Legs\\nC:J Allan MacGee\\nZ:Nigel Gatherer\\nS:Internet\\nM:4/4\\nL:1/8\\nK: D\\nf>g | a2A2 A2d>c | B<dG2 G2f>g | a2A2   a>gf>d | c>ee>f e2\\nf>g | a2A2 A2d>c | B<dG2 G2a2  | A>eA>e e>Ac>B | A>cf>e d2 :| \\nf>g | a>Ad>f A>df>A | d>f a>f e4 | A>eA>e e>Ac>B | A>ce>A f>ec<A |\\na>Ad>f A>df>A | d>f a>f e4 | A>eA>e e>Ac>B | A>cf>e d2 :|\\na>g | f>dd2 G>dd2 | G>BB2 e4 | A>eA>e e>Ac>B | A>ce>A f>ec<A |\\na>dd2 G>dd2 | G>BB2 e4 | A>eA>e e>Ac>B | A>cf>e d2 ||\\na>g | f>dd2 G>cc2 | G>BB2 e4 | A>eA>e e>Ac>B | A>ce>A f>ec<A |\\na>dd2 G>BB2 | G>cc2 e4 | A>eA>e e>Ac>B | A>cf>e d2 |\\nf>g | a2A>a A>aa>f | g2A>e A>ee>A | A>eA>e e>Ac>B | A>ce>A f>ec<A |\\na2A>a A>aa>f | g2A>e A>ee>A | A>eA>e e>Ac>B | A>cf>e d2 :|\\nf>g | a>Ad>f A>df>A | d>fA>d f>Ad<A | c<eA>c e>Ac<e | A>ce>A f>ec<A |\\na>Ad>f A>df>A | d>fA>d f>Ad<A | c<eA>c a>cf<e | A>cf>e d2 :|\",\n",
              " 'X:1016\\nT:Banish Misfortune\\nZ:Nigel Gatherer\\nS:Film: Agnes Browne, music by Paddy Moloney\\nM:4/4\\nL: 1/8\\nK:D\\ne2 | f2 ed cAAG | Addb =cAAG | F2 FD F2 FD | F2 FD G2 GE | \\nA2 AB =cAAG | Add^c d2 e2 | f2 ed cAAG | Addc d2 :|\\ne2 | f2 fd f2 fd | f2 fd fgaf | eA A2 eAfA | eA A2 efge |\\nf2 fd fgaf | e2 ef g3 e | fded cAAG | Addc d2 :|',\n",
              " 'X:1017\\nT:Water Wynd\\nC:Nigel Gatherer\\nZ:Nigel Gatherer\\nM:4/4\\nL: 1/8\\nK:D\\nFG | AdAF GFEF | D2 FA BAFA | Beef gfed | cedB AGFG |\\nAdAF GFEF | D2 FA BAFA | Beef gfed | cABc d2 :|\\nfg | afge fage | d2 AF DFAd | Beef gfed | cba^g a2 f=g |\\nafge fage | d2 AF DFAd | Beef gfed | cABc d2 :|',\n",
              " 'X:1018\\nT:Compliments to Finlay Allison\\nC:Nigel Gatherer\\nZ:Nigel Gatherer\\nM:6/8\\nL: 1/8\\nK:D\\nA2f fga | gec ABc | dAd eAe | fAf efg |\\nf3 fga | gec ABc | dAd ecA |1 GFE D3 :|2 GFE DEF ||\\nE2A cBA | egg gfe | dfd AdA | FAF DEF |\\nE2A cBA | egg gfe | faf gec |1 d3 DEF :|2 d3 d3 |]',\n",
              " \"X:1019\\nT:Alan Shute's Jig\\nC:Nigel Gatherer\\nZ:Nigel Gatherer\\nM:6/8\\nL: 1/8\\nK:G\\nB | dBG cAF | GBd gfg | afd cBc | ecA ABc |\\ndBG cAF | GBd gfg | afd cAF | G3 G2 :|\\nB | efe fe^d | eBG EFG | def ed^c | dAF DEF | \\nGFG AGA Bcd efg | afd cAF | G3 G2 :|\",\n",
              " \"X:1020\\nT:Jonesey's Jig\\nC:Nigel Gatherer\\nZ:Nigel Gatherer\\nM:6/8\\nL:1/8\\nK:D\\ndAF GFG | Ade fef | gfg afd | Bcd ecA |\\ndAF GFG | Ade fef | gfg afd | cBc d3 :|\\nfef gfg | afd cBc | dAF GFG | AFD E3 | \\nDFA GBd | Ace def | gfg afd | cBc d3 :|\",\n",
              " \"X:1021\\nT:Miss Sarah Drummond of Perth\\nS:Book, Malcolm MacDonald's Collections (facsimile, 2002)\\nZ:Nigel Gatherer\\nM:4/4\\nL:1/8\\nK:Am\\na | A<A e>d B<d e2 | d<g B<g d<g B<G | A<A e>d B<d e<g | a>egB A2 A :|\\ng | g<g e<a c<a e2 | g<g d<g Bg d2 | g<g e<a c<a e<g | a<e g<B A2 Ag |\\ng<g e<a c<a e2 | g<g d<g Bg d2 | g<g e<a g<b e<g | a<e g<B A2 A |]\",\n",
              " \"X:1022\\nT:Skye Air\\nS:Book, Patrick McDonald's Collections (1784; facsimile, 2000)\\nZ:Nigel Gatherer\\nM:4/4\\nL:1/8\\nK:F\\nC>D | F3 GFG | F2 G2 A2 | f2 d2 cd | F4 G>A | \\nf2 d2 df | d4 G>A | F2 D2 F2 | G4 c>A | G4 :|\\ndf | g2 g2 ga | g2 g2 ga | g2 fdfa | f2 d2 f>g | a4 gf | d4 fd | \\nc2 AGFG | A4 GA | f2 d2 cf | d4 GA | F2 D2 F2 | G4 c>A | G4 :|\",\n",
              " \"X:1023\\nT:Araidh nam Badan\\nS:Book, Patrick McDonald's Collections (1784; facsimile, 2000)\\nZ:Nigel Gatherer\\nM:6/8\\nL:1/8\\nK:G\\nd | D>GG G>AB | d>ed B>AG | B>AA ABd | e3 g3 |\\ndBG GAB | d>ed BAG | B>AA ABd | e3 d2 :|\\nz | deg ggg | a>ba geg | e>dd d>eg | a3 g2a |\\nb>gg a>ee | g>dd e>gg | B>AA ABd |1 e3 g2 :|2 e3 d2 |] \",\n",
              " \"X:1024\\nT:The Tailor's Reel\\nC:Charlie Sherrit\\nS:Book, Charlie Sherrit's Collection (1986)\\nZ:Nigel Gatherer\\nM:4/4\\nL:1/8\\nK:Amix\\nA2 ce a2 fa | e2 ce fece | A2 ce a2 fe | dBcA BGGB | \\nA2 ce a2 fa | e2 ce fece | defd  cdec | dBcA BGGB :|\\n(3cBA eA fAeA | afef cAfe | (3cBA eA fAec | dBGB dBfe |\\n(3cBA eA fAeA | afef cAfe | defd  cdec | dBcA BGGB :|\",\n",
              " 'X:1025\\nT:Mulloch Cairn\\nC:Charlie Sherrit\\nS:Album, Jim Johnstone, Government Warning (1984)\\nZ:Nigel Gatherer\\nM:4/4\\nL:1/8\\nK:D\\nd>e | f2 f<a d2 d>A | B>A B<d B2 A2 | c2 A>c e2 c>e | g>f e<d f2 e2 |\\nf2 f<a d2 d>A | B>A B<d B2 A2 | c2 A>c e<a e>f | d4 d2 :|\\nf>g | a2 a>g f2 f>e | d>A B<d B2 A2 | c2 A>c A>B c>A | g>f e<d f2 f>g |\\na2 a>g f2 f>e | d>A B<d B2 A2 | c2 A>c e<a e>f | d4 d2 :|\\nf>e | d2 d>A B>d B<G | A2 d>e f>a f<d | c2 c>B A>c e<A | g>f e<d c2 e2 |\\nd2 d>A B>d B<G | A2 d>e f>a f<d | c2 A>c e<a e>f | d4 d2 :|\\nf>g | f<a a>g f<a d<f | B2 A>d f<a f<d | g>f f>e e>d d>A | B>A B>c d2 f>g |\\nf<a a>g f<a d<f | B2 A>d f<a f<d | c2 A>c e<a e>f | d4 d2 :|',\n",
              " 'X:1026\\nT:Ebenezer\\nS:Pete Budd, Edinburgh\\nZ:Nigel Gatherer\\nM:4/4\\nL:1/8\\nK:G\\nBc | dBdB G2 Bc | dBdB G2 Bc | d2 g2 f2 g2 | a3 a a2 AB | \\ncBAG FGAB | cBAG FGAf | gfed BG A2 | G6 :|\\nBc | d2 g2 f2 g2 | b4 b2 Bc | d2 g2 f2 g2 | b4 b2 g2 |\\nagbg ageg | agbg agef | gfed BG A2 | G6 :|]',\n",
              " \"X:1027\\nT:McAuliffe's Polka No.1\\nS:CD, Kevin Conneff, The Week Before Easter\\nZ:Nigel Gatherer\\nM:2/4\\nL:1/8\\nK:G\\nB2 G2 | de/f/ gB | A2 AB | d2 BA |\\nB2 G2 | de/f/ gB | AA BA | GF G2 :|\\nfa d2 | e/f/e/d/ BA | B>A GE | B>A GE |\\nfa d2 | e/f/e/d/ BA | B>A GB/d/ | g2 g2 :|\",\n",
              " \"X:1028\\nT:McAuliffe's Polka No.2\\nS:CD, Kevin Conneff, The Week Before Easter\\nZ:Nigel Gatherer\\nM:2/4\\nL:1/8\\nK:G\\nA | Bd cA | D2 B2 | D2 A2 | D2 B2 | Bd cA | D2 B2 Bd cA | G2 G :|\\nB | e2 ef/e/ | d2 de | f2 fd | g2 gf | e2 e>f | eddc | B/c/d ef | gd ef |\\ng2 d>c | BG GA/G/ | FA AB/A/ | GA Bd | g2 d2 | B2 BA | Bd cA | G2 G :|\",\n",
              " \"X:1029\\nT:DinnyÕs Trip To The Gaeltacht\\nC:Dinny McLaughlin\\nS:LP. Aileach (1975)\\nZ:Nigel Gatherer\\nM:4/4\\nL:1/8\\nK:A\\nB | cA A/A/A EAce | a2 ae fecB | c2 (3cBc Acec | B2 GB EBGB |\\ncA A/A/A EAce | a2 ae fecB | aaae aaae | dBGB A3 :|\\nz | ac'bg aaae | ac' c'/c'/c' bafe | c2 cA c3 A | d2 de fgae |\\nac'bg aaae | ac' c'/c'/c' bafe | c'3 a (3c'ba ec | cBGB A3 :|\",\n",
              " \"X:1030\\nT:Finbar Dwyer's\\nS:CD, Angelina Carberry And Martin Quinn\\nZ:Nigel Gatherer\\nM:4/4\\nL:1/8\\nK:A dor\\nz | (3EFE ED EDB,E | DG,B,D G2 GA | E2 ED EDB,D | EB,DB, A,2 B,D |\\n^CA,EA, GGGD | EDEG E2 GA | BBBG A3 F | (3GFE EB, A,3 :|\\nG | A2 AE ABAG | (3EFE DE GEAG | (3EFE AB cGGG | d2 BG EGAB |\\nc3 c cBAc | BBBG EG d2 | (3GFE DB, DG,B,D | EB,DB, A,3 :|\",\n",
              " \"X:1031\\nT:Miss McPherson Grant's of Ballindalloch\\nZ:Nigel Gatherer\\nM:6/8\\nL:1/8\\nK:A\\nE | E2 A A2 F | GAB Bcd | c2 E AGA | B3 E3 |\\nE2 e e2 c | dcd Bcd |1 cde fed | cBA GFE :|2 cBA EFG | A3 A2 ||\\nE | C2 E A2 =G | FEF D2 F | d2 c BcA | G3 E2 E |\\nFGA Bcd | cde fga | gfe Bc^d | e3 e2 z |\\nf2 D fed | e2 c ecA | FGA BcA | G3 E3 |\\nF2 d E2 c | D2 B C2 e | cBA EFG | A3 A,3 |]\",\n",
              " 'X:1032\\nT:Kinard Polka, The\\nS: LP, Martin Mulvihill, Traditional Irish Fiddling From County Limerick\\nZ:Nigel Gatherer\\nM:2/4\\nL:1/8\\nK:G\\nBG G/A/G/E/ | DG GA | BG GF/G/ | Ad d/e/d/c/ |\\nBG G/A/G/E/ | DG GB/d/ | ed cA | AG G2 :|\\nBd g2 | fe e2 | cd f2 | ed d/e/d/c/ |\\nBd g2 | fe a>g | fd ef | ag g2 :|',\n",
              " 'X:1033\\nT:Hair In the Gate\\nC:Jim Sutherland\\nZ:Nigel Gatherer\\nM:4/4\\nL:1/8\\nK:Am\\nEAAG A2 Ac| Be d2 d2 ed| cAAG A2 Ac| B2 Be eedg|\\nEAAG A2 Ac| Beed efed| ceac BAGA|1 (3cBA BG ABcA :|2 (3cBA BG ABce||\\nf2 fe defd| ec (3AAA Acec| f2 fe defd| e2 eg gage|\\nf2 fe defd| ec (3AAA Acec| ecAc dBGB |1 (3cBA BG ABce :|2 (3cBA BG A4|]',\n",
              " 'X:1034\\nT:Five Servants, The\\nS:Boys of the Lough, Far From Home\\nZ:Nigel Gatherer\\nM:2/4\\nL:1/8\\nK:G\\nA | B>A BG | c>B cA | d>e fg | a/g/f/a/ g>e |\\nde/f/ gf/e/ | dc B>d | cA BA | G2 G :|\\ng/a/ | bg bg | bg bg | aa/g/ aa/g/ | a/b/a/g/ e/f/g/e/ |\\nde/f/ gf/e/ | dc B>d | cA BA | G2 G :|',\n",
              " ...]"
            ]
          },
          "metadata": {},
          "execution_count": 10
        }
      ]
    },
    {
      "cell_type": "code",
      "metadata": {
        "colab": {
          "base_uri": "https://localhost:8080/"
        },
        "id": "1gI41Y7iHdXL",
        "outputId": "96b2cd51-998f-4b69-f0a1-dceaf111ad0b"
      },
      "source": [
        "a = a.split('\\n\\n')\n",
        "songs  = a\n",
        "print(len(songs))\n",
        "example_song = songs[3]\n",
        "print(\"\\nExample song: \\n\", example_song, sep='')"
      ],
      "execution_count": 11,
      "outputs": [
        {
          "output_type": "stream",
          "name": "stdout",
          "text": [
            "1036\n",
            "\n",
            "Example song: \n",
            "X:004\n",
            "T:John O'Groats Jig\n",
            "B:Kohlers Violin repository - slightly adapted\n",
            "C:John Bain, Wick\n",
            "Z:Nigel Gatherer\n",
            "M:6/8\n",
            "L:1/8\n",
            "O:Scottish\n",
            "R:jig\n",
            "K:Dm\n",
            "A/G/|FGA DFA|dfd ecA|Agf edc|=Bed c=BA|\n",
            "FGA DFA|dfd ecA|Bgf ed^c|dDD D2:|\n",
            "A|dfa afd|gbg ecA|dfa afd|=Bed c=BA|\n",
            "dfa afd|gbg ecA|Bgf ed^c|dDD D2:|\n"
          ]
        }
      ]
    },
    {
      "cell_type": "code",
      "metadata": {
        "id": "dWw-v650C9Bs"
      },
      "source": [
        "mdl.lab1.play_song(a[5])"
      ],
      "execution_count": null,
      "outputs": []
    },
    {
      "cell_type": "code",
      "metadata": {
        "colab": {
          "base_uri": "https://localhost:8080/"
        },
        "id": "zQqOPwXvIKFG",
        "outputId": "8fd29818-98cd-434a-9c83-41abe6539831"
      },
      "source": [
        "# Join list of songs into a single string containing all songs\n",
        "songs_all = \"\\n\\n\".join(songs)\n",
        "\n",
        "# Unique characters\n",
        "print(\"Total characters:\", len(songs_all))\n",
        "vocab = sorted(set(songs_all))\n",
        "print(\"There are\", len(vocab), \"unique characters in the dataset\")"
      ],
      "execution_count": 12,
      "outputs": [
        {
          "output_type": "stream",
          "name": "stdout",
          "text": [
            "Total characters: 346405\n",
            "There are 106 unique characters in the dataset\n"
          ]
        }
      ]
    },
    {
      "cell_type": "markdown",
      "metadata": {
        "id": "BtDkDcEwIoF2"
      },
      "source": [
        "<h1>Vectorizing<h1>"
      ]
    },
    {
      "cell_type": "code",
      "metadata": {
        "colab": {
          "base_uri": "https://localhost:8080/"
        },
        "id": "dvGMW5wFIwU8",
        "outputId": "2ecdc13d-27e3-4af4-f7eb-795e44b2f6d1"
      },
      "source": [
        "# A mapping for characters to numbers and one for numbers to characters\n",
        "chartoidx = {c:i for i, c in enumerate(vocab)}\n",
        "def chartoidxfnc(string):\n",
        "  return chartoidx[string]\n",
        "\n",
        "idxtochar = np.array(vocab)\n",
        "\n",
        "for char, idx in zip(chartoidx, range(20)):\n",
        "  print(repr(char), chartoidxfnc(char))"
      ],
      "execution_count": 13,
      "outputs": [
        {
          "output_type": "stream",
          "name": "stdout",
          "text": [
            "'\\x01' 0\n",
            "'\\n' 1\n",
            "' ' 2\n",
            "'!' 3\n",
            "'\"' 4\n",
            "'#' 5\n",
            "'%' 6\n",
            "'&' 7\n",
            "\"'\" 8\n",
            "'(' 9\n",
            "')' 10\n",
            "'+' 11\n",
            "',' 12\n",
            "'-' 13\n",
            "'.' 14\n",
            "'/' 15\n",
            "'0' 16\n",
            "'1' 17\n",
            "'2' 18\n",
            "'3' 19\n"
          ]
        }
      ]
    },
    {
      "cell_type": "code",
      "metadata": {
        "colab": {
          "base_uri": "https://localhost:8080/"
        },
        "id": "9SSjy7HNLxz8",
        "outputId": "8f7bf513-9739-4e9e-925a-7982c20d22a2"
      },
      "source": [
        "def vectorize_string(string):\n",
        "  v_string = map(chartoidxfnc, list(string))\n",
        "  v_string = list(v_string)\n",
        "  return np.array(v_string)\n",
        "\n",
        "print(len(list(songs_all)))  # Gives total num of chars in dataset\n",
        "vectorized_songs = vectorize_string(songs_all)\n",
        "\n",
        "# Some quick checking\n",
        "\n",
        "print(repr(songs_all[:10]))\n",
        "print(idxtochar[vectorized_songs[:10]])\n",
        "print(vectorized_songs[:10])\n",
        "vectorized_songs.shape[0]"
      ],
      "execution_count": 14,
      "outputs": [
        {
          "output_type": "stream",
          "name": "stdout",
          "text": [
            "346405\n",
            "'X:001\\nT:Th'\n",
            "['X' ':' '0' '0' '1' '\\n' 'T' ':' 'T' 'h']\n",
            "[56 26 16 16 17  1 52 26 52 71]\n"
          ]
        },
        {
          "output_type": "execute_result",
          "data": {
            "text/plain": [
              "346405"
            ]
          },
          "metadata": {},
          "execution_count": 14
        }
      ]
    },
    {
      "cell_type": "markdown",
      "metadata": {
        "id": "KmB5NMXXOWts"
      },
      "source": [
        "# Creating Training Data"
      ]
    },
    {
      "cell_type": "code",
      "metadata": {
        "id": "ashU0smgNmHW"
      },
      "source": [
        "# Creating training examples\n",
        "\n",
        "def get_batch(vectorized_songs, seq_length, batch_size):\n",
        "\n",
        "  n = vectorized_songs.shape[0]\n",
        "\n",
        "  # Randomly choosing starting indices for the examples\n",
        "  idx = np.random.choice(n - seq_length, batch_size)\n",
        "  # Chooses (batch_size) number of integers in range(n-seq_length)\n",
        "  # As last sequence starting point must be maximum n-seq_length to avoid\n",
        "  # out of range\n",
        "\n",
        "  # Getting the input sequences\n",
        "  input_batch = [vectorized_songs[start : start+seq_length] for start in idx]\n",
        "  # Output sequences (shifting forward input sequences by 1)\n",
        "  output_batch = [vectorized_songs[start+1 : start+seq_length+1] for start in idx]\n",
        "\n",
        "  # Inputs and true targets (to train on and measure performance against)\n",
        "  x_batch = np.reshape(input_batch, [batch_size, seq_length])\n",
        "  # batch_size number of sequences of length seq_length\n",
        "  y_batch = np.reshape(output_batch, [batch_size, seq_length])\n",
        "  return x_batch, y_batch\n"
      ],
      "execution_count": 15,
      "outputs": []
    },
    {
      "cell_type": "code",
      "metadata": {
        "colab": {
          "base_uri": "https://localhost:8080/"
        },
        "id": "CUo_Z0bwYVpq",
        "outputId": "13dc9122-9c4b-4312-a6da-af6a4466eb15"
      },
      "source": [
        "x_batch, y_batch = get_batch(vectorized_songs, seq_length=5, batch_size=1)\n",
        "# Gives 1 batch of sequence length 5\n",
        "\n",
        "for i, (input_idx, target_idx) in enumerate(\n",
        "    zip(np.squeeze(x_batch), np.squeeze(y_batch))):\n",
        "  print(\"Timestep\", i)\n",
        "  print(\"Input: {} ({})\".format(input_idx, repr(idxtochar[input_idx])))\n",
        "  print(\"Expected output: {} ({})\".format(target_idx, repr(idxtochar[target_idx])))"
      ],
      "execution_count": 16,
      "outputs": [
        {
          "output_type": "stream",
          "name": "stdout",
          "text": [
            "Timestep 0\n",
            "Input: 15 ('/')\n",
            "Expected output: 33 ('A')\n",
            "Timestep 1\n",
            "Input: 33 ('A')\n",
            "Expected output: 15 ('/')\n",
            "Timestep 2\n",
            "Input: 15 ('/')\n",
            "Expected output: 91 ('|')\n",
            "Timestep 3\n",
            "Input: 91 ('|')\n",
            "Expected output: 67 ('d')\n",
            "Timestep 4\n",
            "Input: 67 ('d')\n",
            "Expected output: 30 ('>')\n"
          ]
        }
      ]
    },
    {
      "cell_type": "markdown",
      "metadata": {
        "id": "m38dZkF6mCHI"
      },
      "source": [
        "# Defining the model"
      ]
    },
    {
      "cell_type": "code",
      "metadata": {
        "id": "rnWAwVYObikZ"
      },
      "source": [
        "def LSTM(rnn_units):\n",
        "  return tf.keras.layers.LSTM(\n",
        "      rnn_units,\n",
        "      return_sequences=True,\n",
        "      recurrent_initializer='glorot_uniform',\n",
        "      recurrent_activation='sigmoid',\n",
        "      stateful=True\n",
        "  )\n",
        "\n",
        "def def_model(vocab_size, embedding_dims, rnn_units, batch_size):\n",
        "  model = tf.keras.Sequential([\n",
        "                               tf.keras.layers.Embedding(vocab_size,\n",
        "                                                         embedding_dims,\n",
        "                                                         batch_input_shape=[batch_size, None]\n",
        "                                                         ),\n",
        "                               \n",
        "                               LSTM(rnn_units),\n",
        "\n",
        "                               # A fully connected layer\n",
        "\n",
        "                               tf.keras.layers.Dense(vocab_size)\n",
        "  ])\n",
        "\n",
        "  return model\n",
        "\n"
      ],
      "execution_count": 17,
      "outputs": []
    },
    {
      "cell_type": "code",
      "metadata": {
        "id": "z96UENSik16R",
        "colab": {
          "base_uri": "https://localhost:8080/"
        },
        "outputId": "581bcd36-9246-43ef-a7a4-5c98263c68ba"
      },
      "source": [
        "model = def_model(len(vocab), embedding_dims=256, rnn_units=1024, batch_size=32)\n",
        "model.summary()"
      ],
      "execution_count": 18,
      "outputs": [
        {
          "output_type": "stream",
          "name": "stdout",
          "text": [
            "Model: \"sequential\"\n",
            "_________________________________________________________________\n",
            "Layer (type)                 Output Shape              Param #   \n",
            "=================================================================\n",
            "embedding (Embedding)        (32, None, 256)           27136     \n",
            "_________________________________________________________________\n",
            "lstm (LSTM)                  (32, None, 1024)          5246976   \n",
            "_________________________________________________________________\n",
            "dense (Dense)                (32, None, 106)           108650    \n",
            "=================================================================\n",
            "Total params: 5,382,762\n",
            "Trainable params: 5,382,762\n",
            "Non-trainable params: 0\n",
            "_________________________________________________________________\n"
          ]
        }
      ]
    },
    {
      "cell_type": "code",
      "metadata": {
        "colab": {
          "base_uri": "https://localhost:8080/"
        },
        "id": "kIs8iZJJn4Ye",
        "outputId": "8c43db2c-6e0f-4bce-dbd2-ca1222379f27"
      },
      "source": [
        "# Checking out the form of input and output\n",
        "\n",
        "x, y = get_batch(vectorized_songs, seq_length=100, batch_size=32)\n",
        "# Returns 32 sequences of sequence length 100 characters to x\n",
        "pred = model(x)\n",
        "print(\"Input shape: \", x.shape,\n",
        "      \"\\nPrediction/Output shape: \", pred.shape, \" # (Batch size, seq_length, vocab size)\")"
      ],
      "execution_count": 19,
      "outputs": [
        {
          "output_type": "stream",
          "name": "stdout",
          "text": [
            "Input shape:  (32, 100) \n",
            "Prediction/Output shape:  (32, 100, 106)  # (Batch size, seq_length, vocab size)\n"
          ]
        }
      ]
    },
    {
      "cell_type": "markdown",
      "metadata": {
        "id": "zjF3ZLhNrock"
      },
      "source": [
        "<h1>Predictions from untrained model</h1>"
      ]
    },
    {
      "cell_type": "code",
      "metadata": {
        "colab": {
          "base_uri": "https://localhost:8080/"
        },
        "id": "JZ6Dpd-Trtkl",
        "outputId": "7969f3c0-8664-4c35-c08e-3a509a215b7d"
      },
      "source": [
        "sample_indices = tf.random.categorical(pred[0], num_samples=1)\n",
        "sample_indices = tf.squeeze(sample_indices, axis=-1).numpy()\n",
        "print(sample_indices)\n",
        "print(repr(''.join(idxtochar[x[0]])))  # Inputs\n",
        "print(repr(''.join(idxtochar[sample_indices])))"
      ],
      "execution_count": 20,
      "outputs": [
        {
          "output_type": "stream",
          "name": "stdout",
          "text": [
            "[ 64   4  51 103  45  71  44  37  47  37  30  68   7  92   1  40  73  56\n",
            "  99  87   4  91  84  26  19   0   1  78  44  68  85  35  71   5  50  36\n",
            " 101  70  86   9  59  91  96  35  41  80  37  38  75  15  45  98  45  50\n",
            "   6   5  17  15  72  43  86  38  83  92 104  85  54   9  46  77  98 104\n",
            "  14  71  26  38  36  19  58  30  42  84  36  51  57   3  63  61  68  63\n",
            "   7  68  50  41  81  67  87  39  36  41]\n",
            "'cB |\\n      AcBA F2 AF | EFAB cABc | d3 f ecAc |   BAGB     A3    ||\\n\\nX:690\\nT:Return from Fingal\\nS:Cr'\n",
            "'a\"SíMhLEOE>e&}\\nHjXÙx\"|u:3\\x01\\noLevCh#RDågw([|ÒCIqEFl/MÕMR%#1/iKwFt}òvV(NnÕò.h:FD3Z>JuDSY!_]e_&eRIrdxGDI'\n"
          ]
        }
      ]
    },
    {
      "cell_type": "markdown",
      "metadata": {
        "id": "CAHT4Q39tUS2"
      },
      "source": [
        "# Training the model"
      ]
    },
    {
      "cell_type": "code",
      "metadata": {
        "id": "JosFP1TltWTY"
      },
      "source": [
        "def loss_fn(labels, logits):\n",
        "  loss = tf.keras.losses.sparse_categorical_crossentropy(\n",
        "      labels,\n",
        "      logits,\n",
        "      from_logits=True\n",
        "  )\n",
        "\n",
        "  return loss"
      ],
      "execution_count": 21,
      "outputs": []
    },
    {
      "cell_type": "code",
      "metadata": {
        "id": "PSM3iT_jmS47",
        "colab": {
          "base_uri": "https://localhost:8080/"
        },
        "outputId": "30eae663-05d4-4ea5-e658-b192be5161eb"
      },
      "source": [
        "example_batch_loss = loss_fn(y, pred)\n",
        "\n",
        "print(\"Scalar loss: \", example_batch_loss.numpy().mean())"
      ],
      "execution_count": 22,
      "outputs": [
        {
          "output_type": "stream",
          "name": "stdout",
          "text": [
            "Scalar loss:  4.6639113\n"
          ]
        }
      ]
    },
    {
      "cell_type": "code",
      "metadata": {
        "id": "2lZJ9QbYOhpb"
      },
      "source": [
        "# Hyperparameters\n",
        "\n",
        "num_iterations = 6000\n",
        "batch_size = 4\n",
        "seq_length = 99\n",
        "learning_rate = 3e-3\n",
        "\n",
        "vocab_size = len(vocab)\n",
        "embedding_dims = 256\n",
        "rnn_units = 1024\n",
        "\n",
        "checkpoint_dir = '/content/drive/MyDrive/MIT_6S191/training_checkpoints'\n",
        "checkpoint_prefix = os.path.join(checkpoint_dir, 'nigeldatamusic_ckpt')"
      ],
      "execution_count": 23,
      "outputs": []
    },
    {
      "cell_type": "code",
      "metadata": {
        "colab": {
          "base_uri": "https://localhost:8080/",
          "height": 596
        },
        "id": "KKeMynG8PMNl",
        "outputId": "a05a5d9f-71e3-463f-e742-87c498baf2b1"
      },
      "source": [
        "\n",
        "model = def_model(vocab_size, embedding_dims, rnn_units, batch_size)\n",
        "optimizer = tf.keras.optimizers.Adam(learning_rate=learning_rate)\n",
        "\n",
        "@tf.function  # Converts function to callable tensorflow graph\n",
        "def train_step(x, y):\n",
        "  # Using tf.GradientTape() to later perform backpropagation easily\n",
        "  with tf.GradientTape() as tape:\n",
        "    y_sharp = model(x)  # Predictions\n",
        "    loss = loss_fn(y, y_sharp)  # Loss btw true and predicted values\n",
        "  \n",
        "  gradients = tape.gradient(loss, model.trainable_variables)\n",
        "  # This is to ensure that the backpropagation performed gets gradients\n",
        "  # w.r.t all model parameters\n",
        "\n",
        "  # Applying the gradients to update the parameters of the model\n",
        "  optimizer.apply_gradients(zip(gradients, model.trainable_variables))\n",
        "  return loss\n",
        "\n",
        "# Training the model\n",
        "\n",
        "history = []  # To plot the graph\n",
        "plotter = mdl.util.PeriodicPlotter(sec=5, xlabel='Iterations', ylabel='Loss')\n",
        "if hasattr(tqdm, '_instances'):\n",
        "  tqdm._instances.clear()\n",
        "\n",
        "# tqdm is used to give a useful progress bar and status of the operation\n",
        "\n",
        "for iter in tqdm(range(num_iterations)):\n",
        "\n",
        "  x_batch, y_batch = get_batch(vectorized_songs, seq_length, batch_size)\n",
        "  loss = train_step(x_batch, y_batch)\n",
        "\n",
        "  history.append(loss.numpy().mean())\n",
        "  plotter.plot(history)\n",
        "\n",
        "  if iter % 100 == 0:\n",
        "    model.save_weights(checkpoint_prefix)\n",
        "  # Checkpoint updated every hundred iterations\n",
        "  # The weights of the model itself are updated every time loss_fn is called\n",
        "\n",
        "model.save_weights(checkpoint_prefix)  # Saving final trained weights\n",
        "model.save(os.path.join(checkpoint_dir, 'MusicNigelModel1.h5'))"
      ],
      "execution_count": 24,
      "outputs": [
        {
          "output_type": "display_data",
          "data": {
            "image/png": "[encoded data removed]",
            "text/plain": [
              "<Figure size 432x288 with 1 Axes>"
            ]
          },
          "metadata": {}
        },
        {
          "output_type": "stream",
          "name": "stderr",
          "text": [
            "\r100%|██████████| 6000/6000 [09:37<00:00, 10.40it/s]"
          ]
        },
        {
          "output_type": "stream",
          "name": "stdout",
          "text": [
            "WARNING:tensorflow:Compiled the loaded model, but the compiled metrics have yet to be built. `model.compile_metrics` will be empty until you train or evaluate the model.\n"
          ]
        },
        {
          "output_type": "stream",
          "name": "stderr",
          "text": [
            "\n"
          ]
        },
        {
          "output_type": "display_data",
          "data": {
            "image/png": "[encoded data removed]",
            "text/plain": [
              "<Figure size 432x288 with 1 Axes>"
            ]
          },
          "metadata": {
            "needs_background": "light"
          }
        }
      ]
    },
    {
      "cell_type": "code",
      "metadata": {
        "colab": {
          "base_uri": "https://localhost:8080/"
        },
        "id": "T7-19Jn9EhCW",
        "outputId": "540f367e-254f-44e3-e877-e0684c2e53f7"
      },
      "source": [
        "print(loss)"
      ],
      "execution_count": 25,
      "outputs": [
        {
          "output_type": "stream",
          "name": "stdout",
          "text": [
            "tf.Tensor(\n",
            "[[2.67594171e+00 8.31339300e-01 1.32218793e-01 5.36433840e+00\n",
            "  1.28119624e+00 6.82382536e+00 1.18203783e+00 3.16822469e-01\n",
            "  3.95717770e-01 1.64924967e+00 1.25273347e+00 3.03859043e+00\n",
            "  1.32520567e-03 3.30942929e-01 1.40322018e+00 1.67930210e+00\n",
            "  5.51784784e-03 3.42773408e-01 4.87155795e-01 5.51887155e-01\n",
            "  1.48300982e+00 1.35347378e+00 6.11766614e-03 2.32922125e+00\n",
            "  4.23173571e+00 7.30648488e-02 2.00672876e-02 4.78865981e-01\n",
            "  1.07456875e+00 3.17117524e+00 3.26152086e+00 7.93713570e-01\n",
            "  2.24737674e-02 2.05464005e+00 1.01548553e+00 1.62637848e-02\n",
            "  7.49040067e-01 3.46322991e-02 1.53728271e+00 7.14802921e-01\n",
            "  8.84239137e-01 3.73784616e-03 2.68200874e+00 8.62868667e-01\n",
            "  1.49970114e+00 2.44128495e-03 1.02043502e-01 2.84303948e-02\n",
            "  1.10925436e+00 8.59799147e-01 8.03826690e-01 9.96569754e-04\n",
            "  6.78008437e-01 7.81692505e-01 1.10433459e+00 9.36082844e-03\n",
            "  2.67584413e-01 2.14172363e-01 1.83035210e-01 2.09929198e-01\n",
            "  5.77886403e-02 2.44902357e-01 6.20409608e-01 2.02648103e-01\n",
            "  1.10688639e+00 6.04384905e-03 1.07272407e-02 2.46171594e+00\n",
            "  4.12079424e-01 5.15011191e-01 2.13731844e-02 1.42048693e+00\n",
            "  1.34763849e+00 1.08927436e-01 1.71952891e+00 1.43655407e+00\n",
            "  4.86142755e-01 1.81898907e-01 1.64340716e-02 3.81216466e-01\n",
            "  1.69909298e-02 2.80382205e-02 1.50626636e+00 7.91482568e-01\n",
            "  2.29016259e-01 4.30305153e-02 6.86917126e-01 1.08650899e+00\n",
            "  8.75316501e-01 5.08456025e-03 1.99214801e-01 3.20537314e-02\n",
            "  3.76899266e+00 9.75529402e-02 5.20998776e-01 1.11269069e+00\n",
            "  1.31572150e-02 2.55406588e-01 8.65668595e-01]\n",
            " [6.46417332e+00 1.22741544e+00 6.29787064e+00 2.49156857e+00\n",
            "  2.14704752e-01 1.53542191e-01 1.83019131e-01 2.27299905e+00\n",
            "  2.47882411e-01 3.10627198e+00 5.81379116e-01 1.80682465e-02\n",
            "  1.12058334e-02 1.05413543e-02 3.67083001e+00 1.83400130e+00\n",
            "  1.87959576e+00 1.97033048e-01 2.31355825e-03 6.55762434e-01\n",
            "  1.24449944e+00 2.27966458e-01 1.92106649e-01 3.52207795e-02\n",
            "  6.69912668e-03 1.18798089e+00 2.00035633e-03 1.98759699e+00\n",
            "  6.02577448e-01 5.96128523e-01 1.75151139e-01 1.97572913e-03\n",
            "  8.69824648e-01 1.27857757e+00 2.99887985e-01 4.36585873e-01\n",
            "  4.34276834e-03 1.07993059e-01 6.05072174e-03 5.91845334e-01\n",
            "  1.01592028e+00 7.05087483e-02 4.05258924e-01 3.30224168e-03\n",
            "  7.86568880e-01 3.14759582e-01 2.52259159e+00 1.15214264e+00\n",
            "  8.76037180e-01 1.87447702e-03 2.31129691e-01 5.74437194e-02\n",
            "  1.85355365e+00 2.28694010e+00 2.23398432e-01 3.61254036e-01\n",
            "  1.75536494e-03 2.29616985e-01 7.66704679e-01 7.05298558e-02\n",
            "  8.56464207e-01 9.18669522e-01 1.34215420e-02 1.79535913e+00\n",
            "  1.31896865e-02 1.43347308e-01 1.84294523e-03 1.80004408e-05\n",
            "  2.01720452e+00 1.91623497e+00 1.64066124e+00 1.39330071e-03\n",
            "  4.61572455e-03 2.06449171e-04 6.30900478e+00 1.90707719e+00\n",
            "  1.53662086e+00 1.67114764e-01 1.73684454e+00 2.12701429e-02\n",
            "  8.13125726e-03 2.91727924e+00 2.15471745e-01 1.52519658e-01\n",
            "  2.54220013e-02 9.70157161e-02 3.40952701e-03 4.01626751e-02\n",
            "  1.85517650e-02 1.27050161e-01 8.52955580e-01 1.78809091e-02\n",
            "  2.19723172e-02 2.60262537e+00 1.01065040e+00 1.46366131e+00\n",
            "  1.00071229e-01 2.18518615e-01 3.06925249e+00]\n",
            " [5.79491997e+00 4.57905340e+00 3.42155719e+00 3.34599471e+00\n",
            "  1.42206569e-04 1.22040343e+00 1.13631925e-02 2.92611751e-03\n",
            "  2.90769599e-02 3.16574764e+00 8.60172570e-01 3.12791795e-01\n",
            "  4.88064945e-01 9.94837403e-01 1.54373981e-02 2.80608940e+00\n",
            "  1.34580207e+00 1.82343076e-03 9.15250599e-01 8.76149861e-05\n",
            "  3.71278659e-03 3.32503319e-02 8.99701953e-01 3.80125761e-01\n",
            "  8.02157074e-02 1.81159332e-01 8.47721472e-02 1.57801077e-01\n",
            "  4.20877859e-02 4.81226355e-01 2.18366459e-01 1.43998349e+00\n",
            "  9.78383064e-01 1.12521756e+00 1.79658592e-01 1.23976897e-05\n",
            "  1.56274819e+00 4.62607592e-01 2.31999683e+00 2.07045101e-04\n",
            "  4.21279157e-03 4.02607926e-04 3.26123428e+00 7.42427647e-01\n",
            "  1.79208387e-02 6.80770539e-03 1.84833205e+00 1.58605948e-01\n",
            "  7.51816258e-02 5.40220451e+00 3.12686004e-02 1.59341955e+00\n",
            "  6.92527145e-02 2.73062778e+00 8.07113838e+00 2.69728387e-03\n",
            "  1.22995806e+00 3.96247618e-02 7.99302105e-03 2.34271232e-02\n",
            "  1.34893847e+00 5.42612630e-04 2.29867506e+00 2.87792325e-01\n",
            "  1.13335919e+00 2.15480387e-01 4.00829688e-02 3.30196843e-02\n",
            "  4.79978025e-02 1.16931526e-02 4.11247788e-03 4.91480231e-02\n",
            "  2.28929543e-03 7.52674818e+00 1.55196917e+00 2.34040642e+00\n",
            "  2.59303617e+00 2.07946730e+00 4.44786644e+00 4.50593519e+00\n",
            "  2.84002399e+00 8.17415193e-02 3.13320309e-02 5.85950501e-02\n",
            "  6.88644791e+00 8.94547045e-01 5.24833202e-02 7.32114077e-01\n",
            "  6.05599955e-02 4.20017719e-01 3.82229304e+00 2.26487827e+00\n",
            "  4.09060031e-01 1.92496896e+00 2.80730581e+00 6.37450255e-03\n",
            "  1.52735179e-02 7.01812458e+00 2.16722941e+00]\n",
            " [2.29311943e+00 2.61116529e+00 2.61895585e+00 9.89815127e-03\n",
            "  5.58265305e+00 1.86558199e+00 2.70865870e+00 1.78041086e-01\n",
            "  8.92544568e-01 1.04617281e-02 1.13979980e-01 3.28999572e-02\n",
            "  1.94695853e-02 2.55978322e+00 5.68363309e-01 6.48753285e-01\n",
            "  1.00989090e-02 2.78226733e-01 4.67731096e-02 8.77988935e-01\n",
            "  2.97960360e-03 1.08346753e-02 3.63264680e-02 5.14553748e-02\n",
            "  1.54193357e-01 6.40444219e-01 1.37965310e+00 1.11570293e-02\n",
            "  5.31437099e-01 4.30687249e-01 7.40125999e-02 2.53891223e-03\n",
            "  4.49827127e-02 1.55560240e-01 6.57035410e-02 9.10723861e-03\n",
            "  6.63553644e-03 2.30280787e-01 2.34986916e-01 7.54206836e-01\n",
            "  1.07733977e+00 3.04971129e-01 8.57816339e-02 1.51227283e+00\n",
            "  3.12602162e-01 3.38716954e-01 2.31581787e-03 9.61335972e-02\n",
            "  1.00863241e-01 6.93453491e-01 6.79515488e-03 1.93046108e-02\n",
            "  1.32914260e-01 7.10126638e-01 1.04868901e+00 1.03149211e+00\n",
            "  1.19247228e-01 2.38424793e-01 2.87902737e+00 5.58179021e-01\n",
            "  1.07546175e+00 5.96871495e-01 7.48895481e-02 5.64812962e-03\n",
            "  1.10161316e+00 1.89009279e-01 1.67127144e+00 1.58249214e-02\n",
            "  1.09191322e+00 1.91542264e-02 1.64387435e-01 2.36569680e-02\n",
            "  1.39330579e-02 2.50621533e+00 2.74295568e-01 8.48378599e-01\n",
            "  5.65168541e-03 3.69870365e-01 2.19437443e-02 7.02831209e-01\n",
            "  1.49281602e-03 1.69869456e-02 2.09681932e-02 2.48837564e-03\n",
            "  2.49239728e-01 4.11014766e-01 1.48915625e+00 1.35732600e-02\n",
            "  6.57131374e-01 4.47031528e-01 8.91071856e-02 2.26634042e-03\n",
            "  5.20008840e-02 7.91215077e-02 5.14728129e-02 6.58710115e-03\n",
            "  8.70138500e-03 1.19019821e-01 2.43302435e-02]], shape=(4, 99), dtype=float32)\n"
          ]
        }
      ]
    },
    {
      "cell_type": "markdown",
      "metadata": {
        "id": "vwZ5bhna9UGF"
      },
      "source": [
        "<h1>Using the model to generate music</h1>"
      ]
    },
    {
      "cell_type": "code",
      "metadata": {
        "colab": {
          "base_uri": "https://localhost:8080/"
        },
        "id": "F8oQNdn9KcXB",
        "outputId": "848db687-2e66-49c5-82b5-82f063f1388a"
      },
      "source": [
        "%%bash\n",
        "mkdir songs\n",
        "mkdir fullsongs\n",
        "apt update\n",
        "apt install ffmpeg"
      ],
      "execution_count": 53,
      "outputs": [
        {
          "output_type": "stream",
          "name": "stdout",
          "text": [
            "Hit:1 http://security.ubuntu.com/ubuntu bionic-security InRelease\n",
            "Hit:2 https://cloud.r-project.org/bin/linux/ubuntu bionic-cran40/ InRelease\n",
            "Ign:3 https://developer.download.nvidia.com/compute/cuda/repos/ubuntu1804/x86_64  InRelease\n",
            "Ign:4 https://developer.download.nvidia.com/compute/machine-learning/repos/ubuntu1804/x86_64  InRelease\n",
            "Hit:5 http://ppa.launchpad.net/c2d4u.team/c2d4u4.0+/ubuntu bionic InRelease\n",
            "Hit:6 https://developer.download.nvidia.com/compute/cuda/repos/ubuntu1804/x86_64  Release\n",
            "Hit:7 https://developer.download.nvidia.com/compute/machine-learning/repos/ubuntu1804/x86_64  Release\n",
            "Hit:8 http://archive.ubuntu.com/ubuntu bionic InRelease\n",
            "Hit:9 http://archive.ubuntu.com/ubuntu bionic-updates InRelease\n",
            "Hit:10 http://ppa.launchpad.net/cran/libgit2/ubuntu bionic InRelease\n",
            "Hit:11 http://archive.ubuntu.com/ubuntu bionic-backports InRelease\n",
            "Hit:12 http://ppa.launchpad.net/deadsnakes/ppa/ubuntu bionic InRelease\n",
            "Hit:14 http://ppa.launchpad.net/graphics-drivers/ppa/ubuntu bionic InRelease\n",
            "Reading package lists...\n",
            "Building dependency tree...\n",
            "Reading state information...\n",
            "80 packages can be upgraded. Run 'apt list --upgradable' to see them.\n",
            "Reading package lists...\n",
            "Building dependency tree...\n",
            "Reading state information...\n",
            "ffmpeg is already the newest version (7:3.4.8-0ubuntu0.2).\n",
            "0 upgraded, 0 newly installed, 0 to remove and 80 not upgraded.\n"
          ]
        },
        {
          "output_type": "stream",
          "name": "stderr",
          "text": [
            "mkdir: cannot create directory ‘fullsongs’: File exists\n",
            "\n",
            "WARNING: apt does not have a stable CLI interface. Use with caution in scripts.\n",
            "\n",
            "\n",
            "WARNING: apt does not have a stable CLI interface. Use with caution in scripts.\n",
            "\n"
          ]
        }
      ]
    },
    {
      "cell_type": "code",
      "metadata": {
        "colab": {
          "base_uri": "https://localhost:8080/"
        },
        "id": "vhMbtFoX9TIJ",
        "outputId": "405803a1-f3e3-46e7-e35a-62b243a75b6b"
      },
      "source": [
        "model = def_model(vocab_size, embedding_dims, rnn_units, batch_size=1)\n",
        "model.load_weights(tf.train.latest_checkpoint(checkpoint_dir))\n",
        "model.build(tf.TensorShape([1, None]))\n",
        "\n",
        "\n",
        "'''\n",
        "model = tf.keras.models.load_model(os.path.join(checkpoint_dir, 'MusicNigelModel1.h5'))\n",
        "model = def_model(vocab_size, embedding_dims, rnn_units, batch_size=1)\n",
        "model.build(tf.TensorShape([1, None]))\n",
        "'''\n",
        "\n",
        "model.summary()"
      ],
      "execution_count": 26,
      "outputs": [
        {
          "output_type": "stream",
          "name": "stdout",
          "text": [
            "Model: \"sequential_2\"\n",
            "_________________________________________________________________\n",
            "Layer (type)                 Output Shape              Param #   \n",
            "=================================================================\n",
            "embedding_2 (Embedding)      (1, None, 256)            27136     \n",
            "_________________________________________________________________\n",
            "lstm_2 (LSTM)                (1, None, 1024)           5246976   \n",
            "_________________________________________________________________\n",
            "dense_2 (Dense)              (1, None, 106)            108650    \n",
            "=================================================================\n",
            "Total params: 5,382,762\n",
            "Trainable params: 5,382,762\n",
            "Non-trainable params: 0\n",
            "_________________________________________________________________\n"
          ]
        }
      ]
    },
    {
      "cell_type": "code",
      "metadata": {
        "id": "cAi2PJskKa2F"
      },
      "source": [
        "\n",
        "def gen_song(model, start_string, gen_length=1000):\n",
        "\n",
        "  input_eval = [chartoidx[s] for s in start_string]\n",
        "  input_eval = tf.expand_dims(input_eval, 0)\n",
        "\n",
        "  song_gen = []\n",
        "\n",
        "  model.reset_states()\n",
        "  tqdm._instances.clear()\n",
        "\n",
        "  for i in tqdm(range(gen_length)):\n",
        "    predictions = model(input_eval)\n",
        "    predictions = tf.squeeze(predictions, 0)\n",
        "    predicted_id = tf.random.categorical(predictions, num_samples=1)[-1, 0].numpy()\n",
        "    \n",
        "    input_eval = tf.expand_dims([predicted_id], 0)\n",
        "    song_gen.append(idxtochar[predicted_id])\n",
        "\n",
        "  return (start_string+''.join(song_gen))"
      ],
      "execution_count": 27,
      "outputs": []
    },
    {
      "cell_type": "code",
      "metadata": {
        "id": "vKU0SzIAUpMC"
      },
      "source": [
        "tot = 0"
      ],
      "execution_count": 54,
      "outputs": []
    },
    {
      "cell_type": "code",
      "metadata": {
        "colab": {
          "base_uri": "https://localhost:8080/"
        },
        "id": "D-6wmZL3pclR",
        "outputId": "a4e6020d-b3f3-49c5-9644-080cb6ef33dc"
      },
      "source": [
        "# Assign to rangeval the number of times you wan to loop this\n",
        "rangeval = 10\n",
        "for iters in range(rangeval):\n",
        "  song_generated = gen_song(model, start_string=\"X\", gen_length=2000)\n",
        "  song_generated = gen_song(model, start_string=\"X\", gen_length=2000)\n",
        "  all_songs_play = mdl.lab1.extract_song_snippet(song_generated)\n",
        "\n",
        "  for i, song in enumerate(all_songs_play):\n",
        "    waveform = mdl.lab1.play_song(song)\n",
        "\n",
        "    if waveform:\n",
        "      with open('./songs/gensong%02d.wav' %(tot), 'wb') as f:\n",
        "        f.write(waveform.data)\n",
        "      with open('./songs/songnames.txt', 'a') as f:\n",
        "        f.write(\"file 'gensong%02d.wav'\\n\" %(tot))\n",
        "      print(\"Generated song\", tot)\n",
        "      tot += 1\n",
        "      # ipythondisplay.display(waveform)"
      ],
      "execution_count": 55,
      "outputs": [
        {
          "output_type": "stream",
          "name": "stderr",
          "text": [
            "100%|██████████| 2000/2000 [00:16<00:00, 120.59it/s]\n",
            "100%|██████████| 2000/2000 [00:16<00:00, 120.09it/s]\n"
          ]
        },
        {
          "output_type": "stream",
          "name": "stdout",
          "text": [
            "Found 4 songs in text\n",
            "Generated song 0\n",
            "Generated song 1\n"
          ]
        },
        {
          "output_type": "stream",
          "name": "stderr",
          "text": [
            "100%|██████████| 2000/2000 [00:16<00:00, 121.49it/s]\n",
            "100%|██████████| 2000/2000 [00:16<00:00, 120.87it/s]\n"
          ]
        },
        {
          "output_type": "stream",
          "name": "stdout",
          "text": [
            "Found 6 songs in text\n",
            "Generated song 2\n",
            "Generated song 3\n",
            "Generated song 4\n",
            "Generated song 5\n"
          ]
        },
        {
          "output_type": "stream",
          "name": "stderr",
          "text": [
            "100%|██████████| 2000/2000 [00:16<00:00, 120.50it/s]\n",
            "100%|██████████| 2000/2000 [00:16<00:00, 121.78it/s]\n"
          ]
        },
        {
          "output_type": "stream",
          "name": "stdout",
          "text": [
            "Found 6 songs in text\n",
            "Generated song 6\n",
            "Generated song 7\n",
            "Generated song 8\n"
          ]
        },
        {
          "output_type": "stream",
          "name": "stderr",
          "text": [
            "100%|██████████| 2000/2000 [00:16<00:00, 119.69it/s]\n",
            "100%|██████████| 2000/2000 [00:16<00:00, 119.22it/s]\n"
          ]
        },
        {
          "output_type": "stream",
          "name": "stdout",
          "text": [
            "Found 5 songs in text\n",
            "Generated song 9\n",
            "Generated song 10\n",
            "Generated song 11\n",
            "Generated song 12\n",
            "Generated song 13\n"
          ]
        },
        {
          "output_type": "stream",
          "name": "stderr",
          "text": [
            "100%|██████████| 2000/2000 [00:16<00:00, 121.24it/s]\n",
            "100%|██████████| 2000/2000 [00:16<00:00, 122.31it/s]\n"
          ]
        },
        {
          "output_type": "stream",
          "name": "stdout",
          "text": [
            "Found 2 songs in text\n",
            "Generated song 14\n",
            "Generated song 15\n"
          ]
        },
        {
          "output_type": "stream",
          "name": "stderr",
          "text": [
            "100%|██████████| 2000/2000 [00:16<00:00, 121.34it/s]\n",
            "100%|██████████| 2000/2000 [00:16<00:00, 121.13it/s]\n"
          ]
        },
        {
          "output_type": "stream",
          "name": "stdout",
          "text": [
            "Found 7 songs in text\n",
            "Generated song 16\n",
            "Generated song 17\n",
            "Generated song 18\n",
            "Generated song 19\n",
            "Generated song 20\n"
          ]
        },
        {
          "output_type": "stream",
          "name": "stderr",
          "text": [
            "100%|██████████| 2000/2000 [00:16<00:00, 121.91it/s]\n",
            "100%|██████████| 2000/2000 [00:16<00:00, 120.06it/s]\n"
          ]
        },
        {
          "output_type": "stream",
          "name": "stdout",
          "text": [
            "Found 7 songs in text\n",
            "Generated song 21\n",
            "Generated song 22\n",
            "Generated song 23\n",
            "Generated song 24\n"
          ]
        },
        {
          "output_type": "stream",
          "name": "stderr",
          "text": [
            "100%|██████████| 2000/2000 [00:16<00:00, 121.74it/s]\n",
            "100%|██████████| 2000/2000 [00:16<00:00, 121.03it/s]\n"
          ]
        },
        {
          "output_type": "stream",
          "name": "stdout",
          "text": [
            "Found 5 songs in text\n",
            "Generated song 25\n",
            "Generated song 26\n",
            "Generated song 27\n",
            "Generated song 28\n"
          ]
        },
        {
          "output_type": "stream",
          "name": "stderr",
          "text": [
            "100%|██████████| 2000/2000 [00:16<00:00, 120.02it/s]\n",
            "100%|██████████| 2000/2000 [00:16<00:00, 120.44it/s]\n"
          ]
        },
        {
          "output_type": "stream",
          "name": "stdout",
          "text": [
            "Found 5 songs in text\n",
            "Generated song 29\n",
            "Generated song 30\n",
            "Generated song 31\n",
            "Generated song 32\n"
          ]
        },
        {
          "output_type": "stream",
          "name": "stderr",
          "text": [
            "100%|██████████| 2000/2000 [00:16<00:00, 120.28it/s]\n",
            "100%|██████████| 2000/2000 [00:16<00:00, 120.93it/s]\n"
          ]
        },
        {
          "output_type": "stream",
          "name": "stdout",
          "text": [
            "Found 6 songs in text\n",
            "Generated song 33\n",
            "Generated song 34\n",
            "Generated song 35\n",
            "Generated song 36\n",
            "Generated song 37\n",
            "Generated song 38\n"
          ]
        }
      ]
    },
    {
      "cell_type": "code",
      "metadata": {
        "colab": {
          "base_uri": "https://localhost:8080/"
        },
        "id": "WN_mG4sCQR9O",
        "outputId": "6f5fb632-9ae2-4f59-f996-5804f3a3f136"
      },
      "source": [
        "!ffmpeg -f concat -i ./songs/songnames.txt -c copy ./fullsongs/fullsong.wav"
      ],
      "execution_count": 56,
      "outputs": [
        {
          "output_type": "stream",
          "name": "stdout",
          "text": [
            "ffmpeg version 3.4.8-0ubuntu0.2 Copyright (c) 2000-2020 the FFmpeg developers\n",
            "  built with gcc 7 (Ubuntu 7.5.0-3ubuntu1~18.04)\n",
            "  configuration: --prefix=/usr --extra-version=0ubuntu0.2 --toolchain=hardened --libdir=/usr/lib/x86_64-linux-gnu --incdir=/usr/include/x86_64-linux-gnu --enable-gpl --disable-stripping --enable-avresample --enable-avisynth --enable-gnutls --enable-ladspa --enable-libass --enable-libbluray --enable-libbs2b --enable-libcaca --enable-libcdio --enable-libflite --enable-libfontconfig --enable-libfreetype --enable-libfribidi --enable-libgme --enable-libgsm --enable-libmp3lame --enable-libmysofa --enable-libopenjpeg --enable-libopenmpt --enable-libopus --enable-libpulse --enable-librubberband --enable-librsvg --enable-libshine --enable-libsnappy --enable-libsoxr --enable-libspeex --enable-libssh --enable-libtheora --enable-libtwolame --enable-libvorbis --enable-libvpx --enable-libwavpack --enable-libwebp --enable-libx265 --enable-libxml2 --enable-libxvid --enable-libzmq --enable-libzvbi --enable-omx --enable-openal --enable-opengl --enable-sdl2 --enable-libdc1394 --enable-libdrm --enable-libiec61883 --enable-chromaprint --enable-frei0r --enable-libopencv --enable-libx264 --enable-shared\n",
            "  libavutil      55. 78.100 / 55. 78.100\n",
            "  libavcodec     57.107.100 / 57.107.100\n",
            "  libavformat    57. 83.100 / 57. 83.100\n",
            "  libavdevice    57. 10.100 / 57. 10.100\n",
            "  libavfilter     6.107.100 /  6.107.100\n",
            "  libavresample   3.  7.  0 /  3.  7.  0\n",
            "  libswscale      4.  8.100 /  4.  8.100\n",
            "  libswresample   2.  9.100 /  2.  9.100\n",
            "  libpostproc    54.  7.100 / 54.  7.100\n",
            "\u001b[0;33mGuessed Channel Layout for Input Stream #0.0 : stereo\n",
            "\u001b[0mInput #0, concat, from './songs/songnames.txt':\n",
            "  Duration: N/A, start: 0.000000, bitrate: 1411 kb/s\n",
            "    Stream #0:0: Audio: pcm_s16le ([1][0][0][0] / 0x0001), 44100 Hz, stereo, s16, 1411 kb/s\n",
            "File './fullsongs/fullsong.wav' already exists. Overwrite ? [y/N] y\n",
            "Output #0, wav, to './fullsongs/fullsong.wav':\n",
            "  Metadata:\n",
            "    ISFT            : Lavf57.83.100\n",
            "    Stream #0:0: Audio: pcm_s16le ([1][0][0][0] / 0x0001), 44100 Hz, stereo, s16, 1411 kb/s\n",
            "Stream mapping:\n",
            "  Stream #0:0 -> #0:0 (copy)\n",
            "Press [q] to stop, [?] for help\n",
            "size=  519518kB time=00:50:15.78 bitrate=1411.2kbits/s speed=1.4e+03x    \n",
            "video:0kB audio:519518kB subtitle:0kB other streams:0kB global headers:0kB muxing overhead: 0.000015%\n"
          ]
        }
      ]
    },
    {
      "cell_type": "code",
      "metadata": {
        "colab": {
          "base_uri": "https://localhost:8080/"
        },
        "id": "DAIEBiwSStXu",
        "outputId": "b94bb5ff-9bec-4d44-b205-963e48a2684d"
      },
      "source": [
        "%%bash\n",
        "rm -rf songs \n",
        "ffmpeg -i ./fullsongs/fullsong.wav -vn -ar 44100 -ac 2 -b:a 192k ./fullsongs/fullsong.mp3"
      ],
      "execution_count": 57,
      "outputs": [
        {
          "output_type": "stream",
          "name": "stderr",
          "text": [
            "ffmpeg version 3.4.8-0ubuntu0.2 Copyright (c) 2000-2020 the FFmpeg developers\n",
            "  built with gcc 7 (Ubuntu 7.5.0-3ubuntu1~18.04)\n",
            "  configuration: --prefix=/usr --extra-version=0ubuntu0.2 --toolchain=hardened --libdir=/usr/lib/x86_64-linux-gnu --incdir=/usr/include/x86_64-linux-gnu --enable-gpl --disable-stripping --enable-avresample --enable-avisynth --enable-gnutls --enable-ladspa --enable-libass --enable-libbluray --enable-libbs2b --enable-libcaca --enable-libcdio --enable-libflite --enable-libfontconfig --enable-libfreetype --enable-libfribidi --enable-libgme --enable-libgsm --enable-libmp3lame --enable-libmysofa --enable-libopenjpeg --enable-libopenmpt --enable-libopus --enable-libpulse --enable-librubberband --enable-librsvg --enable-libshine --enable-libsnappy --enable-libsoxr --enable-libspeex --enable-libssh --enable-libtheora --enable-libtwolame --enable-libvorbis --enable-libvpx --enable-libwavpack --enable-libwebp --enable-libx265 --enable-libxml2 --enable-libxvid --enable-libzmq --enable-libzvbi --enable-omx --enable-openal --enable-opengl --enable-sdl2 --enable-libdc1394 --enable-libdrm --enable-libiec61883 --enable-chromaprint --enable-frei0r --enable-libopencv --enable-libx264 --enable-shared\n",
            "  libavutil      55. 78.100 / 55. 78.100\n",
            "  libavcodec     57.107.100 / 57.107.100\n",
            "  libavformat    57. 83.100 / 57. 83.100\n",
            "  libavdevice    57. 10.100 / 57. 10.100\n",
            "  libavfilter     6.107.100 /  6.107.100\n",
            "  libavresample   3.  7.  0 /  3.  7.  0\n",
            "  libswscale      4.  8.100 /  4.  8.100\n",
            "  libswresample   2.  9.100 /  2.  9.100\n",
            "  libpostproc    54.  7.100 / 54.  7.100\n",
            "Guessed Channel Layout for Input Stream #0.0 : stereo\n",
            "Input #0, wav, from './fullsongs/fullsong.wav':\n",
            "  Metadata:\n",
            "    encoder         : Lavf57.83.100\n",
            "  Duration: 00:50:15.79, bitrate: 1411 kb/s\n",
            "    Stream #0:0: Audio: pcm_s16le ([1][0][0][0] / 0x0001), 44100 Hz, stereo, s16, 1411 kb/s\n",
            "Stream mapping:\n",
            "  Stream #0:0 -> #0:0 (pcm_s16le (native) -> mp3 (libmp3lame))\n",
            "Press [q] to stop, [?] for help\n",
            "Output #0, mp3, to './fullsongs/fullsong.mp3':\n",
            "  Metadata:\n",
            "    TSSE            : Lavf57.83.100\n",
            "    Stream #0:0: Audio: mp3 (libmp3lame), 44100 Hz, stereo, s16p, 192 kb/s\n",
            "    Metadata:\n",
            "      encoder         : Lavc57.107.100 libmp3lame\n",
            "size=     512kB time=00:00:22.57 bitrate= 185.8kbits/s speed=45.1x    \rsize=    1024kB time=00:00:43.67 bitrate= 192.1kbits/s speed=43.6x    \rsize=    1280kB time=00:01:03.84 bitrate= 164.2kbits/s speed=42.5x    \rsize=    1792kB time=00:01:23.80 bitrate= 175.2kbits/s speed=41.9x    \rsize=    2304kB time=00:01:44.69 bitrate= 180.3kbits/s speed=41.8x    \rsize=    2816kB time=00:02:05.62 bitrate= 183.6kbits/s speed=41.8x    \rsize=    3328kB time=00:02:25.99 bitrate= 186.7kbits/s speed=41.7x    \rsize=    3840kB time=00:02:46.11 bitrate= 189.4kbits/s speed=41.5x    \rsize=    4352kB time=00:03:08.00 bitrate= 189.6kbits/s speed=41.7x    \rsize=    4864kB time=00:03:28.95 bitrate= 190.7kbits/s speed=41.8x    \rsize=    5376kB time=00:03:50.58 bitrate= 191.0kbits/s speed=41.9x    \rsize=    5888kB time=00:04:12.57 bitrate= 191.0kbits/s speed=42.1x    \rsize=    6400kB time=00:04:34.93 bitrate= 190.7kbits/s speed=42.3x    \rsize=    6912kB time=00:04:56.88 bitrate= 190.7kbits/s speed=42.4x    \rsize=    7424kB time=00:05:20.39 bitrate= 189.8kbits/s speed=42.7x    \rsize=    7936kB time=00:05:43.69 bitrate= 189.2kbits/s speed=42.9x    \rsize=    8448kB time=00:06:05.58 bitrate= 189.3kbits/s speed=  43x    \rsize=    8960kB time=00:06:27.94 bitrate= 189.2kbits/s speed=43.1x    \rsize=    9472kB time=00:06:49.73 bitrate= 189.4kbits/s speed=43.1x    \rsize=    9984kB time=00:07:11.85 bitrate= 189.4kbits/s speed=43.2x    \rsize=   10496kB time=00:07:33.95 bitrate= 189.4kbits/s speed=43.2x    \rsize=   11008kB time=00:07:56.34 bitrate= 189.3kbits/s speed=43.3x    \rsize=   11520kB time=00:08:17.89 bitrate= 189.5kbits/s speed=43.3x    \rsize=   12032kB time=00:08:40.22 bitrate= 189.5kbits/s speed=43.3x    \rsize=   12544kB time=00:09:02.30 bitrate= 189.5kbits/s speed=43.4x    \rsize=   13056kB time=00:09:24.21 bitrate= 189.6kbits/s speed=43.4x    \rsize=   13568kB time=00:09:46.52 bitrate= 189.5kbits/s speed=43.4x    \rsize=   14080kB time=00:10:09.77 bitrate= 189.2kbits/s speed=43.5x    \rsize=   14592kB time=00:10:32.26 bitrate= 189.1kbits/s speed=43.6x    \rsize=   15104kB time=00:10:54.52 bitrate= 189.0kbits/s speed=43.6x    \rsize=   15616kB time=00:11:15.91 bitrate= 189.3kbits/s speed=43.6x    \rsize=   16128kB time=00:11:38.64 bitrate= 189.1kbits/s speed=43.6x    \rsize=   16640kB time=00:12:00.53 bitrate= 189.2kbits/s speed=43.6x    \rsize=   17152kB time=00:12:22.27 bitrate= 189.3kbits/s speed=43.6x    \rsize=   17664kB time=00:12:44.47 bitrate= 189.3kbits/s speed=43.7x    \rsize=   18432kB time=00:13:06.39 bitrate= 192.0kbits/s speed=43.7x    \rsize=   18688kB time=00:13:27.94 bitrate= 189.5kbits/s speed=43.6x    \rsize=   19200kB time=00:13:49.57 bitrate= 189.6kbits/s speed=43.6x    \rsize=   19712kB time=00:14:11.04 bitrate= 189.7kbits/s speed=43.6x    \rsize=   20224kB time=00:14:32.25 bitrate= 189.9kbits/s speed=43.6x    \rsize=   20736kB time=00:14:53.85 bitrate= 190.0kbits/s speed=43.6x    \rsize=   21248kB time=00:15:16.29 bitrate= 190.0kbits/s speed=43.6x    \rsize=   21760kB time=00:15:38.97 bitrate= 189.8kbits/s speed=43.6x    \rsize=   22528kB time=00:16:01.22 bitrate= 192.0kbits/s speed=43.7x    \rsize=   22784kB time=00:16:22.96 bitrate= 189.9kbits/s speed=43.7x    \rsize=   23552kB time=00:16:45.58 bitrate= 191.9kbits/s speed=43.7x    \rsize=   24064kB time=00:17:06.77 bitrate= 192.0kbits/s speed=43.7x    \rsize=   24576kB time=00:17:29.13 bitrate= 191.9kbits/s speed=43.7x    \rsize=   25088kB time=00:17:50.78 bitrate= 191.9kbits/s speed=43.7x    \rsize=   25344kB time=00:18:12.20 bitrate= 190.1kbits/s speed=43.7x    \rsize=   25856kB time=00:18:33.49 bitrate= 190.2kbits/s speed=43.6x    \rsize=   26368kB time=00:18:53.68 bitrate= 190.5kbits/s speed=43.6x    \rsize=   26880kB time=00:19:15.94 bitrate= 190.5kbits/s speed=43.6x    \rsize=   27392kB time=00:19:37.65 bitrate= 190.5kbits/s speed=43.6x    \rsize=   27904kB time=00:19:58.57 bitrate= 190.7kbits/s speed=43.6x    \rsize=   28416kB time=00:20:19.42 bitrate= 190.9kbits/s speed=43.5x    \rsize=   28928kB time=00:20:40.81 bitrate= 191.0kbits/s speed=43.5x    \rsize=   29440kB time=00:21:02.10 bitrate= 191.1kbits/s speed=43.5x    \rsize=   29952kB time=00:21:23.42 bitrate= 191.2kbits/s speed=43.5x    \rsize=   30464kB time=00:21:44.79 bitrate= 191.3kbits/s speed=43.5x    \rsize=   30976kB time=00:22:05.84 bitrate= 191.4kbits/s speed=43.4x    \rsize=   31488kB time=00:22:26.95 bitrate= 191.5kbits/s speed=43.4x    \rsize=   32000kB time=00:22:47.90 bitrate= 191.6kbits/s speed=43.4x    \rsize=   32512kB time=00:23:09.11 bitrate= 191.7kbits/s speed=43.4x    \rsize=   33024kB time=00:23:30.06 bitrate= 191.9kbits/s speed=43.4x    \rsize=   33536kB time=00:23:51.27 bitrate= 191.9kbits/s speed=43.3x    \rsize=   33792kB time=00:24:12.27 bitrate= 190.6kbits/s speed=43.3x    \rsize=   34304kB time=00:24:33.43 bitrate= 190.7kbits/s speed=43.3x    \rsize=   34816kB time=00:24:54.49 bitrate= 190.8kbits/s speed=43.3x    \rsize=   35328kB time=00:25:15.73 bitrate= 190.9kbits/s speed=43.3x    \rsize=   35840kB time=00:25:36.81 bitrate= 191.0kbits/s speed=43.3x    \rsize=   36352kB time=00:25:57.76 bitrate= 191.2kbits/s speed=43.2x    \rsize=   36864kB time=00:26:18.76 bitrate= 191.3kbits/s speed=43.2x    \rsize=   37376kB time=00:26:39.73 bitrate= 191.4kbits/s speed=43.2x    \rsize=   37888kB time=00:27:00.82 bitrate= 191.5kbits/s speed=43.2x    \rsize=   38400kB time=00:27:22.00 bitrate= 191.6kbits/s speed=43.2x    \rsize=   38912kB time=00:27:43.40 bitrate= 191.6kbits/s speed=43.2x    \rsize=   39424kB time=00:28:04.63 bitrate= 191.7kbits/s speed=43.2x    \rsize=   39936kB time=00:28:25.61 bitrate= 191.8kbits/s speed=43.2x    \rsize=   40448kB time=00:28:46.09 bitrate= 192.0kbits/s speed=43.1x    \rsize=   40704kB time=00:29:07.20 bitrate= 190.8kbits/s speed=43.1x    \rsize=   41216kB time=00:29:28.15 bitrate= 191.0kbits/s speed=43.1x    \rsize=   41728kB time=00:29:49.46 bitrate= 191.0kbits/s speed=43.1x    \rsize=   42240kB time=00:30:10.10 bitrate= 191.2kbits/s speed=43.1x    \rsize=   42752kB time=00:30:31.26 bitrate= 191.2kbits/s speed=43.1x    \rsize=   43264kB time=00:30:52.29 bitrate= 191.3kbits/s speed=  43x    \rsize=   43776kB time=00:31:13.13 bitrate= 191.5kbits/s speed=  43x    \rsize=   44288kB time=00:31:34.19 bitrate= 191.5kbits/s speed=  43x    \rsize=   44800kB time=00:31:55.63 bitrate= 191.6kbits/s speed=  43x    \rsize=   45312kB time=00:32:16.53 bitrate= 191.7kbits/s speed=  43x    \rsize=   45824kB time=00:32:37.82 bitrate= 191.7kbits/s speed=  43x    \rsize=   46336kB time=00:32:58.54 bitrate= 191.9kbits/s speed=  43x    \rsize=   46848kB time=00:33:19.49 bitrate= 191.9kbits/s speed=  43x    \rsize=   47104kB time=00:33:40.31 bitrate= 191.0kbits/s speed=  43x    \rsize=   47616kB time=00:34:01.31 bitrate= 191.1kbits/s speed=42.9x    \rsize=   48128kB time=00:34:22.18 bitrate= 191.2kbits/s speed=42.9x    \rsize=   48640kB time=00:34:43.34 bitrate= 191.3kbits/s speed=42.9x    \rsize=   49152kB time=00:35:03.82 bitrate= 191.4kbits/s speed=42.9x    \rsize=   49664kB time=00:35:24.90 bitrate= 191.5kbits/s speed=42.9x    \rsize=   50176kB time=00:35:45.77 bitrate= 191.6kbits/s speed=42.9x    \rsize=   50688kB time=00:36:06.96 bitrate= 191.6kbits/s speed=42.9x    \rsize=   51200kB time=00:36:28.72 bitrate= 191.6kbits/s speed=42.9x    \rsize=   51712kB time=00:36:51.29 bitrate= 191.6kbits/s speed=42.9x    \rsize=   52224kB time=00:37:13.28 bitrate= 191.6kbits/s speed=42.9x    \rsize=   52736kB time=00:37:34.89 bitrate= 191.6kbits/s speed=42.9x    \rsize=   53248kB time=00:37:57.74 bitrate= 191.5kbits/s speed=42.9x    \rsize=   53760kB time=00:38:19.69 bitrate= 191.5kbits/s speed=  43x    \rsize=   54272kB time=00:38:41.84 bitrate= 191.5kbits/s speed=  43x    \rsize=   54784kB time=00:39:04.46 bitrate= 191.4kbits/s speed=  43x    \rsize=   55296kB time=00:39:26.19 bitrate= 191.4kbits/s speed=  43x    \rsize=   55808kB time=00:39:48.61 bitrate= 191.4kbits/s speed=  43x    \rsize=   56320kB time=00:40:10.21 bitrate= 191.4kbits/s speed=  43x    \rsize=   56832kB time=00:40:32.41 bitrate= 191.4kbits/s speed=  43x    \rsize=   57344kB time=00:40:53.81 bitrate= 191.4kbits/s speed=  43x    \rsize=   57856kB time=00:41:15.36 bitrate= 191.5kbits/s speed=  43x    \rsize=   58368kB time=00:41:36.81 bitrate= 191.5kbits/s speed=  43x    \rsize=   58880kB time=00:41:59.30 bitrate= 191.5kbits/s speed=  43x    \rsize=   59392kB time=00:42:20.20 bitrate= 191.5kbits/s speed=  43x    \rsize=   59904kB time=00:42:42.35 bitrate= 191.5kbits/s speed=  43x    \rsize=   60416kB time=00:43:04.55 bitrate= 191.5kbits/s speed=  43x    \rsize=   60928kB time=00:43:26.99 bitrate= 191.5kbits/s speed=43.1x    \rsize=   61440kB time=00:43:48.18 bitrate= 191.5kbits/s speed=43.1x    \rsize=   61952kB time=00:44:09.75 bitrate= 191.5kbits/s speed=43.1x    \rsize=   62464kB time=00:44:31.85 bitrate= 191.5kbits/s speed=43.1x    \rsize=   62976kB time=00:44:53.64 bitrate= 191.5kbits/s speed=43.1x    \rsize=   63488kB time=00:45:16.00 bitrate= 191.5kbits/s speed=43.1x    \rsize=   64000kB time=00:45:38.70 bitrate= 191.4kbits/s speed=43.1x    \rsize=   64512kB time=00:46:01.09 bitrate= 191.4kbits/s speed=43.1x    \rsize=   65024kB time=00:46:23.58 bitrate= 191.4kbits/s speed=43.1x    \rsize=   65536kB time=00:46:45.23 bitrate= 191.4kbits/s speed=43.1x    \rsize=   66048kB time=00:47:07.20 bitrate= 191.4kbits/s speed=43.1x    \rsize=   66560kB time=00:47:29.35 bitrate= 191.4kbits/s speed=43.1x    \rsize=   67072kB time=00:47:51.45 bitrate= 191.4kbits/s speed=43.2x    \rsize=   67584kB time=00:48:13.03 bitrate= 191.4kbits/s speed=43.2x    \rsize=   68096kB time=00:48:34.77 bitrate= 191.4kbits/s speed=43.2x    \rsize=   68608kB time=00:48:56.55 bitrate= 191.4kbits/s speed=43.2x    \rsize=   69120kB time=00:49:18.65 bitrate= 191.4kbits/s speed=43.2x    \rsize=   69632kB time=00:49:39.24 bitrate= 191.5kbits/s speed=43.1x    \rsize=   70144kB time=00:50:00.13 bitrate= 191.5kbits/s speed=43.1x    \rsize=   70684kB time=00:50:15.81 bitrate= 192.0kbits/s speed=43.1x    \n",
            "video:0kB audio:70684kB subtitle:0kB other streams:0kB global headers:0kB muxing overhead: 0.000927%\n"
          ]
        }
      ]
    },
    {
      "cell_type": "code",
      "metadata": {
        "colab": {
          "base_uri": "https://localhost:8080/"
        },
        "id": "V_x7iR_zXkFJ",
        "outputId": "a24123f6-28f6-4821-c252-cf9cbf382fb4"
      },
      "source": [
        "%%bash\n",
        "ls -alh ./fullsongs/"
      ],
      "execution_count": 59,
      "outputs": [
        {
          "output_type": "stream",
          "name": "stdout",
          "text": [
            "total 577M\n",
            "drwxr-xr-x 3 root root 4.0K Sep 30 15:40 .\n",
            "drwxr-xr-x 1 root root 4.0K Sep 30 15:40 ..\n",
            "-rw-r--r-- 1 root root  70M Sep 30 15:41 fullsong.mp3\n",
            "-rw-r--r-- 1 root root 508M Sep 30 15:39 fullsong.wav\n",
            "drwxr-xr-x 2 root root 4.0K Sep 30 15:39 .ipynb_checkpoints\n"
          ]
        }
      ]
    },
    {
      "cell_type": "code",
      "metadata": {
        "id": "STusn_WfYq0o"
      },
      "source": [
        "# To delete the much larger .wav file\n",
        "!rm ./fullsongs/fullsong.wav"
      ],
      "execution_count": 60,
      "outputs": []
    }
  ]
}